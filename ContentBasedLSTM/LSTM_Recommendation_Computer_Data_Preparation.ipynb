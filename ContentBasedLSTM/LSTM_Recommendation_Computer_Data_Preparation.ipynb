{
  "nbformat": 4,
  "nbformat_minor": 0,
  "metadata": {
    "colab": {
      "name": "LSTM_Recommendation_Computer_Data_Preparation.ipynb",
      "provenance": [],
      "collapsed_sections": [],
      "toc_visible": true,
      "mount_file_id": "19juDfKtBIZo5bvECLw9mW9RR3bKm-g0P",
      "authorship_tag": "ABX9TyNxB1NN0yJw7clsktSsFXIY",
      "include_colab_link": true
    },
    "kernelspec": {
      "name": "python3",
      "display_name": "Python 3"
    },
    "language_info": {
      "name": "python"
    }
  },
  "cells": [
    {
      "cell_type": "markdown",
      "metadata": {
        "id": "view-in-github",
        "colab_type": "text"
      },
      "source": [
        "<a href=\"https://colab.research.google.com/github/shubhamksingh1/RecommendationEngine/blob/main/ContentBasedLSTM/LSTM_Recommendation_Computer_Data_Preparation.ipynb\" target=\"_parent\"><img src=\"https://colab.research.google.com/assets/colab-badge.svg\" alt=\"Open In Colab\"/></a>"
      ]
    },
    {
      "cell_type": "markdown",
      "metadata": {
        "id": "bM969vIUxcXk"
      },
      "source": [
        "## Imports"
      ]
    },
    {
      "cell_type": "code",
      "metadata": {
        "colab": {
          "base_uri": "https://localhost:8080/"
        },
        "id": "s0bB56GZxBNc",
        "outputId": "eadb4fb3-7c78-4624-9c36-154338fbad44"
      },
      "source": [
        "import pandas as pd\n",
        "import nltk\n",
        "nltk.download('stopwords')\n",
        "from nltk.corpus import stopwords\n",
        "import re\n",
        "nltk.download('wordnet') \n",
        "from nltk.stem.wordnet import WordNetLemmatizer\n",
        "from bs4 import BeautifulSoup"
      ],
      "execution_count": null,
      "outputs": [
        {
          "output_type": "stream",
          "text": [
            "[nltk_data] Downloading package stopwords to /root/nltk_data...\n",
            "[nltk_data]   Package stopwords is already up-to-date!\n",
            "[nltk_data] Downloading package wordnet to /root/nltk_data...\n",
            "[nltk_data]   Package wordnet is already up-to-date!\n"
          ],
          "name": "stdout"
        }
      ]
    },
    {
      "cell_type": "markdown",
      "metadata": {
        "id": "zoJtsoHMxlVy"
      },
      "source": [
        "## Data Read and Processing"
      ]
    },
    {
      "cell_type": "code",
      "metadata": {
        "id": "WozjLMaHxhYZ"
      },
      "source": [
        "df1 = pd.read_csv(\"/content/drive/MyDrive/Content_Recommendation/LSTM_Similarity/Computer_Product/computer_df_subcat.csv\")"
      ],
      "execution_count": null,
      "outputs": []
    },
    {
      "cell_type": "code",
      "metadata": {
        "colab": {
          "base_uri": "https://localhost:8080/"
        },
        "id": "6M8HaK0Nx831",
        "outputId": "5726ad9a-69cf-4958-d1fe-ede3b15ef45e"
      },
      "source": [
        "df1.shape"
      ],
      "execution_count": null,
      "outputs": [
        {
          "output_type": "execute_result",
          "data": {
            "text/plain": [
              "(578, 4)"
            ]
          },
          "metadata": {
            "tags": []
          },
          "execution_count": 41
        }
      ]
    },
    {
      "cell_type": "code",
      "metadata": {
        "id": "IlQ0fSojx-DC"
      },
      "source": [
        "df1 = df1[['product_name','description','subcategory']]"
      ],
      "execution_count": null,
      "outputs": []
    },
    {
      "cell_type": "code",
      "metadata": {
        "colab": {
          "base_uri": "https://localhost:8080/"
        },
        "id": "HK2YDbQvyA35",
        "outputId": "4a3ffc1e-fe5b-42bf-c8ed-c533fc65af8f"
      },
      "source": [
        "df1.shape"
      ],
      "execution_count": null,
      "outputs": [
        {
          "output_type": "execute_result",
          "data": {
            "text/plain": [
              "(578, 3)"
            ]
          },
          "metadata": {
            "tags": []
          },
          "execution_count": 43
        }
      ]
    },
    {
      "cell_type": "code",
      "metadata": {
        "colab": {
          "base_uri": "https://localhost:8080/",
          "height": 419
        },
        "id": "s05sslYtyPq5",
        "outputId": "1a6f28b7-6957-4bea-e444-bf73f19b1f34"
      },
      "source": [
        "df1"
      ],
      "execution_count": null,
      "outputs": [
        {
          "output_type": "execute_result",
          "data": {
            "text/html": [
              "<div>\n",
              "<style scoped>\n",
              "    .dataframe tbody tr th:only-of-type {\n",
              "        vertical-align: middle;\n",
              "    }\n",
              "\n",
              "    .dataframe tbody tr th {\n",
              "        vertical-align: top;\n",
              "    }\n",
              "\n",
              "    .dataframe thead th {\n",
              "        text-align: right;\n",
              "    }\n",
              "</style>\n",
              "<table border=\"1\" class=\"dataframe\">\n",
              "  <thead>\n",
              "    <tr style=\"text-align: right;\">\n",
              "      <th></th>\n",
              "      <th>product_name</th>\n",
              "      <th>description</th>\n",
              "      <th>subcategory</th>\n",
              "    </tr>\n",
              "  </thead>\n",
              "  <tbody>\n",
              "    <tr>\n",
              "      <th>0</th>\n",
              "      <td>D-Link DAP1320</td>\n",
              "      <td>Key Features of D-Link DAP1320 QRS app(iOS,And...</td>\n",
              "      <td>Router</td>\n",
              "    </tr>\n",
              "    <tr>\n",
              "      <th>1</th>\n",
              "      <td>RoQ Slim Multimedia 105key Flexible Wired USB ...</td>\n",
              "      <td>Key Features of RoQ Slim Multimedia 105key Fle...</td>\n",
              "      <td>Keyboard</td>\n",
              "    </tr>\n",
              "    <tr>\n",
              "      <th>2</th>\n",
              "      <td>cm key 354 Wired USB Tablet Keyboard</td>\n",
              "      <td>Key Features of cm key 354 Wired USB Tablet Ke...</td>\n",
              "      <td>Keyboard</td>\n",
              "    </tr>\n",
              "    <tr>\n",
              "      <th>3</th>\n",
              "      <td>JRB 1038 Smallest Mobile Powered By OTG Enable...</td>\n",
              "      <td>Key Features of JRB 1038 Smallest Mobile Power...</td>\n",
              "      <td>USB Fan</td>\n",
              "    </tr>\n",
              "    <tr>\n",
              "      <th>4</th>\n",
              "      <td>JRB 1019 Smallest Mobile Powered By OTG Enable...</td>\n",
              "      <td>Key Features of JRB 1019 Smallest Mobile Power...</td>\n",
              "      <td>USB Fan</td>\n",
              "    </tr>\n",
              "    <tr>\n",
              "      <th>...</th>\n",
              "      <td>...</td>\n",
              "      <td>...</td>\n",
              "      <td>...</td>\n",
              "    </tr>\n",
              "    <tr>\n",
              "      <th>573</th>\n",
              "      <td>PRINT SHAPES MSI unleash the dragon Laptop Ski...</td>\n",
              "      <td>Key Features of PRINT SHAPES MSI unleash the d...</td>\n",
              "      <td>Laptop Skin and Mousepad</td>\n",
              "    </tr>\n",
              "    <tr>\n",
              "      <th>574</th>\n",
              "      <td>PRINT SHAPES monster with precious Laptop Skin...</td>\n",
              "      <td>Key Features of PRINT SHAPES monster with prec...</td>\n",
              "      <td>Laptop Skin and Mousepad</td>\n",
              "    </tr>\n",
              "    <tr>\n",
              "      <th>575</th>\n",
              "      <td>PRINT SHAPES Red bull Laptop Skin with Mouse p...</td>\n",
              "      <td>Key Features of PRINT SHAPES Red bull Laptop S...</td>\n",
              "      <td>Laptop Skin and Mousepad</td>\n",
              "    </tr>\n",
              "    <tr>\n",
              "      <th>576</th>\n",
              "      <td>PRINT SHAPES I scare them first Laptop Skin wi...</td>\n",
              "      <td>Key Features of PRINT SHAPES I scare them firs...</td>\n",
              "      <td>Laptop Skin and Mousepad</td>\n",
              "    </tr>\n",
              "    <tr>\n",
              "      <th>577</th>\n",
              "      <td>PRINT SHAPES msi dragon logo Laptop Skin with ...</td>\n",
              "      <td>Key Features of PRINT SHAPES msi dragon logo L...</td>\n",
              "      <td>Laptop Skin and Mousepad</td>\n",
              "    </tr>\n",
              "  </tbody>\n",
              "</table>\n",
              "<p>578 rows × 3 columns</p>\n",
              "</div>"
            ],
            "text/plain": [
              "                                          product_name  ...               subcategory\n",
              "0                                       D-Link DAP1320  ...                    Router\n",
              "1    RoQ Slim Multimedia 105key Flexible Wired USB ...  ...                  Keyboard\n",
              "2                 cm key 354 Wired USB Tablet Keyboard  ...                  Keyboard\n",
              "3    JRB 1038 Smallest Mobile Powered By OTG Enable...  ...                   USB Fan\n",
              "4    JRB 1019 Smallest Mobile Powered By OTG Enable...  ...                   USB Fan\n",
              "..                                                 ...  ...                       ...\n",
              "573  PRINT SHAPES MSI unleash the dragon Laptop Ski...  ...  Laptop Skin and Mousepad\n",
              "574  PRINT SHAPES monster with precious Laptop Skin...  ...  Laptop Skin and Mousepad\n",
              "575  PRINT SHAPES Red bull Laptop Skin with Mouse p...  ...  Laptop Skin and Mousepad\n",
              "576  PRINT SHAPES I scare them first Laptop Skin wi...  ...  Laptop Skin and Mousepad\n",
              "577  PRINT SHAPES msi dragon logo Laptop Skin with ...  ...  Laptop Skin and Mousepad\n",
              "\n",
              "[578 rows x 3 columns]"
            ]
          },
          "metadata": {
            "tags": []
          },
          "execution_count": 44
        }
      ]
    },
    {
      "cell_type": "code",
      "metadata": {
        "id": "_YqJLm8DyQTB"
      },
      "source": [
        "df2 = pd.read_csv(\"/content/drive/MyDrive/Content_Recommendation/LSTM_Similarity/Computer_Product/computer_scrape_data.csv\")"
      ],
      "execution_count": null,
      "outputs": []
    },
    {
      "cell_type": "code",
      "metadata": {
        "colab": {
          "base_uri": "https://localhost:8080/"
        },
        "id": "JbPr75DbyXo7",
        "outputId": "dcbe5df0-d431-4df8-eada-65cfa83cd656"
      },
      "source": [
        "df2.shape"
      ],
      "execution_count": null,
      "outputs": [
        {
          "output_type": "execute_result",
          "data": {
            "text/plain": [
              "(268, 4)"
            ]
          },
          "metadata": {
            "tags": []
          },
          "execution_count": 46
        }
      ]
    },
    {
      "cell_type": "code",
      "metadata": {
        "colab": {
          "base_uri": "https://localhost:8080/",
          "height": 589
        },
        "id": "gdBBt1EpyYqZ",
        "outputId": "239f8345-d20a-43f5-d25a-e2296e31742b"
      },
      "source": [
        "df2"
      ],
      "execution_count": null,
      "outputs": [
        {
          "output_type": "execute_result",
          "data": {
            "text/html": [
              "<div>\n",
              "<style scoped>\n",
              "    .dataframe tbody tr th:only-of-type {\n",
              "        vertical-align: middle;\n",
              "    }\n",
              "\n",
              "    .dataframe tbody tr th {\n",
              "        vertical-align: top;\n",
              "    }\n",
              "\n",
              "    .dataframe thead th {\n",
              "        text-align: right;\n",
              "    }\n",
              "</style>\n",
              "<table border=\"1\" class=\"dataframe\">\n",
              "  <thead>\n",
              "    <tr style=\"text-align: right;\">\n",
              "      <th></th>\n",
              "      <th>title</th>\n",
              "      <th>description</th>\n",
              "      <th>description_bottom</th>\n",
              "      <th>category</th>\n",
              "    </tr>\n",
              "  </thead>\n",
              "  <tbody>\n",
              "    <tr>\n",
              "      <th>0</th>\n",
              "      <td>SAMSUNG 870 EVO 1TB 2.5 Inch SATA III Internal...</td>\n",
              "      <td>About this item This fits your . Make sure thi...</td>\n",
              "      <td>Capacity: 1TB The latest 870 EVO has indisputa...</td>\n",
              "      <td>data storage</td>\n",
              "    </tr>\n",
              "    <tr>\n",
              "      <th>1</th>\n",
              "      <td>SAMSUNG 860 QVO 1TB Solid State Drive (MZ-76Q1...</td>\n",
              "      <td>About this item This fits your . Make sure thi...</td>\n",
              "      <td>Capacity: 1TB | \\n\\nPattern Name: Single Boot ...</td>\n",
              "      <td>data storage</td>\n",
              "    </tr>\n",
              "    <tr>\n",
              "      <th>2</th>\n",
              "      <td>Samsung Electronics Samsung 850 Pro-Series 2.5...</td>\n",
              "      <td>About this item This fits your . Make sure thi...</td>\n",
              "      <td>Product Description The Samsung 850 PRO will k...</td>\n",
              "      <td>data storage</td>\n",
              "    </tr>\n",
              "    <tr>\n",
              "      <th>3</th>\n",
              "      <td>Samsung SMX-K45 Up-scaling HDMI Camcorder with...</td>\n",
              "      <td>NaN</td>\n",
              "      <td>Color: Blue From the Manufacturer With Samsung...</td>\n",
              "      <td>data storage</td>\n",
              "    </tr>\n",
              "    <tr>\n",
              "      <th>4</th>\n",
              "      <td>Samsung 4K NVR, no HDD, supports: 4 channels X...</td>\n",
              "      <td>NaN</td>\n",
              "      <td>4K NVR, no HDD, supports: 4 channels with 4 Po...</td>\n",
              "      <td>data storage</td>\n",
              "    </tr>\n",
              "    <tr>\n",
              "      <th>...</th>\n",
              "      <td>...</td>\n",
              "      <td>...</td>\n",
              "      <td>...</td>\n",
              "      <td>...</td>\n",
              "    </tr>\n",
              "    <tr>\n",
              "      <th>263</th>\n",
              "      <td>Dell PowerEdge R320, R420, R620, R330, R430, R...</td>\n",
              "      <td>This fits your . Make sure this fits by enteri...</td>\n",
              "      <td>NaN</td>\n",
              "      <td>servers</td>\n",
              "    </tr>\n",
              "    <tr>\n",
              "      <th>264</th>\n",
              "      <td>HPE 873830-S01 ProLiant MicroServer Gen10 Ultr...</td>\n",
              "      <td>About this item This fits your . Make sure thi...</td>\n",
              "      <td>NaN</td>\n",
              "      <td>servers</td>\n",
              "    </tr>\n",
              "    <tr>\n",
              "      <th>265</th>\n",
              "      <td>USR-TCP232-302 Tiny Size Serial RS232 to Ether...</td>\n",
              "      <td>About this item This fits your . Make sure thi...</td>\n",
              "      <td>NaN</td>\n",
              "      <td>servers</td>\n",
              "    </tr>\n",
              "    <tr>\n",
              "      <th>266</th>\n",
              "      <td>Silicone Face Cover Pad for Oculus Quest 2 wit...</td>\n",
              "      <td>This fits your . Make sure this fits by enteri...</td>\n",
              "      <td>NaN</td>\n",
              "      <td>servers</td>\n",
              "    </tr>\n",
              "    <tr>\n",
              "      <th>267</th>\n",
              "      <td>Dell Precision 7000 7550 15.6\" Mobile Workstat...</td>\n",
              "      <td>About this item This fits your . Make sure thi...</td>\n",
              "      <td>NaN</td>\n",
              "      <td>servers</td>\n",
              "    </tr>\n",
              "  </tbody>\n",
              "</table>\n",
              "<p>268 rows × 4 columns</p>\n",
              "</div>"
            ],
            "text/plain": [
              "                                                 title  ...      category\n",
              "0    SAMSUNG 870 EVO 1TB 2.5 Inch SATA III Internal...  ...  data storage\n",
              "1    SAMSUNG 860 QVO 1TB Solid State Drive (MZ-76Q1...  ...  data storage\n",
              "2    Samsung Electronics Samsung 850 Pro-Series 2.5...  ...  data storage\n",
              "3    Samsung SMX-K45 Up-scaling HDMI Camcorder with...  ...  data storage\n",
              "4    Samsung 4K NVR, no HDD, supports: 4 channels X...  ...  data storage\n",
              "..                                                 ...  ...           ...\n",
              "263  Dell PowerEdge R320, R420, R620, R330, R430, R...  ...       servers\n",
              "264  HPE 873830-S01 ProLiant MicroServer Gen10 Ultr...  ...       servers\n",
              "265  USR-TCP232-302 Tiny Size Serial RS232 to Ether...  ...       servers\n",
              "266  Silicone Face Cover Pad for Oculus Quest 2 wit...  ...       servers\n",
              "267  Dell Precision 7000 7550 15.6\" Mobile Workstat...  ...       servers\n",
              "\n",
              "[268 rows x 4 columns]"
            ]
          },
          "metadata": {
            "tags": []
          },
          "execution_count": 47
        }
      ]
    },
    {
      "cell_type": "code",
      "metadata": {
        "colab": {
          "base_uri": "https://localhost:8080/"
        },
        "id": "-Xc7kX5-yZHE",
        "outputId": "1beba13f-a683-4539-f2ba-bd0a9076b983"
      },
      "source": [
        "df2.isna().sum()"
      ],
      "execution_count": null,
      "outputs": [
        {
          "output_type": "execute_result",
          "data": {
            "text/plain": [
              "title                   0\n",
              "description            10\n",
              "description_bottom    115\n",
              "category                0\n",
              "dtype: int64"
            ]
          },
          "metadata": {
            "tags": []
          },
          "execution_count": 48
        }
      ]
    },
    {
      "cell_type": "code",
      "metadata": {
        "id": "-JiOdQXCymKT"
      },
      "source": [
        "df2.dropna(how='all',subset=['description','description_bottom'],inplace=True)"
      ],
      "execution_count": null,
      "outputs": []
    },
    {
      "cell_type": "code",
      "metadata": {
        "colab": {
          "base_uri": "https://localhost:8080/"
        },
        "id": "ex2xwNVFyt4N",
        "outputId": "ac8afc3e-d2f7-47f3-cf75-d06611aedf69"
      },
      "source": [
        "df2.shape"
      ],
      "execution_count": null,
      "outputs": [
        {
          "output_type": "execute_result",
          "data": {
            "text/plain": [
              "(266, 4)"
            ]
          },
          "metadata": {
            "tags": []
          },
          "execution_count": 50
        }
      ]
    },
    {
      "cell_type": "code",
      "metadata": {
        "colab": {
          "base_uri": "https://localhost:8080/"
        },
        "id": "64PpUcIt1OeM",
        "outputId": "8618aca9-dc65-4d69-877f-c7146529fc1f"
      },
      "source": [
        "df2.isna().sum()"
      ],
      "execution_count": null,
      "outputs": [
        {
          "output_type": "execute_result",
          "data": {
            "text/plain": [
              "title                   0\n",
              "description             8\n",
              "description_bottom    113\n",
              "category                0\n",
              "dtype: int64"
            ]
          },
          "metadata": {
            "tags": []
          },
          "execution_count": 51
        }
      ]
    },
    {
      "cell_type": "code",
      "metadata": {
        "colab": {
          "base_uri": "https://localhost:8080/",
          "height": 589
        },
        "id": "KZ1FTFMo1Rvu",
        "outputId": "e8ad0f70-1605-4992-e0fc-8b9d0501696a"
      },
      "source": [
        "df2"
      ],
      "execution_count": null,
      "outputs": [
        {
          "output_type": "execute_result",
          "data": {
            "text/html": [
              "<div>\n",
              "<style scoped>\n",
              "    .dataframe tbody tr th:only-of-type {\n",
              "        vertical-align: middle;\n",
              "    }\n",
              "\n",
              "    .dataframe tbody tr th {\n",
              "        vertical-align: top;\n",
              "    }\n",
              "\n",
              "    .dataframe thead th {\n",
              "        text-align: right;\n",
              "    }\n",
              "</style>\n",
              "<table border=\"1\" class=\"dataframe\">\n",
              "  <thead>\n",
              "    <tr style=\"text-align: right;\">\n",
              "      <th></th>\n",
              "      <th>title</th>\n",
              "      <th>description</th>\n",
              "      <th>description_bottom</th>\n",
              "      <th>category</th>\n",
              "    </tr>\n",
              "  </thead>\n",
              "  <tbody>\n",
              "    <tr>\n",
              "      <th>0</th>\n",
              "      <td>SAMSUNG 870 EVO 1TB 2.5 Inch SATA III Internal...</td>\n",
              "      <td>About this item This fits your . Make sure thi...</td>\n",
              "      <td>Capacity: 1TB The latest 870 EVO has indisputa...</td>\n",
              "      <td>data storage</td>\n",
              "    </tr>\n",
              "    <tr>\n",
              "      <th>1</th>\n",
              "      <td>SAMSUNG 860 QVO 1TB Solid State Drive (MZ-76Q1...</td>\n",
              "      <td>About this item This fits your . Make sure thi...</td>\n",
              "      <td>Capacity: 1TB | \\n\\nPattern Name: Single Boot ...</td>\n",
              "      <td>data storage</td>\n",
              "    </tr>\n",
              "    <tr>\n",
              "      <th>2</th>\n",
              "      <td>Samsung Electronics Samsung 850 Pro-Series 2.5...</td>\n",
              "      <td>About this item This fits your . Make sure thi...</td>\n",
              "      <td>Product Description The Samsung 850 PRO will k...</td>\n",
              "      <td>data storage</td>\n",
              "    </tr>\n",
              "    <tr>\n",
              "      <th>3</th>\n",
              "      <td>Samsung SMX-K45 Up-scaling HDMI Camcorder with...</td>\n",
              "      <td>NaN</td>\n",
              "      <td>Color: Blue From the Manufacturer With Samsung...</td>\n",
              "      <td>data storage</td>\n",
              "    </tr>\n",
              "    <tr>\n",
              "      <th>4</th>\n",
              "      <td>Samsung 4K NVR, no HDD, supports: 4 channels X...</td>\n",
              "      <td>NaN</td>\n",
              "      <td>4K NVR, no HDD, supports: 4 channels with 4 Po...</td>\n",
              "      <td>data storage</td>\n",
              "    </tr>\n",
              "    <tr>\n",
              "      <th>...</th>\n",
              "      <td>...</td>\n",
              "      <td>...</td>\n",
              "      <td>...</td>\n",
              "      <td>...</td>\n",
              "    </tr>\n",
              "    <tr>\n",
              "      <th>263</th>\n",
              "      <td>Dell PowerEdge R320, R420, R620, R330, R430, R...</td>\n",
              "      <td>This fits your . Make sure this fits by enteri...</td>\n",
              "      <td>NaN</td>\n",
              "      <td>servers</td>\n",
              "    </tr>\n",
              "    <tr>\n",
              "      <th>264</th>\n",
              "      <td>HPE 873830-S01 ProLiant MicroServer Gen10 Ultr...</td>\n",
              "      <td>About this item This fits your . Make sure thi...</td>\n",
              "      <td>NaN</td>\n",
              "      <td>servers</td>\n",
              "    </tr>\n",
              "    <tr>\n",
              "      <th>265</th>\n",
              "      <td>USR-TCP232-302 Tiny Size Serial RS232 to Ether...</td>\n",
              "      <td>About this item This fits your . Make sure thi...</td>\n",
              "      <td>NaN</td>\n",
              "      <td>servers</td>\n",
              "    </tr>\n",
              "    <tr>\n",
              "      <th>266</th>\n",
              "      <td>Silicone Face Cover Pad for Oculus Quest 2 wit...</td>\n",
              "      <td>This fits your . Make sure this fits by enteri...</td>\n",
              "      <td>NaN</td>\n",
              "      <td>servers</td>\n",
              "    </tr>\n",
              "    <tr>\n",
              "      <th>267</th>\n",
              "      <td>Dell Precision 7000 7550 15.6\" Mobile Workstat...</td>\n",
              "      <td>About this item This fits your . Make sure thi...</td>\n",
              "      <td>NaN</td>\n",
              "      <td>servers</td>\n",
              "    </tr>\n",
              "  </tbody>\n",
              "</table>\n",
              "<p>266 rows × 4 columns</p>\n",
              "</div>"
            ],
            "text/plain": [
              "                                                 title  ...      category\n",
              "0    SAMSUNG 870 EVO 1TB 2.5 Inch SATA III Internal...  ...  data storage\n",
              "1    SAMSUNG 860 QVO 1TB Solid State Drive (MZ-76Q1...  ...  data storage\n",
              "2    Samsung Electronics Samsung 850 Pro-Series 2.5...  ...  data storage\n",
              "3    Samsung SMX-K45 Up-scaling HDMI Camcorder with...  ...  data storage\n",
              "4    Samsung 4K NVR, no HDD, supports: 4 channels X...  ...  data storage\n",
              "..                                                 ...  ...           ...\n",
              "263  Dell PowerEdge R320, R420, R620, R330, R430, R...  ...       servers\n",
              "264  HPE 873830-S01 ProLiant MicroServer Gen10 Ultr...  ...       servers\n",
              "265  USR-TCP232-302 Tiny Size Serial RS232 to Ether...  ...       servers\n",
              "266  Silicone Face Cover Pad for Oculus Quest 2 wit...  ...       servers\n",
              "267  Dell Precision 7000 7550 15.6\" Mobile Workstat...  ...       servers\n",
              "\n",
              "[266 rows x 4 columns]"
            ]
          },
          "metadata": {
            "tags": []
          },
          "execution_count": 52
        }
      ]
    },
    {
      "cell_type": "code",
      "metadata": {
        "id": "lMcw_CKz1Wqq"
      },
      "source": [
        "df2.fillna(\" \",inplace=True)"
      ],
      "execution_count": null,
      "outputs": []
    },
    {
      "cell_type": "code",
      "metadata": {
        "colab": {
          "base_uri": "https://localhost:8080/",
          "height": 589
        },
        "id": "_SBhgS0r1bRh",
        "outputId": "d6efa647-9181-4fc8-9781-e4c59e87b3b4"
      },
      "source": [
        "df2"
      ],
      "execution_count": null,
      "outputs": [
        {
          "output_type": "execute_result",
          "data": {
            "text/html": [
              "<div>\n",
              "<style scoped>\n",
              "    .dataframe tbody tr th:only-of-type {\n",
              "        vertical-align: middle;\n",
              "    }\n",
              "\n",
              "    .dataframe tbody tr th {\n",
              "        vertical-align: top;\n",
              "    }\n",
              "\n",
              "    .dataframe thead th {\n",
              "        text-align: right;\n",
              "    }\n",
              "</style>\n",
              "<table border=\"1\" class=\"dataframe\">\n",
              "  <thead>\n",
              "    <tr style=\"text-align: right;\">\n",
              "      <th></th>\n",
              "      <th>title</th>\n",
              "      <th>description</th>\n",
              "      <th>description_bottom</th>\n",
              "      <th>category</th>\n",
              "    </tr>\n",
              "  </thead>\n",
              "  <tbody>\n",
              "    <tr>\n",
              "      <th>0</th>\n",
              "      <td>SAMSUNG 870 EVO 1TB 2.5 Inch SATA III Internal...</td>\n",
              "      <td>About this item This fits your . Make sure thi...</td>\n",
              "      <td>Capacity: 1TB The latest 870 EVO has indisputa...</td>\n",
              "      <td>data storage</td>\n",
              "    </tr>\n",
              "    <tr>\n",
              "      <th>1</th>\n",
              "      <td>SAMSUNG 860 QVO 1TB Solid State Drive (MZ-76Q1...</td>\n",
              "      <td>About this item This fits your . Make sure thi...</td>\n",
              "      <td>Capacity: 1TB | \\n\\nPattern Name: Single Boot ...</td>\n",
              "      <td>data storage</td>\n",
              "    </tr>\n",
              "    <tr>\n",
              "      <th>2</th>\n",
              "      <td>Samsung Electronics Samsung 850 Pro-Series 2.5...</td>\n",
              "      <td>About this item This fits your . Make sure thi...</td>\n",
              "      <td>Product Description The Samsung 850 PRO will k...</td>\n",
              "      <td>data storage</td>\n",
              "    </tr>\n",
              "    <tr>\n",
              "      <th>3</th>\n",
              "      <td>Samsung SMX-K45 Up-scaling HDMI Camcorder with...</td>\n",
              "      <td></td>\n",
              "      <td>Color: Blue From the Manufacturer With Samsung...</td>\n",
              "      <td>data storage</td>\n",
              "    </tr>\n",
              "    <tr>\n",
              "      <th>4</th>\n",
              "      <td>Samsung 4K NVR, no HDD, supports: 4 channels X...</td>\n",
              "      <td></td>\n",
              "      <td>4K NVR, no HDD, supports: 4 channels with 4 Po...</td>\n",
              "      <td>data storage</td>\n",
              "    </tr>\n",
              "    <tr>\n",
              "      <th>...</th>\n",
              "      <td>...</td>\n",
              "      <td>...</td>\n",
              "      <td>...</td>\n",
              "      <td>...</td>\n",
              "    </tr>\n",
              "    <tr>\n",
              "      <th>263</th>\n",
              "      <td>Dell PowerEdge R320, R420, R620, R330, R430, R...</td>\n",
              "      <td>This fits your . Make sure this fits by enteri...</td>\n",
              "      <td></td>\n",
              "      <td>servers</td>\n",
              "    </tr>\n",
              "    <tr>\n",
              "      <th>264</th>\n",
              "      <td>HPE 873830-S01 ProLiant MicroServer Gen10 Ultr...</td>\n",
              "      <td>About this item This fits your . Make sure thi...</td>\n",
              "      <td></td>\n",
              "      <td>servers</td>\n",
              "    </tr>\n",
              "    <tr>\n",
              "      <th>265</th>\n",
              "      <td>USR-TCP232-302 Tiny Size Serial RS232 to Ether...</td>\n",
              "      <td>About this item This fits your . Make sure thi...</td>\n",
              "      <td></td>\n",
              "      <td>servers</td>\n",
              "    </tr>\n",
              "    <tr>\n",
              "      <th>266</th>\n",
              "      <td>Silicone Face Cover Pad for Oculus Quest 2 wit...</td>\n",
              "      <td>This fits your . Make sure this fits by enteri...</td>\n",
              "      <td></td>\n",
              "      <td>servers</td>\n",
              "    </tr>\n",
              "    <tr>\n",
              "      <th>267</th>\n",
              "      <td>Dell Precision 7000 7550 15.6\" Mobile Workstat...</td>\n",
              "      <td>About this item This fits your . Make sure thi...</td>\n",
              "      <td></td>\n",
              "      <td>servers</td>\n",
              "    </tr>\n",
              "  </tbody>\n",
              "</table>\n",
              "<p>266 rows × 4 columns</p>\n",
              "</div>"
            ],
            "text/plain": [
              "                                                 title  ...      category\n",
              "0    SAMSUNG 870 EVO 1TB 2.5 Inch SATA III Internal...  ...  data storage\n",
              "1    SAMSUNG 860 QVO 1TB Solid State Drive (MZ-76Q1...  ...  data storage\n",
              "2    Samsung Electronics Samsung 850 Pro-Series 2.5...  ...  data storage\n",
              "3    Samsung SMX-K45 Up-scaling HDMI Camcorder with...  ...  data storage\n",
              "4    Samsung 4K NVR, no HDD, supports: 4 channels X...  ...  data storage\n",
              "..                                                 ...  ...           ...\n",
              "263  Dell PowerEdge R320, R420, R620, R330, R430, R...  ...       servers\n",
              "264  HPE 873830-S01 ProLiant MicroServer Gen10 Ultr...  ...       servers\n",
              "265  USR-TCP232-302 Tiny Size Serial RS232 to Ether...  ...       servers\n",
              "266  Silicone Face Cover Pad for Oculus Quest 2 wit...  ...       servers\n",
              "267  Dell Precision 7000 7550 15.6\" Mobile Workstat...  ...       servers\n",
              "\n",
              "[266 rows x 4 columns]"
            ]
          },
          "metadata": {
            "tags": []
          },
          "execution_count": 54
        }
      ]
    },
    {
      "cell_type": "code",
      "metadata": {
        "id": "IsNO8w7b1fR_"
      },
      "source": [
        "df3 = pd.DataFrame()"
      ],
      "execution_count": null,
      "outputs": []
    },
    {
      "cell_type": "code",
      "metadata": {
        "colab": {
          "base_uri": "https://localhost:8080/"
        },
        "id": "K5tvnIj613Kp",
        "outputId": "7e3ba4b3-7545-4e46-f28d-f51804542f1e"
      },
      "source": [
        "df1.columns"
      ],
      "execution_count": null,
      "outputs": [
        {
          "output_type": "execute_result",
          "data": {
            "text/plain": [
              "Index(['product_name', 'description', 'subcategory'], dtype='object')"
            ]
          },
          "metadata": {
            "tags": []
          },
          "execution_count": 56
        }
      ]
    },
    {
      "cell_type": "code",
      "metadata": {
        "id": "-Tnxh5ck1yDo"
      },
      "source": [
        "df3['product_name'] = df2['title']\n",
        "df3['description'] = df2['description'] + df2['description_bottom']\n",
        "df3['subcategory'] = df2['category']"
      ],
      "execution_count": null,
      "outputs": []
    },
    {
      "cell_type": "code",
      "metadata": {
        "colab": {
          "base_uri": "https://localhost:8080/",
          "height": 419
        },
        "id": "6GbX-tV52TOc",
        "outputId": "439b55ca-7b64-4224-b25b-5b46e3223a8a"
      },
      "source": [
        "df3"
      ],
      "execution_count": null,
      "outputs": [
        {
          "output_type": "execute_result",
          "data": {
            "text/html": [
              "<div>\n",
              "<style scoped>\n",
              "    .dataframe tbody tr th:only-of-type {\n",
              "        vertical-align: middle;\n",
              "    }\n",
              "\n",
              "    .dataframe tbody tr th {\n",
              "        vertical-align: top;\n",
              "    }\n",
              "\n",
              "    .dataframe thead th {\n",
              "        text-align: right;\n",
              "    }\n",
              "</style>\n",
              "<table border=\"1\" class=\"dataframe\">\n",
              "  <thead>\n",
              "    <tr style=\"text-align: right;\">\n",
              "      <th></th>\n",
              "      <th>product_name</th>\n",
              "      <th>description</th>\n",
              "      <th>subcategory</th>\n",
              "    </tr>\n",
              "  </thead>\n",
              "  <tbody>\n",
              "    <tr>\n",
              "      <th>0</th>\n",
              "      <td>SAMSUNG 870 EVO 1TB 2.5 Inch SATA III Internal...</td>\n",
              "      <td>About this item This fits your . Make sure thi...</td>\n",
              "      <td>data storage</td>\n",
              "    </tr>\n",
              "    <tr>\n",
              "      <th>1</th>\n",
              "      <td>SAMSUNG 860 QVO 1TB Solid State Drive (MZ-76Q1...</td>\n",
              "      <td>About this item This fits your . Make sure thi...</td>\n",
              "      <td>data storage</td>\n",
              "    </tr>\n",
              "    <tr>\n",
              "      <th>2</th>\n",
              "      <td>Samsung Electronics Samsung 850 Pro-Series 2.5...</td>\n",
              "      <td>About this item This fits your . Make sure thi...</td>\n",
              "      <td>data storage</td>\n",
              "    </tr>\n",
              "    <tr>\n",
              "      <th>3</th>\n",
              "      <td>Samsung SMX-K45 Up-scaling HDMI Camcorder with...</td>\n",
              "      <td>Color: Blue From the Manufacturer With Samsun...</td>\n",
              "      <td>data storage</td>\n",
              "    </tr>\n",
              "    <tr>\n",
              "      <th>4</th>\n",
              "      <td>Samsung 4K NVR, no HDD, supports: 4 channels X...</td>\n",
              "      <td>4K NVR, no HDD, supports: 4 channels with 4 P...</td>\n",
              "      <td>data storage</td>\n",
              "    </tr>\n",
              "    <tr>\n",
              "      <th>...</th>\n",
              "      <td>...</td>\n",
              "      <td>...</td>\n",
              "      <td>...</td>\n",
              "    </tr>\n",
              "    <tr>\n",
              "      <th>263</th>\n",
              "      <td>Dell PowerEdge R320, R420, R620, R330, R430, R...</td>\n",
              "      <td>This fits your . Make sure this fits by enteri...</td>\n",
              "      <td>servers</td>\n",
              "    </tr>\n",
              "    <tr>\n",
              "      <th>264</th>\n",
              "      <td>HPE 873830-S01 ProLiant MicroServer Gen10 Ultr...</td>\n",
              "      <td>About this item This fits your . Make sure thi...</td>\n",
              "      <td>servers</td>\n",
              "    </tr>\n",
              "    <tr>\n",
              "      <th>265</th>\n",
              "      <td>USR-TCP232-302 Tiny Size Serial RS232 to Ether...</td>\n",
              "      <td>About this item This fits your . Make sure thi...</td>\n",
              "      <td>servers</td>\n",
              "    </tr>\n",
              "    <tr>\n",
              "      <th>266</th>\n",
              "      <td>Silicone Face Cover Pad for Oculus Quest 2 wit...</td>\n",
              "      <td>This fits your . Make sure this fits by enteri...</td>\n",
              "      <td>servers</td>\n",
              "    </tr>\n",
              "    <tr>\n",
              "      <th>267</th>\n",
              "      <td>Dell Precision 7000 7550 15.6\" Mobile Workstat...</td>\n",
              "      <td>About this item This fits your . Make sure thi...</td>\n",
              "      <td>servers</td>\n",
              "    </tr>\n",
              "  </tbody>\n",
              "</table>\n",
              "<p>266 rows × 3 columns</p>\n",
              "</div>"
            ],
            "text/plain": [
              "                                          product_name  ...   subcategory\n",
              "0    SAMSUNG 870 EVO 1TB 2.5 Inch SATA III Internal...  ...  data storage\n",
              "1    SAMSUNG 860 QVO 1TB Solid State Drive (MZ-76Q1...  ...  data storage\n",
              "2    Samsung Electronics Samsung 850 Pro-Series 2.5...  ...  data storage\n",
              "3    Samsung SMX-K45 Up-scaling HDMI Camcorder with...  ...  data storage\n",
              "4    Samsung 4K NVR, no HDD, supports: 4 channels X...  ...  data storage\n",
              "..                                                 ...  ...           ...\n",
              "263  Dell PowerEdge R320, R420, R620, R330, R430, R...  ...       servers\n",
              "264  HPE 873830-S01 ProLiant MicroServer Gen10 Ultr...  ...       servers\n",
              "265  USR-TCP232-302 Tiny Size Serial RS232 to Ether...  ...       servers\n",
              "266  Silicone Face Cover Pad for Oculus Quest 2 wit...  ...       servers\n",
              "267  Dell Precision 7000 7550 15.6\" Mobile Workstat...  ...       servers\n",
              "\n",
              "[266 rows x 3 columns]"
            ]
          },
          "metadata": {
            "tags": []
          },
          "execution_count": 58
        }
      ]
    },
    {
      "cell_type": "code",
      "metadata": {
        "colab": {
          "base_uri": "https://localhost:8080/"
        },
        "id": "si3SmcBK2Uf7",
        "outputId": "c0c87c4c-067f-4ea5-e022-6dacc37e353e"
      },
      "source": [
        "df3.isna().sum()"
      ],
      "execution_count": null,
      "outputs": [
        {
          "output_type": "execute_result",
          "data": {
            "text/plain": [
              "product_name    0\n",
              "description     0\n",
              "subcategory     0\n",
              "dtype: int64"
            ]
          },
          "metadata": {
            "tags": []
          },
          "execution_count": 59
        }
      ]
    },
    {
      "cell_type": "code",
      "metadata": {
        "colab": {
          "base_uri": "https://localhost:8080/"
        },
        "id": "4EbFrRI62Za7",
        "outputId": "5eba9624-5812-40e0-8c12-7b820e31ef2a"
      },
      "source": [
        "df3.nunique(),df3.shape"
      ],
      "execution_count": null,
      "outputs": [
        {
          "output_type": "execute_result",
          "data": {
            "text/plain": [
              "(product_name    266\n",
              " description     266\n",
              " subcategory       4\n",
              " dtype: int64, (266, 3))"
            ]
          },
          "metadata": {
            "tags": []
          },
          "execution_count": 60
        }
      ]
    },
    {
      "cell_type": "code",
      "metadata": {
        "colab": {
          "base_uri": "https://localhost:8080/"
        },
        "id": "QmTx-W7V2cvR",
        "outputId": "5f21478c-b9cb-4908-d36d-eae1b2b02ba2"
      },
      "source": [
        "df1.nunique(),df1.shape"
      ],
      "execution_count": null,
      "outputs": [
        {
          "output_type": "execute_result",
          "data": {
            "text/plain": [
              "(product_name    569\n",
              " description     576\n",
              " subcategory      32\n",
              " dtype: int64, (578, 3))"
            ]
          },
          "metadata": {
            "tags": []
          },
          "execution_count": 61
        }
      ]
    },
    {
      "cell_type": "code",
      "metadata": {
        "id": "9z3JPu3L8com"
      },
      "source": [
        "df1.drop_duplicates(keep='first',inplace=True)"
      ],
      "execution_count": null,
      "outputs": []
    },
    {
      "cell_type": "code",
      "metadata": {
        "colab": {
          "base_uri": "https://localhost:8080/"
        },
        "id": "KnlhKQWA8_Ay",
        "outputId": "681acbab-c2ac-4d22-861b-8510c0612d8b"
      },
      "source": [
        "df1.nunique(),df1.shape"
      ],
      "execution_count": null,
      "outputs": [
        {
          "output_type": "execute_result",
          "data": {
            "text/plain": [
              "(product_name    569\n",
              " description     576\n",
              " subcategory      32\n",
              " dtype: int64, (576, 3))"
            ]
          },
          "metadata": {
            "tags": []
          },
          "execution_count": 63
        }
      ]
    },
    {
      "cell_type": "code",
      "metadata": {
        "colab": {
          "base_uri": "https://localhost:8080/",
          "height": 171
        },
        "id": "crY0MfTN9B2Y",
        "outputId": "b68babb7-ac51-485d-ed59-dfc4e717ce4c"
      },
      "source": [
        "df3['description'][0]"
      ],
      "execution_count": null,
      "outputs": [
        {
          "output_type": "execute_result",
          "data": {
            "application/vnd.google.colaboratory.intrinsic+json": {
              "type": "string"
            },
            "text/plain": [
              "'About this item This fits your . Make sure this fits by entering your model number. P.when(\"ReplacementPartsBulletLoader\").execute(function(module){ module.initializeDPX(); }) THE SSD ALL-STAR: The latest 870 EVO has indisputable performance, reliability and compatibility built upon Samsung\\'s pioneering technology EXCELLENCE IN PERFORMANCE: Enjoy professional level SSD performance with 870 EVO, which maximizes the SATA interface limit to 560/530 MB/s sequential speeds, accelerates write speeds and maintains long term high performance with a larger variable buffer INDUSTRY DEFINING RELIABILITY: Meet the demands of every task from everyday computing to 8K video processing, with up to 2,400 TBW under a 5 year limited warranty MORE COMPATIBLE THAN EVER: 870 EVO has been compatibility tested for major host systems and applications, including chipsets, motherboards, NAS, and video recording devices UPGRADE WITH EASE: Simply plug 870 EVO into the standard 2.5 inch SATA form factor on your desktop PC or laptop and let the renewed migration software takes care of the rest SAMSUNG MAGICIAN SOFTWARE: Make your drive work smoothly with enhanced Samsung Magician 6 software that helps you easily manage your drive, keep up with the latest updates, monitor the drive\\'s health and status, or even enhance its performanceCapacity: 1TB The latest 870 EVO has indisputable performance, reliability and compatibility built upon Samsung\\'s pioneering technology. *Performance may vary based on SSD’s firmware version and system hardware & configuration. Sequential write performance measurements are based on Intelligent TurboWrite technology. Test system configuration: Intel Core i7-7700K CPU @ 4.20GHz, DDR4 1200MHz 32GB, OS – Windows 10 Pro x64, Chipset: ASUS PRIME Z270-A. All performance data was measured with the SSD as a secondary **Warrantied TBW (terabytes written) for 870 EVO: 150 TBW for 250 GB model, 300 TBW for 500 GB model, 600 TBW for 1 TB model, 1,200 TBW for 2 TB model and 2,400 TBW for 4 TB model. ***5-years or TBW, whichever comes first. For more information on the warranty, please find the enclosed warranty statement in the package. ****Compatibility tests conducted with Samsung internal, AMD, MSI, Gigabyte, Synology, QNAP, BlackMagicDesign and ATMOS.'"
            ]
          },
          "metadata": {
            "tags": []
          },
          "execution_count": 64
        }
      ]
    },
    {
      "cell_type": "code",
      "metadata": {
        "colab": {
          "base_uri": "https://localhost:8080/",
          "height": 171
        },
        "id": "b3NV9PZG9JHG",
        "outputId": "97b2b287-a257-426d-cce4-585eae4aa9b2"
      },
      "source": [
        "df3['description'][125]"
      ],
      "execution_count": null,
      "outputs": [
        {
          "output_type": "execute_result",
          "data": {
            "application/vnd.google.colaboratory.intrinsic+json": {
              "type": "string"
            },
            "text/plain": [
              "'About this item This fits your . Make sure this fits by entering your model number. P.when(\"ReplacementPartsBulletLoader\").execute(function(module){ module.initializeDPX(); }) 27\" UHD 4K (3840 x 2160) Widescreen IPS Display with NVIDIA G-SYNC Technology Refresh Rate: 120Hz (OverClocking to 144Hz) High Brightness and Contrast with VESA Certified DisplayHDR 400 DCI-P3 90% Wide Color Gamut | Optimize Colors with Quantum Dot Technology | No Color Difference with Delta E<1 Ports: 1 x Display Port v1. 4, 1 x HDMI v2. 0 & 4 x USB 3. 0 Ports (Display Port & USB Cable Included)Fasten your seatbelt: The Predator XB273K Ultra HD display with 4K resolution is all about no compromises on gaming performance, color or speed. This 27-inch (3840 x 2160) monitor combines jaw dropping specs including an IPS panel that supports blazing-fast refresh rate. Also, featuring NVIDIA G-SYNC technology to eliminate screen tearing which provide gamers the epic gaming experience and help to secure the victory. Plus, built-in eye protection and ergonomics allow you to press forward into battle without fatigue. (UM. HX3AA. S01)'"
            ]
          },
          "metadata": {
            "tags": []
          },
          "execution_count": 65
        }
      ]
    },
    {
      "cell_type": "code",
      "metadata": {
        "id": "Ew63GDcR9RII"
      },
      "source": [
        "s1 = df3['description'][0]"
      ],
      "execution_count": null,
      "outputs": []
    },
    {
      "cell_type": "code",
      "metadata": {
        "colab": {
          "base_uri": "https://localhost:8080/",
          "height": 171
        },
        "id": "1xSCrMRI9cy-",
        "outputId": "0b81e647-6b87-430b-dcc5-3ac96678e916"
      },
      "source": [
        "s1"
      ],
      "execution_count": null,
      "outputs": [
        {
          "output_type": "execute_result",
          "data": {
            "application/vnd.google.colaboratory.intrinsic+json": {
              "type": "string"
            },
            "text/plain": [
              "'About this item This fits your . Make sure this fits by entering your model number. P.when(\"ReplacementPartsBulletLoader\").execute(function(module){ module.initializeDPX(); }) THE SSD ALL-STAR: The latest 870 EVO has indisputable performance, reliability and compatibility built upon Samsung\\'s pioneering technology EXCELLENCE IN PERFORMANCE: Enjoy professional level SSD performance with 870 EVO, which maximizes the SATA interface limit to 560/530 MB/s sequential speeds, accelerates write speeds and maintains long term high performance with a larger variable buffer INDUSTRY DEFINING RELIABILITY: Meet the demands of every task from everyday computing to 8K video processing, with up to 2,400 TBW under a 5 year limited warranty MORE COMPATIBLE THAN EVER: 870 EVO has been compatibility tested for major host systems and applications, including chipsets, motherboards, NAS, and video recording devices UPGRADE WITH EASE: Simply plug 870 EVO into the standard 2.5 inch SATA form factor on your desktop PC or laptop and let the renewed migration software takes care of the rest SAMSUNG MAGICIAN SOFTWARE: Make your drive work smoothly with enhanced Samsung Magician 6 software that helps you easily manage your drive, keep up with the latest updates, monitor the drive\\'s health and status, or even enhance its performanceCapacity: 1TB The latest 870 EVO has indisputable performance, reliability and compatibility built upon Samsung\\'s pioneering technology. *Performance may vary based on SSD’s firmware version and system hardware & configuration. Sequential write performance measurements are based on Intelligent TurboWrite technology. Test system configuration: Intel Core i7-7700K CPU @ 4.20GHz, DDR4 1200MHz 32GB, OS – Windows 10 Pro x64, Chipset: ASUS PRIME Z270-A. All performance data was measured with the SSD as a secondary **Warrantied TBW (terabytes written) for 870 EVO: 150 TBW for 250 GB model, 300 TBW for 500 GB model, 600 TBW for 1 TB model, 1,200 TBW for 2 TB model and 2,400 TBW for 4 TB model. ***5-years or TBW, whichever comes first. For more information on the warranty, please find the enclosed warranty statement in the package. ****Compatibility tests conducted with Samsung internal, AMD, MSI, Gigabyte, Synology, QNAP, BlackMagicDesign and ATMOS.'"
            ]
          },
          "metadata": {
            "tags": []
          },
          "execution_count": 67
        }
      ]
    },
    {
      "cell_type": "code",
      "metadata": {
        "id": "dvqJbVH19dxm"
      },
      "source": [
        "s2 = s1.replace(\"About this item This fits your . Make sure this fits by entering your model number\",\" \")"
      ],
      "execution_count": null,
      "outputs": []
    },
    {
      "cell_type": "code",
      "metadata": {
        "colab": {
          "base_uri": "https://localhost:8080/",
          "height": 171
        },
        "id": "C7R6S9fI-KTD",
        "outputId": "2cf9686b-06e3-45c4-f6a5-bd50934f88e0"
      },
      "source": [
        "s2"
      ],
      "execution_count": null,
      "outputs": [
        {
          "output_type": "execute_result",
          "data": {
            "application/vnd.google.colaboratory.intrinsic+json": {
              "type": "string"
            },
            "text/plain": [
              "' . P.when(\"ReplacementPartsBulletLoader\").execute(function(module){ module.initializeDPX(); }) THE SSD ALL-STAR: The latest 870 EVO has indisputable performance, reliability and compatibility built upon Samsung\\'s pioneering technology EXCELLENCE IN PERFORMANCE: Enjoy professional level SSD performance with 870 EVO, which maximizes the SATA interface limit to 560/530 MB/s sequential speeds, accelerates write speeds and maintains long term high performance with a larger variable buffer INDUSTRY DEFINING RELIABILITY: Meet the demands of every task from everyday computing to 8K video processing, with up to 2,400 TBW under a 5 year limited warranty MORE COMPATIBLE THAN EVER: 870 EVO has been compatibility tested for major host systems and applications, including chipsets, motherboards, NAS, and video recording devices UPGRADE WITH EASE: Simply plug 870 EVO into the standard 2.5 inch SATA form factor on your desktop PC or laptop and let the renewed migration software takes care of the rest SAMSUNG MAGICIAN SOFTWARE: Make your drive work smoothly with enhanced Samsung Magician 6 software that helps you easily manage your drive, keep up with the latest updates, monitor the drive\\'s health and status, or even enhance its performanceCapacity: 1TB The latest 870 EVO has indisputable performance, reliability and compatibility built upon Samsung\\'s pioneering technology. *Performance may vary based on SSD’s firmware version and system hardware & configuration. Sequential write performance measurements are based on Intelligent TurboWrite technology. Test system configuration: Intel Core i7-7700K CPU @ 4.20GHz, DDR4 1200MHz 32GB, OS – Windows 10 Pro x64, Chipset: ASUS PRIME Z270-A. All performance data was measured with the SSD as a secondary **Warrantied TBW (terabytes written) for 870 EVO: 150 TBW for 250 GB model, 300 TBW for 500 GB model, 600 TBW for 1 TB model, 1,200 TBW for 2 TB model and 2,400 TBW for 4 TB model. ***5-years or TBW, whichever comes first. For more information on the warranty, please find the enclosed warranty statement in the package. ****Compatibility tests conducted with Samsung internal, AMD, MSI, Gigabyte, Synology, QNAP, BlackMagicDesign and ATMOS.'"
            ]
          },
          "metadata": {
            "tags": []
          },
          "execution_count": 69
        }
      ]
    },
    {
      "cell_type": "code",
      "metadata": {
        "id": "OsUp8Apw9p-d"
      },
      "source": [
        "s3 = s2.replace(\"\"\"P.when(\"ReplacementPartsBulletLoader\").execute(function(module){ module.initializeDPX(); })\"\"\",\" \")"
      ],
      "execution_count": null,
      "outputs": []
    },
    {
      "cell_type": "code",
      "metadata": {
        "colab": {
          "base_uri": "https://localhost:8080/",
          "height": 171
        },
        "id": "lxP8jYY09qhc",
        "outputId": "b7eaade2-bfdc-4cff-cdb0-62c9add9505c"
      },
      "source": [
        "s3"
      ],
      "execution_count": null,
      "outputs": [
        {
          "output_type": "execute_result",
          "data": {
            "application/vnd.google.colaboratory.intrinsic+json": {
              "type": "string"
            },
            "text/plain": [
              "\" .   THE SSD ALL-STAR: The latest 870 EVO has indisputable performance, reliability and compatibility built upon Samsung's pioneering technology EXCELLENCE IN PERFORMANCE: Enjoy professional level SSD performance with 870 EVO, which maximizes the SATA interface limit to 560/530 MB/s sequential speeds, accelerates write speeds and maintains long term high performance with a larger variable buffer INDUSTRY DEFINING RELIABILITY: Meet the demands of every task from everyday computing to 8K video processing, with up to 2,400 TBW under a 5 year limited warranty MORE COMPATIBLE THAN EVER: 870 EVO has been compatibility tested for major host systems and applications, including chipsets, motherboards, NAS, and video recording devices UPGRADE WITH EASE: Simply plug 870 EVO into the standard 2.5 inch SATA form factor on your desktop PC or laptop and let the renewed migration software takes care of the rest SAMSUNG MAGICIAN SOFTWARE: Make your drive work smoothly with enhanced Samsung Magician 6 software that helps you easily manage your drive, keep up with the latest updates, monitor the drive's health and status, or even enhance its performanceCapacity: 1TB The latest 870 EVO has indisputable performance, reliability and compatibility built upon Samsung's pioneering technology. *Performance may vary based on SSD’s firmware version and system hardware & configuration. Sequential write performance measurements are based on Intelligent TurboWrite technology. Test system configuration: Intel Core i7-7700K CPU @ 4.20GHz, DDR4 1200MHz 32GB, OS – Windows 10 Pro x64, Chipset: ASUS PRIME Z270-A. All performance data was measured with the SSD as a secondary **Warrantied TBW (terabytes written) for 870 EVO: 150 TBW for 250 GB model, 300 TBW for 500 GB model, 600 TBW for 1 TB model, 1,200 TBW for 2 TB model and 2,400 TBW for 4 TB model. ***5-years or TBW, whichever comes first. For more information on the warranty, please find the enclosed warranty statement in the package. ****Compatibility tests conducted with Samsung internal, AMD, MSI, Gigabyte, Synology, QNAP, BlackMagicDesign and ATMOS.\""
            ]
          },
          "metadata": {
            "tags": []
          },
          "execution_count": 71
        }
      ]
    },
    {
      "cell_type": "code",
      "metadata": {
        "id": "Va9-yS-H-CXt"
      },
      "source": [
        "def desc_cleaning(doc_str):\n",
        "    s2 = doc_str.replace(\"About this item This fits your . Make sure this fits by entering your model number\",\" \")\n",
        "    s3 = s2.replace(\"\"\"P.when(\"ReplacementPartsBulletLoader\").execute(function(module){ module.initializeDPX(); })\"\"\",\" \")\n",
        "    s4 = s3.replace(\"This fits your . Make sure this fits by entering your model number.\",\" \")\n",
        "    return s4\n",
        "\n"
      ],
      "execution_count": null,
      "outputs": []
    },
    {
      "cell_type": "code",
      "metadata": {
        "id": "CObsZXX1_Jyp"
      },
      "source": [
        "df3['description'] = df3['description'].apply(desc_cleaning)"
      ],
      "execution_count": null,
      "outputs": []
    },
    {
      "cell_type": "code",
      "metadata": {
        "colab": {
          "base_uri": "https://localhost:8080/"
        },
        "id": "msIud4zK_Xdp",
        "outputId": "11c32c33-6ea6-4deb-d275-cc32d6a64221"
      },
      "source": [
        "df3.description[250:]"
      ],
      "execution_count": null,
      "outputs": [
        {
          "output_type": "execute_result",
          "data": {
            "text/plain": [
              "251        Xeon Silver 4208 2.1 GHz 8-core 11MB cache...\n",
              "252     .   UPC: 884116372646 Weight: 13.600 Lbs 3080...\n",
              "253     .   UPC: 884116374121 Weight: 13.250 Lbs 7080...\n",
              "254     .   Product Type: Personal Computer Package Q...\n",
              "255        MPN: DDT01, PV6VN Compatible with: Dell Po...\n",
              "256        1.Fit 19\" Wide Standard Equipment. 2.Free ...\n",
              "258        1.Fit 19\" Wide Standard Equipment. 2.Free ...\n",
              "259        Fit Models : For Dell PowerEdge T440 T640 ...\n",
              "260        P/N: 0PWN3 00PWN3 H4X6X 0H4X6X * Material:...\n",
              "261        Dell PowerEdge Server Security Silver Beze...\n",
              "262        1.Fit 19\" Wide Standard Equipment. INSTALL...\n",
              "263        Dell PowerEdge 1U Sliding Ready Rail Kit C...\n",
              "264     .   Full Product Specifications: Click to vie...\n",
              "265     .   RS232 to Ethernet Converter: USR TCP232-3...\n",
              "266        Ultra-thin design for Oculus Quest 2 - Unl...\n",
              "267     .   Processor Manufacturer: Intel Processor T...\n",
              "Name: description, dtype: object"
            ]
          },
          "metadata": {
            "tags": []
          },
          "execution_count": 74
        }
      ]
    },
    {
      "cell_type": "code",
      "metadata": {
        "colab": {
          "base_uri": "https://localhost:8080/"
        },
        "id": "a2Z9y6u-AUnt",
        "outputId": "2640790a-96e4-4c25-fea6-45a7f255bba5"
      },
      "source": [
        "df1.shape"
      ],
      "execution_count": null,
      "outputs": [
        {
          "output_type": "execute_result",
          "data": {
            "text/plain": [
              "(576, 3)"
            ]
          },
          "metadata": {
            "tags": []
          },
          "execution_count": 75
        }
      ]
    },
    {
      "cell_type": "code",
      "metadata": {
        "colab": {
          "base_uri": "https://localhost:8080/"
        },
        "id": "_kz8ZrGTswh7",
        "outputId": "58e2ac23-34a0-4f4d-ffaa-a7c2ff6b233b"
      },
      "source": [
        "df1.nunique()"
      ],
      "execution_count": null,
      "outputs": [
        {
          "output_type": "execute_result",
          "data": {
            "text/plain": [
              "product_name    569\n",
              "description     576\n",
              "subcategory      32\n",
              "dtype: int64"
            ]
          },
          "metadata": {
            "tags": []
          },
          "execution_count": 76
        }
      ]
    },
    {
      "cell_type": "code",
      "metadata": {
        "id": "ynRNc0UltF8T"
      },
      "source": [
        "def desc_cleaning_df1(doc_str):\n",
        "    s2 = doc_str.replace(\"Key Features of\",\" \")\n",
        "    s3 = s2.replace(\"Buy\",\" \")\n",
        "    return s3\n",
        "\n"
      ],
      "execution_count": null,
      "outputs": []
    },
    {
      "cell_type": "code",
      "metadata": {
        "id": "bpmvJot0s2-4"
      },
      "source": [
        "df1['description'] = df1['description'].apply(desc_cleaning_df1)"
      ],
      "execution_count": null,
      "outputs": []
    },
    {
      "cell_type": "code",
      "metadata": {
        "colab": {
          "base_uri": "https://localhost:8080/",
          "height": 154
        },
        "id": "BNmGc8Chs6Sn",
        "outputId": "9005d430-933f-49d7-986a-35aa1676e3f9"
      },
      "source": [
        "df1['description'][425]"
      ],
      "execution_count": null,
      "outputs": [
        {
          "output_type": "execute_result",
          "data": {
            "application/vnd.google.colaboratory.intrinsic+json": {
              "type": "string"
            },
            "text/plain": [
              "'Memore Portable and Flexible Lamp MMULL-Green USB Led Light (Green)\\n                         Price: Rs. 195\\n\\t\\t\\t\\t\\n\\t\\t\\t1. 100% Brand New And High Quality. 2. Perfect Fit For Reading. 3. Light Weight And Durable Cover. 4. Portable And Multiple Choice Of Color. 5. Flexible And Easy Clean. 6. Rated Voltage: 5v 7. Rated Power: 1.2w 8. Size: 170*18.5*9mm 9. Can Be Use On Any Where,Powered By Any Devices With Usb Port 10. Ultra Bright With Low Power Consumption 11. Unique Bendable Design,Also Has Light Weight 12. Material: Silicone\\n1. 100% Brand New And High Quality. 2. Perfect Fit For Reading. 3. Light Weight And Durable Cover. 4. Portable And Multiple Choice Of Color. 5. Flexible And Easy Clean. 6. Rated Voltage: 5v 7. Rated Power: 1.2w 8. Size: 170*18.5*9mm 9. Can Be Use On Any Where,Powered By Any Devices With Usb Port 10. Ultra Bright With Low Power Consumption 11. Unique Bendable Design,Also Has Light Weight 12. Material: Silicone'"
            ]
          },
          "metadata": {
            "tags": []
          },
          "execution_count": 79
        }
      ]
    },
    {
      "cell_type": "code",
      "metadata": {
        "colab": {
          "base_uri": "https://localhost:8080/"
        },
        "id": "EL2eKROmt-v8",
        "outputId": "dc7a8b47-d6e1-4feb-bcf4-cbe091703fe3"
      },
      "source": [
        "df1.shape"
      ],
      "execution_count": null,
      "outputs": [
        {
          "output_type": "execute_result",
          "data": {
            "text/plain": [
              "(576, 3)"
            ]
          },
          "metadata": {
            "tags": []
          },
          "execution_count": 80
        }
      ]
    },
    {
      "cell_type": "code",
      "metadata": {
        "colab": {
          "base_uri": "https://localhost:8080/"
        },
        "id": "CxYddaxUvVOA",
        "outputId": "8e4aae30-e69a-4684-86d9-6a55fd75c6f2"
      },
      "source": [
        "df3.shape"
      ],
      "execution_count": null,
      "outputs": [
        {
          "output_type": "execute_result",
          "data": {
            "text/plain": [
              "(266, 3)"
            ]
          },
          "metadata": {
            "tags": []
          },
          "execution_count": 81
        }
      ]
    },
    {
      "cell_type": "code",
      "metadata": {
        "colab": {
          "base_uri": "https://localhost:8080/"
        },
        "id": "8FBZQhfmvXeA",
        "outputId": "1983925e-1c8b-4f83-f579-8dac2c9e155a"
      },
      "source": [
        "df1.columns"
      ],
      "execution_count": null,
      "outputs": [
        {
          "output_type": "execute_result",
          "data": {
            "text/plain": [
              "Index(['product_name', 'description', 'subcategory'], dtype='object')"
            ]
          },
          "metadata": {
            "tags": []
          },
          "execution_count": 82
        }
      ]
    },
    {
      "cell_type": "code",
      "metadata": {
        "colab": {
          "base_uri": "https://localhost:8080/"
        },
        "id": "Szbr5_-evYn-",
        "outputId": "820d4c7b-e82c-40e8-d846-c9a3aaba64ed"
      },
      "source": [
        "df3.columns"
      ],
      "execution_count": null,
      "outputs": [
        {
          "output_type": "execute_result",
          "data": {
            "text/plain": [
              "Index(['product_name', 'description', 'subcategory'], dtype='object')"
            ]
          },
          "metadata": {
            "tags": []
          },
          "execution_count": 83
        }
      ]
    },
    {
      "cell_type": "code",
      "metadata": {
        "colab": {
          "base_uri": "https://localhost:8080/"
        },
        "id": "61rVVp8LvZ7v",
        "outputId": "3507e1a4-5488-456b-b554-64770c05024e"
      },
      "source": [
        "df1.subcategory.value_counts()"
      ],
      "execution_count": null,
      "outputs": [
        {
          "output_type": "execute_result",
          "data": {
            "text/plain": [
              "Router                      199\n",
              "Laptop Battery               83\n",
              "Led Light                    78\n",
              "Adapter                      53\n",
              "Laptop Skin and Mousepad     36\n",
              "USB Fan                      27\n",
              "USB Hub                      21\n",
              "Cartridge                     9\n",
              "USB Sound Card                8\n",
              "Mousepad                      8\n",
              "USB Cable                     8\n",
              "Cleaner                       5\n",
              "Processor                     5\n",
              "Charger                       4\n",
              "Pendrive                      3\n",
              "Laptop Backpack               3\n",
              "Keyboard                      3\n",
              "HDMI Cable                    3\n",
              "USB Bluetooth                 2\n",
              "Laptop                        2\n",
              "Keyboard Case                 2\n",
              "Software                      2\n",
              "Motherboard                   2\n",
              "USB Lighter                   2\n",
              "USB Clapper Board             1\n",
              "USB Cup Warmer                1\n",
              "Tablet                        1\n",
              "RAM                           1\n",
              "MP4 Player                    1\n",
              "Projector                     1\n",
              "Tablet Cover                  1\n",
              "Hard Disk                     1\n",
              "Name: subcategory, dtype: int64"
            ]
          },
          "metadata": {
            "tags": []
          },
          "execution_count": 84
        }
      ]
    },
    {
      "cell_type": "code",
      "metadata": {
        "colab": {
          "base_uri": "https://localhost:8080/"
        },
        "id": "v8zLqwxpveQj",
        "outputId": "89346a68-f503-4829-9688-0d67c5f77a02"
      },
      "source": [
        "df3.subcategory.value_counts()"
      ],
      "execution_count": null,
      "outputs": [
        {
          "output_type": "execute_result",
          "data": {
            "text/plain": [
              "monitors        118\n",
              "data storage     64\n",
              "scanners         62\n",
              "servers          22\n",
              "Name: subcategory, dtype: int64"
            ]
          },
          "metadata": {
            "tags": []
          },
          "execution_count": 85
        }
      ]
    },
    {
      "cell_type": "code",
      "metadata": {
        "id": "ao-4tKKDviMh"
      },
      "source": [
        "df = pd.concat([df1, df3])"
      ],
      "execution_count": null,
      "outputs": []
    },
    {
      "cell_type": "code",
      "metadata": {
        "colab": {
          "base_uri": "https://localhost:8080/"
        },
        "id": "VYqBToOywdkz",
        "outputId": "db44f93e-48d9-4c7e-febe-db4012d4a18b"
      },
      "source": [
        "df.shape"
      ],
      "execution_count": null,
      "outputs": [
        {
          "output_type": "execute_result",
          "data": {
            "text/plain": [
              "(842, 3)"
            ]
          },
          "metadata": {
            "tags": []
          },
          "execution_count": 87
        }
      ]
    },
    {
      "cell_type": "code",
      "metadata": {
        "id": "QqnO-5EzweK7"
      },
      "source": [
        "df.reset_index(drop=True,inplace=True)"
      ],
      "execution_count": null,
      "outputs": []
    },
    {
      "cell_type": "code",
      "metadata": {
        "colab": {
          "base_uri": "https://localhost:8080/",
          "height": 419
        },
        "id": "QtR-G2o3wmjy",
        "outputId": "dbae7124-ef3e-4865-d740-d5cdfef2d05e"
      },
      "source": [
        "df"
      ],
      "execution_count": null,
      "outputs": [
        {
          "output_type": "execute_result",
          "data": {
            "text/html": [
              "<div>\n",
              "<style scoped>\n",
              "    .dataframe tbody tr th:only-of-type {\n",
              "        vertical-align: middle;\n",
              "    }\n",
              "\n",
              "    .dataframe tbody tr th {\n",
              "        vertical-align: top;\n",
              "    }\n",
              "\n",
              "    .dataframe thead th {\n",
              "        text-align: right;\n",
              "    }\n",
              "</style>\n",
              "<table border=\"1\" class=\"dataframe\">\n",
              "  <thead>\n",
              "    <tr style=\"text-align: right;\">\n",
              "      <th></th>\n",
              "      <th>product_name</th>\n",
              "      <th>description</th>\n",
              "      <th>subcategory</th>\n",
              "    </tr>\n",
              "  </thead>\n",
              "  <tbody>\n",
              "    <tr>\n",
              "      <th>0</th>\n",
              "      <td>D-Link DAP1320</td>\n",
              "      <td>D-Link DAP1320 QRS app(iOS,Android),Specific...</td>\n",
              "      <td>Router</td>\n",
              "    </tr>\n",
              "    <tr>\n",
              "      <th>1</th>\n",
              "      <td>RoQ Slim Multimedia 105key Flexible Wired USB ...</td>\n",
              "      <td>RoQ Slim Multimedia 105key Flexible Wired US...</td>\n",
              "      <td>Keyboard</td>\n",
              "    </tr>\n",
              "    <tr>\n",
              "      <th>2</th>\n",
              "      <td>cm key 354 Wired USB Tablet Keyboard</td>\n",
              "      <td>cm key 354 Wired USB Tablet Keyboard Size: S...</td>\n",
              "      <td>Keyboard</td>\n",
              "    </tr>\n",
              "    <tr>\n",
              "      <th>3</th>\n",
              "      <td>JRB 1038 Smallest Mobile Powered By OTG Enable...</td>\n",
              "      <td>JRB 1038 Smallest Mobile Powered By OTG Enab...</td>\n",
              "      <td>USB Fan</td>\n",
              "    </tr>\n",
              "    <tr>\n",
              "      <th>4</th>\n",
              "      <td>JRB 1019 Smallest Mobile Powered By OTG Enable...</td>\n",
              "      <td>JRB 1019 Smallest Mobile Powered By OTG Enab...</td>\n",
              "      <td>USB Fan</td>\n",
              "    </tr>\n",
              "    <tr>\n",
              "      <th>...</th>\n",
              "      <td>...</td>\n",
              "      <td>...</td>\n",
              "      <td>...</td>\n",
              "    </tr>\n",
              "    <tr>\n",
              "      <th>837</th>\n",
              "      <td>Dell PowerEdge R320, R420, R620, R330, R430, R...</td>\n",
              "      <td>Dell PowerEdge 1U Sliding Ready Rail Kit C...</td>\n",
              "      <td>servers</td>\n",
              "    </tr>\n",
              "    <tr>\n",
              "      <th>838</th>\n",
              "      <td>HPE 873830-S01 ProLiant MicroServer Gen10 Ultr...</td>\n",
              "      <td>.   Full Product Specifications: Click to vie...</td>\n",
              "      <td>servers</td>\n",
              "    </tr>\n",
              "    <tr>\n",
              "      <th>839</th>\n",
              "      <td>USR-TCP232-302 Tiny Size Serial RS232 to Ether...</td>\n",
              "      <td>.   RS232 to Ethernet Converter: USR TCP232-3...</td>\n",
              "      <td>servers</td>\n",
              "    </tr>\n",
              "    <tr>\n",
              "      <th>840</th>\n",
              "      <td>Silicone Face Cover Pad for Oculus Quest 2 wit...</td>\n",
              "      <td>Ultra-thin design for Oculus Quest 2 - Unl...</td>\n",
              "      <td>servers</td>\n",
              "    </tr>\n",
              "    <tr>\n",
              "      <th>841</th>\n",
              "      <td>Dell Precision 7000 7550 15.6\" Mobile Workstat...</td>\n",
              "      <td>.   Processor Manufacturer: Intel Processor T...</td>\n",
              "      <td>servers</td>\n",
              "    </tr>\n",
              "  </tbody>\n",
              "</table>\n",
              "<p>842 rows × 3 columns</p>\n",
              "</div>"
            ],
            "text/plain": [
              "                                          product_name  ... subcategory\n",
              "0                                       D-Link DAP1320  ...      Router\n",
              "1    RoQ Slim Multimedia 105key Flexible Wired USB ...  ...    Keyboard\n",
              "2                 cm key 354 Wired USB Tablet Keyboard  ...    Keyboard\n",
              "3    JRB 1038 Smallest Mobile Powered By OTG Enable...  ...     USB Fan\n",
              "4    JRB 1019 Smallest Mobile Powered By OTG Enable...  ...     USB Fan\n",
              "..                                                 ...  ...         ...\n",
              "837  Dell PowerEdge R320, R420, R620, R330, R430, R...  ...     servers\n",
              "838  HPE 873830-S01 ProLiant MicroServer Gen10 Ultr...  ...     servers\n",
              "839  USR-TCP232-302 Tiny Size Serial RS232 to Ether...  ...     servers\n",
              "840  Silicone Face Cover Pad for Oculus Quest 2 wit...  ...     servers\n",
              "841  Dell Precision 7000 7550 15.6\" Mobile Workstat...  ...     servers\n",
              "\n",
              "[842 rows x 3 columns]"
            ]
          },
          "metadata": {
            "tags": []
          },
          "execution_count": 89
        }
      ]
    },
    {
      "cell_type": "code",
      "metadata": {
        "colab": {
          "base_uri": "https://localhost:8080/"
        },
        "id": "2icNq8L0woDN",
        "outputId": "c0dac6bf-669c-427d-9ce9-80c157e92500"
      },
      "source": [
        "df1.subcategory.value_counts()"
      ],
      "execution_count": null,
      "outputs": [
        {
          "output_type": "execute_result",
          "data": {
            "text/plain": [
              "Router                      199\n",
              "Laptop Battery               83\n",
              "Led Light                    78\n",
              "Adapter                      53\n",
              "Laptop Skin and Mousepad     36\n",
              "USB Fan                      27\n",
              "USB Hub                      21\n",
              "Cartridge                     9\n",
              "USB Sound Card                8\n",
              "Mousepad                      8\n",
              "USB Cable                     8\n",
              "Cleaner                       5\n",
              "Processor                     5\n",
              "Charger                       4\n",
              "Pendrive                      3\n",
              "Laptop Backpack               3\n",
              "Keyboard                      3\n",
              "HDMI Cable                    3\n",
              "USB Bluetooth                 2\n",
              "Laptop                        2\n",
              "Keyboard Case                 2\n",
              "Software                      2\n",
              "Motherboard                   2\n",
              "USB Lighter                   2\n",
              "USB Clapper Board             1\n",
              "USB Cup Warmer                1\n",
              "Tablet                        1\n",
              "RAM                           1\n",
              "MP4 Player                    1\n",
              "Projector                     1\n",
              "Tablet Cover                  1\n",
              "Hard Disk                     1\n",
              "Name: subcategory, dtype: int64"
            ]
          },
          "metadata": {
            "tags": []
          },
          "execution_count": 90
        }
      ]
    },
    {
      "cell_type": "code",
      "metadata": {
        "id": "mYyVFVKLw9q5"
      },
      "source": [
        "def cleaning(doc_str):\n",
        "\n",
        "    # Remove Tags\n",
        "    cleantext = BeautifulSoup(doc_str, \"lxml\").text\n",
        "\n",
        "    # Remove URL\n",
        "    cleantext = re.sub(r'(https?:\\/\\/)(\\s)*(www\\.)?(\\s)*((\\w|\\s)+\\.)*([\\w\\-\\s]+\\/)*([\\w\\-]+)((\\?)?[\\w\\s]*=\\s*[\\w\\%&]*)*', '', cleantext)\n",
        "    \n",
        "    #Remove punctuations\n",
        "    text = re.sub('[^a-zA-Z]', ' ', cleantext)\n",
        "\n",
        "    #Convert to lowercase\n",
        "    text = text.lower()\n",
        "    \n",
        "    # Edit stop words\n",
        "    stop_words = list(set(stopwords.words('english'))) + []\n",
        "    exception_word = []\n",
        "    stopwords_mod = [w for w in stop_words if w not in exception_word]\n",
        "    \n",
        "    #remove tags\n",
        "    text=re.sub(\"&lt;/?.*?&gt;\",\" &lt;&gt; \",text)\n",
        "    \n",
        "    # remove special characters and digits\n",
        "    text=re.sub(\"(\\\\d|\\\\W)+\",\" \",text)\n",
        "    \n",
        "    ##Convert to list from string\n",
        "    text = text.split()\n",
        "    \n",
        "\n",
        "    #Lemmatisation and Stop words removal\n",
        "    lem = WordNetLemmatizer()\n",
        "    text = [lem.lemmatize(word) for word in text if word not in  \n",
        "            stopwords_mod] \n",
        "    text = [ w for w in text if len(w)>1]\n",
        "    text = \" \".join(text)\n",
        "    return text\n",
        "\n"
      ],
      "execution_count": null,
      "outputs": []
    },
    {
      "cell_type": "code",
      "metadata": {
        "id": "W84h5WLexcTj"
      },
      "source": [
        "df['cleaned_description'] = df['description'].apply(cleaning)"
      ],
      "execution_count": null,
      "outputs": []
    },
    {
      "cell_type": "code",
      "metadata": {
        "colab": {
          "base_uri": "https://localhost:8080/",
          "height": 589
        },
        "id": "N2CuLuL-x4kC",
        "outputId": "567d1675-eeb3-4da2-c80d-8eb5841655e0"
      },
      "source": [
        "df"
      ],
      "execution_count": null,
      "outputs": [
        {
          "output_type": "execute_result",
          "data": {
            "text/html": [
              "<div>\n",
              "<style scoped>\n",
              "    .dataframe tbody tr th:only-of-type {\n",
              "        vertical-align: middle;\n",
              "    }\n",
              "\n",
              "    .dataframe tbody tr th {\n",
              "        vertical-align: top;\n",
              "    }\n",
              "\n",
              "    .dataframe thead th {\n",
              "        text-align: right;\n",
              "    }\n",
              "</style>\n",
              "<table border=\"1\" class=\"dataframe\">\n",
              "  <thead>\n",
              "    <tr style=\"text-align: right;\">\n",
              "      <th></th>\n",
              "      <th>product_name</th>\n",
              "      <th>description</th>\n",
              "      <th>subcategory</th>\n",
              "      <th>cleaned_description</th>\n",
              "    </tr>\n",
              "  </thead>\n",
              "  <tbody>\n",
              "    <tr>\n",
              "      <th>0</th>\n",
              "      <td>D-Link DAP1320</td>\n",
              "      <td>D-Link DAP1320 QRS app(iOS,Android),Specific...</td>\n",
              "      <td>Router</td>\n",
              "      <td>link dap qrs app io android specification link...</td>\n",
              "    </tr>\n",
              "    <tr>\n",
              "      <th>1</th>\n",
              "      <td>RoQ Slim Multimedia 105key Flexible Wired USB ...</td>\n",
              "      <td>RoQ Slim Multimedia 105key Flexible Wired US...</td>\n",
              "      <td>Keyboard</td>\n",
              "      <td>roq slim multimedia key flexible wired usb fle...</td>\n",
              "    </tr>\n",
              "    <tr>\n",
              "      <th>2</th>\n",
              "      <td>cm key 354 Wired USB Tablet Keyboard</td>\n",
              "      <td>cm key 354 Wired USB Tablet Keyboard Size: S...</td>\n",
              "      <td>Keyboard</td>\n",
              "      <td>cm key wired usb tablet keyboard size standard...</td>\n",
              "    </tr>\n",
              "    <tr>\n",
              "      <th>3</th>\n",
              "      <td>JRB 1038 Smallest Mobile Powered By OTG Enable...</td>\n",
              "      <td>JRB 1038 Smallest Mobile Powered By OTG Enab...</td>\n",
              "      <td>USB Fan</td>\n",
              "      <td>jrb smallest mobile powered otg enabled androi...</td>\n",
              "    </tr>\n",
              "    <tr>\n",
              "      <th>4</th>\n",
              "      <td>JRB 1019 Smallest Mobile Powered By OTG Enable...</td>\n",
              "      <td>JRB 1019 Smallest Mobile Powered By OTG Enab...</td>\n",
              "      <td>USB Fan</td>\n",
              "      <td>jrb smallest mobile powered otg enabled androi...</td>\n",
              "    </tr>\n",
              "    <tr>\n",
              "      <th>...</th>\n",
              "      <td>...</td>\n",
              "      <td>...</td>\n",
              "      <td>...</td>\n",
              "      <td>...</td>\n",
              "    </tr>\n",
              "    <tr>\n",
              "      <th>837</th>\n",
              "      <td>Dell PowerEdge R320, R420, R620, R330, R430, R...</td>\n",
              "      <td>Dell PowerEdge 1U Sliding Ready Rail Kit C...</td>\n",
              "      <td>servers</td>\n",
              "      <td>dell poweredge sliding ready rail kit compatib...</td>\n",
              "    </tr>\n",
              "    <tr>\n",
              "      <th>838</th>\n",
              "      <td>HPE 873830-S01 ProLiant MicroServer Gen10 Ultr...</td>\n",
              "      <td>.   Full Product Specifications: Click to vie...</td>\n",
              "      <td>servers</td>\n",
              "      <td>full product specification click view number p...</td>\n",
              "    </tr>\n",
              "    <tr>\n",
              "      <th>839</th>\n",
              "      <td>USR-TCP232-302 Tiny Size Serial RS232 to Ether...</td>\n",
              "      <td>.   RS232 to Ethernet Converter: USR TCP232-3...</td>\n",
              "      <td>servers</td>\n",
              "      <td>ethernet converter usr tcp serial ethernet tcp...</td>\n",
              "    </tr>\n",
              "    <tr>\n",
              "      <th>840</th>\n",
              "      <td>Silicone Face Cover Pad for Oculus Quest 2 wit...</td>\n",
              "      <td>Ultra-thin design for Oculus Quest 2 - Unl...</td>\n",
              "      <td>servers</td>\n",
              "      <td>ultra thin design oculus quest unlike many hea...</td>\n",
              "    </tr>\n",
              "    <tr>\n",
              "      <th>841</th>\n",
              "      <td>Dell Precision 7000 7550 15.6\" Mobile Workstat...</td>\n",
              "      <td>.   Processor Manufacturer: Intel Processor T...</td>\n",
              "      <td>servers</td>\n",
              "      <td>processor manufacturer intel processor type co...</td>\n",
              "    </tr>\n",
              "  </tbody>\n",
              "</table>\n",
              "<p>842 rows × 4 columns</p>\n",
              "</div>"
            ],
            "text/plain": [
              "                                          product_name  ...                                cleaned_description\n",
              "0                                       D-Link DAP1320  ...  link dap qrs app io android specification link...\n",
              "1    RoQ Slim Multimedia 105key Flexible Wired USB ...  ...  roq slim multimedia key flexible wired usb fle...\n",
              "2                 cm key 354 Wired USB Tablet Keyboard  ...  cm key wired usb tablet keyboard size standard...\n",
              "3    JRB 1038 Smallest Mobile Powered By OTG Enable...  ...  jrb smallest mobile powered otg enabled androi...\n",
              "4    JRB 1019 Smallest Mobile Powered By OTG Enable...  ...  jrb smallest mobile powered otg enabled androi...\n",
              "..                                                 ...  ...                                                ...\n",
              "837  Dell PowerEdge R320, R420, R620, R330, R430, R...  ...  dell poweredge sliding ready rail kit compatib...\n",
              "838  HPE 873830-S01 ProLiant MicroServer Gen10 Ultr...  ...  full product specification click view number p...\n",
              "839  USR-TCP232-302 Tiny Size Serial RS232 to Ether...  ...  ethernet converter usr tcp serial ethernet tcp...\n",
              "840  Silicone Face Cover Pad for Oculus Quest 2 wit...  ...  ultra thin design oculus quest unlike many hea...\n",
              "841  Dell Precision 7000 7550 15.6\" Mobile Workstat...  ...  processor manufacturer intel processor type co...\n",
              "\n",
              "[842 rows x 4 columns]"
            ]
          },
          "metadata": {
            "tags": []
          },
          "execution_count": 93
        }
      ]
    },
    {
      "cell_type": "code",
      "metadata": {
        "colab": {
          "base_uri": "https://localhost:8080/"
        },
        "id": "l94AT88jx6Pl",
        "outputId": "b9847128-219f-4aa8-8c53-3fe8ade4df90"
      },
      "source": [
        "df.nunique()"
      ],
      "execution_count": null,
      "outputs": [
        {
          "output_type": "execute_result",
          "data": {
            "text/plain": [
              "product_name           835\n",
              "description            842\n",
              "subcategory             36\n",
              "cleaned_description    748\n",
              "dtype: int64"
            ]
          },
          "metadata": {
            "tags": []
          },
          "execution_count": 94
        }
      ]
    },
    {
      "cell_type": "code",
      "metadata": {
        "id": "8665GVRMyKPw"
      },
      "source": [
        "df['product_name']=df['product_name'].astype(str).str.lower()\n",
        "df['subcategory']=df['subcategory'].astype(str).str.lower()\n",
        "df['description']=df['description'].astype(str).str.lower()"
      ],
      "execution_count": null,
      "outputs": []
    },
    {
      "cell_type": "code",
      "metadata": {
        "colab": {
          "base_uri": "https://localhost:8080/",
          "height": 589
        },
        "id": "5mB_-85UzH1n",
        "outputId": "5ff8c93f-1ac2-4ec7-ad9d-64d12272de22"
      },
      "source": [
        "df"
      ],
      "execution_count": null,
      "outputs": [
        {
          "output_type": "execute_result",
          "data": {
            "text/html": [
              "<div>\n",
              "<style scoped>\n",
              "    .dataframe tbody tr th:only-of-type {\n",
              "        vertical-align: middle;\n",
              "    }\n",
              "\n",
              "    .dataframe tbody tr th {\n",
              "        vertical-align: top;\n",
              "    }\n",
              "\n",
              "    .dataframe thead th {\n",
              "        text-align: right;\n",
              "    }\n",
              "</style>\n",
              "<table border=\"1\" class=\"dataframe\">\n",
              "  <thead>\n",
              "    <tr style=\"text-align: right;\">\n",
              "      <th></th>\n",
              "      <th>product_name</th>\n",
              "      <th>description</th>\n",
              "      <th>subcategory</th>\n",
              "      <th>cleaned_description</th>\n",
              "    </tr>\n",
              "  </thead>\n",
              "  <tbody>\n",
              "    <tr>\n",
              "      <th>0</th>\n",
              "      <td>d-link dap1320</td>\n",
              "      <td>d-link dap1320 qrs app(ios,android),specific...</td>\n",
              "      <td>router</td>\n",
              "      <td>link dap qrs app io android specification link...</td>\n",
              "    </tr>\n",
              "    <tr>\n",
              "      <th>1</th>\n",
              "      <td>roq slim multimedia 105key flexible wired usb ...</td>\n",
              "      <td>roq slim multimedia 105key flexible wired us...</td>\n",
              "      <td>keyboard</td>\n",
              "      <td>roq slim multimedia key flexible wired usb fle...</td>\n",
              "    </tr>\n",
              "    <tr>\n",
              "      <th>2</th>\n",
              "      <td>cm key 354 wired usb tablet keyboard</td>\n",
              "      <td>cm key 354 wired usb tablet keyboard size: s...</td>\n",
              "      <td>keyboard</td>\n",
              "      <td>cm key wired usb tablet keyboard size standard...</td>\n",
              "    </tr>\n",
              "    <tr>\n",
              "      <th>3</th>\n",
              "      <td>jrb 1038 smallest mobile powered by otg enable...</td>\n",
              "      <td>jrb 1038 smallest mobile powered by otg enab...</td>\n",
              "      <td>usb fan</td>\n",
              "      <td>jrb smallest mobile powered otg enabled androi...</td>\n",
              "    </tr>\n",
              "    <tr>\n",
              "      <th>4</th>\n",
              "      <td>jrb 1019 smallest mobile powered by otg enable...</td>\n",
              "      <td>jrb 1019 smallest mobile powered by otg enab...</td>\n",
              "      <td>usb fan</td>\n",
              "      <td>jrb smallest mobile powered otg enabled androi...</td>\n",
              "    </tr>\n",
              "    <tr>\n",
              "      <th>...</th>\n",
              "      <td>...</td>\n",
              "      <td>...</td>\n",
              "      <td>...</td>\n",
              "      <td>...</td>\n",
              "    </tr>\n",
              "    <tr>\n",
              "      <th>837</th>\n",
              "      <td>dell poweredge r320, r420, r620, r330, r430, r...</td>\n",
              "      <td>dell poweredge 1u sliding ready rail kit c...</td>\n",
              "      <td>servers</td>\n",
              "      <td>dell poweredge sliding ready rail kit compatib...</td>\n",
              "    </tr>\n",
              "    <tr>\n",
              "      <th>838</th>\n",
              "      <td>hpe 873830-s01 proliant microserver gen10 ultr...</td>\n",
              "      <td>.   full product specifications: click to vie...</td>\n",
              "      <td>servers</td>\n",
              "      <td>full product specification click view number p...</td>\n",
              "    </tr>\n",
              "    <tr>\n",
              "      <th>839</th>\n",
              "      <td>usr-tcp232-302 tiny size serial rs232 to ether...</td>\n",
              "      <td>.   rs232 to ethernet converter: usr tcp232-3...</td>\n",
              "      <td>servers</td>\n",
              "      <td>ethernet converter usr tcp serial ethernet tcp...</td>\n",
              "    </tr>\n",
              "    <tr>\n",
              "      <th>840</th>\n",
              "      <td>silicone face cover pad for oculus quest 2 wit...</td>\n",
              "      <td>ultra-thin design for oculus quest 2 - unl...</td>\n",
              "      <td>servers</td>\n",
              "      <td>ultra thin design oculus quest unlike many hea...</td>\n",
              "    </tr>\n",
              "    <tr>\n",
              "      <th>841</th>\n",
              "      <td>dell precision 7000 7550 15.6\" mobile workstat...</td>\n",
              "      <td>.   processor manufacturer: intel processor t...</td>\n",
              "      <td>servers</td>\n",
              "      <td>processor manufacturer intel processor type co...</td>\n",
              "    </tr>\n",
              "  </tbody>\n",
              "</table>\n",
              "<p>842 rows × 4 columns</p>\n",
              "</div>"
            ],
            "text/plain": [
              "                                          product_name  ...                                cleaned_description\n",
              "0                                       d-link dap1320  ...  link dap qrs app io android specification link...\n",
              "1    roq slim multimedia 105key flexible wired usb ...  ...  roq slim multimedia key flexible wired usb fle...\n",
              "2                 cm key 354 wired usb tablet keyboard  ...  cm key wired usb tablet keyboard size standard...\n",
              "3    jrb 1038 smallest mobile powered by otg enable...  ...  jrb smallest mobile powered otg enabled androi...\n",
              "4    jrb 1019 smallest mobile powered by otg enable...  ...  jrb smallest mobile powered otg enabled androi...\n",
              "..                                                 ...  ...                                                ...\n",
              "837  dell poweredge r320, r420, r620, r330, r430, r...  ...  dell poweredge sliding ready rail kit compatib...\n",
              "838  hpe 873830-s01 proliant microserver gen10 ultr...  ...  full product specification click view number p...\n",
              "839  usr-tcp232-302 tiny size serial rs232 to ether...  ...  ethernet converter usr tcp serial ethernet tcp...\n",
              "840  silicone face cover pad for oculus quest 2 wit...  ...  ultra thin design oculus quest unlike many hea...\n",
              "841  dell precision 7000 7550 15.6\" mobile workstat...  ...  processor manufacturer intel processor type co...\n",
              "\n",
              "[842 rows x 4 columns]"
            ]
          },
          "metadata": {
            "tags": []
          },
          "execution_count": 96
        }
      ]
    },
    {
      "cell_type": "code",
      "metadata": {
        "id": "Mgo0chjczImZ"
      },
      "source": [
        "df.drop_duplicates(subset=\"cleaned_description\",keep=\"first\",inplace=True,ignore_index=True)"
      ],
      "execution_count": null,
      "outputs": []
    },
    {
      "cell_type": "code",
      "metadata": {
        "colab": {
          "base_uri": "https://localhost:8080/",
          "height": 589
        },
        "id": "V_AF10FAzVf3",
        "outputId": "637622ca-483d-4d95-a59d-d4ca7071e7ef"
      },
      "source": [
        "df"
      ],
      "execution_count": null,
      "outputs": [
        {
          "output_type": "execute_result",
          "data": {
            "text/html": [
              "<div>\n",
              "<style scoped>\n",
              "    .dataframe tbody tr th:only-of-type {\n",
              "        vertical-align: middle;\n",
              "    }\n",
              "\n",
              "    .dataframe tbody tr th {\n",
              "        vertical-align: top;\n",
              "    }\n",
              "\n",
              "    .dataframe thead th {\n",
              "        text-align: right;\n",
              "    }\n",
              "</style>\n",
              "<table border=\"1\" class=\"dataframe\">\n",
              "  <thead>\n",
              "    <tr style=\"text-align: right;\">\n",
              "      <th></th>\n",
              "      <th>product_name</th>\n",
              "      <th>description</th>\n",
              "      <th>subcategory</th>\n",
              "      <th>cleaned_description</th>\n",
              "    </tr>\n",
              "  </thead>\n",
              "  <tbody>\n",
              "    <tr>\n",
              "      <th>0</th>\n",
              "      <td>d-link dap1320</td>\n",
              "      <td>d-link dap1320 qrs app(ios,android),specific...</td>\n",
              "      <td>router</td>\n",
              "      <td>link dap qrs app io android specification link...</td>\n",
              "    </tr>\n",
              "    <tr>\n",
              "      <th>1</th>\n",
              "      <td>roq slim multimedia 105key flexible wired usb ...</td>\n",
              "      <td>roq slim multimedia 105key flexible wired us...</td>\n",
              "      <td>keyboard</td>\n",
              "      <td>roq slim multimedia key flexible wired usb fle...</td>\n",
              "    </tr>\n",
              "    <tr>\n",
              "      <th>2</th>\n",
              "      <td>cm key 354 wired usb tablet keyboard</td>\n",
              "      <td>cm key 354 wired usb tablet keyboard size: s...</td>\n",
              "      <td>keyboard</td>\n",
              "      <td>cm key wired usb tablet keyboard size standard...</td>\n",
              "    </tr>\n",
              "    <tr>\n",
              "      <th>3</th>\n",
              "      <td>jrb 1038 smallest mobile powered by otg enable...</td>\n",
              "      <td>jrb 1038 smallest mobile powered by otg enab...</td>\n",
              "      <td>usb fan</td>\n",
              "      <td>jrb smallest mobile powered otg enabled androi...</td>\n",
              "    </tr>\n",
              "    <tr>\n",
              "      <th>4</th>\n",
              "      <td>vency creation a02 usb a110 led light</td>\n",
              "      <td>vency creation a02 usb a110 led light system...</td>\n",
              "      <td>led light</td>\n",
              "      <td>vency creation usb led light system requiremen...</td>\n",
              "    </tr>\n",
              "    <tr>\n",
              "      <th>...</th>\n",
              "      <td>...</td>\n",
              "      <td>...</td>\n",
              "      <td>...</td>\n",
              "      <td>...</td>\n",
              "    </tr>\n",
              "    <tr>\n",
              "      <th>743</th>\n",
              "      <td>dell poweredge r320, r420, r620, r330, r430, r...</td>\n",
              "      <td>dell poweredge 1u sliding ready rail kit c...</td>\n",
              "      <td>servers</td>\n",
              "      <td>dell poweredge sliding ready rail kit compatib...</td>\n",
              "    </tr>\n",
              "    <tr>\n",
              "      <th>744</th>\n",
              "      <td>hpe 873830-s01 proliant microserver gen10 ultr...</td>\n",
              "      <td>.   full product specifications: click to vie...</td>\n",
              "      <td>servers</td>\n",
              "      <td>full product specification click view number p...</td>\n",
              "    </tr>\n",
              "    <tr>\n",
              "      <th>745</th>\n",
              "      <td>usr-tcp232-302 tiny size serial rs232 to ether...</td>\n",
              "      <td>.   rs232 to ethernet converter: usr tcp232-3...</td>\n",
              "      <td>servers</td>\n",
              "      <td>ethernet converter usr tcp serial ethernet tcp...</td>\n",
              "    </tr>\n",
              "    <tr>\n",
              "      <th>746</th>\n",
              "      <td>silicone face cover pad for oculus quest 2 wit...</td>\n",
              "      <td>ultra-thin design for oculus quest 2 - unl...</td>\n",
              "      <td>servers</td>\n",
              "      <td>ultra thin design oculus quest unlike many hea...</td>\n",
              "    </tr>\n",
              "    <tr>\n",
              "      <th>747</th>\n",
              "      <td>dell precision 7000 7550 15.6\" mobile workstat...</td>\n",
              "      <td>.   processor manufacturer: intel processor t...</td>\n",
              "      <td>servers</td>\n",
              "      <td>processor manufacturer intel processor type co...</td>\n",
              "    </tr>\n",
              "  </tbody>\n",
              "</table>\n",
              "<p>748 rows × 4 columns</p>\n",
              "</div>"
            ],
            "text/plain": [
              "                                          product_name  ...                                cleaned_description\n",
              "0                                       d-link dap1320  ...  link dap qrs app io android specification link...\n",
              "1    roq slim multimedia 105key flexible wired usb ...  ...  roq slim multimedia key flexible wired usb fle...\n",
              "2                 cm key 354 wired usb tablet keyboard  ...  cm key wired usb tablet keyboard size standard...\n",
              "3    jrb 1038 smallest mobile powered by otg enable...  ...  jrb smallest mobile powered otg enabled androi...\n",
              "4                vency creation a02 usb a110 led light  ...  vency creation usb led light system requiremen...\n",
              "..                                                 ...  ...                                                ...\n",
              "743  dell poweredge r320, r420, r620, r330, r430, r...  ...  dell poweredge sliding ready rail kit compatib...\n",
              "744  hpe 873830-s01 proliant microserver gen10 ultr...  ...  full product specification click view number p...\n",
              "745  usr-tcp232-302 tiny size serial rs232 to ether...  ...  ethernet converter usr tcp serial ethernet tcp...\n",
              "746  silicone face cover pad for oculus quest 2 wit...  ...  ultra thin design oculus quest unlike many hea...\n",
              "747  dell precision 7000 7550 15.6\" mobile workstat...  ...  processor manufacturer intel processor type co...\n",
              "\n",
              "[748 rows x 4 columns]"
            ]
          },
          "metadata": {
            "tags": []
          },
          "execution_count": 98
        }
      ]
    },
    {
      "cell_type": "code",
      "metadata": {
        "colab": {
          "base_uri": "https://localhost:8080/"
        },
        "id": "0B1sTTw7zjxG",
        "outputId": "83a9c06a-ad83-4d9b-bed9-6c60e2c674cc"
      },
      "source": [
        "df.subcategory.value_counts()"
      ],
      "execution_count": null,
      "outputs": [
        {
          "output_type": "execute_result",
          "data": {
            "text/plain": [
              "router                      166\n",
              "monitors                    117\n",
              "laptop battery               72\n",
              "data storage                 64\n",
              "led light                    63\n",
              "scanners                     62\n",
              "laptop skin and mousepad     36\n",
              "adapter                      32\n",
              "usb hub                      21\n",
              "usb fan                      21\n",
              "servers                      20\n",
              "cartridge                     9\n",
              "usb sound card                8\n",
              "usb cable                     8\n",
              "processor                     5\n",
              "cleaner                       5\n",
              "charger                       4\n",
              "hdmi cable                    3\n",
              "laptop backpack               3\n",
              "keyboard                      3\n",
              "pendrive                      3\n",
              "mousepad                      3\n",
              "motherboard                   2\n",
              "laptop                        2\n",
              "usb lighter                   2\n",
              "keyboard case                 2\n",
              "usb bluetooth                 2\n",
              "software                      2\n",
              "usb cup warmer                1\n",
              "mp4 player                    1\n",
              "hard disk                     1\n",
              "projector                     1\n",
              "ram                           1\n",
              "usb clapper board             1\n",
              "tablet                        1\n",
              "tablet cover                  1\n",
              "Name: subcategory, dtype: int64"
            ]
          },
          "metadata": {
            "tags": []
          },
          "execution_count": 99
        }
      ]
    },
    {
      "cell_type": "code",
      "metadata": {
        "id": "IV3mdhoNzrLJ"
      },
      "source": [
        "df.subcategory[df['subcategory']==\"pendrive\"] = \"data storage\""
      ],
      "execution_count": null,
      "outputs": []
    },
    {
      "cell_type": "code",
      "metadata": {
        "colab": {
          "base_uri": "https://localhost:8080/"
        },
        "id": "0rbVUADY08KT",
        "outputId": "475760f5-2b46-418e-f485-91c647f3daf3"
      },
      "source": [
        "list(set(df.subcategory.to_list()))"
      ],
      "execution_count": null,
      "outputs": [
        {
          "output_type": "execute_result",
          "data": {
            "text/plain": [
              "['charger',\n",
              " 'laptop battery',\n",
              " 'usb clapper board',\n",
              " 'usb lighter',\n",
              " 'scanners',\n",
              " 'usb cable',\n",
              " 'cartridge',\n",
              " 'usb cup warmer',\n",
              " 'monitors',\n",
              " 'data storage',\n",
              " 'usb bluetooth',\n",
              " 'laptop skin and mousepad',\n",
              " 'processor',\n",
              " 'mp4 player',\n",
              " 'keyboard',\n",
              " 'projector',\n",
              " 'laptop backpack',\n",
              " 'led light',\n",
              " 'tablet',\n",
              " 'tablet cover',\n",
              " 'hdmi cable',\n",
              " 'ram',\n",
              " 'mousepad',\n",
              " 'usb fan',\n",
              " 'usb hub',\n",
              " 'servers',\n",
              " 'hard disk',\n",
              " 'keyboard case',\n",
              " 'motherboard',\n",
              " 'router',\n",
              " 'cleaner',\n",
              " 'usb sound card',\n",
              " 'laptop',\n",
              " 'adapter',\n",
              " 'software']"
            ]
          },
          "metadata": {
            "tags": []
          },
          "execution_count": 101
        }
      ]
    },
    {
      "cell_type": "code",
      "metadata": {
        "colab": {
          "base_uri": "https://localhost:8080/"
        },
        "id": "P-nAzHlP1UbL",
        "outputId": "50dd319e-59b1-496e-a6b2-859f83faa0f8"
      },
      "source": [
        " ['software',\n",
        " 'monitors',\n",
        " 'data storage',\n",
        " 'projector',\n",
        " 'laptop skin and mousepad',\n",
        " 'usb cable',\n",
        " 'charger',\n",
        " 'usb lighter',\n",
        " 'keyboard case',\n",
        " 'keyboard',\n",
        " 'ram',\n",
        " 'usb clapper board',\n",
        " 'motherboard',\n",
        " 'processor',\n",
        " 'laptop',\n",
        " 'hard disk',\n",
        " 'usb bluetooth',\n",
        " 'scanners',\n",
        " 'cleaner',\n",
        " 'mp4 player',\n",
        " 'servers',\n",
        " 'hdmi cable',\n",
        " 'adapter',\n",
        " 'laptop battery',\n",
        " 'usb cup warmer',\n",
        " 'mousepad',\n",
        " 'tablet cover',\n",
        " 'tablet',\n",
        " 'cartridge',\n",
        " 'usb hub',\n",
        " 'led light',\n",
        " 'router',\n",
        " 'usb sound card',\n",
        " 'usb fan',\n",
        " 'laptop backpack']\n"
      ],
      "execution_count": null,
      "outputs": [
        {
          "output_type": "execute_result",
          "data": {
            "text/plain": [
              "['software',\n",
              " 'monitors',\n",
              " 'data storage',\n",
              " 'projector',\n",
              " 'laptop skin and mousepad',\n",
              " 'usb cable',\n",
              " 'charger',\n",
              " 'usb lighter',\n",
              " 'keyboard case',\n",
              " 'keyboard',\n",
              " 'ram',\n",
              " 'usb clapper board',\n",
              " 'motherboard',\n",
              " 'processor',\n",
              " 'laptop',\n",
              " 'hard disk',\n",
              " 'usb bluetooth',\n",
              " 'scanners',\n",
              " 'cleaner',\n",
              " 'mp4 player',\n",
              " 'servers',\n",
              " 'hdmi cable',\n",
              " 'adapter',\n",
              " 'laptop battery',\n",
              " 'usb cup warmer',\n",
              " 'mousepad',\n",
              " 'tablet cover',\n",
              " 'tablet',\n",
              " 'cartridge',\n",
              " 'usb hub',\n",
              " 'led light',\n",
              " 'router',\n",
              " 'usb sound card',\n",
              " 'usb fan',\n",
              " 'laptop backpack']"
            ]
          },
          "metadata": {
            "tags": []
          },
          "execution_count": 102
        }
      ]
    },
    {
      "cell_type": "code",
      "metadata": {
        "id": "nKvFyT_c1Ich"
      },
      "source": [
        "usb_list =  [\n",
        " 'usb cable',\n",
        " 'usb lighter',\n",
        " 'usb clapper board',\n",
        " 'usb bluetooth',\n",
        " 'usb cup warmer',\n",
        " 'usb hub',\n",
        " 'usb sound card',\n",
        " 'usb fan']\n"
      ],
      "execution_count": null,
      "outputs": []
    },
    {
      "cell_type": "code",
      "metadata": {
        "id": "j41if_pC0HVv"
      },
      "source": [
        "for usb in usb_list:\n",
        "    df.subcategory[df['subcategory'] == usb] = \"usb_accessories\""
      ],
      "execution_count": null,
      "outputs": []
    },
    {
      "cell_type": "code",
      "metadata": {
        "id": "-4z7YpkS3jQR"
      },
      "source": [
        "df.subcategory[df['subcategory']==\"hard disk\"] = \"data storage\""
      ],
      "execution_count": null,
      "outputs": []
    },
    {
      "cell_type": "code",
      "metadata": {
        "colab": {
          "base_uri": "https://localhost:8080/"
        },
        "id": "Ific_t0i0mwb",
        "outputId": "89d80697-5383-435f-948b-de7ac31e8677"
      },
      "source": [
        "df.subcategory.value_counts()"
      ],
      "execution_count": null,
      "outputs": [
        {
          "output_type": "execute_result",
          "data": {
            "text/plain": [
              "router                      166\n",
              "monitors                    117\n",
              "laptop battery               72\n",
              "data storage                 68\n",
              "usb_accessories              64\n",
              "led light                    63\n",
              "scanners                     62\n",
              "laptop skin and mousepad     36\n",
              "adapter                      32\n",
              "servers                      20\n",
              "cartridge                     9\n",
              "cleaner                       5\n",
              "processor                     5\n",
              "charger                       4\n",
              "laptop backpack               3\n",
              "keyboard                      3\n",
              "hdmi cable                    3\n",
              "mousepad                      3\n",
              "motherboard                   2\n",
              "keyboard case                 2\n",
              "laptop                        2\n",
              "software                      2\n",
              "projector                     1\n",
              "mp4 player                    1\n",
              "tablet                        1\n",
              "tablet cover                  1\n",
              "ram                           1\n",
              "Name: subcategory, dtype: int64"
            ]
          },
          "metadata": {
            "tags": []
          },
          "execution_count": 106
        }
      ]
    },
    {
      "cell_type": "code",
      "metadata": {
        "colab": {
          "base_uri": "https://localhost:8080/",
          "height": 589
        },
        "id": "fz1otkzK3TGm",
        "outputId": "f369d247-6fe5-485a-bd15-2b130908a69a"
      },
      "source": [
        "df"
      ],
      "execution_count": null,
      "outputs": [
        {
          "output_type": "execute_result",
          "data": {
            "text/html": [
              "<div>\n",
              "<style scoped>\n",
              "    .dataframe tbody tr th:only-of-type {\n",
              "        vertical-align: middle;\n",
              "    }\n",
              "\n",
              "    .dataframe tbody tr th {\n",
              "        vertical-align: top;\n",
              "    }\n",
              "\n",
              "    .dataframe thead th {\n",
              "        text-align: right;\n",
              "    }\n",
              "</style>\n",
              "<table border=\"1\" class=\"dataframe\">\n",
              "  <thead>\n",
              "    <tr style=\"text-align: right;\">\n",
              "      <th></th>\n",
              "      <th>product_name</th>\n",
              "      <th>description</th>\n",
              "      <th>subcategory</th>\n",
              "      <th>cleaned_description</th>\n",
              "    </tr>\n",
              "  </thead>\n",
              "  <tbody>\n",
              "    <tr>\n",
              "      <th>0</th>\n",
              "      <td>d-link dap1320</td>\n",
              "      <td>d-link dap1320 qrs app(ios,android),specific...</td>\n",
              "      <td>router</td>\n",
              "      <td>link dap qrs app io android specification link...</td>\n",
              "    </tr>\n",
              "    <tr>\n",
              "      <th>1</th>\n",
              "      <td>roq slim multimedia 105key flexible wired usb ...</td>\n",
              "      <td>roq slim multimedia 105key flexible wired us...</td>\n",
              "      <td>keyboard</td>\n",
              "      <td>roq slim multimedia key flexible wired usb fle...</td>\n",
              "    </tr>\n",
              "    <tr>\n",
              "      <th>2</th>\n",
              "      <td>cm key 354 wired usb tablet keyboard</td>\n",
              "      <td>cm key 354 wired usb tablet keyboard size: s...</td>\n",
              "      <td>keyboard</td>\n",
              "      <td>cm key wired usb tablet keyboard size standard...</td>\n",
              "    </tr>\n",
              "    <tr>\n",
              "      <th>3</th>\n",
              "      <td>jrb 1038 smallest mobile powered by otg enable...</td>\n",
              "      <td>jrb 1038 smallest mobile powered by otg enab...</td>\n",
              "      <td>usb_accessories</td>\n",
              "      <td>jrb smallest mobile powered otg enabled androi...</td>\n",
              "    </tr>\n",
              "    <tr>\n",
              "      <th>4</th>\n",
              "      <td>vency creation a02 usb a110 led light</td>\n",
              "      <td>vency creation a02 usb a110 led light system...</td>\n",
              "      <td>led light</td>\n",
              "      <td>vency creation usb led light system requiremen...</td>\n",
              "    </tr>\n",
              "    <tr>\n",
              "      <th>...</th>\n",
              "      <td>...</td>\n",
              "      <td>...</td>\n",
              "      <td>...</td>\n",
              "      <td>...</td>\n",
              "    </tr>\n",
              "    <tr>\n",
              "      <th>743</th>\n",
              "      <td>dell poweredge r320, r420, r620, r330, r430, r...</td>\n",
              "      <td>dell poweredge 1u sliding ready rail kit c...</td>\n",
              "      <td>servers</td>\n",
              "      <td>dell poweredge sliding ready rail kit compatib...</td>\n",
              "    </tr>\n",
              "    <tr>\n",
              "      <th>744</th>\n",
              "      <td>hpe 873830-s01 proliant microserver gen10 ultr...</td>\n",
              "      <td>.   full product specifications: click to vie...</td>\n",
              "      <td>servers</td>\n",
              "      <td>full product specification click view number p...</td>\n",
              "    </tr>\n",
              "    <tr>\n",
              "      <th>745</th>\n",
              "      <td>usr-tcp232-302 tiny size serial rs232 to ether...</td>\n",
              "      <td>.   rs232 to ethernet converter: usr tcp232-3...</td>\n",
              "      <td>servers</td>\n",
              "      <td>ethernet converter usr tcp serial ethernet tcp...</td>\n",
              "    </tr>\n",
              "    <tr>\n",
              "      <th>746</th>\n",
              "      <td>silicone face cover pad for oculus quest 2 wit...</td>\n",
              "      <td>ultra-thin design for oculus quest 2 - unl...</td>\n",
              "      <td>servers</td>\n",
              "      <td>ultra thin design oculus quest unlike many hea...</td>\n",
              "    </tr>\n",
              "    <tr>\n",
              "      <th>747</th>\n",
              "      <td>dell precision 7000 7550 15.6\" mobile workstat...</td>\n",
              "      <td>.   processor manufacturer: intel processor t...</td>\n",
              "      <td>servers</td>\n",
              "      <td>processor manufacturer intel processor type co...</td>\n",
              "    </tr>\n",
              "  </tbody>\n",
              "</table>\n",
              "<p>748 rows × 4 columns</p>\n",
              "</div>"
            ],
            "text/plain": [
              "                                          product_name  ...                                cleaned_description\n",
              "0                                       d-link dap1320  ...  link dap qrs app io android specification link...\n",
              "1    roq slim multimedia 105key flexible wired usb ...  ...  roq slim multimedia key flexible wired usb fle...\n",
              "2                 cm key 354 wired usb tablet keyboard  ...  cm key wired usb tablet keyboard size standard...\n",
              "3    jrb 1038 smallest mobile powered by otg enable...  ...  jrb smallest mobile powered otg enabled androi...\n",
              "4                vency creation a02 usb a110 led light  ...  vency creation usb led light system requiremen...\n",
              "..                                                 ...  ...                                                ...\n",
              "743  dell poweredge r320, r420, r620, r330, r430, r...  ...  dell poweredge sliding ready rail kit compatib...\n",
              "744  hpe 873830-s01 proliant microserver gen10 ultr...  ...  full product specification click view number p...\n",
              "745  usr-tcp232-302 tiny size serial rs232 to ether...  ...  ethernet converter usr tcp serial ethernet tcp...\n",
              "746  silicone face cover pad for oculus quest 2 wit...  ...  ultra thin design oculus quest unlike many hea...\n",
              "747  dell precision 7000 7550 15.6\" mobile workstat...  ...  processor manufacturer intel processor type co...\n",
              "\n",
              "[748 rows x 4 columns]"
            ]
          },
          "metadata": {
            "tags": []
          },
          "execution_count": 107
        }
      ]
    },
    {
      "cell_type": "code",
      "metadata": {
        "id": "40D1z3LU4I3g"
      },
      "source": [
        "df.rename({'subcategory': 'category'}, axis=1, inplace=True)"
      ],
      "execution_count": null,
      "outputs": []
    },
    {
      "cell_type": "code",
      "metadata": {
        "colab": {
          "base_uri": "https://localhost:8080/",
          "height": 589
        },
        "id": "FXN3Ez1942Jg",
        "outputId": "4e1ed2fd-274f-48f9-b62d-ce547e7e0df1"
      },
      "source": [
        "df"
      ],
      "execution_count": null,
      "outputs": [
        {
          "output_type": "execute_result",
          "data": {
            "text/html": [
              "<div>\n",
              "<style scoped>\n",
              "    .dataframe tbody tr th:only-of-type {\n",
              "        vertical-align: middle;\n",
              "    }\n",
              "\n",
              "    .dataframe tbody tr th {\n",
              "        vertical-align: top;\n",
              "    }\n",
              "\n",
              "    .dataframe thead th {\n",
              "        text-align: right;\n",
              "    }\n",
              "</style>\n",
              "<table border=\"1\" class=\"dataframe\">\n",
              "  <thead>\n",
              "    <tr style=\"text-align: right;\">\n",
              "      <th></th>\n",
              "      <th>product_name</th>\n",
              "      <th>description</th>\n",
              "      <th>category</th>\n",
              "      <th>cleaned_description</th>\n",
              "    </tr>\n",
              "  </thead>\n",
              "  <tbody>\n",
              "    <tr>\n",
              "      <th>0</th>\n",
              "      <td>d-link dap1320</td>\n",
              "      <td>d-link dap1320 qrs app(ios,android),specific...</td>\n",
              "      <td>router</td>\n",
              "      <td>link dap qrs app io android specification link...</td>\n",
              "    </tr>\n",
              "    <tr>\n",
              "      <th>1</th>\n",
              "      <td>roq slim multimedia 105key flexible wired usb ...</td>\n",
              "      <td>roq slim multimedia 105key flexible wired us...</td>\n",
              "      <td>keyboard</td>\n",
              "      <td>roq slim multimedia key flexible wired usb fle...</td>\n",
              "    </tr>\n",
              "    <tr>\n",
              "      <th>2</th>\n",
              "      <td>cm key 354 wired usb tablet keyboard</td>\n",
              "      <td>cm key 354 wired usb tablet keyboard size: s...</td>\n",
              "      <td>keyboard</td>\n",
              "      <td>cm key wired usb tablet keyboard size standard...</td>\n",
              "    </tr>\n",
              "    <tr>\n",
              "      <th>3</th>\n",
              "      <td>jrb 1038 smallest mobile powered by otg enable...</td>\n",
              "      <td>jrb 1038 smallest mobile powered by otg enab...</td>\n",
              "      <td>usb_accessories</td>\n",
              "      <td>jrb smallest mobile powered otg enabled androi...</td>\n",
              "    </tr>\n",
              "    <tr>\n",
              "      <th>4</th>\n",
              "      <td>vency creation a02 usb a110 led light</td>\n",
              "      <td>vency creation a02 usb a110 led light system...</td>\n",
              "      <td>led light</td>\n",
              "      <td>vency creation usb led light system requiremen...</td>\n",
              "    </tr>\n",
              "    <tr>\n",
              "      <th>...</th>\n",
              "      <td>...</td>\n",
              "      <td>...</td>\n",
              "      <td>...</td>\n",
              "      <td>...</td>\n",
              "    </tr>\n",
              "    <tr>\n",
              "      <th>743</th>\n",
              "      <td>dell poweredge r320, r420, r620, r330, r430, r...</td>\n",
              "      <td>dell poweredge 1u sliding ready rail kit c...</td>\n",
              "      <td>servers</td>\n",
              "      <td>dell poweredge sliding ready rail kit compatib...</td>\n",
              "    </tr>\n",
              "    <tr>\n",
              "      <th>744</th>\n",
              "      <td>hpe 873830-s01 proliant microserver gen10 ultr...</td>\n",
              "      <td>.   full product specifications: click to vie...</td>\n",
              "      <td>servers</td>\n",
              "      <td>full product specification click view number p...</td>\n",
              "    </tr>\n",
              "    <tr>\n",
              "      <th>745</th>\n",
              "      <td>usr-tcp232-302 tiny size serial rs232 to ether...</td>\n",
              "      <td>.   rs232 to ethernet converter: usr tcp232-3...</td>\n",
              "      <td>servers</td>\n",
              "      <td>ethernet converter usr tcp serial ethernet tcp...</td>\n",
              "    </tr>\n",
              "    <tr>\n",
              "      <th>746</th>\n",
              "      <td>silicone face cover pad for oculus quest 2 wit...</td>\n",
              "      <td>ultra-thin design for oculus quest 2 - unl...</td>\n",
              "      <td>servers</td>\n",
              "      <td>ultra thin design oculus quest unlike many hea...</td>\n",
              "    </tr>\n",
              "    <tr>\n",
              "      <th>747</th>\n",
              "      <td>dell precision 7000 7550 15.6\" mobile workstat...</td>\n",
              "      <td>.   processor manufacturer: intel processor t...</td>\n",
              "      <td>servers</td>\n",
              "      <td>processor manufacturer intel processor type co...</td>\n",
              "    </tr>\n",
              "  </tbody>\n",
              "</table>\n",
              "<p>748 rows × 4 columns</p>\n",
              "</div>"
            ],
            "text/plain": [
              "                                          product_name  ...                                cleaned_description\n",
              "0                                       d-link dap1320  ...  link dap qrs app io android specification link...\n",
              "1    roq slim multimedia 105key flexible wired usb ...  ...  roq slim multimedia key flexible wired usb fle...\n",
              "2                 cm key 354 wired usb tablet keyboard  ...  cm key wired usb tablet keyboard size standard...\n",
              "3    jrb 1038 smallest mobile powered by otg enable...  ...  jrb smallest mobile powered otg enabled androi...\n",
              "4                vency creation a02 usb a110 led light  ...  vency creation usb led light system requiremen...\n",
              "..                                                 ...  ...                                                ...\n",
              "743  dell poweredge r320, r420, r620, r330, r430, r...  ...  dell poweredge sliding ready rail kit compatib...\n",
              "744  hpe 873830-s01 proliant microserver gen10 ultr...  ...  full product specification click view number p...\n",
              "745  usr-tcp232-302 tiny size serial rs232 to ether...  ...  ethernet converter usr tcp serial ethernet tcp...\n",
              "746  silicone face cover pad for oculus quest 2 wit...  ...  ultra thin design oculus quest unlike many hea...\n",
              "747  dell precision 7000 7550 15.6\" mobile workstat...  ...  processor manufacturer intel processor type co...\n",
              "\n",
              "[748 rows x 4 columns]"
            ]
          },
          "metadata": {
            "tags": []
          },
          "execution_count": 109
        }
      ]
    },
    {
      "cell_type": "code",
      "metadata": {
        "colab": {
          "base_uri": "https://localhost:8080/"
        },
        "id": "C0IIiuAx43F0",
        "outputId": "fce7b1d0-0e79-4914-ae6e-d62812ce2f39"
      },
      "source": [
        "df.nunique()"
      ],
      "execution_count": null,
      "outputs": [
        {
          "output_type": "execute_result",
          "data": {
            "text/plain": [
              "product_name           742\n",
              "description            748\n",
              "category                27\n",
              "cleaned_description    748\n",
              "dtype: int64"
            ]
          },
          "metadata": {
            "tags": []
          },
          "execution_count": 110
        }
      ]
    },
    {
      "cell_type": "code",
      "metadata": {
        "id": "TgpgXVA75AU6"
      },
      "source": [
        "df.to_csv(\"/content/drive/MyDrive/Content_Recommendation/LSTM_Similarity/Computer_Product/cleaned_computer_df.csv\",index=False)"
      ],
      "execution_count": null,
      "outputs": []
    },
    {
      "cell_type": "markdown",
      "metadata": {
        "id": "k3pib9r16HJb"
      },
      "source": [
        "## Data Preparation for model training"
      ]
    },
    {
      "cell_type": "markdown",
      "metadata": {
        "id": "OnGaHm1F6P1z"
      },
      "source": [
        "Let us identify the most frequent product categories."
      ]
    },
    {
      "cell_type": "code",
      "metadata": {
        "id": "q5UH4cypqde6"
      },
      "source": [
        "df = pd.read_csv(\"/content/drive/MyDrive/Content_Recommendation/LSTM_Similarity/Computer_Product/cleaned_computer_df.csv\")"
      ],
      "execution_count": null,
      "outputs": []
    },
    {
      "cell_type": "code",
      "metadata": {
        "colab": {
          "base_uri": "https://localhost:8080/"
        },
        "id": "zZUT1ql3MkZg",
        "outputId": "df937e63-3444-4022-a0cd-9ff7d1723a49"
      },
      "source": [
        "df.shape"
      ],
      "execution_count": null,
      "outputs": [
        {
          "output_type": "execute_result",
          "data": {
            "text/plain": [
              "(748, 4)"
            ]
          },
          "metadata": {
            "tags": []
          },
          "execution_count": 119
        }
      ]
    },
    {
      "cell_type": "code",
      "metadata": {
        "colab": {
          "base_uri": "https://localhost:8080/"
        },
        "id": "i3Z1EdeEMnVJ",
        "outputId": "9a91a59f-3d8b-4723-84e5-995c8f81f0a0"
      },
      "source": [
        "df.nunique()"
      ],
      "execution_count": null,
      "outputs": [
        {
          "output_type": "execute_result",
          "data": {
            "text/plain": [
              "product_name           742\n",
              "description            748\n",
              "category                27\n",
              "cleaned_description    747\n",
              "dtype: int64"
            ]
          },
          "metadata": {
            "tags": []
          },
          "execution_count": 121
        }
      ]
    },
    {
      "cell_type": "code",
      "metadata": {
        "colab": {
          "base_uri": "https://localhost:8080/"
        },
        "id": "F4gd6eaYMugt",
        "outputId": "c8aec8cf-70ae-4823-c61d-ab3b1b51801d"
      },
      "source": [
        "df.isna().sum()"
      ],
      "execution_count": null,
      "outputs": [
        {
          "output_type": "execute_result",
          "data": {
            "text/plain": [
              "product_name           0\n",
              "description            0\n",
              "category               0\n",
              "cleaned_description    1\n",
              "dtype: int64"
            ]
          },
          "metadata": {
            "tags": []
          },
          "execution_count": 122
        }
      ]
    },
    {
      "cell_type": "code",
      "metadata": {
        "id": "HeTzdyG0M2Il"
      },
      "source": [
        "df.dropna(inplace=True)"
      ],
      "execution_count": null,
      "outputs": []
    },
    {
      "cell_type": "code",
      "metadata": {
        "colab": {
          "base_uri": "https://localhost:8080/"
        },
        "id": "ee9WbNqSM_YY",
        "outputId": "eaa7f1c7-1b51-4e97-fdcc-86a4b6462e9e"
      },
      "source": [
        "df.isna().sum()"
      ],
      "execution_count": null,
      "outputs": [
        {
          "output_type": "execute_result",
          "data": {
            "text/plain": [
              "product_name           0\n",
              "description            0\n",
              "category               0\n",
              "cleaned_description    0\n",
              "dtype: int64"
            ]
          },
          "metadata": {
            "tags": []
          },
          "execution_count": 124
        }
      ]
    },
    {
      "cell_type": "code",
      "metadata": {
        "colab": {
          "base_uri": "https://localhost:8080/"
        },
        "id": "IAO0_atHNBcr",
        "outputId": "caad588b-68f6-44b6-dae7-7822d3c50d67"
      },
      "source": [
        "df.shape"
      ],
      "execution_count": null,
      "outputs": [
        {
          "output_type": "execute_result",
          "data": {
            "text/plain": [
              "(747, 4)"
            ]
          },
          "metadata": {
            "tags": []
          },
          "execution_count": 125
        }
      ]
    },
    {
      "cell_type": "code",
      "metadata": {
        "id": "J4A1D9awNDN8"
      },
      "source": [
        "df.reset_index(drop=True,inplace=True)"
      ],
      "execution_count": null,
      "outputs": []
    },
    {
      "cell_type": "code",
      "metadata": {
        "id": "YAgqYRSZNNZ1"
      },
      "source": [
        "df.to_csv(\"/content/drive/MyDrive/Content_Recommendation/LSTM_Similarity/Computer_Product/cleaned_computer_df.csv\",index=False)"
      ],
      "execution_count": null,
      "outputs": []
    },
    {
      "cell_type": "code",
      "metadata": {
        "id": "fLGpSdKPNSHL"
      },
      "source": [
        "df = pd.read_csv(\"/content/drive/MyDrive/Content_Recommendation/LSTM_Similarity/Computer_Product/cleaned_computer_df.csv\")"
      ],
      "execution_count": null,
      "outputs": []
    },
    {
      "cell_type": "code",
      "metadata": {
        "colab": {
          "base_uri": "https://localhost:8080/"
        },
        "id": "-EjA1DNJNTQx",
        "outputId": "3beb4423-db0a-4aa5-f404-1664cb22ec45"
      },
      "source": [
        "df.shape"
      ],
      "execution_count": null,
      "outputs": [
        {
          "output_type": "execute_result",
          "data": {
            "text/plain": [
              "(747, 4)"
            ]
          },
          "metadata": {
            "tags": []
          },
          "execution_count": 129
        }
      ]
    },
    {
      "cell_type": "code",
      "metadata": {
        "colab": {
          "base_uri": "https://localhost:8080/",
          "height": 589
        },
        "id": "lEwEsIqnNVK4",
        "outputId": "e55b4c7e-d0a7-4f7c-d64e-22947064c2c5"
      },
      "source": [
        "df"
      ],
      "execution_count": null,
      "outputs": [
        {
          "output_type": "execute_result",
          "data": {
            "text/html": [
              "<div>\n",
              "<style scoped>\n",
              "    .dataframe tbody tr th:only-of-type {\n",
              "        vertical-align: middle;\n",
              "    }\n",
              "\n",
              "    .dataframe tbody tr th {\n",
              "        vertical-align: top;\n",
              "    }\n",
              "\n",
              "    .dataframe thead th {\n",
              "        text-align: right;\n",
              "    }\n",
              "</style>\n",
              "<table border=\"1\" class=\"dataframe\">\n",
              "  <thead>\n",
              "    <tr style=\"text-align: right;\">\n",
              "      <th></th>\n",
              "      <th>product_name</th>\n",
              "      <th>description</th>\n",
              "      <th>category</th>\n",
              "      <th>cleaned_description</th>\n",
              "    </tr>\n",
              "  </thead>\n",
              "  <tbody>\n",
              "    <tr>\n",
              "      <th>0</th>\n",
              "      <td>d-link dap1320</td>\n",
              "      <td>d-link dap1320 qrs app(ios,android),specific...</td>\n",
              "      <td>router</td>\n",
              "      <td>link dap qrs app io android specification link...</td>\n",
              "    </tr>\n",
              "    <tr>\n",
              "      <th>1</th>\n",
              "      <td>roq slim multimedia 105key flexible wired usb ...</td>\n",
              "      <td>roq slim multimedia 105key flexible wired us...</td>\n",
              "      <td>keyboard</td>\n",
              "      <td>roq slim multimedia key flexible wired usb fle...</td>\n",
              "    </tr>\n",
              "    <tr>\n",
              "      <th>2</th>\n",
              "      <td>cm key 354 wired usb tablet keyboard</td>\n",
              "      <td>cm key 354 wired usb tablet keyboard size: s...</td>\n",
              "      <td>keyboard</td>\n",
              "      <td>cm key wired usb tablet keyboard size standard...</td>\n",
              "    </tr>\n",
              "    <tr>\n",
              "      <th>3</th>\n",
              "      <td>jrb 1038 smallest mobile powered by otg enable...</td>\n",
              "      <td>jrb 1038 smallest mobile powered by otg enab...</td>\n",
              "      <td>usb_accessories</td>\n",
              "      <td>jrb smallest mobile powered otg enabled androi...</td>\n",
              "    </tr>\n",
              "    <tr>\n",
              "      <th>4</th>\n",
              "      <td>vency creation a02 usb a110 led light</td>\n",
              "      <td>vency creation a02 usb a110 led light system...</td>\n",
              "      <td>led light</td>\n",
              "      <td>vency creation usb led light system requiremen...</td>\n",
              "    </tr>\n",
              "    <tr>\n",
              "      <th>...</th>\n",
              "      <td>...</td>\n",
              "      <td>...</td>\n",
              "      <td>...</td>\n",
              "      <td>...</td>\n",
              "    </tr>\n",
              "    <tr>\n",
              "      <th>742</th>\n",
              "      <td>dell poweredge r320, r420, r620, r330, r430, r...</td>\n",
              "      <td>dell poweredge 1u sliding ready rail kit c...</td>\n",
              "      <td>servers</td>\n",
              "      <td>dell poweredge sliding ready rail kit compatib...</td>\n",
              "    </tr>\n",
              "    <tr>\n",
              "      <th>743</th>\n",
              "      <td>hpe 873830-s01 proliant microserver gen10 ultr...</td>\n",
              "      <td>.   full product specifications: click to vie...</td>\n",
              "      <td>servers</td>\n",
              "      <td>full product specification click view number p...</td>\n",
              "    </tr>\n",
              "    <tr>\n",
              "      <th>744</th>\n",
              "      <td>usr-tcp232-302 tiny size serial rs232 to ether...</td>\n",
              "      <td>.   rs232 to ethernet converter: usr tcp232-3...</td>\n",
              "      <td>servers</td>\n",
              "      <td>ethernet converter usr tcp serial ethernet tcp...</td>\n",
              "    </tr>\n",
              "    <tr>\n",
              "      <th>745</th>\n",
              "      <td>silicone face cover pad for oculus quest 2 wit...</td>\n",
              "      <td>ultra-thin design for oculus quest 2 - unl...</td>\n",
              "      <td>servers</td>\n",
              "      <td>ultra thin design oculus quest unlike many hea...</td>\n",
              "    </tr>\n",
              "    <tr>\n",
              "      <th>746</th>\n",
              "      <td>dell precision 7000 7550 15.6\" mobile workstat...</td>\n",
              "      <td>.   processor manufacturer: intel processor t...</td>\n",
              "      <td>servers</td>\n",
              "      <td>processor manufacturer intel processor type co...</td>\n",
              "    </tr>\n",
              "  </tbody>\n",
              "</table>\n",
              "<p>747 rows × 4 columns</p>\n",
              "</div>"
            ],
            "text/plain": [
              "                                          product_name  ...                                cleaned_description\n",
              "0                                       d-link dap1320  ...  link dap qrs app io android specification link...\n",
              "1    roq slim multimedia 105key flexible wired usb ...  ...  roq slim multimedia key flexible wired usb fle...\n",
              "2                 cm key 354 wired usb tablet keyboard  ...  cm key wired usb tablet keyboard size standard...\n",
              "3    jrb 1038 smallest mobile powered by otg enable...  ...  jrb smallest mobile powered otg enabled androi...\n",
              "4                vency creation a02 usb a110 led light  ...  vency creation usb led light system requiremen...\n",
              "..                                                 ...  ...                                                ...\n",
              "742  dell poweredge r320, r420, r620, r330, r430, r...  ...  dell poweredge sliding ready rail kit compatib...\n",
              "743  hpe 873830-s01 proliant microserver gen10 ultr...  ...  full product specification click view number p...\n",
              "744  usr-tcp232-302 tiny size serial rs232 to ether...  ...  ethernet converter usr tcp serial ethernet tcp...\n",
              "745  silicone face cover pad for oculus quest 2 wit...  ...  ultra thin design oculus quest unlike many hea...\n",
              "746  dell precision 7000 7550 15.6\" mobile workstat...  ...  processor manufacturer intel processor type co...\n",
              "\n",
              "[747 rows x 4 columns]"
            ]
          },
          "metadata": {
            "tags": []
          },
          "execution_count": 130
        }
      ]
    },
    {
      "cell_type": "code",
      "metadata": {
        "colab": {
          "base_uri": "https://localhost:8080/"
        },
        "id": "n9ghFFr5NX0K",
        "outputId": "d505c67d-2417-4011-aeb6-6bd02eca446e"
      },
      "source": [
        "df.nunique()"
      ],
      "execution_count": null,
      "outputs": [
        {
          "output_type": "execute_result",
          "data": {
            "text/plain": [
              "product_name           741\n",
              "description            747\n",
              "category                27\n",
              "cleaned_description    747\n",
              "dtype: int64"
            ]
          },
          "metadata": {
            "tags": []
          },
          "execution_count": 131
        }
      ]
    },
    {
      "cell_type": "code",
      "metadata": {
        "colab": {
          "base_uri": "https://localhost:8080/"
        },
        "id": "ABuBYCdL58H9",
        "outputId": "dbd0c2c4-8cf4-4cd1-d9fb-1689a98d5e46"
      },
      "source": [
        "category_count = df['category'].value_counts()\n",
        "print(category_count, \"\\n\\n\")\n",
        "\n",
        "frequent_category_list = []\n",
        "\n",
        "for i in zip(category_count.values, category_count.index):\n",
        "    if i[0] >= 20:\n",
        "        frequent_category_list.append(i[1])\n",
        "        \n",
        "print(\"FREQUENT CATEGORIES:\\n\", frequent_category_list, \"\\n\\nlength =\", len(frequent_category_list))"
      ],
      "execution_count": null,
      "outputs": [
        {
          "output_type": "stream",
          "text": [
            "router                      166\n",
            "monitors                    117\n",
            "laptop battery               72\n",
            "data storage                 68\n",
            "usb_accessories              64\n",
            "led light                    63\n",
            "scanners                     61\n",
            "laptop skin and mousepad     36\n",
            "adapter                      32\n",
            "servers                      20\n",
            "cartridge                     9\n",
            "cleaner                       5\n",
            "processor                     5\n",
            "charger                       4\n",
            "laptop backpack               3\n",
            "keyboard                      3\n",
            "hdmi cable                    3\n",
            "mousepad                      3\n",
            "motherboard                   2\n",
            "keyboard case                 2\n",
            "laptop                        2\n",
            "software                      2\n",
            "projector                     1\n",
            "mp4 player                    1\n",
            "tablet                        1\n",
            "tablet cover                  1\n",
            "ram                           1\n",
            "Name: category, dtype: int64 \n",
            "\n",
            "\n",
            "FREQUENT CATEGORIES:\n",
            " ['router', 'monitors', 'laptop battery', 'data storage', 'usb_accessories', 'led light', 'scanners', 'laptop skin and mousepad', 'adapter', 'servers'] \n",
            "\n",
            "length = 10\n"
          ],
          "name": "stdout"
        }
      ]
    },
    {
      "cell_type": "code",
      "metadata": {
        "colab": {
          "base_uri": "https://localhost:8080/"
        },
        "id": "ff_iH4tF6Uei",
        "outputId": "8dce0a8a-4c7f-4ba6-d67c-ed98c2bb4050"
      },
      "source": [
        "product_df_clean = df[(df['category']).isin(frequent_category_list)]\n",
        "\n",
        "product_df_clean.info()"
      ],
      "execution_count": null,
      "outputs": [
        {
          "output_type": "stream",
          "text": [
            "<class 'pandas.core.frame.DataFrame'>\n",
            "Int64Index: 699 entries, 0 to 746\n",
            "Data columns (total 4 columns):\n",
            " #   Column               Non-Null Count  Dtype \n",
            "---  ------               --------------  ----- \n",
            " 0   product_name         699 non-null    object\n",
            " 1   description          699 non-null    object\n",
            " 2   category             699 non-null    object\n",
            " 3   cleaned_description  699 non-null    object\n",
            "dtypes: object(4)\n",
            "memory usage: 27.3+ KB\n"
          ],
          "name": "stdout"
        }
      ]
    },
    {
      "cell_type": "code",
      "metadata": {
        "id": "D5kF6uDv7LDl"
      },
      "source": [
        "product_df_clean.reset_index(drop=True,inplace=True)"
      ],
      "execution_count": null,
      "outputs": []
    },
    {
      "cell_type": "code",
      "metadata": {
        "colab": {
          "base_uri": "https://localhost:8080/"
        },
        "id": "XFAiGKeu7ELH",
        "outputId": "0b7c870c-aa08-4b74-8457-90036a3a4b9d"
      },
      "source": [
        "product_df_clean.shape"
      ],
      "execution_count": null,
      "outputs": [
        {
          "output_type": "execute_result",
          "data": {
            "text/plain": [
              "(699, 4)"
            ]
          },
          "metadata": {
            "tags": []
          },
          "execution_count": 135
        }
      ]
    },
    {
      "cell_type": "code",
      "metadata": {
        "colab": {
          "base_uri": "https://localhost:8080/"
        },
        "id": "6YQj-M4xMcv_",
        "outputId": "545b57af-739b-4578-cc6a-e394c6199464"
      },
      "source": [
        "product_df_clean.nunique()"
      ],
      "execution_count": null,
      "outputs": [
        {
          "output_type": "execute_result",
          "data": {
            "text/plain": [
              "product_name           693\n",
              "description            699\n",
              "category                10\n",
              "cleaned_description    699\n",
              "dtype: int64"
            ]
          },
          "metadata": {
            "tags": []
          },
          "execution_count": 136
        }
      ]
    },
    {
      "cell_type": "code",
      "metadata": {
        "colab": {
          "base_uri": "https://localhost:8080/",
          "height": 289
        },
        "id": "zRwXDc_Y7PmE",
        "outputId": "6c40b199-b59e-4882-8d10-d5e9e0d45d5d"
      },
      "source": [
        "product_df_clean.head()"
      ],
      "execution_count": null,
      "outputs": [
        {
          "output_type": "execute_result",
          "data": {
            "text/html": [
              "<div>\n",
              "<style scoped>\n",
              "    .dataframe tbody tr th:only-of-type {\n",
              "        vertical-align: middle;\n",
              "    }\n",
              "\n",
              "    .dataframe tbody tr th {\n",
              "        vertical-align: top;\n",
              "    }\n",
              "\n",
              "    .dataframe thead th {\n",
              "        text-align: right;\n",
              "    }\n",
              "</style>\n",
              "<table border=\"1\" class=\"dataframe\">\n",
              "  <thead>\n",
              "    <tr style=\"text-align: right;\">\n",
              "      <th></th>\n",
              "      <th>product_name</th>\n",
              "      <th>description</th>\n",
              "      <th>category</th>\n",
              "      <th>cleaned_description</th>\n",
              "    </tr>\n",
              "  </thead>\n",
              "  <tbody>\n",
              "    <tr>\n",
              "      <th>0</th>\n",
              "      <td>d-link dap1320</td>\n",
              "      <td>d-link dap1320 qrs app(ios,android),specific...</td>\n",
              "      <td>router</td>\n",
              "      <td>link dap qrs app io android specification link...</td>\n",
              "    </tr>\n",
              "    <tr>\n",
              "      <th>1</th>\n",
              "      <td>jrb 1038 smallest mobile powered by otg enable...</td>\n",
              "      <td>jrb 1038 smallest mobile powered by otg enab...</td>\n",
              "      <td>usb_accessories</td>\n",
              "      <td>jrb smallest mobile powered otg enabled androi...</td>\n",
              "    </tr>\n",
              "    <tr>\n",
              "      <th>2</th>\n",
              "      <td>vency creation a02 usb a110 led light</td>\n",
              "      <td>vency creation a02 usb a110 led light system...</td>\n",
              "      <td>led light</td>\n",
              "      <td>vency creation usb led light system requiremen...</td>\n",
              "    </tr>\n",
              "    <tr>\n",
              "      <th>3</th>\n",
              "      <td>jrb 1033 smallest mobile powered by otg enable...</td>\n",
              "      <td>jrb 1033 smallest mobile powered by otg enab...</td>\n",
              "      <td>usb_accessories</td>\n",
              "      <td>jrb smallest mobile powered otg enabled androi...</td>\n",
              "    </tr>\n",
              "    <tr>\n",
              "      <th>4</th>\n",
              "      <td>shopizone bmw wheel 32 gb  pen drive</td>\n",
              "      <td>shopizone bmw wheel 32 gb  pen drive case ma...</td>\n",
              "      <td>data storage</td>\n",
              "      <td>shopizone bmw wheel gb pen drive case material...</td>\n",
              "    </tr>\n",
              "  </tbody>\n",
              "</table>\n",
              "</div>"
            ],
            "text/plain": [
              "                                        product_name  ...                                cleaned_description\n",
              "0                                     d-link dap1320  ...  link dap qrs app io android specification link...\n",
              "1  jrb 1038 smallest mobile powered by otg enable...  ...  jrb smallest mobile powered otg enabled androi...\n",
              "2              vency creation a02 usb a110 led light  ...  vency creation usb led light system requiremen...\n",
              "3  jrb 1033 smallest mobile powered by otg enable...  ...  jrb smallest mobile powered otg enabled androi...\n",
              "4               shopizone bmw wheel 32 gb  pen drive  ...  shopizone bmw wheel gb pen drive case material...\n",
              "\n",
              "[5 rows x 4 columns]"
            ]
          },
          "metadata": {
            "tags": []
          },
          "execution_count": 137
        }
      ]
    },
    {
      "cell_type": "code",
      "metadata": {
        "colab": {
          "base_uri": "https://localhost:8080/",
          "height": 289
        },
        "id": "0ULhNJC07RyS",
        "outputId": "7486bf00-8f2c-456e-fefb-ac8ad9e6e8d6"
      },
      "source": [
        "product_df_clean.tail()"
      ],
      "execution_count": null,
      "outputs": [
        {
          "output_type": "execute_result",
          "data": {
            "text/html": [
              "<div>\n",
              "<style scoped>\n",
              "    .dataframe tbody tr th:only-of-type {\n",
              "        vertical-align: middle;\n",
              "    }\n",
              "\n",
              "    .dataframe tbody tr th {\n",
              "        vertical-align: top;\n",
              "    }\n",
              "\n",
              "    .dataframe thead th {\n",
              "        text-align: right;\n",
              "    }\n",
              "</style>\n",
              "<table border=\"1\" class=\"dataframe\">\n",
              "  <thead>\n",
              "    <tr style=\"text-align: right;\">\n",
              "      <th></th>\n",
              "      <th>product_name</th>\n",
              "      <th>description</th>\n",
              "      <th>category</th>\n",
              "      <th>cleaned_description</th>\n",
              "    </tr>\n",
              "  </thead>\n",
              "  <tbody>\n",
              "    <tr>\n",
              "      <th>694</th>\n",
              "      <td>dell poweredge r320, r420, r620, r330, r430, r...</td>\n",
              "      <td>dell poweredge 1u sliding ready rail kit c...</td>\n",
              "      <td>servers</td>\n",
              "      <td>dell poweredge sliding ready rail kit compatib...</td>\n",
              "    </tr>\n",
              "    <tr>\n",
              "      <th>695</th>\n",
              "      <td>hpe 873830-s01 proliant microserver gen10 ultr...</td>\n",
              "      <td>.   full product specifications: click to vie...</td>\n",
              "      <td>servers</td>\n",
              "      <td>full product specification click view number p...</td>\n",
              "    </tr>\n",
              "    <tr>\n",
              "      <th>696</th>\n",
              "      <td>usr-tcp232-302 tiny size serial rs232 to ether...</td>\n",
              "      <td>.   rs232 to ethernet converter: usr tcp232-3...</td>\n",
              "      <td>servers</td>\n",
              "      <td>ethernet converter usr tcp serial ethernet tcp...</td>\n",
              "    </tr>\n",
              "    <tr>\n",
              "      <th>697</th>\n",
              "      <td>silicone face cover pad for oculus quest 2 wit...</td>\n",
              "      <td>ultra-thin design for oculus quest 2 - unl...</td>\n",
              "      <td>servers</td>\n",
              "      <td>ultra thin design oculus quest unlike many hea...</td>\n",
              "    </tr>\n",
              "    <tr>\n",
              "      <th>698</th>\n",
              "      <td>dell precision 7000 7550 15.6\" mobile workstat...</td>\n",
              "      <td>.   processor manufacturer: intel processor t...</td>\n",
              "      <td>servers</td>\n",
              "      <td>processor manufacturer intel processor type co...</td>\n",
              "    </tr>\n",
              "  </tbody>\n",
              "</table>\n",
              "</div>"
            ],
            "text/plain": [
              "                                          product_name  ...                                cleaned_description\n",
              "694  dell poweredge r320, r420, r620, r330, r430, r...  ...  dell poweredge sliding ready rail kit compatib...\n",
              "695  hpe 873830-s01 proliant microserver gen10 ultr...  ...  full product specification click view number p...\n",
              "696  usr-tcp232-302 tiny size serial rs232 to ether...  ...  ethernet converter usr tcp serial ethernet tcp...\n",
              "697  silicone face cover pad for oculus quest 2 wit...  ...  ultra thin design oculus quest unlike many hea...\n",
              "698  dell precision 7000 7550 15.6\" mobile workstat...  ...  processor manufacturer intel processor type co...\n",
              "\n",
              "[5 rows x 4 columns]"
            ]
          },
          "metadata": {
            "tags": []
          },
          "execution_count": 138
        }
      ]
    },
    {
      "cell_type": "code",
      "metadata": {
        "id": "GnmCtH9WJuv3"
      },
      "source": [
        "product_df_clean.to_csv(\"/content/drive/MyDrive/Content_Recommendation/LSTM_Similarity/Computer_Product/cleaned_computer_frequent_df.csv\",index=False)"
      ],
      "execution_count": null,
      "outputs": []
    },
    {
      "cell_type": "code",
      "metadata": {
        "colab": {
          "base_uri": "https://localhost:8080/"
        },
        "id": "moxuk0Xc7mhZ",
        "outputId": "6e2f188e-479c-4e81-f178-13bdeb4b9a6f"
      },
      "source": [
        "frequent_category_list"
      ],
      "execution_count": null,
      "outputs": [
        {
          "output_type": "execute_result",
          "data": {
            "text/plain": [
              "['router',\n",
              " 'monitors',\n",
              " 'laptop battery',\n",
              " 'data storage',\n",
              " 'usb_accessories',\n",
              " 'led light',\n",
              " 'scanners',\n",
              " 'laptop skin and mousepad',\n",
              " 'adapter',\n",
              " 'servers']"
            ]
          },
          "metadata": {
            "tags": []
          },
          "execution_count": 140
        }
      ]
    },
    {
      "cell_type": "code",
      "metadata": {
        "colab": {
          "base_uri": "https://localhost:8080/"
        },
        "id": "LeIPpH8Q8S4s",
        "outputId": "e4c0be7c-0bd7-4d0f-e62c-334c1b9a21c3"
      },
      "source": [
        "product_df_clean.category.value_counts()"
      ],
      "execution_count": null,
      "outputs": [
        {
          "output_type": "execute_result",
          "data": {
            "text/plain": [
              "router                      166\n",
              "monitors                    117\n",
              "laptop battery               72\n",
              "data storage                 68\n",
              "usb_accessories              64\n",
              "led light                    63\n",
              "scanners                     61\n",
              "laptop skin and mousepad     36\n",
              "adapter                      32\n",
              "servers                      20\n",
              "Name: category, dtype: int64"
            ]
          },
          "metadata": {
            "tags": []
          },
          "execution_count": 141
        }
      ]
    },
    {
      "cell_type": "markdown",
      "metadata": {
        "id": "CcmzzyO_813D"
      },
      "source": [
        "## Train Test Split so if needed for input based recommendation we will use test data later"
      ]
    },
    {
      "cell_type": "code",
      "metadata": {
        "id": "hoaYUX_h8Xqe"
      },
      "source": [
        "train = pd.DataFrame()\n",
        "test = pd.DataFrame()"
      ],
      "execution_count": null,
      "outputs": []
    },
    {
      "cell_type": "code",
      "metadata": {
        "id": "L3tx80hnIIAf"
      },
      "source": [
        "df_grp = product_df_clean.groupby('category')"
      ],
      "execution_count": null,
      "outputs": []
    },
    {
      "cell_type": "code",
      "metadata": {
        "id": "zfamNGZLIk5k"
      },
      "source": [
        "from sklearn.model_selection import train_test_split"
      ],
      "execution_count": null,
      "outputs": []
    },
    {
      "cell_type": "code",
      "metadata": {
        "id": "DtNQFqh4InrG"
      },
      "source": [
        "def splittrainval(df,train,test):\n",
        "    train_part, test_part = train_test_split(df, test_size=0.3)\n",
        "    print(train_part.shape,test_part.shape)\n",
        "    train = train.append(train_part,ignore_index=True)\n",
        "    test = test.append(test_part,ignore_index=True)\n",
        "    return train,test\n"
      ],
      "execution_count": null,
      "outputs": []
    },
    {
      "cell_type": "code",
      "metadata": {
        "id": "Fb_T_2RrIx0H"
      },
      "source": [
        "cat = list(product_df_clean['category'].unique())"
      ],
      "execution_count": null,
      "outputs": []
    },
    {
      "cell_type": "code",
      "metadata": {
        "colab": {
          "base_uri": "https://localhost:8080/"
        },
        "id": "PN8bgnrjI4uS",
        "outputId": "7c19d76e-4117-4d07-f754-63a9c748719d"
      },
      "source": [
        "cat"
      ],
      "execution_count": null,
      "outputs": [
        {
          "output_type": "execute_result",
          "data": {
            "text/plain": [
              "['router',\n",
              " 'usb_accessories',\n",
              " 'led light',\n",
              " 'data storage',\n",
              " 'adapter',\n",
              " 'laptop battery',\n",
              " 'laptop skin and mousepad',\n",
              " 'monitors',\n",
              " 'scanners',\n",
              " 'servers']"
            ]
          },
          "metadata": {
            "tags": []
          },
          "execution_count": 147
        }
      ]
    },
    {
      "cell_type": "code",
      "metadata": {
        "colab": {
          "base_uri": "https://localhost:8080/"
        },
        "id": "09fEXDNOI5to",
        "outputId": "2507d022-a0b5-4405-8e2e-b19897ef97b3"
      },
      "source": [
        "for i in cat:\n",
        "    try:\n",
        "        df_cat_i = df_grp.get_group(i)\n",
        "        train, test = splittrainval(df_cat_i,train,test)\n",
        "    except:\n",
        "        continue"
      ],
      "execution_count": null,
      "outputs": [
        {
          "output_type": "stream",
          "text": [
            "(116, 4) (50, 4)\n",
            "(44, 4) (20, 4)\n",
            "(44, 4) (19, 4)\n",
            "(47, 4) (21, 4)\n",
            "(22, 4) (10, 4)\n",
            "(50, 4) (22, 4)\n",
            "(25, 4) (11, 4)\n",
            "(81, 4) (36, 4)\n",
            "(42, 4) (19, 4)\n",
            "(14, 4) (6, 4)\n"
          ],
          "name": "stdout"
        }
      ]
    },
    {
      "cell_type": "code",
      "metadata": {
        "colab": {
          "base_uri": "https://localhost:8080/"
        },
        "id": "31q23yUZJUyz",
        "outputId": "fc19eb07-6bb0-4775-b794-d3c5fccd459f"
      },
      "source": [
        "train.shape,test.shape,product_df_clean.shape"
      ],
      "execution_count": null,
      "outputs": [
        {
          "output_type": "execute_result",
          "data": {
            "text/plain": [
              "((485, 4), (214, 4), (699, 4))"
            ]
          },
          "metadata": {
            "tags": []
          },
          "execution_count": 149
        }
      ]
    },
    {
      "cell_type": "code",
      "metadata": {
        "colab": {
          "base_uri": "https://localhost:8080/",
          "height": 589
        },
        "id": "-wEAUeGtJciY",
        "outputId": "fe050d43-5757-4135-8675-ab452dcf6eb1"
      },
      "source": [
        "train"
      ],
      "execution_count": null,
      "outputs": [
        {
          "output_type": "execute_result",
          "data": {
            "text/html": [
              "<div>\n",
              "<style scoped>\n",
              "    .dataframe tbody tr th:only-of-type {\n",
              "        vertical-align: middle;\n",
              "    }\n",
              "\n",
              "    .dataframe tbody tr th {\n",
              "        vertical-align: top;\n",
              "    }\n",
              "\n",
              "    .dataframe thead th {\n",
              "        text-align: right;\n",
              "    }\n",
              "</style>\n",
              "<table border=\"1\" class=\"dataframe\">\n",
              "  <thead>\n",
              "    <tr style=\"text-align: right;\">\n",
              "      <th></th>\n",
              "      <th>product_name</th>\n",
              "      <th>description</th>\n",
              "      <th>category</th>\n",
              "      <th>cleaned_description</th>\n",
              "    </tr>\n",
              "  </thead>\n",
              "  <tbody>\n",
              "    <tr>\n",
              "      <th>0</th>\n",
              "      <td>tp-link 300 mbps universal wifi</td>\n",
              "      <td>tp-link 300 mbps universal wifi only for rs....</td>\n",
              "      <td>router</td>\n",
              "      <td>tp link mbps universal wifi flipkart com genui...</td>\n",
              "    </tr>\n",
              "    <tr>\n",
              "      <th>1</th>\n",
              "      <td>netgear r6220 ac1200 dual band gigabit wi-fi r...</td>\n",
              "      <td>netgear r6220 ac1200 dual band gigabit wi-fi...</td>\n",
              "      <td>router</td>\n",
              "      <td>netgear ac dual band gigabit wi fi router flip...</td>\n",
              "    </tr>\n",
              "    <tr>\n",
              "      <th>2</th>\n",
              "      <td>zyxel nbg 6503 simultaneous dual-band wireless...</td>\n",
              "      <td>zyxel nbg 6503 simultaneous dual-band wirele...</td>\n",
              "      <td>router</td>\n",
              "      <td>zyxel nbg simultaneous dual band wireless ac f...</td>\n",
              "    </tr>\n",
              "    <tr>\n",
              "      <th>3</th>\n",
              "      <td>trendnet tew-721brm</td>\n",
              "      <td>trendnet tew-721brm only for rs. 1920 from f...</td>\n",
              "      <td>router</td>\n",
              "      <td>trendnet tew brm flipkart com genuine product ...</td>\n",
              "    </tr>\n",
              "    <tr>\n",
              "      <th>4</th>\n",
              "      <td>iball wra300n3gt</td>\n",
              "      <td>iball wra300n3gt only for rs. 1999 from flip...</td>\n",
              "      <td>router</td>\n",
              "      <td>iball wra gt flipkart com genuine product day ...</td>\n",
              "    </tr>\n",
              "    <tr>\n",
              "      <th>...</th>\n",
              "      <td>...</td>\n",
              "      <td>...</td>\n",
              "      <td>...</td>\n",
              "      <td>...</td>\n",
              "    </tr>\n",
              "    <tr>\n",
              "      <th>480</th>\n",
              "      <td>dell poweredge r510, r520, r720, r720xd, r730,...</td>\n",
              "      <td>dell poweredge server security silver beze...</td>\n",
              "      <td>servers</td>\n",
              "      <td>dell poweredge server security silver bezel in...</td>\n",
              "    </tr>\n",
              "    <tr>\n",
              "      <th>481</th>\n",
              "      <td>raising electronics 15u 4 post open frame 19in...</td>\n",
              "      <td>1.fit 19\" wide standard equipment. install...</td>\n",
              "      <td>servers</td>\n",
              "      <td>fit wide standard equipment install depth post...</td>\n",
              "    </tr>\n",
              "    <tr>\n",
              "      <th>482</th>\n",
              "      <td>dell 3080 sff i5 10500 16gb 256gb (0f7vx)</td>\n",
              "      <td>.   upc: 884116372646 weight: 13.600 lbs 3080...</td>\n",
              "      <td>servers</td>\n",
              "      <td>upc weight lb sff gb gb brand dell see product...</td>\n",
              "    </tr>\n",
              "    <tr>\n",
              "      <th>483</th>\n",
              "      <td>dell poweredge r530, r730, r730, r540, r740, r...</td>\n",
              "      <td>dell poweredge 2u sliding ready rail kit c...</td>\n",
              "      <td>servers</td>\n",
              "      <td>dell poweredge sliding ready rail kit compatib...</td>\n",
              "    </tr>\n",
              "    <tr>\n",
              "      <th>484</th>\n",
              "      <td>new air cooler heat sink compatible with dell ...</td>\n",
              "      <td>fit models : for dell poweredge t440 t640 ...</td>\n",
              "      <td>servers</td>\n",
              "      <td>fit model dell poweredge tower server compatib...</td>\n",
              "    </tr>\n",
              "  </tbody>\n",
              "</table>\n",
              "<p>485 rows × 4 columns</p>\n",
              "</div>"
            ],
            "text/plain": [
              "                                          product_name  ...                                cleaned_description\n",
              "0                      tp-link 300 mbps universal wifi  ...  tp link mbps universal wifi flipkart com genui...\n",
              "1    netgear r6220 ac1200 dual band gigabit wi-fi r...  ...  netgear ac dual band gigabit wi fi router flip...\n",
              "2    zyxel nbg 6503 simultaneous dual-band wireless...  ...  zyxel nbg simultaneous dual band wireless ac f...\n",
              "3                                  trendnet tew-721brm  ...  trendnet tew brm flipkart com genuine product ...\n",
              "4                                     iball wra300n3gt  ...  iball wra gt flipkart com genuine product day ...\n",
              "..                                                 ...  ...                                                ...\n",
              "480  dell poweredge r510, r520, r720, r720xd, r730,...  ...  dell poweredge server security silver bezel in...\n",
              "481  raising electronics 15u 4 post open frame 19in...  ...  fit wide standard equipment install depth post...\n",
              "482          dell 3080 sff i5 10500 16gb 256gb (0f7vx)  ...  upc weight lb sff gb gb brand dell see product...\n",
              "483  dell poweredge r530, r730, r730, r540, r740, r...  ...  dell poweredge sliding ready rail kit compatib...\n",
              "484  new air cooler heat sink compatible with dell ...  ...  fit model dell poweredge tower server compatib...\n",
              "\n",
              "[485 rows x 4 columns]"
            ]
          },
          "metadata": {
            "tags": []
          },
          "execution_count": 150
        }
      ]
    },
    {
      "cell_type": "code",
      "metadata": {
        "colab": {
          "base_uri": "https://localhost:8080/",
          "height": 589
        },
        "id": "66dqaxsgJk6f",
        "outputId": "c9161cd6-baef-439d-b11d-6f9c6b6a04f8"
      },
      "source": [
        "test"
      ],
      "execution_count": null,
      "outputs": [
        {
          "output_type": "execute_result",
          "data": {
            "text/html": [
              "<div>\n",
              "<style scoped>\n",
              "    .dataframe tbody tr th:only-of-type {\n",
              "        vertical-align: middle;\n",
              "    }\n",
              "\n",
              "    .dataframe tbody tr th {\n",
              "        vertical-align: top;\n",
              "    }\n",
              "\n",
              "    .dataframe thead th {\n",
              "        text-align: right;\n",
              "    }\n",
              "</style>\n",
              "<table border=\"1\" class=\"dataframe\">\n",
              "  <thead>\n",
              "    <tr style=\"text-align: right;\">\n",
              "      <th></th>\n",
              "      <th>product_name</th>\n",
              "      <th>description</th>\n",
              "      <th>category</th>\n",
              "      <th>cleaned_description</th>\n",
              "    </tr>\n",
              "  </thead>\n",
              "  <tbody>\n",
              "    <tr>\n",
              "      <th>0</th>\n",
              "      <td>zyxel amg1312-t10b</td>\n",
              "      <td>zyxel amg1312-t10b only for rs. 2425 from fl...</td>\n",
              "      <td>router</td>\n",
              "      <td>zyxel amg flipkart com genuine product day rep...</td>\n",
              "    </tr>\n",
              "    <tr>\n",
              "      <th>1</th>\n",
              "      <td>iball 300m wireless-n adsl2+ 3g router</td>\n",
              "      <td>iball 300m wireless-n adsl2+ 3g router only ...</td>\n",
              "      <td>router</td>\n",
              "      <td>iball wireless adsl router flipkart com genuin...</td>\n",
              "    </tr>\n",
              "    <tr>\n",
              "      <th>2</th>\n",
              "      <td>tp-link archer c20 ac750 dual band router</td>\n",
              "      <td>tp-link archer c20 ac750 dual band router on...</td>\n",
              "      <td>router</td>\n",
              "      <td>tp link archer ac dual band router flipkart co...</td>\n",
              "    </tr>\n",
              "    <tr>\n",
              "      <th>3</th>\n",
              "      <td>iball ib-w4gx150n 4g wireless n router</td>\n",
              "      <td>iball ib-w4gx150n 4g wireless n router only ...</td>\n",
              "      <td>router</td>\n",
              "      <td>iball ib gx wireless router flipkart com genui...</td>\n",
              "    </tr>\n",
              "    <tr>\n",
              "      <th>4</th>\n",
              "      <td>trendnet tha-101 n300 router</td>\n",
              "      <td>trendnet tha-101 n300 router only for rs. 49...</td>\n",
              "      <td>router</td>\n",
              "      <td>trendnet tha router flipkart com genuine produ...</td>\n",
              "    </tr>\n",
              "    <tr>\n",
              "      <th>...</th>\n",
              "      <td>...</td>\n",
              "      <td>...</td>\n",
              "      <td>...</td>\n",
              "      <td>...</td>\n",
              "    </tr>\n",
              "    <tr>\n",
              "      <th>209</th>\n",
              "      <td>lenovo dcg x8 x8 x8ml2 pcie fh riser1 kit</td>\n",
              "      <td>product type:consumer electronics item pac...</td>\n",
              "      <td>servers</td>\n",
              "      <td>product type consumer electronics item package...</td>\n",
              "    </tr>\n",
              "    <tr>\n",
              "      <th>210</th>\n",
              "      <td>lenovo system 9532e5u ibm flex x240 m5 2xxeon ...</td>\n",
              "      <td>.   m5 compute node package dimensions: 61 h ...</td>\n",
              "      <td>servers</td>\n",
              "      <td>compute node package dimension centimeter pack...</td>\n",
              "    </tr>\n",
              "    <tr>\n",
              "      <th>211</th>\n",
              "      <td>bestparts new 2u sliding ready rail kit compat...</td>\n",
              "      <td>p/n: 0pwn3 00pwn3 h4x6x 0h4x6x * material:...</td>\n",
              "      <td>servers</td>\n",
              "      <td>pwn pwn material metal compatible dell powered...</td>\n",
              "    </tr>\n",
              "    <tr>\n",
              "      <th>212</th>\n",
              "      <td>hpe 873830-s01 proliant microserver gen10 ultr...</td>\n",
              "      <td>.   full product specifications: click to vie...</td>\n",
              "      <td>servers</td>\n",
              "      <td>full product specification click view number p...</td>\n",
              "    </tr>\n",
              "    <tr>\n",
              "      <th>213</th>\n",
              "      <td>dell precision 7000 7550 15.6\" mobile workstat...</td>\n",
              "      <td>.   processor manufacturer: intel processor t...</td>\n",
              "      <td>servers</td>\n",
              "      <td>processor manufacturer intel processor type co...</td>\n",
              "    </tr>\n",
              "  </tbody>\n",
              "</table>\n",
              "<p>214 rows × 4 columns</p>\n",
              "</div>"
            ],
            "text/plain": [
              "                                          product_name  ...                                cleaned_description\n",
              "0                                   zyxel amg1312-t10b  ...  zyxel amg flipkart com genuine product day rep...\n",
              "1               iball 300m wireless-n adsl2+ 3g router  ...  iball wireless adsl router flipkart com genuin...\n",
              "2            tp-link archer c20 ac750 dual band router  ...  tp link archer ac dual band router flipkart co...\n",
              "3               iball ib-w4gx150n 4g wireless n router  ...  iball ib gx wireless router flipkart com genui...\n",
              "4                         trendnet tha-101 n300 router  ...  trendnet tha router flipkart com genuine produ...\n",
              "..                                                 ...  ...                                                ...\n",
              "209          lenovo dcg x8 x8 x8ml2 pcie fh riser1 kit  ...  product type consumer electronics item package...\n",
              "210  lenovo system 9532e5u ibm flex x240 m5 2xxeon ...  ...  compute node package dimension centimeter pack...\n",
              "211  bestparts new 2u sliding ready rail kit compat...  ...  pwn pwn material metal compatible dell powered...\n",
              "212  hpe 873830-s01 proliant microserver gen10 ultr...  ...  full product specification click view number p...\n",
              "213  dell precision 7000 7550 15.6\" mobile workstat...  ...  processor manufacturer intel processor type co...\n",
              "\n",
              "[214 rows x 4 columns]"
            ]
          },
          "metadata": {
            "tags": []
          },
          "execution_count": 151
        }
      ]
    },
    {
      "cell_type": "code",
      "metadata": {
        "colab": {
          "base_uri": "https://localhost:8080/"
        },
        "id": "G1eGqskzJltR",
        "outputId": "9c916dc9-9fb8-4486-9756-ea3a2f411685"
      },
      "source": [
        "train.category.value_counts()"
      ],
      "execution_count": null,
      "outputs": [
        {
          "output_type": "execute_result",
          "data": {
            "text/plain": [
              "router                      116\n",
              "monitors                     81\n",
              "laptop battery               50\n",
              "data storage                 47\n",
              "usb_accessories              44\n",
              "led light                    44\n",
              "scanners                     42\n",
              "laptop skin and mousepad     25\n",
              "adapter                      22\n",
              "servers                      14\n",
              "Name: category, dtype: int64"
            ]
          },
          "metadata": {
            "tags": []
          },
          "execution_count": 152
        }
      ]
    },
    {
      "cell_type": "code",
      "metadata": {
        "colab": {
          "base_uri": "https://localhost:8080/"
        },
        "id": "jhyTZaZaJ-cY",
        "outputId": "0d153a60-2e15-4891-c8c4-a8c6e65cceb5"
      },
      "source": [
        "test.category.value_counts()"
      ],
      "execution_count": null,
      "outputs": [
        {
          "output_type": "execute_result",
          "data": {
            "text/plain": [
              "router                      50\n",
              "monitors                    36\n",
              "laptop battery              22\n",
              "data storage                21\n",
              "usb_accessories             20\n",
              "scanners                    19\n",
              "led light                   19\n",
              "laptop skin and mousepad    11\n",
              "adapter                     10\n",
              "servers                      6\n",
              "Name: category, dtype: int64"
            ]
          },
          "metadata": {
            "tags": []
          },
          "execution_count": 153
        }
      ]
    },
    {
      "cell_type": "code",
      "metadata": {
        "colab": {
          "base_uri": "https://localhost:8080/"
        },
        "id": "8prEkY4DKB4t",
        "outputId": "8d7d1d1e-ac92-4834-a2f4-54cc5fe0a458"
      },
      "source": [
        "product_df_clean.category.value_counts()"
      ],
      "execution_count": null,
      "outputs": [
        {
          "output_type": "execute_result",
          "data": {
            "text/plain": [
              "router                      166\n",
              "monitors                    117\n",
              "laptop battery               72\n",
              "data storage                 68\n",
              "usb_accessories              64\n",
              "led light                    63\n",
              "scanners                     61\n",
              "laptop skin and mousepad     36\n",
              "adapter                      32\n",
              "servers                      20\n",
              "Name: category, dtype: int64"
            ]
          },
          "metadata": {
            "tags": []
          },
          "execution_count": 154
        }
      ]
    },
    {
      "cell_type": "code",
      "metadata": {
        "id": "CCio-aj8KIIF"
      },
      "source": [
        "product_id = [ i for i in range(1,train.shape[0]+1)]"
      ],
      "execution_count": null,
      "outputs": []
    },
    {
      "cell_type": "code",
      "metadata": {
        "colab": {
          "base_uri": "https://localhost:8080/"
        },
        "id": "nmkPEoibKVbd",
        "outputId": "e89614a0-be53-4825-cfcd-a494b4855a1e"
      },
      "source": [
        "product_id[:5],product_id[-5:],len(product_id)"
      ],
      "execution_count": null,
      "outputs": [
        {
          "output_type": "execute_result",
          "data": {
            "text/plain": [
              "([1, 2, 3, 4, 5], [481, 482, 483, 484, 485], 485)"
            ]
          },
          "metadata": {
            "tags": []
          },
          "execution_count": 156
        }
      ]
    },
    {
      "cell_type": "code",
      "metadata": {
        "id": "BThtpnrMKX9p"
      },
      "source": [
        "train['product_id'] = product_id"
      ],
      "execution_count": null,
      "outputs": []
    },
    {
      "cell_type": "code",
      "metadata": {
        "colab": {
          "base_uri": "https://localhost:8080/"
        },
        "id": "n9i5ZjE4KbIT",
        "outputId": "d50725af-cbbf-4d2e-8e9b-6d271e1fdee5"
      },
      "source": [
        "train.shape"
      ],
      "execution_count": null,
      "outputs": [
        {
          "output_type": "execute_result",
          "data": {
            "text/plain": [
              "(485, 5)"
            ]
          },
          "metadata": {
            "tags": []
          },
          "execution_count": 158
        }
      ]
    },
    {
      "cell_type": "code",
      "metadata": {
        "colab": {
          "base_uri": "https://localhost:8080/",
          "height": 589
        },
        "id": "Dv375PZqKhAR",
        "outputId": "54b49a86-3bfd-45eb-e5a3-532189bd38be"
      },
      "source": [
        "train"
      ],
      "execution_count": null,
      "outputs": [
        {
          "output_type": "execute_result",
          "data": {
            "text/html": [
              "<div>\n",
              "<style scoped>\n",
              "    .dataframe tbody tr th:only-of-type {\n",
              "        vertical-align: middle;\n",
              "    }\n",
              "\n",
              "    .dataframe tbody tr th {\n",
              "        vertical-align: top;\n",
              "    }\n",
              "\n",
              "    .dataframe thead th {\n",
              "        text-align: right;\n",
              "    }\n",
              "</style>\n",
              "<table border=\"1\" class=\"dataframe\">\n",
              "  <thead>\n",
              "    <tr style=\"text-align: right;\">\n",
              "      <th></th>\n",
              "      <th>product_name</th>\n",
              "      <th>description</th>\n",
              "      <th>category</th>\n",
              "      <th>cleaned_description</th>\n",
              "      <th>product_id</th>\n",
              "    </tr>\n",
              "  </thead>\n",
              "  <tbody>\n",
              "    <tr>\n",
              "      <th>0</th>\n",
              "      <td>tp-link 300 mbps universal wifi</td>\n",
              "      <td>tp-link 300 mbps universal wifi only for rs....</td>\n",
              "      <td>router</td>\n",
              "      <td>tp link mbps universal wifi flipkart com genui...</td>\n",
              "      <td>1</td>\n",
              "    </tr>\n",
              "    <tr>\n",
              "      <th>1</th>\n",
              "      <td>netgear r6220 ac1200 dual band gigabit wi-fi r...</td>\n",
              "      <td>netgear r6220 ac1200 dual band gigabit wi-fi...</td>\n",
              "      <td>router</td>\n",
              "      <td>netgear ac dual band gigabit wi fi router flip...</td>\n",
              "      <td>2</td>\n",
              "    </tr>\n",
              "    <tr>\n",
              "      <th>2</th>\n",
              "      <td>zyxel nbg 6503 simultaneous dual-band wireless...</td>\n",
              "      <td>zyxel nbg 6503 simultaneous dual-band wirele...</td>\n",
              "      <td>router</td>\n",
              "      <td>zyxel nbg simultaneous dual band wireless ac f...</td>\n",
              "      <td>3</td>\n",
              "    </tr>\n",
              "    <tr>\n",
              "      <th>3</th>\n",
              "      <td>trendnet tew-721brm</td>\n",
              "      <td>trendnet tew-721brm only for rs. 1920 from f...</td>\n",
              "      <td>router</td>\n",
              "      <td>trendnet tew brm flipkart com genuine product ...</td>\n",
              "      <td>4</td>\n",
              "    </tr>\n",
              "    <tr>\n",
              "      <th>4</th>\n",
              "      <td>iball wra300n3gt</td>\n",
              "      <td>iball wra300n3gt only for rs. 1999 from flip...</td>\n",
              "      <td>router</td>\n",
              "      <td>iball wra gt flipkart com genuine product day ...</td>\n",
              "      <td>5</td>\n",
              "    </tr>\n",
              "    <tr>\n",
              "      <th>...</th>\n",
              "      <td>...</td>\n",
              "      <td>...</td>\n",
              "      <td>...</td>\n",
              "      <td>...</td>\n",
              "      <td>...</td>\n",
              "    </tr>\n",
              "    <tr>\n",
              "      <th>480</th>\n",
              "      <td>dell poweredge r510, r520, r720, r720xd, r730,...</td>\n",
              "      <td>dell poweredge server security silver beze...</td>\n",
              "      <td>servers</td>\n",
              "      <td>dell poweredge server security silver bezel in...</td>\n",
              "      <td>481</td>\n",
              "    </tr>\n",
              "    <tr>\n",
              "      <th>481</th>\n",
              "      <td>raising electronics 15u 4 post open frame 19in...</td>\n",
              "      <td>1.fit 19\" wide standard equipment. install...</td>\n",
              "      <td>servers</td>\n",
              "      <td>fit wide standard equipment install depth post...</td>\n",
              "      <td>482</td>\n",
              "    </tr>\n",
              "    <tr>\n",
              "      <th>482</th>\n",
              "      <td>dell 3080 sff i5 10500 16gb 256gb (0f7vx)</td>\n",
              "      <td>.   upc: 884116372646 weight: 13.600 lbs 3080...</td>\n",
              "      <td>servers</td>\n",
              "      <td>upc weight lb sff gb gb brand dell see product...</td>\n",
              "      <td>483</td>\n",
              "    </tr>\n",
              "    <tr>\n",
              "      <th>483</th>\n",
              "      <td>dell poweredge r530, r730, r730, r540, r740, r...</td>\n",
              "      <td>dell poweredge 2u sliding ready rail kit c...</td>\n",
              "      <td>servers</td>\n",
              "      <td>dell poweredge sliding ready rail kit compatib...</td>\n",
              "      <td>484</td>\n",
              "    </tr>\n",
              "    <tr>\n",
              "      <th>484</th>\n",
              "      <td>new air cooler heat sink compatible with dell ...</td>\n",
              "      <td>fit models : for dell poweredge t440 t640 ...</td>\n",
              "      <td>servers</td>\n",
              "      <td>fit model dell poweredge tower server compatib...</td>\n",
              "      <td>485</td>\n",
              "    </tr>\n",
              "  </tbody>\n",
              "</table>\n",
              "<p>485 rows × 5 columns</p>\n",
              "</div>"
            ],
            "text/plain": [
              "                                          product_name  ... product_id\n",
              "0                      tp-link 300 mbps universal wifi  ...          1\n",
              "1    netgear r6220 ac1200 dual band gigabit wi-fi r...  ...          2\n",
              "2    zyxel nbg 6503 simultaneous dual-band wireless...  ...          3\n",
              "3                                  trendnet tew-721brm  ...          4\n",
              "4                                     iball wra300n3gt  ...          5\n",
              "..                                                 ...  ...        ...\n",
              "480  dell poweredge r510, r520, r720, r720xd, r730,...  ...        481\n",
              "481  raising electronics 15u 4 post open frame 19in...  ...        482\n",
              "482          dell 3080 sff i5 10500 16gb 256gb (0f7vx)  ...        483\n",
              "483  dell poweredge r530, r730, r730, r540, r740, r...  ...        484\n",
              "484  new air cooler heat sink compatible with dell ...  ...        485\n",
              "\n",
              "[485 rows x 5 columns]"
            ]
          },
          "metadata": {
            "tags": []
          },
          "execution_count": 159
        }
      ]
    },
    {
      "cell_type": "code",
      "metadata": {
        "id": "ZYb00YzXKjrW"
      },
      "source": [
        "train.to_pickle(\"/content/drive/MyDrive/Content_Recommendation/LSTM_Similarity/Computer_Product/df_train.pickle\")"
      ],
      "execution_count": null,
      "outputs": []
    },
    {
      "cell_type": "code",
      "metadata": {
        "id": "TCDhg3yhKtp9"
      },
      "source": [
        "product_id_test = [ i for i in range(1,test.shape[0]+1)]"
      ],
      "execution_count": null,
      "outputs": []
    },
    {
      "cell_type": "code",
      "metadata": {
        "colab": {
          "base_uri": "https://localhost:8080/"
        },
        "id": "1H4TXZlzKzB4",
        "outputId": "bc3d49b9-b623-49bd-cbae-29639705574b"
      },
      "source": [
        "product_id_test[:5],product_id_test[-5:],len(product_id_test)"
      ],
      "execution_count": null,
      "outputs": [
        {
          "output_type": "execute_result",
          "data": {
            "text/plain": [
              "([1, 2, 3, 4, 5], [210, 211, 212, 213, 214], 214)"
            ]
          },
          "metadata": {
            "tags": []
          },
          "execution_count": 162
        }
      ]
    },
    {
      "cell_type": "code",
      "metadata": {
        "id": "-INCDOLLK1Rm"
      },
      "source": [
        "test['product_id'] = product_id_test"
      ],
      "execution_count": null,
      "outputs": []
    },
    {
      "cell_type": "code",
      "metadata": {
        "colab": {
          "base_uri": "https://localhost:8080/"
        },
        "id": "DpYzK6L3K4CU",
        "outputId": "7ac3345d-20c7-48a1-89f3-cbcfba444f70"
      },
      "source": [
        "test.shape"
      ],
      "execution_count": null,
      "outputs": [
        {
          "output_type": "execute_result",
          "data": {
            "text/plain": [
              "(214, 5)"
            ]
          },
          "metadata": {
            "tags": []
          },
          "execution_count": 164
        }
      ]
    },
    {
      "cell_type": "code",
      "metadata": {
        "colab": {
          "base_uri": "https://localhost:8080/",
          "height": 589
        },
        "id": "67R35spwK6ek",
        "outputId": "233971c1-3afd-4867-a444-c79ad4752c83"
      },
      "source": [
        "test"
      ],
      "execution_count": null,
      "outputs": [
        {
          "output_type": "execute_result",
          "data": {
            "text/html": [
              "<div>\n",
              "<style scoped>\n",
              "    .dataframe tbody tr th:only-of-type {\n",
              "        vertical-align: middle;\n",
              "    }\n",
              "\n",
              "    .dataframe tbody tr th {\n",
              "        vertical-align: top;\n",
              "    }\n",
              "\n",
              "    .dataframe thead th {\n",
              "        text-align: right;\n",
              "    }\n",
              "</style>\n",
              "<table border=\"1\" class=\"dataframe\">\n",
              "  <thead>\n",
              "    <tr style=\"text-align: right;\">\n",
              "      <th></th>\n",
              "      <th>product_name</th>\n",
              "      <th>description</th>\n",
              "      <th>category</th>\n",
              "      <th>cleaned_description</th>\n",
              "      <th>product_id</th>\n",
              "    </tr>\n",
              "  </thead>\n",
              "  <tbody>\n",
              "    <tr>\n",
              "      <th>0</th>\n",
              "      <td>zyxel amg1312-t10b</td>\n",
              "      <td>zyxel amg1312-t10b only for rs. 2425 from fl...</td>\n",
              "      <td>router</td>\n",
              "      <td>zyxel amg flipkart com genuine product day rep...</td>\n",
              "      <td>1</td>\n",
              "    </tr>\n",
              "    <tr>\n",
              "      <th>1</th>\n",
              "      <td>iball 300m wireless-n adsl2+ 3g router</td>\n",
              "      <td>iball 300m wireless-n adsl2+ 3g router only ...</td>\n",
              "      <td>router</td>\n",
              "      <td>iball wireless adsl router flipkart com genuin...</td>\n",
              "      <td>2</td>\n",
              "    </tr>\n",
              "    <tr>\n",
              "      <th>2</th>\n",
              "      <td>tp-link archer c20 ac750 dual band router</td>\n",
              "      <td>tp-link archer c20 ac750 dual band router on...</td>\n",
              "      <td>router</td>\n",
              "      <td>tp link archer ac dual band router flipkart co...</td>\n",
              "      <td>3</td>\n",
              "    </tr>\n",
              "    <tr>\n",
              "      <th>3</th>\n",
              "      <td>iball ib-w4gx150n 4g wireless n router</td>\n",
              "      <td>iball ib-w4gx150n 4g wireless n router only ...</td>\n",
              "      <td>router</td>\n",
              "      <td>iball ib gx wireless router flipkart com genui...</td>\n",
              "      <td>4</td>\n",
              "    </tr>\n",
              "    <tr>\n",
              "      <th>4</th>\n",
              "      <td>trendnet tha-101 n300 router</td>\n",
              "      <td>trendnet tha-101 n300 router only for rs. 49...</td>\n",
              "      <td>router</td>\n",
              "      <td>trendnet tha router flipkart com genuine produ...</td>\n",
              "      <td>5</td>\n",
              "    </tr>\n",
              "    <tr>\n",
              "      <th>...</th>\n",
              "      <td>...</td>\n",
              "      <td>...</td>\n",
              "      <td>...</td>\n",
              "      <td>...</td>\n",
              "      <td>...</td>\n",
              "    </tr>\n",
              "    <tr>\n",
              "      <th>209</th>\n",
              "      <td>lenovo dcg x8 x8 x8ml2 pcie fh riser1 kit</td>\n",
              "      <td>product type:consumer electronics item pac...</td>\n",
              "      <td>servers</td>\n",
              "      <td>product type consumer electronics item package...</td>\n",
              "      <td>210</td>\n",
              "    </tr>\n",
              "    <tr>\n",
              "      <th>210</th>\n",
              "      <td>lenovo system 9532e5u ibm flex x240 m5 2xxeon ...</td>\n",
              "      <td>.   m5 compute node package dimensions: 61 h ...</td>\n",
              "      <td>servers</td>\n",
              "      <td>compute node package dimension centimeter pack...</td>\n",
              "      <td>211</td>\n",
              "    </tr>\n",
              "    <tr>\n",
              "      <th>211</th>\n",
              "      <td>bestparts new 2u sliding ready rail kit compat...</td>\n",
              "      <td>p/n: 0pwn3 00pwn3 h4x6x 0h4x6x * material:...</td>\n",
              "      <td>servers</td>\n",
              "      <td>pwn pwn material metal compatible dell powered...</td>\n",
              "      <td>212</td>\n",
              "    </tr>\n",
              "    <tr>\n",
              "      <th>212</th>\n",
              "      <td>hpe 873830-s01 proliant microserver gen10 ultr...</td>\n",
              "      <td>.   full product specifications: click to vie...</td>\n",
              "      <td>servers</td>\n",
              "      <td>full product specification click view number p...</td>\n",
              "      <td>213</td>\n",
              "    </tr>\n",
              "    <tr>\n",
              "      <th>213</th>\n",
              "      <td>dell precision 7000 7550 15.6\" mobile workstat...</td>\n",
              "      <td>.   processor manufacturer: intel processor t...</td>\n",
              "      <td>servers</td>\n",
              "      <td>processor manufacturer intel processor type co...</td>\n",
              "      <td>214</td>\n",
              "    </tr>\n",
              "  </tbody>\n",
              "</table>\n",
              "<p>214 rows × 5 columns</p>\n",
              "</div>"
            ],
            "text/plain": [
              "                                          product_name  ... product_id\n",
              "0                                   zyxel amg1312-t10b  ...          1\n",
              "1               iball 300m wireless-n adsl2+ 3g router  ...          2\n",
              "2            tp-link archer c20 ac750 dual band router  ...          3\n",
              "3               iball ib-w4gx150n 4g wireless n router  ...          4\n",
              "4                         trendnet tha-101 n300 router  ...          5\n",
              "..                                                 ...  ...        ...\n",
              "209          lenovo dcg x8 x8 x8ml2 pcie fh riser1 kit  ...        210\n",
              "210  lenovo system 9532e5u ibm flex x240 m5 2xxeon ...  ...        211\n",
              "211  bestparts new 2u sliding ready rail kit compat...  ...        212\n",
              "212  hpe 873830-s01 proliant microserver gen10 ultr...  ...        213\n",
              "213  dell precision 7000 7550 15.6\" mobile workstat...  ...        214\n",
              "\n",
              "[214 rows x 5 columns]"
            ]
          },
          "metadata": {
            "tags": []
          },
          "execution_count": 165
        }
      ]
    },
    {
      "cell_type": "code",
      "metadata": {
        "id": "1eEq6K99K9Mo"
      },
      "source": [
        "test.to_pickle(\"/content/drive/MyDrive/Content_Recommendation/LSTM_Similarity/Computer_Product/df_test.pickle\")"
      ],
      "execution_count": null,
      "outputs": []
    },
    {
      "cell_type": "code",
      "metadata": {
        "colab": {
          "base_uri": "https://localhost:8080/"
        },
        "id": "y4TnKl1xLCsR",
        "outputId": "3ce6f09d-bfa2-4f8e-812d-084f401f73d6"
      },
      "source": [
        "train.nunique(),train.shape"
      ],
      "execution_count": null,
      "outputs": [
        {
          "output_type": "execute_result",
          "data": {
            "text/plain": [
              "(product_name           479\n",
              " description            485\n",
              " category                10\n",
              " cleaned_description    485\n",
              " product_id             485\n",
              " dtype: int64, (485, 5))"
            ]
          },
          "metadata": {
            "tags": []
          },
          "execution_count": 167
        }
      ]
    },
    {
      "cell_type": "code",
      "metadata": {
        "colab": {
          "base_uri": "https://localhost:8080/"
        },
        "id": "4UpJ__9tLGUY",
        "outputId": "5aae1606-f01f-4ff6-9502-99847733ab90"
      },
      "source": [
        "test.nunique(),test.shape"
      ],
      "execution_count": null,
      "outputs": [
        {
          "output_type": "execute_result",
          "data": {
            "text/plain": [
              "(product_name           214\n",
              " description            214\n",
              " category                10\n",
              " cleaned_description    214\n",
              " product_id             214\n",
              " dtype: int64, (214, 5))"
            ]
          },
          "metadata": {
            "tags": []
          },
          "execution_count": 169
        }
      ]
    },
    {
      "cell_type": "markdown",
      "metadata": {
        "id": "SqU8XVgPOmso"
      },
      "source": [
        "### Model Input Data Preparation"
      ]
    },
    {
      "cell_type": "markdown",
      "metadata": {
        "id": "y18VB2LdVtUm"
      },
      "source": [
        "#### Train"
      ]
    },
    {
      "cell_type": "code",
      "metadata": {
        "id": "ao3hZuQ6NrpK"
      },
      "source": [
        "df_sub_train = pd.DataFrame()"
      ],
      "execution_count": null,
      "outputs": []
    },
    {
      "cell_type": "code",
      "metadata": {
        "colab": {
          "base_uri": "https://localhost:8080/",
          "height": 589
        },
        "id": "VfQDmfY1Osrg",
        "outputId": "c7709826-b729-444f-e3c2-936f975d5265"
      },
      "source": [
        "train"
      ],
      "execution_count": null,
      "outputs": [
        {
          "output_type": "execute_result",
          "data": {
            "text/html": [
              "<div>\n",
              "<style scoped>\n",
              "    .dataframe tbody tr th:only-of-type {\n",
              "        vertical-align: middle;\n",
              "    }\n",
              "\n",
              "    .dataframe tbody tr th {\n",
              "        vertical-align: top;\n",
              "    }\n",
              "\n",
              "    .dataframe thead th {\n",
              "        text-align: right;\n",
              "    }\n",
              "</style>\n",
              "<table border=\"1\" class=\"dataframe\">\n",
              "  <thead>\n",
              "    <tr style=\"text-align: right;\">\n",
              "      <th></th>\n",
              "      <th>product_name</th>\n",
              "      <th>description</th>\n",
              "      <th>category</th>\n",
              "      <th>cleaned_description</th>\n",
              "      <th>product_id</th>\n",
              "    </tr>\n",
              "  </thead>\n",
              "  <tbody>\n",
              "    <tr>\n",
              "      <th>0</th>\n",
              "      <td>tp-link 300 mbps universal wifi</td>\n",
              "      <td>tp-link 300 mbps universal wifi only for rs....</td>\n",
              "      <td>router</td>\n",
              "      <td>tp link mbps universal wifi flipkart com genui...</td>\n",
              "      <td>1</td>\n",
              "    </tr>\n",
              "    <tr>\n",
              "      <th>1</th>\n",
              "      <td>netgear r6220 ac1200 dual band gigabit wi-fi r...</td>\n",
              "      <td>netgear r6220 ac1200 dual band gigabit wi-fi...</td>\n",
              "      <td>router</td>\n",
              "      <td>netgear ac dual band gigabit wi fi router flip...</td>\n",
              "      <td>2</td>\n",
              "    </tr>\n",
              "    <tr>\n",
              "      <th>2</th>\n",
              "      <td>zyxel nbg 6503 simultaneous dual-band wireless...</td>\n",
              "      <td>zyxel nbg 6503 simultaneous dual-band wirele...</td>\n",
              "      <td>router</td>\n",
              "      <td>zyxel nbg simultaneous dual band wireless ac f...</td>\n",
              "      <td>3</td>\n",
              "    </tr>\n",
              "    <tr>\n",
              "      <th>3</th>\n",
              "      <td>trendnet tew-721brm</td>\n",
              "      <td>trendnet tew-721brm only for rs. 1920 from f...</td>\n",
              "      <td>router</td>\n",
              "      <td>trendnet tew brm flipkart com genuine product ...</td>\n",
              "      <td>4</td>\n",
              "    </tr>\n",
              "    <tr>\n",
              "      <th>4</th>\n",
              "      <td>iball wra300n3gt</td>\n",
              "      <td>iball wra300n3gt only for rs. 1999 from flip...</td>\n",
              "      <td>router</td>\n",
              "      <td>iball wra gt flipkart com genuine product day ...</td>\n",
              "      <td>5</td>\n",
              "    </tr>\n",
              "    <tr>\n",
              "      <th>...</th>\n",
              "      <td>...</td>\n",
              "      <td>...</td>\n",
              "      <td>...</td>\n",
              "      <td>...</td>\n",
              "      <td>...</td>\n",
              "    </tr>\n",
              "    <tr>\n",
              "      <th>480</th>\n",
              "      <td>dell poweredge r510, r520, r720, r720xd, r730,...</td>\n",
              "      <td>dell poweredge server security silver beze...</td>\n",
              "      <td>servers</td>\n",
              "      <td>dell poweredge server security silver bezel in...</td>\n",
              "      <td>481</td>\n",
              "    </tr>\n",
              "    <tr>\n",
              "      <th>481</th>\n",
              "      <td>raising electronics 15u 4 post open frame 19in...</td>\n",
              "      <td>1.fit 19\" wide standard equipment. install...</td>\n",
              "      <td>servers</td>\n",
              "      <td>fit wide standard equipment install depth post...</td>\n",
              "      <td>482</td>\n",
              "    </tr>\n",
              "    <tr>\n",
              "      <th>482</th>\n",
              "      <td>dell 3080 sff i5 10500 16gb 256gb (0f7vx)</td>\n",
              "      <td>.   upc: 884116372646 weight: 13.600 lbs 3080...</td>\n",
              "      <td>servers</td>\n",
              "      <td>upc weight lb sff gb gb brand dell see product...</td>\n",
              "      <td>483</td>\n",
              "    </tr>\n",
              "    <tr>\n",
              "      <th>483</th>\n",
              "      <td>dell poweredge r530, r730, r730, r540, r740, r...</td>\n",
              "      <td>dell poweredge 2u sliding ready rail kit c...</td>\n",
              "      <td>servers</td>\n",
              "      <td>dell poweredge sliding ready rail kit compatib...</td>\n",
              "      <td>484</td>\n",
              "    </tr>\n",
              "    <tr>\n",
              "      <th>484</th>\n",
              "      <td>new air cooler heat sink compatible with dell ...</td>\n",
              "      <td>fit models : for dell poweredge t440 t640 ...</td>\n",
              "      <td>servers</td>\n",
              "      <td>fit model dell poweredge tower server compatib...</td>\n",
              "      <td>485</td>\n",
              "    </tr>\n",
              "  </tbody>\n",
              "</table>\n",
              "<p>485 rows × 5 columns</p>\n",
              "</div>"
            ],
            "text/plain": [
              "                                          product_name  ... product_id\n",
              "0                      tp-link 300 mbps universal wifi  ...          1\n",
              "1    netgear r6220 ac1200 dual band gigabit wi-fi r...  ...          2\n",
              "2    zyxel nbg 6503 simultaneous dual-band wireless...  ...          3\n",
              "3                                  trendnet tew-721brm  ...          4\n",
              "4                                     iball wra300n3gt  ...          5\n",
              "..                                                 ...  ...        ...\n",
              "480  dell poweredge r510, r520, r720, r720xd, r730,...  ...        481\n",
              "481  raising electronics 15u 4 post open frame 19in...  ...        482\n",
              "482          dell 3080 sff i5 10500 16gb 256gb (0f7vx)  ...        483\n",
              "483  dell poweredge r530, r730, r730, r540, r740, r...  ...        484\n",
              "484  new air cooler heat sink compatible with dell ...  ...        485\n",
              "\n",
              "[485 rows x 5 columns]"
            ]
          },
          "metadata": {
            "tags": []
          },
          "execution_count": 171
        }
      ]
    },
    {
      "cell_type": "code",
      "metadata": {
        "id": "AnM8MHqxOuwo"
      },
      "source": [
        "p_id = train.product_id.unique()"
      ],
      "execution_count": null,
      "outputs": []
    },
    {
      "cell_type": "code",
      "metadata": {
        "colab": {
          "base_uri": "https://localhost:8080/"
        },
        "id": "L93n5frSO0nn",
        "outputId": "faa8806d-877c-4114-cd61-776846d47dba"
      },
      "source": [
        "len(p_id) * len(p_id),len(p_id)"
      ],
      "execution_count": null,
      "outputs": [
        {
          "output_type": "execute_result",
          "data": {
            "text/plain": [
              "(235225, 485)"
            ]
          },
          "metadata": {
            "tags": []
          },
          "execution_count": 173
        }
      ]
    },
    {
      "cell_type": "code",
      "metadata": {
        "id": "yEvRSVtlO3B-"
      },
      "source": [
        "lst = []\n",
        "for i in p_id:\n",
        "    lst.extend(p_id)"
      ],
      "execution_count": null,
      "outputs": []
    },
    {
      "cell_type": "code",
      "metadata": {
        "colab": {
          "base_uri": "https://localhost:8080/"
        },
        "id": "C0SwUzBQO5S0",
        "outputId": "7ee2e80d-3044-4322-e9de-fca51ebb4700"
      },
      "source": [
        "len(lst)"
      ],
      "execution_count": null,
      "outputs": [
        {
          "output_type": "execute_result",
          "data": {
            "text/plain": [
              "235225"
            ]
          },
          "metadata": {
            "tags": []
          },
          "execution_count": 175
        }
      ]
    },
    {
      "cell_type": "code",
      "metadata": {
        "colab": {
          "base_uri": "https://localhost:8080/"
        },
        "id": "Mv2d9JXxO7OG",
        "outputId": "eb32e779-deac-4ac1-d3d7-566104efa4f4"
      },
      "source": [
        "lst[:10],lst[-10:]"
      ],
      "execution_count": null,
      "outputs": [
        {
          "output_type": "execute_result",
          "data": {
            "text/plain": [
              "([1, 2, 3, 4, 5, 6, 7, 8, 9, 10],\n",
              " [476, 477, 478, 479, 480, 481, 482, 483, 484, 485])"
            ]
          },
          "metadata": {
            "tags": []
          },
          "execution_count": 176
        }
      ]
    },
    {
      "cell_type": "code",
      "metadata": {
        "id": "nx4oFXA-O-KX"
      },
      "source": [
        "lst_2 = []\n",
        "for i in p_id:\n",
        "    entry = [i] * len(p_id)\n",
        "    lst_2.extend(entry)"
      ],
      "execution_count": null,
      "outputs": []
    },
    {
      "cell_type": "code",
      "metadata": {
        "colab": {
          "base_uri": "https://localhost:8080/"
        },
        "id": "jiQEddd8PA7K",
        "outputId": "3df1617d-cb0c-4cc1-a952-f0fc685cae3e"
      },
      "source": [
        "lst_2[:10],lst_2[-10:]"
      ],
      "execution_count": null,
      "outputs": [
        {
          "output_type": "execute_result",
          "data": {
            "text/plain": [
              "([1, 1, 1, 1, 1, 1, 1, 1, 1, 1],\n",
              " [485, 485, 485, 485, 485, 485, 485, 485, 485, 485])"
            ]
          },
          "metadata": {
            "tags": []
          },
          "execution_count": 178
        }
      ]
    },
    {
      "cell_type": "code",
      "metadata": {
        "id": "kVa2d6yoPC_d"
      },
      "source": [
        "df_sub_train['Product1'] = lst_2\n",
        "df_sub_train['Product2'] = lst"
      ],
      "execution_count": null,
      "outputs": []
    },
    {
      "cell_type": "code",
      "metadata": {
        "colab": {
          "base_uri": "https://localhost:8080/",
          "height": 419
        },
        "id": "Tv4afDTHPFVT",
        "outputId": "fff54d38-8383-4924-b977-3b6848b7f4a2"
      },
      "source": [
        "df_sub_train"
      ],
      "execution_count": null,
      "outputs": [
        {
          "output_type": "execute_result",
          "data": {
            "text/html": [
              "<div>\n",
              "<style scoped>\n",
              "    .dataframe tbody tr th:only-of-type {\n",
              "        vertical-align: middle;\n",
              "    }\n",
              "\n",
              "    .dataframe tbody tr th {\n",
              "        vertical-align: top;\n",
              "    }\n",
              "\n",
              "    .dataframe thead th {\n",
              "        text-align: right;\n",
              "    }\n",
              "</style>\n",
              "<table border=\"1\" class=\"dataframe\">\n",
              "  <thead>\n",
              "    <tr style=\"text-align: right;\">\n",
              "      <th></th>\n",
              "      <th>Product1</th>\n",
              "      <th>Product2</th>\n",
              "    </tr>\n",
              "  </thead>\n",
              "  <tbody>\n",
              "    <tr>\n",
              "      <th>0</th>\n",
              "      <td>1</td>\n",
              "      <td>1</td>\n",
              "    </tr>\n",
              "    <tr>\n",
              "      <th>1</th>\n",
              "      <td>1</td>\n",
              "      <td>2</td>\n",
              "    </tr>\n",
              "    <tr>\n",
              "      <th>2</th>\n",
              "      <td>1</td>\n",
              "      <td>3</td>\n",
              "    </tr>\n",
              "    <tr>\n",
              "      <th>3</th>\n",
              "      <td>1</td>\n",
              "      <td>4</td>\n",
              "    </tr>\n",
              "    <tr>\n",
              "      <th>4</th>\n",
              "      <td>1</td>\n",
              "      <td>5</td>\n",
              "    </tr>\n",
              "    <tr>\n",
              "      <th>...</th>\n",
              "      <td>...</td>\n",
              "      <td>...</td>\n",
              "    </tr>\n",
              "    <tr>\n",
              "      <th>235220</th>\n",
              "      <td>485</td>\n",
              "      <td>481</td>\n",
              "    </tr>\n",
              "    <tr>\n",
              "      <th>235221</th>\n",
              "      <td>485</td>\n",
              "      <td>482</td>\n",
              "    </tr>\n",
              "    <tr>\n",
              "      <th>235222</th>\n",
              "      <td>485</td>\n",
              "      <td>483</td>\n",
              "    </tr>\n",
              "    <tr>\n",
              "      <th>235223</th>\n",
              "      <td>485</td>\n",
              "      <td>484</td>\n",
              "    </tr>\n",
              "    <tr>\n",
              "      <th>235224</th>\n",
              "      <td>485</td>\n",
              "      <td>485</td>\n",
              "    </tr>\n",
              "  </tbody>\n",
              "</table>\n",
              "<p>235225 rows × 2 columns</p>\n",
              "</div>"
            ],
            "text/plain": [
              "        Product1  Product2\n",
              "0              1         1\n",
              "1              1         2\n",
              "2              1         3\n",
              "3              1         4\n",
              "4              1         5\n",
              "...          ...       ...\n",
              "235220       485       481\n",
              "235221       485       482\n",
              "235222       485       483\n",
              "235223       485       484\n",
              "235224       485       485\n",
              "\n",
              "[235225 rows x 2 columns]"
            ]
          },
          "metadata": {
            "tags": []
          },
          "execution_count": 180
        }
      ]
    },
    {
      "cell_type": "code",
      "metadata": {
        "id": "BQ1cJusvPIOm"
      },
      "source": [
        "df_sub_train = df_sub_train[df_sub_train['Product1']!=df_sub_train['Product2']]"
      ],
      "execution_count": null,
      "outputs": []
    },
    {
      "cell_type": "code",
      "metadata": {
        "id": "4urigDlyPNae"
      },
      "source": [
        "df_sub_train.reset_index(drop=True,inplace=True)"
      ],
      "execution_count": null,
      "outputs": []
    },
    {
      "cell_type": "code",
      "metadata": {
        "colab": {
          "base_uri": "https://localhost:8080/"
        },
        "id": "z1P-h-gDPPcf",
        "outputId": "5b921337-b185-40a3-ddd3-2e2ac74e5893"
      },
      "source": [
        "df_sub_train.shape"
      ],
      "execution_count": null,
      "outputs": [
        {
          "output_type": "execute_result",
          "data": {
            "text/plain": [
              "(234740, 2)"
            ]
          },
          "metadata": {
            "tags": []
          },
          "execution_count": 185
        }
      ]
    },
    {
      "cell_type": "code",
      "metadata": {
        "colab": {
          "base_uri": "https://localhost:8080/",
          "height": 419
        },
        "id": "Vn7GPF4vPXLy",
        "outputId": "2d7531e9-74e7-453b-b708-5b04e27ef80a"
      },
      "source": [
        "df_sub_train"
      ],
      "execution_count": null,
      "outputs": [
        {
          "output_type": "execute_result",
          "data": {
            "text/html": [
              "<div>\n",
              "<style scoped>\n",
              "    .dataframe tbody tr th:only-of-type {\n",
              "        vertical-align: middle;\n",
              "    }\n",
              "\n",
              "    .dataframe tbody tr th {\n",
              "        vertical-align: top;\n",
              "    }\n",
              "\n",
              "    .dataframe thead th {\n",
              "        text-align: right;\n",
              "    }\n",
              "</style>\n",
              "<table border=\"1\" class=\"dataframe\">\n",
              "  <thead>\n",
              "    <tr style=\"text-align: right;\">\n",
              "      <th></th>\n",
              "      <th>Product1</th>\n",
              "      <th>Product2</th>\n",
              "    </tr>\n",
              "  </thead>\n",
              "  <tbody>\n",
              "    <tr>\n",
              "      <th>0</th>\n",
              "      <td>1</td>\n",
              "      <td>2</td>\n",
              "    </tr>\n",
              "    <tr>\n",
              "      <th>1</th>\n",
              "      <td>1</td>\n",
              "      <td>3</td>\n",
              "    </tr>\n",
              "    <tr>\n",
              "      <th>2</th>\n",
              "      <td>1</td>\n",
              "      <td>4</td>\n",
              "    </tr>\n",
              "    <tr>\n",
              "      <th>3</th>\n",
              "      <td>1</td>\n",
              "      <td>5</td>\n",
              "    </tr>\n",
              "    <tr>\n",
              "      <th>4</th>\n",
              "      <td>1</td>\n",
              "      <td>6</td>\n",
              "    </tr>\n",
              "    <tr>\n",
              "      <th>...</th>\n",
              "      <td>...</td>\n",
              "      <td>...</td>\n",
              "    </tr>\n",
              "    <tr>\n",
              "      <th>234735</th>\n",
              "      <td>485</td>\n",
              "      <td>480</td>\n",
              "    </tr>\n",
              "    <tr>\n",
              "      <th>234736</th>\n",
              "      <td>485</td>\n",
              "      <td>481</td>\n",
              "    </tr>\n",
              "    <tr>\n",
              "      <th>234737</th>\n",
              "      <td>485</td>\n",
              "      <td>482</td>\n",
              "    </tr>\n",
              "    <tr>\n",
              "      <th>234738</th>\n",
              "      <td>485</td>\n",
              "      <td>483</td>\n",
              "    </tr>\n",
              "    <tr>\n",
              "      <th>234739</th>\n",
              "      <td>485</td>\n",
              "      <td>484</td>\n",
              "    </tr>\n",
              "  </tbody>\n",
              "</table>\n",
              "<p>234740 rows × 2 columns</p>\n",
              "</div>"
            ],
            "text/plain": [
              "        Product1  Product2\n",
              "0              1         2\n",
              "1              1         3\n",
              "2              1         4\n",
              "3              1         5\n",
              "4              1         6\n",
              "...          ...       ...\n",
              "234735       485       480\n",
              "234736       485       481\n",
              "234737       485       482\n",
              "234738       485       483\n",
              "234739       485       484\n",
              "\n",
              "[234740 rows x 2 columns]"
            ]
          },
          "metadata": {
            "tags": []
          },
          "execution_count": 186
        }
      ]
    },
    {
      "cell_type": "code",
      "metadata": {
        "id": "J9zklI4MPYqm"
      },
      "source": [
        "cat = list(train['category'].unique())"
      ],
      "execution_count": null,
      "outputs": []
    },
    {
      "cell_type": "code",
      "metadata": {
        "colab": {
          "base_uri": "https://localhost:8080/"
        },
        "id": "tF6CsffBPdPJ",
        "outputId": "ae64dcb8-4371-43c1-e8e5-f6305f41578b"
      },
      "source": [
        "cat"
      ],
      "execution_count": null,
      "outputs": [
        {
          "output_type": "execute_result",
          "data": {
            "text/plain": [
              "['router',\n",
              " 'usb_accessories',\n",
              " 'led light',\n",
              " 'data storage',\n",
              " 'adapter',\n",
              " 'laptop battery',\n",
              " 'laptop skin and mousepad',\n",
              " 'monitors',\n",
              " 'scanners',\n",
              " 'servers']"
            ]
          },
          "metadata": {
            "tags": []
          },
          "execution_count": 188
        }
      ]
    },
    {
      "cell_type": "code",
      "metadata": {
        "id": "6O7hfaR-PeGA"
      },
      "source": [
        "train_grp = train.groupby('category')"
      ],
      "execution_count": null,
      "outputs": []
    },
    {
      "cell_type": "code",
      "metadata": {
        "id": "wVqUm0TrPhII"
      },
      "source": [
        "lst_of_lst = []\n",
        "for i in cat:\n",
        "    lst_of_lst.append(train_grp.get_group(i)['product_id'].to_list())\n",
        "\n"
      ],
      "execution_count": null,
      "outputs": []
    },
    {
      "cell_type": "code",
      "metadata": {
        "colab": {
          "base_uri": "https://localhost:8080/"
        },
        "id": "c2bjuswMPmkR",
        "outputId": "67b9066b-4964-4a42-fca1-bb7e591aef53"
      },
      "source": [
        "print(lst_of_lst)"
      ],
      "execution_count": null,
      "outputs": [
        {
          "output_type": "stream",
          "text": [
            "[[1, 2, 3, 4, 5, 6, 7, 8, 9, 10, 11, 12, 13, 14, 15, 16, 17, 18, 19, 20, 21, 22, 23, 24, 25, 26, 27, 28, 29, 30, 31, 32, 33, 34, 35, 36, 37, 38, 39, 40, 41, 42, 43, 44, 45, 46, 47, 48, 49, 50, 51, 52, 53, 54, 55, 56, 57, 58, 59, 60, 61, 62, 63, 64, 65, 66, 67, 68, 69, 70, 71, 72, 73, 74, 75, 76, 77, 78, 79, 80, 81, 82, 83, 84, 85, 86, 87, 88, 89, 90, 91, 92, 93, 94, 95, 96, 97, 98, 99, 100, 101, 102, 103, 104, 105, 106, 107, 108, 109, 110, 111, 112, 113, 114, 115, 116], [117, 118, 119, 120, 121, 122, 123, 124, 125, 126, 127, 128, 129, 130, 131, 132, 133, 134, 135, 136, 137, 138, 139, 140, 141, 142, 143, 144, 145, 146, 147, 148, 149, 150, 151, 152, 153, 154, 155, 156, 157, 158, 159, 160], [161, 162, 163, 164, 165, 166, 167, 168, 169, 170, 171, 172, 173, 174, 175, 176, 177, 178, 179, 180, 181, 182, 183, 184, 185, 186, 187, 188, 189, 190, 191, 192, 193, 194, 195, 196, 197, 198, 199, 200, 201, 202, 203, 204], [205, 206, 207, 208, 209, 210, 211, 212, 213, 214, 215, 216, 217, 218, 219, 220, 221, 222, 223, 224, 225, 226, 227, 228, 229, 230, 231, 232, 233, 234, 235, 236, 237, 238, 239, 240, 241, 242, 243, 244, 245, 246, 247, 248, 249, 250, 251], [252, 253, 254, 255, 256, 257, 258, 259, 260, 261, 262, 263, 264, 265, 266, 267, 268, 269, 270, 271, 272, 273], [274, 275, 276, 277, 278, 279, 280, 281, 282, 283, 284, 285, 286, 287, 288, 289, 290, 291, 292, 293, 294, 295, 296, 297, 298, 299, 300, 301, 302, 303, 304, 305, 306, 307, 308, 309, 310, 311, 312, 313, 314, 315, 316, 317, 318, 319, 320, 321, 322, 323], [324, 325, 326, 327, 328, 329, 330, 331, 332, 333, 334, 335, 336, 337, 338, 339, 340, 341, 342, 343, 344, 345, 346, 347, 348], [349, 350, 351, 352, 353, 354, 355, 356, 357, 358, 359, 360, 361, 362, 363, 364, 365, 366, 367, 368, 369, 370, 371, 372, 373, 374, 375, 376, 377, 378, 379, 380, 381, 382, 383, 384, 385, 386, 387, 388, 389, 390, 391, 392, 393, 394, 395, 396, 397, 398, 399, 400, 401, 402, 403, 404, 405, 406, 407, 408, 409, 410, 411, 412, 413, 414, 415, 416, 417, 418, 419, 420, 421, 422, 423, 424, 425, 426, 427, 428, 429], [430, 431, 432, 433, 434, 435, 436, 437, 438, 439, 440, 441, 442, 443, 444, 445, 446, 447, 448, 449, 450, 451, 452, 453, 454, 455, 456, 457, 458, 459, 460, 461, 462, 463, 464, 465, 466, 467, 468, 469, 470, 471], [472, 473, 474, 475, 476, 477, 478, 479, 480, 481, 482, 483, 484, 485]]\n"
          ],
          "name": "stdout"
        }
      ]
    },
    {
      "cell_type": "code",
      "metadata": {
        "colab": {
          "base_uri": "https://localhost:8080/"
        },
        "id": "LVcjjB03PpHJ",
        "outputId": "bb9b009e-6fcd-45aa-9962-c102e00c8194"
      },
      "source": [
        "print(lst_of_lst[9])"
      ],
      "execution_count": null,
      "outputs": [
        {
          "output_type": "stream",
          "text": [
            "[472, 473, 474, 475, 476, 477, 478, 479, 480, 481, 482, 483, 484, 485]\n"
          ],
          "name": "stdout"
        }
      ]
    },
    {
      "cell_type": "code",
      "metadata": {
        "id": "2T3FBVTyPsQT"
      },
      "source": [
        "col3_lst = []\n",
        "for x in df_sub_train.iterrows():\n",
        "    a = x[1]['Product1']\n",
        "    b =  x[1]['Product2']\n",
        "    val = 0\n",
        "    for i in lst_of_lst:\n",
        "        if a in i and b in i:\n",
        "            val = 1\n",
        "    col3_lst.append(val)\n",
        "        "
      ],
      "execution_count": null,
      "outputs": []
    },
    {
      "cell_type": "code",
      "metadata": {
        "colab": {
          "base_uri": "https://localhost:8080/"
        },
        "id": "vD4Wa3UcPwJY",
        "outputId": "a538366b-50af-4aa8-aa60-55ec0084e06b"
      },
      "source": [
        "set(col3_lst)"
      ],
      "execution_count": null,
      "outputs": [
        {
          "output_type": "execute_result",
          "data": {
            "text/plain": [
              "{0, 1}"
            ]
          },
          "metadata": {
            "tags": []
          },
          "execution_count": 195
        }
      ]
    },
    {
      "cell_type": "code",
      "metadata": {
        "colab": {
          "base_uri": "https://localhost:8080/"
        },
        "id": "qcphK34EPym4",
        "outputId": "55abbeb2-415c-4fd5-a613-5ecd787878c5"
      },
      "source": [
        "print(len(col3_lst))\n",
        "col3_lst.count(0),col3_lst.count(1),col3_lst.count(0)+col3_lst.count(1),df_sub_train.shape\n"
      ],
      "execution_count": null,
      "outputs": [
        {
          "output_type": "stream",
          "text": [
            "234740\n"
          ],
          "name": "stdout"
        },
        {
          "output_type": "execute_result",
          "data": {
            "text/plain": [
              "(203558, 31182, 234740, (234740, 2))"
            ]
          },
          "metadata": {
            "tags": []
          },
          "execution_count": 202
        }
      ]
    },
    {
      "cell_type": "code",
      "metadata": {
        "colab": {
          "base_uri": "https://localhost:8080/"
        },
        "id": "Vl56Q4QoPyd1",
        "outputId": "3d95bd07-8389-4ba1-8cfc-12947e826fb6"
      },
      "source": [
        "print(col3_lst[:100],col3_lst[-10:],col3_lst[10002:10010])"
      ],
      "execution_count": null,
      "outputs": [
        {
          "output_type": "stream",
          "text": [
            "[1, 1, 1, 1, 1, 1, 1, 1, 1, 1, 1, 1, 1, 1, 1, 1, 1, 1, 1, 1, 1, 1, 1, 1, 1, 1, 1, 1, 1, 1, 1, 1, 1, 1, 1, 1, 1, 1, 1, 1, 1, 1, 1, 1, 1, 1, 1, 1, 1, 1, 1, 1, 1, 1, 1, 1, 1, 1, 1, 1, 1, 1, 1, 1, 1, 1, 1, 1, 1, 1, 1, 1, 1, 1, 1, 1, 1, 1, 1, 1, 1, 1, 1, 1, 1, 1, 1, 1, 1, 1, 1, 1, 1, 1, 1, 1, 1, 1, 1, 1] [1, 1, 1, 1, 1, 1, 1, 1, 1, 1] [0, 0, 0, 0, 0, 0, 0, 0]\n"
          ],
          "name": "stdout"
        }
      ]
    },
    {
      "cell_type": "code",
      "metadata": {
        "colab": {
          "base_uri": "https://localhost:8080/"
        },
        "id": "Kb05L6AkPyQn",
        "outputId": "110635ab-ae7c-41d4-c719-bf92c7c75754"
      },
      "source": [
        "df_sub_train['Cocompared'] = col3_lst"
      ],
      "execution_count": null,
      "outputs": [
        {
          "output_type": "stream",
          "text": [
            "/usr/local/lib/python3.7/dist-packages/ipykernel_launcher.py:1: SettingWithCopyWarning: \n",
            "A value is trying to be set on a copy of a slice from a DataFrame.\n",
            "Try using .loc[row_indexer,col_indexer] = value instead\n",
            "\n",
            "See the caveats in the documentation: https://pandas.pydata.org/pandas-docs/stable/user_guide/indexing.html#returning-a-view-versus-a-copy\n",
            "  \"\"\"Entry point for launching an IPython kernel.\n"
          ],
          "name": "stderr"
        }
      ]
    },
    {
      "cell_type": "code",
      "metadata": {
        "colab": {
          "base_uri": "https://localhost:8080/",
          "height": 419
        },
        "id": "fA-zBecoPyLS",
        "outputId": "ded000aa-3fba-4940-eb73-d8addface592"
      },
      "source": [
        "df_sub_train"
      ],
      "execution_count": null,
      "outputs": [
        {
          "output_type": "execute_result",
          "data": {
            "text/html": [
              "<div>\n",
              "<style scoped>\n",
              "    .dataframe tbody tr th:only-of-type {\n",
              "        vertical-align: middle;\n",
              "    }\n",
              "\n",
              "    .dataframe tbody tr th {\n",
              "        vertical-align: top;\n",
              "    }\n",
              "\n",
              "    .dataframe thead th {\n",
              "        text-align: right;\n",
              "    }\n",
              "</style>\n",
              "<table border=\"1\" class=\"dataframe\">\n",
              "  <thead>\n",
              "    <tr style=\"text-align: right;\">\n",
              "      <th></th>\n",
              "      <th>Product1</th>\n",
              "      <th>Product2</th>\n",
              "      <th>Cocompared</th>\n",
              "    </tr>\n",
              "  </thead>\n",
              "  <tbody>\n",
              "    <tr>\n",
              "      <th>0</th>\n",
              "      <td>1</td>\n",
              "      <td>2</td>\n",
              "      <td>1</td>\n",
              "    </tr>\n",
              "    <tr>\n",
              "      <th>1</th>\n",
              "      <td>1</td>\n",
              "      <td>3</td>\n",
              "      <td>1</td>\n",
              "    </tr>\n",
              "    <tr>\n",
              "      <th>2</th>\n",
              "      <td>1</td>\n",
              "      <td>4</td>\n",
              "      <td>1</td>\n",
              "    </tr>\n",
              "    <tr>\n",
              "      <th>3</th>\n",
              "      <td>1</td>\n",
              "      <td>5</td>\n",
              "      <td>1</td>\n",
              "    </tr>\n",
              "    <tr>\n",
              "      <th>4</th>\n",
              "      <td>1</td>\n",
              "      <td>6</td>\n",
              "      <td>1</td>\n",
              "    </tr>\n",
              "    <tr>\n",
              "      <th>...</th>\n",
              "      <td>...</td>\n",
              "      <td>...</td>\n",
              "      <td>...</td>\n",
              "    </tr>\n",
              "    <tr>\n",
              "      <th>234735</th>\n",
              "      <td>485</td>\n",
              "      <td>480</td>\n",
              "      <td>1</td>\n",
              "    </tr>\n",
              "    <tr>\n",
              "      <th>234736</th>\n",
              "      <td>485</td>\n",
              "      <td>481</td>\n",
              "      <td>1</td>\n",
              "    </tr>\n",
              "    <tr>\n",
              "      <th>234737</th>\n",
              "      <td>485</td>\n",
              "      <td>482</td>\n",
              "      <td>1</td>\n",
              "    </tr>\n",
              "    <tr>\n",
              "      <th>234738</th>\n",
              "      <td>485</td>\n",
              "      <td>483</td>\n",
              "      <td>1</td>\n",
              "    </tr>\n",
              "    <tr>\n",
              "      <th>234739</th>\n",
              "      <td>485</td>\n",
              "      <td>484</td>\n",
              "      <td>1</td>\n",
              "    </tr>\n",
              "  </tbody>\n",
              "</table>\n",
              "<p>234740 rows × 3 columns</p>\n",
              "</div>"
            ],
            "text/plain": [
              "        Product1  Product2  Cocompared\n",
              "0              1         2           1\n",
              "1              1         3           1\n",
              "2              1         4           1\n",
              "3              1         5           1\n",
              "4              1         6           1\n",
              "...          ...       ...         ...\n",
              "234735       485       480           1\n",
              "234736       485       481           1\n",
              "234737       485       482           1\n",
              "234738       485       483           1\n",
              "234739       485       484           1\n",
              "\n",
              "[234740 rows x 3 columns]"
            ]
          },
          "metadata": {
            "tags": []
          },
          "execution_count": 205
        }
      ]
    },
    {
      "cell_type": "code",
      "metadata": {
        "colab": {
          "base_uri": "https://localhost:8080/"
        },
        "id": "kbHFfJVsPyHV",
        "outputId": "f6d32249-d836-49d6-cfc5-b146e42d9d93"
      },
      "source": [
        "df_sub_train.Cocompared.value_counts()"
      ],
      "execution_count": null,
      "outputs": [
        {
          "output_type": "execute_result",
          "data": {
            "text/plain": [
              "0    203558\n",
              "1     31182\n",
              "Name: Cocompared, dtype: int64"
            ]
          },
          "metadata": {
            "tags": []
          },
          "execution_count": 206
        }
      ]
    },
    {
      "cell_type": "code",
      "metadata": {
        "id": "amIdkj9TQYyi"
      },
      "source": [
        "df_sub_train.to_pickle(\"/content/drive/MyDrive/Content_Recommendation/LSTM_Similarity/Computer_Product/product_paired_train.pickle\")"
      ],
      "execution_count": null,
      "outputs": []
    },
    {
      "cell_type": "code",
      "metadata": {
        "colab": {
          "base_uri": "https://localhost:8080/",
          "height": 589
        },
        "id": "7qrN9jL_QebJ",
        "outputId": "99f1cda0-b954-4923-ab94-3a361af56012"
      },
      "source": [
        "train"
      ],
      "execution_count": null,
      "outputs": [
        {
          "output_type": "execute_result",
          "data": {
            "text/html": [
              "<div>\n",
              "<style scoped>\n",
              "    .dataframe tbody tr th:only-of-type {\n",
              "        vertical-align: middle;\n",
              "    }\n",
              "\n",
              "    .dataframe tbody tr th {\n",
              "        vertical-align: top;\n",
              "    }\n",
              "\n",
              "    .dataframe thead th {\n",
              "        text-align: right;\n",
              "    }\n",
              "</style>\n",
              "<table border=\"1\" class=\"dataframe\">\n",
              "  <thead>\n",
              "    <tr style=\"text-align: right;\">\n",
              "      <th></th>\n",
              "      <th>product_name</th>\n",
              "      <th>description</th>\n",
              "      <th>category</th>\n",
              "      <th>cleaned_description</th>\n",
              "      <th>product_id</th>\n",
              "    </tr>\n",
              "  </thead>\n",
              "  <tbody>\n",
              "    <tr>\n",
              "      <th>0</th>\n",
              "      <td>tp-link 300 mbps universal wifi</td>\n",
              "      <td>tp-link 300 mbps universal wifi only for rs....</td>\n",
              "      <td>router</td>\n",
              "      <td>tp link mbps universal wifi flipkart com genui...</td>\n",
              "      <td>1</td>\n",
              "    </tr>\n",
              "    <tr>\n",
              "      <th>1</th>\n",
              "      <td>netgear r6220 ac1200 dual band gigabit wi-fi r...</td>\n",
              "      <td>netgear r6220 ac1200 dual band gigabit wi-fi...</td>\n",
              "      <td>router</td>\n",
              "      <td>netgear ac dual band gigabit wi fi router flip...</td>\n",
              "      <td>2</td>\n",
              "    </tr>\n",
              "    <tr>\n",
              "      <th>2</th>\n",
              "      <td>zyxel nbg 6503 simultaneous dual-band wireless...</td>\n",
              "      <td>zyxel nbg 6503 simultaneous dual-band wirele...</td>\n",
              "      <td>router</td>\n",
              "      <td>zyxel nbg simultaneous dual band wireless ac f...</td>\n",
              "      <td>3</td>\n",
              "    </tr>\n",
              "    <tr>\n",
              "      <th>3</th>\n",
              "      <td>trendnet tew-721brm</td>\n",
              "      <td>trendnet tew-721brm only for rs. 1920 from f...</td>\n",
              "      <td>router</td>\n",
              "      <td>trendnet tew brm flipkart com genuine product ...</td>\n",
              "      <td>4</td>\n",
              "    </tr>\n",
              "    <tr>\n",
              "      <th>4</th>\n",
              "      <td>iball wra300n3gt</td>\n",
              "      <td>iball wra300n3gt only for rs. 1999 from flip...</td>\n",
              "      <td>router</td>\n",
              "      <td>iball wra gt flipkart com genuine product day ...</td>\n",
              "      <td>5</td>\n",
              "    </tr>\n",
              "    <tr>\n",
              "      <th>...</th>\n",
              "      <td>...</td>\n",
              "      <td>...</td>\n",
              "      <td>...</td>\n",
              "      <td>...</td>\n",
              "      <td>...</td>\n",
              "    </tr>\n",
              "    <tr>\n",
              "      <th>480</th>\n",
              "      <td>dell poweredge r510, r520, r720, r720xd, r730,...</td>\n",
              "      <td>dell poweredge server security silver beze...</td>\n",
              "      <td>servers</td>\n",
              "      <td>dell poweredge server security silver bezel in...</td>\n",
              "      <td>481</td>\n",
              "    </tr>\n",
              "    <tr>\n",
              "      <th>481</th>\n",
              "      <td>raising electronics 15u 4 post open frame 19in...</td>\n",
              "      <td>1.fit 19\" wide standard equipment. install...</td>\n",
              "      <td>servers</td>\n",
              "      <td>fit wide standard equipment install depth post...</td>\n",
              "      <td>482</td>\n",
              "    </tr>\n",
              "    <tr>\n",
              "      <th>482</th>\n",
              "      <td>dell 3080 sff i5 10500 16gb 256gb (0f7vx)</td>\n",
              "      <td>.   upc: 884116372646 weight: 13.600 lbs 3080...</td>\n",
              "      <td>servers</td>\n",
              "      <td>upc weight lb sff gb gb brand dell see product...</td>\n",
              "      <td>483</td>\n",
              "    </tr>\n",
              "    <tr>\n",
              "      <th>483</th>\n",
              "      <td>dell poweredge r530, r730, r730, r540, r740, r...</td>\n",
              "      <td>dell poweredge 2u sliding ready rail kit c...</td>\n",
              "      <td>servers</td>\n",
              "      <td>dell poweredge sliding ready rail kit compatib...</td>\n",
              "      <td>484</td>\n",
              "    </tr>\n",
              "    <tr>\n",
              "      <th>484</th>\n",
              "      <td>new air cooler heat sink compatible with dell ...</td>\n",
              "      <td>fit models : for dell poweredge t440 t640 ...</td>\n",
              "      <td>servers</td>\n",
              "      <td>fit model dell poweredge tower server compatib...</td>\n",
              "      <td>485</td>\n",
              "    </tr>\n",
              "  </tbody>\n",
              "</table>\n",
              "<p>485 rows × 5 columns</p>\n",
              "</div>"
            ],
            "text/plain": [
              "                                          product_name  ... product_id\n",
              "0                      tp-link 300 mbps universal wifi  ...          1\n",
              "1    netgear r6220 ac1200 dual band gigabit wi-fi r...  ...          2\n",
              "2    zyxel nbg 6503 simultaneous dual-band wireless...  ...          3\n",
              "3                                  trendnet tew-721brm  ...          4\n",
              "4                                     iball wra300n3gt  ...          5\n",
              "..                                                 ...  ...        ...\n",
              "480  dell poweredge r510, r520, r720, r720xd, r730,...  ...        481\n",
              "481  raising electronics 15u 4 post open frame 19in...  ...        482\n",
              "482          dell 3080 sff i5 10500 16gb 256gb (0f7vx)  ...        483\n",
              "483  dell poweredge r530, r730, r730, r540, r740, r...  ...        484\n",
              "484  new air cooler heat sink compatible with dell ...  ...        485\n",
              "\n",
              "[485 rows x 5 columns]"
            ]
          },
          "metadata": {
            "tags": []
          },
          "execution_count": 208
        }
      ]
    },
    {
      "cell_type": "code",
      "metadata": {
        "colab": {
          "base_uri": "https://localhost:8080/"
        },
        "id": "yEnn-NJcQi76",
        "outputId": "0edb0ec9-5c69-470c-b9cc-6a9765e5ed99"
      },
      "source": [
        "train['cleaned_description']"
      ],
      "execution_count": null,
      "outputs": [
        {
          "output_type": "execute_result",
          "data": {
            "text/plain": [
              "0      tp link mbps universal wifi flipkart com genui...\n",
              "1      netgear ac dual band gigabit wi fi router flip...\n",
              "2      zyxel nbg simultaneous dual band wireless ac f...\n",
              "3      trendnet tew brm flipkart com genuine product ...\n",
              "4      iball wra gt flipkart com genuine product day ...\n",
              "                             ...                        \n",
              "480    dell poweredge server security silver bezel in...\n",
              "481    fit wide standard equipment install depth post...\n",
              "482    upc weight lb sff gb gb brand dell see product...\n",
              "483    dell poweredge sliding ready rail kit compatib...\n",
              "484    fit model dell poweredge tower server compatib...\n",
              "Name: cleaned_description, Length: 485, dtype: object"
            ]
          },
          "metadata": {
            "tags": []
          },
          "execution_count": 210
        }
      ]
    },
    {
      "cell_type": "code",
      "metadata": {
        "colab": {
          "base_uri": "https://localhost:8080/"
        },
        "id": "FGGxP_raQl5l",
        "outputId": "8c86cf0d-dba2-4e37-fefa-70c51cdb7eab"
      },
      "source": [
        "len_lst_d = []\n",
        "for i in range(train.shape[0]):\n",
        "    val_len = len(train['cleaned_description'][i].split(\" \"))\n",
        "    len_lst_d.append(val_len)\n",
        "\n",
        "print(max(len_lst_d)) #maxlen"
      ],
      "execution_count": null,
      "outputs": [
        {
          "output_type": "stream",
          "text": [
            "652\n"
          ],
          "name": "stdout"
        }
      ]
    },
    {
      "cell_type": "code",
      "metadata": {
        "colab": {
          "base_uri": "https://localhost:8080/"
        },
        "id": "3fMSzC-_Q5ku",
        "outputId": "1d06ec8b-ca57-4f0d-f46d-deabe6c068e3"
      },
      "source": [
        "import numpy as np\n",
        "print(np.mean(len_lst_d))\n",
        "max(len_lst_d),min(len_lst_d)"
      ],
      "execution_count": null,
      "outputs": [
        {
          "output_type": "stream",
          "text": [
            "66.40618556701031\n"
          ],
          "name": "stdout"
        },
        {
          "output_type": "execute_result",
          "data": {
            "text/plain": [
              "(652, 3)"
            ]
          },
          "metadata": {
            "tags": []
          },
          "execution_count": 214
        }
      ]
    },
    {
      "cell_type": "code",
      "metadata": {
        "colab": {
          "base_uri": "https://localhost:8080/",
          "height": 419
        },
        "id": "ZBjrb1E_Uukg",
        "outputId": "ebcaec68-4239-40f0-8160-db04a6575060"
      },
      "source": [
        "train[['product_id','cleaned_description']]"
      ],
      "execution_count": null,
      "outputs": [
        {
          "output_type": "execute_result",
          "data": {
            "text/html": [
              "<div>\n",
              "<style scoped>\n",
              "    .dataframe tbody tr th:only-of-type {\n",
              "        vertical-align: middle;\n",
              "    }\n",
              "\n",
              "    .dataframe tbody tr th {\n",
              "        vertical-align: top;\n",
              "    }\n",
              "\n",
              "    .dataframe thead th {\n",
              "        text-align: right;\n",
              "    }\n",
              "</style>\n",
              "<table border=\"1\" class=\"dataframe\">\n",
              "  <thead>\n",
              "    <tr style=\"text-align: right;\">\n",
              "      <th></th>\n",
              "      <th>product_id</th>\n",
              "      <th>cleaned_description</th>\n",
              "    </tr>\n",
              "  </thead>\n",
              "  <tbody>\n",
              "    <tr>\n",
              "      <th>0</th>\n",
              "      <td>1</td>\n",
              "      <td>tp link mbps universal wifi flipkart com genui...</td>\n",
              "    </tr>\n",
              "    <tr>\n",
              "      <th>1</th>\n",
              "      <td>2</td>\n",
              "      <td>netgear ac dual band gigabit wi fi router flip...</td>\n",
              "    </tr>\n",
              "    <tr>\n",
              "      <th>2</th>\n",
              "      <td>3</td>\n",
              "      <td>zyxel nbg simultaneous dual band wireless ac f...</td>\n",
              "    </tr>\n",
              "    <tr>\n",
              "      <th>3</th>\n",
              "      <td>4</td>\n",
              "      <td>trendnet tew brm flipkart com genuine product ...</td>\n",
              "    </tr>\n",
              "    <tr>\n",
              "      <th>4</th>\n",
              "      <td>5</td>\n",
              "      <td>iball wra gt flipkart com genuine product day ...</td>\n",
              "    </tr>\n",
              "    <tr>\n",
              "      <th>...</th>\n",
              "      <td>...</td>\n",
              "      <td>...</td>\n",
              "    </tr>\n",
              "    <tr>\n",
              "      <th>480</th>\n",
              "      <td>481</td>\n",
              "      <td>dell poweredge server security silver bezel in...</td>\n",
              "    </tr>\n",
              "    <tr>\n",
              "      <th>481</th>\n",
              "      <td>482</td>\n",
              "      <td>fit wide standard equipment install depth post...</td>\n",
              "    </tr>\n",
              "    <tr>\n",
              "      <th>482</th>\n",
              "      <td>483</td>\n",
              "      <td>upc weight lb sff gb gb brand dell see product...</td>\n",
              "    </tr>\n",
              "    <tr>\n",
              "      <th>483</th>\n",
              "      <td>484</td>\n",
              "      <td>dell poweredge sliding ready rail kit compatib...</td>\n",
              "    </tr>\n",
              "    <tr>\n",
              "      <th>484</th>\n",
              "      <td>485</td>\n",
              "      <td>fit model dell poweredge tower server compatib...</td>\n",
              "    </tr>\n",
              "  </tbody>\n",
              "</table>\n",
              "<p>485 rows × 2 columns</p>\n",
              "</div>"
            ],
            "text/plain": [
              "     product_id                                cleaned_description\n",
              "0             1  tp link mbps universal wifi flipkart com genui...\n",
              "1             2  netgear ac dual band gigabit wi fi router flip...\n",
              "2             3  zyxel nbg simultaneous dual band wireless ac f...\n",
              "3             4  trendnet tew brm flipkart com genuine product ...\n",
              "4             5  iball wra gt flipkart com genuine product day ...\n",
              "..          ...                                                ...\n",
              "480         481  dell poweredge server security silver bezel in...\n",
              "481         482  fit wide standard equipment install depth post...\n",
              "482         483  upc weight lb sff gb gb brand dell see product...\n",
              "483         484  dell poweredge sliding ready rail kit compatib...\n",
              "484         485  fit model dell poweredge tower server compatib...\n",
              "\n",
              "[485 rows x 2 columns]"
            ]
          },
          "metadata": {
            "tags": []
          },
          "execution_count": 215
        }
      ]
    },
    {
      "cell_type": "code",
      "metadata": {
        "id": "HGKLeS83U8wa"
      },
      "source": [
        "strw = train.cleaned_description[train['product_id']==1][0]"
      ],
      "execution_count": null,
      "outputs": []
    },
    {
      "cell_type": "code",
      "metadata": {
        "colab": {
          "base_uri": "https://localhost:8080/",
          "height": 35
        },
        "id": "G1pjTTI7VCob",
        "outputId": "07cf48f2-46d0-4f2a-cc99-21f1c456fc1c"
      },
      "source": [
        "strw"
      ],
      "execution_count": null,
      "outputs": [
        {
          "output_type": "execute_result",
          "data": {
            "application/vnd.google.colaboratory.intrinsic+json": {
              "type": "string"
            },
            "text/plain": [
              "'tp link mbps universal wifi flipkart com genuine product day replacement guarantee free shipping cash delivery'"
            ]
          },
          "metadata": {
            "tags": []
          },
          "execution_count": 217
        }
      ]
    },
    {
      "cell_type": "code",
      "metadata": {
        "id": "yuzqi-nHVEDJ"
      },
      "source": [
        "id = train.product_id.to_list()\n",
        "desc = train.cleaned_description.to_list()\n"
      ],
      "execution_count": null,
      "outputs": []
    },
    {
      "cell_type": "code",
      "metadata": {
        "colab": {
          "base_uri": "https://localhost:8080/"
        },
        "id": "W5agSsYwVLVM",
        "outputId": "00da1150-f4bf-4457-c831-c3cd2e67ad98"
      },
      "source": [
        "print(id)"
      ],
      "execution_count": null,
      "outputs": [
        {
          "output_type": "stream",
          "text": [
            "[1, 2, 3, 4, 5, 6, 7, 8, 9, 10, 11, 12, 13, 14, 15, 16, 17, 18, 19, 20, 21, 22, 23, 24, 25, 26, 27, 28, 29, 30, 31, 32, 33, 34, 35, 36, 37, 38, 39, 40, 41, 42, 43, 44, 45, 46, 47, 48, 49, 50, 51, 52, 53, 54, 55, 56, 57, 58, 59, 60, 61, 62, 63, 64, 65, 66, 67, 68, 69, 70, 71, 72, 73, 74, 75, 76, 77, 78, 79, 80, 81, 82, 83, 84, 85, 86, 87, 88, 89, 90, 91, 92, 93, 94, 95, 96, 97, 98, 99, 100, 101, 102, 103, 104, 105, 106, 107, 108, 109, 110, 111, 112, 113, 114, 115, 116, 117, 118, 119, 120, 121, 122, 123, 124, 125, 126, 127, 128, 129, 130, 131, 132, 133, 134, 135, 136, 137, 138, 139, 140, 141, 142, 143, 144, 145, 146, 147, 148, 149, 150, 151, 152, 153, 154, 155, 156, 157, 158, 159, 160, 161, 162, 163, 164, 165, 166, 167, 168, 169, 170, 171, 172, 173, 174, 175, 176, 177, 178, 179, 180, 181, 182, 183, 184, 185, 186, 187, 188, 189, 190, 191, 192, 193, 194, 195, 196, 197, 198, 199, 200, 201, 202, 203, 204, 205, 206, 207, 208, 209, 210, 211, 212, 213, 214, 215, 216, 217, 218, 219, 220, 221, 222, 223, 224, 225, 226, 227, 228, 229, 230, 231, 232, 233, 234, 235, 236, 237, 238, 239, 240, 241, 242, 243, 244, 245, 246, 247, 248, 249, 250, 251, 252, 253, 254, 255, 256, 257, 258, 259, 260, 261, 262, 263, 264, 265, 266, 267, 268, 269, 270, 271, 272, 273, 274, 275, 276, 277, 278, 279, 280, 281, 282, 283, 284, 285, 286, 287, 288, 289, 290, 291, 292, 293, 294, 295, 296, 297, 298, 299, 300, 301, 302, 303, 304, 305, 306, 307, 308, 309, 310, 311, 312, 313, 314, 315, 316, 317, 318, 319, 320, 321, 322, 323, 324, 325, 326, 327, 328, 329, 330, 331, 332, 333, 334, 335, 336, 337, 338, 339, 340, 341, 342, 343, 344, 345, 346, 347, 348, 349, 350, 351, 352, 353, 354, 355, 356, 357, 358, 359, 360, 361, 362, 363, 364, 365, 366, 367, 368, 369, 370, 371, 372, 373, 374, 375, 376, 377, 378, 379, 380, 381, 382, 383, 384, 385, 386, 387, 388, 389, 390, 391, 392, 393, 394, 395, 396, 397, 398, 399, 400, 401, 402, 403, 404, 405, 406, 407, 408, 409, 410, 411, 412, 413, 414, 415, 416, 417, 418, 419, 420, 421, 422, 423, 424, 425, 426, 427, 428, 429, 430, 431, 432, 433, 434, 435, 436, 437, 438, 439, 440, 441, 442, 443, 444, 445, 446, 447, 448, 449, 450, 451, 452, 453, 454, 455, 456, 457, 458, 459, 460, 461, 462, 463, 464, 465, 466, 467, 468, 469, 470, 471, 472, 473, 474, 475, 476, 477, 478, 479, 480, 481, 482, 483, 484, 485]\n"
          ],
          "name": "stdout"
        }
      ]
    },
    {
      "cell_type": "code",
      "metadata": {
        "colab": {
          "base_uri": "https://localhost:8080/"
        },
        "id": "Fcesk519VO4c",
        "outputId": "b7674121-bf9d-40c0-bb5c-d0bfd4df3f0f"
      },
      "source": [
        "print(desc)"
      ],
      "execution_count": null,
      "outputs": [
        {
          "output_type": "stream",
          "text": [
            "['tp link mbps universal wifi flipkart com genuine product day replacement guarantee free shipping cash delivery', 'netgear ac dual band gigabit wi fi router flipkart com genuine product day replacement guarantee free shipping cash delivery', 'zyxel nbg simultaneous dual band wireless ac flipkart com genuine product day replacement guarantee free shipping cash delivery', 'trendnet tew brm flipkart com genuine product day replacement guarantee free shipping cash delivery', 'iball wra gt flipkart com genuine product day replacement guarantee free shipping cash delivery', 'zyxel flipkart com genuine product day replacement guarantee free shipping cash delivery', 'huawei hg flipkart com genuine product day replacement guarantee free shipping cash delivery', 'cubetek airmobi iplay wifi music router flipkart com genuine product day replacement guarantee free shipping cash delivery', 'iball ib wrh mbps wireless home router flipkart com genuine product day replacement guarantee free shipping cash delivery', 'tp link tl mr wireless router flipkart com genuine product day replacement guarantee free shipping cash delivery', 'apple hn flipkart com genuine product day replacement guarantee free shipping cash delivery', 'intex flipkart com genuine product day replacement guarantee free shipping cash delivery', 'tp link tl wdr wireless dual band gigabit router flipkart com genuine product day replacement guarantee free shipping cash delivery', 'tenda te ah flipkart com genuine product day replacement guarantee free shipping cash delivery', 'asus rt wireless cloud flipkart com genuine product day replacement guarantee free shipping cash delivery', 'netgear wireless adsl modem router mobile broadband edition dgn flipkart com genuine product day replacement guarantee free shipping cash delivery', 'link dir wireless cloud router flipkart com genuine product day replacement guarantee free shipping cash delivery', 'zyxel nwa poe access point flipkart com genuine product day replacement guarantee free shipping cash delivery', 'tp link tl wr nd mbps wireless router flipkart com genuine product day replacement guarantee free shipping cash delivery', 'asus dsl flipkart com genuine product day replacement guarantee free shipping cash delivery', 'belkin basic surf router flipkart com genuine product day replacement guarantee free shipping cash delivery', 'linksys smart wi fi router flipkart com genuine product day replacement guarantee free shipping cash delivery', 'belkin play max modem router flipkart com genuine product day replacement guarantee free shipping cash delivery', 'netgear wireless dual band gigabit adsl modem router dgnd flipkart com genuine product day replacement guarantee free shipping cash delivery', 'netgear wndr wireless dual band gigabit router flipkart com genuine product day replacement guarantee free shipping cash delivery', 'asus rt lx mbps wireless router flipkart com genuine product day replacement guarantee free shipping cash delivery', 'asus dsl wireless adsl modem router flipkart com genuine product day replacement guarantee free shipping cash delivery', 'link dir flipkart com genuine product day replacement guarantee free shipping cash delivery', 'trendnet wireless router flipkart com genuine product day replacement guarantee free shipping cash delivery', 'asus ea dual band wireless gigabit ap wi fi bridge ra flipkart com genuine product day replacement guarantee free shipping cash delivery', 'digisol mbps wireless adsl broadband router flipkart com genuine product day replacement guarantee free shipping cash delivery', 'trendnet tew dru flipkart com genuine product day replacement guarantee free shipping cash delivery', 'tenda mbps support ieee gigabit poe injector te poe flipkart com genuine product day replacement guarantee free shipping cash delivery', 'netgear ac wi fi range extender flipkart com genuine product day replacement guarantee free shipping cash delivery', 'ubiquiti uap ac flipkart com genuine product day replacement guarantee free shipping cash delivery', 'asus wireless adsl modem router flipkart com genuine product day replacement guarantee free shipping cash delivery', 'asus rt multi functional gigabit wireless storage printer medium server router flipkart com genuine product day replacement guarantee free shipping cash delivery', 'tenda te adsl modem router usb port flipkart com genuine product day replacement guarantee free shipping cash delivery', 'tp link tdw flipkart com genuine product day replacement guarantee free shipping cash delivery', 'leoxsys leo flipkart com genuine product day replacement guarantee free shipping cash delivery', 'huawei mbps mini wireless router cum repeater flipkart com genuine product day replacement guarantee free shipping cash delivery', 'iball wr flipkart com genuine product day replacement guarantee free shipping cash delivery', 'huawei mbps wireless range extender flipkart com genuine product day replacement guarantee free shipping cash delivery', 'edimax br flipkart com genuine product day replacement guarantee free shipping cash delivery', 'izotron wr pocket router flipkart com genuine product day replacement guarantee free shipping cash delivery', 'tp link tl wa mbps wireless range extender flipkart com genuine product day replacement guarantee free shipping cash delivery', 'onnet ocurro wifi router flipkart com genuine product day replacement guarantee free shipping cash delivery', 'zyxel data card flipkart com genuine product day replacement guarantee free shipping cash delivery', 'setu infocom port fxo gateway flipkart com genuine product day replacement guarantee free shipping cash delivery', 'binatone wr mbps wireless router flipkart com genuine product day replacement guarantee free shipping cash delivery', 'belkin dual band wireless range extender flipkart com genuine product day replacement guarantee free shipping cash delivery', 'wi bridge wr flipkart com genuine product day replacement guarantee free shipping cash delivery', 'tp link tl wr flipkart com genuine product day replacement guarantee free shipping cash delivery', 'comfast cf wr flipkart com genuine product day replacement guarantee free shipping cash delivery', 'asus rt wireless one printer server router flipkart com genuine product day replacement guarantee free shipping cash delivery', 'trendnet tew hre flipkart com genuine product day replacement guarantee free shipping cash delivery', 'netgear jnr wireless gigabit router flipkart com genuine product day replacement guarantee free shipping cash delivery', 'zoook flipkart com genuine product day replacement guarantee free shipping cash delivery', 'link dsl flipkart com genuine product day replacement guarantee free shipping cash delivery', 'netgear ac nighthawk smart wifi router flipkart com genuine product day replacement guarantee free shipping cash delivery', 'huawei mbps wireless router flipkart com genuine product day replacement guarantee free shipping cash delivery', 'belkin wireless dual band travel router flipkart com genuine product day replacement guarantee free shipping cash delivery', 'netgear wn rp universal dual band wi fi range extender flipkart com genuine product day replacement guarantee free shipping cash delivery', 'linksys ea dual band ac hd video pro flipkart com genuine product day replacement guarantee free shipping cash delivery', 'tp link mbps wireless ap client flipkart com genuine product day replacement guarantee free shipping cash delivery', 'tp link tl wa flipkart com genuine product day replacement guarantee free shipping cash delivery', 'belkin adsl wireless router modem flipkart com genuine product day replacement guarantee free shipping cash delivery', 'netgear mbrn mobile broadband wireless router flipkart com genuine product day replacement guarantee free shipping cash delivery', 'tenda te pw flipkart com genuine product day replacement guarantee free shipping cash delivery', 'link dir one mobile companion router flipkart com genuine product day replacement guarantee free shipping cash delivery', 'asus rt wireless gigabit router flipkart com genuine product day replacement guarantee free shipping cash delivery', 'link dir wireless ac dual band router flipkart com genuine product day replacement guarantee free shipping cash delivery', 'digisol dg bg flipkart com genuine product day replacement guarantee free shipping cash delivery', 'vodafone flipkart com genuine product day replacement guarantee free shipping cash delivery', 'tenda te fh wireless high power ac dual band gigabit wifi router flipkart com genuine product day replacement guarantee free shipping cash delivery', 'link dap qrs app io android specification link dap white speed wireless speed mbps dsl modem speed mbps general brand link box extender plug model dap type range extenders repeater color white warranty covered warranty damage warranty summary year service type damage covered warranty damaged repair dimension weight connectivity number antenna number usb port antenna internal supported protocol standard ieee ieee operating condition operating humidity operating non condensing storage non condensing temperature operating storage degree additional feature certification fcc ic ce', 'toto link mbps wireless soho fiber router flipkart com genuine product day replacement guarantee free shipping cash delivery', 'lava router flipkart com genuine product day replacement guarantee free shipping cash delivery', 'belkin basic router flipkart com genuine product day replacement guarantee free shipping cash delivery', 'tp link archer ac wireless dual band router flipkart com genuine product day replacement guarantee free shipping cash delivery', 'belkin play max router flipkart com genuine product day replacement guarantee free shipping cash delivery', 'tenda mbps high power wireless router fixed dbi antenna lan wan port te fh flipkart com genuine product day replacement guarantee free shipping cash delivery', 'belkin share modem router flipkart com genuine product day replacement guarantee free shipping cash delivery', 'tp link port cable dsl tl flipkart com genuine product day replacement guarantee free shipping cash delivery', 'aeoss mbps wireless multifunction mini router repeater lan port wall powered flipkart com genuine product day replacement guarantee free shipping cash delivery', 'smc wbr flipkart com genuine product day replacement guarantee free shipping cash delivery', 'netis wf wireless router flipkart com genuine product day replacement guarantee free shipping cash delivery', 'edimax br nc flipkart com genuine product day replacement guarantee free shipping cash delivery', 'iball extreme wireless router flipkart com genuine product day replacement guarantee free shipping cash delivery', 'link dir wireless router flipkart com genuine product day replacement guarantee free shipping cash delivery', 'wi bridge apw flipkart com genuine product day replacement guarantee free shipping cash delivery', 'zyxel pla mbps powerline wireless extender single pack flipkart com genuine product day replacement guarantee free shipping cash delivery', 'tenda wireless easy setup router flipkart com genuine product day replacement guarantee free shipping cash delivery', 'trendnet wireless home router flipkart com genuine product day replacement guarantee free shipping cash delivery', 'zyxel vmg vdsl wireless vdsl port gateway usb flipkart com genuine product day replacement guarantee free shipping cash delivery', 'netis pa flipkart com genuine product day replacement guarantee free shipping cash delivery', 'tp link wireless dual band flipkart com genuine product day replacement guarantee free shipping cash delivery', 'leoxsys leo ad flipkart com genuine product day replacement guarantee free shipping cash delivery', 'edimax br wireless router flipkart com genuine product day replacement guarantee free shipping cash delivery', 'binatone wr flipkart com genuine product day replacement guarantee free shipping cash delivery', 'tp link tl wr mbps wireless nano router flipkart com genuine product day replacement guarantee free shipping cash delivery', 'link dap wireless range extender flipkart com genuine product day replacement guarantee free shipping cash delivery', 'zyxel pla flipkart com genuine product day replacement guarantee free shipping cash delivery', 'netgear wn rp universal wi fi range extender flipkart com genuine product day replacement guarantee free shipping cash delivery', 'edimax ar wna flipkart com genuine product day replacement guarantee free shipping cash delivery', 'tp link ac wi fi range extender flipkart com genuine product day replacement guarantee free shipping cash delivery', 'asus rp dual band wireless range extender flipkart com genuine product day replacement guarantee free shipping cash delivery', 'asus dsl wireless gigabit router flipkart com genuine product day replacement guarantee free shipping cash delivery', 'digisol mbps wireless green broadband router flipkart com genuine product day replacement guarantee free shipping cash delivery', 'tenda mbps wireless router fixed antenna lan wan port flipkart com genuine product day replacement guarantee free shipping cash delivery', 'tp link ac white price ac wireless dual band gigabit adsl modem router broadcom ac mbps ghz mbps ghz ge port usb port usb port detachable antenna annex adsl splitter ac wireless dual band gigabit adsl modem router broadcom ac mbps ghz mbps ghz ge port usb port usb port detachable antenna annex adsl splitter', 'comfast cf wr mbps wifi repeater network range expander high gain dbi antenna rtl rtl er dual cpu flipkart com genuine product day replacement guarantee free shipping cash delivery', 'asus rt uhp high power wireless router ap range extender flipkart com genuine product day replacement guarantee free shipping cash delivery', 'asus dsl wireless adsl modem flipkart com genuine product day replacement guarantee free shipping cash delivery', 'airtel flipkart com genuine product day replacement guarantee free shipping cash delivery', 'netgear flipkart com genuine product day replacement guarantee free shipping cash delivery', 'smartpower portable mini rechargeable fan usb usb fan green price small wonder hurl mini storm charge battery enjoy gush air rechargeable usb mini fan must work hot place travel hot city excellent usb gadget work usb cable provided well battery provided chargeable battery last upto hour depending upon speed three speed setting extremely strong built must usb gadget air throwing reduces little powered usb small wonder hurl mini storm charge battery enjoy gush air rechargeable usb mini fan must work hot place travel hot city excellent usb gadget work usb cable provided well battery provided chargeable battery last upto hour depending upon speed three speed setting extremely strong built must usb gadget air throwing reduces little powered usb', 'sygtech cl cb usb rechargeable cigarette lighter online sygtech cl cb usb rechargeable cigarette lighter best price free shipping cash delivery genuine product day replacement guarantee', 'shadowfax handheld mini air conditioner mini cooler usb usb fan pink price handheld mini air conditioner fan usb portable cooler small fan cool air revolutionary evaporative cooling fan closest thing hand held mini air conditioner use outdoors keep indoors desk fan provides gentle cool breeze us evaporative cooling technology add water soak cooling filter ambient air forced wet cooling filter cool work best dry hot climate fully portable mobile take literally anywhere want rotatable turbine wheel allows adjustment cool breeze air humidifies air make breathing comfortable alleviates allergy variable power control stand flat surface comfortable adjustable leather strap ergonomically designed user friendly easy use environmentally friendly specification xaa battery allow hour portable operation connect usb cable included continuous operation includes dedicated ml water bottle usb cable cooling filter best hot flash home office use camping outdoor sport watching game mere oz battery loaded cooling filter life expectancy year patent pending small fan cool air run aa battery usb power adjustable analog speed control cooling fan utilizes db whisper soft turbine system perfect desk fan office outdoor living degree vertical airflow control flat bottom surface allows easy transformation hand held fan desk fan blow cool breeze ever go portable convenient package content handheld mini air conditioner fan usb portable cooler usb cable ml water bottle water cooled sponge warm tip item need pad washed upon arrival handheld mini air conditioner fan usb portable cooler small fan cool air revolutionary evaporative cooling fan closest thing hand held mini air conditioner use outdoors keep indoors desk fan provides gentle cool breeze us evaporative cooling technology add water soak cooling filter ambient air forced wet cooling filter cool work best dry hot climate fully portable mobile take literally anywhere want rotatable turbine wheel allows adjustment cool breeze air humidifies air make breathing comfortable alleviates allergy variable power control stand flat surface comfortable adjustable leather strap ergonomically designed user friendly easy use environmentally friendly specification xaa battery allow hour portable operation connect usb cable included continuous operation includes dedicated ml water bottle usb cable cooling filter best hot flash home office use camping outdoor sport watching game mere oz battery loaded cooling filter life expectancy year patent pending small fan cool air run aa battery usb power adjustable analog speed control cooling fan utilizes db whisper soft turbine system perfect desk fan office outdoor living degree vertical airflow control flat bottom surface allows easy transformation hand held fan desk fan blow cool breeze ever go portable convenient package content handheld mini air conditioner fan usb portable cooler usb cable ml water bottle water cooled sponge warm tip item need pad washed upon arrival', 'orcel good quality portable flexible usb usb fan online orcel good quality portable flexible usb usb fan best price free shipping cash delivery genuine product day replacement guarantee', 'dragon super fast mini hi speed rechargeable usb usb fan online dragon super fast mini hi speed rechargeable usb usb fan best price free shipping cash delivery genuine product day replacement guarantee', 'tapawire led indicator port ushubl usb usb hub online tapawire led indicator port ushubl usb usb hub best price free shipping cash delivery genuine product day replacement guarantee', 'gem lr gold mobile mp usb usb cable black price sure match fashion electronics black color data cable latest collection great pick valuable currency perfectly compatible smart phone mobile phone nokia samsung motorola huwai micromax lava karbonn etc data cable lend high end result attractive feature data cable helpful charging phone transferring data pc laptop mobile phone vice versa lay hand high end production brand make work easy sure match fashion electronics black color data cable latest collection great pick valuable currency perfectly compatible smart phone mobile phone nokia samsung motorola huwai micromax lava karbonn etc data cable lend high end result attractive feature data cable helpful charging phone transferring data pc laptop mobile phone vice versa lay hand high end production brand make work easy', 'sahibuy fan lamp white hy usb usb fan white price usb power cooling lighting one device home office led usb desk lamp fan portable multi directional light fan powered via usb great personal lighting cooling solution use notebook desktop computer convenient use lamp fan individual switch adjustable goose neck use either angle need get better lighting portable cooling work computer led usb desk lamp fan energy saving lamp cum fan adjustable flexible neck enough adjust comfort soft fan blade safety conveniently powered usb usb hub dimension cm lxwxh approx weight approx usb wire length cm long approx box usb fan cum table lamp requires aaa battery included usb power cooling lighting one device home office led usb desk lamp fan portable multi directional light fan powered via usb great personal lighting cooling solution use notebook desktop computer convenient use lamp fan individual switch adjustable goose neck use either angle need get better lighting portable cooling work computer led usb desk lamp fan energy saving lamp cum fan adjustable flexible neck enough adjust comfort soft fan blade safety conveniently powered usb usb hub dimension cm lxwxh approx weight approx usb wire length cm long approx box usb fan cum table lamp requires aaa battery included', 'finger usb fan cum power bank black new usb usb fan online finger usb fan cum power bank black new usb usb fan best price free shipping cash delivery genuine product day replacement guarantee', 'agrima hub port usb usb hub online agrima hub port usb usb hub best price free shipping cash delivery genuine product day replacement guarantee', 'orcel good quality portable flexible usb usb fan orange price lightweight portable removable detachable design placed pocket small fan environmentally safe feel good standard usb interface mix match digital device mobile power desktop computer laptop usb connector plug play feature mini portable flexible usb fan small easy take hand compact light weight use desk bedside table go feeling convenient flexible body suitable occasion compatible power bank connected pc usb port lightweight portable removable detachable design placed pocket small fan environmentally safe feel good standard usb interface mix match digital device mobile power desktop computer laptop usb connector plug play feature mini portable flexible usb fan small easy take hand compact light weight use desk bedside table go feeling convenient flexible body suitable occasion compatible power bank connected pc usb port', 'bigkik smart smart usb usb fan green price usb fan unique product offer convenience cool air wherever go simply connect fan usb port laptop usb fan unique product offer convenience cool air wherever go simply connect fan usb port laptop', 'zaicus itag bluetooth tracer anti lost alarm remote shutter voice recorder connect unit usb bluetooth green price specification bluetooth version bluetooth low energy compatible phone iphone ipad mini itouch ipad ipad air andriod system bluetooth smartphone andriod version grade version working distance foot without barrier suitable wallet car kid pet bag suitcase belonging battery cr lithium coin battery standby time month net weight gram connects itag unit app language english chinese french spanish box xbluetooth tracker xbattery xuser manual specification bluetooth version bluetooth low energy compatible phone iphone ipad mini itouch ipad ipad air andriod system bluetooth smartphone andriod version grade version working distance foot without barrier suitable wallet car kid pet bag suitcase belonging battery cr lithium coin battery standby time month net weight gram connects itag unit app language english chinese french spanish box xbluetooth tracker xbattery xuser manual', 'speed port switch light psw usb usb hub online speed port switch light psw usb usb hub best price free shipping cash delivery genuine product day replacement guarantee', 'luv luv mp player mp red player usb sound card online luv luv mp player mp red player usb sound card best price free shipping cash delivery genuine product day replacement guarantee', 'kensington eu usb hub online kensington eu usb hub best price free shipping cash delivery genuine product day replacement guarantee', 'mrk communication mrkusb mobile usb usb cable online mrk communication mrkusb mobile usb usb cable best price free shipping cash delivery genuine product day replacement guarantee', 'iconnect world virtual channel audio adapter usb sound card online iconnect world virtual channel audio adapter usb sound card best price free shipping cash delivery genuine product day replacement guarantee', 'lifestyle ig usb usb fan yellow price portable usb operated fan air cooling fan flexible blade strong wind suitable home office table using usb plug design easily powered pc desktop working studying powered usb port computer pc aa pencil battery battery included also use ac electric power using common usb mobile charger top included blade safe touch even fan running fan provides instant personal cooling switch turn fan nice addition desk summer colour design exactly per picture picture taken actual product stock portable usb operated fan air cooling fan flexible blade strong wind suitable home office table using usb plug design easily powered pc desktop working studying powered usb port computer pc aa pencil battery battery included also use ac electric power using common usb mobile charger top included blade safe touch even fan running fan provides instant personal cooling switch turn fan nice addition desk summer colour design exactly per picture picture taken actual product stock', 'jrb smallest mobile powered otg enabled android smart phone portable usb fan system requirement otg enabled android smart phone material plastic specification jrb smallest mobile powered otg enabled android smart phone portable usb fan multicolor general brand jrb type usb fan model name smallest mobile powered otg enabled android smart phone material plastic system requirement otg enabled android smart phone model id portable color multicolor box sale package micro usb fan', 'casotec lightning usb usb cable purple price casotec retractable universal cable ensuring complete charger sync compatibility device connect pin connector micro usb connector io android device connect usb side wall charger adapter usb hub charger computer sync data retractable design make cable ideal stowing purse bag simply pull end cable slowly release cable store neatly housing without getting tangled casotec retractable universal cable ensuring complete charger sync compatibility device connect pin connector micro usb connector io android device connect usb side wall charger adapter usb hub charger computer sync data retractable design make cable ideal stowing purse bag simply pull end cable slowly release cable store neatly housing without getting tangled', 'iconnect world external adapter channel audio output mic input usb sound card online iconnect world external adapter channel audio output mic input usb sound card best price free shipping cash delivery genuine product day replacement guarantee', 'task logistics audio receiver usb bluetooth online task logistics audio receiver usb bluetooth best price free shipping cash delivery genuine product day replacement guarantee', 'iconnect world new channel external audio adapter mic virtual sound usb sound card online iconnect world new channel external audio adapter mic virtual sound usb sound card best price free shipping cash delivery genuine product day replacement guarantee', 'shadow fax table air fan cooler usb usb fan online shadow fax table air fan cooler usb usb fan best price free shipping cash delivery genuine product day replacement guarantee', 'divinext flexible electronic laptop cooling fan di usb usb fan red bule pink green yellow price strong wind suitable home office table portable small size design flexible blade avoiding hurting using usb plug design easily power pc desktop working studying power usb usb pc battery could usb adapter plug fit electric strong wind suitable home office table portable small size design flexible blade avoiding hurting using usb plug design easily power pc desktop working studying power usb usb pc battery could usb adapter plug fit electric', 'iconnect world premium quality external audio adapter mic year warranty channel usb sound card online iconnect world premium quality external audio adapter mic year warranty channel usb sound card best price free shipping cash delivery genuine product day replacement guarantee', 'neon port super speed adapter card reaader usb usb hub online neon port super speed adapter card reaader usb usb hub best price free shipping cash delivery genuine product day replacement guarantee', 'karp bracelet necklace pearl wrist line data portable beaded fashion bracelet usb charging cable samsung htc phone pink usb usb usb charger pink price karp bracelet necklace pearl wrist line data portable beaded fashion bracelet usb charging cable samsung htc phone cyan tied around wrist look like wristband bracelet compatible samsung htc android mobile phone micro common interface brand new good quality lightweight unique design bead style allows charging data syncing specification interface micro usb weight length cm karp bracelet necklace pearl wrist line data portable beaded fashion bracelet usb charging cable samsung htc phone cyan tied around wrist look like wristband bracelet compatible samsung htc android mobile phone micro common interface brand new good quality lightweight unique design bead style allows charging data syncing specification interface micro usb weight length cm', 'kliqvik six port usb hub android mobile tr usb usb hub online kliqvik six port usb hub android mobile tr usb usb hub best price free shipping cash delivery genuine product day replacement guarantee', 'jrb smallest mobile powered otg enabled android smart phone portable usb fan system requirement otg enabled android smart phone material plastic specification jrb smallest mobile powered otg enabled android smart phone portable usb fan multicolor general brand jrb type usb fan system requirement otg enabled android smart phone material plastic model name smallest mobile powered otg enabled android smart phone model id portable color multicolor box sale package micro usb fan', 'frontech jil jil usb usb hub online frontech jil jil usb usb hub best price free shipping cash delivery genuine product day replacement guarantee', 'sangaitap combo offer pe flameless rechargeable electronic windproof eco friendly professional unique usb cigarette lighter online sangaitap combo offer pe flameless rechargeable electronic windproof eco friendly professional unique usb cigarette lighter best price free shipping cash delivery genuine product day replacement guarantee', 'dizionario mini perfume fan cooling fancoolerbl usb usb fan online dizionario mini perfume fan cooling fancoolerbl usb usb fan best price free shipping cash delivery genuine product day replacement guarantee', 'iconnect world premium quality channel external audio adapter mic usb sound card online iconnect world premium quality channel external audio adapter mic usb sound card best price free shipping cash delivery genuine product day replacement guarantee', 'iconnect world sound channel hi speed external audio card adapter usb sound card online iconnect world sound channel hi speed external audio card adapter usb sound card best price free shipping cash delivery genuine product day replacement guarantee', 'sitech port high speed usb usb hub online sitech port high speed usb usb hub best price free shipping cash delivery genuine product day replacement guarantee', 'shadowfax table air fan cooler usb usb fan online shadowfax table air fan cooler usb usb fan best price free shipping cash delivery genuine product day replacement guarantee', 'computer multiple usb usb hub online computer multiple usb usb hub best price free shipping cash delivery genuine product day replacement guarantee', 'rock rocket desktop charger usb usb hub online rock rocket desktop charger usb usb hub best price free shipping cash delivery genuine product day replacement guarantee', 'epresent mfan fan usb usb fan online epresent mfan fan usb usb fan best price free shipping cash delivery genuine product day replacement guarantee', 'anker uspeed ah port superspeed anhub lb usb usb hub online anker uspeed ah port superspeed anhub lb usb usb hub best price free shipping cash delivery genuine product day replacement guarantee', 'qp kid fan mly usb usb fan online qp kid fan mly usb usb fan best price free shipping cash delivery genuine product day replacement guarantee', 'kliqvik six port usb hub samsung mobile tr usb usb hub online kliqvik six port usb hub samsung mobile tr usb usb hub best price free shipping cash delivery genuine product day replacement guarantee', 'dgb flexi touch usb led light white price dgb usb flexible touch light powered led light achieves le power consumption longer life operates usb power need ac adapter battery automatically light plugged computer usb port even mobile power bank easy use although compact design high power led light source achieving high luminance lux cm lamp glowing maximum luminance immediately plugged light perfect reading working computer dark location best companion student professional work dark dim light one need travel often feature portable bendable silicone super bright led lamp degree flexible incorporates flexible arm enable adjustment desired angle high power led light source light maximum luminance immediately plugging usb port compact design offer easy portability touch portable usb led flexible lamp usb ultra bright led light lamp power bank computer laptop tablet pc charger low power consumption powered device usb port ultra bright low power consumption rated voltage rated power size mm material silicone dgb usb flexible touch light powered led light achieves le power consumption longer life operates usb power need ac adapter battery automatically light plugged computer usb port even mobile power bank easy use although compact design high power led light source achieving high luminance lux cm lamp glowing maximum luminance immediately plugged light perfect reading working computer dark location best companion student professional work dark dim light one need travel often feature portable bendable silicone super bright led lamp degree flexible incorporates flexible arm enable adjustment desired angle high power led light source light maximum luminance immediately plugging usb port compact design offer easy portability touch portable usb led flexible lamp usb ultra bright led light lamp power bank computer laptop tablet pc charger low power consumption powered device usb port ultra bright low power consumption rated voltage rated power size mm material silicone', 'apollo pack flexible led light system requirement usb port material plastic silicon specification apollo pack flexible led light multicolour general brand apollo type led light model name pack material plastic silicon system requirement usb port model id flexible color multicolour box sale package led light', 'techone portable power bank laptop set usb led light online techone portable power bank laptop set usb led light best price free shipping cash delivery genuine product day replacement guarantee', 'rrp flexible dg usb led light orange price portable usb led light portronics battery free usb light perfect used laptop adapter power bank compact size flexible hence fit position based use utility power consumption limited able light whole area around portable usb led light portronics battery free usb light perfect used laptop adapter power bank compact size flexible hence fit position based use utility power consumption limited able light whole area around', 'shopfloor xyz usb light led ul usb laptop accessory online shopfloor xyz usb light led ul usb laptop accessory best price free shipping cash delivery genuine product day replacement guarantee', 'mydress mystyle bulb led usb led light red green price usb led bulb lamp mini usb light high power led could reach range meter long usb connector used connect computer usb mobile power supply output equipment perfect camping hiking hunting fishing mountaineering diving night need powered usb device power bank tablet pc book smart phone etc powered usb wattage input voltage dc luminous flux lm color temperature size approx cmx cm usb led bulb lamp mini usb light high power led could reach range meter long usb connector used connect computer usb mobile power supply output equipment perfect camping hiking hunting fishing mountaineering diving night need powered usb device power bank tablet pc book smart phone etc powered usb wattage input voltage dc luminous flux lm color temperature size approx cmx cm', 'techone flexible se green usb led light green price usable power bank laptop usb port adaptor usb multi pin board usb port device usable power bank laptop usb port adaptor usb multi pin board usb port device', 'crystle crystle crstl bluecensor usb led light usb cable online crystle crystle crstl bluecensor usb led light usb cable best price free shipping cash delivery genuine product day replacement guarantee', 'techone flexible se blue usb led light blue price usable power bank laptop usb port adaptor usb multi pin board usb port device usable power bank laptop usb port adaptor usb multi pin board usb port device', 'aadishwar creation usb led light online aadishwar creation usb led light best price free shipping cash delivery genuine product day replacement guarantee', 'forty creek portable skyblue usb led light skyblue price creative portable led light usb lamp rated voltage rated power portable novel design make attractive convenient use gadget except led light included creative portable led light usb lamp rated voltage rated power portable novel design make attractive convenient use gadget except led light included', 'clicko portable port usb led light multicolor price product type usb led light weight size medium feature led light usb led light portable led light ultra led light note green blue orange etc colour available colour selection randomly dispatched product type usb led light weight size medium feature led light usb led light portable led light ultra led light note green blue orange etc colour available colour selection randomly dispatched', 'qp smart lt brown usb led light brown price led light compatible dekstop laptop power bank connected usb port even work mobile phone support otg cable flexible part device allows bend lamp desired angle led emits white light suitable eye light notebook wish directly plug usb led light usb port notebook pc gently adjust flexible neck light position wish led light compatible dekstop laptop power bank connected usb port even work mobile phone support otg cable flexible part device allows bend lamp desired angle led emits white light suitable eye light notebook wish directly plug usb led light usb port notebook pc gently adjust flexible neck light position wish', 'storite mini flexible pc laptop power bank ebook reading ul usb led light online storite mini flexible pc laptop power bank ebook reading ul usb led light best price free shipping cash delivery genuine product day replacement guarantee', 'link flexible portable lamp lp pc usb led light online link flexible portable lamp lp pc usb led light best price free shipping cash delivery genuine product day replacement guarantee', 'rrp born lx usb led light purple price portable usb led light portronics battery free usb light perfect used laptop adapter power bank compact size flexible hence fit position based use utility power consumption limited able light whole area around portable usb led light portronics battery free usb light perfect used laptop adapter power bank compact size flexible hence fit position based use utility power consumption limited able light whole area around', 'dgb flexi touch usb led light orange price dgb usb flexible touch light powered led light achieves le power consumption longer life operates usb power need ac adapter battery automatically light plugged computer usb port even mobile power bank easy use although compact design high power led light source achieving high luminance lux cm lamp glowing maximum luminance immediately plugged light perfect reading working computer dark location best companion student professional work dark dim light one need travel often feature portable bendable silicone super bright led lamp degree flexible incorporates flexible arm enable adjustment desired angle high power led light source light maximum luminance immediately plugging usb port compact design offer easy portability touch portable usb led flexible lamp usb ultra bright led light lamp power bank computer laptop tablet pc charger low power consumption powered device usb port ultra bright low power consumption rated voltage rated power size mm material silicone dgb usb flexible touch light powered led light achieves le power consumption longer life operates usb power need ac adapter battery automatically light plugged computer usb port even mobile power bank easy use although compact design high power led light source achieving high luminance lux cm lamp glowing maximum luminance immediately plugged light perfect reading working computer dark location best companion student professional work dark dim light one need travel often feature portable bendable silicone super bright led lamp degree flexible incorporates flexible arm enable adjustment desired angle high power led light source light maximum luminance immediately plugging usb port compact design offer easy portability touch portable usb led flexible lamp usb ultra bright led light lamp power bank computer laptop tablet pc charger low power consumption powered device usb port ultra bright low power consumption rated voltage rated power size mm material silicone', 'rrp notebook desktop power bank por usb led light yellow price portable usb led light portronics battery free usb light perfect used laptop adapter power bank compact size flexible hence fit position based use utility power consumption limited able light whole area around portable usb led light portronics battery free usb light perfect used laptop adapter power bank compact size flexible hence fit position based use utility power consumption limited able light whole area around', 'link flexible portable lamp lp pc usb led light multicolor price brand new high quality perfect fit reading light weight durable cover portable multiple choice color flexible easy clean rated voltage rated power size mm use powered device usb port ultra bright low power consumption unique bendable design also light weight material silicone net weight brand new high quality perfect fit reading light weight durable cover portable multiple choice color flexible easy clean rated voltage rated power size mm use powered device usb port ultra bright low power consumption unique bendable design also light weight material silicone net weight', 'memore portable flexible lamp mmull green usb led light green price brand new high quality perfect fit reading light weight durable cover portable multiple choice color flexible easy clean rated voltage rated power size mm use powered device usb port ultra bright low power consumption unique bendable design also light weight material silicone brand new high quality perfect fit reading light weight durable cover portable multiple choice color flexible easy clean rated voltage rated power size mm use powered device usb port ultra bright low power consumption unique bendable design also light weight material silicone', 'tapawire flexible portable lamp usb led light online tapawire flexible portable lamp usb led light best price free shipping cash delivery genuine product day replacement guarantee', 'rrp flexible por usb led light blue price portable usb led light portronics battery free usb light perfect used laptop adapter power bank compact size flexible hence fit position based use utility power consumption limited able light whole area around portable usb led light portronics battery free usb light perfect used laptop adapter power bank compact size flexible hence fit position based use utility power consumption limited able light whole area around', 'mydress mystyle bulb led usb led light red price usb led bulb lamp mini usb light high power led could reach range meter long usb connector used connect computer usb mobile power supply output equipment perfect camping hiking hunting fishing mountaineering diving night need powered usb device power bank tablet pc book smart phone etc powered usb wattage input voltage dc luminous flux lm color temperature size approx cmx cm usb led bulb lamp mini usb light high power led could reach range meter long usb connector used connect computer usb mobile power supply output equipment perfect camping hiking hunting fishing mountaineering diving night need powered usb device power bank tablet pc book smart phone etc powered usb wattage input voltage dc luminous flux lm color temperature size approx cmx cm', 'dreamshop flex flexible portable usb led light online dreamshop flex flexible portable usb led light best price free shipping cash delivery genuine product day replacement guarantee', 'casotec plexible led light led light usb led light online casotec plexible led light led light usb led light best price free shipping cash delivery genuine product day replacement guarantee', 'koldfire flexible portable lamp bendable usb led light online koldfire flexible portable lamp bendable usb led light best price free shipping cash delivery genuine product day replacement guarantee', 'memore portable flexible led light lamp mmull purple usb led light purple price brand new high quality perfect fit reading light weight durable cover portable multiple choice color flexible easy clean rated voltage rated power size mm use powered device usb port ultra bright low power consumption unique bendable design also light weight material silicone brand new high quality perfect fit reading light weight durable cover portable multiple choice color flexible easy clean rated voltage rated power size mm use powered device usb port ultra bright low power consumption unique bendable design also light weight material silicone', 'storite mini flexible pc laptop powerbank ebook reading ul usb led light online storite mini flexible pc laptop powerbank ebook reading ul usb led light best price free shipping cash delivery genuine product day replacement guarantee', 'crystle crstl pink crystle usb led light online crystle crstl pink crystle usb led light best price free shipping cash delivery genuine product day replacement guarantee', 'de techinn flexible wire powered usb led light online de techinn flexible wire powered usb led light best price free shipping cash delivery genuine product day replacement guarantee', 'casotec plexible led light led light usb led light green price casotec usb led light perfect reading working travelling much ideal night reading emergency lighting small portable convenient carry led emits white light suitable eye light notebook wish directly plug usb led light usb port notebook pc power bank gently adjust flexible neck light position wish specification rated voltage dc power size mm mm mm specific led type led usb light width cm height cm length cm weight gm casotec usb led light perfect reading working travelling much ideal night reading emergency lighting small portable convenient carry led emits white light suitable eye light notebook wish directly plug usb led light usb port notebook pc power bank gently adjust flexible neck light position wish specification rated voltage dc power size mm mm mm specific led type led usb light width cm height cm length cm weight gm', 'memore portable flexible mmull red usb led light red price brand new high quality perfect fit reading light weight durable cover portable multiple choice color flexible easy clean rated voltage rated power size mm use powered device usb port ultra bright low power consumption unique bendable design also light weight material silicone brand new high quality perfect fit reading light weight durable cover portable multiple choice color flexible easy clean rated voltage rated power size mm use powered device usb port ultra bright low power consumption unique bendable design also light weight material silicone', 'royallifestyle led light reading usb led light blue price led light compatible dekstop laptop power bank connected usb port even work mobile phone support otg cable flexible part device allows bend lamp desired angle led emits white light suitable eye light notebook wish directly plug usb led light usb port notebook pc gently adjust flexible neck light position wish led light compatible dekstop laptop power bank connected usb port even work mobile phone support otg cable flexible part device allows bend lamp desired angle led emits white light suitable eye light notebook wish directly plug usb led light usb port notebook pc gently adjust flexible neck light position wish', 'memore portable mmull pink usb led light pink price brand new high quality perfect fit reading light weight durable cover portable multiple choice color flexible easy clean rated voltage rated power size mm use powered device usb port ultra bright low power consumption unique bendable design also light weight material silicone brand new high quality perfect fit reading light weight durable cover portable multiple choice color flexible easy clean rated voltage rated power size mm use powered device usb port ultra bright low power consumption unique bendable design also light weight material silicone', 'dgb flexi touch usb led light black price dgb usb flexible touch light powered led light achieves le power consumption longer life operates usb power need ac adapter battery automatically light plugged computer usb port even mobile power bank easy use although compact design high power led light source achieving high luminance lux cm lamp glowing maximum luminance immediately plugged light perfect reading working computer dark location best companion student professional work dark dim light one need travel often feature portable bendable silicone super bright led lamp degree flexible incorporates flexible arm enable adjustment desired angle high power led light source light maximum luminance immediately plugging usb port compact design offer easy portability touch portable usb led flexible lamp usb ultra bright led light lamp power bank computer laptop tablet pc charger low power consumption powered device usb port ultra bright low power consumption rated voltage rated power size mm material silicone dgb usb flexible touch light powered led light achieves le power consumption longer life operates usb power need ac adapter battery automatically light plugged computer usb port even mobile power bank easy use although compact design high power led light source achieving high luminance lux cm lamp glowing maximum luminance immediately plugged light perfect reading working computer dark location best companion student professional work dark dim light one need travel often feature portable bendable silicone super bright led lamp degree flexible incorporates flexible arm enable adjustment desired angle high power led light source light maximum luminance immediately plugging usb port compact design offer easy portability touch portable usb led flexible lamp usb ultra bright led light lamp power bank computer laptop tablet pc charger low power consumption powered device usb port ultra bright low power consumption rated voltage rated power size mm material silicone', 'casotec plexible led light led light usb led light white price casotec usb led light perfect reading working travelling much ideal night reading emergency lighting small portable convenient carry led emits white light suitable eye light notebook wish directly plug usb led light usb port notebook pc power bank gently adjust flexible neck light position wish specification rated voltage dc power size mm mm mm specific led type led usb light width cm height cm length cm weight gm casotec usb led light perfect reading working travelling much ideal night reading emergency lighting small portable convenient carry led emits white light suitable eye light notebook wish directly plug usb led light usb port notebook pc power bank gently adjust flexible neck light position wish specification rated voltage dc power size mm mm mm specific led type led usb light width cm height cm length cm weight gm', 'crystle crystle crstl led light usb led light online crystle crystle crstl led light usb led light best price free shipping cash delivery genuine product day replacement guarantee', 'memore portable flexible mmull white usb led light white price brand new high quality perfect fit reading light weight durable cover portable multiple choice color flexible easy clean rated voltage rated power size mm use powered device usb port ultra bright low power consumption unique bendable design also light weight material silicone brand new high quality perfect fit reading light weight durable cover portable multiple choice color flexible easy clean rated voltage rated power size mm use powered device usb port ultra bright low power consumption unique bendable design also light weight material silicone', 'techone portable se white usb led light white price usable power bank laptop usb port adaptor usb multi pin board usb port device usable power bank laptop usb port adaptor usb multi pin board usb port device', 'tapawire flexible portable lamp usb led light orange price brand tapawire color orange connector type mini flexible usb portable reading light tapawire mini usb light led lamp lightweight flexible portable adjustable hour life keyboard laptop pc notebook power bank book reading work bed red tapawire usb led stick lamp special lambency lampshade designed protect eyesight avoid led direct light wiresipe usb led light flexible bendable body mini size lightweight stickable portable enough use different occasion reading writing working take care eye usb led stick lamp special lambency lampshade designed protect eyesight avoid led direct light compitable device compitable usb prot laptop powerbank usb charger etc feature using lowest work voltage safety reliability high efficiency usb connection ibook powerbook cube pc notebook powerbank wall charger plug play powered usb port external power needed definitely essential gear night work light life bring home let light life brandbucket sale brandbucket proud member food charity least sale tapawire branded product donated approved food charity warranty tapawire cable backed year warranty product must purchased brandbucket sale eligible guaranty brand tapawire color orange connector type mini flexible usb portable reading light tapawire mini usb light led lamp lightweight flexible portable adjustable hour life keyboard laptop pc notebook power bank book reading work bed red tapawire usb led stick lamp special lambency lampshade designed protect eyesight avoid led direct light wiresipe usb led light flexible bendable body mini size lightweight stickable portable enough use different occasion reading writing working take care eye usb led stick lamp special lambency lampshade designed protect eyesight avoid led direct light compitable device compitable usb prot laptop powerbank usb charger etc feature using lowest work voltage safety reliability high efficiency usb connection ibook powerbook cube pc notebook powerbank wall charger plug play powered usb port external power needed definitely essential gear night work light life bring home let light life brandbucket sale brandbucket proud member food charity least sale tapawire branded product donated approved food charity warranty tapawire cable backed year warranty product must purchased brandbucket sale eligible guaranty', 'dgb flexi touch usb led light pink price dgb usb flexible touch light powered led light achieves le power consumption longer life operates usb power need ac adapter battery automatically light plugged computer usb port even mobile power bank easy use although compact design high power led light source achieving high luminance lux cm lamp glowing maximum luminance immediately plugged light perfect reading working computer dark location best companion student professional work dark dim light one need travel often feature portable bendable silicone super bright led lamp degree flexible incorporates flexible arm enable adjustment desired angle high power led light source light maximum luminance immediately plugging usb port compact design offer easy portability touch portable usb led flexible lamp usb ultra bright led light lamp power bank computer laptop tablet pc charger low power consumption powered device usb port ultra bright low power consumption rated voltage rated power size mm material silicone dgb usb flexible touch light powered led light achieves le power consumption longer life operates usb power need ac adapter battery automatically light plugged computer usb port even mobile power bank easy use although compact design high power led light source achieving high luminance lux cm lamp glowing maximum luminance immediately plugged light perfect reading working computer dark location best companion student professional work dark dim light one need travel often feature portable bendable silicone super bright led lamp degree flexible incorporates flexible arm enable adjustment desired angle high power led light source light maximum luminance immediately plugging usb port compact design offer easy portability touch portable usb led flexible lamp usb ultra bright led light lamp power bank computer laptop tablet pc charger low power consumption powered device usb port ultra bright low power consumption rated voltage rated power size mm material silicone', 'mydress mystyle bulb led usb led light white price usb led bulb lamp mini usb light high power led could reach range meter long usb connector used connect computer usb mobile power supply output equipment perfect camping hiking hunting fishing mountaineering diving night need powered usb device power bank tablet pc book smart phone etc powered usb wattage input voltage dc luminous flux lm color temperature size approx cmx cm usb led bulb lamp mini usb light high power led could reach range meter long usb connector used connect computer usb mobile power supply output equipment perfect camping hiking hunting fishing mountaineering diving night need powered usb device power bank tablet pc book smart phone etc powered usb wattage input voltage dc luminous flux lm color temperature size approx cmx cm', 'bigkik flexible lamp mini portable designer usb led light online bigkik flexible lamp mini portable designer usb led light best price free shipping cash delivery genuine product day replacement guarantee', 'karp ultra bright led usb light black led light blk usb led light black price ultra bright led usb light notebook computer laptop pc lighting portable mini lamp feature new flexible bright mini led usb light computer lamp notebook computer pc new facial hair epicare epilator epistick remover stick useful tool brand new high quality led ultra bright powered pc usb port need battery external power flexible adjustable metal neck soft warm white light extremely long service life low power consumption cute decent design plugged pc usb port start bring brightness right lightweight compact space saving easy carry handle ideal companion student traveler office worker etc ideal lighting laptop darkness ultra bright led usb light notebook computer laptop pc lighting portable mini lamp feature new flexible bright mini led usb light computer lamp notebook computer pc new facial hair epicare epilator epistick remover stick useful tool brand new high quality led ultra bright powered pc usb port need battery external power flexible adjustable metal neck soft warm white light extremely long service life low power consumption cute decent design plugged pc usb port start bring brightness right lightweight compact space saving easy carry handle ideal companion student traveler office worker etc ideal lighting laptop darkness', 'authorized part fit various samsung brand model oem part dc country origin united state see product detailsthis authorized aftermarket product fit various samsung brand model oem part dc', 'storage samsung gb portable external ssd elevates data transfer speed next level unleashes new experience external storage fast transfer speed samsung nand flash memory usb gen interface provides transfer speed mb faster external hdds transfer backup large sized data including video high resolution photo much quicker faster compact light smaller average business card weighing gram mm thick compact light slim perfect portable storage connect ease connect extensive range device pc mac smartphones device included usb cable usb cable give seamless connectivity without hassle purchasing additional adaptersthe samsung gb portable external ssd elevates data transfer speed next level unleashes new experience external storage compact durable design password protection truly easy carry store data securely fast transfer speed samsung nand flash memory usb gen interface provides transfer speed mb faster external hdds transfer backup large sized data including video high resolution photo much quicker faster metal minimalism top bottom metal design rounded unibody fit comfortably palm hand compact light smaller average business card weighing gram mm thick compact light slim perfect portable storage solid inside stay worry free moving part sturdy metal body handle drop meter optional password protection aes bit hardware encryption keep personal private data secure confidently backed year limited warranty management software come embedded new intuitive software pc mac easily set password get latest firmware update also download mobile app android smartphones tablet connect ease connect extensive range device pc mac smartphones device included usb cable usb cable give seamless connectivity without hassle purchasing additional adapter', 'specification hp gb pen drive silver black general specification interface usb brand hp capacity gb gb model case material metal color silver black dimension weight box pendrive', 'two flash drive one cable free samsung duo plus type usb flash drive instant storage photo video music file laptop tablet tv car audio system gaming console quick convenient read speed redefine everyday file transfer read speed mb type usb flash drive backwards compatibility usb usb double connectivity one flash drive many device usb type type connectivity let quickly free device space fast backup file offloads built last reliability shock proof flash drive also water proof temperature proof ray proof magnetic proof actual speed may vary host device actual usage condition write speed lower read speed year limited warranty year limited warranty', 'superfast read write speed ssd nand offer ultra fast data transfer speed mb faster external hdds ideal transferring large sized data including video high resolution photo game compact portable design top bottom shock resistant metal design fit palm hand easily slide pocket purse take work entertainment go secure encryption optional password protection aes bit hardware encryption keep personal private data secure seamless connectivity includes usb type usb type cable connect pc mac smartphones device warranty compatibility year limited warranty requires window mac maverick android kitkat higher older version window mac android operating system may supportedthe samsung portable ssd latest samsung nand flash memory technology portable design blazing fast transfer speed mb shock resistance secure encryption make best portable ssd market shockproof aluminum exterior withstand accidental drop', 'upgrade impressive nvme speed whether need boost gaming seamless workflow heavy graphic smart choice outstanding ssd performance packed speed delivers value without sacrificing sequential read write speed mb keep moving full power mode keep ssd running peak full power mode drive continuous consistent high performance built long run tbw year limited warranty optimized endurance come trusted reliability reliable thermal control us nickel coating help manage controller heat level heat spreader label deliver effective thermal control nand chip smart thermal solution embedded samsung cutting edge thermal control algorithm manages heat deliver durable reliable performance minimizing performance fluctuation extended usage samsung magician software monitor drive health optimize performance protect valuable data receive important update magician ensure always getting best performance ssdcapacity tb firmware component including samsung world renowned dram nand produced house allowing end end integration quality trust', 'authorized part fit various samsung brand model oem part dc brand samsung see product detailsthis authorized aftermarket product fit various samsung brand model oem part dc', 'high performance business solution samsung proprietary bit mlc nand dct delivers optimized performance data center demand end end data protection help ensure consistency entire data transfer path sequential read write speed sequential read write speed mb respectively random read write speed iop ideal handling massive amount data power loss protection protect data integrity unexpected power loss samsung advanced power loss protection architecture samsung data center technology reliable sata interface solid state drive endurance handle heavy workload server data security secure data without performance degradation thanks aes bit encryption year limited warranty year limited warranty tbwthe samsung series sata ssd nand technology ideal solution server need enhanced data reliability safeguard critical data optimized performance high quality service qos power loss protection end end data protection deliver highly reliable enterprise storage solution using sata interface dct feature inch form factor sata interface making easy upgrade ssds within existing infrastructure backed year limited warranty tbw operating temperature operating temperature', 'authorized part fit various samsung brand model oem part da brand name samsung see product detailsthis authorized aftermarket product fit various samsung brand model oem part da', 'storage capacity gb encryption standard bit maximum read transfer rate mb maximum write transfer rate mb wireless lan nothe high read speed mb maximizes system performance save time complex task high write speed mb get quick response updating transferring file provides sufficient storage capacity gb computer bit encryption protects pc hacker thief encoding data data stored faster sata interface optimizes burst performance', 'samsung mz eu evo designed compatibility mind inch size designed fit desktop pc laptop powered samsung nand technology optimized performance everyday computing incredible sequential read write performance mb mb respectively random read write iop performance respectively included content mm sata iii gb ssd user manual cable screw bracket included window vista sp bit widow server bit linux compatible samsung evo series ssd industry best selling ssd perfect everyday computing powered samsung nand technology evo transforms everyday computing experience optimized performance endurance designed fit desktop pc laptop ultrabooks evo come wide range capacity form factor based npd reported revenue usunlock computer potential samsung evo series ssd industry best selling ssd perfect everyday computing powered samsung nand technology evo transforms everyday computing experience optimized performance endurance designed fit desktop pc laptop ultrabooks evo come wide range capacity form factor based npd reported revenue uncompromised performance evo optimizes performance daily computing task boasting sequential write speed mb turbowrite technology sequential read speed mb plus rapid mode boost performance faster data processing speed utilizing unused pc memory cache storage compared drive rapid enabled space storage option right need samsung offer evo full range capacity tb industry first tb ssd client pc store data single ssd ever guaranteed reliability endurance samsung evo maintains high performance optimized endurance aes bit hardware based encryption dynamic thermal guard year limited warranty aes bit hardware based encryption compliant advanced security management solution ieee tcg opal year tbw gb gb tbw gb tb tbw tb tb tbw whichever come first multiple form factor almost need samsung designed evo multiple form factor compatibility mind inch size designed fit desktop pc laptop sata based msata ideal ultra slim mobile computing', 'thunderbolt nvme power first ever nvme based portable ssd samsung featuring thunderbolt technology delivers gb data transfer speed lightning fast read write speed sequential read write performance level mb mb respectively durable design full metal body glossy top non slip bottom mat withstands drop meter shock resistant internal design feature dynamic thermal guard technology help maintain optimal performance temperature secure encryption optional password protection aes bit hardware encryption keep personal private data secure warranty compatibility year limited warranty ensure latest firmware bios installed device computer compatible device television', 'powered samsung nand technology optimized performance everyday computing interface sata gb interface compatible sata gb sata gb interfacegb incredible sequential read write performance mb mb respectively random read write iop performance respectively endurance reliability energy efficiency year limited warranty included content mm sata iii gb ssd user manual cable screw bracket included free download samsung data migration magician software available easy installation ssd management window vista sp bit window server bit linux compatible', 'high performance business solution samsung proprietary bit mlc nand zet delivers optimized performance data center demand end end data protection help ensure consistency entire data transfer path blazing fast read write speed sequential read write speed mb respectively random read write speed iop time faster random read performance compared dct ssds high quality service designed server application zet offer high quality service qos consistent predictable latency iop power loss protection protect data integrity unexpected power loss samsung advanced power loss protection architecture data security secure data without performance degradation thanks aes bit encryption year limited warranty year limited warranty pbwmodel name mz pza bw samsung zet nvme ssd nand technology bridge gap storage memory cache memory offering new level performance ultra low latency high qos breakthrough speed ultra high reliability ideal high performance computing application hybrid caching server database server ai iot zet perfect companion samsung dct ssds powerful cache memory solution completely enhance server performance', 'samsung hm hj gb sata gb storage rpm mb cache bare drive', 'world first consumer ssd powered samsung nand technology ideal hardcore pc gamers heavy pc user business professional ultimate sequential read write performance mb mb respectively random read write iop performance respectively performance reliability energy efficiency industry leading year limited warranty included content mm sata iii gb ssd user manual cable screw bracket included free download samsung data migration magician software available easy installation ssd management window vista sp bit widow server bit linux compatible product description samsung pro keep working efficiency would expect solid state drive magician software give option enhance performance performing time faster rapid mode get enhance performance lower power consumption lpddr dram cache memory samsung core mex controller ideal solution business professional pc gamers comparison increased load time reliability get solid state drive caliber seller warranty description year tbw', 'innovative nand technology powered samsung nand technology evo ssd offer optimized performance everyday computing well rendering large sized video data used latest application enhanced read write speed sequential read write performance level mb mb respectively secure encryption protect data selecting security option including aes bit hardware based encryption compliant tcg opal ieee warranty compatibility year limited warranty window window window server bit bit vista sp xp sp mac osx linux included content inch millimeter sata gb ssd user manual cable screw bracket included reliability mtbf million hour reliability mtbf capacity gb ssd trust newest edition world best selling sata ssd series samsung evo ssd specially designed enhance performance mainstream pc laptop latest nand technology fast reliable solid state drive come wide range compatible form factor capacity enhanced performance delivers consistent speed even heavy workload multi tasking allowing faster file transfer evo performs sequential read speed mb intelligent turbowrite technology sequential write speed mb turbowrite buffer size upgraded gb gb performance may vary based user system hardware configuration evo also offer boosted endurance higher tbw terabyte written evo feel secure storing rendering large sized video data used latest application smart compatibility ssd let benefit faster fluid communication host system refined ecc error correction code algorithm new mjx controller generate higher speed improved queued trim enhances linux compatibility evo provides reliability million hour mtbf', 'powered samsung nand technology optimized performance everyday computing interface sata gb interface compatible sata gb sata gb interfacegb incredible sequential read write performance mb mb respectively random read write iop performance respectively endurance energy efficiency reliability year limited warranty included content inch millimeter sata iii gb ssd user manual cable screw bracket included free download samsung data migration magician software available easy installation ssd managementupgrading pc samsung ssd economical way breathe new life aging pc evo read writes multi task incredible speed enhancing boot speed application loading multi tasking performance upgrade complete transformation pc', 'tb evo samsung layer nand sata iii cm', 'high performance business solution samsung proprietary bit mlc nand dct solution achieving high responsiveness data center server requiring accelerated performance enabling business excel handling big data blazing fast read write speed sequential read write speed mb respectively random read write speed iop ideal handling massive amount data advanced ecc engine end end data protection help ensure consistency entire data transfer path secure data without performance degradation thanks aes bit encryption power loss protection advanced power loss protection help prevent data corruption case power failure power consumption active read write idle max year limited warranty year limited warrantymodel name mz lb ne samsung dct series ssd nvme nand technology high performance solution server need enhanced data reliability safeguard critical data content delivery network cdns big data artificial intelligence ai internet thing iot application available two form factor dct nvme interface empowers blazing fast speed high responsiveness high quality service qos power loss protection end end data protection get highly reliable enterprise storage solution backed year limited warranty tbw', 'boot faster load file quicker improve overall system responsiveness package length package width package height mz bw', 'innovative nand technology powered samsung nand technology evo ssd nvme interface pcie offer enhanced bandwidth low latency power efficiency ideal tech enthusiast high end gamers content designer breakthrough read write speed sequential read write performance level mb mb respectively random read kb qd iop random read performance optimization data security seamless cloning file transfer samsung magician software ideal ssd management solution performance optimization data security automatic firmware update superior heat dissipation samsung dynamic thermal guard automatically monitor maintains optimal operating temperature minimize performance drop secure encryption year limited warranty year limited warranty tbw terabyte written capacity gb samsung evo ssd continues lead industry standard nand technology reliable superior performance ssd go evo accelerates next gen computing transforming high end gaming streamlining graphic intensive workflow new phoenix controller intelligent turbowrite technology get stunning sequential read write speed mb faster writes previous generation breakthrough speed best class reliability broad range capacity option tb solid state drive enhances high end gaming graphic editing operating temperature', 'authorized part fit various samsung brand model oem part dc brand name samsung see product detailsthis authorized aftermarket product fit various samsung brand model oem part dc', 'storage capacity tb encryption standard bit maximum read transfer rate mb maximum write transfer rate mb wireless lan noat glance designed everyday computing samsung evo powered latest nand technology robust algorithm based samsung controller handle workload mainstream pc laptop get fast enduring performance exceptional reliability expanded compatibility model packaged simple white box support need solution provider featuring samsung latest layer nand technology handle workload mainstream pc laptop refined everyday computing business professional available sata iii msata form factor fit need reliable endurance industry warranty total byte written tbw year feature samsung nand technology samsung nand flash memory help overcome limitation conventional planar nand architecture stack cell layer vertically one another rather trying fit onto fixed horizontal space order provide high density performance small footprint fast read write performance pro performs sequential write speed mb sequential read speed mb robust robust algorithm based samsung mjx controller ghz relentless endurance industry warranty offering total byte written tbw year nand flash higher endurance compared conventional planar type nand flash pro ssds consistently meet need high end use heavy workload ease safely storing rendering video data expanded compatibility experience fast fluid communication host system robust algorithm based mjx controller generates high speed improved queued trim help enhance linux compatibility robust ssd management software samsung magician', 'samsung pm ssd upgrade laptop desktop computer samsung ssd feel difference faster boot time shut down app load time hardware interface samsung pm pcie nvme gen gb ssd please check motherboard manual make sure motherboard slot support pcie nvme performance speed mb read mb write twice fast original ssd', 'white box samsung solid state drive mz evo sata iii internal ssd single unit version white box memory storage capacity samsung mz', 'encryption standard bit wireless lan', 'next level ssd performance unleash power samsung pro pcie nvme ssd next level computing pro delivers data transfer rate pcie maintaining compatibility pcie maximum speed get read speed mb pro push limit ssds powered new elpsis controller designed harmonize flash memory component interface superior speed pcie interface faster pcie ssds faster samsung sata ssds every component nvme ssd manufactured samsung performance last winning combination designed hardcore gamers tech savvy user pro offer high performance bandwidth throughput heavy duty application gaming graphic data analytics fast loading game play wait le efficient ssd pro come compact form factor easily plugged desktop laptop due size thus optimized power efficiency ideal building high performance computing system reliable thermal control high performance ssds usually require high performance thermal control ensure stable performance pro us nickel coating help manage controller heat level heat spreader label deliver effective thermal control nand chip capacity tb unleash power samsung pro pcie nvme ssd next level computing pro delivers data transfer rate pcie maintaining compatibility pcie nvm express design mark registered trademark nvm express inc', 'value optimized ssd built samsung nand technology qvo ssd give huge storage solid performance reliability exceptional value enhanced read write speed sequential read write performance level mb mb respectively intelligent turbowrite accelerates write speed maintains long term high performance larger variable buffer secure encryption protect data selecting security option including aes bit hardware based encryption compliant tcg opal ieee warranty compatibility year limited warranty interface sata gb interface compatible sata gb sata gb interfacecapacity tb pattern name single boot faster conventional hard disk drive store hour video thousand photo terabyte level storage protected year warranty', 'high quality metal casing durability key ring prevent loss nand flash technology water proof shock proof magnet proof temp proof ray proof year warranty high speed usb flash drive fast data transfer operating temperature degree celsius non operating temperature minus degree celsiussize gb color metallic elevate memory storage samsung usb technology get mileage usb ideal transfer pc notebook enjoy best world sleek super compact design well higher transfer speed rugged proof durability', 'sequential read write mb random read write iop compatibility system support sata gb ssamsung ssd gb pm sata gb mz ln hmjp solid state drive pc desktop laptop server', 'authorized part fit various samsung brand model oem part ba package dimension see product detailsthis authorized aftermarket product fit various samsung brand model oem part ba', 'nvr hdd support channel poe poe port mjpeg arb automatic recovery backup fixed internal sata hdds tb max sata iscsi storage wisestream technology max resolution mp recording display', 'fingerprint security ssd fingerprint password security blazing fast storage read mb writes mb transfer file nearly faster hard drive led status indicator touch feature led square illuminates keep informed ssd glance built strong shock resistant withstands drop ftcolor black capacity tb transfer flash secure touch whether storing critical business document game movie portable ssd touch give speed security palm sized package experience next level external storage available three capacity suit need gb tb tb rohs compliance rohs', 'ssd star latest evo indisputable performance reliability compatibility built upon samsung pioneering technology excellence performance enjoy professional level ssd performance evo maximizes sata interface limit mb sequential speed accelerates write speed maintains long term high performance larger variable buffer industry defining reliability meet demand every task everyday computing video processing tbw year limited warranty compatible ever evo compatibility tested major host system application including chipsets motherboards na video recording device upgrade ease simply plug evo standard inch sata form factor desktop pc laptop let renewed migration software take care rest samsung magician software make drive work smoothly enhanced samsung magician software help easily manage drive keep latest update monitor drive health status even enhance performancecapacity tb latest evo indisputable performance reliability compatibility built upon samsung pioneering technology performance may vary based ssd firmware version system hardware configuration sequential write performance measurement based intelligent turbowrite technology test system configuration intel core cpu ghz ddr mhz gb window pro chipset asus prime performance data measured ssd secondary warrantied tbw terabyte written evo tbw gb model tbw gb model tbw tb model tbw tb model tbw tb model year tbw whichever come first information warranty please find enclosed warranty statement package compatibility test conducted samsung internal amd msi gigabyte synology qnap blackmagicdesign atmos', 'authorized part fit various samsung brand model oem part da brand name samsung see product detail', 'innovative nand technology powered samsung nand technology evo ssd offer optimized performance everyday computing well rendering large sized video data used latest application enhanced read write speed sequential read write performance level mb mb respectively random read kb qd iop random read secure encryption protect data selecting security option including aes bit hardware based encryption compliant tcg opal ieee warranty compatibility year limited warranty window window window server bit bit vista sp xp sp mac osx linux included content sata gb ssd user manual cable screw bracket included operating temperature degree celsius', 'high performance business solution samsung proprietary bit mlc nand dct delivers optimized performance data center demand end end data protection help ensure consistency entire data transfer path sequential read write speed sequential read write speed mb respectively random read write speed iop ideal handling massive amount data power loss protection protect data integrity unexpected power loss samsung advanced power loss protection architecture samsung data center technology reliable sata interface solid state drive endurance handle heavy workload server data security secure data without performance degradation thanks aes bit encryption year limited warranty year limited warranty tbw', 'via flower llp mirror vc gb pen drive fancy pendrive via flower llp mirror vc gb pen drive multicolor price via flower pen drive adorable pendrive help store lot data one best gift presented loved one particular occassions add personal touch spread warmth love affection attached laptop desktop unique design onto give rich stylish look surprise near dear one gifting pendrive also pep wardrobe specification via flower llp mirror vc gb pen drive multicolor general specification interface usb brand via flower llp capacity gb gb model mirror vc case material plastic supported window home basic premium professional enterprise ultimate starter vista home basic premium business enterprise ultimate starter xp professional home professional mac usb go yes color multicolor dimension weight box unit pendrive', 'compatible device drive compatible server array accept mm sata drivescapacity gb industry leading reliability powered latest nand technology robust algorithm based controller samsung pro ssd readily handle heavy workload high end pc workstation na network attached system give lasting assurance gamers creative professional speed consistent sustained even heavy workload multitasking pro solid state drive performs sequential read speed mb combination latest nand refined controller delivering sequential write speed mb smart compatibility ssd let benefit faster fluid communication host system refined ecc algorithm new mjx controller generate higher speed improved queued trim enhances linux compatibility usage application client pc reliability mtbf million hour reliability mtbf aes encryption aes bit encryption class tcg opal ieee encrypted drive gc garbage collection auto garbage collection algorithm', 'transfer flash transfer file nearly faster external hard disk drive hdd read mb writes mb usb gen supported device samsung recommends user download latest firmware update via included portable ssd software ensure optimal performance data transfer speed may vary depending user pc environment type data transferred usb gen uasp support required maximum transfer speed mb samsung recommends usage included usb type usb type cable non original cable may cause performance degradation due varying internal resistance maximum allowable currency built strong secure shock resistant withstands drop ft advanced heat control dynamic thermal guard dtg technology protects touch overheating automatically slowing data transfer necessary dtg technology enhances product safety reliability preventing touch reaching excessively high temperature password security', 'high performance business solution samsung proprietary bit mlc nand dct delivers optimized performance data center demand end end data protection help ensure consistency entire data transfer path sequential read write speed sequential read write speed mb respectively random read write speed iop ideal handling massive amount data power loss protection protect data integrity unexpected power loss samsung advanced power loss protection architecture samsung data center technology reliable sata interface solid state drive endurance handle heavy workload server data security secure data without performance degradation thanks aes bit encryption year limited year limited tbwthe samsung series sata ssd nand technology ideal solution server need enhanced data reliability safeguard critical data optimized performance high quality service qos power loss protection end end data protection deliver highly reliable enterprise storage solution using sata interface dct feature inch form factor sata interface making easy upgrade ssds within existing infrastructure backed year limited tbw', 'speed redefine everyday file transfer speed mb security reliable secure storage photo video music file stylish rugged metal casing durability key ring prevent loss durability safeguard data water proof shock proof magnet proof temperature proof ray proof compatibility usb flash drive backwards compatibility usb usb size gb color gray redefine everyday file transfer samsung bar plus usb flash drive plug expand storage device unnoticeable seamless fit designed key ring prevent loss fast convenient read speed mb time work play watch create reliable secure solution personal photo video music document file safeguard data backed year limited warranty water proof shock proof magnet proof temperature proof ray proof experience samsung industry leading nand layer technology speed may vary capacity operating temperature', 'samsung pm mzilt hajq tb gb inch internal sa enterprise solid state drive made high performance enterprise storage technical specification part number mzilt hajq capacity tb drive type sa solid state drive interface speed gb form factor small form factor sff sequential read speed mb sequential write speed mb', 'boot faster load file quicker improve overall system responsiveness memory storage capacity package dimension centimeter made chinamz bw', 'country origin united state package length product inch package width product inch package height product inch see product detailsthis authorized aftermarket product fit various samsung brand model oem part db', 'fast mbps transfer speed supporting usb gen gbps compact lightweight aluminum exterior shock resistance structure withstands fall aes bit hardware encryption usb usb support pc phone device', 'lapguard sony vaio vgn aapsy adapter power cord included price lapguard replacement adapter designed provide reliable power charge laptop made highest quality part lapguard replacement adapter conforms specification similar original quality adapter also pass necessary authentication certification like ce rohs etc leaving factory rest assured quality durability performance please note image indicative actual product label may vary place order adapter please make sure selecting correct adapter per old charger specification please compare old adapter power rating volt amp watt pin tip connector size lapguard replacement adapter designed provide reliable power charge laptop made highest quality part lapguard replacement adapter conforms specification similar original quality adapter also pass necessary authentication certification like ce rohs etc leaving factory rest assured quality durability performance please note image indicative actual product label may vary place order adapter please make sure selecting correct adapter per old charger specification please compare old adapter power rating volt amp watt pin tip connector size', 'rega toshiba satellite adapter power cord included price rega replacement laptop ac power adapter charger toshiba satellite laptop enables operate notebook charge battery electrical power outlet running computer ac power battery installed adapter charge battery needed maintains charge system ac adapter charge battery maintain charge made highest quality part rega replacement adapter confirms specification similar guaranteed meet exceed laptop minimum requirement adapter also pass necessary authentication certification like ce rohs etc leaving factory rest assured quality durability performance please make sure selecting correct adapter per old charger specification please compare old adapter power rating volt amp watt pin tip connector size rega replacement laptop ac power adapter charger toshiba satellite laptop enables operate notebook charge battery electrical power outlet running computer ac power battery installed adapter charge battery needed maintains charge system ac adapter charge battery maintain charge made highest quality part rega replacement adapter confirms specification similar guaranteed meet exceed laptop minimum requirement adapter also pass necessary authentication certification like ce rohs etc leaving factory rest assured quality durability performance please make sure selecting correct adapter per old charger specification please compare old adapter power rating volt amp watt pin tip connector size', 'rega sony vpc zfx vpcf fm adapter flipkart com genuine product day replacement guarantee free shipping cash delivery', 'hako magsafe laptop charger apple macbook pro mb magsafe adapter designed apple macbook pro mb magsafe hako magsafe laptop charger apple macbook pro mb magsafe adapter price hako laptop adapter come high quality certification compatible respective brand adapter equipped protection circuit protect laptop adapter come year warranty specification hako magsafe laptop charger apple macbook pro mb magsafe adapter general brand hako designed apple macbook pro mb magsafe sale package laptop adapter model name apple macbook pro mb magsafe model id magsafe laptop charger apple macbook pro mb magsafe power power consumption warranty covered warranty manufacturing defect warranty summary year warranty warranty service type claim warranty customer need contact seller guided nearest service center service center available area need courier product seller replace product send via courier covered warranty physcal damage covered warranty', 'hako magsafe laptop charger apple macbook mb cha adapter designed apple macbook mb magsafe hako magsafe laptop charger apple macbook mb cha adapter price hako laptop adapter come high quality certification compatible respective brand adapter equipped protection circuit protect laptop adapter come year warranty specification hako magsafe laptop charger apple macbook mb cha adapter general brand hako designed apple macbook mb magsafe sale package laptop adapter model name apple macbook mb magsafe model id magsafe laptop charger apple macbook mb cha power power consumption warranty covered warranty manufacturing defect warranty summary year warranty warranty service type claim warranty customer need contact seller guided nearest service center service center available area need courier product seller replace product send via courier covered warranty physcal damage covered warranty', 'smartpro replacement charger vaio series vgn fz adapter designed sony vaio vgn fz smartpro replacement charger vaio series vgn fz adapter power cord included price smartpro brand product smartpro laptop adapter charger sony vaio vgn fz connector pin size smartpro replacement adapter designed provide reliable power charge laptop made highest quality part replacement adapter conforms specification similar original quality adapter also pass necessary authentication certification like ce rohs etc leaving factory rest assured quality durability performance please note image indicative actual product label may vary place order adapter please assure select right adapter laptop please check adapter voltage current compliance requirment laptop adapter output current laptop rated current adapter output volatege notebook voltage deviation please also check adapter pin image place order specification smartpro replacement charger vaio series vgn fz adapter power cord included general brand smartpro designed vaio vgn fz sale package laptop adapter key feature designed sony vaio vgn fz connector pin type mm mm model id replacement charger vaio series vgn fz power power input hz power consumption output current output voltage warranty covered warranty warranty product limited manufacturing defect warranty summary month india warranty warranty service type replacement repair carry warranty customer need carry send replacement repair replaced product sent back customer covered warranty warranty cover external accessory battery cable carrying bag damage caused product due improper installation customer normal wear tear magnetic head audio video laser pick ups tv picture tube pane', 'hako magsafe laptop charger apple macbook air mb lla adapter designed apple macbook air mb magsafe hako magsafe laptop charger apple macbook air mb lla adapter price hako laptop adapter come high quality certification compatible respective brand adapter equipped protection circuit protect laptop adapter come year warranty specification hako magsafe laptop charger apple macbook air mb lla adapter general brand hako designed apple macbook air mb magsafe sale package laptop adapter model name apple macbook air mb magsafe model id magsafe laptop charger apple macbook air mb lla power power consumption warranty covered warranty manufacturing defect warranty summary year warranty warranty service type claim warranty customer need contact seller guided nearest service center service center available area need courier product seller replace product send via courier covered warranty physcal damage covered warranty', 'hako magsafe laptop charger apple macbook pro mc zpa adapter designed apple macbook pro mc ch magsafe hako magsafe laptop charger apple macbook pro mc zpa adapter price hako laptop adapter come high quality certification compatible respective brand adapter equipped protection circuit protect laptop adapter come year warranty specification hako magsafe laptop charger apple macbook pro mc zpa adapter general brand hako designed apple macbook pro mc ch magsafe sale package laptop adapter model name apple macbook pro mc ch magsafe model id magsafe laptop charger apple macbook pro mc zpa power power consumption warranty covered warranty manufacturing defect warranty summary year warranty warranty service type claim warranty customer need contact seller guided nearest service center service center available area need courier product seller replace product send via courier covered warranty physcal damage covered warranty', 'rega msi dl dlx adapter flipkart com genuine product day replacement guarantee free shipping cash delivery', 'hako magsafe laptop charger apple macbook ba adapter designed apple macbook magsafe hako magsafe laptop charger apple macbook ba adapter price hako laptop adapter come high quality certification compatible respective brand adapter equipped protection circuit protect laptop adapter come year warranty specification hako magsafe laptop charger apple macbook ba adapter general brand hako designed apple macbook magsafe sale package laptop adapter model name apple macbook magsafe model id magsafe laptop charger apple macbook ba power power consumption warranty covered warranty manufacturing defect warranty summary year warranty warranty service type claim warranty customer need contact seller guided nearest service center service center available area need courier product seller replace product send via courier covered warranty physcal damage covered warranty', 'hako magsafe laptop charger apple macbook pro lla adapter designed apple macbook pro mb magsafe hako magsafe laptop charger apple macbook pro lla adapter price hako laptop adapter come high quality certification compatible respective brand adapter equipped protection circuit protect laptop adapter come year warranty specification hako magsafe laptop charger apple macbook pro lla adapter general brand hako designed apple macbook pro mb magsafe sale package laptop adapter model name apple macbook pro mb magsafe model id magsafe laptop charger apple macbook pro lla power power consumption warranty covered warranty manufacturing defect warranty summary year warranty warranty service type claim warranty customer need contact seller guided nearest service center service center available area need courier product seller replace product send via courier covered warranty physcal damage covered warranty', 'rega hp pavilion ax tu adapter power cord included price rega replacement laptop ac power adapter charger hp pavilion ax tu laptop enables operate notebook charge battery electrical power outlet running computer ac power battery installed adapter charge battery needed maintains charge system ac adapter charge battery maintain charge made highest quality part rega replacement adapter confirms specification similar guaranteed meet exceed laptop minimum requirement adapter also pass necessary authentication certification like ce rohs etc leaving factory rest assured quality durability performance please make sure selecting correct adapter per old charger specification please compare old adapter power rating volt amp watt pin tip connector size rega replacement laptop ac power adapter charger hp pavilion ax tu laptop enables operate notebook charge battery electrical power outlet running computer ac power battery installed adapter charge battery needed maintains charge system ac adapter charge battery maintain charge made highest quality part rega replacement adapter confirms specification similar guaranteed meet exceed laptop minimum requirement adapter also pass necessary authentication certification like ce rohs etc leaving factory rest assured quality durability performance please make sure selecting correct adapter per old charger specification please compare old adapter power rating volt amp watt pin tip connector size', 'rega hp pavilion sg ea adapter flipkart com genuine product day replacement guarantee free shipping cash delivery', 'rega sony vgn dhb vgn dib adapter flipkart com genuine product day replacement guarantee free shipping cash delivery', 'lapguard acer aspire gzm adapter power cord included price lapguard replacement adapter designed provide reliable power charge laptop made highest quality part lapguard replacement adapter conforms specification similar original quality adapter also pass necessary authentication certification like ce rohs etc leaving factory rest assured quality durability performance please note image indicative actual product label may vary place order adapter please make sure selecting correct adapter per old charger specification please compare old adapter power rating volt amp watt pin tip connector size lapguard replacement adapter designed provide reliable power charge laptop made highest quality part lapguard replacement adapter conforms specification similar original quality adapter also pass necessary authentication certification like ce rohs etc leaving factory rest assured quality durability performance please note image indicative actual product label may vary place order adapter please make sure selecting correct adapter per old charger specification please compare old adapter power rating volt amp watt pin tip connector size', 'hako magsafe laptop charger apple macbook pro mc xa adapter designed apple macbook pro mc magsafe hako magsafe laptop charger apple macbook pro mc xa adapter price hako laptop adapter come high quality certification compatible respective brand adapter equipped protection circuit protect laptop adapter come year warranty specification hako magsafe laptop charger apple macbook pro mc xa adapter general brand hako designed apple macbook pro mc magsafe sale package laptop adapter model name apple macbook pro mc magsafe model id magsafe laptop charger apple macbook pro mc xa power power consumption warranty covered warranty manufacturing defect warranty summary year warranty warranty service type claim warranty customer need contact seller guided nearest service center service center available area need courier product seller replace product send via courier covered warranty physcal damage covered warranty', 'rega hp pavilion zt ea zt ea adapter flipkart com genuine product day replacement guarantee free shipping cash delivery', 'lapguard sony vaio vgn nw db adapter power cord included price lapguard replacement adapter designed provide reliable power charge laptop made highest quality part lapguard replacement adapter conforms specification similar original quality adapter also pass necessary authentication certification like ce rohs etc leaving factory rest assured quality durability performance please note image indicative actual product label may vary place order adapter please make sure selecting correct adapter per old charger specification please compare old adapter power rating volt amp watt pin tip connector size lapguard replacement adapter designed provide reliable power charge laptop made highest quality part lapguard replacement adapter conforms specification similar original quality adapter also pass necessary authentication certification like ce rohs etc leaving factory rest assured quality durability performance please note image indicative actual product label may vary place order adapter please make sure selecting correct adapter per old charger specification please compare old adapter power rating volt amp watt pin tip connector size', 'smartpro replacement charger vaio series vgn fz adapter designed sony vaio vgn fz smartpro replacement charger vaio series vgn fz adapter power cord included price smartpro brand product smartpro laptop adapter charger sony vaio vgn fz cto vgn cr connector pin size smartpro replacement adapter designed provide reliable power charge laptop made highest quality part replacement adapter conforms specification similar original quality adapter also pass necessary authentication certification like ce rohs etc leaving factory rest assured quality durability performance please note image indicative actual product label may vary place order adapter please assure select right adapter laptop please check adapter voltage current compliance requirment laptop adapter output current laptop rated current adapter output volatege notebook voltage deviation please also check adapter pin image place order specification smartpro replacement charger vaio series vgn fz adapter power cord included general brand smartpro designed vaio vgn fz sale package laptop adapter key feature designed sony vaio vgn fz connector pin type mm mm model id replacement charger vaio series vgn fz power power input hz power consumption output current output voltage warranty covered warranty warranty product limited manufacturing defect warranty summary month india warranty warranty service type replacement repair carry warranty customer need carry send replacement repair replaced product sent back customer covered warranty warranty cover external accessory battery cable carrying bag damage caused product due improper installation customer normal wear tear magnetic head audio video laser pick ups tv picture tube pane', 'hako magsafe laptop charger apple macbook air mb ja adapter designed apple macbook air mb ta magsafe hako magsafe laptop charger apple macbook air mb ja adapter price hako laptop adapter come high quality certification compatible respective brand adapter equipped protection circuit protect laptop adapter come year warranty specification hako magsafe laptop charger apple macbook air mb ja adapter general brand hako designed apple macbook air mb ta magsafe sale package laptop adapter model name apple macbook air mb ta magsafe model id magsafe laptop charger apple macbook air mb ja power power consumption warranty covered warranty manufacturing defect warranty summary year warranty warranty service type claim warranty customer need contact seller guided nearest service center service center available area need courier product seller replace product send via courier covered warranty physcal damage covered warranty', 'lapguard hp compaq pavilion dv eo thick pin adapter power cord included price lapguard replacement adapter designed provide reliable power charge laptop made highest quality part lapguard replacement adapter conforms specification similar original quality adapter also pass necessary authentication certification like ce rohs etc leaving factory rest assured quality durability performance please note image indicative actual product label may vary place order adapter please make sure selecting correct adapter per old charger specification please compare old adapter power rating volt amp watt pin tip connector size lapguard replacement adapter designed provide reliable power charge laptop made highest quality part lapguard replacement adapter conforms specification similar original quality adapter also pass necessary authentication certification like ce rohs etc leaving factory rest assured quality durability performance please note image indicative actual product label may vary place order adapter please make sure selecting correct adapter per old charger specification please compare old adapter power rating volt amp watt pin tip connector size', 'smartpro tablet charger adapter tablet charger specification smartpro tablet charger adapter power cord included general brand smartpro designed tablet sale package laptop adapter key feature tablet charger connector pin type mm mm model id tablet charger power power input hz power consumption output current output voltage warranty covered warranty warranty product limited manufacturing defect warranty summary month india warranty warranty service type replacement repair carry warranty customer need carry send replacement repair replaced product sent back customer covered warranty warranty cover external accessory battery cable carrying bag damage caused product due improper installation customer normal wear tear magnetic head audio video laser pick ups tv picture tube pane', 'arb cell laptop battery price arb brand product arb laptop battery replacement lenovo cell arb replacement battery made high grade cell highest quality part arb brand replacement battery percent comparable original battery term including size appearance important quality arb laptop battery pas strict quality control procedure including filtration safety testing voltage capacity battery core body battery also pass necessary authentication certification like ce rohs etc leaving factory rest assured quality durability performance battery part model may printed battery label arb brand product arb laptop battery replacement lenovo cell arb replacement battery made high grade cell highest quality part arb brand replacement battery percent comparable original battery term including size appearance important quality arb laptop battery pas strict quality control procedure including filtration safety testing voltage capacity battery core body battery also pass necessary authentication certification like ce rohs etc leaving factory rest assured quality durability performance battery part model may printed battery label', 'hako hp compaq presario cq tu cell laptop battery flipkart com genuine product day replacement guarantee free shipping cash delivery', 'hp pavilion dv eo cell laptop battery flipkart com genuine product day replacement guarantee free shipping cash delivery', 'lapguard toshiba portege td replacement cell laptop battery flipkart com genuine product day replacement guarantee free shipping cash delivery', 'lapguard hp pavilion dv tu replacement cell laptop battery flipkart com genuine product day replacement guarantee free shipping cash delivery', 'hako hp compaq presario cq tx cell laptop battery flipkart com genuine product day replacement guarantee free shipping cash delivery', 'lapguard hp pavilion dv tx replacement cell laptop battery price product compatible mentioned model number lapguard replacement battery made high grade cell highest quality part lapguard brand replacement battery percent comparable original battery term including size appearance important quality lapguard laptop battery pas strict quality control procedure including filtration safety testing voltage capacity battery core body battery also pass necessary authentication certification like ce rohs etc leaving factory rest assured quality durability performance please note image indicative actual product label may vary battery part model may printed label case doubt request raised company customer support product compatible mentioned model number lapguard replacement battery made high grade cell highest quality part lapguard brand replacement battery percent comparable original battery term including size appearance important quality lapguard laptop battery pas strict quality control procedure including filtration safety testing voltage capacity battery core body battery also pass necessary authentication certification like ce rohs etc leaving factory rest assured quality durability performance please note image indicative actual product label may vary battery part model may printed label case doubt request raised company customer support', 'lapguard hp pavilion dv ca cell laptop battery price lapguard replacement battery made high grade cell highest quality part lapguard brand replacement battery percent comparable original battery term including size appearance important quality lapguard laptop battery pas strict quality control procedure including filtration safety testing voltage capacity battery core body battery also pass necessary authentication certification like ce rohs etc leaving factory rest assured quality durability performance lapguard replacement battery made high grade cell highest quality part lapguard brand replacement battery percent comparable original battery term including size appearance important quality lapguard laptop battery pas strict quality control procedure including filtration safety testing voltage capacity battery core body battery also pass necessary authentication certification like ce rohs etc leaving factory rest assured quality durability performance', 'lapguard hp pavilion dv ap replacement cell laptop battery price product compatible mentioned model number lapguard replacement battery made high grade cell highest quality part lapguard brand replacement battery percent comparable original battery term including size appearance important quality lapguard laptop battery pas strict quality control procedure including filtration safety testing voltage capacity battery core body battery also pass necessary authentication certification like ce rohs etc leaving factory rest assured quality durability performance please note image indicative actual product label may vary battery part model may printed label case doubt request raised company customer support product compatible mentioned model number lapguard replacement battery made high grade cell highest quality part lapguard brand replacement battery percent comparable original battery term including size appearance important quality lapguard laptop battery pas strict quality control procedure including filtration safety testing voltage capacity battery core body battery also pass necessary authentication certification like ce rohs etc leaving factory rest assured quality durability performance please note image indicative actual product label may vary battery part model may printed label case doubt request raised company customer support', 'lapguard lenovo thinkpad replacement cell laptop battery flipkart com genuine product day replacement guarantee free shipping cash delivery', 'rce dell inspiron wk cell laptop battery flipkart com genuine product day replacement guarantee free shipping cash delivery', 'rega hp pavilion dv ea dv cl cell cell laptop battery flipkart com genuine product day replacement guarantee free shipping cash delivery', 'scomp elitebook cell laptop battery price scomp brand product range coming one year warranty lithium ion battery light gram black cover carefully designed complement notebook colour pair completely pc besides cell battery easily chargeable ac adapter even pc switched scomp brand product range coming one year warranty lithium ion battery light gram black cover carefully designed complement notebook colour pair completely pc besides cell battery easily chargeable ac adapter even pc switched', 'lenovo cell laptop battery flipkart com genuine product day replacement guarantee free shipping cash delivery', 'lapguard hp pavilion dv ax cell laptop battery flipkart com genuine product day replacement guarantee free shipping cash delivery', 'lapguard dell inspiron replacement cell laptop battery flipkart com genuine product day replacement guarantee free shipping cash delivery', 'lapguard hp pavilion dv el cell laptop battery flipkart com genuine product day replacement guarantee free shipping cash delivery', 'rce hp probook cell laptop battery flipkart com genuine product day replacement guarantee free shipping cash delivery', 'lapguard hp pavilion dv series cell laptop battery flipkart com genuine product day replacement guarantee free shipping cash delivery', 'rega acer aspire one cbk cell laptop battery flipkart com genuine product day replacement guarantee free shipping cash delivery', 'lapguard hp pavilion dv ea compatible black cell laptop battery flipkart com genuine product day replacement guarantee free shipping cash delivery', 'rega hp pavilion dv tx dv ea cell cell laptop battery flipkart com genuine product day replacement guarantee free shipping cash delivery', 'lapguard hp pavilion dv ca cell laptop battery flipkart com genuine product day replacement guarantee free shipping cash delivery', 'arb hp compaq presario cq replacement cell laptop battery flipkart com genuine product day replacement guarantee free shipping cash delivery', 'rega hp pavilion dv tx dv tu cell cell laptop battery price rega replacement laptop battery hp pavilion dv tx dv tu laptop made highest quality part rega replacement battery confirms specification similar guaranteed meet exceed laptop minimum requirement battery also pass necessary authentication certification like ce rohs etc leaving factory rest assured quality durability performance please make sure selecting correct battery per old battery specification please compare old battery power rating volt capacity mah cell rega replacement laptop battery hp pavilion dv tx dv tu laptop made highest quality part rega replacement battery confirms specification similar guaranteed meet exceed laptop minimum requirement battery also pass necessary authentication certification like ce rohs etc leaving factory rest assured quality durability performance please make sure selecting correct battery per old battery specification please compare old battery power rating volt capacity mah cell', 'lapguard lenovo ideapad cell laptop battery price product compatible mentioned model number lapguard replacement battery made high grade cell highest quality part lapguard brand replacement battery percent comparable original battery term including size appearance important quality lapguard laptop battery pas strict quality control procedure including filtration safety testing voltage capacity battery core body battery also pass necessary authentication certification like ce rohs etc leaving factory rest assured quality durability performance please note image indicative actual product label may vary battery part model may printed label product compatible mentioned model number lapguard replacement battery made high grade cell highest quality part lapguard brand replacement battery percent comparable original battery term including size appearance important quality lapguard laptop battery pas strict quality control procedure including filtration safety testing voltage capacity battery core body battery also pass necessary authentication certification like ce rohs etc leaving factory rest assured quality durability performance please note image indicative actual product label may vary battery part model may printed label', 'hp compaq presario cq cell laptop battery flipkart com genuine product day replacement guarantee free shipping cash delivery', 'rega hp compaq cell laptop battery flipkart com genuine product day replacement guarantee free shipping cash delivery', 'arb hp pavilion dv em replacement cell laptop battery flipkart com genuine product day replacement guarantee free shipping cash delivery', 'rega hp pavilion dv st dv sv cell cell laptop battery price rega replacement cell extended laptop battery hp pavilion dv st dv sv laptop made highest quality part rega replacement battery confirms specification similar guaranteed meet exceed laptop minimum requirement battery also pass necessary authentication certification like ce rohs etc leaving factory rest assured quality durability performance please make sure selecting correct battery per old battery specification please compare old battery power rating volt capacity mah cell rega replacement cell extended laptop battery hp pavilion dv st dv sv laptop made highest quality part rega replacement battery confirms specification similar guaranteed meet exceed laptop minimum requirement battery also pass necessary authentication certification like ce rohs etc leaving factory rest assured quality durability performance please make sure selecting correct battery per old battery specification please compare old battery power rating volt capacity mah cell', 'rega hp compaq cell laptop battery price rega replacement laptop battery hp compaq laptop made highest quality part rega replacement battery confirms specification similar guaranteed meet exceed laptop minimum requirement battery also pass necessary authentication certification like ce rohs etc leaving factory rest assured quality durability performance please make sure selecting correct battery per old battery specification please compare old battery power rating volt capacity mah cell rega replacement laptop battery hp compaq laptop made highest quality part rega replacement battery confirms specification similar guaranteed meet exceed laptop minimum requirement battery also pass necessary authentication certification like ce rohs etc leaving factory rest assured quality durability performance please make sure selecting correct battery per old battery specification please compare old battery power rating volt capacity mah cell', 'lenovo ideapad cell laptop battery flipkart com genuine product day replacement guarantee free shipping cash delivery', 'hako hp compaq presario cq au cell laptop battery flipkart com genuine product day replacement guarantee free shipping cash delivery', 'hp presario cell laptop battery flipkart com genuine product day replacement guarantee free shipping cash delivery', 'lapguard hp pavilion dv replacement cell laptop battery flipkart com genuine product day replacement guarantee free shipping cash delivery', 'dgb hp hstnn ib cell laptop battery flipkart com genuine product day replacement guarantee free shipping cash delivery', 'lapguard hp pavilion dv eg cell laptop battery flipkart com genuine product day replacement guarantee free shipping cash delivery', 'clublaptop sony vgn bps bps cell laptop battery price clublaptop hi life replacement battery made high grade cell highest quality part cl brand replacement battery persent comparable original battery term including size appearance important quality cl laptop battery pas strict quality control procedure including filtration safety testing voltage capacity battery core battery also pass necessary authentication certification like ce rohs etc leaving factory rest assured quality durability performance carry laptop anywhere work play watch movie longer hour without plugging compatible laptop model sony vaio vpcea vpceb vgp bps vgp bps series clublaptop hi life replacement battery made high grade cell highest quality part cl brand replacement battery persent comparable original battery term including size appearance important quality cl laptop battery pas strict quality control procedure including filtration safety testing voltage capacity battery core battery also pass necessary authentication certification like ce rohs etc leaving factory rest assured quality durability performance carry laptop anywhere work play watch movie longer hour without plugging compatible laptop model sony vaio vpcea vpceb vgp bps vgp bps series', 'arb hp pavilion dv ea replacement cell laptop battery flipkart com genuine product day replacement guarantee free shipping cash delivery', 'rega hp compaq ep er cell cell laptop battery price rega replacement laptop battery hp compaq ep er laptop made highest quality part rega replacement battery confirms specification similar guaranteed meet exceed laptop minimum requirement battery also pass necessary authentication certification like ce rohs etc leaving factory rest assured quality durability performance please make sure selecting correct battery per old battery specification please compare old battery power rating volt capacity mah cell rega replacement laptop battery hp compaq ep er laptop made highest quality part rega replacement battery confirms specification similar guaranteed meet exceed laptop minimum requirement battery also pass necessary authentication certification like ce rohs etc leaving factory rest assured quality durability performance please make sure selecting correct battery per old battery specification please compare old battery power rating volt capacity mah cell', 'arb hp pavilion dv replacement cell laptop battery flipkart com genuine product day replacement guarantee free shipping cash delivery', 'lapguard hp pavilion dv el cell laptop battery price lapguard replacement battery made high grade cell highest quality part lapguard brand replacement battery percent comparable original battery term including size appearance important quality lapguard laptop battery pas strict quality control procedure including filtration safety testing voltage capacity battery core body battery also pass necessary authentication certification like ce rohs etc leaving factory rest assured quality durability performance lapguard replacement battery made high grade cell highest quality part lapguard brand replacement battery percent comparable original battery term including size appearance important quality lapguard laptop battery pas strict quality control procedure including filtration safety testing voltage capacity battery core body battery also pass necessary authentication certification like ce rohs etc leaving factory rest assured quality durability performance', 'lapguard hp pavilion dv tx cell laptop battery flipkart com genuine product day replacement guarantee free shipping cash delivery', 'lapguard lenovo ah replacement cell laptop battery flipkart com genuine product day replacement guarantee free shipping cash delivery', 'lapguard acer travelmate mn replacement cell laptop battery flipkart com genuine product day replacement guarantee free shipping cash delivery', 'sony vaio bps cell laptop battery flipkart com genuine product day replacement guarantee free shipping cash delivery', 'rega hp pavilion dv nr dv sl cell cell laptop battery price rega replacement cell extended laptop battery hp pavilion dv nr dv sl laptop made highest quality part rega replacement battery confirms specification similar guaranteed meet exceed laptop minimum requirement battery also pass necessary authentication certification like ce rohs etc leaving factory rest assured quality durability performance please make sure selecting correct battery per old battery specification please compare old battery power rating volt capacity mah cell rega replacement cell extended laptop battery hp pavilion dv nr dv sl laptop made highest quality part rega replacement battery confirms specification similar guaranteed meet exceed laptop minimum requirement battery also pass necessary authentication certification like ce rohs etc leaving factory rest assured quality durability performance please make sure selecting correct battery per old battery specification please compare old battery power rating volt capacity mah cell', 'arb toshiba dynabook mx compatible black cell laptop battery flipkart com genuine product day replacement guarantee free shipping cash delivery', 'rega gateway md md md cell laptop battery flipkart com genuine product day replacement guarantee free shipping cash delivery', 'arb hp compaq presario cq compatible black cell laptop battery flipkart com genuine product day replacement guarantee free shipping cash delivery', 'print shape monster university party laptop skin mouse pad combo set glue free removal inch laptop skin easy apply scratch resistant lamination print shape monster university party laptop skin mouse pad combo set multicolor price print shape laptop skin made high quality vinyl sheet compatible laptop screen size ranging inch inch trimning skin would required per laptop size skin easy install remove without leaving gum residue specification print shape monster university party laptop skin mouse pad combo set multicolor general brand print shape model name monster university party laptop skin mouse pad suitable type laptop color multicolor warranty warranty summary warranty box number content sale package pack', 'print shape red bull laptop skin mouse pad combo set glue free removal inch laptop skin easy apply scratch resistant lamination print shape red bull laptop skin mouse pad combo set multicolor price print shape laptop skin made high quality vinyl sheet compatible laptop screen size ranging inch inch trimning skin would required per laptop size skin easy install remove without leaving gum residue specification print shape red bull laptop skin mouse pad combo set multicolor general brand print shape model name red bull laptop skin mouse pad suitable type laptop color multicolor warranty warranty summary warranty box number content sale package pack', 'specification print shape doraemon laptop skin mouse pad combo set multicolor general brand print shape model name doraemon laptop skin mouse pad suitable type laptop color multicolor warranty warranty summary warranty box number content sale package pack', 'print shape rome italy laptop skin mouse pad combo set glue free removal inch laptop skin easy apply scratch resistant lamination print shape rome italy laptop skin mouse pad combo set multicolor price print shape laptop skin made high quality vinyl sheet compatible laptop screen size ranging inch inch trimning skin would required per laptop size skin easy install remove without leaving gum residue specification print shape rome italy laptop skin mouse pad combo set multicolor general brand print shape model name rome italy laptop skin mouse pad suitable type laptop color multicolor warranty warranty summary warranty box number content sale package pack', 'print shape abstract ball laptop skin mouse pad combo set glue free removal inch laptop skin easy apply scratch resistant lamination print shape abstract ball laptop skin mouse pad combo set multicolor price print shape laptop skin made high quality vinyl sheet compatible laptop screen size ranging inch inch trimning skin would required per laptop size skin easy install remove without leaving gum residue specification print shape abstract ball laptop skin mouse pad combo set multicolor general brand print shape model name abstract ball laptop skin mouse pad suitable type laptop color multicolor warranty warranty summary warranty box number content sale package pack', 'print shape mind haker laptop skin mouse pad combo set glue free removal inch laptop skin easy apply scratch resistant lamination print shape mind haker laptop skin mouse pad combo set multicolor price print shape laptop skin made high quality vinyl sheet compatible laptop screen size ranging inch inch trimning skin would required per laptop size skin easy install remove without leaving gum residue specification print shape mind haker laptop skin mouse pad combo set multicolor general brand print shape model name mind haker laptop skin mouse pad suitable type laptop color multicolor warranty warranty summary warranty box number content sale package pack', 'print shape peacock feather laptop skin mouse pad combo set glue free removal inch laptop skin easy apply scratch resistant lamination print shape peacock feather laptop skin mouse pad combo set multicolor price print shape laptop skin made high quality vinyl sheet compatible laptop screen size ranging inch inch trimning skin would required per laptop size skin easy install remove without leaving gum residue specification print shape peacock feather laptop skin mouse pad combo set multicolor general brand print shape model name peacock feather laptop skin mouse pad suitable type laptop color multicolor warranty warranty summary warranty box number content sale package pack', 'print shape batman red superman laptop skin mouse pad combo set glue free removal inch laptop skin easy apply scratch resistant lamination print shape batman red superman laptop skin mouse pad combo set multicolor price print shape laptop skin made high quality vinyl sheet compatible laptop screen size ranging inch inch trimning skin would required per laptop size skin easy install remove without leaving gum residue specification print shape batman red superman laptop skin mouse pad combo set multicolor general brand print shape model name batman red superman laptop skin mouse pad suitable type laptop color multicolor warranty warranty summary warranty box number content sale package pack', 'print shape sony headphone laptop skin mouse pad combo set glue free removal inch laptop skin easy apply scratch resistant lamination print shape sony headphone laptop skin mouse pad combo set multicolor price print shape laptop skin made high quality vinyl sheet compatible laptop screen size ranging inch inch trimning skin would required per laptop size skin easy install remove without leaving gum residue specification print shape sony headphone laptop skin mouse pad combo set multicolor general brand print shape model name sony headphone laptop skin mouse pad suitable type laptop color multicolor warranty warranty summary warranty box number content sale package pack', 'print shape roronoa zora laptop skin mouse pad combo set glue free removal inch laptop skin easy apply scratch resistant lamination print shape roronoa zora laptop skin mouse pad combo set multicolor price print shape laptop skin made high quality vinyl sheet compatible laptop screen size ranging inch inch trimning skin would required per laptop size skin easy install remove without leaving gum residue specification print shape roronoa zora laptop skin mouse pad combo set multicolor general brand print shape model name roronoa zora laptop skin mouse pad suitable type laptop color multicolor warranty warranty summary warranty box number content sale package pack', 'print shape gentle man laptop skin mouse pad combo set glue free removal inch laptop skin easy apply scratch resistant lamination print shape gentle man laptop skin mouse pad combo set multicolor price print shape laptop skin made high quality vinyl sheet compatible laptop screen size ranging inch inch trimning skin would required per laptop size skin easy install remove without leaving gum residue specification print shape gentle man laptop skin mouse pad combo set multicolor general brand print shape model name gentle man laptop skin mouse pad suitable type laptop color multicolor warranty warranty summary warranty box number content sale package pack', 'print shape deep ambition laptop skin mouse pad combo set glue free removal inch laptop skin easy apply scratch resistant lamination print shape deep ambition laptop skin mouse pad combo set multicolor price print shape laptop skin made high quality vinyl sheet compatible laptop screen size ranging inch inch trimning skin would required per laptop size skin easy install remove without leaving gum residue specification print shape deep ambition laptop skin mouse pad combo set multicolor general brand print shape model name deep ambition laptop skin mouse pad suitable type laptop color multicolor warranty warranty summary warranty box number content sale package pack', 'print shape psychic laptop skin mouse pad combo set glue free removal inch laptop skin easy apply scratch resistant lamination print shape psychic laptop skin mouse pad combo set multicolor price print shape laptop skin made high quality vinyl sheet compatible laptop screen size ranging inch inch trimning skin would required per laptop size skin easy install remove without leaving gum residue specification print shape psychic laptop skin mouse pad combo set multicolor general brand print shape model name psychic laptop skin mouse pad suitable type laptop color multicolor warranty warranty summary warranty box number content sale package pack', 'print shape feather wheel laptop skin mouse pad combo set glue free removal inch laptop skin easy apply scratch resistant lamination print shape feather wheel laptop skin mouse pad combo set multicolor price print shape laptop skin made high quality vinyl sheet compatible laptop screen size ranging inch inch trimning skin would required per laptop size skin easy install remove without leaving gum residue specification print shape feather wheel laptop skin mouse pad combo set multicolor general brand print shape model name feather wheel laptop skin mouse pad suitable type laptop color multicolor warranty warranty summary warranty box number content sale package pack', 'print shape red heart laptop skin mouse pad combo set glue free removal inch laptop skin easy apply scratch resistant lamination print shape red heart laptop skin mouse pad combo set multicolor price print shape laptop skin made high quality vinyl sheet compatible laptop screen size ranging inch inch trimning skin would required per laptop size skin easy install remove without leaving gum residue specification print shape red heart laptop skin mouse pad combo set multicolor general brand print shape model name red heart laptop skin mouse pad suitable type laptop color multicolor warranty warranty summary warranty box number content sale package pack', 'print shape red razer logo laptop skin mouse pad combo set glue free removal inch laptop skin easy apply scratch resistant lamination print shape red razer logo laptop skin mouse pad combo set multicolor price print shape laptop skin made high quality vinyl sheet compatible laptop screen size ranging inch inch trimning skin would required per laptop size skin easy install remove without leaving gum residue specification print shape red razer logo laptop skin mouse pad combo set multicolor general brand print shape model name red razer logo laptop skin mouse pad suitable type laptop color multicolor warranty warranty summary warranty box number content sale package pack', 'print shape think positively laptop skin mouse pad combo set glue free removal inch laptop skin easy apply scratch resistant lamination print shape think positively laptop skin mouse pad combo set multicolor price print shape laptop skin made high quality vinyl sheet compatible laptop screen size ranging inch inch trimning skin would required per laptop size skin easy install remove without leaving gum residue specification print shape think positively laptop skin mouse pad combo set multicolor general brand print shape model name think positively laptop skin mouse pad suitable type laptop color multicolor warranty warranty summary warranty box number content sale package pack', 'print shape power roman reign laptop skin mouse pad combo set glue free removal inch laptop skin easy apply scratch resistant lamination print shape power roman reign laptop skin mouse pad combo set multicolor price print shape laptop skin made high quality vinyl sheet compatible laptop screen size ranging inch inch trimning skin would required per laptop size skin easy install remove without leaving gum residue specification print shape power roman reign laptop skin mouse pad combo set multicolor general brand print shape model name power roman reign laptop skin mouse pad suitable type laptop color multicolor warranty warranty summary warranty box number content sale package pack', 'print shape mountain wolf laptop skin mouse pad combo set glue free removal inch laptop skin easy apply scratch resistant lamination print shape mountain wolf laptop skin mouse pad combo set multicolor price print shape laptop skin made high quality vinyl sheet compatible laptop screen size ranging inch inch trimning skin would required per laptop size skin easy install remove without leaving gum residue specification print shape mountain wolf laptop skin mouse pad combo set multicolor general brand print shape model name mountain wolf laptop skin mouse pad suitable type laptop color multicolor warranty warranty summary warranty box number content sale package pack', 'print shape monster precious laptop skin mouse pad combo set glue free removal inch laptop skin easy apply scratch resistant lamination print shape monster precious laptop skin mouse pad combo set multicolor price print shape laptop skin made high quality vinyl sheet compatible laptop screen size ranging inch inch trimning skin would required per laptop size skin easy install remove without leaving gum residue specification print shape monster precious laptop skin mouse pad combo set multicolor general brand print shape model name monster precious laptop skin mouse pad suitable type laptop color multicolor warranty warranty summary warranty box number content sale package pack', 'print shape scare first laptop skin mouse pad combo set glue free removal inch laptop skin easy apply scratch resistant lamination print shape scare first laptop skin mouse pad combo set multicolor price print shape laptop skin made high quality vinyl sheet compatible laptop screen size ranging inch inch trimning skin would required per laptop size skin easy install remove without leaving gum residue specification print shape scare first laptop skin mouse pad combo set multicolor general brand print shape model name scare first laptop skin mouse pad suitable type laptop color multicolor warranty warranty summary warranty box number content sale package pack', 'specification print shape caution laptop skin mouse pad combo set multicolor general brand print shape model name caution laptop skin mouse pad suitable type laptop color multicolor warranty warranty summary warranty box number content sale package pack', 'print shape jurassic park laptop skin mouse pad combo set glue free removal inch laptop skin easy apply scratch resistant lamination print shape jurassic park laptop skin mouse pad combo set multicolor price print shape laptop skin made high quality vinyl sheet compatible laptop screen size ranging inch inch trimning skin would required per laptop size skin easy install remove without leaving gum residue specification print shape jurassic park laptop skin mouse pad combo set multicolor general brand print shape model name jurassic park laptop skin mouse pad suitable type laptop color multicolor warranty warranty summary warranty box number content sale package pack', 'print shape asus logo yellow stripe laptop skin mouse pad combo set glue free removal inch laptop skin easy apply scratch resistant lamination print shape asus logo yellow stripe laptop skin mouse pad combo set multicolor price print shape laptop skin made high quality vinyl sheet compatible laptop screen size ranging inch inch trimning skin would required per laptop size skin easy install remove without leaving gum residue specification print shape asus logo yellow stripe laptop skin mouse pad combo set multicolor general brand print shape model name asus logo yellow stripe laptop skin mouse pad suitable type laptop color multicolor warranty warranty summary warranty box number content sale package pack', 'print shape msi dragon logo laptop skin mouse pad combo set glue free removal inch laptop skin easy apply scratch resistant lamination print shape msi dragon logo laptop skin mouse pad combo set multicolor price print shape laptop skin made high quality vinyl sheet compatible laptop screen size ranging inch inch trimning skin would required per laptop size skin easy install remove without leaving gum residue specification print shape msi dragon logo laptop skin mouse pad combo set multicolor general brand print shape model name msi dragon logo laptop skin mouse pad suitable type laptop color multicolor warranty warranty summary warranty box number content sale package pack', 'plane switching ip technology nit typical screen mode wqhd standard refresh rate hz fhd resolution ip panel hz refresh rate vrb response time dual hdmi displayport built watt speaker amd freesync technology acer blue light filter acer flicker le technology hdr technology tilt swivel pivot height adjustable vesa mount compatible', 'experience supreme quality hd content widescreen ultra extended graphic array', 'full hd ip widescreen resolution response time refresh rate hertz pixel pitch millimeter degree wide viewing angle display color million zero frame design provides maximum visibility screen edge edge signal input hdmi dvi withhdcp vga support hdcp version monitor support hdcp picture visible using osd menu adjust brightness contrast maximum reset default setting brightness nit operating power consumption wattsstyle monitor size inch acer series wide viewing ip display show every detail clearly vivid without color difference viewing angle zero frame design put boundary visual enjoyment brushed hairline finish stand match environment full hd resolution superior million contrast ratio get detailed imagery viewing photo browsing web also make viewing document side side easy also support vga dvi hdmi input easily power extend enjoyment smartphone tablet full hd display display feature power saving technology conserve cost resource um qr aa environmental certification mpr ii', 'uhd widescreen ip display nvidia sync technology refresh rate hz overclocking hz high brightness contrast vesa certified displayhdr dci wide color gamut optimize color quantum dot technology color difference delta port display port hdmi usb port display port usb cable included fasten seatbelt predator xb ultra hd display resolution compromise gaming performance color speed inch monitor combine jaw dropping spec including ip panel support blazing fast refresh rate also featuring nvidia sync technology eliminate screen tearing provide gamers epic gaming experience help secure victory plus built eye protection ergonomics allow press forward battle without fatigue um hx aa', 'inch full hd curved widescreen va sync freesync compatible display hz refresh rate using display port response time pixel pitch mm brightness nit port display port hdmi dvi hdcp display port hdmi cable includedstyle full hd hz pattern name monitor acer ed curved panel monitor full hd resolution delivers incredible sync compatible monitor give want gaming experience smooth tear free gameplay unleash gaming maximum potential provide richer color far beyond previously possible crisp true life color come alive amazing resolution allowing enjoy high definition entertainment comfort home wide view angle technology let share screen friend family color stay true matter angle viewing incredible contrast ratio rapid response time ensure game work movie smooth look epic possible um aa', 'full hd curved widescreen va gaming monitor adaptive sync technology zero frame design speaker watt per speaker refresh rate hz response time vrb pixel pitch mm ergonomic tilt height adjustment range swivel port display port hdmi hdmi cable included', 'hd widescreen ip zero frame amd radeon free sync sync compatible monitor response time vrb refresh rate hz overclocking hz using display port speaker watt per speaker visa certified display quantum dot technology dci low delta port display port hdmi usb port includes display port usb cable size inch uhd fasten seatbelt nitro xv ultra hd display resolution compromise gaming performance color speed inch monitor combine jaw dropping spec including ip panel support blazing fast refresh rate sync compatible monitor give want gaming experience smooth tear free gameplay unleash gaming maximum potential provide richer color far beyond previously possible experience something new um hx aa', 'uhd serge color gamut hemi displayport audio mad free sync reduce tearing stuttering graphic card picture picture pbpthink big big acer stunning monitor delivers ultra hd resolution presenting stunning high quality image excellent detail bask bright boundless view movie like display cinema come life home sat screen never settle le manufacturer', 'full hd ip widescreen resolution response time pixel pitch mm signal input hdmi dvi hdcp vga brightness nit standby power consumption mwthe acer bid wide viewing ip display show every detail clearly vivid without color difference viewing angle zero frame design put boundary visual enjoyment brushed hairline finish stand match environment place product unstable cart stand table product fall could seriously damage', 'display area led backlit display aspect ratio max native resolution interface vga port adjustable display angle viewing angle horizontal vertical hertzacer hl ymdr led monitor power description input voltage ac ac standby power consumption mw mode power consumption mw operating power consumption energy star', 'hz refresh rate virtual response boost vesa mount compatible amd freesync technology million color support vga input one hdmi input two plane switching technologythe ip monitor full hd resolution aspect ratio present stunning high quality image excellent detail also hdmi vga port radeon freesync end choppy gameplay broken frame fluid artifact free performance virtually framerate fast response time enhanced gamers game experience need fiddle button easily modify monitor setting via display widget utility software', 'ultra thin inch led display come encased stylish bezel matched sturdy black base flexible height adjusted rotation stand tilt swivel optimal view includes cable management vesa wall mounting support keep thing neat tidy enjoy widely available hd digital content without image distortion expansive inch widescreen lcd series inch lcd designed high definition stunning resolution signal input hdmi dvi display portsize inch wqhd acer series monitor sport super slim profile let fit nicely space size outstanding performance eco friendliness smart use energy complement sleek design staying well within budget acer hul showcase widescreen wqhd lcd impressive resolution enjoy widely available hd digital content without image distortion expansive widescreen lcd remarkable million contrast ratio ensures crystal clear viewing experience rapid response time keep moving image sharp also support dvi hdmi input offering greater compatibility acer series lcd brings amazing multimedia experience home widescreen cinematic view unique fighter pilot style', 'hz refresh rate response time vrb brightness cd zero frame designin competitive gaming every frame matter introducing acer xv ck gaming monitor qhd resolution monitor keep game play amd radeon technology game frame rate determined graphic card fixed refresh rate monitor giving serious competitive edge plus user enjoy comfortable viewing experience gaming via flicker le low dimming comfyview display design save space desk let place multiple monitor side side build seamless big screen display um cx aa', 'inch full hd widescreen ip monitor amd radeon freesync technology response time vrb refresh rate hertz zero frame design port display port hdmi hdmi cable included', 'uhd hdr display high definition quadruple pixel full hd achieves vivid expression image detail display real clear achieve stable smooth game environment without image delay stuttering hdr deliver better visual effect flexible touch experience connect usb cable correctly complete touch support point touch win io support single point touch easy operation fast response build touch environment anytime go easy connect device full featured type function one usb cable complete touch video power supply screen appears black flash insufficient power supply need connect power adapter rich interface smart cover usb hdmi video input mm headphone jack builidng dual stereo speaker pu leather cover protect monitor use stand different view angle option wide application portable touch monitor work laptop computer mini pc raspberry pi gaming monitor perfect xbox switch main screen monitor huawei samsung description inch touch screen monitor aluminum alloy bezel high resolution aspect ratio cd brightness contrast ratio degree viewing angle view vivid clear image multi function connection laptop wide used macbook macbook pro hp notebook computer acer pc laptop io linux android window plug play making work efficiently game monitor xbox one xbox switch smartphone huawei mate mate pro mate mate pro mate pro honornote samsung note note specification panel type si tft lcd resolution rgb uhd panel size inch active area mm brightness cd typ contrast ratio typ display angle degree signal interface edp lane pin box portable monitor mini hdmi cable usb usb cable usb usb cable leather protection cover vesa screw user guide', 'inch full hd widescreen tn monitor amd radeon freesync technology hertz refresh rate response time acer visioncare technology dimension without stand inch port display port hdmi includes hdmi cable', 'full hd widescreen ip gaming monitor zero frame design speaker watt per speaker refresh rate hz response time hdr ready pixel pitch mm port display port hdmi hdmi cable included competitive gaming every frame matter introducing acer kg gaming monitor full hd resolution monitor keep game play amd radeon technology game frame rate determined graphic card fixed refresh rate monitor giving serious competitive edge plus user enjoy comfortable viewing experience gaming via flicker le low dimming comfyview display design save space desk let place multiple monitor side side build seamless big screen display um hx aa', 'product type monitor package dimension cm cm cm sturdy monitor also wide array port connect many type device package weight lb', 'response time vrb refresh rate hertz using display port hdmi port brightness nit zero frame design ergo stand ergonomically designed stand vesa mounting compliant millimeter millimeter port display port hdmi vga audio audio vga audio cable included enjoy outstanding visual experience acer cb zero frame ip monitor designed prosumers mind display feature incredible image color amd radeon free sync technology frame rate determined graphic card fixed refresh rate monitor giving serious competitive edge plus user enjoy comfortable viewing experience gaming via flicker le low dimming display design save space desk let place multiple monitor side side build seamless big screen display um hb aa', 'full hd widescreen ip display refresh rate hz using hdmi port response time tilt aopen eye protection bluelight filter flickerless technology port hdmi vga hdmi cable included', 'wqhd widescreen tn monitor amd free sync technology refresh rate hz using display port hdmi port response time zero frame design speaker watt per speaker port display port hdmi port hdmi port display port cable included competitive gaming every frame matter introducing acer xf series gaming monitor wqhd resolution monitor keep game play amd freesync technology game frame rate determined graphic card fixed refresh rate monitor giving serious competitive edge plus user enjoy comfortable viewing experience gaming via flicker le low dimming comfyview display design save space desk let place multiple monitor side side build seamless big screen display um hx aa', 'inch widescreen tn display response time brightness cd pixel pitch mm input voltage ac ac signal input dvi vga horizontal viewing angle size hd acer hql bd widescreen lcd display combine stylish ultra thin functionality amazing resolution allowing enjoy high definition entertainment comfort home incredible contrast ratio rapid response time highlight advanced technology display well hql bd lcd also feature dual input vga dvi greater compatibility kensington lock slot protect investment energy star compliance help save money energy', 'uhd widescreen ip zero frame monitor amd freesync technology color saturation dci srgb support hdr format billion color pixrl pitch mm brightness cd hz refresh rate ergonomic tilt speaker watt per speaker port display port hdmi hdmi cable included competitive gaming every frame matter introducing acer vg gaming monitor uhd resolution monitor keep game play amd radeon technology game frame rate determined graphic card fixed refresh rate monitor giving serious competitive edge plus user enjoy comfortable viewing experience gaming via flicker le low dimming comfyview display design save space desk let place multiple monitor side side build seamless big screen display um pv aa', 'series led designed high definition stunning resolution rapid response time reduces deviation transition time deliver high quality moving image bringing immersive graphic movie game dvi input high bandwidth digital content protection hdcp allows viewing digital movie copy protected medium signal input dvi hdcp vga dimension inch without stand inch stand hdmi port vesa mount sold separately stand tiltable using osd adjust brightness contrast maximum reset default setting signal input dvi hdcp vga maximum resolution standard refresh rate hz twisted nematic film tn film vesa mount hole hdmi port included interface port dvi vga standby power consumption mw mode power consumption mwsize inch style full hd configuration single acer series monitor sport super slim profile shaped stand let fit nicely space size outstanding performance eco friendliness smart use energy complement sleek design staying well within budget acer hql bbd showcase widescreen lcd impressive resolution enjoy widely available hd digital content without image distortion expansive widescreen lcd remarkable million contrast ratio ensures crystal clear viewing experience rapid response time keep moving image sharp also support vga dvi input offering greater compatibility acer series lcd brings amazing multimedia experience home widescreen cinematic view unique fighter pilot style aspect ratio viewing angle horizontal vertical brightness cd candela per square metre', 'va panel wfhd resolution hz refresh rate vrb response time hdmi vga vrb response time color saturation ntsc', 'upc weight lbsacer kg sbiip full hd hz tn led gaming monitor freesync black', 'full hd widescreen va gaming monitor zero frame design speaker watt per speaker hdr support refresh rate hz response time vrb brightness nit pixel pitch mm port display port hdmi hdmi audio hdmi cable included competitive gaming every frame matter introducing acer qg gaming monitor full hd resolution monitor keep game play amd freesync premium technology game frame rate determined graphic card fixed refresh rate monitor giving serious competitive edge plus user enjoy comfortable viewing experience gaming via flicker le low dimming comfyview display design save space desk let place multiple monitor side side build seamless big screen display um qq aa', 'full hd curved widescreen va display amd freesync technology hz refresh rate using display port response time pixel pitch mm brightness nit port display port hdmi dvi hdcp display port cable includedacer inch curved panel monitor full hd resolution delivers incredible crisp true life color come alive amazing resolution allowing enjoy high definition entertainment comfort home wide view angle technology let share screen friend family color stay true matter angle viewing amd freesync technology rapid response time ensure game work movie smooth look epic possible um ue aa using osd adjust brightness contrast maximum reset default setting', 'acer xf game like mean acer xf series monitor designed push pixel max ip technology provides wide view enhanced color srgb color gamut rapid hz refresh rate smooth action overclock refresh rate hz shortens time take frame rendering lower input lag provides gamers excellent game experience add response time got pixel power smoothed gaming slide ride amd freesync freesync technology eliminates screen tearing minimizes stuttering syncing display refresh rate frame output computer display card pc gaming get much smoother right move acer ergostand stand tilt swivel pivot height adjustment always find ideal viewing position also detach display panel use vesa mounting device needed vision protected gaming eye intensive help protect acer eyeprotect suite technology ensure eye thing get beat acer flicker le blue light filter low dimming comfyview technology combine make eye feel fine easy green entire xf line also multiple green design certification attest commitment producing product great green screen size maximum resolution full hd hz aspect ratio contrast ratio response time overclock refresh rate hz color supported million adaptive contrast management acm brightness cd squared backlight led viewing angle degree horizontal degree vertical panel type twisted nematic tn stand tilt degree degree height adj port connector hdmi displayport power mw power standby mw power power environmental certification mpr ii tearing prevention technology amd free sync vesa compatible yes mm dimension stand weight lb stand acer xf sbiipr fhd gaming monitor amd freesync', 'number screen nitro qg gaming monitor qg bii', 'full hd widescreen ip monitor amd freesync technology zero frame design adjustable full hd webcam microphone refresh rate hz response time vrb brightness nit pixel pitch mm aspect ratio million color supported tilt degree degree height adjustment range swivel pivot port display port hdmi vga usb used webcam audio audio hdmi usb cable included', 'full hd widescreen ip zero frame monitor amd radeon freesync technology refresh rate hz overclocking hz using display port response time speaker watt per speaker port display port hdmi port audio display port cable included competitive gaming every frame matter introducing acer vg gaming monitor full hd resolution monitor keep game play amd radeon technology game frame rate determined graphic card fixed refresh rate monitor giving serious competitive edge plus user enjoy comfortable viewing experience gaming via flicker le low dimming comfyview display design save space desk let place multiple monitor side side build seamless big screen display um hv aa', 'please check model picture purchase special skill technique required proper installation brand new high quality provide best service question please feel free contact used acer screen video display cable replacement pinused acer display line replacement brand new screen line applicable tg dd zrtlc ddozrtl', 'full hd widescreen ip zero frame monitor amd radeon freesync technology response time refresh rate hz high brightness contrast vesa certified displayhdr color gamut srgb speaker watt per speaker port display port hdmi hdmi cable included size inch fhd hz competitive gaming every frame matter introducing acer xv gaming monitor full hd resolution monitor keep game play amd radeon technology game frame rate determined graphic card fixed refresh rate monitor giving serious competitive edge plus user enjoy comfortable viewing experience gaming via flicker le low dimming comfyview display design save space desk let place multiple monitor side side build seamless big screen display um hx aa', 'billion color nit peak hdr mode nit native uhd speaker hdmi displayport usb black mpr ii hertzacer bm led lcd monitor free year warranty billion color nit peak hdr mode nit native uhd speaker hdmi displayport usb black mpr ii', 'wqhd widescreen ip display refresh rate hz dimension without stand inch response time acer visioncare technology port display port hdmi dvi hdcp hdmi cable included pattern name monitor style wqhd color black acer eb hqu cbidpx lcd led backlit display combine stylish functionality amazing resolution allowing enjoy high definition entertainment comfort home incredible contrast ratio rapid response time highlight advanced technology eb hqu cbidpx lcd also feature display hdmi dvi port greater compatibility um je aa brightness cd power power', 'number screen screen size class viewable screen size screen mode full hd panel technology plane switching ip technologyacer vg pbiip ag threesides ip', 'full hd widescreen ip display amd freesync technology response time vrb refresh rate hz using hdmi port brightness nit elegant ultra thin zero frame design provides maximum visibility screen edge edge ergonomic tilt port hdmi vga includes vga cable acer series wide viewing ip display show every detail clearly vivid without color difference viewing angle zero frame design put boundary visual enjoyment brushed hairline finish stand match environment amd radeon freesync technology game frame rate determined graphic card fixed refresh rate monitor giving serious competitive edge full hd resolution superior million contrast ratio get detailed imagery viewing photo browsing web also make viewing document side side easy also support hdmi vga input easily power extend enjoyment smartphone tablet full hd display um wr aa', 'response time vrb zero frame designin competitive gaming every frame matter introducing acer ka gaming monitor wqhd resolution monitor keep game play amd radeon freesync technology game frame rate determined graphic card fixed refresh rate monitor giving serious competitive edge plus user enjoy comfortable viewing experience gaming via flicker le low dimming display design save space desk let place multiple monitor side side build seamless big screen display um hx aa', 'professional ideal use office environment library computer lab series monitor connectivity technology vga package weight kilogram package dimension centimeter acer wl wide frameless display ip anti glare', 'full hd widescreen tn monitor amd freesync sync compatible hz using display port zero frame design response time speaker watt per speaker port display port hdmi visa mount standard hertzsize inch style hz fhd pattern name monitor competitive gaming every frame matter introducing acer xf series gaming monitor full hd resolution monitor keep game play validated nvidia sync compatible monitor give want gaming experience smooth tear free gameplay whole lot plus user enjoy comfortable viewing experience gaming via flicker le low dimming comfyview display design save space desk let place multiple monitor side side build seamless big screen display um hx aa viewing angle horizontal vertical', 'acer hyl bd inch led ip monitor vga dvi integrated speaker package content hyl bd widescreen lcd monitor power cord vga cableacer hyl monitor sport super slim profile shaped stand let fit nicely space size outstanding performance eco friendliness smart use energy complement sleek design staying well within budget acer monitor showcase widescreen lcd impressive resolution delivers excellent detail making perfect widescreen hd gaming multimedia productivity application', 'upc weight lbsacer yu bmiipx inch anti glare qhd max resolution ip panel aspect ration gtg response time three year limited warranty', 'uhd widescreen ip tuv eyesafe certified low blue light monitor amd freesync technology zero frame design refresh rate hz response time brightness nit pixel pitch mm aspect ratio billion color supported tilt degree degree height adjustment range swivel pivotdelve world awesome acer cbl monitor offer unmatched viewing experience featuring large screen delivers astonishing ultra hd resolution excellent detail designed prosumers mind display feature incredible image color eyesafe display intelligently manages light energy source selectively reducing blue light dispersing across light spectrum design save space desk let place multiple monitor side side build seamless big screen display um pb aa', 'display aspect ratio native maximum resolution mm pixel pitch panel type ip signal input display port hdmi portstyle wqhd fasten seatbelt acer predator xb hu wqhd display turbocharge gaming experience monitor combine jaw dropping spec ip panel support hz refresh rate delivering amazing gaming experience also featuring nvidia sync technology eliminate screen tearing provide gamers epic gaming experience help secure victory plus built eye protection ergonomics allow press forward battle without fatigue store lcd monitor room temperature', 'wqhd widescreen agile splendor ip monitor amd freesync premium technology high brightness contrast vesa certified displayhdr color gamut dci color accuracy color difference delta refresh rate hz response time brightness nit pixel pitch mm tuv eyesafe certification acer visioncare technology port display port hdmi usb port display port hdmi usb cable included', 'screen size maximum resolution contrast ratio brand acer series et model um je aa cabinet color black screen size led backlight led maximum resolution brightness nit contrast ratio aspect ratio response time display type wqhd hdmi yes', 'nit inch led package weight kilogram inch led nit', 'zero frame ip wide view angle display srgb wqhd resolution hz refresh rate response time vrb amd freesync technology hdmi displayport speakertake gaming movie next level acer nitro gaming series vg monitor feature large viewing real estate wqhd resolution delivers every bit detail everything look fantastic screen thanks fast response time hz frame rate acm contrast ratio also support freesync technology tear free stutter free gaming plus zeroframe design provides boundless view flicker le low dimming comfy view technology ensure comfortable viewing hour end', 'vga hdmi input full hd resolution dynamic contrast ratio response time gtg viewing angle', 'maximum resolution full hd hz brightness cd tearing prevention technology amd free sync', 'full hd widescreen ip gaming monitor zero frame design speaker watt per speaker refresh rate hz response time vrb brightness nit pixel pitch mm port hdmi vga audio audio hdmi cable included', 'curved display aspect ratio high brightness contrast vesa certified display response time dci wide color gamut hz refresh rate using display port hdmi zero frame design speaker watt per speaker port display port hdmi hdmi audio hdmi cable included', 'number screen viewable screen size screen mode full hd panel technology vertical alignment va response time vrb', 'qhd curved widescreen ip display refresh rate hz overclocking hz using display port port display port hdmi usb port display port hdmi usb cable includedstyle curved ultrawide qhd ip sync size inch predator designed ultimate gaming performance style aspect ratio inch curved screen transform viewing experience drawing deep action also feature nvidia sync technology eliminate screen tearing provide gamers epic gaming experience help secure victory brightness cd', 'brand new box product ship relevant accessoriesthe acer hql abd widescreen lcd display combine stylish ultra thin functionality amazing resolution allowing enjoy high definition entertainment comfort home incredible contrast ratio rapid response time highlight advanced technology display earth friendly well', 'display type widescreen lcd led backlight display area viewable max native resolution interface vga port disport displayport speaker integrated speakersthe hql abmdp widescreen led backlit lcd monitor acer feature variety display input simplifying process setting configuring monitor configured take advantage enhanced resolution provides clear sharp picture along enhanced resolution response time ensures reduced lag blur viewing movie video dynamic contrast ratio provides darker dark brighter light color display also support horizontal vertical viewing angle allowing monitor viewed variety position', 'response time vrb refersh rate hz using display port hdmi port brightness nit elegant ultra thin zero frame design provides maximum visibility screen edge edge usb type port usb type port supporting data power displayport usb video port display port hdmi includes hdmi cable usb type cableacer sa inch monitor amazing thin enclosure frameless bezel amd radeon freesync technology frame rate determined graphic card fixed refresh rate monitor giving serious competitive edge full hd resolution incredible contrast ratio let enjoy high definition entertainment comfort home enjoy accurate color performance presented ip technology vivid color every viewing angle eye protect technology also give comfortable viewing experience energy star compliance help save money energy um aa', 'uhd widescreen ip nvidia sync compatible creator monitor pantone validated high brightness contrast vesa certified displayhdr color difference delta nit brightness dci wide color gamut refresh rate hz overclocking hz using display port response time vrb port display port hdmi usb port includes display port cable usb cable display finely detailed design concept complex content conceptd cp series inch monitor uhd resolution pantone validated uhd display provides professional color accuracy delta dci enjoy pristine hdr image vesa displayhdr certification eliminate visual artifact nvidia sync compatible display um hc aa', 'inch full hd widescreen tn monitor mad freesync sync compatible hertz using display port hdmi port zero frame design response time speaker watt per speaker port display port hdmi hdmi backlight led vesa compatible yes millimeterin competitive gaming every frame matter introducing acer xf gaming monitor full hd resolution monitor keep game play sync compatible monitor give want gaming experience smooth tear free gameplay unleash gaming maximum potential provide richer color far beyond previously possible experience something new plus user enjoy comfortable viewing experience gaming via flicker le low dimming comfy view display design save space desk let place multiple monitor side side build seamless big screen display um kx aa', 'certified refurbished product certified factory refurbished show limited wear includes original accessory plus day warranty full hd resolution easily adjust display setting best suit whatever viewing data medium movie photo display amaze competitive gaming every frame matter introducing acer gaming monitor full hd resolution monitor keep game play amd radeon freesync technology game frame rate determined graphic card fixed refresh rate monitor giving serious competitive edge', 'wqhd ultrawide va display amd radeon freesync technology curved display brightness cd vesa certified display hdr hz refresh rate response time vrb zero frame design speaker watt per speaker port display port hdmi hdmi cable display port cable included', 'full hd widescreen ip display refresh rate hz response time acer visioncare technology port hdmi vga vga cable included', 'response time pixel pitch mm speaker signal input hdmi vga hertzin competitive gaming every frame matter introducing acer xf gaming monitor full hd resolution monitor keep game play amd freesync technology game frame rate determined graphic card fixed refresh rate monitor giving serious competitive edge plus user enjoy comfortable viewing experience gaming via flicker le low dimming display design save space desk let place multiple monitor side side build seamless big screen display', 'full hd widescreen ip display amd radeon freesync technology response time vrb brightness cd viewing angle degree horizontal degree vertical refresh rate hz hdmi port zero frame design ergostand ergonomically designed stand port hdmi vga vga cable included enjoy outstanding visual experience acer cb zero frame ip monitor designed prosumers mind display feature incredible image color amd radeon freesync technology frame rate determined graphic card fixed refresh rate monitor giving serious competitive edge plus user enjoy comfortable viewing experience gaming via flicker le low dimming display design save space desk let place multiple monitor side side build seamless big screen display um qb aa', 'wqhd widescreen agile splendor ip monitor amd radeon freesync premium technology refresh rate overclock hz using display port usb type response time brightness native nit hdr mode peak nit high brightness contrast vesa certified displayhdr color gamut adobe rgb color accuracy delta ergonomic tilt height adjustment range swivel pivot yes port usb type port display port hdmi audio usb port display port hdmi usb cable included competitive gaming every frame matter introducing acer xv gaming monitor wqhd resolution monitor keep game play amd radeon premium technology game frame rate determined graphic card fixed refresh rate monitor giving serious competitive edge plus user enjoy comfortable viewing experience gaming via flicker le low dimming comfyview display design save space desk let place multiple monitor side side build seamless big screen display um hx aa power power', 'acer xg monitor feature wqhd resolution presenting stunning high quality image excellent detail enhances user working efficiency creates outstanding visual enjoyment amd free sync game frame rate determined graphic card fixed refresh rate monitor eliminates screen tearing delivers smooth gaming experience fast response time enhances game experience matter fast moving action transition rendered smoothly without annoying effect smearing ghosting signal input dvi hdmi display portstyle wqhd size inch competitive gaming every frame matter introducing acer xg series gaming monitor wqhd resolution monitor keep game play amd free sync technology game frame rate determined graphic card fixed refresh rate monitor giving serious competitive edge plus user enjoy comfortable viewing experience gaming via flicker le low dimming comfy view display zero frame design save space desk let place multiple monitor side side build seamless big screen display power watt power viewing angle degree horizontal degree vertical', 'full hd curved widescreen va gaming monitor amd freesync technology aspect ratio zero frame design speaker watt per speaker refresh rate hz response time vrb pixel pitch mmacer ei cur curved panel monitor full hd ultrawide resolution delivers incredible amd radeon technology game frame rate determined graphic card fixed refresh rate monitor giving serious competitive edge crisp true life color come alive amazing resolution allowing enjoy high definition entertainment comfort home wide view angle technology let share screen friend family color stay true matter angle viewing incredible contrast ratio rapid response time ensure game work movie smooth look epic possible um aa', 'full hd widescreen ip nvidia sync compatible gaming monitor zero frame design speaker watt per speaker refresh rate hz response time vesa certified displayhdr pixel pitch mm color gamut srgb ergonomic tilt height adjustment range swivel pivot port display port hdmi audio usb port display port hdmi usb cable included fasten seatbelt predator xb full hd display resolution compromise gaming performance color speed inch monitor combine jaw dropping spec including ip panel support blazing fast hz refresh rate sync compatible monitor take gameplay next level smooth unleash gaming maximum potential provide richer color far beyond previously possible experience something new um kx aa', 'wqhd widescreen nvidia sync technology refresh rate hz overclocking hz using display port operating power consumption energy star standby power consumption mw response time pixel pitch mm flicker le technology reduces annoying screen flickering cause eye strain viewing monitor long period signal input display port hdmi panel type tn mounting type vesa standard mount interface mm mmfasten seatbelt acer predator xb hu wqhd display turbocharge gaming experience monitor combine jaw dropping spec tn panel support hz refresh rate delivering amazing gaming experience also featuring nvidia sync technology eliminate screen tearing provide gamers epic gaming experience help secure victory plus built eye protection ergonomics allow press forward battle without fatigue note kindly refer user manual usage product brightness nit viewing angle horizontal vertical stand tilt swivel height adj', 'full hd widescreen ip display portable versatile design response time lb thin port usb type video micro usb port power charging usb type cable micro usb cable included display video signal via type source device need support dp alt mode usb type video compatible device like smart phone laptop support usb type video output brightness cd', 'play win acer vg qhd gaming monitor zeroframe design reduces visual interruption multi display setup lose action perfect blend vrb response time hz refresh rate amd freesync technology gameplay fluid lag free experience also enjoy quality sound pumped two built speaker', 'amd radeon freesync hz refresh rate wqhd resolution vesa certificated displayhdr gate smooth gaming fasten seatbelt nitro xz qu curved zero frame monitor wqhd resolution delivers incredible amd radeon freesync technology game frame rate determined graphic card fixed refresh rate monitor giving serious competitive edge crisp true life color come alive amazing resolution allowing enjoy high definition entertainment comfort home wide view angle technology let share screen friend family color stay true matter angle viewing incredible contrast ratio rapid response time ensure game work movie smooth look epic possible', 'acer vg pbmiipx nitro fhd ip monitor freesync response time vrb viewing angle degree degree box hdmi cable power cord bundle includes acer vg pbmiipx nitro fhd ip monitor freesync deco gear ft universal hdmi cable awg pure copper conductor beach camera universal screen cleaner stanley surgepro nt joule outlet surge adapter night light', 'zeroframe design hz refresh rate response time high brightness contrast vesa certified displayhdr dci wide color gamut delta predator gameview mode speaker watt per speaker port display port hdmi audio usb port hdmi display port usb cable included brace predator brings whole new meaning word epic infused hz refresh speed life mimicking hdr design rippling futuristic element predator transport new realm immersion enjoy battlefield vantage point put driver seat gaming brilliance nvidia sync helm expect smooth tear free gaming new norm enjoy exceptional color purity realistic natural image thanks expanded contrast ratio color palette using vesa certificated displayhdr housed zeroframe design make near seamless look um tx aa', 'fhd widescreen nvidia sync compatible tear free gaming zero frame design display refresh rate hz response time high brightness contrast vesa certified displayhdr ergonomic tilt height adjustment range swivel pivot port display port hdmi audio usb port display port hdmi usb cable included fasten seatbelt predator xb full hd display resolution compromise gaming performance color speed inch monitor combine jaw dropping spec including ip panel support blazing fast hz refresh rate sync compatible monitor take gameplay next level smooth unleash gaming maximum potential provide richer color far beyond previously possible experience something new um kx aa', 'stunning display resolution delivers excellent detail making perfect widescreen hd gaming multimedia productivity dvi input high bandwidth digital content protection hdcp allows viewing digital movie copy protected medium rapid response time reduces deviation transition time deliver high quality moving image bringing immersive graphic movie game signal input dvi hdcp hdmi vga', 'fhd ultrawide ip display amd freesync technology zero frame design color gamut srgb refresh rate hz response time vrb brightness nit pixel pitch mm aspect ratio million color supported tilt degree degree height adjustment range swivel pivot port usb type port gen gbps supporting data power displayport usb display port hdmi usb port display port hdmi usb type cable included enjoy outstanding visual experience acer cb cu zero frame ip monitor designed prosumers mind display feature incredible image color amd freesync technology frame rate determined graphic card fixed refresh rate monitor giving serious competitive edge plus user enjoy comfortable viewing experience gaming via flicker le low dimming display design save space desk let place multiple monitor side side build seamless big screen display um rb aa', 'wqhd widescreen ip zero frame monitor amd radeon freesync technology response time vrb refresh rate hz speaker watt per speaker display dci low delta port display port hdmi usb port includes hdmi usb cable note incorrect resolution date video cause screen appear blurry screen flickering adjusting correct resolution updating video driver restart computer fix screen please refer user manual usein competitive gaming every frame matter introducing acer xv gaming monitor wqhd resolution monitor keep game play sync compatible monitor take gameplay next level smooth unleash gaming maximum potential provide richer color far beyond previously possible plus user enjoy comfortable viewing experience gaming via flicker le low dimming comfyview display design save space desk let place multiple monitor side side build seamless big screen display um hx aa brightness cd native cd peak hdr mode', 'number screen screen size screen mode full hd panel technology plane switching ip technology response time vrb', 'ip monitor full hd resolution deliver solid gaming video experience without undue strain graphic card aspect ratio present stunning high quality image excellent detail plane switching technology amd radeon freesync end choppy gameplay broken frame fluid artifact free performance virtually framerate million color support response time fast response time enhanced gamers game experience hz refresh rate delivers powerful performance get game video vga input one hdmi input two let connect digital analog device vesa mount compatible black gb snow bell usb cardacer nitro gaming series vg black ip freesync hz led monitor radeon freesync end choppy gameplay broken frame fluid artifact free performance virtually framerate full hd resolution high resolution deliver solid gaming video experience without undue strain graphic card anti glare led monitor efficient screen type us led provide precise backlighting pixel hdmi vga port let connect digital analog device response time fast response time enhanced gamers game experience hz refresh rate delivers powerful performance get game video', 'professional large format scanning accommodates reflective medium extraordinary image quality dpi resolution micro step drive technology dmax brilliant clarity detail enhanced color colortrue ii imaging system combine superior image processing fast warm led lamp epson matrixccd technology bold vibrant scan one touch color restoration epson exclusive easy photo fix technology restores faded color photo snap offer automatic dust removal batch scanning increased productivity scan multiple printed image one time save file pc mac', 'wirelessly scan smartphone tablet computer plus online cloud storage account pc mac compatible premium accounting feature automatically extract data receipt invoice export quickbooks online excel fastest scan speed class ppm imp single step technology capture side one pas total portability choose ac battery usb power wherever business take versatile scanning scan sided document receipt invoice business card id page auto document feeder quick batch scanning', 'compatible canon imageformula dr also work dr dr versatile space saving design scan wide variety document type seamless scanning', 'professional level resolution dmax wide dynamic range greater image quality powerful epson easy photo fix restore faded color photo built transparency unit dedicated light source better scan uniformity versatile scanning film holder mm negative slide transparency', 'perfection flatbed photo scanner dpi outstanding resolution enlargement built tpu scan mm slide negative medium format panoramic film digital ice technology print film one touch easy photo fix restores colour faded photo abbyy finereader sprint plus ocr optical character recognition scan copy scan mail create pdfs', 'fast scan speed ppm ipm pas duplex scanning industry leading service support year limited advance exchange program including free next business day shipping seamless compatibility includes twain isi driver easy integration existing software easily scan stack document page auto document feeder adf designed dependability peak daily duty cycle sheet', 'get organized snap scan ppm ipm single step technology capture side one pas quickly scan stack paper robust sheet auto document feeder easily accommodates multiple paper type size one batch powerful software included easy scanning intuitive epson scansmart software preview email upload cloud automatic file naming save time seamless integration software solution included twain driver allows easily incorporate data document management software easy sharing collaboration email upload popular cloud storage service dropbox evernote google drive onedrive simplified file management create searchable pdfs included optical character recognition ocr convert scanned document editable word excel file intelligent color image adjustment auto crop blank page skip background removal dirt detection paper skew correction epson image processing technology reliable paper feeding system ultrasonic double feed detection help prevent missing page paper protection help prevent damage staple versatile scanning everyday document scan extra long page business id card contract optional flatbed dock pair epson flatbed scanner scanning photo thicker medium show', 'easy use large color touchscreen make easier selection scan job shortcut well streamlined setting navigation flexible connectivity built superspeed usb wi fi network connectivity allowing local networked use plus sharing among multiple user fast efficient scan side document time color page per minute sheet automatic feeder adf high speed connectivity onboard image processing cpu bundled scanning software powerful canon captureontouch scanning software already included window mac high quality imaging enhance scanned text rotate image proper orientation straighten skewed image automatically adjust output resolution remove blank page improve readability minimize document sort time reduce file size paper size', 'fastest class ppm ipm scan speed color duplex scan side one pas reliable year warranty free next business day replacement operating system window mac portable powered via usb ac versatile scanning page automatic document feeder front loader plastic card id business card receipt seamless integration compatible software come twain isi driver color bit depth bit input bit output', 'hard working scanner help achieve maximum productivity ppm ipm scan speed duplex scanning one pas page auto document feeder allows multiple document scanning without constant supervision save time ultrasonic double feed detection determines whether two document going avoid missed page frequent paper jam scan business card rigid id card document versatile paper handling capability high volume duty cycle sheet per day offer reliable performance front control panel user definable function including scan pdf scan size bit depth color bit internal bit external button connector port interface usb workforce pro gt scanner imaging digitalization computer device peripheral hardware bitmap', 'certified refurbished product tested certified look work like new refurbishing process includes functionality testing basic cleaning inspection repackaging product ship relevant accessory minimum day warranty may arrive generic box select seller maintain high performance bar may offer certified refurbished product amazon comthis hard working scanner help achieve maximum productivity ppm ipm scan speed duplex scanning one pas page auto document feeder allows multiple document scanning without constant supervision save time ultrasonic double feed detection determines whether two document going avoid missed page frequent paper jam scan business card rigid id card document versatile paper handling capability high volume duty cycle sheet per day offer reliable performance front control panel user definable function including scan pdf scan size bit depth color bit internal bit external button connector port interface usb workforce pro gt scanner imaging digitalization computer device peripheral hardware bitmap', 'scan document quickly easily fast scanning second digitize document image thanks dpi resolution image enhancement fade correction dust reduction photo continue look great enjoy ease use ez button auto scan mode scanner automatically detects scanning built pdf button easily scan save pdf editable searchable', 'skimmer assembly kodak bell howell spectrum scanner skimmer assembly kodak bell howell spectrum scanner kodak part fit copiscan xf scanner', 'one touch color restoration epson easy photo fix technology dpi hardware resolution built mm slide filmstrip adapter complete software bundle photo enhancement hi speed usb connectivity pc mac compatibleamazon com perfection epson flatbed color photo scanner number useful feature reasonable price tag dpi maximum optical resolution bit color depth bit grayscale delivers crisp accurate true life image perfect wide variety home home office us scanning speed fast msec line dpi msec line dpi one touch scan copy scan mail scan web button help automate frequently utilized feature included mm transparency adapter accommodates negative slide three negative two slide inch scanning bed support original letter size easy photo fix technology designed photo slide restoration mind come bundled variety software application designed help get scan title include epson scan easy photo fix technology arcsoft photoimpression epson smart panel abbyy finereader sprint ocr newsoft presto bizcard weighing pound small inch footprint connects computer via usb port utilizes white cold cathode fluorescent lamp epson matrixccd line sensor consumes power pc mac compatible also come backed one year limited warranty part labor box epson perfection photo scanner mm transparency adapter built scanner lid mm film holder slide film strip cd rom epson scan software creativity productivity software electronic reference guide usb cable ac adapter power cable scanner setup poster warranty information manufacturer epson perfection photo scanner delivers innovative photo restoration capability incredible value astonishing image quality dpi hardware resolution bit color get brilliant color scan every time plus quick easy way restore favorite photo convenient built mm slide filmstrip adapter accommodates slide negative user friendly software feature epson easy photo fix technology one touch color restoration faded photo negative slide plus easy dust removal slide negative industry leading technology exclusively epson make photo restoration easier ever even automatic scanning mode optimal result one quick touch improved epson smart panel software tool necessary scan photo text graphic vivid result epson perfection photo compatible window macintosh system offer hi speed usb connectivity window great companion epson inkjet printer perfect fit home home office whether scanning document archiving slide negative restoring photo offering high quality result unique affordability user friendly performance epson perfection photo make scan look brilliant', 'stay organized easily convert paper document digital format like searchable pdf file jpegs convenient portable lightweight small size take scanner anywhere home office classroom remote office anywhere handle various medium type digitize receipt business card plastic embossed card report legal document fast efficient technical hurdle complicated setup easily scan side document time color black white page per minute sheet automatic feeder broad compatibility work window mac device laptop computer built software use scanner ease powerful scanning software already built requires installation update automatically preview scan adjust organize scanned file edit straighten trim file create button custom scanning setting destination high quality imaging leveraging technology used canon camera product save great looking output color black white grayscale sustainable design save energy environment scanner meet energy star guideline product intended scanning photograph photo paper photographic medium show', 'precise color detail get extraordinary scan dpi resolution grayscale bit depth bit per pixel internal external remarkable tonal range dmax smooth gradation fine shadow detail exclusive dual lens system selects lens optimum result operating system window window window window vista window xp window xp professional edition mac refer pdf attached technical specification user manualthe color scanner precise film photo reproduction precise scan slide film dpi dmax dual lens scanning led array digital ice film holder included scanning speed high speed mode dpi full color msec line approx monochrome msec line approx', 'fastest scan speed class ppm ipm single step technology capture side one pas versatile scanning scan sided document receipt business card plastic id convenient portability use ac power outlet usb power computer quick batch scanning stack paper page auto document feeder powerful software included easy scanning intuitive epson scansmart software preview email upload automatic file naming object recognition save time', 'get done pas sided scanning speed ppm ipm minimize downtime year limited warranty includes advance exchange free next business day replacement work smarter efficiently built sheet adf integration compatible software come twain isi driver network capable turn secure networked workgroup scanner using optional epson network scan module', 'plug scan capability captureontouch lite scanning software launch upon connection immediate scanning without installing driver imaging application handle scanning thick thin document plastic id card embossed card driver license powered usbproduct description imageformula scan tini personal document scanner ideal solution window mac environment complete built card scanning capability scanner compact size simple use high quality imaging bring sophistication mobile portable information capture storage collaboration manufacturer imageformula scan tini personal document scanner ideal solution window mac environment complete built card scanning capability scanner compact size simple use high quality imaging bring sophistication mobile portable information capture storage collaboration view larger scan tini built card scanner view larger view larger wide variety application scanner designed improve individual productivity anywhere small office home office soho large enterprise classroom traveling help meet document capture need stationary user road warrior healthcare financial service government many area scanner user conveniently execute general purpose distributed scanning task maximize business efficiency software included presto bizcard convert business card useful data searched sorted imported contact management system pagemanager mac document capture management sharing evernote window mac cloud based filing collaboration captureontouch mobile downloadable android ipad iphone isi twain window twain mac bundled software canon captureontouch software tool window mac help increase user productivity simplifying document scanning process intuitive interface enables user quickly efficiently scan document automatically distribute captureontouch software configured one touch scanning captureontouch lite software built window mac compatible allows user scan document without loading device driver software view larger compact convenient fit easily briefcase lb portable mobile built card scanner automatic document feeder adf simple use plug scan capability captureontouch lite launch upon connection immediate scanning without installing driver imaging application captureontouch pre configure repetitive scan job new intuitive user interface full auto mode one touch scanning environment mind meet energy star guideline eu rohs compliant eu weee compliant canon generation green program maximum image quality character emphasis help improve legibility auto resolution setting shadow cropping background smoothing productive flexible one pas duplex scanning sheet adf page per minute maximum scanning speed via single usb cable connection integrated card scanner plastic id card embossed card compatible comprehensive window isi twain driver mac twain driver easy integration capture content management system device sharing window mac user captureontouch allows scan directly cloud improved collaboration compatibility microsoft sharepoint evernote google doc investment protection ecarepak option available scanner ecarepak extends service beyond initial one year advanced exchange warranty period saving cost associated post purchase maintenance maximizing uptime throughout product life view larger box main unit two usb cable setup disk reference guide ecarepak brochure warranty card supplement auto start switch supplement call center find best canon scanner currently viewing accessory wu wireless adapter battery pack carrying case separation pad wu wireless adapter battery pack separation pad feed roller soft carrying case ac adapter usb cable canon sku monochrome speed dpi ltr portrait ppm ipm ppm ipm color speed dpi ltr portrait ppm ipm ppm ipm adf capacity sheet sheet interface usb usb bundled software mac window android ipad iphone captureontouch captureontouch lite bizcard evernote isi twain twain captureontouch captureontouch lite bizcard pagemanager evernote captureontouch mobile downloadable isi twain twain suggested daily volume scan scan', 'fast scan speed leader image capturing technology ppm ipm pas duplex scanning scan send one touch three dedicated quick send button registered presets allow user scan send without using pc built network interface easy workgroup sharing send scan computer network designed dependability enhanced feature including paper protection dirt detection peak daily duty cycle sheet scan online storage account email scan directly network folder ftp ftp sharepoint easily scan stack document page auto document feeder adf color lcd display panel industry leading service support year limited warranty advance exchange program including free next business day shipping effortlessly manage document create searchable pdfs save cloud service account create editable file ocr software included document capture pro seamless compatibility document management system includes twain isi driver easy integration existing software versatile paper handling scan business id card single sheet folded page show', 'versatile scanning auto duplex scanning auto document feeder adf plus flatbed photo id passport fragile item scan stack document ppm feature page adf standard connectivity rj baset basetx year limited warranty includes advance exchange free next business day replacement minimize downtime seamless compatibility includes twain isi driver easy integration existing software scan online storage account intuitively scan dropbox sharepoint evernote google drive epson document capture software intelligent color image adjustment auto crop skew correction blank page background removal epson image processing technology scan original variety size flatbed using adf', 'pro quality color detail get unparalleled scan dpi resolution adv remarkable tonal range dmax smooth gradation fine shadow detail exclusive dual lens system selects lens optimum result operating system window window window window vista window xp window xp professional edition mac', 'amazing miniature film scanner one device let scan view edit convert save old super monochrome negative slide turn old picture sharp clear detailed color black white jpeg file multiple adapter fast loading enjoy maximum compatibility ease conversion variety adapter designed fast continuous loading improve quality mp adjustable brightness color reverse flip updated user interface lcd dedicated scan home button provide easy one press scanning quicker menu navigation view edit current slide gallery picture color display internal memory hold mb memory new millennium use sd card gb included perfect enhancing printing old photo sharing old film format social medium international adapter extended accessory pack includes universal power source eu uk cleaning wand usb cable tv cable power adapter view image big screen tv etc', 'ppm ipm scan speed scan side one sheet one pas page auto document feeder ship certified frustration free packaging', 'scan printed photo wallet size inch scan photographic negative delivers crisp clear positive image ready upload printing emailing scanner card reader ship gb microsd card sd adapter make sure plenty space hold photo scan printed photo high resolution dpi selectable dpi ultra portable battery powered aaa battery included allow take go', 'scan page per minute connects usb handle variety document type business card ledger sized long document thick thin document scan size double feed detection prevention', 'high quality scanning photo document dpi optical resolution amazing clarity detail preserve priceless memory restore archive share family photo generation come scan google drive cloud service epson document capture pro easy photo scan software included convenient easy use button scan job plus space saving built kickstand vertical placement scan sized print document artwork arcsoft scan stitch deluxe included restore color faded photo one click easy photo fix technology make simple scan book photo album high rise removable lid remove dust scanned photo advanced digital dust correction convert scanned document editable text optical character recognition ocr software included usb powered ac adapter required show', 'manufacturer eastman kodak company', 'designed use epson xl scanner positive negative mm film slide medium format maximum frame size mm epson high quality lamp faster film scanning simple install year warrantyproduct description epson scanner transparency adapter amazon com getting film transparency scanned correctly pain need transparency adapter like one epson designed work epson xl scanner adapter accepts positive negative mm film medium format transparent medium inch inch size fit perfectly xl scanning surface help get perfectly aligned scan every time batch scanning snap adapter hold mm negative mm slide eight inch transparency six medium format transparency moving carriage type transparency adapter also feature epson high quality lamp faster film scanning designed convenience quality adapter also come backed one year limited warranty box transparency unit documentation', 'wirelessly scan critical document scan send receipt statement business plastic card smartphone tablet mac pc popular cloud service lightweight travel friendly lb get portability need capture data road battery usb power source scan popular cloud service scan google drive evernote sharepoint onenote sugarsync dropbox output resolution dpi create editable text searchable pdfs ocr document management suite included pdf pdf file connect document management software twain driver supported note refer instructional video user manual use highly essential', 'stay organized easily convert paper document searchable digital format reliably handle many different document type receipt photo business card report contract long document thick thin document fast efficient scan side document time color page per minute sheet automatic feeder one touch operation broad compatibility window mac twain driver included easy setup simply connect computer using supplied usb cable bundled software includes easy use canon captureontouch scanning software win mac plus free license readiris pdf ocr software cardiris business card software win backed one year based technical supportthe canon imageformula scanner easy set use allows user increase productivity organization home office quickly convert paper document searchable digital file using bundled software', 'usb cable powered ppm ppm color sheet adf isi twain compatible lightweight lb extremely portable compact size practical liberates document capture taking beyond wall office convenience user location product description canon line imageformula series personal scanner allow small office home office soho user telecommuters road warrior improve personal efficiency individual productivity highly portable mobile small easy use scanner individual shared use general purpose distributed scanning task convenience location manufacturer view larger imageformula personal document scanner compact size simple use advanced feature set liberates document capture taking beyond wall office convenience user location scanner combine practicality productivity value sleek mobile design view larger scanner also known scan tini designed professional improve personal efficiency individual productivity office transit small office home office soho user occasional traveler employee frequently travel scanner offer advanced feature meet document capture need stationary user road warrior scanner canon first entry personal scanner market well first usb powered professional grade document scanner capable operating using single usb cable connected pc window user plug scan due embedded canon captureontouch lite window software scanner designed canon initiative take environmentally people conscious approach product design life cycle scanner meet energy star program guideline energy efficiency also complies rohs weee directive reduction hazardous substance waste product note model provide setting option power management wide variety application forward thinking feature small design enable user across variety industry sector simplify conveniently execute general purpose distributed scanning task maximize business efficiency setting small office home office employee go compact convenient view larger inch long weighing slightly two pound fit easily briefcase affords user portable mobile opportunity document capture go simple use quick connectivity minimal setup us electrical power via single usb cable connected pc tight interface hardware software immediately launch canon captureontouch lite window plug scan capability productive practical one pas duplex scanning batch sheet page per minute color black white view larger software connectivity captureontouch lite window window isi twain driver mac twain driver included easy sharing use window mac environment easy hardware integration third party enterprise content management ecm software advanced feature flexibility flexibility scanner masked simple design skip blank page advanced text enhancement ii rapid recovery decrease preparation time increase image quality widen variety document type scanned faster intelligent long term storage retrieval system box main body ft usb cable ft power supply usb cable separation pad warranty card canada reference guide registration card application software setup dvd disclaimer scanning speed example based typical setting rated page image per minute letter sized document portrait feeding direction dpi one usb cable ac adapter two usb cable actual processing speed may vary based pc performance application software productdescription color word wrap break word font size small line height initial margin em px em px productdescription feature div default color cc font size medium margin em productdescription feature div book color important font size px important line height padding bottom px font weight normal margin px productdescription feature div softlines color important font size px important line height padding bottom px font weight bold margin px productdescription productdescription div productdescription table margin em productdescription margin em em em productdescription font weight normal color font size em clear left margin em px em px productdescription table border collapse inherit important margin bottom productdescription table img max width inherit important productdescription table td font size small vertical align inherit important productdescription ul li margin px productdescription ul li ul list style type disc important margin left px important productdescription ul ul li list style type disc important margin left px important productdescription ul ul li list style type disc important productdescription ul li ul li margin px productdescription aplus margin em productdescription small font size smaller productdescription proddescwidth max width px jquery execute function productdescription table function var width attr width width width px else width auto cs width width var padding attr cellpadding padding padding px else padding px cs padding padding productdescription margin em px em px', 'receipt management software included subscription required automatically accurately extract categorizes key data receipt easily integrate financial software choice export receipt data quickbooks quicken turbotax excel csv ultimate connectivity wireless ghz scanning plus usb port easily scan large batch robust page auto document feeder accommodates stack paper varying size quickly scan two side single step technology capture side sheet paper one pas fast ppm ipm scan directly usb memory drive intuitive touchscreen convenient usb port computer required organize business contact easily scan business card manage contact information included newsoft presto bizcard bonus software create editable searchable pdfs includes kofax power pdf window pdf converter mac bonus software scan destination choice cloud storage service dropbox evernote google drive onedrive included twain driver easy integration document management software enjoy amazing image quality intelligent image adjustment automatic cropping blank page deletion background removal dirt detection paper skew correction staple protection show', 'scan color monochrome color depth bitdr networked document scanner built wi fi wired ethernet usb connection networked local operation feeder capacity sheet scan ppm see brochure detail year warranty included advanced exchange service', 'world fastest personal photo scanner scan thousand photo fast photo per second dpi preserve priceless photo safe touch technology worry free scanning upto inch wide plus postcard polaroid photo panorama second generation epson fast foto software scan restore organize share precious memory offer intelligent file organization tool flexible scanning offer mode easy sharing dpi archiving dpi tiff enlarging dpi handle multiple size one batch powerful document scanning includes epson scansmart software ocr scan receipt tax record will upto ppm ipm easy connect includes usb wireless connectivity flexible placement perfect picture imaging system bring new life old photo auto enhancement color restoration red eye reduction de skew crop rotate easy auto upload backup instantly share memory scan via dropbox google drive single step technology capture image handwritten note back single scan operating temperature degree degree degree degree', 'film jpeg second powerful mp kodak film scanner convert old mm super mm negative slide jpeg digital file note scanza convert film mm super mm negative large bright tft lcd high definition built color display feature adjustable brightness convenient tilt easy operation image viewing adapter everything unit arrives multiple film insert adapter fast flexible operation big one touch button allow one step scan save intuitive user interface includes helpful tray insert directory easily edit image rgb resolution browse gallery sd card included support gb cable extra included mac pc compatible converter come usb power cable hdmi cable ac adapter video cable free film cleaning brush use included brush also clean light box dust speckle avoid mark scanned image', 'ccsi canoscan flatbed scanner sold eacanoscan flatbed scanner dpi sleek fast powerful scanner impress first time push power delivers dpi resolution rich detailed scan every time high luminance white led lamp eliminate need warm time start scanning right away handle multiple medium including mm slide filmstrips negative mm film plain paper photo built fare retouching technology help enhance final image operating system compatibility mac window xp vista scan size bit depth color bit color bit grayscale button', 'send photo memory slide pc new kodak low re film scanner tool let view edit convert old mm film negative color black white slide digital file jpeg tiff save directly pc mac advanced editing single touch simple use capture software dedicated scan button allow fast effortless operation rotate mirror adjust color balance brightness right computer screen convenient easy load film insert quick feeding tray technology allows continuous loading action much faster film scanner view edit upload share hundred film slide single session image interpolation resizes scale megapixel sensor capture picture digitally enlarges standard pixel pixel decent image quality cherished photograph supersized adapter cleaning brush included interchangeable tray scan film thinner plastic slide thicker cardboard slide max compatibility also includes usb connector bonus cleaning tool dusting film scanner', 'see old memory come life cool tabletop film scanner let view old negative slide positive smartphone scan save share friend includes collapsible cardboard platform film tray battery powered led backlight subtle illumination eco friendly functionality old photo type complicated scanning device expensive digitization service fun cutesie little box let play around hour without headache professional conversion compatible mm color film negative mm black white film negative mm color slide great experimentation thinking converting old photo real affordable scanner mostly play lot working feature use practice includes free android app scanning editing sharing internal led backlight tray slide film scan platform smartphone convenient collapsing design platform tray fold break convenient collapsing design platform tray fold break size small box effortless storage travel perfect portable companion fun afternoon mom grandma kid cardboard construction keep thing light great nostalgic gift people age tech savvy required super easy operate load film onto tray place lens hole tap screen focus capture note resolution vary depending slide camera quality image come blurry remember tap screen auto focus keep trying toy great pic possible', 'color flatbed scanner inch scan surface dpi hardware resolution bit internal bit external color usb hi speed interface cable included usb powered ac adapter required lid expansion top bulky item canoscan toolbox software pc mac compatible', 'compatible dr dr ii canon number scanner accessory', 'old memory come life personal slide viewer provides glimpse past enlarging lighting mm slide film negative enjoy powerful backlit light box large viewing area feature ultra bright daylight led illumination render image vivid crystal clear detail triple magnification since slide film super small built magnifier lens enlarges image without distortion blurriness loss detail pop slide see dedicated slide slot film input allow load look instant quick eject button remove slide next incredible portability convenient battery operation let view old slide anywhere world also dc powered dc cable sold separately', 'product type personal computer package quantity package dimension country origin china see product detail', 'lenovo sql server license medium reseller option kit rok core', 'ultra thin design oculus quest unlike many heavy face cover mm lighter vr face pad make long time vr gaming hygienic shared family friend note fit quest enhanced field view using ergonomic accessory design closer display providing wider field view tighter connection dust proof lens cover cover prevents scratch shock use damage vr glass keep clean long time provide clearer vision unique anti skid texture professional soft silicone mask special texture beautiful anti skid anti sweat function premium material made high grade environmentally friendly silicone durable soft non slip sweat proof washable', 'fit wide standard equipment free standing rack stable secure equipment light weight durable premium quality craftsmanship lb capacity assembled size server square screw hole also screw cage nut included', 'package dimension centimeter package weight kilogram country origin china see product detail', 'dell poweredge sliding ready rail kit compatible dell poweredge rackmount server', 'country origin china', 'ethernet converter usr tcp serial ethernet tcp ip converter bidirectional data transparent transmission based arm processor internally integrated tcp ip protocol built web server webpage configuration user modify webpage support dhcp client automatically obtain ip address query ip address serial device server tcp ip converter tcp work tcp client tcp server udp client udp server mode work lan also work internet external network', 'xeon silver ghz core mb cache ram gb slot matrox way', 'dell poweredge server security silver bezel including key compatible dell poweredge xd xd server', 'fit wide standard equipment install depth post post movable rack make equipment flexible convenient connect world light weight durable premium quality craftsmanship yet heave duty lb capacity assembled size caster base depth adjusts increment serve square screw hole also screw cage nut included', 'upc weight lb sff gb gb brand dell see product detail', 'dell poweredge sliding ready rail kit compatible dell poweredge xd rackmount server', 'fit model dell poweredge tower server compatible pn kp kp receive heatsink ensure compatible model check picture detail']\n"
          ],
          "name": "stdout"
        }
      ]
    },
    {
      "cell_type": "code",
      "metadata": {
        "colab": {
          "base_uri": "https://localhost:8080/"
        },
        "id": "W_8sXn97VP6t",
        "outputId": "ac9a0b1a-611f-4ba3-fcb7-a92ad4934dbd"
      },
      "source": [
        "id_desc= dict(zip(id, desc))\n",
        "print(id_desc)"
      ],
      "execution_count": null,
      "outputs": [
        {
          "output_type": "stream",
          "text": [
            "{1: 'tp link mbps universal wifi flipkart com genuine product day replacement guarantee free shipping cash delivery', 2: 'netgear ac dual band gigabit wi fi router flipkart com genuine product day replacement guarantee free shipping cash delivery', 3: 'zyxel nbg simultaneous dual band wireless ac flipkart com genuine product day replacement guarantee free shipping cash delivery', 4: 'trendnet tew brm flipkart com genuine product day replacement guarantee free shipping cash delivery', 5: 'iball wra gt flipkart com genuine product day replacement guarantee free shipping cash delivery', 6: 'zyxel flipkart com genuine product day replacement guarantee free shipping cash delivery', 7: 'huawei hg flipkart com genuine product day replacement guarantee free shipping cash delivery', 8: 'cubetek airmobi iplay wifi music router flipkart com genuine product day replacement guarantee free shipping cash delivery', 9: 'iball ib wrh mbps wireless home router flipkart com genuine product day replacement guarantee free shipping cash delivery', 10: 'tp link tl mr wireless router flipkart com genuine product day replacement guarantee free shipping cash delivery', 11: 'apple hn flipkart com genuine product day replacement guarantee free shipping cash delivery', 12: 'intex flipkart com genuine product day replacement guarantee free shipping cash delivery', 13: 'tp link tl wdr wireless dual band gigabit router flipkart com genuine product day replacement guarantee free shipping cash delivery', 14: 'tenda te ah flipkart com genuine product day replacement guarantee free shipping cash delivery', 15: 'asus rt wireless cloud flipkart com genuine product day replacement guarantee free shipping cash delivery', 16: 'netgear wireless adsl modem router mobile broadband edition dgn flipkart com genuine product day replacement guarantee free shipping cash delivery', 17: 'link dir wireless cloud router flipkart com genuine product day replacement guarantee free shipping cash delivery', 18: 'zyxel nwa poe access point flipkart com genuine product day replacement guarantee free shipping cash delivery', 19: 'tp link tl wr nd mbps wireless router flipkart com genuine product day replacement guarantee free shipping cash delivery', 20: 'asus dsl flipkart com genuine product day replacement guarantee free shipping cash delivery', 21: 'belkin basic surf router flipkart com genuine product day replacement guarantee free shipping cash delivery', 22: 'linksys smart wi fi router flipkart com genuine product day replacement guarantee free shipping cash delivery', 23: 'belkin play max modem router flipkart com genuine product day replacement guarantee free shipping cash delivery', 24: 'netgear wireless dual band gigabit adsl modem router dgnd flipkart com genuine product day replacement guarantee free shipping cash delivery', 25: 'netgear wndr wireless dual band gigabit router flipkart com genuine product day replacement guarantee free shipping cash delivery', 26: 'asus rt lx mbps wireless router flipkart com genuine product day replacement guarantee free shipping cash delivery', 27: 'asus dsl wireless adsl modem router flipkart com genuine product day replacement guarantee free shipping cash delivery', 28: 'link dir flipkart com genuine product day replacement guarantee free shipping cash delivery', 29: 'trendnet wireless router flipkart com genuine product day replacement guarantee free shipping cash delivery', 30: 'asus ea dual band wireless gigabit ap wi fi bridge ra flipkart com genuine product day replacement guarantee free shipping cash delivery', 31: 'digisol mbps wireless adsl broadband router flipkart com genuine product day replacement guarantee free shipping cash delivery', 32: 'trendnet tew dru flipkart com genuine product day replacement guarantee free shipping cash delivery', 33: 'tenda mbps support ieee gigabit poe injector te poe flipkart com genuine product day replacement guarantee free shipping cash delivery', 34: 'netgear ac wi fi range extender flipkart com genuine product day replacement guarantee free shipping cash delivery', 35: 'ubiquiti uap ac flipkart com genuine product day replacement guarantee free shipping cash delivery', 36: 'asus wireless adsl modem router flipkart com genuine product day replacement guarantee free shipping cash delivery', 37: 'asus rt multi functional gigabit wireless storage printer medium server router flipkart com genuine product day replacement guarantee free shipping cash delivery', 38: 'tenda te adsl modem router usb port flipkart com genuine product day replacement guarantee free shipping cash delivery', 39: 'tp link tdw flipkart com genuine product day replacement guarantee free shipping cash delivery', 40: 'leoxsys leo flipkart com genuine product day replacement guarantee free shipping cash delivery', 41: 'huawei mbps mini wireless router cum repeater flipkart com genuine product day replacement guarantee free shipping cash delivery', 42: 'iball wr flipkart com genuine product day replacement guarantee free shipping cash delivery', 43: 'huawei mbps wireless range extender flipkart com genuine product day replacement guarantee free shipping cash delivery', 44: 'edimax br flipkart com genuine product day replacement guarantee free shipping cash delivery', 45: 'izotron wr pocket router flipkart com genuine product day replacement guarantee free shipping cash delivery', 46: 'tp link tl wa mbps wireless range extender flipkart com genuine product day replacement guarantee free shipping cash delivery', 47: 'onnet ocurro wifi router flipkart com genuine product day replacement guarantee free shipping cash delivery', 48: 'zyxel data card flipkart com genuine product day replacement guarantee free shipping cash delivery', 49: 'setu infocom port fxo gateway flipkart com genuine product day replacement guarantee free shipping cash delivery', 50: 'binatone wr mbps wireless router flipkart com genuine product day replacement guarantee free shipping cash delivery', 51: 'belkin dual band wireless range extender flipkart com genuine product day replacement guarantee free shipping cash delivery', 52: 'wi bridge wr flipkart com genuine product day replacement guarantee free shipping cash delivery', 53: 'tp link tl wr flipkart com genuine product day replacement guarantee free shipping cash delivery', 54: 'comfast cf wr flipkart com genuine product day replacement guarantee free shipping cash delivery', 55: 'asus rt wireless one printer server router flipkart com genuine product day replacement guarantee free shipping cash delivery', 56: 'trendnet tew hre flipkart com genuine product day replacement guarantee free shipping cash delivery', 57: 'netgear jnr wireless gigabit router flipkart com genuine product day replacement guarantee free shipping cash delivery', 58: 'zoook flipkart com genuine product day replacement guarantee free shipping cash delivery', 59: 'link dsl flipkart com genuine product day replacement guarantee free shipping cash delivery', 60: 'netgear ac nighthawk smart wifi router flipkart com genuine product day replacement guarantee free shipping cash delivery', 61: 'huawei mbps wireless router flipkart com genuine product day replacement guarantee free shipping cash delivery', 62: 'belkin wireless dual band travel router flipkart com genuine product day replacement guarantee free shipping cash delivery', 63: 'netgear wn rp universal dual band wi fi range extender flipkart com genuine product day replacement guarantee free shipping cash delivery', 64: 'linksys ea dual band ac hd video pro flipkart com genuine product day replacement guarantee free shipping cash delivery', 65: 'tp link mbps wireless ap client flipkart com genuine product day replacement guarantee free shipping cash delivery', 66: 'tp link tl wa flipkart com genuine product day replacement guarantee free shipping cash delivery', 67: 'belkin adsl wireless router modem flipkart com genuine product day replacement guarantee free shipping cash delivery', 68: 'netgear mbrn mobile broadband wireless router flipkart com genuine product day replacement guarantee free shipping cash delivery', 69: 'tenda te pw flipkart com genuine product day replacement guarantee free shipping cash delivery', 70: 'link dir one mobile companion router flipkart com genuine product day replacement guarantee free shipping cash delivery', 71: 'asus rt wireless gigabit router flipkart com genuine product day replacement guarantee free shipping cash delivery', 72: 'link dir wireless ac dual band router flipkart com genuine product day replacement guarantee free shipping cash delivery', 73: 'digisol dg bg flipkart com genuine product day replacement guarantee free shipping cash delivery', 74: 'vodafone flipkart com genuine product day replacement guarantee free shipping cash delivery', 75: 'tenda te fh wireless high power ac dual band gigabit wifi router flipkart com genuine product day replacement guarantee free shipping cash delivery', 76: 'link dap qrs app io android specification link dap white speed wireless speed mbps dsl modem speed mbps general brand link box extender plug model dap type range extenders repeater color white warranty covered warranty damage warranty summary year service type damage covered warranty damaged repair dimension weight connectivity number antenna number usb port antenna internal supported protocol standard ieee ieee operating condition operating humidity operating non condensing storage non condensing temperature operating storage degree additional feature certification fcc ic ce', 77: 'toto link mbps wireless soho fiber router flipkart com genuine product day replacement guarantee free shipping cash delivery', 78: 'lava router flipkart com genuine product day replacement guarantee free shipping cash delivery', 79: 'belkin basic router flipkart com genuine product day replacement guarantee free shipping cash delivery', 80: 'tp link archer ac wireless dual band router flipkart com genuine product day replacement guarantee free shipping cash delivery', 81: 'belkin play max router flipkart com genuine product day replacement guarantee free shipping cash delivery', 82: 'tenda mbps high power wireless router fixed dbi antenna lan wan port te fh flipkart com genuine product day replacement guarantee free shipping cash delivery', 83: 'belkin share modem router flipkart com genuine product day replacement guarantee free shipping cash delivery', 84: 'tp link port cable dsl tl flipkart com genuine product day replacement guarantee free shipping cash delivery', 85: 'aeoss mbps wireless multifunction mini router repeater lan port wall powered flipkart com genuine product day replacement guarantee free shipping cash delivery', 86: 'smc wbr flipkart com genuine product day replacement guarantee free shipping cash delivery', 87: 'netis wf wireless router flipkart com genuine product day replacement guarantee free shipping cash delivery', 88: 'edimax br nc flipkart com genuine product day replacement guarantee free shipping cash delivery', 89: 'iball extreme wireless router flipkart com genuine product day replacement guarantee free shipping cash delivery', 90: 'link dir wireless router flipkart com genuine product day replacement guarantee free shipping cash delivery', 91: 'wi bridge apw flipkart com genuine product day replacement guarantee free shipping cash delivery', 92: 'zyxel pla mbps powerline wireless extender single pack flipkart com genuine product day replacement guarantee free shipping cash delivery', 93: 'tenda wireless easy setup router flipkart com genuine product day replacement guarantee free shipping cash delivery', 94: 'trendnet wireless home router flipkart com genuine product day replacement guarantee free shipping cash delivery', 95: 'zyxel vmg vdsl wireless vdsl port gateway usb flipkart com genuine product day replacement guarantee free shipping cash delivery', 96: 'netis pa flipkart com genuine product day replacement guarantee free shipping cash delivery', 97: 'tp link wireless dual band flipkart com genuine product day replacement guarantee free shipping cash delivery', 98: 'leoxsys leo ad flipkart com genuine product day replacement guarantee free shipping cash delivery', 99: 'edimax br wireless router flipkart com genuine product day replacement guarantee free shipping cash delivery', 100: 'binatone wr flipkart com genuine product day replacement guarantee free shipping cash delivery', 101: 'tp link tl wr mbps wireless nano router flipkart com genuine product day replacement guarantee free shipping cash delivery', 102: 'link dap wireless range extender flipkart com genuine product day replacement guarantee free shipping cash delivery', 103: 'zyxel pla flipkart com genuine product day replacement guarantee free shipping cash delivery', 104: 'netgear wn rp universal wi fi range extender flipkart com genuine product day replacement guarantee free shipping cash delivery', 105: 'edimax ar wna flipkart com genuine product day replacement guarantee free shipping cash delivery', 106: 'tp link ac wi fi range extender flipkart com genuine product day replacement guarantee free shipping cash delivery', 107: 'asus rp dual band wireless range extender flipkart com genuine product day replacement guarantee free shipping cash delivery', 108: 'asus dsl wireless gigabit router flipkart com genuine product day replacement guarantee free shipping cash delivery', 109: 'digisol mbps wireless green broadband router flipkart com genuine product day replacement guarantee free shipping cash delivery', 110: 'tenda mbps wireless router fixed antenna lan wan port flipkart com genuine product day replacement guarantee free shipping cash delivery', 111: 'tp link ac white price ac wireless dual band gigabit adsl modem router broadcom ac mbps ghz mbps ghz ge port usb port usb port detachable antenna annex adsl splitter ac wireless dual band gigabit adsl modem router broadcom ac mbps ghz mbps ghz ge port usb port usb port detachable antenna annex adsl splitter', 112: 'comfast cf wr mbps wifi repeater network range expander high gain dbi antenna rtl rtl er dual cpu flipkart com genuine product day replacement guarantee free shipping cash delivery', 113: 'asus rt uhp high power wireless router ap range extender flipkart com genuine product day replacement guarantee free shipping cash delivery', 114: 'asus dsl wireless adsl modem flipkart com genuine product day replacement guarantee free shipping cash delivery', 115: 'airtel flipkart com genuine product day replacement guarantee free shipping cash delivery', 116: 'netgear flipkart com genuine product day replacement guarantee free shipping cash delivery', 117: 'smartpower portable mini rechargeable fan usb usb fan green price small wonder hurl mini storm charge battery enjoy gush air rechargeable usb mini fan must work hot place travel hot city excellent usb gadget work usb cable provided well battery provided chargeable battery last upto hour depending upon speed three speed setting extremely strong built must usb gadget air throwing reduces little powered usb small wonder hurl mini storm charge battery enjoy gush air rechargeable usb mini fan must work hot place travel hot city excellent usb gadget work usb cable provided well battery provided chargeable battery last upto hour depending upon speed three speed setting extremely strong built must usb gadget air throwing reduces little powered usb', 118: 'sygtech cl cb usb rechargeable cigarette lighter online sygtech cl cb usb rechargeable cigarette lighter best price free shipping cash delivery genuine product day replacement guarantee', 119: 'shadowfax handheld mini air conditioner mini cooler usb usb fan pink price handheld mini air conditioner fan usb portable cooler small fan cool air revolutionary evaporative cooling fan closest thing hand held mini air conditioner use outdoors keep indoors desk fan provides gentle cool breeze us evaporative cooling technology add water soak cooling filter ambient air forced wet cooling filter cool work best dry hot climate fully portable mobile take literally anywhere want rotatable turbine wheel allows adjustment cool breeze air humidifies air make breathing comfortable alleviates allergy variable power control stand flat surface comfortable adjustable leather strap ergonomically designed user friendly easy use environmentally friendly specification xaa battery allow hour portable operation connect usb cable included continuous operation includes dedicated ml water bottle usb cable cooling filter best hot flash home office use camping outdoor sport watching game mere oz battery loaded cooling filter life expectancy year patent pending small fan cool air run aa battery usb power adjustable analog speed control cooling fan utilizes db whisper soft turbine system perfect desk fan office outdoor living degree vertical airflow control flat bottom surface allows easy transformation hand held fan desk fan blow cool breeze ever go portable convenient package content handheld mini air conditioner fan usb portable cooler usb cable ml water bottle water cooled sponge warm tip item need pad washed upon arrival handheld mini air conditioner fan usb portable cooler small fan cool air revolutionary evaporative cooling fan closest thing hand held mini air conditioner use outdoors keep indoors desk fan provides gentle cool breeze us evaporative cooling technology add water soak cooling filter ambient air forced wet cooling filter cool work best dry hot climate fully portable mobile take literally anywhere want rotatable turbine wheel allows adjustment cool breeze air humidifies air make breathing comfortable alleviates allergy variable power control stand flat surface comfortable adjustable leather strap ergonomically designed user friendly easy use environmentally friendly specification xaa battery allow hour portable operation connect usb cable included continuous operation includes dedicated ml water bottle usb cable cooling filter best hot flash home office use camping outdoor sport watching game mere oz battery loaded cooling filter life expectancy year patent pending small fan cool air run aa battery usb power adjustable analog speed control cooling fan utilizes db whisper soft turbine system perfect desk fan office outdoor living degree vertical airflow control flat bottom surface allows easy transformation hand held fan desk fan blow cool breeze ever go portable convenient package content handheld mini air conditioner fan usb portable cooler usb cable ml water bottle water cooled sponge warm tip item need pad washed upon arrival', 120: 'orcel good quality portable flexible usb usb fan online orcel good quality portable flexible usb usb fan best price free shipping cash delivery genuine product day replacement guarantee', 121: 'dragon super fast mini hi speed rechargeable usb usb fan online dragon super fast mini hi speed rechargeable usb usb fan best price free shipping cash delivery genuine product day replacement guarantee', 122: 'tapawire led indicator port ushubl usb usb hub online tapawire led indicator port ushubl usb usb hub best price free shipping cash delivery genuine product day replacement guarantee', 123: 'gem lr gold mobile mp usb usb cable black price sure match fashion electronics black color data cable latest collection great pick valuable currency perfectly compatible smart phone mobile phone nokia samsung motorola huwai micromax lava karbonn etc data cable lend high end result attractive feature data cable helpful charging phone transferring data pc laptop mobile phone vice versa lay hand high end production brand make work easy sure match fashion electronics black color data cable latest collection great pick valuable currency perfectly compatible smart phone mobile phone nokia samsung motorola huwai micromax lava karbonn etc data cable lend high end result attractive feature data cable helpful charging phone transferring data pc laptop mobile phone vice versa lay hand high end production brand make work easy', 124: 'sahibuy fan lamp white hy usb usb fan white price usb power cooling lighting one device home office led usb desk lamp fan portable multi directional light fan powered via usb great personal lighting cooling solution use notebook desktop computer convenient use lamp fan individual switch adjustable goose neck use either angle need get better lighting portable cooling work computer led usb desk lamp fan energy saving lamp cum fan adjustable flexible neck enough adjust comfort soft fan blade safety conveniently powered usb usb hub dimension cm lxwxh approx weight approx usb wire length cm long approx box usb fan cum table lamp requires aaa battery included usb power cooling lighting one device home office led usb desk lamp fan portable multi directional light fan powered via usb great personal lighting cooling solution use notebook desktop computer convenient use lamp fan individual switch adjustable goose neck use either angle need get better lighting portable cooling work computer led usb desk lamp fan energy saving lamp cum fan adjustable flexible neck enough adjust comfort soft fan blade safety conveniently powered usb usb hub dimension cm lxwxh approx weight approx usb wire length cm long approx box usb fan cum table lamp requires aaa battery included', 125: 'finger usb fan cum power bank black new usb usb fan online finger usb fan cum power bank black new usb usb fan best price free shipping cash delivery genuine product day replacement guarantee', 126: 'agrima hub port usb usb hub online agrima hub port usb usb hub best price free shipping cash delivery genuine product day replacement guarantee', 127: 'orcel good quality portable flexible usb usb fan orange price lightweight portable removable detachable design placed pocket small fan environmentally safe feel good standard usb interface mix match digital device mobile power desktop computer laptop usb connector plug play feature mini portable flexible usb fan small easy take hand compact light weight use desk bedside table go feeling convenient flexible body suitable occasion compatible power bank connected pc usb port lightweight portable removable detachable design placed pocket small fan environmentally safe feel good standard usb interface mix match digital device mobile power desktop computer laptop usb connector plug play feature mini portable flexible usb fan small easy take hand compact light weight use desk bedside table go feeling convenient flexible body suitable occasion compatible power bank connected pc usb port', 128: 'bigkik smart smart usb usb fan green price usb fan unique product offer convenience cool air wherever go simply connect fan usb port laptop usb fan unique product offer convenience cool air wherever go simply connect fan usb port laptop', 129: 'zaicus itag bluetooth tracer anti lost alarm remote shutter voice recorder connect unit usb bluetooth green price specification bluetooth version bluetooth low energy compatible phone iphone ipad mini itouch ipad ipad air andriod system bluetooth smartphone andriod version grade version working distance foot without barrier suitable wallet car kid pet bag suitcase belonging battery cr lithium coin battery standby time month net weight gram connects itag unit app language english chinese french spanish box xbluetooth tracker xbattery xuser manual specification bluetooth version bluetooth low energy compatible phone iphone ipad mini itouch ipad ipad air andriod system bluetooth smartphone andriod version grade version working distance foot without barrier suitable wallet car kid pet bag suitcase belonging battery cr lithium coin battery standby time month net weight gram connects itag unit app language english chinese french spanish box xbluetooth tracker xbattery xuser manual', 130: 'speed port switch light psw usb usb hub online speed port switch light psw usb usb hub best price free shipping cash delivery genuine product day replacement guarantee', 131: 'luv luv mp player mp red player usb sound card online luv luv mp player mp red player usb sound card best price free shipping cash delivery genuine product day replacement guarantee', 132: 'kensington eu usb hub online kensington eu usb hub best price free shipping cash delivery genuine product day replacement guarantee', 133: 'mrk communication mrkusb mobile usb usb cable online mrk communication mrkusb mobile usb usb cable best price free shipping cash delivery genuine product day replacement guarantee', 134: 'iconnect world virtual channel audio adapter usb sound card online iconnect world virtual channel audio adapter usb sound card best price free shipping cash delivery genuine product day replacement guarantee', 135: 'lifestyle ig usb usb fan yellow price portable usb operated fan air cooling fan flexible blade strong wind suitable home office table using usb plug design easily powered pc desktop working studying powered usb port computer pc aa pencil battery battery included also use ac electric power using common usb mobile charger top included blade safe touch even fan running fan provides instant personal cooling switch turn fan nice addition desk summer colour design exactly per picture picture taken actual product stock portable usb operated fan air cooling fan flexible blade strong wind suitable home office table using usb plug design easily powered pc desktop working studying powered usb port computer pc aa pencil battery battery included also use ac electric power using common usb mobile charger top included blade safe touch even fan running fan provides instant personal cooling switch turn fan nice addition desk summer colour design exactly per picture picture taken actual product stock', 136: 'jrb smallest mobile powered otg enabled android smart phone portable usb fan system requirement otg enabled android smart phone material plastic specification jrb smallest mobile powered otg enabled android smart phone portable usb fan multicolor general brand jrb type usb fan model name smallest mobile powered otg enabled android smart phone material plastic system requirement otg enabled android smart phone model id portable color multicolor box sale package micro usb fan', 137: 'casotec lightning usb usb cable purple price casotec retractable universal cable ensuring complete charger sync compatibility device connect pin connector micro usb connector io android device connect usb side wall charger adapter usb hub charger computer sync data retractable design make cable ideal stowing purse bag simply pull end cable slowly release cable store neatly housing without getting tangled casotec retractable universal cable ensuring complete charger sync compatibility device connect pin connector micro usb connector io android device connect usb side wall charger adapter usb hub charger computer sync data retractable design make cable ideal stowing purse bag simply pull end cable slowly release cable store neatly housing without getting tangled', 138: 'iconnect world external adapter channel audio output mic input usb sound card online iconnect world external adapter channel audio output mic input usb sound card best price free shipping cash delivery genuine product day replacement guarantee', 139: 'task logistics audio receiver usb bluetooth online task logistics audio receiver usb bluetooth best price free shipping cash delivery genuine product day replacement guarantee', 140: 'iconnect world new channel external audio adapter mic virtual sound usb sound card online iconnect world new channel external audio adapter mic virtual sound usb sound card best price free shipping cash delivery genuine product day replacement guarantee', 141: 'shadow fax table air fan cooler usb usb fan online shadow fax table air fan cooler usb usb fan best price free shipping cash delivery genuine product day replacement guarantee', 142: 'divinext flexible electronic laptop cooling fan di usb usb fan red bule pink green yellow price strong wind suitable home office table portable small size design flexible blade avoiding hurting using usb plug design easily power pc desktop working studying power usb usb pc battery could usb adapter plug fit electric strong wind suitable home office table portable small size design flexible blade avoiding hurting using usb plug design easily power pc desktop working studying power usb usb pc battery could usb adapter plug fit electric', 143: 'iconnect world premium quality external audio adapter mic year warranty channel usb sound card online iconnect world premium quality external audio adapter mic year warranty channel usb sound card best price free shipping cash delivery genuine product day replacement guarantee', 144: 'neon port super speed adapter card reaader usb usb hub online neon port super speed adapter card reaader usb usb hub best price free shipping cash delivery genuine product day replacement guarantee', 145: 'karp bracelet necklace pearl wrist line data portable beaded fashion bracelet usb charging cable samsung htc phone pink usb usb usb charger pink price karp bracelet necklace pearl wrist line data portable beaded fashion bracelet usb charging cable samsung htc phone cyan tied around wrist look like wristband bracelet compatible samsung htc android mobile phone micro common interface brand new good quality lightweight unique design bead style allows charging data syncing specification interface micro usb weight length cm karp bracelet necklace pearl wrist line data portable beaded fashion bracelet usb charging cable samsung htc phone cyan tied around wrist look like wristband bracelet compatible samsung htc android mobile phone micro common interface brand new good quality lightweight unique design bead style allows charging data syncing specification interface micro usb weight length cm', 146: 'kliqvik six port usb hub android mobile tr usb usb hub online kliqvik six port usb hub android mobile tr usb usb hub best price free shipping cash delivery genuine product day replacement guarantee', 147: 'jrb smallest mobile powered otg enabled android smart phone portable usb fan system requirement otg enabled android smart phone material plastic specification jrb smallest mobile powered otg enabled android smart phone portable usb fan multicolor general brand jrb type usb fan system requirement otg enabled android smart phone material plastic model name smallest mobile powered otg enabled android smart phone model id portable color multicolor box sale package micro usb fan', 148: 'frontech jil jil usb usb hub online frontech jil jil usb usb hub best price free shipping cash delivery genuine product day replacement guarantee', 149: 'sangaitap combo offer pe flameless rechargeable electronic windproof eco friendly professional unique usb cigarette lighter online sangaitap combo offer pe flameless rechargeable electronic windproof eco friendly professional unique usb cigarette lighter best price free shipping cash delivery genuine product day replacement guarantee', 150: 'dizionario mini perfume fan cooling fancoolerbl usb usb fan online dizionario mini perfume fan cooling fancoolerbl usb usb fan best price free shipping cash delivery genuine product day replacement guarantee', 151: 'iconnect world premium quality channel external audio adapter mic usb sound card online iconnect world premium quality channel external audio adapter mic usb sound card best price free shipping cash delivery genuine product day replacement guarantee', 152: 'iconnect world sound channel hi speed external audio card adapter usb sound card online iconnect world sound channel hi speed external audio card adapter usb sound card best price free shipping cash delivery genuine product day replacement guarantee', 153: 'sitech port high speed usb usb hub online sitech port high speed usb usb hub best price free shipping cash delivery genuine product day replacement guarantee', 154: 'shadowfax table air fan cooler usb usb fan online shadowfax table air fan cooler usb usb fan best price free shipping cash delivery genuine product day replacement guarantee', 155: 'computer multiple usb usb hub online computer multiple usb usb hub best price free shipping cash delivery genuine product day replacement guarantee', 156: 'rock rocket desktop charger usb usb hub online rock rocket desktop charger usb usb hub best price free shipping cash delivery genuine product day replacement guarantee', 157: 'epresent mfan fan usb usb fan online epresent mfan fan usb usb fan best price free shipping cash delivery genuine product day replacement guarantee', 158: 'anker uspeed ah port superspeed anhub lb usb usb hub online anker uspeed ah port superspeed anhub lb usb usb hub best price free shipping cash delivery genuine product day replacement guarantee', 159: 'qp kid fan mly usb usb fan online qp kid fan mly usb usb fan best price free shipping cash delivery genuine product day replacement guarantee', 160: 'kliqvik six port usb hub samsung mobile tr usb usb hub online kliqvik six port usb hub samsung mobile tr usb usb hub best price free shipping cash delivery genuine product day replacement guarantee', 161: 'dgb flexi touch usb led light white price dgb usb flexible touch light powered led light achieves le power consumption longer life operates usb power need ac adapter battery automatically light plugged computer usb port even mobile power bank easy use although compact design high power led light source achieving high luminance lux cm lamp glowing maximum luminance immediately plugged light perfect reading working computer dark location best companion student professional work dark dim light one need travel often feature portable bendable silicone super bright led lamp degree flexible incorporates flexible arm enable adjustment desired angle high power led light source light maximum luminance immediately plugging usb port compact design offer easy portability touch portable usb led flexible lamp usb ultra bright led light lamp power bank computer laptop tablet pc charger low power consumption powered device usb port ultra bright low power consumption rated voltage rated power size mm material silicone dgb usb flexible touch light powered led light achieves le power consumption longer life operates usb power need ac adapter battery automatically light plugged computer usb port even mobile power bank easy use although compact design high power led light source achieving high luminance lux cm lamp glowing maximum luminance immediately plugged light perfect reading working computer dark location best companion student professional work dark dim light one need travel often feature portable bendable silicone super bright led lamp degree flexible incorporates flexible arm enable adjustment desired angle high power led light source light maximum luminance immediately plugging usb port compact design offer easy portability touch portable usb led flexible lamp usb ultra bright led light lamp power bank computer laptop tablet pc charger low power consumption powered device usb port ultra bright low power consumption rated voltage rated power size mm material silicone', 162: 'apollo pack flexible led light system requirement usb port material plastic silicon specification apollo pack flexible led light multicolour general brand apollo type led light model name pack material plastic silicon system requirement usb port model id flexible color multicolour box sale package led light', 163: 'techone portable power bank laptop set usb led light online techone portable power bank laptop set usb led light best price free shipping cash delivery genuine product day replacement guarantee', 164: 'rrp flexible dg usb led light orange price portable usb led light portronics battery free usb light perfect used laptop adapter power bank compact size flexible hence fit position based use utility power consumption limited able light whole area around portable usb led light portronics battery free usb light perfect used laptop adapter power bank compact size flexible hence fit position based use utility power consumption limited able light whole area around', 165: 'shopfloor xyz usb light led ul usb laptop accessory online shopfloor xyz usb light led ul usb laptop accessory best price free shipping cash delivery genuine product day replacement guarantee', 166: 'mydress mystyle bulb led usb led light red green price usb led bulb lamp mini usb light high power led could reach range meter long usb connector used connect computer usb mobile power supply output equipment perfect camping hiking hunting fishing mountaineering diving night need powered usb device power bank tablet pc book smart phone etc powered usb wattage input voltage dc luminous flux lm color temperature size approx cmx cm usb led bulb lamp mini usb light high power led could reach range meter long usb connector used connect computer usb mobile power supply output equipment perfect camping hiking hunting fishing mountaineering diving night need powered usb device power bank tablet pc book smart phone etc powered usb wattage input voltage dc luminous flux lm color temperature size approx cmx cm', 167: 'techone flexible se green usb led light green price usable power bank laptop usb port adaptor usb multi pin board usb port device usable power bank laptop usb port adaptor usb multi pin board usb port device', 168: 'crystle crystle crstl bluecensor usb led light usb cable online crystle crystle crstl bluecensor usb led light usb cable best price free shipping cash delivery genuine product day replacement guarantee', 169: 'techone flexible se blue usb led light blue price usable power bank laptop usb port adaptor usb multi pin board usb port device usable power bank laptop usb port adaptor usb multi pin board usb port device', 170: 'aadishwar creation usb led light online aadishwar creation usb led light best price free shipping cash delivery genuine product day replacement guarantee', 171: 'forty creek portable skyblue usb led light skyblue price creative portable led light usb lamp rated voltage rated power portable novel design make attractive convenient use gadget except led light included creative portable led light usb lamp rated voltage rated power portable novel design make attractive convenient use gadget except led light included', 172: 'clicko portable port usb led light multicolor price product type usb led light weight size medium feature led light usb led light portable led light ultra led light note green blue orange etc colour available colour selection randomly dispatched product type usb led light weight size medium feature led light usb led light portable led light ultra led light note green blue orange etc colour available colour selection randomly dispatched', 173: 'qp smart lt brown usb led light brown price led light compatible dekstop laptop power bank connected usb port even work mobile phone support otg cable flexible part device allows bend lamp desired angle led emits white light suitable eye light notebook wish directly plug usb led light usb port notebook pc gently adjust flexible neck light position wish led light compatible dekstop laptop power bank connected usb port even work mobile phone support otg cable flexible part device allows bend lamp desired angle led emits white light suitable eye light notebook wish directly plug usb led light usb port notebook pc gently adjust flexible neck light position wish', 174: 'storite mini flexible pc laptop power bank ebook reading ul usb led light online storite mini flexible pc laptop power bank ebook reading ul usb led light best price free shipping cash delivery genuine product day replacement guarantee', 175: 'link flexible portable lamp lp pc usb led light online link flexible portable lamp lp pc usb led light best price free shipping cash delivery genuine product day replacement guarantee', 176: 'rrp born lx usb led light purple price portable usb led light portronics battery free usb light perfect used laptop adapter power bank compact size flexible hence fit position based use utility power consumption limited able light whole area around portable usb led light portronics battery free usb light perfect used laptop adapter power bank compact size flexible hence fit position based use utility power consumption limited able light whole area around', 177: 'dgb flexi touch usb led light orange price dgb usb flexible touch light powered led light achieves le power consumption longer life operates usb power need ac adapter battery automatically light plugged computer usb port even mobile power bank easy use although compact design high power led light source achieving high luminance lux cm lamp glowing maximum luminance immediately plugged light perfect reading working computer dark location best companion student professional work dark dim light one need travel often feature portable bendable silicone super bright led lamp degree flexible incorporates flexible arm enable adjustment desired angle high power led light source light maximum luminance immediately plugging usb port compact design offer easy portability touch portable usb led flexible lamp usb ultra bright led light lamp power bank computer laptop tablet pc charger low power consumption powered device usb port ultra bright low power consumption rated voltage rated power size mm material silicone dgb usb flexible touch light powered led light achieves le power consumption longer life operates usb power need ac adapter battery automatically light plugged computer usb port even mobile power bank easy use although compact design high power led light source achieving high luminance lux cm lamp glowing maximum luminance immediately plugged light perfect reading working computer dark location best companion student professional work dark dim light one need travel often feature portable bendable silicone super bright led lamp degree flexible incorporates flexible arm enable adjustment desired angle high power led light source light maximum luminance immediately plugging usb port compact design offer easy portability touch portable usb led flexible lamp usb ultra bright led light lamp power bank computer laptop tablet pc charger low power consumption powered device usb port ultra bright low power consumption rated voltage rated power size mm material silicone', 178: 'rrp notebook desktop power bank por usb led light yellow price portable usb led light portronics battery free usb light perfect used laptop adapter power bank compact size flexible hence fit position based use utility power consumption limited able light whole area around portable usb led light portronics battery free usb light perfect used laptop adapter power bank compact size flexible hence fit position based use utility power consumption limited able light whole area around', 179: 'link flexible portable lamp lp pc usb led light multicolor price brand new high quality perfect fit reading light weight durable cover portable multiple choice color flexible easy clean rated voltage rated power size mm use powered device usb port ultra bright low power consumption unique bendable design also light weight material silicone net weight brand new high quality perfect fit reading light weight durable cover portable multiple choice color flexible easy clean rated voltage rated power size mm use powered device usb port ultra bright low power consumption unique bendable design also light weight material silicone net weight', 180: 'memore portable flexible lamp mmull green usb led light green price brand new high quality perfect fit reading light weight durable cover portable multiple choice color flexible easy clean rated voltage rated power size mm use powered device usb port ultra bright low power consumption unique bendable design also light weight material silicone brand new high quality perfect fit reading light weight durable cover portable multiple choice color flexible easy clean rated voltage rated power size mm use powered device usb port ultra bright low power consumption unique bendable design also light weight material silicone', 181: 'tapawire flexible portable lamp usb led light online tapawire flexible portable lamp usb led light best price free shipping cash delivery genuine product day replacement guarantee', 182: 'rrp flexible por usb led light blue price portable usb led light portronics battery free usb light perfect used laptop adapter power bank compact size flexible hence fit position based use utility power consumption limited able light whole area around portable usb led light portronics battery free usb light perfect used laptop adapter power bank compact size flexible hence fit position based use utility power consumption limited able light whole area around', 183: 'mydress mystyle bulb led usb led light red price usb led bulb lamp mini usb light high power led could reach range meter long usb connector used connect computer usb mobile power supply output equipment perfect camping hiking hunting fishing mountaineering diving night need powered usb device power bank tablet pc book smart phone etc powered usb wattage input voltage dc luminous flux lm color temperature size approx cmx cm usb led bulb lamp mini usb light high power led could reach range meter long usb connector used connect computer usb mobile power supply output equipment perfect camping hiking hunting fishing mountaineering diving night need powered usb device power bank tablet pc book smart phone etc powered usb wattage input voltage dc luminous flux lm color temperature size approx cmx cm', 184: 'dreamshop flex flexible portable usb led light online dreamshop flex flexible portable usb led light best price free shipping cash delivery genuine product day replacement guarantee', 185: 'casotec plexible led light led light usb led light online casotec plexible led light led light usb led light best price free shipping cash delivery genuine product day replacement guarantee', 186: 'koldfire flexible portable lamp bendable usb led light online koldfire flexible portable lamp bendable usb led light best price free shipping cash delivery genuine product day replacement guarantee', 187: 'memore portable flexible led light lamp mmull purple usb led light purple price brand new high quality perfect fit reading light weight durable cover portable multiple choice color flexible easy clean rated voltage rated power size mm use powered device usb port ultra bright low power consumption unique bendable design also light weight material silicone brand new high quality perfect fit reading light weight durable cover portable multiple choice color flexible easy clean rated voltage rated power size mm use powered device usb port ultra bright low power consumption unique bendable design also light weight material silicone', 188: 'storite mini flexible pc laptop powerbank ebook reading ul usb led light online storite mini flexible pc laptop powerbank ebook reading ul usb led light best price free shipping cash delivery genuine product day replacement guarantee', 189: 'crystle crstl pink crystle usb led light online crystle crstl pink crystle usb led light best price free shipping cash delivery genuine product day replacement guarantee', 190: 'de techinn flexible wire powered usb led light online de techinn flexible wire powered usb led light best price free shipping cash delivery genuine product day replacement guarantee', 191: 'casotec plexible led light led light usb led light green price casotec usb led light perfect reading working travelling much ideal night reading emergency lighting small portable convenient carry led emits white light suitable eye light notebook wish directly plug usb led light usb port notebook pc power bank gently adjust flexible neck light position wish specification rated voltage dc power size mm mm mm specific led type led usb light width cm height cm length cm weight gm casotec usb led light perfect reading working travelling much ideal night reading emergency lighting small portable convenient carry led emits white light suitable eye light notebook wish directly plug usb led light usb port notebook pc power bank gently adjust flexible neck light position wish specification rated voltage dc power size mm mm mm specific led type led usb light width cm height cm length cm weight gm', 192: 'memore portable flexible mmull red usb led light red price brand new high quality perfect fit reading light weight durable cover portable multiple choice color flexible easy clean rated voltage rated power size mm use powered device usb port ultra bright low power consumption unique bendable design also light weight material silicone brand new high quality perfect fit reading light weight durable cover portable multiple choice color flexible easy clean rated voltage rated power size mm use powered device usb port ultra bright low power consumption unique bendable design also light weight material silicone', 193: 'royallifestyle led light reading usb led light blue price led light compatible dekstop laptop power bank connected usb port even work mobile phone support otg cable flexible part device allows bend lamp desired angle led emits white light suitable eye light notebook wish directly plug usb led light usb port notebook pc gently adjust flexible neck light position wish led light compatible dekstop laptop power bank connected usb port even work mobile phone support otg cable flexible part device allows bend lamp desired angle led emits white light suitable eye light notebook wish directly plug usb led light usb port notebook pc gently adjust flexible neck light position wish', 194: 'memore portable mmull pink usb led light pink price brand new high quality perfect fit reading light weight durable cover portable multiple choice color flexible easy clean rated voltage rated power size mm use powered device usb port ultra bright low power consumption unique bendable design also light weight material silicone brand new high quality perfect fit reading light weight durable cover portable multiple choice color flexible easy clean rated voltage rated power size mm use powered device usb port ultra bright low power consumption unique bendable design also light weight material silicone', 195: 'dgb flexi touch usb led light black price dgb usb flexible touch light powered led light achieves le power consumption longer life operates usb power need ac adapter battery automatically light plugged computer usb port even mobile power bank easy use although compact design high power led light source achieving high luminance lux cm lamp glowing maximum luminance immediately plugged light perfect reading working computer dark location best companion student professional work dark dim light one need travel often feature portable bendable silicone super bright led lamp degree flexible incorporates flexible arm enable adjustment desired angle high power led light source light maximum luminance immediately plugging usb port compact design offer easy portability touch portable usb led flexible lamp usb ultra bright led light lamp power bank computer laptop tablet pc charger low power consumption powered device usb port ultra bright low power consumption rated voltage rated power size mm material silicone dgb usb flexible touch light powered led light achieves le power consumption longer life operates usb power need ac adapter battery automatically light plugged computer usb port even mobile power bank easy use although compact design high power led light source achieving high luminance lux cm lamp glowing maximum luminance immediately plugged light perfect reading working computer dark location best companion student professional work dark dim light one need travel often feature portable bendable silicone super bright led lamp degree flexible incorporates flexible arm enable adjustment desired angle high power led light source light maximum luminance immediately plugging usb port compact design offer easy portability touch portable usb led flexible lamp usb ultra bright led light lamp power bank computer laptop tablet pc charger low power consumption powered device usb port ultra bright low power consumption rated voltage rated power size mm material silicone', 196: 'casotec plexible led light led light usb led light white price casotec usb led light perfect reading working travelling much ideal night reading emergency lighting small portable convenient carry led emits white light suitable eye light notebook wish directly plug usb led light usb port notebook pc power bank gently adjust flexible neck light position wish specification rated voltage dc power size mm mm mm specific led type led usb light width cm height cm length cm weight gm casotec usb led light perfect reading working travelling much ideal night reading emergency lighting small portable convenient carry led emits white light suitable eye light notebook wish directly plug usb led light usb port notebook pc power bank gently adjust flexible neck light position wish specification rated voltage dc power size mm mm mm specific led type led usb light width cm height cm length cm weight gm', 197: 'crystle crystle crstl led light usb led light online crystle crystle crstl led light usb led light best price free shipping cash delivery genuine product day replacement guarantee', 198: 'memore portable flexible mmull white usb led light white price brand new high quality perfect fit reading light weight durable cover portable multiple choice color flexible easy clean rated voltage rated power size mm use powered device usb port ultra bright low power consumption unique bendable design also light weight material silicone brand new high quality perfect fit reading light weight durable cover portable multiple choice color flexible easy clean rated voltage rated power size mm use powered device usb port ultra bright low power consumption unique bendable design also light weight material silicone', 199: 'techone portable se white usb led light white price usable power bank laptop usb port adaptor usb multi pin board usb port device usable power bank laptop usb port adaptor usb multi pin board usb port device', 200: 'tapawire flexible portable lamp usb led light orange price brand tapawire color orange connector type mini flexible usb portable reading light tapawire mini usb light led lamp lightweight flexible portable adjustable hour life keyboard laptop pc notebook power bank book reading work bed red tapawire usb led stick lamp special lambency lampshade designed protect eyesight avoid led direct light wiresipe usb led light flexible bendable body mini size lightweight stickable portable enough use different occasion reading writing working take care eye usb led stick lamp special lambency lampshade designed protect eyesight avoid led direct light compitable device compitable usb prot laptop powerbank usb charger etc feature using lowest work voltage safety reliability high efficiency usb connection ibook powerbook cube pc notebook powerbank wall charger plug play powered usb port external power needed definitely essential gear night work light life bring home let light life brandbucket sale brandbucket proud member food charity least sale tapawire branded product donated approved food charity warranty tapawire cable backed year warranty product must purchased brandbucket sale eligible guaranty brand tapawire color orange connector type mini flexible usb portable reading light tapawire mini usb light led lamp lightweight flexible portable adjustable hour life keyboard laptop pc notebook power bank book reading work bed red tapawire usb led stick lamp special lambency lampshade designed protect eyesight avoid led direct light wiresipe usb led light flexible bendable body mini size lightweight stickable portable enough use different occasion reading writing working take care eye usb led stick lamp special lambency lampshade designed protect eyesight avoid led direct light compitable device compitable usb prot laptop powerbank usb charger etc feature using lowest work voltage safety reliability high efficiency usb connection ibook powerbook cube pc notebook powerbank wall charger plug play powered usb port external power needed definitely essential gear night work light life bring home let light life brandbucket sale brandbucket proud member food charity least sale tapawire branded product donated approved food charity warranty tapawire cable backed year warranty product must purchased brandbucket sale eligible guaranty', 201: 'dgb flexi touch usb led light pink price dgb usb flexible touch light powered led light achieves le power consumption longer life operates usb power need ac adapter battery automatically light plugged computer usb port even mobile power bank easy use although compact design high power led light source achieving high luminance lux cm lamp glowing maximum luminance immediately plugged light perfect reading working computer dark location best companion student professional work dark dim light one need travel often feature portable bendable silicone super bright led lamp degree flexible incorporates flexible arm enable adjustment desired angle high power led light source light maximum luminance immediately plugging usb port compact design offer easy portability touch portable usb led flexible lamp usb ultra bright led light lamp power bank computer laptop tablet pc charger low power consumption powered device usb port ultra bright low power consumption rated voltage rated power size mm material silicone dgb usb flexible touch light powered led light achieves le power consumption longer life operates usb power need ac adapter battery automatically light plugged computer usb port even mobile power bank easy use although compact design high power led light source achieving high luminance lux cm lamp glowing maximum luminance immediately plugged light perfect reading working computer dark location best companion student professional work dark dim light one need travel often feature portable bendable silicone super bright led lamp degree flexible incorporates flexible arm enable adjustment desired angle high power led light source light maximum luminance immediately plugging usb port compact design offer easy portability touch portable usb led flexible lamp usb ultra bright led light lamp power bank computer laptop tablet pc charger low power consumption powered device usb port ultra bright low power consumption rated voltage rated power size mm material silicone', 202: 'mydress mystyle bulb led usb led light white price usb led bulb lamp mini usb light high power led could reach range meter long usb connector used connect computer usb mobile power supply output equipment perfect camping hiking hunting fishing mountaineering diving night need powered usb device power bank tablet pc book smart phone etc powered usb wattage input voltage dc luminous flux lm color temperature size approx cmx cm usb led bulb lamp mini usb light high power led could reach range meter long usb connector used connect computer usb mobile power supply output equipment perfect camping hiking hunting fishing mountaineering diving night need powered usb device power bank tablet pc book smart phone etc powered usb wattage input voltage dc luminous flux lm color temperature size approx cmx cm', 203: 'bigkik flexible lamp mini portable designer usb led light online bigkik flexible lamp mini portable designer usb led light best price free shipping cash delivery genuine product day replacement guarantee', 204: 'karp ultra bright led usb light black led light blk usb led light black price ultra bright led usb light notebook computer laptop pc lighting portable mini lamp feature new flexible bright mini led usb light computer lamp notebook computer pc new facial hair epicare epilator epistick remover stick useful tool brand new high quality led ultra bright powered pc usb port need battery external power flexible adjustable metal neck soft warm white light extremely long service life low power consumption cute decent design plugged pc usb port start bring brightness right lightweight compact space saving easy carry handle ideal companion student traveler office worker etc ideal lighting laptop darkness ultra bright led usb light notebook computer laptop pc lighting portable mini lamp feature new flexible bright mini led usb light computer lamp notebook computer pc new facial hair epicare epilator epistick remover stick useful tool brand new high quality led ultra bright powered pc usb port need battery external power flexible adjustable metal neck soft warm white light extremely long service life low power consumption cute decent design plugged pc usb port start bring brightness right lightweight compact space saving easy carry handle ideal companion student traveler office worker etc ideal lighting laptop darkness', 205: 'authorized part fit various samsung brand model oem part dc country origin united state see product detailsthis authorized aftermarket product fit various samsung brand model oem part dc', 206: 'storage samsung gb portable external ssd elevates data transfer speed next level unleashes new experience external storage fast transfer speed samsung nand flash memory usb gen interface provides transfer speed mb faster external hdds transfer backup large sized data including video high resolution photo much quicker faster compact light smaller average business card weighing gram mm thick compact light slim perfect portable storage connect ease connect extensive range device pc mac smartphones device included usb cable usb cable give seamless connectivity without hassle purchasing additional adaptersthe samsung gb portable external ssd elevates data transfer speed next level unleashes new experience external storage compact durable design password protection truly easy carry store data securely fast transfer speed samsung nand flash memory usb gen interface provides transfer speed mb faster external hdds transfer backup large sized data including video high resolution photo much quicker faster metal minimalism top bottom metal design rounded unibody fit comfortably palm hand compact light smaller average business card weighing gram mm thick compact light slim perfect portable storage solid inside stay worry free moving part sturdy metal body handle drop meter optional password protection aes bit hardware encryption keep personal private data secure confidently backed year limited warranty management software come embedded new intuitive software pc mac easily set password get latest firmware update also download mobile app android smartphones tablet connect ease connect extensive range device pc mac smartphones device included usb cable usb cable give seamless connectivity without hassle purchasing additional adapter', 207: 'specification hp gb pen drive silver black general specification interface usb brand hp capacity gb gb model case material metal color silver black dimension weight box pendrive', 208: 'two flash drive one cable free samsung duo plus type usb flash drive instant storage photo video music file laptop tablet tv car audio system gaming console quick convenient read speed redefine everyday file transfer read speed mb type usb flash drive backwards compatibility usb usb double connectivity one flash drive many device usb type type connectivity let quickly free device space fast backup file offloads built last reliability shock proof flash drive also water proof temperature proof ray proof magnetic proof actual speed may vary host device actual usage condition write speed lower read speed year limited warranty year limited warranty', 209: 'superfast read write speed ssd nand offer ultra fast data transfer speed mb faster external hdds ideal transferring large sized data including video high resolution photo game compact portable design top bottom shock resistant metal design fit palm hand easily slide pocket purse take work entertainment go secure encryption optional password protection aes bit hardware encryption keep personal private data secure seamless connectivity includes usb type usb type cable connect pc mac smartphones device warranty compatibility year limited warranty requires window mac maverick android kitkat higher older version window mac android operating system may supportedthe samsung portable ssd latest samsung nand flash memory technology portable design blazing fast transfer speed mb shock resistance secure encryption make best portable ssd market shockproof aluminum exterior withstand accidental drop', 210: 'upgrade impressive nvme speed whether need boost gaming seamless workflow heavy graphic smart choice outstanding ssd performance packed speed delivers value without sacrificing sequential read write speed mb keep moving full power mode keep ssd running peak full power mode drive continuous consistent high performance built long run tbw year limited warranty optimized endurance come trusted reliability reliable thermal control us nickel coating help manage controller heat level heat spreader label deliver effective thermal control nand chip smart thermal solution embedded samsung cutting edge thermal control algorithm manages heat deliver durable reliable performance minimizing performance fluctuation extended usage samsung magician software monitor drive health optimize performance protect valuable data receive important update magician ensure always getting best performance ssdcapacity tb firmware component including samsung world renowned dram nand produced house allowing end end integration quality trust', 211: 'authorized part fit various samsung brand model oem part dc brand samsung see product detailsthis authorized aftermarket product fit various samsung brand model oem part dc', 212: 'high performance business solution samsung proprietary bit mlc nand dct delivers optimized performance data center demand end end data protection help ensure consistency entire data transfer path sequential read write speed sequential read write speed mb respectively random read write speed iop ideal handling massive amount data power loss protection protect data integrity unexpected power loss samsung advanced power loss protection architecture samsung data center technology reliable sata interface solid state drive endurance handle heavy workload server data security secure data without performance degradation thanks aes bit encryption year limited warranty year limited warranty tbwthe samsung series sata ssd nand technology ideal solution server need enhanced data reliability safeguard critical data optimized performance high quality service qos power loss protection end end data protection deliver highly reliable enterprise storage solution using sata interface dct feature inch form factor sata interface making easy upgrade ssds within existing infrastructure backed year limited warranty tbw operating temperature operating temperature', 213: 'authorized part fit various samsung brand model oem part da brand name samsung see product detailsthis authorized aftermarket product fit various samsung brand model oem part da', 214: 'storage capacity gb encryption standard bit maximum read transfer rate mb maximum write transfer rate mb wireless lan nothe high read speed mb maximizes system performance save time complex task high write speed mb get quick response updating transferring file provides sufficient storage capacity gb computer bit encryption protects pc hacker thief encoding data data stored faster sata interface optimizes burst performance', 215: 'samsung mz eu evo designed compatibility mind inch size designed fit desktop pc laptop powered samsung nand technology optimized performance everyday computing incredible sequential read write performance mb mb respectively random read write iop performance respectively included content mm sata iii gb ssd user manual cable screw bracket included window vista sp bit widow server bit linux compatible samsung evo series ssd industry best selling ssd perfect everyday computing powered samsung nand technology evo transforms everyday computing experience optimized performance endurance designed fit desktop pc laptop ultrabooks evo come wide range capacity form factor based npd reported revenue usunlock computer potential samsung evo series ssd industry best selling ssd perfect everyday computing powered samsung nand technology evo transforms everyday computing experience optimized performance endurance designed fit desktop pc laptop ultrabooks evo come wide range capacity form factor based npd reported revenue uncompromised performance evo optimizes performance daily computing task boasting sequential write speed mb turbowrite technology sequential read speed mb plus rapid mode boost performance faster data processing speed utilizing unused pc memory cache storage compared drive rapid enabled space storage option right need samsung offer evo full range capacity tb industry first tb ssd client pc store data single ssd ever guaranteed reliability endurance samsung evo maintains high performance optimized endurance aes bit hardware based encryption dynamic thermal guard year limited warranty aes bit hardware based encryption compliant advanced security management solution ieee tcg opal year tbw gb gb tbw gb tb tbw tb tb tbw whichever come first multiple form factor almost need samsung designed evo multiple form factor compatibility mind inch size designed fit desktop pc laptop sata based msata ideal ultra slim mobile computing', 216: 'thunderbolt nvme power first ever nvme based portable ssd samsung featuring thunderbolt technology delivers gb data transfer speed lightning fast read write speed sequential read write performance level mb mb respectively durable design full metal body glossy top non slip bottom mat withstands drop meter shock resistant internal design feature dynamic thermal guard technology help maintain optimal performance temperature secure encryption optional password protection aes bit hardware encryption keep personal private data secure warranty compatibility year limited warranty ensure latest firmware bios installed device computer compatible device television', 217: 'powered samsung nand technology optimized performance everyday computing interface sata gb interface compatible sata gb sata gb interfacegb incredible sequential read write performance mb mb respectively random read write iop performance respectively endurance reliability energy efficiency year limited warranty included content mm sata iii gb ssd user manual cable screw bracket included free download samsung data migration magician software available easy installation ssd management window vista sp bit window server bit linux compatible', 218: 'high performance business solution samsung proprietary bit mlc nand zet delivers optimized performance data center demand end end data protection help ensure consistency entire data transfer path blazing fast read write speed sequential read write speed mb respectively random read write speed iop time faster random read performance compared dct ssds high quality service designed server application zet offer high quality service qos consistent predictable latency iop power loss protection protect data integrity unexpected power loss samsung advanced power loss protection architecture data security secure data without performance degradation thanks aes bit encryption year limited warranty year limited warranty pbwmodel name mz pza bw samsung zet nvme ssd nand technology bridge gap storage memory cache memory offering new level performance ultra low latency high qos breakthrough speed ultra high reliability ideal high performance computing application hybrid caching server database server ai iot zet perfect companion samsung dct ssds powerful cache memory solution completely enhance server performance', 219: 'samsung hm hj gb sata gb storage rpm mb cache bare drive', 220: 'world first consumer ssd powered samsung nand technology ideal hardcore pc gamers heavy pc user business professional ultimate sequential read write performance mb mb respectively random read write iop performance respectively performance reliability energy efficiency industry leading year limited warranty included content mm sata iii gb ssd user manual cable screw bracket included free download samsung data migration magician software available easy installation ssd management window vista sp bit widow server bit linux compatible product description samsung pro keep working efficiency would expect solid state drive magician software give option enhance performance performing time faster rapid mode get enhance performance lower power consumption lpddr dram cache memory samsung core mex controller ideal solution business professional pc gamers comparison increased load time reliability get solid state drive caliber seller warranty description year tbw', 221: 'innovative nand technology powered samsung nand technology evo ssd offer optimized performance everyday computing well rendering large sized video data used latest application enhanced read write speed sequential read write performance level mb mb respectively secure encryption protect data selecting security option including aes bit hardware based encryption compliant tcg opal ieee warranty compatibility year limited warranty window window window server bit bit vista sp xp sp mac osx linux included content inch millimeter sata gb ssd user manual cable screw bracket included reliability mtbf million hour reliability mtbf capacity gb ssd trust newest edition world best selling sata ssd series samsung evo ssd specially designed enhance performance mainstream pc laptop latest nand technology fast reliable solid state drive come wide range compatible form factor capacity enhanced performance delivers consistent speed even heavy workload multi tasking allowing faster file transfer evo performs sequential read speed mb intelligent turbowrite technology sequential write speed mb turbowrite buffer size upgraded gb gb performance may vary based user system hardware configuration evo also offer boosted endurance higher tbw terabyte written evo feel secure storing rendering large sized video data used latest application smart compatibility ssd let benefit faster fluid communication host system refined ecc error correction code algorithm new mjx controller generate higher speed improved queued trim enhances linux compatibility evo provides reliability million hour mtbf', 222: 'powered samsung nand technology optimized performance everyday computing interface sata gb interface compatible sata gb sata gb interfacegb incredible sequential read write performance mb mb respectively random read write iop performance respectively endurance energy efficiency reliability year limited warranty included content inch millimeter sata iii gb ssd user manual cable screw bracket included free download samsung data migration magician software available easy installation ssd managementupgrading pc samsung ssd economical way breathe new life aging pc evo read writes multi task incredible speed enhancing boot speed application loading multi tasking performance upgrade complete transformation pc', 223: 'tb evo samsung layer nand sata iii cm', 224: 'high performance business solution samsung proprietary bit mlc nand dct solution achieving high responsiveness data center server requiring accelerated performance enabling business excel handling big data blazing fast read write speed sequential read write speed mb respectively random read write speed iop ideal handling massive amount data advanced ecc engine end end data protection help ensure consistency entire data transfer path secure data without performance degradation thanks aes bit encryption power loss protection advanced power loss protection help prevent data corruption case power failure power consumption active read write idle max year limited warranty year limited warrantymodel name mz lb ne samsung dct series ssd nvme nand technology high performance solution server need enhanced data reliability safeguard critical data content delivery network cdns big data artificial intelligence ai internet thing iot application available two form factor dct nvme interface empowers blazing fast speed high responsiveness high quality service qos power loss protection end end data protection get highly reliable enterprise storage solution backed year limited warranty tbw', 225: 'boot faster load file quicker improve overall system responsiveness package length package width package height mz bw', 226: 'innovative nand technology powered samsung nand technology evo ssd nvme interface pcie offer enhanced bandwidth low latency power efficiency ideal tech enthusiast high end gamers content designer breakthrough read write speed sequential read write performance level mb mb respectively random read kb qd iop random read performance optimization data security seamless cloning file transfer samsung magician software ideal ssd management solution performance optimization data security automatic firmware update superior heat dissipation samsung dynamic thermal guard automatically monitor maintains optimal operating temperature minimize performance drop secure encryption year limited warranty year limited warranty tbw terabyte written capacity gb samsung evo ssd continues lead industry standard nand technology reliable superior performance ssd go evo accelerates next gen computing transforming high end gaming streamlining graphic intensive workflow new phoenix controller intelligent turbowrite technology get stunning sequential read write speed mb faster writes previous generation breakthrough speed best class reliability broad range capacity option tb solid state drive enhances high end gaming graphic editing operating temperature', 227: 'authorized part fit various samsung brand model oem part dc brand name samsung see product detailsthis authorized aftermarket product fit various samsung brand model oem part dc', 228: 'storage capacity tb encryption standard bit maximum read transfer rate mb maximum write transfer rate mb wireless lan noat glance designed everyday computing samsung evo powered latest nand technology robust algorithm based samsung controller handle workload mainstream pc laptop get fast enduring performance exceptional reliability expanded compatibility model packaged simple white box support need solution provider featuring samsung latest layer nand technology handle workload mainstream pc laptop refined everyday computing business professional available sata iii msata form factor fit need reliable endurance industry warranty total byte written tbw year feature samsung nand technology samsung nand flash memory help overcome limitation conventional planar nand architecture stack cell layer vertically one another rather trying fit onto fixed horizontal space order provide high density performance small footprint fast read write performance pro performs sequential write speed mb sequential read speed mb robust robust algorithm based samsung mjx controller ghz relentless endurance industry warranty offering total byte written tbw year nand flash higher endurance compared conventional planar type nand flash pro ssds consistently meet need high end use heavy workload ease safely storing rendering video data expanded compatibility experience fast fluid communication host system robust algorithm based mjx controller generates high speed improved queued trim help enhance linux compatibility robust ssd management software samsung magician', 229: 'samsung pm ssd upgrade laptop desktop computer samsung ssd feel difference faster boot time shut down app load time hardware interface samsung pm pcie nvme gen gb ssd please check motherboard manual make sure motherboard slot support pcie nvme performance speed mb read mb write twice fast original ssd', 230: 'white box samsung solid state drive mz evo sata iii internal ssd single unit version white box memory storage capacity samsung mz', 231: 'encryption standard bit wireless lan', 232: 'next level ssd performance unleash power samsung pro pcie nvme ssd next level computing pro delivers data transfer rate pcie maintaining compatibility pcie maximum speed get read speed mb pro push limit ssds powered new elpsis controller designed harmonize flash memory component interface superior speed pcie interface faster pcie ssds faster samsung sata ssds every component nvme ssd manufactured samsung performance last winning combination designed hardcore gamers tech savvy user pro offer high performance bandwidth throughput heavy duty application gaming graphic data analytics fast loading game play wait le efficient ssd pro come compact form factor easily plugged desktop laptop due size thus optimized power efficiency ideal building high performance computing system reliable thermal control high performance ssds usually require high performance thermal control ensure stable performance pro us nickel coating help manage controller heat level heat spreader label deliver effective thermal control nand chip capacity tb unleash power samsung pro pcie nvme ssd next level computing pro delivers data transfer rate pcie maintaining compatibility pcie nvm express design mark registered trademark nvm express inc', 233: 'value optimized ssd built samsung nand technology qvo ssd give huge storage solid performance reliability exceptional value enhanced read write speed sequential read write performance level mb mb respectively intelligent turbowrite accelerates write speed maintains long term high performance larger variable buffer secure encryption protect data selecting security option including aes bit hardware based encryption compliant tcg opal ieee warranty compatibility year limited warranty interface sata gb interface compatible sata gb sata gb interfacecapacity tb pattern name single boot faster conventional hard disk drive store hour video thousand photo terabyte level storage protected year warranty', 234: 'high quality metal casing durability key ring prevent loss nand flash technology water proof shock proof magnet proof temp proof ray proof year warranty high speed usb flash drive fast data transfer operating temperature degree celsius non operating temperature minus degree celsiussize gb color metallic elevate memory storage samsung usb technology get mileage usb ideal transfer pc notebook enjoy best world sleek super compact design well higher transfer speed rugged proof durability', 235: 'sequential read write mb random read write iop compatibility system support sata gb ssamsung ssd gb pm sata gb mz ln hmjp solid state drive pc desktop laptop server', 236: 'authorized part fit various samsung brand model oem part ba package dimension see product detailsthis authorized aftermarket product fit various samsung brand model oem part ba', 237: 'nvr hdd support channel poe poe port mjpeg arb automatic recovery backup fixed internal sata hdds tb max sata iscsi storage wisestream technology max resolution mp recording display', 238: 'fingerprint security ssd fingerprint password security blazing fast storage read mb writes mb transfer file nearly faster hard drive led status indicator touch feature led square illuminates keep informed ssd glance built strong shock resistant withstands drop ftcolor black capacity tb transfer flash secure touch whether storing critical business document game movie portable ssd touch give speed security palm sized package experience next level external storage available three capacity suit need gb tb tb rohs compliance rohs', 239: 'ssd star latest evo indisputable performance reliability compatibility built upon samsung pioneering technology excellence performance enjoy professional level ssd performance evo maximizes sata interface limit mb sequential speed accelerates write speed maintains long term high performance larger variable buffer industry defining reliability meet demand every task everyday computing video processing tbw year limited warranty compatible ever evo compatibility tested major host system application including chipsets motherboards na video recording device upgrade ease simply plug evo standard inch sata form factor desktop pc laptop let renewed migration software take care rest samsung magician software make drive work smoothly enhanced samsung magician software help easily manage drive keep latest update monitor drive health status even enhance performancecapacity tb latest evo indisputable performance reliability compatibility built upon samsung pioneering technology performance may vary based ssd firmware version system hardware configuration sequential write performance measurement based intelligent turbowrite technology test system configuration intel core cpu ghz ddr mhz gb window pro chipset asus prime performance data measured ssd secondary warrantied tbw terabyte written evo tbw gb model tbw gb model tbw tb model tbw tb model tbw tb model year tbw whichever come first information warranty please find enclosed warranty statement package compatibility test conducted samsung internal amd msi gigabyte synology qnap blackmagicdesign atmos', 240: 'authorized part fit various samsung brand model oem part da brand name samsung see product detail', 241: 'innovative nand technology powered samsung nand technology evo ssd offer optimized performance everyday computing well rendering large sized video data used latest application enhanced read write speed sequential read write performance level mb mb respectively random read kb qd iop random read secure encryption protect data selecting security option including aes bit hardware based encryption compliant tcg opal ieee warranty compatibility year limited warranty window window window server bit bit vista sp xp sp mac osx linux included content sata gb ssd user manual cable screw bracket included operating temperature degree celsius', 242: 'high performance business solution samsung proprietary bit mlc nand dct delivers optimized performance data center demand end end data protection help ensure consistency entire data transfer path sequential read write speed sequential read write speed mb respectively random read write speed iop ideal handling massive amount data power loss protection protect data integrity unexpected power loss samsung advanced power loss protection architecture samsung data center technology reliable sata interface solid state drive endurance handle heavy workload server data security secure data without performance degradation thanks aes bit encryption year limited warranty year limited warranty tbw', 243: 'via flower llp mirror vc gb pen drive fancy pendrive via flower llp mirror vc gb pen drive multicolor price via flower pen drive adorable pendrive help store lot data one best gift presented loved one particular occassions add personal touch spread warmth love affection attached laptop desktop unique design onto give rich stylish look surprise near dear one gifting pendrive also pep wardrobe specification via flower llp mirror vc gb pen drive multicolor general specification interface usb brand via flower llp capacity gb gb model mirror vc case material plastic supported window home basic premium professional enterprise ultimate starter vista home basic premium business enterprise ultimate starter xp professional home professional mac usb go yes color multicolor dimension weight box unit pendrive', 244: 'compatible device drive compatible server array accept mm sata drivescapacity gb industry leading reliability powered latest nand technology robust algorithm based controller samsung pro ssd readily handle heavy workload high end pc workstation na network attached system give lasting assurance gamers creative professional speed consistent sustained even heavy workload multitasking pro solid state drive performs sequential read speed mb combination latest nand refined controller delivering sequential write speed mb smart compatibility ssd let benefit faster fluid communication host system refined ecc algorithm new mjx controller generate higher speed improved queued trim enhances linux compatibility usage application client pc reliability mtbf million hour reliability mtbf aes encryption aes bit encryption class tcg opal ieee encrypted drive gc garbage collection auto garbage collection algorithm', 245: 'transfer flash transfer file nearly faster external hard disk drive hdd read mb writes mb usb gen supported device samsung recommends user download latest firmware update via included portable ssd software ensure optimal performance data transfer speed may vary depending user pc environment type data transferred usb gen uasp support required maximum transfer speed mb samsung recommends usage included usb type usb type cable non original cable may cause performance degradation due varying internal resistance maximum allowable currency built strong secure shock resistant withstands drop ft advanced heat control dynamic thermal guard dtg technology protects touch overheating automatically slowing data transfer necessary dtg technology enhances product safety reliability preventing touch reaching excessively high temperature password security', 246: 'high performance business solution samsung proprietary bit mlc nand dct delivers optimized performance data center demand end end data protection help ensure consistency entire data transfer path sequential read write speed sequential read write speed mb respectively random read write speed iop ideal handling massive amount data power loss protection protect data integrity unexpected power loss samsung advanced power loss protection architecture samsung data center technology reliable sata interface solid state drive endurance handle heavy workload server data security secure data without performance degradation thanks aes bit encryption year limited year limited tbwthe samsung series sata ssd nand technology ideal solution server need enhanced data reliability safeguard critical data optimized performance high quality service qos power loss protection end end data protection deliver highly reliable enterprise storage solution using sata interface dct feature inch form factor sata interface making easy upgrade ssds within existing infrastructure backed year limited tbw', 247: 'speed redefine everyday file transfer speed mb security reliable secure storage photo video music file stylish rugged metal casing durability key ring prevent loss durability safeguard data water proof shock proof magnet proof temperature proof ray proof compatibility usb flash drive backwards compatibility usb usb size gb color gray redefine everyday file transfer samsung bar plus usb flash drive plug expand storage device unnoticeable seamless fit designed key ring prevent loss fast convenient read speed mb time work play watch create reliable secure solution personal photo video music document file safeguard data backed year limited warranty water proof shock proof magnet proof temperature proof ray proof experience samsung industry leading nand layer technology speed may vary capacity operating temperature', 248: 'samsung pm mzilt hajq tb gb inch internal sa enterprise solid state drive made high performance enterprise storage technical specification part number mzilt hajq capacity tb drive type sa solid state drive interface speed gb form factor small form factor sff sequential read speed mb sequential write speed mb', 249: 'boot faster load file quicker improve overall system responsiveness memory storage capacity package dimension centimeter made chinamz bw', 250: 'country origin united state package length product inch package width product inch package height product inch see product detailsthis authorized aftermarket product fit various samsung brand model oem part db', 251: 'fast mbps transfer speed supporting usb gen gbps compact lightweight aluminum exterior shock resistance structure withstands fall aes bit hardware encryption usb usb support pc phone device', 252: 'lapguard sony vaio vgn aapsy adapter power cord included price lapguard replacement adapter designed provide reliable power charge laptop made highest quality part lapguard replacement adapter conforms specification similar original quality adapter also pass necessary authentication certification like ce rohs etc leaving factory rest assured quality durability performance please note image indicative actual product label may vary place order adapter please make sure selecting correct adapter per old charger specification please compare old adapter power rating volt amp watt pin tip connector size lapguard replacement adapter designed provide reliable power charge laptop made highest quality part lapguard replacement adapter conforms specification similar original quality adapter also pass necessary authentication certification like ce rohs etc leaving factory rest assured quality durability performance please note image indicative actual product label may vary place order adapter please make sure selecting correct adapter per old charger specification please compare old adapter power rating volt amp watt pin tip connector size', 253: 'rega toshiba satellite adapter power cord included price rega replacement laptop ac power adapter charger toshiba satellite laptop enables operate notebook charge battery electrical power outlet running computer ac power battery installed adapter charge battery needed maintains charge system ac adapter charge battery maintain charge made highest quality part rega replacement adapter confirms specification similar guaranteed meet exceed laptop minimum requirement adapter also pass necessary authentication certification like ce rohs etc leaving factory rest assured quality durability performance please make sure selecting correct adapter per old charger specification please compare old adapter power rating volt amp watt pin tip connector size rega replacement laptop ac power adapter charger toshiba satellite laptop enables operate notebook charge battery electrical power outlet running computer ac power battery installed adapter charge battery needed maintains charge system ac adapter charge battery maintain charge made highest quality part rega replacement adapter confirms specification similar guaranteed meet exceed laptop minimum requirement adapter also pass necessary authentication certification like ce rohs etc leaving factory rest assured quality durability performance please make sure selecting correct adapter per old charger specification please compare old adapter power rating volt amp watt pin tip connector size', 254: 'rega sony vpc zfx vpcf fm adapter flipkart com genuine product day replacement guarantee free shipping cash delivery', 255: 'hako magsafe laptop charger apple macbook pro mb magsafe adapter designed apple macbook pro mb magsafe hako magsafe laptop charger apple macbook pro mb magsafe adapter price hako laptop adapter come high quality certification compatible respective brand adapter equipped protection circuit protect laptop adapter come year warranty specification hako magsafe laptop charger apple macbook pro mb magsafe adapter general brand hako designed apple macbook pro mb magsafe sale package laptop adapter model name apple macbook pro mb magsafe model id magsafe laptop charger apple macbook pro mb magsafe power power consumption warranty covered warranty manufacturing defect warranty summary year warranty warranty service type claim warranty customer need contact seller guided nearest service center service center available area need courier product seller replace product send via courier covered warranty physcal damage covered warranty', 256: 'hako magsafe laptop charger apple macbook mb cha adapter designed apple macbook mb magsafe hako magsafe laptop charger apple macbook mb cha adapter price hako laptop adapter come high quality certification compatible respective brand adapter equipped protection circuit protect laptop adapter come year warranty specification hako magsafe laptop charger apple macbook mb cha adapter general brand hako designed apple macbook mb magsafe sale package laptop adapter model name apple macbook mb magsafe model id magsafe laptop charger apple macbook mb cha power power consumption warranty covered warranty manufacturing defect warranty summary year warranty warranty service type claim warranty customer need contact seller guided nearest service center service center available area need courier product seller replace product send via courier covered warranty physcal damage covered warranty', 257: 'smartpro replacement charger vaio series vgn fz adapter designed sony vaio vgn fz smartpro replacement charger vaio series vgn fz adapter power cord included price smartpro brand product smartpro laptop adapter charger sony vaio vgn fz connector pin size smartpro replacement adapter designed provide reliable power charge laptop made highest quality part replacement adapter conforms specification similar original quality adapter also pass necessary authentication certification like ce rohs etc leaving factory rest assured quality durability performance please note image indicative actual product label may vary place order adapter please assure select right adapter laptop please check adapter voltage current compliance requirment laptop adapter output current laptop rated current adapter output volatege notebook voltage deviation please also check adapter pin image place order specification smartpro replacement charger vaio series vgn fz adapter power cord included general brand smartpro designed vaio vgn fz sale package laptop adapter key feature designed sony vaio vgn fz connector pin type mm mm model id replacement charger vaio series vgn fz power power input hz power consumption output current output voltage warranty covered warranty warranty product limited manufacturing defect warranty summary month india warranty warranty service type replacement repair carry warranty customer need carry send replacement repair replaced product sent back customer covered warranty warranty cover external accessory battery cable carrying bag damage caused product due improper installation customer normal wear tear magnetic head audio video laser pick ups tv picture tube pane', 258: 'hako magsafe laptop charger apple macbook air mb lla adapter designed apple macbook air mb magsafe hako magsafe laptop charger apple macbook air mb lla adapter price hako laptop adapter come high quality certification compatible respective brand adapter equipped protection circuit protect laptop adapter come year warranty specification hako magsafe laptop charger apple macbook air mb lla adapter general brand hako designed apple macbook air mb magsafe sale package laptop adapter model name apple macbook air mb magsafe model id magsafe laptop charger apple macbook air mb lla power power consumption warranty covered warranty manufacturing defect warranty summary year warranty warranty service type claim warranty customer need contact seller guided nearest service center service center available area need courier product seller replace product send via courier covered warranty physcal damage covered warranty', 259: 'hako magsafe laptop charger apple macbook pro mc zpa adapter designed apple macbook pro mc ch magsafe hako magsafe laptop charger apple macbook pro mc zpa adapter price hako laptop adapter come high quality certification compatible respective brand adapter equipped protection circuit protect laptop adapter come year warranty specification hako magsafe laptop charger apple macbook pro mc zpa adapter general brand hako designed apple macbook pro mc ch magsafe sale package laptop adapter model name apple macbook pro mc ch magsafe model id magsafe laptop charger apple macbook pro mc zpa power power consumption warranty covered warranty manufacturing defect warranty summary year warranty warranty service type claim warranty customer need contact seller guided nearest service center service center available area need courier product seller replace product send via courier covered warranty physcal damage covered warranty', 260: 'rega msi dl dlx adapter flipkart com genuine product day replacement guarantee free shipping cash delivery', 261: 'hako magsafe laptop charger apple macbook ba adapter designed apple macbook magsafe hako magsafe laptop charger apple macbook ba adapter price hako laptop adapter come high quality certification compatible respective brand adapter equipped protection circuit protect laptop adapter come year warranty specification hako magsafe laptop charger apple macbook ba adapter general brand hako designed apple macbook magsafe sale package laptop adapter model name apple macbook magsafe model id magsafe laptop charger apple macbook ba power power consumption warranty covered warranty manufacturing defect warranty summary year warranty warranty service type claim warranty customer need contact seller guided nearest service center service center available area need courier product seller replace product send via courier covered warranty physcal damage covered warranty', 262: 'hako magsafe laptop charger apple macbook pro lla adapter designed apple macbook pro mb magsafe hako magsafe laptop charger apple macbook pro lla adapter price hako laptop adapter come high quality certification compatible respective brand adapter equipped protection circuit protect laptop adapter come year warranty specification hako magsafe laptop charger apple macbook pro lla adapter general brand hako designed apple macbook pro mb magsafe sale package laptop adapter model name apple macbook pro mb magsafe model id magsafe laptop charger apple macbook pro lla power power consumption warranty covered warranty manufacturing defect warranty summary year warranty warranty service type claim warranty customer need contact seller guided nearest service center service center available area need courier product seller replace product send via courier covered warranty physcal damage covered warranty', 263: 'rega hp pavilion ax tu adapter power cord included price rega replacement laptop ac power adapter charger hp pavilion ax tu laptop enables operate notebook charge battery electrical power outlet running computer ac power battery installed adapter charge battery needed maintains charge system ac adapter charge battery maintain charge made highest quality part rega replacement adapter confirms specification similar guaranteed meet exceed laptop minimum requirement adapter also pass necessary authentication certification like ce rohs etc leaving factory rest assured quality durability performance please make sure selecting correct adapter per old charger specification please compare old adapter power rating volt amp watt pin tip connector size rega replacement laptop ac power adapter charger hp pavilion ax tu laptop enables operate notebook charge battery electrical power outlet running computer ac power battery installed adapter charge battery needed maintains charge system ac adapter charge battery maintain charge made highest quality part rega replacement adapter confirms specification similar guaranteed meet exceed laptop minimum requirement adapter also pass necessary authentication certification like ce rohs etc leaving factory rest assured quality durability performance please make sure selecting correct adapter per old charger specification please compare old adapter power rating volt amp watt pin tip connector size', 264: 'rega hp pavilion sg ea adapter flipkart com genuine product day replacement guarantee free shipping cash delivery', 265: 'rega sony vgn dhb vgn dib adapter flipkart com genuine product day replacement guarantee free shipping cash delivery', 266: 'lapguard acer aspire gzm adapter power cord included price lapguard replacement adapter designed provide reliable power charge laptop made highest quality part lapguard replacement adapter conforms specification similar original quality adapter also pass necessary authentication certification like ce rohs etc leaving factory rest assured quality durability performance please note image indicative actual product label may vary place order adapter please make sure selecting correct adapter per old charger specification please compare old adapter power rating volt amp watt pin tip connector size lapguard replacement adapter designed provide reliable power charge laptop made highest quality part lapguard replacement adapter conforms specification similar original quality adapter also pass necessary authentication certification like ce rohs etc leaving factory rest assured quality durability performance please note image indicative actual product label may vary place order adapter please make sure selecting correct adapter per old charger specification please compare old adapter power rating volt amp watt pin tip connector size', 267: 'hako magsafe laptop charger apple macbook pro mc xa adapter designed apple macbook pro mc magsafe hako magsafe laptop charger apple macbook pro mc xa adapter price hako laptop adapter come high quality certification compatible respective brand adapter equipped protection circuit protect laptop adapter come year warranty specification hako magsafe laptop charger apple macbook pro mc xa adapter general brand hako designed apple macbook pro mc magsafe sale package laptop adapter model name apple macbook pro mc magsafe model id magsafe laptop charger apple macbook pro mc xa power power consumption warranty covered warranty manufacturing defect warranty summary year warranty warranty service type claim warranty customer need contact seller guided nearest service center service center available area need courier product seller replace product send via courier covered warranty physcal damage covered warranty', 268: 'rega hp pavilion zt ea zt ea adapter flipkart com genuine product day replacement guarantee free shipping cash delivery', 269: 'lapguard sony vaio vgn nw db adapter power cord included price lapguard replacement adapter designed provide reliable power charge laptop made highest quality part lapguard replacement adapter conforms specification similar original quality adapter also pass necessary authentication certification like ce rohs etc leaving factory rest assured quality durability performance please note image indicative actual product label may vary place order adapter please make sure selecting correct adapter per old charger specification please compare old adapter power rating volt amp watt pin tip connector size lapguard replacement adapter designed provide reliable power charge laptop made highest quality part lapguard replacement adapter conforms specification similar original quality adapter also pass necessary authentication certification like ce rohs etc leaving factory rest assured quality durability performance please note image indicative actual product label may vary place order adapter please make sure selecting correct adapter per old charger specification please compare old adapter power rating volt amp watt pin tip connector size', 270: 'smartpro replacement charger vaio series vgn fz adapter designed sony vaio vgn fz smartpro replacement charger vaio series vgn fz adapter power cord included price smartpro brand product smartpro laptop adapter charger sony vaio vgn fz cto vgn cr connector pin size smartpro replacement adapter designed provide reliable power charge laptop made highest quality part replacement adapter conforms specification similar original quality adapter also pass necessary authentication certification like ce rohs etc leaving factory rest assured quality durability performance please note image indicative actual product label may vary place order adapter please assure select right adapter laptop please check adapter voltage current compliance requirment laptop adapter output current laptop rated current adapter output volatege notebook voltage deviation please also check adapter pin image place order specification smartpro replacement charger vaio series vgn fz adapter power cord included general brand smartpro designed vaio vgn fz sale package laptop adapter key feature designed sony vaio vgn fz connector pin type mm mm model id replacement charger vaio series vgn fz power power input hz power consumption output current output voltage warranty covered warranty warranty product limited manufacturing defect warranty summary month india warranty warranty service type replacement repair carry warranty customer need carry send replacement repair replaced product sent back customer covered warranty warranty cover external accessory battery cable carrying bag damage caused product due improper installation customer normal wear tear magnetic head audio video laser pick ups tv picture tube pane', 271: 'hako magsafe laptop charger apple macbook air mb ja adapter designed apple macbook air mb ta magsafe hako magsafe laptop charger apple macbook air mb ja adapter price hako laptop adapter come high quality certification compatible respective brand adapter equipped protection circuit protect laptop adapter come year warranty specification hako magsafe laptop charger apple macbook air mb ja adapter general brand hako designed apple macbook air mb ta magsafe sale package laptop adapter model name apple macbook air mb ta magsafe model id magsafe laptop charger apple macbook air mb ja power power consumption warranty covered warranty manufacturing defect warranty summary year warranty warranty service type claim warranty customer need contact seller guided nearest service center service center available area need courier product seller replace product send via courier covered warranty physcal damage covered warranty', 272: 'lapguard hp compaq pavilion dv eo thick pin adapter power cord included price lapguard replacement adapter designed provide reliable power charge laptop made highest quality part lapguard replacement adapter conforms specification similar original quality adapter also pass necessary authentication certification like ce rohs etc leaving factory rest assured quality durability performance please note image indicative actual product label may vary place order adapter please make sure selecting correct adapter per old charger specification please compare old adapter power rating volt amp watt pin tip connector size lapguard replacement adapter designed provide reliable power charge laptop made highest quality part lapguard replacement adapter conforms specification similar original quality adapter also pass necessary authentication certification like ce rohs etc leaving factory rest assured quality durability performance please note image indicative actual product label may vary place order adapter please make sure selecting correct adapter per old charger specification please compare old adapter power rating volt amp watt pin tip connector size', 273: 'smartpro tablet charger adapter tablet charger specification smartpro tablet charger adapter power cord included general brand smartpro designed tablet sale package laptop adapter key feature tablet charger connector pin type mm mm model id tablet charger power power input hz power consumption output current output voltage warranty covered warranty warranty product limited manufacturing defect warranty summary month india warranty warranty service type replacement repair carry warranty customer need carry send replacement repair replaced product sent back customer covered warranty warranty cover external accessory battery cable carrying bag damage caused product due improper installation customer normal wear tear magnetic head audio video laser pick ups tv picture tube pane', 274: 'arb cell laptop battery price arb brand product arb laptop battery replacement lenovo cell arb replacement battery made high grade cell highest quality part arb brand replacement battery percent comparable original battery term including size appearance important quality arb laptop battery pas strict quality control procedure including filtration safety testing voltage capacity battery core body battery also pass necessary authentication certification like ce rohs etc leaving factory rest assured quality durability performance battery part model may printed battery label arb brand product arb laptop battery replacement lenovo cell arb replacement battery made high grade cell highest quality part arb brand replacement battery percent comparable original battery term including size appearance important quality arb laptop battery pas strict quality control procedure including filtration safety testing voltage capacity battery core body battery also pass necessary authentication certification like ce rohs etc leaving factory rest assured quality durability performance battery part model may printed battery label', 275: 'hako hp compaq presario cq tu cell laptop battery flipkart com genuine product day replacement guarantee free shipping cash delivery', 276: 'hp pavilion dv eo cell laptop battery flipkart com genuine product day replacement guarantee free shipping cash delivery', 277: 'lapguard toshiba portege td replacement cell laptop battery flipkart com genuine product day replacement guarantee free shipping cash delivery', 278: 'lapguard hp pavilion dv tu replacement cell laptop battery flipkart com genuine product day replacement guarantee free shipping cash delivery', 279: 'hako hp compaq presario cq tx cell laptop battery flipkart com genuine product day replacement guarantee free shipping cash delivery', 280: 'lapguard hp pavilion dv tx replacement cell laptop battery price product compatible mentioned model number lapguard replacement battery made high grade cell highest quality part lapguard brand replacement battery percent comparable original battery term including size appearance important quality lapguard laptop battery pas strict quality control procedure including filtration safety testing voltage capacity battery core body battery also pass necessary authentication certification like ce rohs etc leaving factory rest assured quality durability performance please note image indicative actual product label may vary battery part model may printed label case doubt request raised company customer support product compatible mentioned model number lapguard replacement battery made high grade cell highest quality part lapguard brand replacement battery percent comparable original battery term including size appearance important quality lapguard laptop battery pas strict quality control procedure including filtration safety testing voltage capacity battery core body battery also pass necessary authentication certification like ce rohs etc leaving factory rest assured quality durability performance please note image indicative actual product label may vary battery part model may printed label case doubt request raised company customer support', 281: 'lapguard hp pavilion dv ca cell laptop battery price lapguard replacement battery made high grade cell highest quality part lapguard brand replacement battery percent comparable original battery term including size appearance important quality lapguard laptop battery pas strict quality control procedure including filtration safety testing voltage capacity battery core body battery also pass necessary authentication certification like ce rohs etc leaving factory rest assured quality durability performance lapguard replacement battery made high grade cell highest quality part lapguard brand replacement battery percent comparable original battery term including size appearance important quality lapguard laptop battery pas strict quality control procedure including filtration safety testing voltage capacity battery core body battery also pass necessary authentication certification like ce rohs etc leaving factory rest assured quality durability performance', 282: 'lapguard hp pavilion dv ap replacement cell laptop battery price product compatible mentioned model number lapguard replacement battery made high grade cell highest quality part lapguard brand replacement battery percent comparable original battery term including size appearance important quality lapguard laptop battery pas strict quality control procedure including filtration safety testing voltage capacity battery core body battery also pass necessary authentication certification like ce rohs etc leaving factory rest assured quality durability performance please note image indicative actual product label may vary battery part model may printed label case doubt request raised company customer support product compatible mentioned model number lapguard replacement battery made high grade cell highest quality part lapguard brand replacement battery percent comparable original battery term including size appearance important quality lapguard laptop battery pas strict quality control procedure including filtration safety testing voltage capacity battery core body battery also pass necessary authentication certification like ce rohs etc leaving factory rest assured quality durability performance please note image indicative actual product label may vary battery part model may printed label case doubt request raised company customer support', 283: 'lapguard lenovo thinkpad replacement cell laptop battery flipkart com genuine product day replacement guarantee free shipping cash delivery', 284: 'rce dell inspiron wk cell laptop battery flipkart com genuine product day replacement guarantee free shipping cash delivery', 285: 'rega hp pavilion dv ea dv cl cell cell laptop battery flipkart com genuine product day replacement guarantee free shipping cash delivery', 286: 'scomp elitebook cell laptop battery price scomp brand product range coming one year warranty lithium ion battery light gram black cover carefully designed complement notebook colour pair completely pc besides cell battery easily chargeable ac adapter even pc switched scomp brand product range coming one year warranty lithium ion battery light gram black cover carefully designed complement notebook colour pair completely pc besides cell battery easily chargeable ac adapter even pc switched', 287: 'lenovo cell laptop battery flipkart com genuine product day replacement guarantee free shipping cash delivery', 288: 'lapguard hp pavilion dv ax cell laptop battery flipkart com genuine product day replacement guarantee free shipping cash delivery', 289: 'lapguard dell inspiron replacement cell laptop battery flipkart com genuine product day replacement guarantee free shipping cash delivery', 290: 'lapguard hp pavilion dv el cell laptop battery flipkart com genuine product day replacement guarantee free shipping cash delivery', 291: 'rce hp probook cell laptop battery flipkart com genuine product day replacement guarantee free shipping cash delivery', 292: 'lapguard hp pavilion dv series cell laptop battery flipkart com genuine product day replacement guarantee free shipping cash delivery', 293: 'rega acer aspire one cbk cell laptop battery flipkart com genuine product day replacement guarantee free shipping cash delivery', 294: 'lapguard hp pavilion dv ea compatible black cell laptop battery flipkart com genuine product day replacement guarantee free shipping cash delivery', 295: 'rega hp pavilion dv tx dv ea cell cell laptop battery flipkart com genuine product day replacement guarantee free shipping cash delivery', 296: 'lapguard hp pavilion dv ca cell laptop battery flipkart com genuine product day replacement guarantee free shipping cash delivery', 297: 'arb hp compaq presario cq replacement cell laptop battery flipkart com genuine product day replacement guarantee free shipping cash delivery', 298: 'rega hp pavilion dv tx dv tu cell cell laptop battery price rega replacement laptop battery hp pavilion dv tx dv tu laptop made highest quality part rega replacement battery confirms specification similar guaranteed meet exceed laptop minimum requirement battery also pass necessary authentication certification like ce rohs etc leaving factory rest assured quality durability performance please make sure selecting correct battery per old battery specification please compare old battery power rating volt capacity mah cell rega replacement laptop battery hp pavilion dv tx dv tu laptop made highest quality part rega replacement battery confirms specification similar guaranteed meet exceed laptop minimum requirement battery also pass necessary authentication certification like ce rohs etc leaving factory rest assured quality durability performance please make sure selecting correct battery per old battery specification please compare old battery power rating volt capacity mah cell', 299: 'lapguard lenovo ideapad cell laptop battery price product compatible mentioned model number lapguard replacement battery made high grade cell highest quality part lapguard brand replacement battery percent comparable original battery term including size appearance important quality lapguard laptop battery pas strict quality control procedure including filtration safety testing voltage capacity battery core body battery also pass necessary authentication certification like ce rohs etc leaving factory rest assured quality durability performance please note image indicative actual product label may vary battery part model may printed label product compatible mentioned model number lapguard replacement battery made high grade cell highest quality part lapguard brand replacement battery percent comparable original battery term including size appearance important quality lapguard laptop battery pas strict quality control procedure including filtration safety testing voltage capacity battery core body battery also pass necessary authentication certification like ce rohs etc leaving factory rest assured quality durability performance please note image indicative actual product label may vary battery part model may printed label', 300: 'hp compaq presario cq cell laptop battery flipkart com genuine product day replacement guarantee free shipping cash delivery', 301: 'rega hp compaq cell laptop battery flipkart com genuine product day replacement guarantee free shipping cash delivery', 302: 'arb hp pavilion dv em replacement cell laptop battery flipkart com genuine product day replacement guarantee free shipping cash delivery', 303: 'rega hp pavilion dv st dv sv cell cell laptop battery price rega replacement cell extended laptop battery hp pavilion dv st dv sv laptop made highest quality part rega replacement battery confirms specification similar guaranteed meet exceed laptop minimum requirement battery also pass necessary authentication certification like ce rohs etc leaving factory rest assured quality durability performance please make sure selecting correct battery per old battery specification please compare old battery power rating volt capacity mah cell rega replacement cell extended laptop battery hp pavilion dv st dv sv laptop made highest quality part rega replacement battery confirms specification similar guaranteed meet exceed laptop minimum requirement battery also pass necessary authentication certification like ce rohs etc leaving factory rest assured quality durability performance please make sure selecting correct battery per old battery specification please compare old battery power rating volt capacity mah cell', 304: 'rega hp compaq cell laptop battery price rega replacement laptop battery hp compaq laptop made highest quality part rega replacement battery confirms specification similar guaranteed meet exceed laptop minimum requirement battery also pass necessary authentication certification like ce rohs etc leaving factory rest assured quality durability performance please make sure selecting correct battery per old battery specification please compare old battery power rating volt capacity mah cell rega replacement laptop battery hp compaq laptop made highest quality part rega replacement battery confirms specification similar guaranteed meet exceed laptop minimum requirement battery also pass necessary authentication certification like ce rohs etc leaving factory rest assured quality durability performance please make sure selecting correct battery per old battery specification please compare old battery power rating volt capacity mah cell', 305: 'lenovo ideapad cell laptop battery flipkart com genuine product day replacement guarantee free shipping cash delivery', 306: 'hako hp compaq presario cq au cell laptop battery flipkart com genuine product day replacement guarantee free shipping cash delivery', 307: 'hp presario cell laptop battery flipkart com genuine product day replacement guarantee free shipping cash delivery', 308: 'lapguard hp pavilion dv replacement cell laptop battery flipkart com genuine product day replacement guarantee free shipping cash delivery', 309: 'dgb hp hstnn ib cell laptop battery flipkart com genuine product day replacement guarantee free shipping cash delivery', 310: 'lapguard hp pavilion dv eg cell laptop battery flipkart com genuine product day replacement guarantee free shipping cash delivery', 311: 'clublaptop sony vgn bps bps cell laptop battery price clublaptop hi life replacement battery made high grade cell highest quality part cl brand replacement battery persent comparable original battery term including size appearance important quality cl laptop battery pas strict quality control procedure including filtration safety testing voltage capacity battery core battery also pass necessary authentication certification like ce rohs etc leaving factory rest assured quality durability performance carry laptop anywhere work play watch movie longer hour without plugging compatible laptop model sony vaio vpcea vpceb vgp bps vgp bps series clublaptop hi life replacement battery made high grade cell highest quality part cl brand replacement battery persent comparable original battery term including size appearance important quality cl laptop battery pas strict quality control procedure including filtration safety testing voltage capacity battery core battery also pass necessary authentication certification like ce rohs etc leaving factory rest assured quality durability performance carry laptop anywhere work play watch movie longer hour without plugging compatible laptop model sony vaio vpcea vpceb vgp bps vgp bps series', 312: 'arb hp pavilion dv ea replacement cell laptop battery flipkart com genuine product day replacement guarantee free shipping cash delivery', 313: 'rega hp compaq ep er cell cell laptop battery price rega replacement laptop battery hp compaq ep er laptop made highest quality part rega replacement battery confirms specification similar guaranteed meet exceed laptop minimum requirement battery also pass necessary authentication certification like ce rohs etc leaving factory rest assured quality durability performance please make sure selecting correct battery per old battery specification please compare old battery power rating volt capacity mah cell rega replacement laptop battery hp compaq ep er laptop made highest quality part rega replacement battery confirms specification similar guaranteed meet exceed laptop minimum requirement battery also pass necessary authentication certification like ce rohs etc leaving factory rest assured quality durability performance please make sure selecting correct battery per old battery specification please compare old battery power rating volt capacity mah cell', 314: 'arb hp pavilion dv replacement cell laptop battery flipkart com genuine product day replacement guarantee free shipping cash delivery', 315: 'lapguard hp pavilion dv el cell laptop battery price lapguard replacement battery made high grade cell highest quality part lapguard brand replacement battery percent comparable original battery term including size appearance important quality lapguard laptop battery pas strict quality control procedure including filtration safety testing voltage capacity battery core body battery also pass necessary authentication certification like ce rohs etc leaving factory rest assured quality durability performance lapguard replacement battery made high grade cell highest quality part lapguard brand replacement battery percent comparable original battery term including size appearance important quality lapguard laptop battery pas strict quality control procedure including filtration safety testing voltage capacity battery core body battery also pass necessary authentication certification like ce rohs etc leaving factory rest assured quality durability performance', 316: 'lapguard hp pavilion dv tx cell laptop battery flipkart com genuine product day replacement guarantee free shipping cash delivery', 317: 'lapguard lenovo ah replacement cell laptop battery flipkart com genuine product day replacement guarantee free shipping cash delivery', 318: 'lapguard acer travelmate mn replacement cell laptop battery flipkart com genuine product day replacement guarantee free shipping cash delivery', 319: 'sony vaio bps cell laptop battery flipkart com genuine product day replacement guarantee free shipping cash delivery', 320: 'rega hp pavilion dv nr dv sl cell cell laptop battery price rega replacement cell extended laptop battery hp pavilion dv nr dv sl laptop made highest quality part rega replacement battery confirms specification similar guaranteed meet exceed laptop minimum requirement battery also pass necessary authentication certification like ce rohs etc leaving factory rest assured quality durability performance please make sure selecting correct battery per old battery specification please compare old battery power rating volt capacity mah cell rega replacement cell extended laptop battery hp pavilion dv nr dv sl laptop made highest quality part rega replacement battery confirms specification similar guaranteed meet exceed laptop minimum requirement battery also pass necessary authentication certification like ce rohs etc leaving factory rest assured quality durability performance please make sure selecting correct battery per old battery specification please compare old battery power rating volt capacity mah cell', 321: 'arb toshiba dynabook mx compatible black cell laptop battery flipkart com genuine product day replacement guarantee free shipping cash delivery', 322: 'rega gateway md md md cell laptop battery flipkart com genuine product day replacement guarantee free shipping cash delivery', 323: 'arb hp compaq presario cq compatible black cell laptop battery flipkart com genuine product day replacement guarantee free shipping cash delivery', 324: 'print shape monster university party laptop skin mouse pad combo set glue free removal inch laptop skin easy apply scratch resistant lamination print shape monster university party laptop skin mouse pad combo set multicolor price print shape laptop skin made high quality vinyl sheet compatible laptop screen size ranging inch inch trimning skin would required per laptop size skin easy install remove without leaving gum residue specification print shape monster university party laptop skin mouse pad combo set multicolor general brand print shape model name monster university party laptop skin mouse pad suitable type laptop color multicolor warranty warranty summary warranty box number content sale package pack', 325: 'print shape red bull laptop skin mouse pad combo set glue free removal inch laptop skin easy apply scratch resistant lamination print shape red bull laptop skin mouse pad combo set multicolor price print shape laptop skin made high quality vinyl sheet compatible laptop screen size ranging inch inch trimning skin would required per laptop size skin easy install remove without leaving gum residue specification print shape red bull laptop skin mouse pad combo set multicolor general brand print shape model name red bull laptop skin mouse pad suitable type laptop color multicolor warranty warranty summary warranty box number content sale package pack', 326: 'specification print shape doraemon laptop skin mouse pad combo set multicolor general brand print shape model name doraemon laptop skin mouse pad suitable type laptop color multicolor warranty warranty summary warranty box number content sale package pack', 327: 'print shape rome italy laptop skin mouse pad combo set glue free removal inch laptop skin easy apply scratch resistant lamination print shape rome italy laptop skin mouse pad combo set multicolor price print shape laptop skin made high quality vinyl sheet compatible laptop screen size ranging inch inch trimning skin would required per laptop size skin easy install remove without leaving gum residue specification print shape rome italy laptop skin mouse pad combo set multicolor general brand print shape model name rome italy laptop skin mouse pad suitable type laptop color multicolor warranty warranty summary warranty box number content sale package pack', 328: 'print shape abstract ball laptop skin mouse pad combo set glue free removal inch laptop skin easy apply scratch resistant lamination print shape abstract ball laptop skin mouse pad combo set multicolor price print shape laptop skin made high quality vinyl sheet compatible laptop screen size ranging inch inch trimning skin would required per laptop size skin easy install remove without leaving gum residue specification print shape abstract ball laptop skin mouse pad combo set multicolor general brand print shape model name abstract ball laptop skin mouse pad suitable type laptop color multicolor warranty warranty summary warranty box number content sale package pack', 329: 'print shape mind haker laptop skin mouse pad combo set glue free removal inch laptop skin easy apply scratch resistant lamination print shape mind haker laptop skin mouse pad combo set multicolor price print shape laptop skin made high quality vinyl sheet compatible laptop screen size ranging inch inch trimning skin would required per laptop size skin easy install remove without leaving gum residue specification print shape mind haker laptop skin mouse pad combo set multicolor general brand print shape model name mind haker laptop skin mouse pad suitable type laptop color multicolor warranty warranty summary warranty box number content sale package pack', 330: 'print shape peacock feather laptop skin mouse pad combo set glue free removal inch laptop skin easy apply scratch resistant lamination print shape peacock feather laptop skin mouse pad combo set multicolor price print shape laptop skin made high quality vinyl sheet compatible laptop screen size ranging inch inch trimning skin would required per laptop size skin easy install remove without leaving gum residue specification print shape peacock feather laptop skin mouse pad combo set multicolor general brand print shape model name peacock feather laptop skin mouse pad suitable type laptop color multicolor warranty warranty summary warranty box number content sale package pack', 331: 'print shape batman red superman laptop skin mouse pad combo set glue free removal inch laptop skin easy apply scratch resistant lamination print shape batman red superman laptop skin mouse pad combo set multicolor price print shape laptop skin made high quality vinyl sheet compatible laptop screen size ranging inch inch trimning skin would required per laptop size skin easy install remove without leaving gum residue specification print shape batman red superman laptop skin mouse pad combo set multicolor general brand print shape model name batman red superman laptop skin mouse pad suitable type laptop color multicolor warranty warranty summary warranty box number content sale package pack', 332: 'print shape sony headphone laptop skin mouse pad combo set glue free removal inch laptop skin easy apply scratch resistant lamination print shape sony headphone laptop skin mouse pad combo set multicolor price print shape laptop skin made high quality vinyl sheet compatible laptop screen size ranging inch inch trimning skin would required per laptop size skin easy install remove without leaving gum residue specification print shape sony headphone laptop skin mouse pad combo set multicolor general brand print shape model name sony headphone laptop skin mouse pad suitable type laptop color multicolor warranty warranty summary warranty box number content sale package pack', 333: 'print shape roronoa zora laptop skin mouse pad combo set glue free removal inch laptop skin easy apply scratch resistant lamination print shape roronoa zora laptop skin mouse pad combo set multicolor price print shape laptop skin made high quality vinyl sheet compatible laptop screen size ranging inch inch trimning skin would required per laptop size skin easy install remove without leaving gum residue specification print shape roronoa zora laptop skin mouse pad combo set multicolor general brand print shape model name roronoa zora laptop skin mouse pad suitable type laptop color multicolor warranty warranty summary warranty box number content sale package pack', 334: 'print shape gentle man laptop skin mouse pad combo set glue free removal inch laptop skin easy apply scratch resistant lamination print shape gentle man laptop skin mouse pad combo set multicolor price print shape laptop skin made high quality vinyl sheet compatible laptop screen size ranging inch inch trimning skin would required per laptop size skin easy install remove without leaving gum residue specification print shape gentle man laptop skin mouse pad combo set multicolor general brand print shape model name gentle man laptop skin mouse pad suitable type laptop color multicolor warranty warranty summary warranty box number content sale package pack', 335: 'print shape deep ambition laptop skin mouse pad combo set glue free removal inch laptop skin easy apply scratch resistant lamination print shape deep ambition laptop skin mouse pad combo set multicolor price print shape laptop skin made high quality vinyl sheet compatible laptop screen size ranging inch inch trimning skin would required per laptop size skin easy install remove without leaving gum residue specification print shape deep ambition laptop skin mouse pad combo set multicolor general brand print shape model name deep ambition laptop skin mouse pad suitable type laptop color multicolor warranty warranty summary warranty box number content sale package pack', 336: 'print shape psychic laptop skin mouse pad combo set glue free removal inch laptop skin easy apply scratch resistant lamination print shape psychic laptop skin mouse pad combo set multicolor price print shape laptop skin made high quality vinyl sheet compatible laptop screen size ranging inch inch trimning skin would required per laptop size skin easy install remove without leaving gum residue specification print shape psychic laptop skin mouse pad combo set multicolor general brand print shape model name psychic laptop skin mouse pad suitable type laptop color multicolor warranty warranty summary warranty box number content sale package pack', 337: 'print shape feather wheel laptop skin mouse pad combo set glue free removal inch laptop skin easy apply scratch resistant lamination print shape feather wheel laptop skin mouse pad combo set multicolor price print shape laptop skin made high quality vinyl sheet compatible laptop screen size ranging inch inch trimning skin would required per laptop size skin easy install remove without leaving gum residue specification print shape feather wheel laptop skin mouse pad combo set multicolor general brand print shape model name feather wheel laptop skin mouse pad suitable type laptop color multicolor warranty warranty summary warranty box number content sale package pack', 338: 'print shape red heart laptop skin mouse pad combo set glue free removal inch laptop skin easy apply scratch resistant lamination print shape red heart laptop skin mouse pad combo set multicolor price print shape laptop skin made high quality vinyl sheet compatible laptop screen size ranging inch inch trimning skin would required per laptop size skin easy install remove without leaving gum residue specification print shape red heart laptop skin mouse pad combo set multicolor general brand print shape model name red heart laptop skin mouse pad suitable type laptop color multicolor warranty warranty summary warranty box number content sale package pack', 339: 'print shape red razer logo laptop skin mouse pad combo set glue free removal inch laptop skin easy apply scratch resistant lamination print shape red razer logo laptop skin mouse pad combo set multicolor price print shape laptop skin made high quality vinyl sheet compatible laptop screen size ranging inch inch trimning skin would required per laptop size skin easy install remove without leaving gum residue specification print shape red razer logo laptop skin mouse pad combo set multicolor general brand print shape model name red razer logo laptop skin mouse pad suitable type laptop color multicolor warranty warranty summary warranty box number content sale package pack', 340: 'print shape think positively laptop skin mouse pad combo set glue free removal inch laptop skin easy apply scratch resistant lamination print shape think positively laptop skin mouse pad combo set multicolor price print shape laptop skin made high quality vinyl sheet compatible laptop screen size ranging inch inch trimning skin would required per laptop size skin easy install remove without leaving gum residue specification print shape think positively laptop skin mouse pad combo set multicolor general brand print shape model name think positively laptop skin mouse pad suitable type laptop color multicolor warranty warranty summary warranty box number content sale package pack', 341: 'print shape power roman reign laptop skin mouse pad combo set glue free removal inch laptop skin easy apply scratch resistant lamination print shape power roman reign laptop skin mouse pad combo set multicolor price print shape laptop skin made high quality vinyl sheet compatible laptop screen size ranging inch inch trimning skin would required per laptop size skin easy install remove without leaving gum residue specification print shape power roman reign laptop skin mouse pad combo set multicolor general brand print shape model name power roman reign laptop skin mouse pad suitable type laptop color multicolor warranty warranty summary warranty box number content sale package pack', 342: 'print shape mountain wolf laptop skin mouse pad combo set glue free removal inch laptop skin easy apply scratch resistant lamination print shape mountain wolf laptop skin mouse pad combo set multicolor price print shape laptop skin made high quality vinyl sheet compatible laptop screen size ranging inch inch trimning skin would required per laptop size skin easy install remove without leaving gum residue specification print shape mountain wolf laptop skin mouse pad combo set multicolor general brand print shape model name mountain wolf laptop skin mouse pad suitable type laptop color multicolor warranty warranty summary warranty box number content sale package pack', 343: 'print shape monster precious laptop skin mouse pad combo set glue free removal inch laptop skin easy apply scratch resistant lamination print shape monster precious laptop skin mouse pad combo set multicolor price print shape laptop skin made high quality vinyl sheet compatible laptop screen size ranging inch inch trimning skin would required per laptop size skin easy install remove without leaving gum residue specification print shape monster precious laptop skin mouse pad combo set multicolor general brand print shape model name monster precious laptop skin mouse pad suitable type laptop color multicolor warranty warranty summary warranty box number content sale package pack', 344: 'print shape scare first laptop skin mouse pad combo set glue free removal inch laptop skin easy apply scratch resistant lamination print shape scare first laptop skin mouse pad combo set multicolor price print shape laptop skin made high quality vinyl sheet compatible laptop screen size ranging inch inch trimning skin would required per laptop size skin easy install remove without leaving gum residue specification print shape scare first laptop skin mouse pad combo set multicolor general brand print shape model name scare first laptop skin mouse pad suitable type laptop color multicolor warranty warranty summary warranty box number content sale package pack', 345: 'specification print shape caution laptop skin mouse pad combo set multicolor general brand print shape model name caution laptop skin mouse pad suitable type laptop color multicolor warranty warranty summary warranty box number content sale package pack', 346: 'print shape jurassic park laptop skin mouse pad combo set glue free removal inch laptop skin easy apply scratch resistant lamination print shape jurassic park laptop skin mouse pad combo set multicolor price print shape laptop skin made high quality vinyl sheet compatible laptop screen size ranging inch inch trimning skin would required per laptop size skin easy install remove without leaving gum residue specification print shape jurassic park laptop skin mouse pad combo set multicolor general brand print shape model name jurassic park laptop skin mouse pad suitable type laptop color multicolor warranty warranty summary warranty box number content sale package pack', 347: 'print shape asus logo yellow stripe laptop skin mouse pad combo set glue free removal inch laptop skin easy apply scratch resistant lamination print shape asus logo yellow stripe laptop skin mouse pad combo set multicolor price print shape laptop skin made high quality vinyl sheet compatible laptop screen size ranging inch inch trimning skin would required per laptop size skin easy install remove without leaving gum residue specification print shape asus logo yellow stripe laptop skin mouse pad combo set multicolor general brand print shape model name asus logo yellow stripe laptop skin mouse pad suitable type laptop color multicolor warranty warranty summary warranty box number content sale package pack', 348: 'print shape msi dragon logo laptop skin mouse pad combo set glue free removal inch laptop skin easy apply scratch resistant lamination print shape msi dragon logo laptop skin mouse pad combo set multicolor price print shape laptop skin made high quality vinyl sheet compatible laptop screen size ranging inch inch trimning skin would required per laptop size skin easy install remove without leaving gum residue specification print shape msi dragon logo laptop skin mouse pad combo set multicolor general brand print shape model name msi dragon logo laptop skin mouse pad suitable type laptop color multicolor warranty warranty summary warranty box number content sale package pack', 349: 'plane switching ip technology nit typical screen mode wqhd standard refresh rate hz fhd resolution ip panel hz refresh rate vrb response time dual hdmi displayport built watt speaker amd freesync technology acer blue light filter acer flicker le technology hdr technology tilt swivel pivot height adjustable vesa mount compatible', 350: 'experience supreme quality hd content widescreen ultra extended graphic array', 351: 'full hd ip widescreen resolution response time refresh rate hertz pixel pitch millimeter degree wide viewing angle display color million zero frame design provides maximum visibility screen edge edge signal input hdmi dvi withhdcp vga support hdcp version monitor support hdcp picture visible using osd menu adjust brightness contrast maximum reset default setting brightness nit operating power consumption wattsstyle monitor size inch acer series wide viewing ip display show every detail clearly vivid without color difference viewing angle zero frame design put boundary visual enjoyment brushed hairline finish stand match environment full hd resolution superior million contrast ratio get detailed imagery viewing photo browsing web also make viewing document side side easy also support vga dvi hdmi input easily power extend enjoyment smartphone tablet full hd display display feature power saving technology conserve cost resource um qr aa environmental certification mpr ii', 352: 'uhd widescreen ip display nvidia sync technology refresh rate hz overclocking hz high brightness contrast vesa certified displayhdr dci wide color gamut optimize color quantum dot technology color difference delta port display port hdmi usb port display port usb cable included fasten seatbelt predator xb ultra hd display resolution compromise gaming performance color speed inch monitor combine jaw dropping spec including ip panel support blazing fast refresh rate also featuring nvidia sync technology eliminate screen tearing provide gamers epic gaming experience help secure victory plus built eye protection ergonomics allow press forward battle without fatigue um hx aa', 353: 'inch full hd curved widescreen va sync freesync compatible display hz refresh rate using display port response time pixel pitch mm brightness nit port display port hdmi dvi hdcp display port hdmi cable includedstyle full hd hz pattern name monitor acer ed curved panel monitor full hd resolution delivers incredible sync compatible monitor give want gaming experience smooth tear free gameplay unleash gaming maximum potential provide richer color far beyond previously possible crisp true life color come alive amazing resolution allowing enjoy high definition entertainment comfort home wide view angle technology let share screen friend family color stay true matter angle viewing incredible contrast ratio rapid response time ensure game work movie smooth look epic possible um aa', 354: 'full hd curved widescreen va gaming monitor adaptive sync technology zero frame design speaker watt per speaker refresh rate hz response time vrb pixel pitch mm ergonomic tilt height adjustment range swivel port display port hdmi hdmi cable included', 355: 'hd widescreen ip zero frame amd radeon free sync sync compatible monitor response time vrb refresh rate hz overclocking hz using display port speaker watt per speaker visa certified display quantum dot technology dci low delta port display port hdmi usb port includes display port usb cable size inch uhd fasten seatbelt nitro xv ultra hd display resolution compromise gaming performance color speed inch monitor combine jaw dropping spec including ip panel support blazing fast refresh rate sync compatible monitor give want gaming experience smooth tear free gameplay unleash gaming maximum potential provide richer color far beyond previously possible experience something new um hx aa', 356: 'uhd serge color gamut hemi displayport audio mad free sync reduce tearing stuttering graphic card picture picture pbpthink big big acer stunning monitor delivers ultra hd resolution presenting stunning high quality image excellent detail bask bright boundless view movie like display cinema come life home sat screen never settle le manufacturer', 357: 'full hd ip widescreen resolution response time pixel pitch mm signal input hdmi dvi hdcp vga brightness nit standby power consumption mwthe acer bid wide viewing ip display show every detail clearly vivid without color difference viewing angle zero frame design put boundary visual enjoyment brushed hairline finish stand match environment place product unstable cart stand table product fall could seriously damage', 358: 'display area led backlit display aspect ratio max native resolution interface vga port adjustable display angle viewing angle horizontal vertical hertzacer hl ymdr led monitor power description input voltage ac ac standby power consumption mw mode power consumption mw operating power consumption energy star', 359: 'hz refresh rate virtual response boost vesa mount compatible amd freesync technology million color support vga input one hdmi input two plane switching technologythe ip monitor full hd resolution aspect ratio present stunning high quality image excellent detail also hdmi vga port radeon freesync end choppy gameplay broken frame fluid artifact free performance virtually framerate fast response time enhanced gamers game experience need fiddle button easily modify monitor setting via display widget utility software', 360: 'ultra thin inch led display come encased stylish bezel matched sturdy black base flexible height adjusted rotation stand tilt swivel optimal view includes cable management vesa wall mounting support keep thing neat tidy enjoy widely available hd digital content without image distortion expansive inch widescreen lcd series inch lcd designed high definition stunning resolution signal input hdmi dvi display portsize inch wqhd acer series monitor sport super slim profile let fit nicely space size outstanding performance eco friendliness smart use energy complement sleek design staying well within budget acer hul showcase widescreen wqhd lcd impressive resolution enjoy widely available hd digital content without image distortion expansive widescreen lcd remarkable million contrast ratio ensures crystal clear viewing experience rapid response time keep moving image sharp also support dvi hdmi input offering greater compatibility acer series lcd brings amazing multimedia experience home widescreen cinematic view unique fighter pilot style', 361: 'hz refresh rate response time vrb brightness cd zero frame designin competitive gaming every frame matter introducing acer xv ck gaming monitor qhd resolution monitor keep game play amd radeon technology game frame rate determined graphic card fixed refresh rate monitor giving serious competitive edge plus user enjoy comfortable viewing experience gaming via flicker le low dimming comfyview display design save space desk let place multiple monitor side side build seamless big screen display um cx aa', 362: 'inch full hd widescreen ip monitor amd radeon freesync technology response time vrb refresh rate hertz zero frame design port display port hdmi hdmi cable included', 363: 'uhd hdr display high definition quadruple pixel full hd achieves vivid expression image detail display real clear achieve stable smooth game environment without image delay stuttering hdr deliver better visual effect flexible touch experience connect usb cable correctly complete touch support point touch win io support single point touch easy operation fast response build touch environment anytime go easy connect device full featured type function one usb cable complete touch video power supply screen appears black flash insufficient power supply need connect power adapter rich interface smart cover usb hdmi video input mm headphone jack builidng dual stereo speaker pu leather cover protect monitor use stand different view angle option wide application portable touch monitor work laptop computer mini pc raspberry pi gaming monitor perfect xbox switch main screen monitor huawei samsung description inch touch screen monitor aluminum alloy bezel high resolution aspect ratio cd brightness contrast ratio degree viewing angle view vivid clear image multi function connection laptop wide used macbook macbook pro hp notebook computer acer pc laptop io linux android window plug play making work efficiently game monitor xbox one xbox switch smartphone huawei mate mate pro mate mate pro mate pro honornote samsung note note specification panel type si tft lcd resolution rgb uhd panel size inch active area mm brightness cd typ contrast ratio typ display angle degree signal interface edp lane pin box portable monitor mini hdmi cable usb usb cable usb usb cable leather protection cover vesa screw user guide', 364: 'inch full hd widescreen tn monitor amd radeon freesync technology hertz refresh rate response time acer visioncare technology dimension without stand inch port display port hdmi includes hdmi cable', 365: 'full hd widescreen ip gaming monitor zero frame design speaker watt per speaker refresh rate hz response time hdr ready pixel pitch mm port display port hdmi hdmi cable included competitive gaming every frame matter introducing acer kg gaming monitor full hd resolution monitor keep game play amd radeon technology game frame rate determined graphic card fixed refresh rate monitor giving serious competitive edge plus user enjoy comfortable viewing experience gaming via flicker le low dimming comfyview display design save space desk let place multiple monitor side side build seamless big screen display um hx aa', 366: 'product type monitor package dimension cm cm cm sturdy monitor also wide array port connect many type device package weight lb', 367: 'response time vrb refresh rate hertz using display port hdmi port brightness nit zero frame design ergo stand ergonomically designed stand vesa mounting compliant millimeter millimeter port display port hdmi vga audio audio vga audio cable included enjoy outstanding visual experience acer cb zero frame ip monitor designed prosumers mind display feature incredible image color amd radeon free sync technology frame rate determined graphic card fixed refresh rate monitor giving serious competitive edge plus user enjoy comfortable viewing experience gaming via flicker le low dimming display design save space desk let place multiple monitor side side build seamless big screen display um hb aa', 368: 'full hd widescreen ip display refresh rate hz using hdmi port response time tilt aopen eye protection bluelight filter flickerless technology port hdmi vga hdmi cable included', 369: 'wqhd widescreen tn monitor amd free sync technology refresh rate hz using display port hdmi port response time zero frame design speaker watt per speaker port display port hdmi port hdmi port display port cable included competitive gaming every frame matter introducing acer xf series gaming monitor wqhd resolution monitor keep game play amd freesync technology game frame rate determined graphic card fixed refresh rate monitor giving serious competitive edge plus user enjoy comfortable viewing experience gaming via flicker le low dimming comfyview display design save space desk let place multiple monitor side side build seamless big screen display um hx aa', 370: 'inch widescreen tn display response time brightness cd pixel pitch mm input voltage ac ac signal input dvi vga horizontal viewing angle size hd acer hql bd widescreen lcd display combine stylish ultra thin functionality amazing resolution allowing enjoy high definition entertainment comfort home incredible contrast ratio rapid response time highlight advanced technology display well hql bd lcd also feature dual input vga dvi greater compatibility kensington lock slot protect investment energy star compliance help save money energy', 371: 'uhd widescreen ip zero frame monitor amd freesync technology color saturation dci srgb support hdr format billion color pixrl pitch mm brightness cd hz refresh rate ergonomic tilt speaker watt per speaker port display port hdmi hdmi cable included competitive gaming every frame matter introducing acer vg gaming monitor uhd resolution monitor keep game play amd radeon technology game frame rate determined graphic card fixed refresh rate monitor giving serious competitive edge plus user enjoy comfortable viewing experience gaming via flicker le low dimming comfyview display design save space desk let place multiple monitor side side build seamless big screen display um pv aa', 372: 'series led designed high definition stunning resolution rapid response time reduces deviation transition time deliver high quality moving image bringing immersive graphic movie game dvi input high bandwidth digital content protection hdcp allows viewing digital movie copy protected medium signal input dvi hdcp vga dimension inch without stand inch stand hdmi port vesa mount sold separately stand tiltable using osd adjust brightness contrast maximum reset default setting signal input dvi hdcp vga maximum resolution standard refresh rate hz twisted nematic film tn film vesa mount hole hdmi port included interface port dvi vga standby power consumption mw mode power consumption mwsize inch style full hd configuration single acer series monitor sport super slim profile shaped stand let fit nicely space size outstanding performance eco friendliness smart use energy complement sleek design staying well within budget acer hql bbd showcase widescreen lcd impressive resolution enjoy widely available hd digital content without image distortion expansive widescreen lcd remarkable million contrast ratio ensures crystal clear viewing experience rapid response time keep moving image sharp also support vga dvi input offering greater compatibility acer series lcd brings amazing multimedia experience home widescreen cinematic view unique fighter pilot style aspect ratio viewing angle horizontal vertical brightness cd candela per square metre', 373: 'va panel wfhd resolution hz refresh rate vrb response time hdmi vga vrb response time color saturation ntsc', 374: 'upc weight lbsacer kg sbiip full hd hz tn led gaming monitor freesync black', 375: 'full hd widescreen va gaming monitor zero frame design speaker watt per speaker hdr support refresh rate hz response time vrb brightness nit pixel pitch mm port display port hdmi hdmi audio hdmi cable included competitive gaming every frame matter introducing acer qg gaming monitor full hd resolution monitor keep game play amd freesync premium technology game frame rate determined graphic card fixed refresh rate monitor giving serious competitive edge plus user enjoy comfortable viewing experience gaming via flicker le low dimming comfyview display design save space desk let place multiple monitor side side build seamless big screen display um qq aa', 376: 'full hd curved widescreen va display amd freesync technology hz refresh rate using display port response time pixel pitch mm brightness nit port display port hdmi dvi hdcp display port cable includedacer inch curved panel monitor full hd resolution delivers incredible crisp true life color come alive amazing resolution allowing enjoy high definition entertainment comfort home wide view angle technology let share screen friend family color stay true matter angle viewing amd freesync technology rapid response time ensure game work movie smooth look epic possible um ue aa using osd adjust brightness contrast maximum reset default setting', 377: 'acer xf game like mean acer xf series monitor designed push pixel max ip technology provides wide view enhanced color srgb color gamut rapid hz refresh rate smooth action overclock refresh rate hz shortens time take frame rendering lower input lag provides gamers excellent game experience add response time got pixel power smoothed gaming slide ride amd freesync freesync technology eliminates screen tearing minimizes stuttering syncing display refresh rate frame output computer display card pc gaming get much smoother right move acer ergostand stand tilt swivel pivot height adjustment always find ideal viewing position also detach display panel use vesa mounting device needed vision protected gaming eye intensive help protect acer eyeprotect suite technology ensure eye thing get beat acer flicker le blue light filter low dimming comfyview technology combine make eye feel fine easy green entire xf line also multiple green design certification attest commitment producing product great green screen size maximum resolution full hd hz aspect ratio contrast ratio response time overclock refresh rate hz color supported million adaptive contrast management acm brightness cd squared backlight led viewing angle degree horizontal degree vertical panel type twisted nematic tn stand tilt degree degree height adj port connector hdmi displayport power mw power standby mw power power environmental certification mpr ii tearing prevention technology amd free sync vesa compatible yes mm dimension stand weight lb stand acer xf sbiipr fhd gaming monitor amd freesync', 378: 'number screen nitro qg gaming monitor qg bii', 379: 'full hd widescreen ip monitor amd freesync technology zero frame design adjustable full hd webcam microphone refresh rate hz response time vrb brightness nit pixel pitch mm aspect ratio million color supported tilt degree degree height adjustment range swivel pivot port display port hdmi vga usb used webcam audio audio hdmi usb cable included', 380: 'full hd widescreen ip zero frame monitor amd radeon freesync technology refresh rate hz overclocking hz using display port response time speaker watt per speaker port display port hdmi port audio display port cable included competitive gaming every frame matter introducing acer vg gaming monitor full hd resolution monitor keep game play amd radeon technology game frame rate determined graphic card fixed refresh rate monitor giving serious competitive edge plus user enjoy comfortable viewing experience gaming via flicker le low dimming comfyview display design save space desk let place multiple monitor side side build seamless big screen display um hv aa', 381: 'please check model picture purchase special skill technique required proper installation brand new high quality provide best service question please feel free contact used acer screen video display cable replacement pinused acer display line replacement brand new screen line applicable tg dd zrtlc ddozrtl', 382: 'full hd widescreen ip zero frame monitor amd radeon freesync technology response time refresh rate hz high brightness contrast vesa certified displayhdr color gamut srgb speaker watt per speaker port display port hdmi hdmi cable included size inch fhd hz competitive gaming every frame matter introducing acer xv gaming monitor full hd resolution monitor keep game play amd radeon technology game frame rate determined graphic card fixed refresh rate monitor giving serious competitive edge plus user enjoy comfortable viewing experience gaming via flicker le low dimming comfyview display design save space desk let place multiple monitor side side build seamless big screen display um hx aa', 383: 'billion color nit peak hdr mode nit native uhd speaker hdmi displayport usb black mpr ii hertzacer bm led lcd monitor free year warranty billion color nit peak hdr mode nit native uhd speaker hdmi displayport usb black mpr ii', 384: 'wqhd widescreen ip display refresh rate hz dimension without stand inch response time acer visioncare technology port display port hdmi dvi hdcp hdmi cable included pattern name monitor style wqhd color black acer eb hqu cbidpx lcd led backlit display combine stylish functionality amazing resolution allowing enjoy high definition entertainment comfort home incredible contrast ratio rapid response time highlight advanced technology eb hqu cbidpx lcd also feature display hdmi dvi port greater compatibility um je aa brightness cd power power', 385: 'number screen screen size class viewable screen size screen mode full hd panel technology plane switching ip technologyacer vg pbiip ag threesides ip', 386: 'full hd widescreen ip display amd freesync technology response time vrb refresh rate hz using hdmi port brightness nit elegant ultra thin zero frame design provides maximum visibility screen edge edge ergonomic tilt port hdmi vga includes vga cable acer series wide viewing ip display show every detail clearly vivid without color difference viewing angle zero frame design put boundary visual enjoyment brushed hairline finish stand match environment amd radeon freesync technology game frame rate determined graphic card fixed refresh rate monitor giving serious competitive edge full hd resolution superior million contrast ratio get detailed imagery viewing photo browsing web also make viewing document side side easy also support hdmi vga input easily power extend enjoyment smartphone tablet full hd display um wr aa', 387: 'response time vrb zero frame designin competitive gaming every frame matter introducing acer ka gaming monitor wqhd resolution monitor keep game play amd radeon freesync technology game frame rate determined graphic card fixed refresh rate monitor giving serious competitive edge plus user enjoy comfortable viewing experience gaming via flicker le low dimming display design save space desk let place multiple monitor side side build seamless big screen display um hx aa', 388: 'professional ideal use office environment library computer lab series monitor connectivity technology vga package weight kilogram package dimension centimeter acer wl wide frameless display ip anti glare', 389: 'full hd widescreen tn monitor amd freesync sync compatible hz using display port zero frame design response time speaker watt per speaker port display port hdmi visa mount standard hertzsize inch style hz fhd pattern name monitor competitive gaming every frame matter introducing acer xf series gaming monitor full hd resolution monitor keep game play validated nvidia sync compatible monitor give want gaming experience smooth tear free gameplay whole lot plus user enjoy comfortable viewing experience gaming via flicker le low dimming comfyview display design save space desk let place multiple monitor side side build seamless big screen display um hx aa viewing angle horizontal vertical', 390: 'acer hyl bd inch led ip monitor vga dvi integrated speaker package content hyl bd widescreen lcd monitor power cord vga cableacer hyl monitor sport super slim profile shaped stand let fit nicely space size outstanding performance eco friendliness smart use energy complement sleek design staying well within budget acer monitor showcase widescreen lcd impressive resolution delivers excellent detail making perfect widescreen hd gaming multimedia productivity application', 391: 'upc weight lbsacer yu bmiipx inch anti glare qhd max resolution ip panel aspect ration gtg response time three year limited warranty', 392: 'uhd widescreen ip tuv eyesafe certified low blue light monitor amd freesync technology zero frame design refresh rate hz response time brightness nit pixel pitch mm aspect ratio billion color supported tilt degree degree height adjustment range swivel pivotdelve world awesome acer cbl monitor offer unmatched viewing experience featuring large screen delivers astonishing ultra hd resolution excellent detail designed prosumers mind display feature incredible image color eyesafe display intelligently manages light energy source selectively reducing blue light dispersing across light spectrum design save space desk let place multiple monitor side side build seamless big screen display um pb aa', 393: 'display aspect ratio native maximum resolution mm pixel pitch panel type ip signal input display port hdmi portstyle wqhd fasten seatbelt acer predator xb hu wqhd display turbocharge gaming experience monitor combine jaw dropping spec ip panel support hz refresh rate delivering amazing gaming experience also featuring nvidia sync technology eliminate screen tearing provide gamers epic gaming experience help secure victory plus built eye protection ergonomics allow press forward battle without fatigue store lcd monitor room temperature', 394: 'wqhd widescreen agile splendor ip monitor amd freesync premium technology high brightness contrast vesa certified displayhdr color gamut dci color accuracy color difference delta refresh rate hz response time brightness nit pixel pitch mm tuv eyesafe certification acer visioncare technology port display port hdmi usb port display port hdmi usb cable included', 395: 'screen size maximum resolution contrast ratio brand acer series et model um je aa cabinet color black screen size led backlight led maximum resolution brightness nit contrast ratio aspect ratio response time display type wqhd hdmi yes', 396: 'nit inch led package weight kilogram inch led nit', 397: 'zero frame ip wide view angle display srgb wqhd resolution hz refresh rate response time vrb amd freesync technology hdmi displayport speakertake gaming movie next level acer nitro gaming series vg monitor feature large viewing real estate wqhd resolution delivers every bit detail everything look fantastic screen thanks fast response time hz frame rate acm contrast ratio also support freesync technology tear free stutter free gaming plus zeroframe design provides boundless view flicker le low dimming comfy view technology ensure comfortable viewing hour end', 398: 'vga hdmi input full hd resolution dynamic contrast ratio response time gtg viewing angle', 399: 'maximum resolution full hd hz brightness cd tearing prevention technology amd free sync', 400: 'full hd widescreen ip gaming monitor zero frame design speaker watt per speaker refresh rate hz response time vrb brightness nit pixel pitch mm port hdmi vga audio audio hdmi cable included', 401: 'curved display aspect ratio high brightness contrast vesa certified display response time dci wide color gamut hz refresh rate using display port hdmi zero frame design speaker watt per speaker port display port hdmi hdmi audio hdmi cable included', 402: 'number screen viewable screen size screen mode full hd panel technology vertical alignment va response time vrb', 403: 'qhd curved widescreen ip display refresh rate hz overclocking hz using display port port display port hdmi usb port display port hdmi usb cable includedstyle curved ultrawide qhd ip sync size inch predator designed ultimate gaming performance style aspect ratio inch curved screen transform viewing experience drawing deep action also feature nvidia sync technology eliminate screen tearing provide gamers epic gaming experience help secure victory brightness cd', 404: 'brand new box product ship relevant accessoriesthe acer hql abd widescreen lcd display combine stylish ultra thin functionality amazing resolution allowing enjoy high definition entertainment comfort home incredible contrast ratio rapid response time highlight advanced technology display earth friendly well', 405: 'display type widescreen lcd led backlight display area viewable max native resolution interface vga port disport displayport speaker integrated speakersthe hql abmdp widescreen led backlit lcd monitor acer feature variety display input simplifying process setting configuring monitor configured take advantage enhanced resolution provides clear sharp picture along enhanced resolution response time ensures reduced lag blur viewing movie video dynamic contrast ratio provides darker dark brighter light color display also support horizontal vertical viewing angle allowing monitor viewed variety position', 406: 'response time vrb refersh rate hz using display port hdmi port brightness nit elegant ultra thin zero frame design provides maximum visibility screen edge edge usb type port usb type port supporting data power displayport usb video port display port hdmi includes hdmi cable usb type cableacer sa inch monitor amazing thin enclosure frameless bezel amd radeon freesync technology frame rate determined graphic card fixed refresh rate monitor giving serious competitive edge full hd resolution incredible contrast ratio let enjoy high definition entertainment comfort home enjoy accurate color performance presented ip technology vivid color every viewing angle eye protect technology also give comfortable viewing experience energy star compliance help save money energy um aa', 407: 'uhd widescreen ip nvidia sync compatible creator monitor pantone validated high brightness contrast vesa certified displayhdr color difference delta nit brightness dci wide color gamut refresh rate hz overclocking hz using display port response time vrb port display port hdmi usb port includes display port cable usb cable display finely detailed design concept complex content conceptd cp series inch monitor uhd resolution pantone validated uhd display provides professional color accuracy delta dci enjoy pristine hdr image vesa displayhdr certification eliminate visual artifact nvidia sync compatible display um hc aa', 408: 'inch full hd widescreen tn monitor mad freesync sync compatible hertz using display port hdmi port zero frame design response time speaker watt per speaker port display port hdmi hdmi backlight led vesa compatible yes millimeterin competitive gaming every frame matter introducing acer xf gaming monitor full hd resolution monitor keep game play sync compatible monitor give want gaming experience smooth tear free gameplay unleash gaming maximum potential provide richer color far beyond previously possible experience something new plus user enjoy comfortable viewing experience gaming via flicker le low dimming comfy view display design save space desk let place multiple monitor side side build seamless big screen display um kx aa', 409: 'certified refurbished product certified factory refurbished show limited wear includes original accessory plus day warranty full hd resolution easily adjust display setting best suit whatever viewing data medium movie photo display amaze competitive gaming every frame matter introducing acer gaming monitor full hd resolution monitor keep game play amd radeon freesync technology game frame rate determined graphic card fixed refresh rate monitor giving serious competitive edge', 410: 'wqhd ultrawide va display amd radeon freesync technology curved display brightness cd vesa certified display hdr hz refresh rate response time vrb zero frame design speaker watt per speaker port display port hdmi hdmi cable display port cable included', 411: 'full hd widescreen ip display refresh rate hz response time acer visioncare technology port hdmi vga vga cable included', 412: 'response time pixel pitch mm speaker signal input hdmi vga hertzin competitive gaming every frame matter introducing acer xf gaming monitor full hd resolution monitor keep game play amd freesync technology game frame rate determined graphic card fixed refresh rate monitor giving serious competitive edge plus user enjoy comfortable viewing experience gaming via flicker le low dimming display design save space desk let place multiple monitor side side build seamless big screen display', 413: 'full hd widescreen ip display amd radeon freesync technology response time vrb brightness cd viewing angle degree horizontal degree vertical refresh rate hz hdmi port zero frame design ergostand ergonomically designed stand port hdmi vga vga cable included enjoy outstanding visual experience acer cb zero frame ip monitor designed prosumers mind display feature incredible image color amd radeon freesync technology frame rate determined graphic card fixed refresh rate monitor giving serious competitive edge plus user enjoy comfortable viewing experience gaming via flicker le low dimming display design save space desk let place multiple monitor side side build seamless big screen display um qb aa', 414: 'wqhd widescreen agile splendor ip monitor amd radeon freesync premium technology refresh rate overclock hz using display port usb type response time brightness native nit hdr mode peak nit high brightness contrast vesa certified displayhdr color gamut adobe rgb color accuracy delta ergonomic tilt height adjustment range swivel pivot yes port usb type port display port hdmi audio usb port display port hdmi usb cable included competitive gaming every frame matter introducing acer xv gaming monitor wqhd resolution monitor keep game play amd radeon premium technology game frame rate determined graphic card fixed refresh rate monitor giving serious competitive edge plus user enjoy comfortable viewing experience gaming via flicker le low dimming comfyview display design save space desk let place multiple monitor side side build seamless big screen display um hx aa power power', 415: 'acer xg monitor feature wqhd resolution presenting stunning high quality image excellent detail enhances user working efficiency creates outstanding visual enjoyment amd free sync game frame rate determined graphic card fixed refresh rate monitor eliminates screen tearing delivers smooth gaming experience fast response time enhances game experience matter fast moving action transition rendered smoothly without annoying effect smearing ghosting signal input dvi hdmi display portstyle wqhd size inch competitive gaming every frame matter introducing acer xg series gaming monitor wqhd resolution monitor keep game play amd free sync technology game frame rate determined graphic card fixed refresh rate monitor giving serious competitive edge plus user enjoy comfortable viewing experience gaming via flicker le low dimming comfy view display zero frame design save space desk let place multiple monitor side side build seamless big screen display power watt power viewing angle degree horizontal degree vertical', 416: 'full hd curved widescreen va gaming monitor amd freesync technology aspect ratio zero frame design speaker watt per speaker refresh rate hz response time vrb pixel pitch mmacer ei cur curved panel monitor full hd ultrawide resolution delivers incredible amd radeon technology game frame rate determined graphic card fixed refresh rate monitor giving serious competitive edge crisp true life color come alive amazing resolution allowing enjoy high definition entertainment comfort home wide view angle technology let share screen friend family color stay true matter angle viewing incredible contrast ratio rapid response time ensure game work movie smooth look epic possible um aa', 417: 'full hd widescreen ip nvidia sync compatible gaming monitor zero frame design speaker watt per speaker refresh rate hz response time vesa certified displayhdr pixel pitch mm color gamut srgb ergonomic tilt height adjustment range swivel pivot port display port hdmi audio usb port display port hdmi usb cable included fasten seatbelt predator xb full hd display resolution compromise gaming performance color speed inch monitor combine jaw dropping spec including ip panel support blazing fast hz refresh rate sync compatible monitor take gameplay next level smooth unleash gaming maximum potential provide richer color far beyond previously possible experience something new um kx aa', 418: 'wqhd widescreen nvidia sync technology refresh rate hz overclocking hz using display port operating power consumption energy star standby power consumption mw response time pixel pitch mm flicker le technology reduces annoying screen flickering cause eye strain viewing monitor long period signal input display port hdmi panel type tn mounting type vesa standard mount interface mm mmfasten seatbelt acer predator xb hu wqhd display turbocharge gaming experience monitor combine jaw dropping spec tn panel support hz refresh rate delivering amazing gaming experience also featuring nvidia sync technology eliminate screen tearing provide gamers epic gaming experience help secure victory plus built eye protection ergonomics allow press forward battle without fatigue note kindly refer user manual usage product brightness nit viewing angle horizontal vertical stand tilt swivel height adj', 419: 'full hd widescreen ip display portable versatile design response time lb thin port usb type video micro usb port power charging usb type cable micro usb cable included display video signal via type source device need support dp alt mode usb type video compatible device like smart phone laptop support usb type video output brightness cd', 420: 'play win acer vg qhd gaming monitor zeroframe design reduces visual interruption multi display setup lose action perfect blend vrb response time hz refresh rate amd freesync technology gameplay fluid lag free experience also enjoy quality sound pumped two built speaker', 421: 'amd radeon freesync hz refresh rate wqhd resolution vesa certificated displayhdr gate smooth gaming fasten seatbelt nitro xz qu curved zero frame monitor wqhd resolution delivers incredible amd radeon freesync technology game frame rate determined graphic card fixed refresh rate monitor giving serious competitive edge crisp true life color come alive amazing resolution allowing enjoy high definition entertainment comfort home wide view angle technology let share screen friend family color stay true matter angle viewing incredible contrast ratio rapid response time ensure game work movie smooth look epic possible', 422: 'acer vg pbmiipx nitro fhd ip monitor freesync response time vrb viewing angle degree degree box hdmi cable power cord bundle includes acer vg pbmiipx nitro fhd ip monitor freesync deco gear ft universal hdmi cable awg pure copper conductor beach camera universal screen cleaner stanley surgepro nt joule outlet surge adapter night light', 423: 'zeroframe design hz refresh rate response time high brightness contrast vesa certified displayhdr dci wide color gamut delta predator gameview mode speaker watt per speaker port display port hdmi audio usb port hdmi display port usb cable included brace predator brings whole new meaning word epic infused hz refresh speed life mimicking hdr design rippling futuristic element predator transport new realm immersion enjoy battlefield vantage point put driver seat gaming brilliance nvidia sync helm expect smooth tear free gaming new norm enjoy exceptional color purity realistic natural image thanks expanded contrast ratio color palette using vesa certificated displayhdr housed zeroframe design make near seamless look um tx aa', 424: 'fhd widescreen nvidia sync compatible tear free gaming zero frame design display refresh rate hz response time high brightness contrast vesa certified displayhdr ergonomic tilt height adjustment range swivel pivot port display port hdmi audio usb port display port hdmi usb cable included fasten seatbelt predator xb full hd display resolution compromise gaming performance color speed inch monitor combine jaw dropping spec including ip panel support blazing fast hz refresh rate sync compatible monitor take gameplay next level smooth unleash gaming maximum potential provide richer color far beyond previously possible experience something new um kx aa', 425: 'stunning display resolution delivers excellent detail making perfect widescreen hd gaming multimedia productivity dvi input high bandwidth digital content protection hdcp allows viewing digital movie copy protected medium rapid response time reduces deviation transition time deliver high quality moving image bringing immersive graphic movie game signal input dvi hdcp hdmi vga', 426: 'fhd ultrawide ip display amd freesync technology zero frame design color gamut srgb refresh rate hz response time vrb brightness nit pixel pitch mm aspect ratio million color supported tilt degree degree height adjustment range swivel pivot port usb type port gen gbps supporting data power displayport usb display port hdmi usb port display port hdmi usb type cable included enjoy outstanding visual experience acer cb cu zero frame ip monitor designed prosumers mind display feature incredible image color amd freesync technology frame rate determined graphic card fixed refresh rate monitor giving serious competitive edge plus user enjoy comfortable viewing experience gaming via flicker le low dimming display design save space desk let place multiple monitor side side build seamless big screen display um rb aa', 427: 'wqhd widescreen ip zero frame monitor amd radeon freesync technology response time vrb refresh rate hz speaker watt per speaker display dci low delta port display port hdmi usb port includes hdmi usb cable note incorrect resolution date video cause screen appear blurry screen flickering adjusting correct resolution updating video driver restart computer fix screen please refer user manual usein competitive gaming every frame matter introducing acer xv gaming monitor wqhd resolution monitor keep game play sync compatible monitor take gameplay next level smooth unleash gaming maximum potential provide richer color far beyond previously possible plus user enjoy comfortable viewing experience gaming via flicker le low dimming comfyview display design save space desk let place multiple monitor side side build seamless big screen display um hx aa brightness cd native cd peak hdr mode', 428: 'number screen screen size screen mode full hd panel technology plane switching ip technology response time vrb', 429: 'ip monitor full hd resolution deliver solid gaming video experience without undue strain graphic card aspect ratio present stunning high quality image excellent detail plane switching technology amd radeon freesync end choppy gameplay broken frame fluid artifact free performance virtually framerate million color support response time fast response time enhanced gamers game experience hz refresh rate delivers powerful performance get game video vga input one hdmi input two let connect digital analog device vesa mount compatible black gb snow bell usb cardacer nitro gaming series vg black ip freesync hz led monitor radeon freesync end choppy gameplay broken frame fluid artifact free performance virtually framerate full hd resolution high resolution deliver solid gaming video experience without undue strain graphic card anti glare led monitor efficient screen type us led provide precise backlighting pixel hdmi vga port let connect digital analog device response time fast response time enhanced gamers game experience hz refresh rate delivers powerful performance get game video', 430: 'professional large format scanning accommodates reflective medium extraordinary image quality dpi resolution micro step drive technology dmax brilliant clarity detail enhanced color colortrue ii imaging system combine superior image processing fast warm led lamp epson matrixccd technology bold vibrant scan one touch color restoration epson exclusive easy photo fix technology restores faded color photo snap offer automatic dust removal batch scanning increased productivity scan multiple printed image one time save file pc mac', 431: 'wirelessly scan smartphone tablet computer plus online cloud storage account pc mac compatible premium accounting feature automatically extract data receipt invoice export quickbooks online excel fastest scan speed class ppm imp single step technology capture side one pas total portability choose ac battery usb power wherever business take versatile scanning scan sided document receipt invoice business card id page auto document feeder quick batch scanning', 432: 'compatible canon imageformula dr also work dr dr versatile space saving design scan wide variety document type seamless scanning', 433: 'professional level resolution dmax wide dynamic range greater image quality powerful epson easy photo fix restore faded color photo built transparency unit dedicated light source better scan uniformity versatile scanning film holder mm negative slide transparency', 434: 'perfection flatbed photo scanner dpi outstanding resolution enlargement built tpu scan mm slide negative medium format panoramic film digital ice technology print film one touch easy photo fix restores colour faded photo abbyy finereader sprint plus ocr optical character recognition scan copy scan mail create pdfs', 435: 'fast scan speed ppm ipm pas duplex scanning industry leading service support year limited advance exchange program including free next business day shipping seamless compatibility includes twain isi driver easy integration existing software easily scan stack document page auto document feeder adf designed dependability peak daily duty cycle sheet', 436: 'get organized snap scan ppm ipm single step technology capture side one pas quickly scan stack paper robust sheet auto document feeder easily accommodates multiple paper type size one batch powerful software included easy scanning intuitive epson scansmart software preview email upload cloud automatic file naming save time seamless integration software solution included twain driver allows easily incorporate data document management software easy sharing collaboration email upload popular cloud storage service dropbox evernote google drive onedrive simplified file management create searchable pdfs included optical character recognition ocr convert scanned document editable word excel file intelligent color image adjustment auto crop blank page skip background removal dirt detection paper skew correction epson image processing technology reliable paper feeding system ultrasonic double feed detection help prevent missing page paper protection help prevent damage staple versatile scanning everyday document scan extra long page business id card contract optional flatbed dock pair epson flatbed scanner scanning photo thicker medium show', 437: 'easy use large color touchscreen make easier selection scan job shortcut well streamlined setting navigation flexible connectivity built superspeed usb wi fi network connectivity allowing local networked use plus sharing among multiple user fast efficient scan side document time color page per minute sheet automatic feeder adf high speed connectivity onboard image processing cpu bundled scanning software powerful canon captureontouch scanning software already included window mac high quality imaging enhance scanned text rotate image proper orientation straighten skewed image automatically adjust output resolution remove blank page improve readability minimize document sort time reduce file size paper size', 438: 'fastest class ppm ipm scan speed color duplex scan side one pas reliable year warranty free next business day replacement operating system window mac portable powered via usb ac versatile scanning page automatic document feeder front loader plastic card id business card receipt seamless integration compatible software come twain isi driver color bit depth bit input bit output', 439: 'hard working scanner help achieve maximum productivity ppm ipm scan speed duplex scanning one pas page auto document feeder allows multiple document scanning without constant supervision save time ultrasonic double feed detection determines whether two document going avoid missed page frequent paper jam scan business card rigid id card document versatile paper handling capability high volume duty cycle sheet per day offer reliable performance front control panel user definable function including scan pdf scan size bit depth color bit internal bit external button connector port interface usb workforce pro gt scanner imaging digitalization computer device peripheral hardware bitmap', 440: 'certified refurbished product tested certified look work like new refurbishing process includes functionality testing basic cleaning inspection repackaging product ship relevant accessory minimum day warranty may arrive generic box select seller maintain high performance bar may offer certified refurbished product amazon comthis hard working scanner help achieve maximum productivity ppm ipm scan speed duplex scanning one pas page auto document feeder allows multiple document scanning without constant supervision save time ultrasonic double feed detection determines whether two document going avoid missed page frequent paper jam scan business card rigid id card document versatile paper handling capability high volume duty cycle sheet per day offer reliable performance front control panel user definable function including scan pdf scan size bit depth color bit internal bit external button connector port interface usb workforce pro gt scanner imaging digitalization computer device peripheral hardware bitmap', 441: 'scan document quickly easily fast scanning second digitize document image thanks dpi resolution image enhancement fade correction dust reduction photo continue look great enjoy ease use ez button auto scan mode scanner automatically detects scanning built pdf button easily scan save pdf editable searchable', 442: 'skimmer assembly kodak bell howell spectrum scanner skimmer assembly kodak bell howell spectrum scanner kodak part fit copiscan xf scanner', 443: 'one touch color restoration epson easy photo fix technology dpi hardware resolution built mm slide filmstrip adapter complete software bundle photo enhancement hi speed usb connectivity pc mac compatibleamazon com perfection epson flatbed color photo scanner number useful feature reasonable price tag dpi maximum optical resolution bit color depth bit grayscale delivers crisp accurate true life image perfect wide variety home home office us scanning speed fast msec line dpi msec line dpi one touch scan copy scan mail scan web button help automate frequently utilized feature included mm transparency adapter accommodates negative slide three negative two slide inch scanning bed support original letter size easy photo fix technology designed photo slide restoration mind come bundled variety software application designed help get scan title include epson scan easy photo fix technology arcsoft photoimpression epson smart panel abbyy finereader sprint ocr newsoft presto bizcard weighing pound small inch footprint connects computer via usb port utilizes white cold cathode fluorescent lamp epson matrixccd line sensor consumes power pc mac compatible also come backed one year limited warranty part labor box epson perfection photo scanner mm transparency adapter built scanner lid mm film holder slide film strip cd rom epson scan software creativity productivity software electronic reference guide usb cable ac adapter power cable scanner setup poster warranty information manufacturer epson perfection photo scanner delivers innovative photo restoration capability incredible value astonishing image quality dpi hardware resolution bit color get brilliant color scan every time plus quick easy way restore favorite photo convenient built mm slide filmstrip adapter accommodates slide negative user friendly software feature epson easy photo fix technology one touch color restoration faded photo negative slide plus easy dust removal slide negative industry leading technology exclusively epson make photo restoration easier ever even automatic scanning mode optimal result one quick touch improved epson smart panel software tool necessary scan photo text graphic vivid result epson perfection photo compatible window macintosh system offer hi speed usb connectivity window great companion epson inkjet printer perfect fit home home office whether scanning document archiving slide negative restoring photo offering high quality result unique affordability user friendly performance epson perfection photo make scan look brilliant', 444: 'stay organized easily convert paper document digital format like searchable pdf file jpegs convenient portable lightweight small size take scanner anywhere home office classroom remote office anywhere handle various medium type digitize receipt business card plastic embossed card report legal document fast efficient technical hurdle complicated setup easily scan side document time color black white page per minute sheet automatic feeder broad compatibility work window mac device laptop computer built software use scanner ease powerful scanning software already built requires installation update automatically preview scan adjust organize scanned file edit straighten trim file create button custom scanning setting destination high quality imaging leveraging technology used canon camera product save great looking output color black white grayscale sustainable design save energy environment scanner meet energy star guideline product intended scanning photograph photo paper photographic medium show', 445: 'precise color detail get extraordinary scan dpi resolution grayscale bit depth bit per pixel internal external remarkable tonal range dmax smooth gradation fine shadow detail exclusive dual lens system selects lens optimum result operating system window window window window vista window xp window xp professional edition mac refer pdf attached technical specification user manualthe color scanner precise film photo reproduction precise scan slide film dpi dmax dual lens scanning led array digital ice film holder included scanning speed high speed mode dpi full color msec line approx monochrome msec line approx', 446: 'fastest scan speed class ppm ipm single step technology capture side one pas versatile scanning scan sided document receipt business card plastic id convenient portability use ac power outlet usb power computer quick batch scanning stack paper page auto document feeder powerful software included easy scanning intuitive epson scansmart software preview email upload automatic file naming object recognition save time', 447: 'get done pas sided scanning speed ppm ipm minimize downtime year limited warranty includes advance exchange free next business day replacement work smarter efficiently built sheet adf integration compatible software come twain isi driver network capable turn secure networked workgroup scanner using optional epson network scan module', 448: 'plug scan capability captureontouch lite scanning software launch upon connection immediate scanning without installing driver imaging application handle scanning thick thin document plastic id card embossed card driver license powered usbproduct description imageformula scan tini personal document scanner ideal solution window mac environment complete built card scanning capability scanner compact size simple use high quality imaging bring sophistication mobile portable information capture storage collaboration manufacturer imageformula scan tini personal document scanner ideal solution window mac environment complete built card scanning capability scanner compact size simple use high quality imaging bring sophistication mobile portable information capture storage collaboration view larger scan tini built card scanner view larger view larger wide variety application scanner designed improve individual productivity anywhere small office home office soho large enterprise classroom traveling help meet document capture need stationary user road warrior healthcare financial service government many area scanner user conveniently execute general purpose distributed scanning task maximize business efficiency software included presto bizcard convert business card useful data searched sorted imported contact management system pagemanager mac document capture management sharing evernote window mac cloud based filing collaboration captureontouch mobile downloadable android ipad iphone isi twain window twain mac bundled software canon captureontouch software tool window mac help increase user productivity simplifying document scanning process intuitive interface enables user quickly efficiently scan document automatically distribute captureontouch software configured one touch scanning captureontouch lite software built window mac compatible allows user scan document without loading device driver software view larger compact convenient fit easily briefcase lb portable mobile built card scanner automatic document feeder adf simple use plug scan capability captureontouch lite launch upon connection immediate scanning without installing driver imaging application captureontouch pre configure repetitive scan job new intuitive user interface full auto mode one touch scanning environment mind meet energy star guideline eu rohs compliant eu weee compliant canon generation green program maximum image quality character emphasis help improve legibility auto resolution setting shadow cropping background smoothing productive flexible one pas duplex scanning sheet adf page per minute maximum scanning speed via single usb cable connection integrated card scanner plastic id card embossed card compatible comprehensive window isi twain driver mac twain driver easy integration capture content management system device sharing window mac user captureontouch allows scan directly cloud improved collaboration compatibility microsoft sharepoint evernote google doc investment protection ecarepak option available scanner ecarepak extends service beyond initial one year advanced exchange warranty period saving cost associated post purchase maintenance maximizing uptime throughout product life view larger box main unit two usb cable setup disk reference guide ecarepak brochure warranty card supplement auto start switch supplement call center find best canon scanner currently viewing accessory wu wireless adapter battery pack carrying case separation pad wu wireless adapter battery pack separation pad feed roller soft carrying case ac adapter usb cable canon sku monochrome speed dpi ltr portrait ppm ipm ppm ipm color speed dpi ltr portrait ppm ipm ppm ipm adf capacity sheet sheet interface usb usb bundled software mac window android ipad iphone captureontouch captureontouch lite bizcard evernote isi twain twain captureontouch captureontouch lite bizcard pagemanager evernote captureontouch mobile downloadable isi twain twain suggested daily volume scan scan', 449: 'fast scan speed leader image capturing technology ppm ipm pas duplex scanning scan send one touch three dedicated quick send button registered presets allow user scan send without using pc built network interface easy workgroup sharing send scan computer network designed dependability enhanced feature including paper protection dirt detection peak daily duty cycle sheet scan online storage account email scan directly network folder ftp ftp sharepoint easily scan stack document page auto document feeder adf color lcd display panel industry leading service support year limited warranty advance exchange program including free next business day shipping effortlessly manage document create searchable pdfs save cloud service account create editable file ocr software included document capture pro seamless compatibility document management system includes twain isi driver easy integration existing software versatile paper handling scan business id card single sheet folded page show', 450: 'versatile scanning auto duplex scanning auto document feeder adf plus flatbed photo id passport fragile item scan stack document ppm feature page adf standard connectivity rj baset basetx year limited warranty includes advance exchange free next business day replacement minimize downtime seamless compatibility includes twain isi driver easy integration existing software scan online storage account intuitively scan dropbox sharepoint evernote google drive epson document capture software intelligent color image adjustment auto crop skew correction blank page background removal epson image processing technology scan original variety size flatbed using adf', 451: 'pro quality color detail get unparalleled scan dpi resolution adv remarkable tonal range dmax smooth gradation fine shadow detail exclusive dual lens system selects lens optimum result operating system window window window window vista window xp window xp professional edition mac', 452: 'amazing miniature film scanner one device let scan view edit convert save old super monochrome negative slide turn old picture sharp clear detailed color black white jpeg file multiple adapter fast loading enjoy maximum compatibility ease conversion variety adapter designed fast continuous loading improve quality mp adjustable brightness color reverse flip updated user interface lcd dedicated scan home button provide easy one press scanning quicker menu navigation view edit current slide gallery picture color display internal memory hold mb memory new millennium use sd card gb included perfect enhancing printing old photo sharing old film format social medium international adapter extended accessory pack includes universal power source eu uk cleaning wand usb cable tv cable power adapter view image big screen tv etc', 453: 'ppm ipm scan speed scan side one sheet one pas page auto document feeder ship certified frustration free packaging', 454: 'scan printed photo wallet size inch scan photographic negative delivers crisp clear positive image ready upload printing emailing scanner card reader ship gb microsd card sd adapter make sure plenty space hold photo scan printed photo high resolution dpi selectable dpi ultra portable battery powered aaa battery included allow take go', 455: 'scan page per minute connects usb handle variety document type business card ledger sized long document thick thin document scan size double feed detection prevention', 456: 'high quality scanning photo document dpi optical resolution amazing clarity detail preserve priceless memory restore archive share family photo generation come scan google drive cloud service epson document capture pro easy photo scan software included convenient easy use button scan job plus space saving built kickstand vertical placement scan sized print document artwork arcsoft scan stitch deluxe included restore color faded photo one click easy photo fix technology make simple scan book photo album high rise removable lid remove dust scanned photo advanced digital dust correction convert scanned document editable text optical character recognition ocr software included usb powered ac adapter required show', 457: 'manufacturer eastman kodak company', 458: 'designed use epson xl scanner positive negative mm film slide medium format maximum frame size mm epson high quality lamp faster film scanning simple install year warrantyproduct description epson scanner transparency adapter amazon com getting film transparency scanned correctly pain need transparency adapter like one epson designed work epson xl scanner adapter accepts positive negative mm film medium format transparent medium inch inch size fit perfectly xl scanning surface help get perfectly aligned scan every time batch scanning snap adapter hold mm negative mm slide eight inch transparency six medium format transparency moving carriage type transparency adapter also feature epson high quality lamp faster film scanning designed convenience quality adapter also come backed one year limited warranty box transparency unit documentation', 459: 'wirelessly scan critical document scan send receipt statement business plastic card smartphone tablet mac pc popular cloud service lightweight travel friendly lb get portability need capture data road battery usb power source scan popular cloud service scan google drive evernote sharepoint onenote sugarsync dropbox output resolution dpi create editable text searchable pdfs ocr document management suite included pdf pdf file connect document management software twain driver supported note refer instructional video user manual use highly essential', 460: 'stay organized easily convert paper document searchable digital format reliably handle many different document type receipt photo business card report contract long document thick thin document fast efficient scan side document time color page per minute sheet automatic feeder one touch operation broad compatibility window mac twain driver included easy setup simply connect computer using supplied usb cable bundled software includes easy use canon captureontouch scanning software win mac plus free license readiris pdf ocr software cardiris business card software win backed one year based technical supportthe canon imageformula scanner easy set use allows user increase productivity organization home office quickly convert paper document searchable digital file using bundled software', 461: 'usb cable powered ppm ppm color sheet adf isi twain compatible lightweight lb extremely portable compact size practical liberates document capture taking beyond wall office convenience user location product description canon line imageformula series personal scanner allow small office home office soho user telecommuters road warrior improve personal efficiency individual productivity highly portable mobile small easy use scanner individual shared use general purpose distributed scanning task convenience location manufacturer view larger imageformula personal document scanner compact size simple use advanced feature set liberates document capture taking beyond wall office convenience user location scanner combine practicality productivity value sleek mobile design view larger scanner also known scan tini designed professional improve personal efficiency individual productivity office transit small office home office soho user occasional traveler employee frequently travel scanner offer advanced feature meet document capture need stationary user road warrior scanner canon first entry personal scanner market well first usb powered professional grade document scanner capable operating using single usb cable connected pc window user plug scan due embedded canon captureontouch lite window software scanner designed canon initiative take environmentally people conscious approach product design life cycle scanner meet energy star program guideline energy efficiency also complies rohs weee directive reduction hazardous substance waste product note model provide setting option power management wide variety application forward thinking feature small design enable user across variety industry sector simplify conveniently execute general purpose distributed scanning task maximize business efficiency setting small office home office employee go compact convenient view larger inch long weighing slightly two pound fit easily briefcase affords user portable mobile opportunity document capture go simple use quick connectivity minimal setup us electrical power via single usb cable connected pc tight interface hardware software immediately launch canon captureontouch lite window plug scan capability productive practical one pas duplex scanning batch sheet page per minute color black white view larger software connectivity captureontouch lite window window isi twain driver mac twain driver included easy sharing use window mac environment easy hardware integration third party enterprise content management ecm software advanced feature flexibility flexibility scanner masked simple design skip blank page advanced text enhancement ii rapid recovery decrease preparation time increase image quality widen variety document type scanned faster intelligent long term storage retrieval system box main body ft usb cable ft power supply usb cable separation pad warranty card canada reference guide registration card application software setup dvd disclaimer scanning speed example based typical setting rated page image per minute letter sized document portrait feeding direction dpi one usb cable ac adapter two usb cable actual processing speed may vary based pc performance application software productdescription color word wrap break word font size small line height initial margin em px em px productdescription feature div default color cc font size medium margin em productdescription feature div book color important font size px important line height padding bottom px font weight normal margin px productdescription feature div softlines color important font size px important line height padding bottom px font weight bold margin px productdescription productdescription div productdescription table margin em productdescription margin em em em productdescription font weight normal color font size em clear left margin em px em px productdescription table border collapse inherit important margin bottom productdescription table img max width inherit important productdescription table td font size small vertical align inherit important productdescription ul li margin px productdescription ul li ul list style type disc important margin left px important productdescription ul ul li list style type disc important margin left px important productdescription ul ul li list style type disc important productdescription ul li ul li margin px productdescription aplus margin em productdescription small font size smaller productdescription proddescwidth max width px jquery execute function productdescription table function var width attr width width width px else width auto cs width width var padding attr cellpadding padding padding px else padding px cs padding padding productdescription margin em px em px', 462: 'receipt management software included subscription required automatically accurately extract categorizes key data receipt easily integrate financial software choice export receipt data quickbooks quicken turbotax excel csv ultimate connectivity wireless ghz scanning plus usb port easily scan large batch robust page auto document feeder accommodates stack paper varying size quickly scan two side single step technology capture side sheet paper one pas fast ppm ipm scan directly usb memory drive intuitive touchscreen convenient usb port computer required organize business contact easily scan business card manage contact information included newsoft presto bizcard bonus software create editable searchable pdfs includes kofax power pdf window pdf converter mac bonus software scan destination choice cloud storage service dropbox evernote google drive onedrive included twain driver easy integration document management software enjoy amazing image quality intelligent image adjustment automatic cropping blank page deletion background removal dirt detection paper skew correction staple protection show', 463: 'scan color monochrome color depth bitdr networked document scanner built wi fi wired ethernet usb connection networked local operation feeder capacity sheet scan ppm see brochure detail year warranty included advanced exchange service', 464: 'world fastest personal photo scanner scan thousand photo fast photo per second dpi preserve priceless photo safe touch technology worry free scanning upto inch wide plus postcard polaroid photo panorama second generation epson fast foto software scan restore organize share precious memory offer intelligent file organization tool flexible scanning offer mode easy sharing dpi archiving dpi tiff enlarging dpi handle multiple size one batch powerful document scanning includes epson scansmart software ocr scan receipt tax record will upto ppm ipm easy connect includes usb wireless connectivity flexible placement perfect picture imaging system bring new life old photo auto enhancement color restoration red eye reduction de skew crop rotate easy auto upload backup instantly share memory scan via dropbox google drive single step technology capture image handwritten note back single scan operating temperature degree degree degree degree', 465: 'film jpeg second powerful mp kodak film scanner convert old mm super mm negative slide jpeg digital file note scanza convert film mm super mm negative large bright tft lcd high definition built color display feature adjustable brightness convenient tilt easy operation image viewing adapter everything unit arrives multiple film insert adapter fast flexible operation big one touch button allow one step scan save intuitive user interface includes helpful tray insert directory easily edit image rgb resolution browse gallery sd card included support gb cable extra included mac pc compatible converter come usb power cable hdmi cable ac adapter video cable free film cleaning brush use included brush also clean light box dust speckle avoid mark scanned image', 466: 'ccsi canoscan flatbed scanner sold eacanoscan flatbed scanner dpi sleek fast powerful scanner impress first time push power delivers dpi resolution rich detailed scan every time high luminance white led lamp eliminate need warm time start scanning right away handle multiple medium including mm slide filmstrips negative mm film plain paper photo built fare retouching technology help enhance final image operating system compatibility mac window xp vista scan size bit depth color bit color bit grayscale button', 467: 'send photo memory slide pc new kodak low re film scanner tool let view edit convert old mm film negative color black white slide digital file jpeg tiff save directly pc mac advanced editing single touch simple use capture software dedicated scan button allow fast effortless operation rotate mirror adjust color balance brightness right computer screen convenient easy load film insert quick feeding tray technology allows continuous loading action much faster film scanner view edit upload share hundred film slide single session image interpolation resizes scale megapixel sensor capture picture digitally enlarges standard pixel pixel decent image quality cherished photograph supersized adapter cleaning brush included interchangeable tray scan film thinner plastic slide thicker cardboard slide max compatibility also includes usb connector bonus cleaning tool dusting film scanner', 468: 'see old memory come life cool tabletop film scanner let view old negative slide positive smartphone scan save share friend includes collapsible cardboard platform film tray battery powered led backlight subtle illumination eco friendly functionality old photo type complicated scanning device expensive digitization service fun cutesie little box let play around hour without headache professional conversion compatible mm color film negative mm black white film negative mm color slide great experimentation thinking converting old photo real affordable scanner mostly play lot working feature use practice includes free android app scanning editing sharing internal led backlight tray slide film scan platform smartphone convenient collapsing design platform tray fold break convenient collapsing design platform tray fold break size small box effortless storage travel perfect portable companion fun afternoon mom grandma kid cardboard construction keep thing light great nostalgic gift people age tech savvy required super easy operate load film onto tray place lens hole tap screen focus capture note resolution vary depending slide camera quality image come blurry remember tap screen auto focus keep trying toy great pic possible', 469: 'color flatbed scanner inch scan surface dpi hardware resolution bit internal bit external color usb hi speed interface cable included usb powered ac adapter required lid expansion top bulky item canoscan toolbox software pc mac compatible', 470: 'compatible dr dr ii canon number scanner accessory', 471: 'old memory come life personal slide viewer provides glimpse past enlarging lighting mm slide film negative enjoy powerful backlit light box large viewing area feature ultra bright daylight led illumination render image vivid crystal clear detail triple magnification since slide film super small built magnifier lens enlarges image without distortion blurriness loss detail pop slide see dedicated slide slot film input allow load look instant quick eject button remove slide next incredible portability convenient battery operation let view old slide anywhere world also dc powered dc cable sold separately', 472: 'product type personal computer package quantity package dimension country origin china see product detail', 473: 'lenovo sql server license medium reseller option kit rok core', 474: 'ultra thin design oculus quest unlike many heavy face cover mm lighter vr face pad make long time vr gaming hygienic shared family friend note fit quest enhanced field view using ergonomic accessory design closer display providing wider field view tighter connection dust proof lens cover cover prevents scratch shock use damage vr glass keep clean long time provide clearer vision unique anti skid texture professional soft silicone mask special texture beautiful anti skid anti sweat function premium material made high grade environmentally friendly silicone durable soft non slip sweat proof washable', 475: 'fit wide standard equipment free standing rack stable secure equipment light weight durable premium quality craftsmanship lb capacity assembled size server square screw hole also screw cage nut included', 476: 'package dimension centimeter package weight kilogram country origin china see product detail', 477: 'dell poweredge sliding ready rail kit compatible dell poweredge rackmount server', 478: 'country origin china', 479: 'ethernet converter usr tcp serial ethernet tcp ip converter bidirectional data transparent transmission based arm processor internally integrated tcp ip protocol built web server webpage configuration user modify webpage support dhcp client automatically obtain ip address query ip address serial device server tcp ip converter tcp work tcp client tcp server udp client udp server mode work lan also work internet external network', 480: 'xeon silver ghz core mb cache ram gb slot matrox way', 481: 'dell poweredge server security silver bezel including key compatible dell poweredge xd xd server', 482: 'fit wide standard equipment install depth post post movable rack make equipment flexible convenient connect world light weight durable premium quality craftsmanship yet heave duty lb capacity assembled size caster base depth adjusts increment serve square screw hole also screw cage nut included', 483: 'upc weight lb sff gb gb brand dell see product detail', 484: 'dell poweredge sliding ready rail kit compatible dell poweredge xd rackmount server', 485: 'fit model dell poweredge tower server compatible pn kp kp receive heatsink ensure compatible model check picture detail'}\n"
          ],
          "name": "stdout"
        }
      ]
    },
    {
      "cell_type": "code",
      "metadata": {
        "colab": {
          "base_uri": "https://localhost:8080/"
        },
        "id": "xxem7H_0VSyd",
        "outputId": "91ecae9a-2e43-4340-a00f-0398197a9e6f"
      },
      "source": [
        "df_sub_train['Desc1']= df_sub_train['Product1'].replace(id_desc)\n",
        "df_sub_train['Desc2']= df_sub_train['Product2'].replace(id_desc)"
      ],
      "execution_count": null,
      "outputs": [
        {
          "output_type": "stream",
          "text": [
            "/usr/local/lib/python3.7/dist-packages/ipykernel_launcher.py:1: SettingWithCopyWarning: \n",
            "A value is trying to be set on a copy of a slice from a DataFrame.\n",
            "Try using .loc[row_indexer,col_indexer] = value instead\n",
            "\n",
            "See the caveats in the documentation: https://pandas.pydata.org/pandas-docs/stable/user_guide/indexing.html#returning-a-view-versus-a-copy\n",
            "  \"\"\"Entry point for launching an IPython kernel.\n",
            "/usr/local/lib/python3.7/dist-packages/ipykernel_launcher.py:2: SettingWithCopyWarning: \n",
            "A value is trying to be set on a copy of a slice from a DataFrame.\n",
            "Try using .loc[row_indexer,col_indexer] = value instead\n",
            "\n",
            "See the caveats in the documentation: https://pandas.pydata.org/pandas-docs/stable/user_guide/indexing.html#returning-a-view-versus-a-copy\n",
            "  \n"
          ],
          "name": "stderr"
        }
      ]
    },
    {
      "cell_type": "code",
      "metadata": {
        "colab": {
          "base_uri": "https://localhost:8080/",
          "height": 504
        },
        "id": "7c4WlhA2VWEy",
        "outputId": "3508a33c-7d35-4228-b423-eafbb8d3873b"
      },
      "source": [
        "df_sub_train"
      ],
      "execution_count": null,
      "outputs": [
        {
          "output_type": "execute_result",
          "data": {
            "text/html": [
              "<div>\n",
              "<style scoped>\n",
              "    .dataframe tbody tr th:only-of-type {\n",
              "        vertical-align: middle;\n",
              "    }\n",
              "\n",
              "    .dataframe tbody tr th {\n",
              "        vertical-align: top;\n",
              "    }\n",
              "\n",
              "    .dataframe thead th {\n",
              "        text-align: right;\n",
              "    }\n",
              "</style>\n",
              "<table border=\"1\" class=\"dataframe\">\n",
              "  <thead>\n",
              "    <tr style=\"text-align: right;\">\n",
              "      <th></th>\n",
              "      <th>Product1</th>\n",
              "      <th>Product2</th>\n",
              "      <th>Cocompared</th>\n",
              "      <th>Desc1</th>\n",
              "      <th>Desc2</th>\n",
              "    </tr>\n",
              "  </thead>\n",
              "  <tbody>\n",
              "    <tr>\n",
              "      <th>0</th>\n",
              "      <td>1</td>\n",
              "      <td>2</td>\n",
              "      <td>1</td>\n",
              "      <td>tp link mbps universal wifi flipkart com genui...</td>\n",
              "      <td>netgear ac dual band gigabit wi fi router flip...</td>\n",
              "    </tr>\n",
              "    <tr>\n",
              "      <th>1</th>\n",
              "      <td>1</td>\n",
              "      <td>3</td>\n",
              "      <td>1</td>\n",
              "      <td>tp link mbps universal wifi flipkart com genui...</td>\n",
              "      <td>zyxel nbg simultaneous dual band wireless ac f...</td>\n",
              "    </tr>\n",
              "    <tr>\n",
              "      <th>2</th>\n",
              "      <td>1</td>\n",
              "      <td>4</td>\n",
              "      <td>1</td>\n",
              "      <td>tp link mbps universal wifi flipkart com genui...</td>\n",
              "      <td>trendnet tew brm flipkart com genuine product ...</td>\n",
              "    </tr>\n",
              "    <tr>\n",
              "      <th>3</th>\n",
              "      <td>1</td>\n",
              "      <td>5</td>\n",
              "      <td>1</td>\n",
              "      <td>tp link mbps universal wifi flipkart com genui...</td>\n",
              "      <td>iball wra gt flipkart com genuine product day ...</td>\n",
              "    </tr>\n",
              "    <tr>\n",
              "      <th>4</th>\n",
              "      <td>1</td>\n",
              "      <td>6</td>\n",
              "      <td>1</td>\n",
              "      <td>tp link mbps universal wifi flipkart com genui...</td>\n",
              "      <td>zyxel flipkart com genuine product day replace...</td>\n",
              "    </tr>\n",
              "    <tr>\n",
              "      <th>...</th>\n",
              "      <td>...</td>\n",
              "      <td>...</td>\n",
              "      <td>...</td>\n",
              "      <td>...</td>\n",
              "      <td>...</td>\n",
              "    </tr>\n",
              "    <tr>\n",
              "      <th>234735</th>\n",
              "      <td>485</td>\n",
              "      <td>480</td>\n",
              "      <td>1</td>\n",
              "      <td>fit model dell poweredge tower server compatib...</td>\n",
              "      <td>xeon silver ghz core mb cache ram gb slot matr...</td>\n",
              "    </tr>\n",
              "    <tr>\n",
              "      <th>234736</th>\n",
              "      <td>485</td>\n",
              "      <td>481</td>\n",
              "      <td>1</td>\n",
              "      <td>fit model dell poweredge tower server compatib...</td>\n",
              "      <td>dell poweredge server security silver bezel in...</td>\n",
              "    </tr>\n",
              "    <tr>\n",
              "      <th>234737</th>\n",
              "      <td>485</td>\n",
              "      <td>482</td>\n",
              "      <td>1</td>\n",
              "      <td>fit model dell poweredge tower server compatib...</td>\n",
              "      <td>fit wide standard equipment install depth post...</td>\n",
              "    </tr>\n",
              "    <tr>\n",
              "      <th>234738</th>\n",
              "      <td>485</td>\n",
              "      <td>483</td>\n",
              "      <td>1</td>\n",
              "      <td>fit model dell poweredge tower server compatib...</td>\n",
              "      <td>upc weight lb sff gb gb brand dell see product...</td>\n",
              "    </tr>\n",
              "    <tr>\n",
              "      <th>234739</th>\n",
              "      <td>485</td>\n",
              "      <td>484</td>\n",
              "      <td>1</td>\n",
              "      <td>fit model dell poweredge tower server compatib...</td>\n",
              "      <td>dell poweredge sliding ready rail kit compatib...</td>\n",
              "    </tr>\n",
              "  </tbody>\n",
              "</table>\n",
              "<p>234740 rows × 5 columns</p>\n",
              "</div>"
            ],
            "text/plain": [
              "        Product1  ...                                              Desc2\n",
              "0              1  ...  netgear ac dual band gigabit wi fi router flip...\n",
              "1              1  ...  zyxel nbg simultaneous dual band wireless ac f...\n",
              "2              1  ...  trendnet tew brm flipkart com genuine product ...\n",
              "3              1  ...  iball wra gt flipkart com genuine product day ...\n",
              "4              1  ...  zyxel flipkart com genuine product day replace...\n",
              "...          ...  ...                                                ...\n",
              "234735       485  ...  xeon silver ghz core mb cache ram gb slot matr...\n",
              "234736       485  ...  dell poweredge server security silver bezel in...\n",
              "234737       485  ...  fit wide standard equipment install depth post...\n",
              "234738       485  ...  upc weight lb sff gb gb brand dell see product...\n",
              "234739       485  ...  dell poweredge sliding ready rail kit compatib...\n",
              "\n",
              "[234740 rows x 5 columns]"
            ]
          },
          "metadata": {
            "tags": []
          },
          "execution_count": 223
        }
      ]
    },
    {
      "cell_type": "code",
      "metadata": {
        "id": "dc-Jq6XyVZoH"
      },
      "source": [
        "df_sub_train.to_pickle(\"/content/drive/MyDrive/Content_Recommendation/LSTM_Similarity/Computer_Product/train.pickle\")"
      ],
      "execution_count": null,
      "outputs": []
    },
    {
      "cell_type": "markdown",
      "metadata": {
        "id": "RrFNx-SxVv48"
      },
      "source": [
        "#### Test"
      ]
    },
    {
      "cell_type": "code",
      "metadata": {
        "colab": {
          "base_uri": "https://localhost:8080/",
          "height": 589
        },
        "id": "rfQ8OkPqViYc",
        "outputId": "27ee5415-494a-4730-ba01-ff109e1b2b49"
      },
      "source": [
        "test"
      ],
      "execution_count": null,
      "outputs": [
        {
          "output_type": "execute_result",
          "data": {
            "text/html": [
              "<div>\n",
              "<style scoped>\n",
              "    .dataframe tbody tr th:only-of-type {\n",
              "        vertical-align: middle;\n",
              "    }\n",
              "\n",
              "    .dataframe tbody tr th {\n",
              "        vertical-align: top;\n",
              "    }\n",
              "\n",
              "    .dataframe thead th {\n",
              "        text-align: right;\n",
              "    }\n",
              "</style>\n",
              "<table border=\"1\" class=\"dataframe\">\n",
              "  <thead>\n",
              "    <tr style=\"text-align: right;\">\n",
              "      <th></th>\n",
              "      <th>product_name</th>\n",
              "      <th>description</th>\n",
              "      <th>category</th>\n",
              "      <th>cleaned_description</th>\n",
              "      <th>product_id</th>\n",
              "    </tr>\n",
              "  </thead>\n",
              "  <tbody>\n",
              "    <tr>\n",
              "      <th>0</th>\n",
              "      <td>zyxel amg1312-t10b</td>\n",
              "      <td>zyxel amg1312-t10b only for rs. 2425 from fl...</td>\n",
              "      <td>router</td>\n",
              "      <td>zyxel amg flipkart com genuine product day rep...</td>\n",
              "      <td>1</td>\n",
              "    </tr>\n",
              "    <tr>\n",
              "      <th>1</th>\n",
              "      <td>iball 300m wireless-n adsl2+ 3g router</td>\n",
              "      <td>iball 300m wireless-n adsl2+ 3g router only ...</td>\n",
              "      <td>router</td>\n",
              "      <td>iball wireless adsl router flipkart com genuin...</td>\n",
              "      <td>2</td>\n",
              "    </tr>\n",
              "    <tr>\n",
              "      <th>2</th>\n",
              "      <td>tp-link archer c20 ac750 dual band router</td>\n",
              "      <td>tp-link archer c20 ac750 dual band router on...</td>\n",
              "      <td>router</td>\n",
              "      <td>tp link archer ac dual band router flipkart co...</td>\n",
              "      <td>3</td>\n",
              "    </tr>\n",
              "    <tr>\n",
              "      <th>3</th>\n",
              "      <td>iball ib-w4gx150n 4g wireless n router</td>\n",
              "      <td>iball ib-w4gx150n 4g wireless n router only ...</td>\n",
              "      <td>router</td>\n",
              "      <td>iball ib gx wireless router flipkart com genui...</td>\n",
              "      <td>4</td>\n",
              "    </tr>\n",
              "    <tr>\n",
              "      <th>4</th>\n",
              "      <td>trendnet tha-101 n300 router</td>\n",
              "      <td>trendnet tha-101 n300 router only for rs. 49...</td>\n",
              "      <td>router</td>\n",
              "      <td>trendnet tha router flipkart com genuine produ...</td>\n",
              "      <td>5</td>\n",
              "    </tr>\n",
              "    <tr>\n",
              "      <th>...</th>\n",
              "      <td>...</td>\n",
              "      <td>...</td>\n",
              "      <td>...</td>\n",
              "      <td>...</td>\n",
              "      <td>...</td>\n",
              "    </tr>\n",
              "    <tr>\n",
              "      <th>209</th>\n",
              "      <td>lenovo dcg x8 x8 x8ml2 pcie fh riser1 kit</td>\n",
              "      <td>product type:consumer electronics item pac...</td>\n",
              "      <td>servers</td>\n",
              "      <td>product type consumer electronics item package...</td>\n",
              "      <td>210</td>\n",
              "    </tr>\n",
              "    <tr>\n",
              "      <th>210</th>\n",
              "      <td>lenovo system 9532e5u ibm flex x240 m5 2xxeon ...</td>\n",
              "      <td>.   m5 compute node package dimensions: 61 h ...</td>\n",
              "      <td>servers</td>\n",
              "      <td>compute node package dimension centimeter pack...</td>\n",
              "      <td>211</td>\n",
              "    </tr>\n",
              "    <tr>\n",
              "      <th>211</th>\n",
              "      <td>bestparts new 2u sliding ready rail kit compat...</td>\n",
              "      <td>p/n: 0pwn3 00pwn3 h4x6x 0h4x6x * material:...</td>\n",
              "      <td>servers</td>\n",
              "      <td>pwn pwn material metal compatible dell powered...</td>\n",
              "      <td>212</td>\n",
              "    </tr>\n",
              "    <tr>\n",
              "      <th>212</th>\n",
              "      <td>hpe 873830-s01 proliant microserver gen10 ultr...</td>\n",
              "      <td>.   full product specifications: click to vie...</td>\n",
              "      <td>servers</td>\n",
              "      <td>full product specification click view number p...</td>\n",
              "      <td>213</td>\n",
              "    </tr>\n",
              "    <tr>\n",
              "      <th>213</th>\n",
              "      <td>dell precision 7000 7550 15.6\" mobile workstat...</td>\n",
              "      <td>.   processor manufacturer: intel processor t...</td>\n",
              "      <td>servers</td>\n",
              "      <td>processor manufacturer intel processor type co...</td>\n",
              "      <td>214</td>\n",
              "    </tr>\n",
              "  </tbody>\n",
              "</table>\n",
              "<p>214 rows × 5 columns</p>\n",
              "</div>"
            ],
            "text/plain": [
              "                                          product_name  ... product_id\n",
              "0                                   zyxel amg1312-t10b  ...          1\n",
              "1               iball 300m wireless-n adsl2+ 3g router  ...          2\n",
              "2            tp-link archer c20 ac750 dual band router  ...          3\n",
              "3               iball ib-w4gx150n 4g wireless n router  ...          4\n",
              "4                         trendnet tha-101 n300 router  ...          5\n",
              "..                                                 ...  ...        ...\n",
              "209          lenovo dcg x8 x8 x8ml2 pcie fh riser1 kit  ...        210\n",
              "210  lenovo system 9532e5u ibm flex x240 m5 2xxeon ...  ...        211\n",
              "211  bestparts new 2u sliding ready rail kit compat...  ...        212\n",
              "212  hpe 873830-s01 proliant microserver gen10 ultr...  ...        213\n",
              "213  dell precision 7000 7550 15.6\" mobile workstat...  ...        214\n",
              "\n",
              "[214 rows x 5 columns]"
            ]
          },
          "metadata": {
            "tags": []
          },
          "execution_count": 225
        }
      ]
    },
    {
      "cell_type": "code",
      "metadata": {
        "colab": {
          "base_uri": "https://localhost:8080/"
        },
        "id": "mGy774uwVz1X",
        "outputId": "c606f736-856b-44b2-a382-d041d13ca1d9"
      },
      "source": [
        "test.shape"
      ],
      "execution_count": null,
      "outputs": [
        {
          "output_type": "execute_result",
          "data": {
            "text/plain": [
              "(214, 5)"
            ]
          },
          "metadata": {
            "tags": []
          },
          "execution_count": 226
        }
      ]
    },
    {
      "cell_type": "code",
      "metadata": {
        "colab": {
          "base_uri": "https://localhost:8080/"
        },
        "id": "YvfqMTxEV4NA",
        "outputId": "e13e327b-b927-4bca-d12c-fc9768a2cba7"
      },
      "source": [
        "test.columns"
      ],
      "execution_count": null,
      "outputs": [
        {
          "output_type": "execute_result",
          "data": {
            "text/plain": [
              "Index(['product_name', 'description', 'category', 'cleaned_description',\n",
              "       'product_id'],\n",
              "      dtype='object')"
            ]
          },
          "metadata": {
            "tags": []
          },
          "execution_count": 227
        }
      ]
    },
    {
      "cell_type": "code",
      "metadata": {
        "id": "_aKKq2oQV5ga"
      },
      "source": [
        "df_sub_test = pd.DataFrame()"
      ],
      "execution_count": null,
      "outputs": []
    },
    {
      "cell_type": "code",
      "metadata": {
        "id": "B_GnrjGYV8cg"
      },
      "source": [
        "p_id = test.product_id.unique()"
      ],
      "execution_count": null,
      "outputs": []
    },
    {
      "cell_type": "code",
      "metadata": {
        "colab": {
          "base_uri": "https://localhost:8080/"
        },
        "id": "SvFnVVMKV_p7",
        "outputId": "df04b881-8237-4065-ff0e-7e6a8e9e5c5f"
      },
      "source": [
        "len(p_id) * len(p_id),len(p_id)"
      ],
      "execution_count": null,
      "outputs": [
        {
          "output_type": "execute_result",
          "data": {
            "text/plain": [
              "(45796, 214)"
            ]
          },
          "metadata": {
            "tags": []
          },
          "execution_count": 230
        }
      ]
    },
    {
      "cell_type": "code",
      "metadata": {
        "id": "5bPRTDnYWB4E"
      },
      "source": [
        "lst = []\n",
        "for i in p_id:\n",
        "    lst.extend(p_id)"
      ],
      "execution_count": null,
      "outputs": []
    },
    {
      "cell_type": "code",
      "metadata": {
        "colab": {
          "base_uri": "https://localhost:8080/"
        },
        "id": "dYXbRZkQWD_M",
        "outputId": "ecdf7053-df4f-4538-9be1-cfe6fa321e77"
      },
      "source": [
        "len(lst)"
      ],
      "execution_count": null,
      "outputs": [
        {
          "output_type": "execute_result",
          "data": {
            "text/plain": [
              "45796"
            ]
          },
          "metadata": {
            "tags": []
          },
          "execution_count": 232
        }
      ]
    },
    {
      "cell_type": "code",
      "metadata": {
        "colab": {
          "base_uri": "https://localhost:8080/"
        },
        "id": "CwRuY8g0WGfN",
        "outputId": "f2542924-ff92-45b6-add9-29d3a3e0708c"
      },
      "source": [
        "lst[:10],lst[-10:]"
      ],
      "execution_count": null,
      "outputs": [
        {
          "output_type": "execute_result",
          "data": {
            "text/plain": [
              "([1, 2, 3, 4, 5, 6, 7, 8, 9, 10],\n",
              " [205, 206, 207, 208, 209, 210, 211, 212, 213, 214])"
            ]
          },
          "metadata": {
            "tags": []
          },
          "execution_count": 233
        }
      ]
    },
    {
      "cell_type": "code",
      "metadata": {
        "id": "raVDeIj9WIqQ"
      },
      "source": [
        "lst_2 = []\n",
        "for i in p_id:\n",
        "    entry = [i] * len(p_id)\n",
        "    lst_2.extend(entry)"
      ],
      "execution_count": null,
      "outputs": []
    },
    {
      "cell_type": "code",
      "metadata": {
        "colab": {
          "base_uri": "https://localhost:8080/"
        },
        "id": "pyI4__ESWMMp",
        "outputId": "bed9205b-5b97-48ac-ffe5-33eecef445e1"
      },
      "source": [
        "lst_2[:10],lst_2[-10:]"
      ],
      "execution_count": null,
      "outputs": [
        {
          "output_type": "execute_result",
          "data": {
            "text/plain": [
              "([1, 1, 1, 1, 1, 1, 1, 1, 1, 1],\n",
              " [214, 214, 214, 214, 214, 214, 214, 214, 214, 214])"
            ]
          },
          "metadata": {
            "tags": []
          },
          "execution_count": 235
        }
      ]
    },
    {
      "cell_type": "code",
      "metadata": {
        "id": "-NzZK9N7WOLX"
      },
      "source": [
        "df_sub_test['Product1'] = lst_2\n",
        "df_sub_test['Product2'] = lst"
      ],
      "execution_count": null,
      "outputs": []
    },
    {
      "cell_type": "code",
      "metadata": {
        "colab": {
          "base_uri": "https://localhost:8080/",
          "height": 419
        },
        "id": "pinI4uivWRMg",
        "outputId": "b5539c31-dacd-4182-8cc0-adc23f90f814"
      },
      "source": [
        "df_sub_test"
      ],
      "execution_count": null,
      "outputs": [
        {
          "output_type": "execute_result",
          "data": {
            "text/html": [
              "<div>\n",
              "<style scoped>\n",
              "    .dataframe tbody tr th:only-of-type {\n",
              "        vertical-align: middle;\n",
              "    }\n",
              "\n",
              "    .dataframe tbody tr th {\n",
              "        vertical-align: top;\n",
              "    }\n",
              "\n",
              "    .dataframe thead th {\n",
              "        text-align: right;\n",
              "    }\n",
              "</style>\n",
              "<table border=\"1\" class=\"dataframe\">\n",
              "  <thead>\n",
              "    <tr style=\"text-align: right;\">\n",
              "      <th></th>\n",
              "      <th>Product1</th>\n",
              "      <th>Product2</th>\n",
              "    </tr>\n",
              "  </thead>\n",
              "  <tbody>\n",
              "    <tr>\n",
              "      <th>0</th>\n",
              "      <td>1</td>\n",
              "      <td>1</td>\n",
              "    </tr>\n",
              "    <tr>\n",
              "      <th>1</th>\n",
              "      <td>1</td>\n",
              "      <td>2</td>\n",
              "    </tr>\n",
              "    <tr>\n",
              "      <th>2</th>\n",
              "      <td>1</td>\n",
              "      <td>3</td>\n",
              "    </tr>\n",
              "    <tr>\n",
              "      <th>3</th>\n",
              "      <td>1</td>\n",
              "      <td>4</td>\n",
              "    </tr>\n",
              "    <tr>\n",
              "      <th>4</th>\n",
              "      <td>1</td>\n",
              "      <td>5</td>\n",
              "    </tr>\n",
              "    <tr>\n",
              "      <th>...</th>\n",
              "      <td>...</td>\n",
              "      <td>...</td>\n",
              "    </tr>\n",
              "    <tr>\n",
              "      <th>45791</th>\n",
              "      <td>214</td>\n",
              "      <td>210</td>\n",
              "    </tr>\n",
              "    <tr>\n",
              "      <th>45792</th>\n",
              "      <td>214</td>\n",
              "      <td>211</td>\n",
              "    </tr>\n",
              "    <tr>\n",
              "      <th>45793</th>\n",
              "      <td>214</td>\n",
              "      <td>212</td>\n",
              "    </tr>\n",
              "    <tr>\n",
              "      <th>45794</th>\n",
              "      <td>214</td>\n",
              "      <td>213</td>\n",
              "    </tr>\n",
              "    <tr>\n",
              "      <th>45795</th>\n",
              "      <td>214</td>\n",
              "      <td>214</td>\n",
              "    </tr>\n",
              "  </tbody>\n",
              "</table>\n",
              "<p>45796 rows × 2 columns</p>\n",
              "</div>"
            ],
            "text/plain": [
              "       Product1  Product2\n",
              "0             1         1\n",
              "1             1         2\n",
              "2             1         3\n",
              "3             1         4\n",
              "4             1         5\n",
              "...         ...       ...\n",
              "45791       214       210\n",
              "45792       214       211\n",
              "45793       214       212\n",
              "45794       214       213\n",
              "45795       214       214\n",
              "\n",
              "[45796 rows x 2 columns]"
            ]
          },
          "metadata": {
            "tags": []
          },
          "execution_count": 237
        }
      ]
    },
    {
      "cell_type": "code",
      "metadata": {
        "id": "I6hhZArUWTrZ"
      },
      "source": [
        "df_sub_test = df_sub_test[df_sub_test['Product1']!=df_sub_test['Product2']]"
      ],
      "execution_count": null,
      "outputs": []
    },
    {
      "cell_type": "code",
      "metadata": {
        "id": "2Y2TJ10hWWkF"
      },
      "source": [
        "df_sub_test.reset_index(drop=True,inplace=True)"
      ],
      "execution_count": null,
      "outputs": []
    },
    {
      "cell_type": "code",
      "metadata": {
        "colab": {
          "base_uri": "https://localhost:8080/"
        },
        "id": "CdOWtLOQWYqV",
        "outputId": "a16b5f12-02ce-4d6a-9033-643e7c887c43"
      },
      "source": [
        "df_sub_test.shape"
      ],
      "execution_count": null,
      "outputs": [
        {
          "output_type": "execute_result",
          "data": {
            "text/plain": [
              "(45582, 2)"
            ]
          },
          "metadata": {
            "tags": []
          },
          "execution_count": 240
        }
      ]
    },
    {
      "cell_type": "code",
      "metadata": {
        "colab": {
          "base_uri": "https://localhost:8080/",
          "height": 419
        },
        "id": "3r9y8VKeWbRC",
        "outputId": "d345318a-20a1-4c9c-9965-30df0e7b7cc0"
      },
      "source": [
        "df_sub_test"
      ],
      "execution_count": null,
      "outputs": [
        {
          "output_type": "execute_result",
          "data": {
            "text/html": [
              "<div>\n",
              "<style scoped>\n",
              "    .dataframe tbody tr th:only-of-type {\n",
              "        vertical-align: middle;\n",
              "    }\n",
              "\n",
              "    .dataframe tbody tr th {\n",
              "        vertical-align: top;\n",
              "    }\n",
              "\n",
              "    .dataframe thead th {\n",
              "        text-align: right;\n",
              "    }\n",
              "</style>\n",
              "<table border=\"1\" class=\"dataframe\">\n",
              "  <thead>\n",
              "    <tr style=\"text-align: right;\">\n",
              "      <th></th>\n",
              "      <th>Product1</th>\n",
              "      <th>Product2</th>\n",
              "    </tr>\n",
              "  </thead>\n",
              "  <tbody>\n",
              "    <tr>\n",
              "      <th>0</th>\n",
              "      <td>1</td>\n",
              "      <td>2</td>\n",
              "    </tr>\n",
              "    <tr>\n",
              "      <th>1</th>\n",
              "      <td>1</td>\n",
              "      <td>3</td>\n",
              "    </tr>\n",
              "    <tr>\n",
              "      <th>2</th>\n",
              "      <td>1</td>\n",
              "      <td>4</td>\n",
              "    </tr>\n",
              "    <tr>\n",
              "      <th>3</th>\n",
              "      <td>1</td>\n",
              "      <td>5</td>\n",
              "    </tr>\n",
              "    <tr>\n",
              "      <th>4</th>\n",
              "      <td>1</td>\n",
              "      <td>6</td>\n",
              "    </tr>\n",
              "    <tr>\n",
              "      <th>...</th>\n",
              "      <td>...</td>\n",
              "      <td>...</td>\n",
              "    </tr>\n",
              "    <tr>\n",
              "      <th>45577</th>\n",
              "      <td>214</td>\n",
              "      <td>209</td>\n",
              "    </tr>\n",
              "    <tr>\n",
              "      <th>45578</th>\n",
              "      <td>214</td>\n",
              "      <td>210</td>\n",
              "    </tr>\n",
              "    <tr>\n",
              "      <th>45579</th>\n",
              "      <td>214</td>\n",
              "      <td>211</td>\n",
              "    </tr>\n",
              "    <tr>\n",
              "      <th>45580</th>\n",
              "      <td>214</td>\n",
              "      <td>212</td>\n",
              "    </tr>\n",
              "    <tr>\n",
              "      <th>45581</th>\n",
              "      <td>214</td>\n",
              "      <td>213</td>\n",
              "    </tr>\n",
              "  </tbody>\n",
              "</table>\n",
              "<p>45582 rows × 2 columns</p>\n",
              "</div>"
            ],
            "text/plain": [
              "       Product1  Product2\n",
              "0             1         2\n",
              "1             1         3\n",
              "2             1         4\n",
              "3             1         5\n",
              "4             1         6\n",
              "...         ...       ...\n",
              "45577       214       209\n",
              "45578       214       210\n",
              "45579       214       211\n",
              "45580       214       212\n",
              "45581       214       213\n",
              "\n",
              "[45582 rows x 2 columns]"
            ]
          },
          "metadata": {
            "tags": []
          },
          "execution_count": 241
        }
      ]
    },
    {
      "cell_type": "code",
      "metadata": {
        "id": "RFX18PtmWcZ2"
      },
      "source": [
        "cat = list(test['category'].unique())"
      ],
      "execution_count": null,
      "outputs": []
    },
    {
      "cell_type": "code",
      "metadata": {
        "colab": {
          "base_uri": "https://localhost:8080/"
        },
        "id": "c2VZRpdiWgCg",
        "outputId": "fc9363ee-1323-4987-a0ec-491a713c289a"
      },
      "source": [
        "cat"
      ],
      "execution_count": null,
      "outputs": [
        {
          "output_type": "execute_result",
          "data": {
            "text/plain": [
              "['router',\n",
              " 'usb_accessories',\n",
              " 'led light',\n",
              " 'data storage',\n",
              " 'adapter',\n",
              " 'laptop battery',\n",
              " 'laptop skin and mousepad',\n",
              " 'monitors',\n",
              " 'scanners',\n",
              " 'servers']"
            ]
          },
          "metadata": {
            "tags": []
          },
          "execution_count": 243
        }
      ]
    },
    {
      "cell_type": "code",
      "metadata": {
        "id": "mtIoYAYkWg1S"
      },
      "source": [
        "df_grp_test = test.groupby('category')"
      ],
      "execution_count": null,
      "outputs": []
    },
    {
      "cell_type": "code",
      "metadata": {
        "id": "ECP0MzxUWkJy"
      },
      "source": [
        "lst_of_lst = []\n",
        "for i in cat:\n",
        "    lst_of_lst.append(df_grp_test.get_group(i)['product_id'].to_list())\n",
        "\n"
      ],
      "execution_count": null,
      "outputs": []
    },
    {
      "cell_type": "code",
      "metadata": {
        "colab": {
          "base_uri": "https://localhost:8080/"
        },
        "id": "Fr8LVv5YWoY6",
        "outputId": "ddf60dc7-3c39-498c-aa92-d61d7b3a5342"
      },
      "source": [
        "print(lst_of_lst[:5],lst_of_lst[-5:],len(lst_of_lst))"
      ],
      "execution_count": null,
      "outputs": [
        {
          "output_type": "stream",
          "text": [
            "[[1, 2, 3, 4, 5, 6, 7, 8, 9, 10, 11, 12, 13, 14, 15, 16, 17, 18, 19, 20, 21, 22, 23, 24, 25, 26, 27, 28, 29, 30, 31, 32, 33, 34, 35, 36, 37, 38, 39, 40, 41, 42, 43, 44, 45, 46, 47, 48, 49, 50], [51, 52, 53, 54, 55, 56, 57, 58, 59, 60, 61, 62, 63, 64, 65, 66, 67, 68, 69, 70], [71, 72, 73, 74, 75, 76, 77, 78, 79, 80, 81, 82, 83, 84, 85, 86, 87, 88, 89], [90, 91, 92, 93, 94, 95, 96, 97, 98, 99, 100, 101, 102, 103, 104, 105, 106, 107, 108, 109, 110], [111, 112, 113, 114, 115, 116, 117, 118, 119, 120]] [[121, 122, 123, 124, 125, 126, 127, 128, 129, 130, 131, 132, 133, 134, 135, 136, 137, 138, 139, 140, 141, 142], [143, 144, 145, 146, 147, 148, 149, 150, 151, 152, 153], [154, 155, 156, 157, 158, 159, 160, 161, 162, 163, 164, 165, 166, 167, 168, 169, 170, 171, 172, 173, 174, 175, 176, 177, 178, 179, 180, 181, 182, 183, 184, 185, 186, 187, 188, 189], [190, 191, 192, 193, 194, 195, 196, 197, 198, 199, 200, 201, 202, 203, 204, 205, 206, 207, 208], [209, 210, 211, 212, 213, 214]] 10\n"
          ],
          "name": "stdout"
        }
      ]
    },
    {
      "cell_type": "code",
      "metadata": {
        "colab": {
          "base_uri": "https://localhost:8080/"
        },
        "id": "klfGVMAEWqy3",
        "outputId": "1845610a-7094-4f1a-c6b2-e9f514d5b547"
      },
      "source": [
        "print(lst_of_lst[7])"
      ],
      "execution_count": null,
      "outputs": [
        {
          "output_type": "stream",
          "text": [
            "[154, 155, 156, 157, 158, 159, 160, 161, 162, 163, 164, 165, 166, 167, 168, 169, 170, 171, 172, 173, 174, 175, 176, 177, 178, 179, 180, 181, 182, 183, 184, 185, 186, 187, 188, 189]\n"
          ],
          "name": "stdout"
        }
      ]
    },
    {
      "cell_type": "code",
      "metadata": {
        "id": "sUulWhZjWvHY"
      },
      "source": [
        "col3_lst = []\n",
        "for x in df_sub_test.iterrows():\n",
        "    a = x[1]['Product1']\n",
        "    b =  x[1]['Product2']\n",
        "    val = 0\n",
        "    for i in lst_of_lst:\n",
        "        if a in i and b in i:\n",
        "            val = 1\n",
        "    col3_lst.append(val)\n",
        "        "
      ],
      "execution_count": null,
      "outputs": []
    },
    {
      "cell_type": "code",
      "metadata": {
        "colab": {
          "base_uri": "https://localhost:8080/"
        },
        "id": "wt7arLauWx3S",
        "outputId": "8ccf07d3-b246-4660-be3c-35f6612c5e27"
      },
      "source": [
        "set(col3_lst)"
      ],
      "execution_count": null,
      "outputs": [
        {
          "output_type": "execute_result",
          "data": {
            "text/plain": [
              "{0, 1}"
            ]
          },
          "metadata": {
            "tags": []
          },
          "execution_count": 250
        }
      ]
    },
    {
      "cell_type": "code",
      "metadata": {
        "colab": {
          "base_uri": "https://localhost:8080/"
        },
        "id": "lHJBLLSTW1HS",
        "outputId": "e24ac8a5-80b3-4f6a-cdd1-87f934415e90"
      },
      "source": [
        "col3_lst.count(0),col3_lst.count(1),col3_lst.count(0)+col3_lst.count(1),df_sub_test.shape"
      ],
      "execution_count": null,
      "outputs": [
        {
          "output_type": "execute_result",
          "data": {
            "text/plain": [
              "(39696, 5886, 45582, (45582, 2))"
            ]
          },
          "metadata": {
            "tags": []
          },
          "execution_count": 252
        }
      ]
    },
    {
      "cell_type": "code",
      "metadata": {
        "colab": {
          "base_uri": "https://localhost:8080/"
        },
        "id": "Cg6Kmag2W4PI",
        "outputId": "9b807b57-32f4-4434-ea63-5d640cef63fd"
      },
      "source": [
        "df_sub_test['Cocompared'] = col3_lst"
      ],
      "execution_count": null,
      "outputs": [
        {
          "output_type": "stream",
          "text": [
            "/usr/local/lib/python3.7/dist-packages/ipykernel_launcher.py:1: SettingWithCopyWarning: \n",
            "A value is trying to be set on a copy of a slice from a DataFrame.\n",
            "Try using .loc[row_indexer,col_indexer] = value instead\n",
            "\n",
            "See the caveats in the documentation: https://pandas.pydata.org/pandas-docs/stable/user_guide/indexing.html#returning-a-view-versus-a-copy\n",
            "  \"\"\"Entry point for launching an IPython kernel.\n"
          ],
          "name": "stderr"
        }
      ]
    },
    {
      "cell_type": "code",
      "metadata": {
        "colab": {
          "base_uri": "https://localhost:8080/",
          "height": 419
        },
        "id": "GyISHi0WXCM-",
        "outputId": "1b55ac04-d964-4820-8846-b19c07162222"
      },
      "source": [
        "df_sub_test"
      ],
      "execution_count": null,
      "outputs": [
        {
          "output_type": "execute_result",
          "data": {
            "text/html": [
              "<div>\n",
              "<style scoped>\n",
              "    .dataframe tbody tr th:only-of-type {\n",
              "        vertical-align: middle;\n",
              "    }\n",
              "\n",
              "    .dataframe tbody tr th {\n",
              "        vertical-align: top;\n",
              "    }\n",
              "\n",
              "    .dataframe thead th {\n",
              "        text-align: right;\n",
              "    }\n",
              "</style>\n",
              "<table border=\"1\" class=\"dataframe\">\n",
              "  <thead>\n",
              "    <tr style=\"text-align: right;\">\n",
              "      <th></th>\n",
              "      <th>Product1</th>\n",
              "      <th>Product2</th>\n",
              "      <th>Cocompared</th>\n",
              "    </tr>\n",
              "  </thead>\n",
              "  <tbody>\n",
              "    <tr>\n",
              "      <th>0</th>\n",
              "      <td>1</td>\n",
              "      <td>2</td>\n",
              "      <td>1</td>\n",
              "    </tr>\n",
              "    <tr>\n",
              "      <th>1</th>\n",
              "      <td>1</td>\n",
              "      <td>3</td>\n",
              "      <td>1</td>\n",
              "    </tr>\n",
              "    <tr>\n",
              "      <th>2</th>\n",
              "      <td>1</td>\n",
              "      <td>4</td>\n",
              "      <td>1</td>\n",
              "    </tr>\n",
              "    <tr>\n",
              "      <th>3</th>\n",
              "      <td>1</td>\n",
              "      <td>5</td>\n",
              "      <td>1</td>\n",
              "    </tr>\n",
              "    <tr>\n",
              "      <th>4</th>\n",
              "      <td>1</td>\n",
              "      <td>6</td>\n",
              "      <td>1</td>\n",
              "    </tr>\n",
              "    <tr>\n",
              "      <th>...</th>\n",
              "      <td>...</td>\n",
              "      <td>...</td>\n",
              "      <td>...</td>\n",
              "    </tr>\n",
              "    <tr>\n",
              "      <th>45577</th>\n",
              "      <td>214</td>\n",
              "      <td>209</td>\n",
              "      <td>1</td>\n",
              "    </tr>\n",
              "    <tr>\n",
              "      <th>45578</th>\n",
              "      <td>214</td>\n",
              "      <td>210</td>\n",
              "      <td>1</td>\n",
              "    </tr>\n",
              "    <tr>\n",
              "      <th>45579</th>\n",
              "      <td>214</td>\n",
              "      <td>211</td>\n",
              "      <td>1</td>\n",
              "    </tr>\n",
              "    <tr>\n",
              "      <th>45580</th>\n",
              "      <td>214</td>\n",
              "      <td>212</td>\n",
              "      <td>1</td>\n",
              "    </tr>\n",
              "    <tr>\n",
              "      <th>45581</th>\n",
              "      <td>214</td>\n",
              "      <td>213</td>\n",
              "      <td>1</td>\n",
              "    </tr>\n",
              "  </tbody>\n",
              "</table>\n",
              "<p>45582 rows × 3 columns</p>\n",
              "</div>"
            ],
            "text/plain": [
              "       Product1  Product2  Cocompared\n",
              "0             1         2           1\n",
              "1             1         3           1\n",
              "2             1         4           1\n",
              "3             1         5           1\n",
              "4             1         6           1\n",
              "...         ...       ...         ...\n",
              "45577       214       209           1\n",
              "45578       214       210           1\n",
              "45579       214       211           1\n",
              "45580       214       212           1\n",
              "45581       214       213           1\n",
              "\n",
              "[45582 rows x 3 columns]"
            ]
          },
          "metadata": {
            "tags": []
          },
          "execution_count": 254
        }
      ]
    },
    {
      "cell_type": "code",
      "metadata": {
        "colab": {
          "base_uri": "https://localhost:8080/"
        },
        "id": "r4XbYSP4XFPR",
        "outputId": "6c5becd0-3625-47fe-8446-270f686e6ebb"
      },
      "source": [
        "df_sub_test.Cocompared.value_counts()"
      ],
      "execution_count": null,
      "outputs": [
        {
          "output_type": "execute_result",
          "data": {
            "text/plain": [
              "0    39696\n",
              "1     5886\n",
              "Name: Cocompared, dtype: int64"
            ]
          },
          "metadata": {
            "tags": []
          },
          "execution_count": 255
        }
      ]
    },
    {
      "cell_type": "code",
      "metadata": {
        "id": "weGnrD74XI_l"
      },
      "source": [
        "df_sub_test.to_pickle(\"/content/drive/MyDrive/Content_Recommendation/LSTM_Similarity/Computer_Product/product_paired_test.pickle\")"
      ],
      "execution_count": null,
      "outputs": []
    },
    {
      "cell_type": "code",
      "metadata": {
        "colab": {
          "base_uri": "https://localhost:8080/"
        },
        "id": "JReBljwoXPhj",
        "outputId": "5dc05aa2-428e-4e5c-f2fa-ca3343b349b6"
      },
      "source": [
        "\n",
        "len_lst_d = []\n",
        "for i in range(test.shape[0]):\n",
        "    val_len = len(test['cleaned_description'][i].split(\" \"))\n",
        "    len_lst_d.append(val_len)\n",
        "\n",
        "print(max(len_lst_d)) #maxlen"
      ],
      "execution_count": null,
      "outputs": [
        {
          "output_type": "stream",
          "text": [
            "646\n"
          ],
          "name": "stdout"
        }
      ]
    },
    {
      "cell_type": "code",
      "metadata": {
        "colab": {
          "base_uri": "https://localhost:8080/"
        },
        "id": "0uX9U5SYX2H4",
        "outputId": "65cf1671-d80b-425e-8247-028d33b0daa2"
      },
      "source": [
        "import numpy as np\n",
        "print(np.mean(len_lst_d))"
      ],
      "execution_count": null,
      "outputs": [
        {
          "output_type": "stream",
          "text": [
            "69.6355140186916\n"
          ],
          "name": "stdout"
        }
      ]
    },
    {
      "cell_type": "code",
      "metadata": {
        "colab": {
          "base_uri": "https://localhost:8080/"
        },
        "id": "JQkt6PN0X5PH",
        "outputId": "7d1b78a9-6110-4043-c957-38d4ef6990ef"
      },
      "source": [
        "max(len_lst_d),min(len_lst_d)"
      ],
      "execution_count": null,
      "outputs": [
        {
          "output_type": "execute_result",
          "data": {
            "text/plain": [
              "(646, 4)"
            ]
          },
          "metadata": {
            "tags": []
          },
          "execution_count": 259
        }
      ]
    },
    {
      "cell_type": "code",
      "metadata": {
        "id": "K7TsV-F1X96y"
      },
      "source": [
        "id = test.product_id.to_list()\n",
        "desc = test.cleaned_description.to_list()\n"
      ],
      "execution_count": null,
      "outputs": []
    },
    {
      "cell_type": "code",
      "metadata": {
        "colab": {
          "base_uri": "https://localhost:8080/"
        },
        "id": "95cYEqGVYBH8",
        "outputId": "a6eda6cf-b467-449c-bcd7-41dc26dc52d0"
      },
      "source": [
        "id_desc= dict(zip(id, desc))\n",
        "print(id_desc)"
      ],
      "execution_count": null,
      "outputs": [
        {
          "output_type": "stream",
          "text": [
            "{1: 'zyxel amg flipkart com genuine product day replacement guarantee free shipping cash delivery', 2: 'iball wireless adsl router flipkart com genuine product day replacement guarantee free shipping cash delivery', 3: 'tp link archer ac dual band router flipkart com genuine product day replacement guarantee free shipping cash delivery', 4: 'iball ib gx wireless router flipkart com genuine product day replacement guarantee free shipping cash delivery', 5: 'trendnet tha router flipkart com genuine product day replacement guarantee free shipping cash delivery', 6: 'wi bridge adw flipkart com genuine product day replacement guarantee free shipping cash delivery', 7: 'apple md hn flipkart com genuine product day replacement guarantee free shipping cash delivery', 8: 'asus rt dual band wireless gigabit router flipkart com genuine product day replacement guarantee free shipping cash delivery', 9: 'isun flipkart com genuine product day replacement guarantee free shipping cash delivery', 10: 'link dsl wireless adsl port wi fi flipkart com genuine product day replacement guarantee free shipping cash delivery', 11: 'iball wireless router flipkart com genuine product day replacement guarantee free shipping cash delivery', 12: 'apple airport express base station wireless router flipkart com genuine product day replacement guarantee free shipping cash delivery', 13: 'huawei hg adsl mbps modem router flipkart com genuine product day replacement guarantee free shipping cash delivery', 14: 'asus rt router flipkart com genuine product day replacement guarantee free shipping cash delivery', 15: 'apple mc hn flipkart com genuine product day replacement guarantee free shipping cash delivery', 16: 'asus rt ac dual band wireless ac gigabit router flipkart com genuine product day replacement guarantee free shipping cash delivery', 17: 'tp link td flipkart com genuine product day replacement guarantee free shipping cash delivery', 18: 'netgear ex ac mbps wi fi range extender frequency ghz wpa wpa psk wep mbps lan port specification netgear ex ac mbps wi fi range extender white security encryption wpa wpa psk wep speed wireless speed mbps lan wan mbps general brand netgear box ac wi fi range extender ex quick start guide model ex ac mbps wi fi range extender control power button wps secure connection button supported software microsoft internet explorer firefox safari google chrome browser higher type range extenders repeater part number ex color white warranty warranty summary year hardware warranty warranty type limited dimension weight network feature frequency ghz ghz connectivity number antenna number lan port antenna external supported protocol standard ieee ieee ieee ac additional feature feature wi fi technology ieee ac wi fi performance ac mbps mbps wi fi band dual band ghz ethernet port auto sensing technology dual band wi fi upto mbps support new ieee ac ieee wi fi device fastlane feature provides high speed wi view wi fi technology ieee ac wi fi performance ac mbps mbps wi fi band dual band ghz ethernet port auto sensing technology dual band wi fi upto mbps support new ieee ac ieee wi fi device fastlane feature provides high speed wi fi wireless band ideal hd gaming video streaming cd le setup push connect using wi fi protected setup dimension mm', 19: 'edimax br acl flipkart com genuine product day replacement guarantee free shipping cash delivery', 20: 'toto link nd wireless adsl modem mbps router flipkart com genuine product day replacement guarantee free shipping cash delivery', 21: 'merlin wifi repeater flipkart com genuine product day replacement guarantee free shipping cash delivery', 22: 'tenda fh flipkart com genuine product day replacement guarantee free shipping cash delivery', 23: 'tenda flipkart com genuine product day replacement guarantee free shipping cash delivery', 24: 'netgear jwnr wireless router flipkart com genuine product day replacement guarantee free shipping cash delivery', 25: 'linksys wireless range extender dual band flipkart com genuine product day replacement guarantee free shipping cash delivery', 26: 'zyxel amg wireless adsl port gateway usb flipkart com genuine product day replacement guarantee free shipping cash delivery', 27: 'tenda te wireless adsl modem router flipkart com genuine product day replacement guarantee free shipping cash delivery', 28: 'link dwr router wan auto failure flipkart com genuine product day replacement guarantee free shipping cash delivery', 29: 'tp link td mbps wireless adsl modem router flipkart com genuine product day replacement guarantee free shipping cash delivery', 30: 'netgear dual band gigabit wi fi modem router flipkart com genuine product day replacement guarantee free shipping cash delivery', 31: 'beetel adsl router tc pci internal modem mbps price port lock facility port ethernet wifi high download speed support full range standard upto adsl dbi antenna transfer data wireless upto mbps wireless port lock facility port ethernet wifi high download speed support full range standard upto adsl dbi antenna transfer data wireless upto mbps wireless', 32: 'netgear wndr dual band wireless gigabit router flipkart com genuine product day replacement guarantee free shipping cash delivery', 33: 'gadgetguru youth edition mbps white price support ieee wi fi standard ghz come external pcb antenna offering maximum mbps speed includes blue red yellow led indicator controlled via smartphone app managing router setting come mb ddr ram pack mb flash storage based mediatek mt chipset router also offer micro usb port external pcb antenna offer increased signal strength offer square metre coverage support ieee wi fi standard ghz come external pcb antenna offering maximum mbps speed includes blue red yellow led indicator controlled via smartphone app managing router setting come mb ddr ram pack mb flash storage based mediatek mt chipset router also offer micro usb port external pcb antenna offer increased signal strength offer square metre coverage', 34: 'tp link tl wr hp mbps high power wireless router flipkart com genuine product day replacement guarantee free shipping cash delivery', 35: 'wd net hd dual band flipkart com genuine product day replacement guarantee free shipping cash delivery', 36: 'asus wireless ac dual band gigabit router flipkart com genuine product day replacement guarantee free shipping cash delivery', 37: 'tp link tl wr mbps wireless router flipkart com genuine product day replacement guarantee free shipping cash delivery', 38: 'laploma router pocket router enhance wifi range flipkart com genuine product day replacement guarantee free shipping cash delivery', 39: 'linksys hg flipkart com genuine product day replacement guarantee free shipping cash delivery', 40: 'trendnet wireless adsl modem router flipkart com genuine product day replacement guarantee free shipping cash delivery', 41: 'tp link td mbps wireless usb adsl modem router flipkart com genuine product day replacement guarantee free shipping cash delivery', 42: 'asus dsl mbps wireless adsl modem router flipkart com genuine product day replacement guarantee free shipping cash delivery', 43: 'netis wf flipkart com genuine product day replacement guarantee free shipping cash delivery', 44: 'enjoy dual wi fi connectivity one router tp link archer ac dual band gigabit router support ghz mbps ghz mbps connection two detachable external antenna connectivity tp link archer ac offer two dedicated network ensure amazing wireless performance ghz mbps ghz mbps whether sending email streaming hd video router handle task ease matter home stay connected router come two detachable antenna signal stay stable every part covered browse net play online game experience fast ethernet connection tp link archer ac come one gigabit wan port four gigabit lan port directly print document within network remotely ftp server router give guest access wi fi network allowing share document folder without sharing private wi fi access code personal information establish restricted access policy child staff member router block restricted website archer router support ipv enables improved user experience', 45: 'tenda te flipkart com genuine product day replacement guarantee free shipping cash delivery', 46: 'asus dsl ac dual band wireless ac vdsl adsl modem router flipkart com genuine product day replacement guarantee free shipping cash delivery', 47: 'netgear wn rpt universal wifi range extender flipkart com genuine product day replacement guarantee free shipping cash delivery', 48: 'netgear wnr wireless router flipkart com genuine product day replacement guarantee free shipping cash delivery', 49: 'iball ib wrx np mbps extreme high power wireless router flipkart com genuine product day replacement guarantee free shipping cash delivery', 50: 'asus rt wireless flipkart com genuine product day replacement guarantee free shipping cash delivery', 51: 'mobirite high speed white usb usb hub online mobirite high speed white usb usb hub best price free shipping cash delivery genuine product day replacement guarantee', 52: 'ophion male female meter usb cable compatible device computer cable form factor round cable length cable speed mbps ophion male female meter usb cable blue price importance usb port today world something requires explanation almost well aware us external device often device transfer vital data one electronic device another looking apt usb port would fittingly serve purpose choose usb super speed extension cable upto gbps feature come advanced transfer rate gbps also complete backward compatibility easily used usb device computer usb port specially designed full duplex data transmission truly wish take computing experience new level altogether useful device must high quality connection rate capacity control electro magnetic interference usb device ultimate solution let enjoy maximum speed absolute perfection moment welcome world also choose shop usb online want save time energy help get product delivered doorstep manufacturer usb super speed extension cable gbps metre high speed bandwidth driven application reality today increasingly consuming massive amount live data content generation multiple storage device heart technology driven consumption lie connectivity transfer speed factor order fuel lifestyle must get usb super speed extension cable gbps metre warranty year warranty ophion specification ophion male female meter usb cable blue box sale package extension cable general brand ophion suitable desktop laptop cable length model male female meter cable type mbps speed compatible device computer type usb cable cable round part number shzcq connector usb female connector usb male color blue', 53: 'bigkik usb fan flexi usb usb usb fan online bigkik usb fan flexi usb usb usb fan best price free shipping cash delivery genuine product day replacement guarantee', 54: 'gem smart otg connection kit usb usb cable black price feature work microusb smart phone device go function otg allows connect usb device keyboard mouse usb flash drive otg compatible phone tablet small light easy carry plug play compatible almost device otg support feature work microusb smart phone device go function otg allows connect usb device keyboard mouse usb flash drive otg compatible phone tablet small light easy carry plug play compatible almost device otg support', 55: 'kliqvik six port usb hub phone mobile tr usb usb hub online kliqvik six port usb hub phone mobile tr usb usb hub best price free shipping cash delivery genuine product day replacement guarantee', 56: 'iconnect world dual virtual channel audio adapter usb sound card black price dual headphone microphone interface two little led light display working station microphone recording function karaoke function dynamic rotating sound field multichannel technology realize channel dynamic sound speaker headphone mode switch function freedom simulation speaker position free adjustment function sound mixer function output level adjustment put analog signal microphone cd mp tv radio line signal etc digital signal preserve function real usb plug play drive ch speaker directly support positional sound virtual ch sound track use usb port power directly external power adapter need support common speaker headset two pair microphone hole function key microphone mute speaker mute volume volume speaker headphone mode switch function freedom simulation speaker position free adjustment function volume adjust button convenient control volume double mute switch button microphone mute button sound output mute button lovable special appearance dual headphone microphone interface two little led light display working station microphone recording function karaoke function dynamic rotating sound field multichannel technology realize channel dynamic sound speaker headphone mode switch function freedom simulation speaker position free adjustment function sound mixer function output level adjustment put analog signal microphone cd mp tv radio line signal etc digital signal preserve function real usb plug play drive ch speaker directly support positional sound virtual ch sound track use usb port power directly external power adapter need support common speaker headset two pair microphone hole function key microphone mute speaker mute volume volume speaker headphone mode switch function freedom simulation speaker position free adjustment function volume adjust button convenient control volume double mute switch button microphone mute button sound output mute button lovable special appearance', 57: 'satzuma ush usb usb hub online satzuma ush usb usb hub best price free shipping cash delivery genuine product day replacement guarantee', 58: 'orico compact retractable usb bk usb usb hub online orico compact retractable usb bk usb usb hub best price free shipping cash delivery genuine product day replacement guarantee', 59: 'bainsons flexible portable uf usb usb fan multicolor price flexible usb fan laptop pc durable featherweight construction small enough take anywhere easily low power consumption low noise electro motor compatible usb socket directly plug usb fan usb port laptop pc external power supply needed soft nylon blade cause injury easily turn laptop pc power usb fan gently adjust flexible neck position anyway wish enjoy air colour product provided available stock flexible usb fan laptop pc durable featherweight construction small enough take anywhere easily low power consumption low noise electro motor compatible usb socket directly plug usb fan usb port laptop pc external power supply needed soft nylon blade cause injury easily turn laptop pc power usb fan gently adjust flexible neck position anyway wish enjoy air colour product provided available stock', 60: 'ganpati wholsaler apple iphone plus apple iphone plus usb usb cable white price type sync charge cable connector micro usb compatible phone series others type sync charge cable connector micro usb compatible phone series others', 61: 'casotec usb fan portable fan usb usb fan online casotec usb fan portable fan usb usb fan best price free shipping cash delivery genuine product day replacement guarantee', 62: 'star war usb usb hub online star war usb usb hub best price free shipping cash delivery genuine product day replacement guarantee', 63: 'hotshot heater plus funky usb cup warmer blue price usb bottle heater trendy new gadget get heated attached usb port heat baby bottle keep tea coffee warm usb bottle heater trendy new gadget get heated attached usb port heat baby bottle keep tea coffee warm', 64: 'computer port usb nk usb usb hub online computer port usb nk usb usb hub best price free shipping cash delivery genuine product day replacement guarantee', 65: 'stuffcool troop type usb usb hub online stuffcool troop type usb usb hub best price free shipping cash delivery genuine product day replacement guarantee', 66: 'orico aluminium port usb sv usb usb hub online orico aluminium port usb sv usb usb hub best price free shipping cash delivery genuine product day replacement guarantee', 67: 'smiledrive portable key chain charger iphone usb sync charge cable online smiledrive portable key chain charger iphone usb sync charge cable best price free shipping cash delivery genuine product day replacement guarantee', 68: 'orico usb hub card reader bk usb usb hub online orico usb hub card reader bk usb usb hub best price free shipping cash delivery genuine product day replacement guarantee', 69: 'roq mini yk usb usb fan online roq mini yk usb usb fan best price free shipping cash delivery genuine product day replacement guarantee', 70: 'satzuma uch usb clapper board online satzuma uch usb clapper board best price free shipping cash delivery genuine product day replacement guarantee', 71: 'rrp lamp computer keyboard tslplt usb led light green price portable usb led light portronics battery free usb light perfect used laptop adapter power bank compact size flexible hence fit position based use utility power consumption limited able light whole area around portable usb led light portronics battery free usb light perfect used laptop adapter power bank compact size flexible hence fit position based use utility power consumption limited able light whole area around', 72: 'egizmos micro charging flexible computer mobile notebook laptop pc energy saving portable usb led light online egizmos micro charging flexible computer mobile notebook laptop pc energy saving portable usb led light best price free shipping cash delivery genuine product day replacement guarantee', 73: 'techone flexible se violet usb led light violet price usable power bank laptop usb port adaptor usb multi pin board usb port device usable power bank laptop usb port adaptor usb multi pin board usb port device', 74: 'akshaj lightweight flexible portable adjustable hour life keyboard laptop pc notebook power bank book reading work bed usb led light online akshaj lightweight flexible portable adjustable hour life keyboard laptop pc notebook power bank book reading work bed usb led light best price free shipping cash delivery genuine product day replacement guarantee', 75: 'memore portable flexible led light lamp mmull skyblue usb led light blue price brand new high quality perfect fit reading light weight durable cover portable multiple choice color flexible easy clean rated voltage rated power size mm use powered device usb port ultra bright low power consumption unique bendable design also light weight material silicone brand new high quality perfect fit reading light weight durable cover portable multiple choice color flexible easy clean rated voltage rated power size mm use powered device usb port ultra bright low power consumption unique bendable design also light weight material silicone', 76: 'memore portable flexible mmull orange usb led light orange price brand new high quality perfect fit reading light weight durable cover portable multiple choice color flexible easy clean rated voltage rated power size mm use powered device usb port ultra bright low power consumption unique bendable design also light weight material silicone brand new high quality perfect fit reading light weight durable cover portable multiple choice color flexible easy clean rated voltage rated power size mm use powered device usb port ultra bright low power consumption unique bendable design also light weight material silicone', 77: 'karp ultra bright led usb light white led light wht usb led light white price ultra bright led usb light notebook computer laptop pc lighting portable mini lamp feature new flexible bright mini led usb light computer lamp notebook computer pc new facial hair epicare epilator epistick remover stick useful tool brand new high quality led ultra bright powered pc usb port need battery external power flexible adjustable metal neck soft warm white light extremely long service life low power consumption cute decent design plugged pc usb port start bring brightness right lightweight compact space saving easy carry handle ideal companion student traveler office worker etc ideal lighting laptop darkness ultra bright led usb light notebook computer laptop pc lighting portable mini lamp feature new flexible bright mini led usb light computer lamp notebook computer pc new facial hair epicare epilator epistick remover stick useful tool brand new high quality led ultra bright powered pc usb port need battery external power flexible adjustable metal neck soft warm white light extremely long service life low power consumption cute decent design plugged pc usb port start bring brightness right lightweight compact space saving easy carry handle ideal companion student traveler office worker etc ideal lighting laptop darkness', 78: 'himtek light led usb led light online himtek light led usb led light best price free shipping cash delivery genuine product day replacement guarantee', 79: 'storite portable flexible stick dimmable touch switch super bright ck pi usb led light online storite portable flexible stick dimmable touch switch super bright ck pi usb led light best price free shipping cash delivery genuine product day replacement guarantee', 80: 'vency creation usb led light system requirement usb material plastic specification vency creation usb led light black general brand vency creation type led light system requirement usb material plastic model name model id usb color black box sale package led light', 81: 'peepal comm bulb pc usb bulbo usb led light online peepal comm bulb pc usb bulbo usb led light best price free shipping cash delivery genuine product day replacement guarantee', 82: 'techone portable se orange usb led light orange price usable power bank laptop usb port adaptor usb multi pin board usb port device usable power bank laptop usb port adaptor usb multi pin board usb port device', 83: 'himtek usb led light online himtek usb led light best price free shipping cash delivery genuine product day replacement guarantee', 84: 'de techinn combo set flexible usb led light lamp computer reading notebook laptop pc ec lamp usb led light online de techinn combo set flexible usb led light lamp computer reading notebook laptop pc ec lamp usb led light best price free shipping cash delivery genuine product day replacement guarantee', 85: 'sj flexible potable lamp yu usb led light green price description use desk bedside table go soft shade avoid direct led light shine effective protection eyesight flexible body suitable occasion connected pc usb port small easy portable ultra bright mini led light compact light weigh material silicone use anywhere powered device usb port unique bendable design also light weight ultra bright low power consumption rated voltage rated power size app cm colour random delivery description use desk bedside table go soft shade avoid direct led light shine effective protection eyesight flexible body suitable occasion connected pc usb port small easy portable ultra bright mini led light compact light weigh material silicone use anywhere powered device usb port unique bendable design also light weight ultra bright low power consumption rated voltage rated power size app cm colour random delivery', 86: 'tapawire portable usb flexible stick dimmable touch switch super bright led reading lamp usb led light online tapawire portable usb flexible stick dimmable touch switch super bright led reading lamp usb led light best price free shipping cash delivery genuine product day replacement guarantee', 87: 'amaze fashion universal portable lamp pl amazwh usb led light online amaze fashion universal portable lamp pl amazwh usb led light best price free shipping cash delivery genuine product day replacement guarantee', 88: 'instella bright warm white laptop usb led light online instella bright warm white laptop usb led light best price free shipping cash delivery genuine product day replacement guarantee', 89: 'rrp alpha usb led light pink price portable usb led light portronics battery free usb light perfect used laptop adapter power bank compact size flexible hence fit position based use utility power consumption limited able light whole area around portable usb led light portronics battery free usb light perfect used laptop adapter power bank compact size flexible hence fit position based use utility power consumption limited able light whole area around', 90: 'compatible device television tablet laptop', 91: 'go big qvo samsung latest nd generation qlc ssd tb storage capacity enhanced every way expanded sata interface limit mb sequential speed qvo improves random access speed sustained performance boost capacity qvo available tb reliable sustainable capacity tb qvo increase reliability tbw using refined ecc algorithm stable performance upgrade ease upgrading qvo easier ever anyone desktop pc laptop support standard inch sata form factor samsung magician software manage drive enhance performance tool keep latest update monitor drive health status world flash memory brand firmware component including samsung world renowned dram nand produced house allowing end end integration quality trustcapacity tb sequential read write performance reaching mb provides best class performance via sata interface accelerated read performance faster qvo added benefit everyday computing qvo provides adequate amount tbw daily use equivalent bit mlc ssds offer tbw guaranteed endurance expanded capacity tb client ssd mm form factor three year limited warranty warrantied tbw tbw tb model tbw tb model tbw tb model limited warranty year tbw capacity whichever come first information warranty please find enclosed warranty statement package', 92: 'pro nvme series gb pci ssd yr factory warranty', 93: 'highest quality component engineering memory manufacturer worry free data security aes bit full disk encryption moving part mean hard drive spin ups noise superior data protection innovative lightweight design allows work smarter play longer samsung evo mz te bw gb internal solid state drive sata mbps maximum read transfer rate mbps maximum write transfer rate iop random kb read iop random kb write', 94: 'item enables boot computer little second energy efficient improve battery life minute outstanding multitasking performance ideal solution everyday computing need web browsing document creation viewing editing multimedia file superior random read speed iop optimized exceptional performance unrivaled reliability specially engineered wear leveling garbage collection algorithm superior reliability world dram nand flash ssd supplier samsung ssd feature genuine samsung component industry leading design stunning design precision engineering inside brushed metal case block dust corrosion measure mm thick even accommodate latest ultra slim laptop pc backed three year limited warrantyexperience fast pc performance prolonged battery life samsung series solid state drive data storage device capacity gb making ideal everyday computing need like browsing web creating document viewing multimedia file playing pc game product feature black tone brushed metal design inch thick fit computer even ultra thin laptop samsung series solid state drive boast superior random read speed iop fast sequential read write speed mb mb respectively result well suited wide range computing need like web browsing document creation viewing editing multimedia file playing pc game device enables boot computer little second energy efficient design improve battery life minute', 95: 'shopizone bmw wheel gb pen drive case material rubber interface usb operating system window xp vista shopizone bmw wheel gb pen drive black price gb pen drive cool flaunty basically pen drive disguised superheroes adorable cute work operating system handy strong add bling style pen drive shopizone funky innovative collection gb flash drive age group specification shopizone bmw wheel gb pen drive black general specification interface usb brand shopizone capacity gb gb model bmw wheel case material rubber supported window xp vista usb go color black dimension weight box pendrive', 96: 'specification ball ibctdc gb ddr dual core ram hard disk free do performance feature processor speed ghz processor name intel processor type dual core number core general brand ball operating system free do graphic memory na gb model name ibctdc gb ddr graphic intel onboard system memory storage feature memory technology ddr ram gb hard disk capacity gb warranty covered warranty part product service type year domestic warranty warranty summary year domestic warranty covered part product covered warranty burning physically damaged dimension weight kg height cm width cm depth cm box sale package cpu driver cd power cable', 97: 'enables boot computer little second energy efficient improves battery life minute solid state design provides greater shock protection data brushed metal case block dust corrosion worry free data security aes bit full disk encryption superior multi tasking performance th generation core samsung mdx controller included desktop notebook upgrade kit provides everything need install maintain drive percent genuine samsung component memory manufacturer world backed three year limited warrantyproduct description upgrading pc samsung ssd economical way breathe new life aging pc read writes multi task incredible speed enhancing boot speed application loading multi tasking performance upgrade complete transformation pc manufacturer upgrading pc samsung ssd economical way breathe new life aging pc read writes multi task incredible speed enhancing boot application loading multi tasking performance moving part mean hard drive spin ups noise superior data protection version series ssd capacity gb come complete installation kit easy data migration setup boot downloads file performs everyday computer task quickly typical hard disk drive view larger fast performance downloads gaming samsung series ssd everyday task desktop laptop pc become faster smoother ssd provides exceptional read write multitasking speed allowing run application quickly download graphic play memory intensive computer game access file le waiting addition series ssd enables pc boot little second engineered reliability keep data secure ensure exceptional quality reliability series ssd designed built completely house using advanced memory technology percent genuine samsung component additionally series ssd moving part mean hard drive spin ups noise superior data protection ssd also offer aes bit full disk encryption worry free data security thin lightweight design low battery consumption millimeter thick weighing ounce series ssd sleek lightweight design make laptop lighter carry contains moving part feature ultra efficient design consumes little battery power letting enjoy minute laptop battery life standard hard disk drive hdd solid state drive ssd also support device sleep mode microsoft window haswell chipsets help reduce overall power consumption installation kit easy setup data transfer included series ssd installation kit contains sata data power cable screw inch adapter bracket sata usb adapter cable kit also contains mounting spacer slim millimeter profile work slim ultrabook design laptop traditional full height millimeter drive bay samsung smart data migration software also included make safe easy migrate data operating system existing drive series ssd product warranty information ssd usable capacity gb offer mb samsung ddr sdram cache memory sata interface compatible sata gb sata gb measure millimeter weighs gram series ssd backed three year warranty box series ssd samsung smart data migration software samsung ssd magician software manual cd sata data power cable screw inch inch adapter bracket sata usb adapter cable mounting spacer quick user manual samsung series gb ssd full kit glance boot pc little second allows breathe new life aging pc enhancing boot speed application performance energy efficient design minute longer battery life aes bit full disk encryption ultimate data security come complete desktop notebook pc installation kit three year limited warranty samsung series solid state drive capacity gb gb gb drive mz td bw mz td bw mz td bw drive installation kit mz td kw mz td kw mz td kw type drive solid state drive ssd form factor inch reduced mm thickness use ultraportables netbooks use desktop laptop pc including ultraportables netbooks interface sata gbit backwards compatible sata gbit sata gbit random read speed iop iop iop sequential read write speed mb mb mb mb mb mb controller core samsung mdx controller type nand flash xnm samsung toggle ddr nand flash memory mbps type cache mb samsung lpddr sdram mb samsung lpddr sdram included software samsung magician samsung smart data migration software installation kit also includes bracket screw sata data power cable mounting spacer sata usb adapter cable dimension warranty year limited minute longer battery life versus standard hdds competitor ssds installation kit also includes bracket screw sata data power cable mounting spacer sata usb adapter cable random read qd', 98: 'innovative nand technology powered samsung nand technology pro ssd nvme interface pcie gen nvme offer enhanced bandwidth low latency power efficiency ideal tech enthusiast high end gamers content designer breakthrough read write speed sequential read write performance level mb mb respectively random read kb qd iop random read performance optimization data security seamless cloning file transfer samsung magician software ideal ssd management solution performance optimization data security automatic firmware update superior heat dissipation samsung dynamic thermal guard automatically monitor maintains optimal operating temperature minimize performance drop year limited warranty year limited warranty tbw terabyte written capacity gb intensive workload pc workstation samsung pro delivers ultimate performance powered samsung nvme ssd leadership latest nand technology new phoenix controller compact form factor meet need demanding tech enthusiast professional performance put command pro combine next gen pcie gen nvme interface latest nand technology newly enhanced phoenix controller achieve fearless read write speed mb approximately faster previous generation samsung advanced nickel coated controller heat spreader pro solid state drive enable superior heat dissipation dynamic thermal guard automatically monitor maintains optimal operating temperature minimize performance drop advanced drive management made simple samsung magician software help keep eye drive suite user friendly tool help keep drive date monitor drive health speed even boost performance storage memory samsung nand bit mlc', 99: 'high performance business solution samsung proprietary bit mlc nand dct delivers optimized performance data center demand end end data protection help ensure consistency entire data transfer path sequential read write speed sequential read write speed mb respectively random read write speed iop ideal handling massive amount data power loss protection protect data integrity unexpected power loss samsung advanced power loss protection architecture samsung data center technology reliable sata interface solid state drive endurance handle heavy workload server data security secure data without performance degradation thanks aes bit encryption year limited warranty year limited warranty tbwmodel name mz lh ne samsung series sata ssd nand technology ideal solution server need enhanced data reliability safeguard critical data optimized performance high quality service qos power loss protection end end data protection deliver highly reliable enterprise storage solution using sata interface dct feature inch form factor sata interface making easy upgrade ssds within existing infrastructure backed year limited warranty tbw', 100: 'innovative nand technology powered samsung nand technology evo plus ssd nvme interface pcie gen nvme offer enhanced bandwidth low latency power efficiency ideal tech enthusiast high end gamers content designer breakthrough read write speed sequential read write performance level mb mb respectively random read kb qd iop random read performance optimization data security seamless cloning file transfer samsung magician software ideal ssd management solution performance optimization data security automatic firmware update superior heat dissipation samsung dynamic thermal guard automatically monitor maintains optimal operating temperature minimize performance drop year limited warranty year limited warranty tbw terabyte written note model mz packaging model number item model number provided mz technically item code show country intended salecapacity tb intensive workload pc workstation samsung evo plus delivers ultimate performance powered samsung nvme ssd leadership ultimate performance evo plus upgraded faster evo maximizes potential nvme bandwidth unbeatable computing meet need demanding tech enthusiast professional performance put command evo plus combine next gen pcie gen nvme interface latest nand technology achieve fearless read write speed mb faster evo samsung advanced nickel coated controller heat spreader evo plus solid state drive enable superior heat dissipation dynamic thermal guard automatically monitor maintains optimal operating temperature minimize performance drop advanced drive management made simple samsung magician software help keep eye drive suite user friendly tool help keep drive date monitor drive health speed even boost performance', 101: 'encryption standard bit maximum read transfer rate mb maximum write transfer rate mb wireless lan nosamsung pro series gb ssd mz', 102: 'pcie nvm express ssd client pc nand client ssd ideal high performance tower desktop small form factor pc sequential read speed mb sequential write speed mb samsung magician software delivers ssd management automatic firmware update year limited warranty performance may vary based system hardware configurationcapacity gb samsung evo series gb pcie nvme internal ssd mz bw operating temperature degree fahrenheit degree fahrenheit', 103: 'sata iii gb thickness mm rpm spin speedsamsung spinpoint internal hard drive featured sata native command queuing tumr pmr head fod technology serial ata gbps interface support', 104: 'superfast read write speed ssd nand offer ultra fast data transfer speed mb faster external hdds ideal transferring large sized data including video high resolution photo game compact portable design top bottom shock resistant metal design fit palm hand easily slide pocket purse take work entertainment go secure encryption optional password protection aes bit hardware encryption keep personal private data secure seamless connectivity includes usb type usb type cable connect pc mac smartphones device warranty compatibility year limited warranty requires window mac maverick android kitkat higher older version window mac android operating system may supportedcolor black capacity tb style single samsung portable ssd latest samsung nand flash memory technology portable design blazing fast transfer speed mb shock resistance secure encryption make best portable ssd market', 105: 'high performance business solution samsung proprietary bit mlc nand dct delivers optimized performance data center demand end end data protection help ensure consistency entire data transfer path sequential read write speed sequential read write speed mb respectively random read write speed iop ideal handling massive amount data power loss protection protect data integrity unexpected power loss samsung advanced power loss protection architecture samsung data center technology reliable sata interface solid state drive endurance handle heavy workload server data security secure data without performance degradation thanks aes bit encryption year limited warranty year limited warranty tbwthe samsung series sata ssd nand technology ideal solution server need enhanced data reliability safeguard critical data optimized performance high quality service qos power loss protection end end data protection deliver highly reliable enterprise storage solution using sata interface dct feature inch form factor sata interface making easy upgrade ssds within existing infrastructure backed year limited warranty tbw', 106: 'form factor mm mm samsung ssd gb pm mm pcie nvme mzalq hajd mz alq solid state drive', 107: 'interface pcie nvme feature trim supported supported auto garbage collection algorithm aes bit user data encryption tcg opal device sleep mode support mw sequential read mbps sequential write mbps random read kb qd iop thread random write kb qd iop thread random read kb qd iop thread random write kb qd iop thread reliability mtbf million hour reliability mtbf operating temperature degree degree measured smart temperature proper airflow recommended shock duration sec axis software management sw magician software ssd management', 108: 'pcie nvm express ssd client pc nand client ssd ideal gaming high performance tower desktop small form factor pc sequential read speed mb sequential write speed mb performance may vary based system hardware configuration samsung magician software delivers ssd management automatic firmware update year limited warranty reliability mtbf million hour reliability interface pcie nvme capacity gb experience incredible performance designed heavy workload demanding application high capacity highly reliable samsung pro ssd ideal high end pc workstation pro boast cutting edge layer samsung nand based architecture delivers next generation performance compact form factor samsung magician software solution provides advanced functionality manage monitor optimize drive performance', 109: 'color blue manufacturer samsung new series camcorder enjoy near full hd quality video price standard definition camcorder smx record exceptional standard definition video resolution played back hdtv near full hd quality thanks advanced upscaling technology hdmi connectivity built hdmi output camera hdmi cable sold separately simply connect camcorder directly hdtv near full hd playback smx also offer one samsung powerful zoom lens intelli zoom fingertip drastically enhances ability capture moment matter far away may significantly reliable standard digital zoom negatively affect quality image samsung new intelli zoom allows go beyond camcorder optical zoom series also feature samsung advanced optical image stabilizer ensuring video shake free whether zoomed using camcorder full intelli zoom furthermore camcorder world class schneider kreuznach lens delivers quality performance needed help capture impressive video possible smx offer internal gb solid state drive ssd providing hour minute recording time depending recording mode samsung renowned ssd technology offer substantial advantage use hard disk drive hdd digital camcorder ssd energy efficient produce low heat emission faster durable hdd moving part new smx follows footstep smx smx boast several unique feature differentiate competition make video recording even enjoyable feature include samsung built intelli studio software animated thumbnail versatile charging system longer need worry near computer order edit share video series feature samsung play edit sharing program called intelli studio built intelli studio program allows turn computer mobile studio offering ability edit play video without install supporting software sharing also simplified using intelli studio program take hassle uploading content popular video sharing web site samsung animated thumbnail feature simplifies way user search video clip video clip saved camcorder represented small thumbnail lcd screen scrolling one video thumbnail provide short playback video file highlighted user smx also feature versatile charging system recharge battery simply connecting camcorder supplied ac adapter via usb camcorder connected computer', 110: 'authorized part fit various samsung brand model oem part da product dimension see product detail', 111: 'lapguard hp pavilion zt adapter flipkart com genuine product day replacement guarantee free shipping cash delivery', 112: 'smartpro replacement charger vaio series vgn cr adapter designed sony vaio vgn cr smartpro replacement charger vaio series vgn cr adapter power cord included price smartpro brand product smartpro laptop adapter charger sony vaio vgn cr connector pin size smartpro replacement adapter designed provide reliable power charge laptop made highest quality part replacement adapter conforms specification similar original quality adapter also pass necessary authentication certification like ce rohs etc leaving factory rest assured quality durability performance please note image indicative actual product label may vary place order adapter please assure select right adapter laptop please check adapter voltage current compliance requirment laptop adapter output current laptop rated current adapter output volatege notebook voltage deviation please also check adapter pin image place order specification smartpro replacement charger vaio series vgn cr adapter power cord included general brand smartpro designed vaio vgn cr sale package laptop adapter key feature designed sony vaio vgn cr connector pin type mm mm model id replacement charger vaio series vgn cr power power input hz power consumption output current output voltage warranty covered warranty warranty product limited manufacturing defect warranty summary month india warranty warranty service type replacement repair carry warranty customer need carry send replacement repair replaced product sent back customer covered warranty warranty cover external accessory battery cable carrying bag damage caused product due improper installation customer normal wear tear magnetic head audio video laser pick ups tv picture tube pane', 113: 'lapguard sony vaio vpc eh adapter power cord included price lapguard replacement adapter designed provide reliable power charge laptop made highest quality part lapguard replacement adapter conforms specification similar original quality adapter also pass necessary authentication certification like ce rohs etc leaving factory rest assured quality durability performance please note image indicative actual product label may vary place order adapter please make sure selecting correct adapter per old charger specification please compare old adapter power rating volt amp watt pin tip connector size lapguard replacement adapter designed provide reliable power charge laptop made highest quality part lapguard replacement adapter conforms specification similar original quality adapter also pass necessary authentication certification like ce rohs etc leaving factory rest assured quality durability performance please note image indicative actual product label may vary place order adapter please make sure selecting correct adapter per old charger specification please compare old adapter power rating volt amp watt pin tip connector size', 114: 'hako magsafe laptop charger apple macbook pro adapter designed apple macbook pro mb magsafe hako magsafe laptop charger apple macbook pro adapter price hako laptop adapter come high quality certification compatible respective brand adapter equipped protection circuit protect laptop adapter come year warranty specification hako magsafe laptop charger apple macbook pro adapter general brand hako designed apple macbook pro mb magsafe sale package laptop adapter model name apple macbook pro mb magsafe model id magsafe laptop charger apple macbook pro power power consumption warranty covered warranty manufacturing defect warranty summary year warranty warranty service type claim warranty customer need contact seller guided nearest service center service center available area need courier product seller replace product send via courier covered warranty physcal damage covered warranty', 115: 'rega asus jc rx jc rx adapter power cord included price rega replacement laptop ac power adapter charger asus jc rx jc rx laptop enables operate notebook charge battery electrical power outlet running computer ac power battery installed adapter charge battery needed maintains charge system ac adapter charge battery maintain charge made highest quality part rega replacement adapter confirms specification similar guaranteed meet exceed laptop minimum requirement adapter also pass necessary authentication certification like ce rohs etc leaving factory rest assured quality durability performance please make sure selecting correct adapter per old charger specification please compare old adapter power rating volt amp watt pin tip connector size rega replacement laptop ac power adapter charger asus jc rx jc rx laptop enables operate notebook charge battery electrical power outlet running computer ac power battery installed adapter charge battery needed maintains charge system ac adapter charge battery maintain charge made highest quality part rega replacement adapter confirms specification similar guaranteed meet exceed laptop minimum requirement adapter also pass necessary authentication certification like ce rohs etc leaving factory rest assured quality durability performance please make sure selecting correct adapter per old charger specification please compare old adapter power rating volt amp watt pin tip connector size', 116: 'rega hp pavilion dv tn dv adapter power cord included price rega replacement laptop ac power adapter charger hp pavilion dv tn dv laptop enables operate notebook charge battery electrical power outlet running computer ac power battery installed adapter charge battery needed maintains charge system ac adapter charge battery maintain charge made highest quality part rega replacement adapter confirms specification similar guaranteed meet exceed laptop minimum requirement adapter also pass necessary authentication certification like ce rohs etc leaving factory rest assured quality durability performance please make sure selecting correct adapter per old charger specification please compare old adapter power rating volt amp watt pin tip connector size rega replacement laptop ac power adapter charger hp pavilion dv tn dv laptop enables operate notebook charge battery electrical power outlet running computer ac power battery installed adapter charge battery needed maintains charge system ac adapter charge battery maintain charge made highest quality part rega replacement adapter confirms specification similar guaranteed meet exceed laptop minimum requirement adapter also pass necessary authentication certification like ce rohs etc leaving factory rest assured quality durability performance please make sure selecting correct adapter per old charger specification please compare old adapter power rating volt amp watt pin tip connector size', 117: 'hako magsafe laptop charger apple macbook pro mb xa adapter designed apple macbook pro mb magsafe hako magsafe laptop charger apple macbook pro mb xa adapter price hako laptop adapter come high quality certification compatible respective brand adapter equipped protection circuit protect laptop adapter come year warranty specification hako magsafe laptop charger apple macbook pro mb xa adapter general brand hako designed apple macbook pro mb magsafe sale package laptop adapter model name apple macbook pro mb magsafe model id magsafe laptop charger apple macbook pro mb xa power power consumption warranty covered warranty manufacturing defect warranty summary year warranty warranty service type claim warranty customer need contact seller guided nearest service center service center available area need courier product seller replace product send via courier covered warranty physcal damage covered warranty', 118: 'rega hp pavilion dv eo dv ew adapter power cord included price rega replacement laptop ac power adapter charger hp pavilion dv eo dv ew laptop enables operate notebook charge battery electrical power outlet running computer ac power battery installed adapter charge battery needed maintains charge system ac adapter charge battery maintain charge made highest quality part rega replacement adapter confirms specification similar guaranteed meet exceed laptop minimum requirement adapter also pass necessary authentication certification like ce rohs etc leaving factory rest assured quality durability performance please make sure selecting correct adapter per old charger specification please compare old adapter power rating volt amp watt pin tip connector size rega replacement laptop ac power adapter charger hp pavilion dv eo dv ew laptop enables operate notebook charge battery electrical power outlet running computer ac power battery installed adapter charge battery needed maintains charge system ac adapter charge battery maintain charge made highest quality part rega replacement adapter confirms specification similar guaranteed meet exceed laptop minimum requirement adapter also pass necessary authentication certification like ce rohs etc leaving factory rest assured quality durability performance please make sure selecting correct adapter per old charger specification please compare old adapter power rating volt amp watt pin tip connector size', 119: 'specification smartpro replacement charger vaio series vgn cr ebw adapter power cord included general brand smartpro designed vaio vgn cr ebw sale package laptop adapter key feature designed sony vaio vgn cr ebw connector pin type mm mm model id replacement charger vaio series vgn cr ebw power power input hz power consumption output current output voltage warranty covered warranty warranty product limited manufacturing defect warranty summary month india warranty warranty service type replacement repair carry warranty customer need carry send replacement repair replaced product sent back customer covered warranty warranty cover external accessory battery cable carrying bag damage caused product due improper installation customer normal wear tear magnetic head audio video laser pick ups tv picture tube pane', 120: 'rega hp pavilion dv xx dv eo adapter power cord included price rega replacement laptop ac power adapter charger hp pavilion dv xx dv eo laptop enables operate notebook charge battery electrical power outlet running computer ac power battery installed adapter charge battery needed maintains charge system ac adapter charge battery maintain charge made highest quality part rega replacement adapter confirms specification similar guaranteed meet exceed laptop minimum requirement adapter also pass necessary authentication certification like ce rohs etc leaving factory rest assured quality durability performance please make sure selecting correct adapter per old charger specification please compare old adapter power rating volt amp watt pin tip connector size rega replacement laptop ac power adapter charger hp pavilion dv xx dv eo laptop enables operate notebook charge battery electrical power outlet running computer ac power battery installed adapter charge battery needed maintains charge system ac adapter charge battery maintain charge made highest quality part rega replacement adapter confirms specification similar guaranteed meet exceed laptop minimum requirement adapter also pass necessary authentication certification like ce rohs etc leaving factory rest assured quality durability performance please make sure selecting correct adapter per old charger specification please compare old adapter power rating volt amp watt pin tip connector size', 121: 'hp paviliondv tx cell laptop battery flipkart com genuine product day replacement guarantee free shipping cash delivery', 122: 'lapguard dell compatible black cell laptop battery flipkart com genuine product day replacement guarantee free shipping cash delivery', 123: 'arb lg lw dbja replacement cell laptop battery price product compatible mentioned model number arb replacement battery made high grade cell highest quality part arb brand replacement battery percent comparable original battery term including size appearance important quality arb laptop battery pas strict quality control procedure including filtration safety testing voltage capacity battery core body battery also pass necessary authentication certification like ce rohs etc leaving factory rest assured quality durability performance please note image indicative actual product label may vary battery part model may printed label case doubt request raised company customer support product compatible mentioned model number arb replacement battery made high grade cell highest quality part arb brand replacement battery percent comparable original battery term including size appearance important quality arb laptop battery pas strict quality control procedure including filtration safety testing voltage capacity battery core body battery also pass necessary authentication certification like ce rohs etc leaving factory rest assured quality durability performance please note image indicative actual product label may vary battery part model may printed label case doubt request raised company customer support', 124: 'rega hp pavilion dv sf dv ei cell cell laptop battery flipkart com genuine product day replacement guarantee free shipping cash delivery', 125: 'rega hp pavilion dv tx dv tu cell cell laptop battery flipkart com genuine product day replacement guarantee free shipping cash delivery', 126: 'arb hp compatible black cell laptop battery flipkart com genuine product day replacement guarantee free shipping cash delivery', 127: 'rega hp pavilion dv tx dv tx cell cell laptop battery price rega replacement cell extended laptop battery hp pavilion dv tx dv tx laptop made highest quality part rega replacement battery confirms specification similar guaranteed meet exceed laptop minimum requirement battery also pass necessary authentication certification like ce rohs etc leaving factory rest assured quality durability performance please make sure selecting correct battery per old battery specification please compare old battery power rating volt capacity mah cell rega replacement cell extended laptop battery hp pavilion dv tx dv tx laptop made highest quality part rega replacement battery confirms specification similar guaranteed meet exceed laptop minimum requirement battery also pass necessary authentication certification like ce rohs etc leaving factory rest assured quality durability performance please make sure selecting correct battery per old battery specification please compare old battery power rating volt capacity mah cell', 128: 'lenovo ideapad cell laptop battery price laptop battery model made high quality part confirms specification similar laptop requirement battery pass necessary certification like ce rohs cb etc henceforth confirms best quality durability performance wont get drained easily last longer adding high back extra performance voltage capacity cell meet exactly requirement laptop battery model made high quality part confirms specification similar laptop requirement battery pass necessary certification like ce rohs cb etc henceforth confirms best quality durability performance wont get drained easily last longer adding high back extra performance voltage capacity cell meet exactly requirement', 129: 'nova lenovo cell laptop battery price compatible battery compatible battery', 130: 'clublaptop lenovo cell laptop battery price clublaptop cl hi life replacement battery made high grade cell highest quality part clublaptop brand replacement battery percent comparable original battery term including size appearance important quality cl laptop battery pas strict quality control procedure including filtration safety testing voltage capacity battery core body battery also pass necessary authentication certification like ce rohs etc leaving factory rest assured quality durability performance carry laptop anywhere work play watch movie longer hour without plugging clublaptop iso iso certified company offer high quality laptop accessory component warranty please note image indicative actual product label may vary battery part model may printed label clublaptop cl hi life replacement battery made high grade cell highest quality part clublaptop brand replacement battery percent comparable original battery term including size appearance important quality cl laptop battery pas strict quality control procedure including filtration safety testing voltage capacity battery core body battery also pass necessary authentication certification like ce rohs etc leaving factory rest assured quality durability performance carry laptop anywhere work play watch movie longer hour without plugging clublaptop iso iso certified company offer high quality laptop accessory component warranty please note image indicative actual product label may vary battery part model may printed label', 131: 'clublaptop hp hstnn hstnn hstnn hstnn xb cell laptop battery flipkart com genuine product day replacement guarantee free shipping cash delivery', 132: 'lapguard sony vgp bps compatible black cell laptop battery flipkart com genuine product day replacement guarantee free shipping cash delivery', 133: 'lapguard toshiba satellite pro cell laptop battery price product compatible mentioned model number lapguard replacement battery made high grade cell highest quality part lapguard brand replacement battery percent comparable original battery term including size appearance important quality lapguard laptop battery pas strict quality control procedure including filtration safety testing voltage capacity battery core body battery also pass necessary authentication certification like ce rohs etc leaving factory rest assured quality durability performance please note image indicative actual product label may vary battery part model may printed label case doubt request raised company customer support product compatible mentioned model number lapguard replacement battery made high grade cell highest quality part lapguard brand replacement battery percent comparable original battery term including size appearance important quality lapguard laptop battery pas strict quality control procedure including filtration safety testing voltage capacity battery core body battery also pass necessary authentication certification like ce rohs etc leaving factory rest assured quality durability performance please note image indicative actual product label may vary battery part model may printed label case doubt request raised company customer support', 134: 'lapguard hp pavilion dv ef cell laptop battery flipkart com genuine product day replacement guarantee free shipping cash delivery', 135: 'hp pavilion dv series cell laptop battery flipkart com genuine product day replacement guarantee free shipping cash delivery', 136: 'lapguard acer aspire mn replacement cell laptop battery flipkart com genuine product day replacement guarantee free shipping cash delivery', 137: 'exilient aspire cell laptop battery flipkart com genuine product day replacement guarantee free shipping cash delivery', 138: 'lapguard hp pavilion dv nr cell laptop battery flipkart com genuine product day replacement guarantee free shipping cash delivery', 139: 'rce toshiba satellite cell laptop battery flipkart com genuine product day replacement guarantee free shipping cash delivery', 140: 'rega compaq presario cto cell cell laptop battery flipkart com genuine product day replacement guarantee free shipping cash delivery', 141: 'hp pavilion dv cell laptop battery flipkart com genuine product day replacement guarantee free shipping cash delivery', 142: 'hp pavilion cell laptop battery price hp original battery pavilion compatible model dv dv dv cq cq cq cq cq hp original battery pavilion compatible model dv dv dv cq cq cq cq cq', 143: 'print shape graphic dancer laptop skin mouse pad combo set glue free removal inch laptop skin easy apply scratch resistant lamination print shape graphic dancer laptop skin mouse pad combo set multicolor price print shape laptop skin made high quality vinyl sheet compatible laptop screen size ranging inch inch trimning skin would required per laptop size skin easy install remove without leaving gum residue specification print shape graphic dancer laptop skin mouse pad combo set multicolor general brand print shape model name graphic dancer laptop skin mouse pad suitable type laptop color multicolor warranty warranty summary warranty box number content sale package pack', 144: 'print shape mary max cartoon laptop skin mouse pad combo set glue free removal inch laptop skin easy apply scratch resistant lamination print shape mary max cartoon laptop skin mouse pad combo set multicolor price print shape laptop skin made high quality vinyl sheet compatible laptop screen size ranging inch inch trimning skin would required per laptop size skin easy install remove without leaving gum residue specification print shape mary max cartoon laptop skin mouse pad combo set multicolor general brand print shape model name mary max cartoon laptop skin mouse pad suitable type laptop color multicolor warranty warranty summary warranty box number content sale package pack', 145: 'print shape batman dark knight laptop skin mouse pad combo set glue free removal inch laptop skin easy apply scratch resistant lamination print shape batman dark knight laptop skin mouse pad combo set multicolor price print shape laptop skin made high quality vinyl sheet compatible laptop screen size ranging inch inch trimning skin would required per laptop size skin easy install remove without leaving gum residue specification print shape batman dark knight laptop skin mouse pad combo set multicolor general brand print shape model name batman dark knight laptop skin mouse pad suitable type laptop color multicolor warranty warranty summary warranty box number content sale package pack', 146: 'print shape minion superhero laptop skin mouse pad combo set glue free removal inch laptop skin easy apply scratch resistant lamination print shape minion superhero laptop skin mouse pad combo set multicolor price print shape laptop skin made high quality vinyl sheet compatible laptop screen size ranging inch inch trimning skin would required per laptop size skin easy install remove without leaving gum residue specification print shape minion superhero laptop skin mouse pad combo set multicolor general brand print shape model name minion superhero laptop skin mouse pad suitable type laptop color multicolor warranty warranty summary warranty box number content sale package pack', 147: 'print shape green acer laptop skin mouse pad combo set glue free removal inch laptop skin easy apply scratch resistant lamination print shape green acer laptop skin mouse pad combo set multicolor price print shape laptop skin made high quality vinyl sheet compatible laptop screen size ranging inch inch trimning skin would required per laptop size skin easy install remove without leaving gum residue specification print shape green acer laptop skin mouse pad combo set multicolor general brand print shape model name green acer laptop skin mouse pad suitable type laptop color multicolor warranty warranty summary warranty box number content sale package pack', 148: 'print shape hunger girl laptop skin mouse pad combo set glue free removal inch laptop skin easy apply scratch resistant lamination print shape hunger girl laptop skin mouse pad combo set multicolor price print shape laptop skin made high quality vinyl sheet compatible laptop screen size ranging inch inch trimning skin would required per laptop size skin easy install remove without leaving gum residue specification print shape hunger girl laptop skin mouse pad combo set multicolor general brand print shape model name hunger girl laptop skin mouse pad suitable type laptop color multicolor warranty warranty summary warranty box number content sale package pack', 149: 'print shape four penguin madagascar laptop skin mouse pad combo set glue free removal inch laptop skin easy apply scratch resistant lamination print shape four penguin madagascar laptop skin mouse pad combo set multicolor price print shape laptop skin made high quality vinyl sheet compatible laptop screen size ranging inch inch trimning skin would required per laptop size skin easy install remove without leaving gum residue specification print shape four penguin madagascar laptop skin mouse pad combo set multicolor general brand print shape model name four penguin madagascar laptop skin mouse pad suitable type laptop color multicolor warranty warranty summary warranty box number content sale package pack', 150: 'print shape msi unleash dragon laptop skin mouse pad combo set glue free removal inch laptop skin easy apply scratch resistant lamination print shape msi unleash dragon laptop skin mouse pad combo set multicolor price print shape laptop skin made high quality vinyl sheet compatible laptop screen size ranging inch inch trimning skin would required per laptop size skin easy install remove without leaving gum residue specification print shape msi unleash dragon laptop skin mouse pad combo set multicolor general brand print shape model name msi unleash dragon laptop skin mouse pad suitable type laptop color multicolor warranty warranty summary warranty box number content sale package pack', 151: 'print shape despicable looking upwards laptop skin mouse pad combo set glue free removal inch laptop skin easy apply scratch resistant lamination print shape despicable looking upwards laptop skin mouse pad combo set multicolor price print shape laptop skin made high quality vinyl sheet compatible laptop screen size ranging inch inch trimning skin would required per laptop size skin easy install remove without leaving gum residue specification print shape despicable looking upwards laptop skin mouse pad combo set multicolor general brand print shape model name despicable looking upwards laptop skin mouse pad suitable type laptop color multicolor warranty warranty summary warranty box number content sale package pack', 152: 'print shape best green ball laptop skin mouse pad combo set glue free removal inch laptop skin easy apply scratch resistant lamination print shape best green ball laptop skin mouse pad combo set multicolor price print shape laptop skin made high quality vinyl sheet compatible laptop screen size ranging inch inch trimning skin would required per laptop size skin easy install remove without leaving gum residue specification print shape best green ball laptop skin mouse pad combo set multicolor general brand print shape model name best green ball laptop skin mouse pad suitable type laptop color multicolor warranty warranty summary warranty box number content sale package pack', 153: 'print shape dont want live laptop skin mouse pad combo set glue free removal inch laptop skin easy apply scratch resistant lamination print shape dont want live laptop skin mouse pad combo set multicolor price print shape laptop skin made high quality vinyl sheet compatible laptop screen size ranging inch inch trimning skin would required per laptop size skin easy install remove without leaving gum residue specification print shape dont want live laptop skin mouse pad combo set multicolor general brand print shape model name dont want live laptop skin mouse pad suitable type laptop color multicolor warranty warranty summary warranty box number content sale package pack', 154: 'wqhd curved widescreen va monitor adaptive sync technology technology aspect ratio zero frame design speaker watt per speaker refresh rate hz response time vrb pixel pitch mm port display port hdmi port hdmi cable included acer ed curved panel monitor wqhd resolution delivers incredible crisp true life color come alive amazing resolution allowing enjoy high definition entertainment comfort home wide view angle technology let share screen friend family color stay true matter angle viewing incredible contrast ratio rapid response time ensure game work movie smooth look epic possible adaptive sync technology game frame rate determined graphic card fixed refresh rate monitor giving serious competitive edge smooth tear free gameplay whole lot um aa', 155: 'inch wqhd widescreen nvidia sync technology refresh rate hz overclocking hz using display port response time pixel pitch millimeter flicker le technology reduces annoying screen flickering cause eye strain viewing monitor long period speaker brightness nit panel technology plane switching ip technology tilt angle swivel angle maximum adjustable height inch signal input hdmi display port viewing angle mounting type vesa compatibility mountable millimeter note kindly refer user manual provided pdf manual product description sectionfasten seatbelt acer predator xb hu wqhd display turbocharge gaming experience monitor combine jaw dropping spec ip panel support hz refresh rate delivering amazing gaming experience also featuring nvidia sync technology eliminate screen tearing provide gamers epic gaming experience help secure victory plus built eye protection ergonomics allow press forward battle without fatigue um hx aa', 156: 'upc acer hql ebid', 157: 'wqhd curved widescreen va monitor amd freesync technology brightness nit refresh rate hz using display port hdmi hdr ready mprt curved speaker watt per speaker port display port mini display port hdmi hdmi mhl usb port', 158: 'full hd widescreen va display amd radeon freesync technology hertz refresh rate using hdmi port response time millisecond stand tilt acer visioncare technology port hdmi vga vga cable included', 159: 'full hd widescreen ip monitor amd freesync technology zero frame design refresh rate hz response time vrb brightness nit pixel pitch mm aspect ratio million color supported tilt degree degree height adjustment range swivel pivot port usb type port gen gbps supporting data power displayport usb display port hdmi audio usb type cable included enjoy outstanding visual experience acer cb zero frame ip monitor designed prosumers mind display feature incredible image color amd freesync technology frame rate determined graphic card fixed refresh rate monitor giving serious competitive edge plus user enjoy comfortable viewing experience gaming via flicker le low dimming display design save space desk let place multiple monitor side side build seamless big screen display um hb aa', 160: 'fhd widescreen nvidia sync tear free gaming zero frame design display refresh rate hz response time ergonomic tilt height adjustment range swivel pivot yes color saturation srgb brightness nit port display port hdmi audio usb port display port usb cable included fasten seatbelt predator xb full hd display resolution compromise gaming performance color speed inch monitor combine jaw dropping spec including ip panel support blazing fast hz refresh rate also featuring nvidia sync technology eliminate screen tearing provide gamers epic gaming experience help secure victory plus built eye protection ergonomics allow press forward battle without fatigue um hx aa', 161: 'uhd widescreen ip amd radeon freesync display pantone validated high brightness contrast vesa certified displayhdr color difference delta nit brightness adobe rgb response time speaker watt per speaker port usb type port display port hdmi usb downstream port usb upstream port includes usb type hdmi usb cable display size inch style uhd created conceptd cm series professional cg creator need monitor outstanding color accuracy reliable compatibility resolution color accuracy ability work hdr content top priority also need high refresh rate blur free image large screen help design process facilitate collaboration audience appreciates nicely designed product consider performance important um hc aa', 162: 'response time refresh rate hz zero frame design high brightness contrast vesa certified displayhdr speaker watt per speaker port display port hdmi usb port hdmi usb cable included fasten seatbelt nitro xv full hd display resolution compromise gaming performance color speed inch monitor combine jaw dropping spec including ip panel support blazing fast refresh rate sync compatible monitor take gameplay next level smooth unleash gaming maximum potential provide richer color far beyond previously possible experience something new plus user enjoy comfortable viewing experience gaming via flicker le low dimming comfyview display design save space desk let place multiple monitor side side build seamless big screen display um hx aa', 163: 'package length centimeter package height centimeter country origin china package width centimetersv bi wide ag fhd ip yr ltd warr black chassis', 164: 'response time vga hdmi dvi hgh bandwidth digital content protection hdcp input contrast ratio million color supportacer hql bid full hd hz vga dvi hdmi backlit led widescreen lcd monitor model um ux aa contrast ratio aspect ratio', 165: 'full hd widescreen ip monitor amd freesync technology zero frame design refresh rate hz response time vrb brightness nit pixel pitch mm aspect ratio million color supported tilt degree degree height adjustment range swivel pivot port usb type port gen gbps supporting data power displayport usb display port hdmi audio hdmi usb type cable included enjoy outstanding visual experience acer cb zero frame ip monitor designed prosumers mind display feature incredible image color amd freesync technology frame rate determined graphic card fixed refresh rate monitor giving serious competitive edge plus user enjoy comfortable viewing experience gaming via flicker le low dimming display design save space desk let place multiple monitor side side build seamless big screen display um qb aa', 166: 'full hd widescreen va monitor response time pixel pitch millimeter vesa mount standard signal input hdmi vga vga cable included panel technology vertical alignment color supported million color brightness nit standard refresh rate hzacer hl monitor sport super slim profile shaped stand let fit nicely space size outstanding performance eco friendliness smart use energy complement sleek design staying well within budget acer monitor showcase widescreen lcd impressive resolution delivers excellent detail making perfect widescreen hd gaming multimedia productivity application enjoy widely available hd digital content without image distortion expansive widescreen lcd remarkable million contrast ratio ensures crystal clear viewing experience rapid response time keep moving image sharp also support vga hdmi input offering greater compatibility acer hl lcd brings amazing multimedia experience home widescreen cinematic view unique fighter pilot style troubleshoot picture using osd adjust brightness contrast maximum reset default setting standby power consumption mw', 167: 'hz refresh rate using display port high brightness contrast vesa certified displayhdr adobe rgb response time port display port hdmi audio usb port hdmi display port usb cable included fasten seatbelt predator xb wqhd display resolution compromise gaming performance color speed inch monitor combine jaw dropping spec including ip panel support blazing fast hz refresh rate sync compatible monitor take gameplay next level smooth unleash gaming maximum potential provide richer color far beyond previously possible experience something new um jx aa', 168: 'qhd ultra wide ip display amd radeon free sync technology hdr ready response time vrb refresh rate hz zero frame design ergostand ergonomically designed stand port display port hdmi usb port audio hdmi usb cable included enjoy outstanding visual experience acer cb ck zero frame ip monitor designed prosumers mind display feature incredible image color amd radeon freesync technology frame rate determined graphic card fixed refresh rate monitor giving serious competitive edge plus user enjoy comfortable viewing experience gaming via flicker le low dimming display design save space desk let place multiple monitor side side build seamless big screen display um cb aa', 169: 'upc weight lbsha abi', 170: 'ultrawide qhd widescreen agile splendor ip nvidia sync compatible display curved display aspect ratio zeroframe design hz refresh rate response time high brightness contrast vesa certified displayhdr dci wide color gamut delta predator gameview mode speaker watt per speaker port usb type display port hdmi audio usb port hdmi display port usb cable included brace predator brings whole new meaning word epic infused hz refresh speed life mimicking hdr design rippling futuristic element predator transport new realm immersion enjoy battlefield vantage point put driver seat gaming brilliance sync compatible monitor take gameplay next level smooth enjoy exceptional color purity realistic natural image thanks expanded contrast ratio color palette using vesa certificated displayhdr housed zeroframe design make near seamless look um cx aa', 171: 'amd radeon free sync technology refresh rate hz using display port zero frame curved design response time ergonomic tilt degree degree port display port hdmi dvi hdcp vesa compatible yes mmintroducing acer ed qur inch curved gaming monitor wqhd resolution monitor keep game play amd radeon free sync technology game frame rate determined graphic card fixed refresh rate monitor giving serious competitive edge plus user enjoy comfortable viewing experience gaming via flicker le low dimming comfy view display design save space desk let place multiple monitor side side build seamless big screen display um je aa brightness nit', 172: 'ultrahd widescreen va display amd free sync technology hdr ready srgb axis color adjustment refresh rate hz response time port display port hdmi hertz', 173: 'full hd widescreen ip gaming monitor amd freesync premium technology color gamut srgb high brightness contrast vesa certified displayhdr zero frame design speaker watt per speaker refresh rate hz response time brightness nit peak pixel pitch mm port display port hdmi display port cable hdmi cable included competitive gaming every frame matter introducing acer xv gaming monitor full hd resolution monitor keep game play amd radeon technology game frame rate determined graphic card fixed refresh rate monitor giving serious competitive edge plus user enjoy comfortable viewing experience gaming via flicker le low dimming comfyview display design save space desk let place multiple monitor side side build seamless big screen display um hx aa', 174: 'full hd widescreen tn display amd freesync technology hz refresh rate using display port hdmi port stand tiltable swivel response time speaker two watt per speaker signal input display port hdmi hdmi dvi hdcp display port usb cable included mounting type vesa compatiblestyle hz adjustable stand size inch competitive gaming every frame matter introducing acer xf gaming monitor full hd resolution monitor keep game play amd freesync technology game frame rate determined graphic card fixed refresh rate monitor giving serious competitive edge plus user enjoy comfortable viewing experience gaming via flicker le low dimming comfyview display design save space desk let place multiple monitor side side build seamless big screen display um kx aa', 175: 'inch va full hd curved monitor nit brightness view angle connectivity option hdmi dp port inbox hdmi dp cable audio available response time hz fast refresh rate amd free sync premium tecnnology eye care featues includes bluelight shield flickerless comfyview wall mount ready tilt adjustment', 176: 'refresh rate hz overclocking hz using display port high brightness contrast vesa certified displayhdr dci wide color gamut optimize color quantum dot technology color difference delta port display port hdmi usb port display port usb cable included fasten seatbelt predator xb ultra hd display resolution compromise gaming performance color speed inch monitor combine jaw dropping spec including ip panel support blazing fast hz refresh rate sync compatible monitor take gameplay next level smooth unleash gaming maximum potential provide richer color far beyond previously possible experience something new um hx aa', 177: 'dimension wxdxh stand display typeled backlit lcd monitor tft active matrix aspect ratio native resolutionwqhd hzenjoy outstanding visual experience cb series zeroframe monitor designed prosumers mind', 178: 'number screen screen size class viewable screen size screen mode uhd screen surface anti glaredesigned accuracy mind designed tool provide best color accuracy maximum space technically accurate realistic image displayed using combination latest technology manufacturer manufacturer acer inc manufacturer part number um hp aa brand name acer product series pe product model pe product name pe widescreen lcd monitor product type lcd monitor technical information number screen screen size class viewable screen size screen mode uhd screen surface anti glare panel technology plane switching ip technology response time gtg aspect ratio pixel pitch mil horizontal viewing angle vertical viewing angle mount type wall mountable backlight technology led maximum adjustable height tilt angle adjustable stand height yes video maximum resolution standard refresh rate hz color supported billion color native contrast ratio dynamic contrast ratio brightness nit tearing prevention technology freesync audio number speaker speaker yes speaker output power interface port hdmi yes usb yes displayport yes number hdmi input number usb upstream port number usb downstream port number displayports built device built device usb hub power description input voltage ac ac standby power consumption mw mode power consumption mw operating power consumption energy star physical characteristic vesa mount compatible yes vesa mount standard color black height width depth height stand width stand', 179: 'full hd widescreen ip monitor amd radeon freesync technology response time vrb panel type ip brightness nit refresh rate hertz port hdmi vga audio portin competitive gaming every frame matter introducing acer sb gaming monitor full hd resolution monitor keep game play amd radeon freesync technology game frame rate determined graphic card fixed refresh rate monitor giving serious competitive edge plus user enjoy comfortable viewing experience gaming via flicker le low dimming display design save space desk let place multiple monitor side side build seamless big screen display um aa', 180: 'inch full hd widescreen tn sync compatible display hertz refresh rate using display port response time input voltage volt ac volt ac height pivot swivel tilt viewing angle horizontal vertical watt speaker panel type tn color supported million brightness nit signal input display port hdmi mhl dvi mounting type vesa mounting compatible millimeter monitor freesync monitor also support sync compatibilitystyle monitor size inch hz competitive gaming every frame matter introducing acer xf series gaming monitor full hd resolution monitor keep game play sync compatible monitor give want gaming experience smooth tear free gameplay plus user enjoy comfortable viewing experience gaming via flicker le low dimming comfy view display design save space desk let place multiple monitor side side build seamless big screen display um fx aa', 181: 'wqhd widescreen ip tuv eyesafe certified low blue light monitor amd freesync technology zero frame design refresh rate hz response time vrb brightness nit pixel pitch mm aspect ratio million color supported tilt degree degree height adjustment range swivel pivot port display port hdmi hdmi cable included delve world awesome acer cbl wqhd monitor offer unmatched viewing experience featuring large screen delivers astonishing resolution excellent detail designed prosumers mind display feature incredible image color eyesafe display intelligently manages light energy source selectively reducing blue light dispersing across light spectrum design save space desk let place multiple monitor side side build seamless big screen display um hb aa', 182: 'number screen screen size class viewable screen size screen mode wuxga panel technology plane switching ip technologyacer cm bmiiprzx widescreen anti glare ip aspect ratio vrb response time integrated speaker three year limited warranty', 183: 'full hd curved widescreen nvidia sync technology refresh rate hz using display port response time brightness nit pixel pitch mm signal input display port hdmistyle curved ultrawide full hd sync size inch get edge opponent massive ultrawide curved monitor lightning fast refresh rate nvidia sync predator curved screen transforms viewing experience drawing deep action nvidia sync technology eliminates screen tearing epic gaming experience', 184: 'full hd widescreen ip zero frame design display response time speaker watt per speaker ergonomic tilt degree degree port display port hdmi vga display port vga cable included', 185: 'full product specification click view number screen screen mode uhd panel technology plane switching ip technology', 186: 'game profile setting brightness level bright lighting effect lightened breathing marquee blink fluid radiation synchronize lighting pattern effect predator gaming device dedicated switch light effect brightness quick adjustment rgb custom backlit color controlled predator quartermaster software style spirt rgb size regular designed serious gamers mouse delivers incredible tracking superior movement throughout intense battle fully customizable predator rgb mousepad feature epic lighting effect brightness level cool pad build upon predator mouse pad notorious durability tracking precision whole new level led immersion low friction micro texture surface combine ample area deliver pixel precise tracking matter game playing million rgb custom backlit color provide accurate color representation synchronize lighting zone predator product predator quartermaster software complete ultimate gaming setup np msp', 187: 'uhd widescreen ip zero frame design display amd radeon freesync technology response time pixel pitch mm ergonomic tilt height adjustment range swivel pivot yes dci wide color gamut brightness nit port display port hdmi hdmi cable included', 188: 'uhd widescreen agile splendor ip gaming monitor amd freesync premium technology high brightness contrast vesa certified displayhdr color gamut dci color accuracy color difference delta refresh rate hz response time pixel pitch mm tuv eyesafe certification acer visioncare technology usb type port usb type port gen gbps supporting data power displayport usb video port display port hdmi hdmi support xbox series pc gaming hdmi uhd hz xbox series uhd hz fhd hz vrr via one hdmi cable pc gaming uhd hz vrr via one hdmi cable', 189: 'full hd widescreen tn display nvidia sync technology hz using display port response time pixel pitch mm speaker watt per speaker port display port hdmi usb port display port usb cable included style full hd hz size inch fasten seatbelt acer predator xn full hd display turbocharge gaming experience monitor combine jaw dropping spec tn panel support hz refresh rate delivering amazing gaming experience also featuring nvidia sync technology eliminate screen tearing provide gamers epic gaming experience help secure victory plus built eye protection ergonomics allow press forward battle without fatigue um kx aa', 190: 'dpi resolution bit depth trillion possible color cable handle usb power lid expansion top accommodates bulky object scan copy mail photo touch button', 191: 'fast scan speed leader image capturing technology ppm ipm one pas duplex scanning easily scan stack document robust design page auto document feeder adf designed reliability enhanced feature include slow speed mode programmable job peak daily duty cycle sheet year limited warranty world class service support includes advance exchange free next business day replacement minimize downtime seamless compatibility document management system includes twain isi driver easy integration existing software world class performance productivity blank page removal auto rotation auto cropping dynamic skew correction dirt detection double feed detection paper protection scan online storage account intuitively scan sharepoint evernote google drive epson document capture software generate searchable pdfs editable office document scan editable word powerpoint excel file searchable pdf file ocr software included versatile paper handling scan stack business id card single sheet extra long page folded page easily automate task includes robust document capture pro software easily creating managing scan job show', 192: 'easy wireless scanning large touchscreen wireless connectivity allow easily scan smartphones tablet computer online cloud storage account desktop scanner lcd epson smart panel mobile app quickly scan stack paper robust sheet auto document feeder easily accommodates multiple paper type size one batch easy sharing collaboration save directly usb drive email upload popular cloud storage service dropbox evernote google drive onedrive computer required get organized snap scan ppm ipm single step technology capture side one pas simplified file management create searchable pdfs optical character recognition ocr convert scanned document editable word excel file powerful software included easy scanning intuitive epson scansmart software preview email upload cloud automatic file naming save time seamless integration software solution included twain driver allows easy connection document management software intelligent color image adjustment auto crop blank page deletion background removal dirt detection paper skew correction epson image processing technology reliable paper feeding system ultrasonic double feed detection prevents missing page paper protection prevents damage staple versatile scanning everyday document scan extra long page business id card show', 193: 'stay organized easily convert paper document digital format searchable pdf jpg scan directly cloud dropbox google drive onedrive box quickbooks online evernote sharepoint space saving design upright top feed top eject built cable organization system reliably handle many different document type receipt photo business card plastic embossed card report contract long document thick thin document fast efficient scan side document time color page per minute sheet automatic feeder one touch operation broad compatibility support window mac io android twain driver also included bundled software powerful yet easy use scanning software well business card organizer tool business create view edit convert collaborate pdf file usb wi fi capability allows scanner used desktop computer smartphones tablet shared among multiple user backed three year based technical support', 194: 'wirelessly scan smartphone tablet computer plus online cloud storage account pc mac compatible fastest scan speed class ppm ipm single step technology capture side one pas total portability choose ac rechargeable battery usb power wherever business take quick batch scanning stack paper page auto document feeder powerful software included easy scanning intuitive epson scansmart software preview email upload automatic file naming object recognition save time compatible office software included twain driver allows easy connection document management software built nuance optical character recognition ocr create searchable pdfs editable word excel file easy sharing collaboration email upload popular cloud storage service dropbox evernote google drive versatile scanning scan sided document receipt business card plastic id intelligent color image adjustment auto crop skew correction blank page background removal epson image processing technology show', 195: 'fast efficient scan side document time color page per minute sheet automatic feeder one touch operation reliably handle many different document type receipt photo business card plastic embossed card report contract long document thick thin document usage ideal healthcare financial service government paper intensive environment broad compatibility window twain isi driver included bundled software powerful yet easy use scanning software well kofax vrs elite reduce time involved manual document preparation automatically enhance quality scanned image backed one year warranty based technical support', 196: 'product type scanner package dimension centimetre package weight pound country origin china', 197: 'stay organized easily convert paper document digital format searchable pdf jpg scan directly cloud dropbox google drive onedrive box quickbooks online evernote sharepoint convenient portable use anywhere home office classroom remote office anywhere handle many different document type receipt photo business card plastic embossed card report long document fast efficient scan side document time color page per minute sheet automatic feeder broad compatibility support window mac twain driver also included bundled software powerful yet easy use scanning software well business card organizer document manager backed one year warranty based technical support broad compatibility support window mac mac latest canon driver canon captureontouch software twain driver also included', 198: 'create extraordinary enlargement film dpi enlargement inch inch maximum scan area inch tpu inch remove appearance dust scratch film digital ice film remove appearance tear crease photo digital ice print restore faded color photo one touch epson easy photo fix included scan slide negative medium format panoramic film built transparency unit achieve greater productivity energy efficient ready scan led light source mean warm time faster scan lower power consumption convert scanned document editable text abbyy finereader sprint plus ocr take photo arcsoft photostudio included help edit enhance digital image quickly complete task instantly scan copy scan email create pdfs four customizable button show', 199: 'work dr dr user installable designed dr imageformula dr dr exchange roller kit dr', 200: 'everyday scanning photo document dpi optical resolution amazing clarity detail scan share cloud service includes epson easy photo scan software scanning evernote fast speed scan letter sized document second easy use button scan email create pdfs save space built kickstand vertical placement usb powered ac adapter required', 201: 'stay organized easily convert paper document digital format searchable pdf jpg scan directly cloud dropbox google drive onedrive box quickbooks online evernote sharepoint reliably handle many different document type passport receipt photo business card plastic embossed card report contract long document thick thin document fast efficient scan side document time color page per minute sheet automatic feeder one touch operation broad compatibility support window mac twain driver also included bundled software powerful yet easy use scanning software well tool business create view edit convert collaborate pdf file kofax vrs reduce time involved manual document preparation automatically enhance quality scanned image backed one year warranty based technical support', 202: 'epson document scanner epsb', 203: 'easy wireless scanning scan smartphones tablet computer online cloud storage account desktop smartphone tablet using epson smart panel mobile app get organized snap scan ppm ipm single step technology capture side one pas quickly scan stack paper robust sheet auto document feeder easily accommodates multiple paper type size one batch powerful software included easy scanning intuitive epson scansmart software preview email upload cloud automatic file naming save time seamless integration software solution included twain driver allows easily incorporate data document management software easy sharing collaboration email upload popular cloud storage service dropbox evernote google drive onedrive simplified file management create searchable pdfs included optical character recognition ocr convert scanned document editable word excel file intelligent color image adjustment auto crop blank page skip background removal dirt detection paper skew correction epson image processing technology reliable paper feeding system ultrasonic double feed detection prevents missing page also prevents damage staple versatile scanning everyday document scan extra long page business id card contract show', 204: 'remove dirt ink buildup easily canon approved cleaning card ensure consistent check processing every scan developed canon remove endorsement ink residue paper flash debris left behind normal operation canon check scanner clean reading unit feed roller micr read head pathway within cr series check scanner canon check transport model cr cr cr cr cr ii cr', 205: 'country origin japan package height product inch package length product inch package width product inch', 206: 'stay organized easily convert paper document digital format searchable pdf jpg scan directly cloud dropbox google drive onedrive box quickbooks online evernote sharepoint space saving design upright top feed top eject built cable organization system supported operating system window service pack later bit bit later window server service pack later mac reliably handle many different document type receipt photo business card plastic embossed card report contract long document thick thin document fast efficient scan side document time color page per minute sheet automatic feeder one touch operation broad compatibility support window mac twain driver also included bundled software powerful yet easy use scanning software well business card organizer tool business create view edit convert collaborate pdf file backed year based technical support', 207: 'fastest lightest mobile single sheet fed document scanner class small portable scanner ideal easy go scanning fast scan single page fast second versatile paper handling scan document upto inch well id card receipt smart tool easily scan organize document epson scansmart software make easy scan review save usb powered connect computer battery external power supply required includes nuance ocr create searchable pdfs editable word excel file scan cloud scan file directly online storage account included software compatible window mac work existing system twain driver included included twain driver compatible virtually imaging software automatic feeding mode combine multi page scan one file scanner automatically accepts new sheet inserted show', 208: 'stay organized easily covert paper document digital format searchable pdf jpg scan directly cloud dropbox google drive onedrive box quickbooks online evernote sharepoint receipt bank stop wasting valuable time data entry payment filing get back control within minute tool need capture upload track cash flow one app includes one year license receipt bank software business plus level included reliably handle many different document type receipt photo business card plastic embossed card report contract long document thick thin document fast efficient scan side document time color page per minute sheet automatic feeder one touch operation broad compatibility support window mac twain driver also included', 209: 'mpn ddt pv vn compatible dell poweredge tower server', 210: 'product type consumer electronics item package dimension inch inch inch item package weight pound country origin china', 211: 'compute node package dimension centimeter package weight kilogram country origin china see product detail', 212: 'pwn pwn material metal compatible dell poweredge xd receive sliding rail kit pictured', 213: 'full product specification click view number processor supported number processor installed processor manufacturer amd processor type opteron see product detail', 214: 'processor manufacturer intel processor type core processor generation th gen processor model processor core hexa core core see product detail'}\n"
          ],
          "name": "stdout"
        }
      ]
    },
    {
      "cell_type": "code",
      "metadata": {
        "colab": {
          "base_uri": "https://localhost:8080/"
        },
        "id": "HLFltu_hYMZ_",
        "outputId": "7e06e9b3-766d-4b97-ee2c-91be81902112"
      },
      "source": [
        "df_sub_test['Desc1']= df_sub_test['Product1'].replace(id_desc)\n",
        "df_sub_test['Desc2']= df_sub_test['Product2'].replace(id_desc)"
      ],
      "execution_count": null,
      "outputs": [
        {
          "output_type": "stream",
          "text": [
            "/usr/local/lib/python3.7/dist-packages/ipykernel_launcher.py:1: SettingWithCopyWarning: \n",
            "A value is trying to be set on a copy of a slice from a DataFrame.\n",
            "Try using .loc[row_indexer,col_indexer] = value instead\n",
            "\n",
            "See the caveats in the documentation: https://pandas.pydata.org/pandas-docs/stable/user_guide/indexing.html#returning-a-view-versus-a-copy\n",
            "  \"\"\"Entry point for launching an IPython kernel.\n",
            "/usr/local/lib/python3.7/dist-packages/ipykernel_launcher.py:2: SettingWithCopyWarning: \n",
            "A value is trying to be set on a copy of a slice from a DataFrame.\n",
            "Try using .loc[row_indexer,col_indexer] = value instead\n",
            "\n",
            "See the caveats in the documentation: https://pandas.pydata.org/pandas-docs/stable/user_guide/indexing.html#returning-a-view-versus-a-copy\n",
            "  \n"
          ],
          "name": "stderr"
        }
      ]
    },
    {
      "cell_type": "code",
      "metadata": {
        "colab": {
          "base_uri": "https://localhost:8080/",
          "height": 589
        },
        "id": "FWyBOw7dYSYT",
        "outputId": "5532e468-e1ed-450f-8563-bf2ecc08b8f8"
      },
      "source": [
        "df_sub_test"
      ],
      "execution_count": null,
      "outputs": [
        {
          "output_type": "execute_result",
          "data": {
            "text/html": [
              "<div>\n",
              "<style scoped>\n",
              "    .dataframe tbody tr th:only-of-type {\n",
              "        vertical-align: middle;\n",
              "    }\n",
              "\n",
              "    .dataframe tbody tr th {\n",
              "        vertical-align: top;\n",
              "    }\n",
              "\n",
              "    .dataframe thead th {\n",
              "        text-align: right;\n",
              "    }\n",
              "</style>\n",
              "<table border=\"1\" class=\"dataframe\">\n",
              "  <thead>\n",
              "    <tr style=\"text-align: right;\">\n",
              "      <th></th>\n",
              "      <th>Product1</th>\n",
              "      <th>Product2</th>\n",
              "      <th>Cocompared</th>\n",
              "      <th>Desc1</th>\n",
              "      <th>Desc2</th>\n",
              "    </tr>\n",
              "  </thead>\n",
              "  <tbody>\n",
              "    <tr>\n",
              "      <th>0</th>\n",
              "      <td>1</td>\n",
              "      <td>2</td>\n",
              "      <td>1</td>\n",
              "      <td>zyxel amg flipkart com genuine product day rep...</td>\n",
              "      <td>iball wireless adsl router flipkart com genuin...</td>\n",
              "    </tr>\n",
              "    <tr>\n",
              "      <th>1</th>\n",
              "      <td>1</td>\n",
              "      <td>3</td>\n",
              "      <td>1</td>\n",
              "      <td>zyxel amg flipkart com genuine product day rep...</td>\n",
              "      <td>tp link archer ac dual band router flipkart co...</td>\n",
              "    </tr>\n",
              "    <tr>\n",
              "      <th>2</th>\n",
              "      <td>1</td>\n",
              "      <td>4</td>\n",
              "      <td>1</td>\n",
              "      <td>zyxel amg flipkart com genuine product day rep...</td>\n",
              "      <td>iball ib gx wireless router flipkart com genui...</td>\n",
              "    </tr>\n",
              "    <tr>\n",
              "      <th>3</th>\n",
              "      <td>1</td>\n",
              "      <td>5</td>\n",
              "      <td>1</td>\n",
              "      <td>zyxel amg flipkart com genuine product day rep...</td>\n",
              "      <td>trendnet tha router flipkart com genuine produ...</td>\n",
              "    </tr>\n",
              "    <tr>\n",
              "      <th>4</th>\n",
              "      <td>1</td>\n",
              "      <td>6</td>\n",
              "      <td>1</td>\n",
              "      <td>zyxel amg flipkart com genuine product day rep...</td>\n",
              "      <td>wi bridge adw flipkart com genuine product day...</td>\n",
              "    </tr>\n",
              "    <tr>\n",
              "      <th>...</th>\n",
              "      <td>...</td>\n",
              "      <td>...</td>\n",
              "      <td>...</td>\n",
              "      <td>...</td>\n",
              "      <td>...</td>\n",
              "    </tr>\n",
              "    <tr>\n",
              "      <th>45577</th>\n",
              "      <td>214</td>\n",
              "      <td>209</td>\n",
              "      <td>1</td>\n",
              "      <td>processor manufacturer intel processor type co...</td>\n",
              "      <td>mpn ddt pv vn compatible dell poweredge tower ...</td>\n",
              "    </tr>\n",
              "    <tr>\n",
              "      <th>45578</th>\n",
              "      <td>214</td>\n",
              "      <td>210</td>\n",
              "      <td>1</td>\n",
              "      <td>processor manufacturer intel processor type co...</td>\n",
              "      <td>product type consumer electronics item package...</td>\n",
              "    </tr>\n",
              "    <tr>\n",
              "      <th>45579</th>\n",
              "      <td>214</td>\n",
              "      <td>211</td>\n",
              "      <td>1</td>\n",
              "      <td>processor manufacturer intel processor type co...</td>\n",
              "      <td>compute node package dimension centimeter pack...</td>\n",
              "    </tr>\n",
              "    <tr>\n",
              "      <th>45580</th>\n",
              "      <td>214</td>\n",
              "      <td>212</td>\n",
              "      <td>1</td>\n",
              "      <td>processor manufacturer intel processor type co...</td>\n",
              "      <td>pwn pwn material metal compatible dell powered...</td>\n",
              "    </tr>\n",
              "    <tr>\n",
              "      <th>45581</th>\n",
              "      <td>214</td>\n",
              "      <td>213</td>\n",
              "      <td>1</td>\n",
              "      <td>processor manufacturer intel processor type co...</td>\n",
              "      <td>full product specification click view number p...</td>\n",
              "    </tr>\n",
              "  </tbody>\n",
              "</table>\n",
              "<p>45582 rows × 5 columns</p>\n",
              "</div>"
            ],
            "text/plain": [
              "       Product1  ...                                              Desc2\n",
              "0             1  ...  iball wireless adsl router flipkart com genuin...\n",
              "1             1  ...  tp link archer ac dual band router flipkart co...\n",
              "2             1  ...  iball ib gx wireless router flipkart com genui...\n",
              "3             1  ...  trendnet tha router flipkart com genuine produ...\n",
              "4             1  ...  wi bridge adw flipkart com genuine product day...\n",
              "...         ...  ...                                                ...\n",
              "45577       214  ...  mpn ddt pv vn compatible dell poweredge tower ...\n",
              "45578       214  ...  product type consumer electronics item package...\n",
              "45579       214  ...  compute node package dimension centimeter pack...\n",
              "45580       214  ...  pwn pwn material metal compatible dell powered...\n",
              "45581       214  ...  full product specification click view number p...\n",
              "\n",
              "[45582 rows x 5 columns]"
            ]
          },
          "metadata": {
            "tags": []
          },
          "execution_count": 264
        }
      ]
    },
    {
      "cell_type": "code",
      "metadata": {
        "id": "NQoExy4xYVjN"
      },
      "source": [
        "df_sub_test.to_pickle(\"/content/drive/MyDrive/Content_Recommendation/LSTM_Similarity/Computer_Product/test.pickle\")"
      ],
      "execution_count": null,
      "outputs": []
    },
    {
      "cell_type": "code",
      "metadata": {
        "id": "xAxZI-p_YdYY"
      },
      "source": [
        ""
      ],
      "execution_count": null,
      "outputs": []
    }
  ]
}