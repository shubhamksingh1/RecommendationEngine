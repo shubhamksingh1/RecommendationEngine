{
  "nbformat": 4,
  "nbformat_minor": 0,
  "metadata": {
    "colab": {
      "name": "Data_Preprocessing_Perspective.ipynb",
      "provenance": [],
      "toc_visible": true,
      "include_colab_link": true
    },
    "kernelspec": {
      "name": "python3",
      "display_name": "Python 3"
    },
    "accelerator": "GPU"
  },
  "cells": [
    {
      "cell_type": "markdown",
      "metadata": {
        "id": "view-in-github",
        "colab_type": "text"
      },
      "source": [
        "<a href=\"https://colab.research.google.com/github/shubhamksingh1/RecommendationEngine/blob/main/ContentBasedTFIDFWord2VecGlove/DataPreparation/Data_Preprocessing_Perspective.ipynb\" target=\"_parent\"><img src=\"https://colab.research.google.com/assets/colab-badge.svg\" alt=\"Open In Colab\"/></a>"
      ]
    },
    {
      "cell_type": "code",
      "metadata": {
        "id": "LeHnZu2l6gN2",
        "colab": {
          "base_uri": "https://localhost:8080/",
          "height": 122
        },
        "outputId": "9ee70ca7-40a8-44f2-9e32-9f1880e24e8e"
      },
      "source": [
        "from google.colab import drive\n",
        "drive.mount('/content/drive')"
      ],
      "execution_count": null,
      "outputs": [
        {
          "output_type": "stream",
          "text": [
            "Go to this URL in a browser: https://accounts.google.com/o/oauth2/auth?client_id=947318989803-6bn6qk8qdgf4n4g3pfee6491hc0brc4i.apps.googleusercontent.com&redirect_uri=urn%3Aietf%3Awg%3Aoauth%3A2.0%3Aoob&scope=email%20https%3A%2F%2Fwww.googleapis.com%2Fauth%2Fdocs.test%20https%3A%2F%2Fwww.googleapis.com%2Fauth%2Fdrive%20https%3A%2F%2Fwww.googleapis.com%2Fauth%2Fdrive.photos.readonly%20https%3A%2F%2Fwww.googleapis.com%2Fauth%2Fpeopleapi.readonly&response_type=code\n",
            "\n",
            "Enter your authorization code:\n",
            "··········\n",
            "Mounted at /content/drive\n"
          ],
          "name": "stdout"
        }
      ]
    },
    {
      "cell_type": "code",
      "metadata": {
        "id": "U-BOInva6hEN"
      },
      "source": [
        "import pandas as pd\n",
        "import numpy as np"
      ],
      "execution_count": null,
      "outputs": []
    },
    {
      "cell_type": "code",
      "metadata": {
        "id": "u7MN_4157ZJW"
      },
      "source": [
        "asset_details = pd.read_csv(\"/content/drive/My Drive/Colab Notebooks/ASSET-DETAILS-part2.csv\")"
      ],
      "execution_count": null,
      "outputs": []
    },
    {
      "cell_type": "code",
      "metadata": {
        "id": "44Bw_mOB7pOi",
        "colab": {
          "base_uri": "https://localhost:8080/",
          "height": 34
        },
        "outputId": "128dc488-f580-4e0f-ef6c-4ecb98083833"
      },
      "source": [
        "asset_details.shape"
      ],
      "execution_count": null,
      "outputs": [
        {
          "output_type": "execute_result",
          "data": {
            "text/plain": [
              "(80, 2)"
            ]
          },
          "metadata": {
            "tags": []
          },
          "execution_count": 37
        }
      ]
    },
    {
      "cell_type": "code",
      "metadata": {
        "id": "VtZsS8Jn7rmB",
        "colab": {
          "base_uri": "https://localhost:8080/",
          "height": 34
        },
        "outputId": "677d04d8-c332-45f8-f29f-b8a8cdec7d9a"
      },
      "source": [
        "asset_details.columns"
      ],
      "execution_count": null,
      "outputs": [
        {
          "output_type": "execute_result",
          "data": {
            "text/plain": [
              "Index(['asset_id', 'asset_description'], dtype='object')"
            ]
          },
          "metadata": {
            "tags": []
          },
          "execution_count": 38
        }
      ]
    },
    {
      "cell_type": "code",
      "metadata": {
        "id": "kYAEw00a7vIK",
        "colab": {
          "base_uri": "https://localhost:8080/",
          "height": 204
        },
        "outputId": "b14ff737-991e-49a7-c453-7f0f1f8de9ec"
      },
      "source": [
        "asset_details.head()"
      ],
      "execution_count": null,
      "outputs": [
        {
          "output_type": "execute_result",
          "data": {
            "text/html": [
              "<div>\n",
              "<style scoped>\n",
              "    .dataframe tbody tr th:only-of-type {\n",
              "        vertical-align: middle;\n",
              "    }\n",
              "\n",
              "    .dataframe tbody tr th {\n",
              "        vertical-align: top;\n",
              "    }\n",
              "\n",
              "    .dataframe thead th {\n",
              "        text-align: right;\n",
              "    }\n",
              "</style>\n",
              "<table border=\"1\" class=\"dataframe\">\n",
              "  <thead>\n",
              "    <tr style=\"text-align: right;\">\n",
              "      <th></th>\n",
              "      <th>asset_id</th>\n",
              "      <th>asset_description</th>\n",
              "    </tr>\n",
              "  </thead>\n",
              "  <tbody>\n",
              "    <tr>\n",
              "      <th>0</th>\n",
              "      <td>1</td>\n",
              "      <td>&lt;p&gt;&lt;b&gt;Peter Drucker, the legendary management ...</td>\n",
              "    </tr>\n",
              "    <tr>\n",
              "      <th>1</th>\n",
              "      <td>2</td>\n",
              "      <td>&lt;p&gt;&lt;b&gt;The software development community has b...</td>\n",
              "    </tr>\n",
              "    <tr>\n",
              "      <th>2</th>\n",
              "      <td>3</td>\n",
              "      <td>&lt;p&gt;Many exciting new digital technologies have...</td>\n",
              "    </tr>\n",
              "    <tr>\n",
              "      <th>3</th>\n",
              "      <td>4</td>\n",
              "      <td>&lt;p&gt;We have all seen some eye-bulging numbers i...</td>\n",
              "    </tr>\n",
              "    <tr>\n",
              "      <th>4</th>\n",
              "      <td>5</td>\n",
              "      <td>&lt;p&gt;&lt;b&gt;You probably need little evidence to bel...</td>\n",
              "    </tr>\n",
              "  </tbody>\n",
              "</table>\n",
              "</div>"
            ],
            "text/plain": [
              "   asset_id                                  asset_description\n",
              "0         1  <p><b>Peter Drucker, the legendary management ...\n",
              "1         2  <p><b>The software development community has b...\n",
              "2         3  <p>Many exciting new digital technologies have...\n",
              "3         4  <p>We have all seen some eye-bulging numbers i...\n",
              "4         5  <p><b>You probably need little evidence to bel..."
            ]
          },
          "metadata": {
            "tags": []
          },
          "execution_count": 39
        }
      ]
    },
    {
      "cell_type": "code",
      "metadata": {
        "id": "xVxn69vO7zA5"
      },
      "source": [
        "asset_details.asset_description = asset_details.asset_description.str.replace('<[^<]+?>+{+}+{*}', '')"
      ],
      "execution_count": null,
      "outputs": []
    },
    {
      "cell_type": "code",
      "metadata": {
        "id": "5veyyqub8SxL",
        "colab": {
          "base_uri": "https://localhost:8080/",
          "height": 204
        },
        "outputId": "40bc2f2c-60b2-4b33-8838-d53fa63192a2"
      },
      "source": [
        "asset_details.head()"
      ],
      "execution_count": null,
      "outputs": [
        {
          "output_type": "execute_result",
          "data": {
            "text/html": [
              "<div>\n",
              "<style scoped>\n",
              "    .dataframe tbody tr th:only-of-type {\n",
              "        vertical-align: middle;\n",
              "    }\n",
              "\n",
              "    .dataframe tbody tr th {\n",
              "        vertical-align: top;\n",
              "    }\n",
              "\n",
              "    .dataframe thead th {\n",
              "        text-align: right;\n",
              "    }\n",
              "</style>\n",
              "<table border=\"1\" class=\"dataframe\">\n",
              "  <thead>\n",
              "    <tr style=\"text-align: right;\">\n",
              "      <th></th>\n",
              "      <th>asset_id</th>\n",
              "      <th>asset_description</th>\n",
              "    </tr>\n",
              "  </thead>\n",
              "  <tbody>\n",
              "    <tr>\n",
              "      <th>0</th>\n",
              "      <td>1</td>\n",
              "      <td>Peter Drucker, the legendary management schola...</td>\n",
              "    </tr>\n",
              "    <tr>\n",
              "      <th>1</th>\n",
              "      <td>2</td>\n",
              "      <td>The software development community has been us...</td>\n",
              "    </tr>\n",
              "    <tr>\n",
              "      <th>2</th>\n",
              "      <td>3</td>\n",
              "      <td>Many exciting new digital technologies have ev...</td>\n",
              "    </tr>\n",
              "    <tr>\n",
              "      <th>3</th>\n",
              "      <td>4</td>\n",
              "      <td>We have all seen some eye-bulging numbers in r...</td>\n",
              "    </tr>\n",
              "    <tr>\n",
              "      <th>4</th>\n",
              "      <td>5</td>\n",
              "      <td>You probably need little evidence to believe t...</td>\n",
              "    </tr>\n",
              "  </tbody>\n",
              "</table>\n",
              "</div>"
            ],
            "text/plain": [
              "   asset_id                                  asset_description\n",
              "0         1  Peter Drucker, the legendary management schola...\n",
              "1         2  The software development community has been us...\n",
              "2         3  Many exciting new digital technologies have ev...\n",
              "3         4  We have all seen some eye-bulging numbers in r...\n",
              "4         5  You probably need little evidence to believe t..."
            ]
          },
          "metadata": {
            "tags": []
          },
          "execution_count": 63
        }
      ]
    },
    {
      "cell_type": "code",
      "metadata": {
        "id": "5MPDicis8WkC"
      },
      "source": [
        "asset_details2 = pd.read_csv(\"/content/drive/My Drive/Colab Notebooks/ASSET_DETAILS-part.csv\")"
      ],
      "execution_count": null,
      "outputs": []
    },
    {
      "cell_type": "code",
      "metadata": {
        "id": "juJe2tB18yGn",
        "colab": {
          "base_uri": "https://localhost:8080/",
          "height": 340
        },
        "outputId": "e4cf905f-8457-4875-909a-80f78402c5b0"
      },
      "source": [
        "asset_details2.head()"
      ],
      "execution_count": null,
      "outputs": [
        {
          "output_type": "execute_result",
          "data": {
            "text/html": [
              "<div>\n",
              "<style scoped>\n",
              "    .dataframe tbody tr th:only-of-type {\n",
              "        vertical-align: middle;\n",
              "    }\n",
              "\n",
              "    .dataframe tbody tr th {\n",
              "        vertical-align: top;\n",
              "    }\n",
              "\n",
              "    .dataframe thead th {\n",
              "        text-align: right;\n",
              "    }\n",
              "</style>\n",
              "<table border=\"1\" class=\"dataframe\">\n",
              "  <thead>\n",
              "    <tr style=\"text-align: right;\">\n",
              "      <th></th>\n",
              "      <th>asset_id</th>\n",
              "      <th>asset_title</th>\n",
              "      <th>asset_download_url</th>\n",
              "      <th>published_on</th>\n",
              "      <th>popularity_rank</th>\n",
              "      <th>related_asset_ids</th>\n",
              "    </tr>\n",
              "  </thead>\n",
              "  <tbody>\n",
              "    <tr>\n",
              "      <th>0</th>\n",
              "      <td>1</td>\n",
              "      <td>The Ascent Of The Smarter, Faster, Lighter Ent...</td>\n",
              "      <td>/content/dam/tcs/pdf/perspectives/the-ascent-o...</td>\n",
              "      <td>2016-08-21 00:00:00</td>\n",
              "      <td>6.0</td>\n",
              "      <td>3,4,46</td>\n",
              "    </tr>\n",
              "    <tr>\n",
              "      <th>1</th>\n",
              "      <td>2</td>\n",
              "      <td>Agile's Day Has Truly Arrived</td>\n",
              "      <td>/content/dam/tcs/pdf/perspectives/edition-11-a...</td>\n",
              "      <td>2017-07-31 00:00:00</td>\n",
              "      <td>1.5</td>\n",
              "      <td>30,31,52</td>\n",
              "    </tr>\n",
              "    <tr>\n",
              "      <th>2</th>\n",
              "      <td>3</td>\n",
              "      <td>Riding the Cognitive Wave</td>\n",
              "      <td>/content/dam/tcs/pdf/perspectives/edition-8-ri...</td>\n",
              "      <td>2017-07-31 00:00:00</td>\n",
              "      <td>0.9</td>\n",
              "      <td>4,46,6</td>\n",
              "    </tr>\n",
              "    <tr>\n",
              "      <th>3</th>\n",
              "      <td>4</td>\n",
              "      <td>Using IOT Data To Understand How Your Products...</td>\n",
              "      <td>/content/dam/tcs/pdf/perspectives/edition-8-us...</td>\n",
              "      <td>2017-07-27 00:00:00</td>\n",
              "      <td>1.9</td>\n",
              "      <td>46,6,47</td>\n",
              "    </tr>\n",
              "    <tr>\n",
              "      <th>4</th>\n",
              "      <td>5</td>\n",
              "      <td>The View Inside Our Take on the Customer Exper...</td>\n",
              "      <td>/content/dam/tcs/pdf/perspectives/Edition-9-ou...</td>\n",
              "      <td>2017-06-25 00:00:00</td>\n",
              "      <td>0.4</td>\n",
              "      <td>12,49,14</td>\n",
              "    </tr>\n",
              "  </tbody>\n",
              "</table>\n",
              "</div>"
            ],
            "text/plain": [
              "   asset_id  ... related_asset_ids\n",
              "0         1  ...            3,4,46\n",
              "1         2  ...          30,31,52\n",
              "2         3  ...            4,46,6\n",
              "3         4  ...           46,6,47\n",
              "4         5  ...          12,49,14\n",
              "\n",
              "[5 rows x 6 columns]"
            ]
          },
          "metadata": {
            "tags": []
          },
          "execution_count": 65
        }
      ]
    },
    {
      "cell_type": "code",
      "metadata": {
        "id": "TtYCD1QY81pQ",
        "colab": {
          "base_uri": "https://localhost:8080/",
          "height": 34
        },
        "outputId": "e3140a02-beb6-4748-fcca-51923afe6eea"
      },
      "source": [
        "asset_details2.shape"
      ],
      "execution_count": null,
      "outputs": [
        {
          "output_type": "execute_result",
          "data": {
            "text/plain": [
              "(80, 6)"
            ]
          },
          "metadata": {
            "tags": []
          },
          "execution_count": 66
        }
      ]
    },
    {
      "cell_type": "code",
      "metadata": {
        "id": "JRKfmfZX86sW"
      },
      "source": [
        "asset_details_final = pd.merge(asset_details2, asset_details, on='asset_id', how='outer')"
      ],
      "execution_count": null,
      "outputs": []
    },
    {
      "cell_type": "code",
      "metadata": {
        "id": "KDiaBNOCFOO5",
        "colab": {
          "base_uri": "https://localhost:8080/",
          "height": 1000
        },
        "outputId": "ce26b7f5-bf9b-4bf0-81e2-c94ad8de8caa"
      },
      "source": [
        "asset_details_final"
      ],
      "execution_count": null,
      "outputs": [
        {
          "output_type": "execute_result",
          "data": {
            "text/html": [
              "<div>\n",
              "<style scoped>\n",
              "    .dataframe tbody tr th:only-of-type {\n",
              "        vertical-align: middle;\n",
              "    }\n",
              "\n",
              "    .dataframe tbody tr th {\n",
              "        vertical-align: top;\n",
              "    }\n",
              "\n",
              "    .dataframe thead th {\n",
              "        text-align: right;\n",
              "    }\n",
              "</style>\n",
              "<table border=\"1\" class=\"dataframe\">\n",
              "  <thead>\n",
              "    <tr style=\"text-align: right;\">\n",
              "      <th></th>\n",
              "      <th>asset_id</th>\n",
              "      <th>asset_title</th>\n",
              "      <th>asset_download_url</th>\n",
              "      <th>published_on</th>\n",
              "      <th>popularity_rank</th>\n",
              "      <th>related_asset_ids</th>\n",
              "      <th>asset_description</th>\n",
              "    </tr>\n",
              "  </thead>\n",
              "  <tbody>\n",
              "    <tr>\n",
              "      <th>0</th>\n",
              "      <td>1</td>\n",
              "      <td>The Ascent Of The Smarter, Faster, Lighter Ent...</td>\n",
              "      <td>/content/dam/tcs/pdf/perspectives/the-ascent-o...</td>\n",
              "      <td>2016-08-21 00:00:00</td>\n",
              "      <td>6.0</td>\n",
              "      <td>3,4,46</td>\n",
              "      <td>Peter Drucker, the legendary management schola...</td>\n",
              "    </tr>\n",
              "    <tr>\n",
              "      <th>1</th>\n",
              "      <td>2</td>\n",
              "      <td>Agile's Day Has Truly Arrived</td>\n",
              "      <td>/content/dam/tcs/pdf/perspectives/edition-11-a...</td>\n",
              "      <td>2017-07-31 00:00:00</td>\n",
              "      <td>1.5</td>\n",
              "      <td>30,31,52</td>\n",
              "      <td>The software development community has been us...</td>\n",
              "    </tr>\n",
              "    <tr>\n",
              "      <th>2</th>\n",
              "      <td>3</td>\n",
              "      <td>Riding the Cognitive Wave</td>\n",
              "      <td>/content/dam/tcs/pdf/perspectives/edition-8-ri...</td>\n",
              "      <td>2017-07-31 00:00:00</td>\n",
              "      <td>0.9</td>\n",
              "      <td>4,46,6</td>\n",
              "      <td>Many exciting new digital technologies have ev...</td>\n",
              "    </tr>\n",
              "    <tr>\n",
              "      <th>3</th>\n",
              "      <td>4</td>\n",
              "      <td>Using IOT Data To Understand How Your Products...</td>\n",
              "      <td>/content/dam/tcs/pdf/perspectives/edition-8-us...</td>\n",
              "      <td>2017-07-27 00:00:00</td>\n",
              "      <td>1.9</td>\n",
              "      <td>46,6,47</td>\n",
              "      <td>We have all seen some eye-bulging numbers in r...</td>\n",
              "    </tr>\n",
              "    <tr>\n",
              "      <th>4</th>\n",
              "      <td>5</td>\n",
              "      <td>The View Inside Our Take on the Customer Exper...</td>\n",
              "      <td>/content/dam/tcs/pdf/perspectives/Edition-9-ou...</td>\n",
              "      <td>2017-06-25 00:00:00</td>\n",
              "      <td>0.4</td>\n",
              "      <td>12,49,14</td>\n",
              "      <td>You probably need little evidence to believe t...</td>\n",
              "    </tr>\n",
              "    <tr>\n",
              "      <th>5</th>\n",
              "      <td>6</td>\n",
              "      <td>Smarter Decisions:  How Smart Companies Get Mo...</td>\n",
              "      <td>/content/dam/tcs/pdf/perspectives/edition-8-sm...</td>\n",
              "      <td>2017-07-24 00:00:00</td>\n",
              "      <td>0.9</td>\n",
              "      <td>47,7,8</td>\n",
              "      <td>Today’s companies do not struggle to collect a...</td>\n",
              "    </tr>\n",
              "    <tr>\n",
              "      <th>6</th>\n",
              "      <td>7</td>\n",
              "      <td>Case Study: Why Artificial Intelligence is a B...</td>\n",
              "      <td>/content/dam/tcs/pdf/perspectives/edition-8-wh...</td>\n",
              "      <td>2017-07-24 00:00:00</td>\n",
              "      <td>1.4</td>\n",
              "      <td>8,9,10</td>\n",
              "      <td>Anyone who has followed the travails of the U....</td>\n",
              "    </tr>\n",
              "    <tr>\n",
              "      <th>7</th>\n",
              "      <td>8</td>\n",
              "      <td>Banking and Financial Services Analytics for C...</td>\n",
              "      <td>/content/dam/tcs/pdf/perspectives/edition-8-an...</td>\n",
              "      <td>2017-07-24 00:00:00</td>\n",
              "      <td>4.0</td>\n",
              "      <td>9,10,11</td>\n",
              "      <td>1. Why is a strong analytics effort key to com...</td>\n",
              "    </tr>\n",
              "    <tr>\n",
              "      <th>8</th>\n",
              "      <td>9</td>\n",
              "      <td>How to Keep Your Customer Journey from Passing...</td>\n",
              "      <td>/content/dam/tcs/pdf/perspectives/edition-8-ho...</td>\n",
              "      <td>2017-07-24 00:00:00</td>\n",
              "      <td>0.1</td>\n",
              "      <td>10,11,48</td>\n",
              "      <td>What is the shelf life of the journeys you hav...</td>\n",
              "    </tr>\n",
              "    <tr>\n",
              "      <th>9</th>\n",
              "      <td>10</td>\n",
              "      <td>Accelerated Change: Getting Faster at Implemen...</td>\n",
              "      <td>/content/dam/tcs/pdf/perspectives/edition-8-ac...</td>\n",
              "      <td>2017-07-24 00:00:00</td>\n",
              "      <td>0.4</td>\n",
              "      <td>11,48,13</td>\n",
              "      <td>The transition of enterprise apps to the cloud...</td>\n",
              "    </tr>\n",
              "    <tr>\n",
              "      <th>10</th>\n",
              "      <td>11</td>\n",
              "      <td>Winning Today’s Talent Race How to Identify, D...</td>\n",
              "      <td>/content/dam/tcs/pdf/perspectives/edition-8-wi...</td>\n",
              "      <td>2017-07-24 00:00:00</td>\n",
              "      <td>2.3</td>\n",
              "      <td>48,13,15</td>\n",
              "      <td>The competitive digital business landscape is ...</td>\n",
              "    </tr>\n",
              "    <tr>\n",
              "      <th>11</th>\n",
              "      <td>12</td>\n",
              "      <td>Forget Everything You Know About Bricks and Cl...</td>\n",
              "      <td>/content/dam/tcs/pdf/perspectives/edition-9-fo...</td>\n",
              "      <td>2017-06-23 00:00:00</td>\n",
              "      <td>0.2</td>\n",
              "      <td>49,14,16</td>\n",
              "      <td>For some time, many senior executives have foc...</td>\n",
              "    </tr>\n",
              "    <tr>\n",
              "      <th>12</th>\n",
              "      <td>13</td>\n",
              "      <td>How Microsoft Uses Machine Learning to Handle ...</td>\n",
              "      <td>/content/dam/tcs/pdf/perspectives/edition-8-ho...</td>\n",
              "      <td>2017-07-23 00:00:00</td>\n",
              "      <td>0.9</td>\n",
              "      <td>15,21,24</td>\n",
              "      <td>For better or for worse, depending on your vie...</td>\n",
              "    </tr>\n",
              "    <tr>\n",
              "      <th>13</th>\n",
              "      <td>14</td>\n",
              "      <td>When CX Should Begin with Tweaks, Not Disruption</td>\n",
              "      <td>/content/dam/tcs/pdf/perspectives/edition-9-wh...</td>\n",
              "      <td>2017-06-22 00:00:00</td>\n",
              "      <td>NaN</td>\n",
              "      <td>16,17,18</td>\n",
              "      <td>Today’s most over-used corporate cliché is ‘di...</td>\n",
              "    </tr>\n",
              "    <tr>\n",
              "      <th>14</th>\n",
              "      <td>15</td>\n",
              "      <td>Retail: Understanding Your Customer Performanc...</td>\n",
              "      <td>/content/dam/tcs/pdf/perspectives/edition-8-un...</td>\n",
              "      <td>2017-07-22 00:00:00</td>\n",
              "      <td>2.6</td>\n",
              "      <td>21,24,26</td>\n",
              "      <td>1. How has the retail industry’s idea of super...</td>\n",
              "    </tr>\n",
              "    <tr>\n",
              "      <th>15</th>\n",
              "      <td>16</td>\n",
              "      <td>The Seven Deadly Myths of Today’s B2B Sell</td>\n",
              "      <td>/content/dam/tcs/pdf/perspectives/edition-9-th...</td>\n",
              "      <td>2017-06-22 00:00:00</td>\n",
              "      <td>0.3</td>\n",
              "      <td>17,18,19</td>\n",
              "      <td>Companies around the world have spent a ton of...</td>\n",
              "    </tr>\n",
              "    <tr>\n",
              "      <th>16</th>\n",
              "      <td>17</td>\n",
              "      <td>Personalization Boundaries: Tuning In to Custo...</td>\n",
              "      <td>/content/dam/tcs/pdf/perspectives/edition-9-pe...</td>\n",
              "      <td>2017-07-21 00:00:00</td>\n",
              "      <td>0.1</td>\n",
              "      <td>18,19,20</td>\n",
              "      <td>Digital technology lets companies tailor their...</td>\n",
              "    </tr>\n",
              "    <tr>\n",
              "      <th>17</th>\n",
              "      <td>18</td>\n",
              "      <td>Designing for the Small Silver Screen</td>\n",
              "      <td>/content/dam/tcs/pdf/perspectives/edition-9-de...</td>\n",
              "      <td>2017-06-21 00:00:00</td>\n",
              "      <td>0.3</td>\n",
              "      <td>19,20,41</td>\n",
              "      <td>The relentless spread of mobile apps now offer...</td>\n",
              "    </tr>\n",
              "    <tr>\n",
              "      <th>18</th>\n",
              "      <td>19</td>\n",
              "      <td>How IoT Technologies are Revamping the Post-Sa...</td>\n",
              "      <td>/content/dam/tcs/pdf/perspectives/edition-9-ho...</td>\n",
              "      <td>2017-06-21 00:00:00</td>\n",
              "      <td>0.7</td>\n",
              "      <td>20,41,50</td>\n",
              "      <td>The next battle in the customer experience war...</td>\n",
              "    </tr>\n",
              "    <tr>\n",
              "      <th>19</th>\n",
              "      <td>20</td>\n",
              "      <td>Reimagining the Contact Center with Digital Te...</td>\n",
              "      <td>/content/dam/tcs/pdf/perspectives/edition-9-re...</td>\n",
              "      <td>2017-06-20 00:00:00</td>\n",
              "      <td>0.4</td>\n",
              "      <td>41,50,22</td>\n",
              "      <td>It&amp;nbsp;costs $600 billion per year to field t...</td>\n",
              "    </tr>\n",
              "    <tr>\n",
              "      <th>20</th>\n",
              "      <td>21</td>\n",
              "      <td>Life Sciences: Strategy for faster Acquisition...</td>\n",
              "      <td>/content/dam/tcs/pdf/perspectives/edition-8-st...</td>\n",
              "      <td>2017-07-20 00:00:00</td>\n",
              "      <td>4.1</td>\n",
              "      <td>24,26,51</td>\n",
              "      <td>1. Do you expect the pace of M&amp;amp;A activity ...</td>\n",
              "    </tr>\n",
              "    <tr>\n",
              "      <th>21</th>\n",
              "      <td>22</td>\n",
              "      <td>Why Your CX Must Soon Plug and Play into a Dig...</td>\n",
              "      <td>/content/dam/tcs/pdf/perspectives/edition-9-wh...</td>\n",
              "      <td>2017-06-19 00:00:00</td>\n",
              "      <td>2.3</td>\n",
              "      <td>23,25,49</td>\n",
              "      <td>Digital ecosystems increasingly are coalescing...</td>\n",
              "    </tr>\n",
              "    <tr>\n",
              "      <th>22</th>\n",
              "      <td>23</td>\n",
              "      <td>What Comes After CXM? Helping Customers Help O...</td>\n",
              "      <td>/content/dam/tcs/pdf/perspectives/edition-9-wh...</td>\n",
              "      <td>2017-06-19 00:00:00</td>\n",
              "      <td>0.6</td>\n",
              "      <td>25,14,18</td>\n",
              "      <td>Thirty years ago, large global companies began...</td>\n",
              "    </tr>\n",
              "    <tr>\n",
              "      <th>23</th>\n",
              "      <td>24</td>\n",
              "      <td>The Sure but Winding Road to the Cloud</td>\n",
              "      <td>/content/dam/tcs/pdf/perspectives/edition-8-th...</td>\n",
              "      <td>2017-07-19 00:00:00</td>\n",
              "      <td>0.5</td>\n",
              "      <td>26,51,27</td>\n",
              "      <td>Even for companies that can afford billions of...</td>\n",
              "    </tr>\n",
              "    <tr>\n",
              "      <th>24</th>\n",
              "      <td>25</td>\n",
              "      <td>How the CEO can Propel a CX Initiative</td>\n",
              "      <td>/content/dam/tcs/pdf/perspectives/edition-9-ho...</td>\n",
              "      <td>2017-06-19 00:00:00</td>\n",
              "      <td>0.6</td>\n",
              "      <td>49,50,41</td>\n",
              "      <td>Whether it’s a series of tweaks or a wholesale...</td>\n",
              "    </tr>\n",
              "    <tr>\n",
              "      <th>25</th>\n",
              "      <td>26</td>\n",
              "      <td>Training for the M&amp;A Marathon</td>\n",
              "      <td>/content/dam/tcs/pdf/perspectives/edition-8-tr...</td>\n",
              "      <td>2017-07-19 00:00:00</td>\n",
              "      <td>0.8</td>\n",
              "      <td>51,27,28</td>\n",
              "      <td>A few years ago, two airlines announced a merg...</td>\n",
              "    </tr>\n",
              "    <tr>\n",
              "      <th>26</th>\n",
              "      <td>27</td>\n",
              "      <td>Cloudera: The Mind of the New Machine</td>\n",
              "      <td>/content/dam/tcs/pdf/perspectives/edition-8-cl...</td>\n",
              "      <td>2017-07-15 00:00:00</td>\n",
              "      <td>0.5</td>\n",
              "      <td>28,29,15</td>\n",
              "      <td>Mike Olson abhors the term artificial intellig...</td>\n",
              "    </tr>\n",
              "    <tr>\n",
              "      <th>27</th>\n",
              "      <td>28</td>\n",
              "      <td>Manufacturing: How To Lighten Up Business Models</td>\n",
              "      <td>/content/dam/tcs/pdf/perspectives/edition-8-ho...</td>\n",
              "      <td>2017-07-14 00:00:00</td>\n",
              "      <td>1.0</td>\n",
              "      <td>29,3,10</td>\n",
              "      <td>TCS: What are the key ways in which manufactur...</td>\n",
              "    </tr>\n",
              "    <tr>\n",
              "      <th>28</th>\n",
              "      <td>29</td>\n",
              "      <td>Students for Life: Why Executives Must Continu...</td>\n",
              "      <td>/content/dam/tcs/pdf/perspectives/edition-8-st...</td>\n",
              "      <td>2017-07-11 00:00:00</td>\n",
              "      <td>0.2</td>\n",
              "      <td>8,15,21</td>\n",
              "      <td>Companies today must get smarter, faster, and ...</td>\n",
              "    </tr>\n",
              "    <tr>\n",
              "      <th>29</th>\n",
              "      <td>30</td>\n",
              "      <td>Embracing Agility Means Agility by the Busines...</td>\n",
              "      <td>/content/dam/tcs/pdf/perspectives/edition-11-e...</td>\n",
              "      <td>2018-06-11 00:00:00</td>\n",
              "      <td>1.1</td>\n",
              "      <td>31,52,33</td>\n",
              "      <td>The push for agility in software development s...</td>\n",
              "    </tr>\n",
              "    <tr>\n",
              "      <th>...</th>\n",
              "      <td>...</td>\n",
              "      <td>...</td>\n",
              "      <td>...</td>\n",
              "      <td>...</td>\n",
              "      <td>...</td>\n",
              "      <td>...</td>\n",
              "      <td>...</td>\n",
              "    </tr>\n",
              "    <tr>\n",
              "      <th>50</th>\n",
              "      <td>51</td>\n",
              "      <td>Increasing Speed in the Digital Era - Intervie...</td>\n",
              "      <td>/content/dam/tcs/pdf/perspectives/edition-8-in...</td>\n",
              "      <td>2017-07-16 00:00:00</td>\n",
              "      <td>0.5</td>\n",
              "      <td>27,28,29</td>\n",
              "      <td>Jeanne Ross serves as research director and pr...</td>\n",
              "    </tr>\n",
              "    <tr>\n",
              "      <th>51</th>\n",
              "      <td>52</td>\n",
              "      <td>From Making Autos to Making Software: The Evol...</td>\n",
              "      <td>/content/dam/tcs/pdf/perspectives/edition-11-f...</td>\n",
              "      <td>2018-06-09 00:00:00</td>\n",
              "      <td>2.0</td>\n",
              "      <td>33,34,53</td>\n",
              "      <td>Michael A. Cusumano1 is a professor at the Mas...</td>\n",
              "    </tr>\n",
              "    <tr>\n",
              "      <th>52</th>\n",
              "      <td>53</td>\n",
              "      <td>The Tall Task of Getting Big Companies and Gov...</td>\n",
              "      <td>/content/dam/tcs/pdf/perspectives/edition-11-t...</td>\n",
              "      <td>2017-07-05 00:00:00</td>\n",
              "      <td>1.4</td>\n",
              "      <td>35,36,37</td>\n",
              "      <td>Steve Blank has been at the epicenter of the ‘...</td>\n",
              "    </tr>\n",
              "    <tr>\n",
              "      <th>53</th>\n",
              "      <td>54</td>\n",
              "      <td>The Big Opportunities at the Junction of AI an...</td>\n",
              "      <td>/content/dam/tcs/pdf/perspectives/edition-10-t...</td>\n",
              "      <td>2017-07-02 00:00:00</td>\n",
              "      <td>0.8</td>\n",
              "      <td>45,38,43</td>\n",
              "      <td>For 30 years, Tom Davenport has been one of th...</td>\n",
              "    </tr>\n",
              "    <tr>\n",
              "      <th>54</th>\n",
              "      <td>55</td>\n",
              "      <td>Digital Data’s Greatest Opportunities</td>\n",
              "      <td>/content/dam/tcs/pdf/perspectives/digital-data...</td>\n",
              "      <td>2018-10-24 00:00:00</td>\n",
              "      <td>2.4</td>\n",
              "      <td>56,57</td>\n",
              "      <td>\\r\\n\\r\\n\\r\\na {word-wrap:break-word}\\r\\nli {wi...</td>\n",
              "    </tr>\n",
              "    <tr>\n",
              "      <th>55</th>\n",
              "      <td>56</td>\n",
              "      <td>How the Digital Renovators are Racing Ahead</td>\n",
              "      <td>/content/dam/tcs/pdf/perspectives/how-the-digi...</td>\n",
              "      <td>2018-10-26 00:00:00</td>\n",
              "      <td>1.7</td>\n",
              "      <td>55,57</td>\n",
              "      <td>\\n\\n\\n\\n\\n\\n  Numerous studies show that the m...</td>\n",
              "    </tr>\n",
              "    <tr>\n",
              "      <th>56</th>\n",
              "      <td>57</td>\n",
              "      <td>Digital Transformation should Start with the C...</td>\n",
              "      <td>/content/dam/tcs/pdf/perspectives/digital-tran...</td>\n",
              "      <td>2018-10-30 00:00:00</td>\n",
              "      <td>4.5</td>\n",
              "      <td>55,56</td>\n",
              "      <td>\\n\\n\\n\\n\\n\\n  Business guru Peter Drucker famo...</td>\n",
              "    </tr>\n",
              "    <tr>\n",
              "      <th>57</th>\n",
              "      <td>59</td>\n",
              "      <td>Taking a Machine First Approach to Digital Tra...</td>\n",
              "      <td>/content/dam/tcs/pdf/perspectiveapp/Taking-a-M...</td>\n",
              "      <td>2019-03-13 19:14:37.598128</td>\n",
              "      <td>7.7</td>\n",
              "      <td>56,55,57</td>\n",
              "      <td>\\n\\n\\n\\n\\n\\n\\n\\nMany companies believe they ca...</td>\n",
              "    </tr>\n",
              "    <tr>\n",
              "      <th>58</th>\n",
              "      <td>60</td>\n",
              "      <td>Immense Digital Power on Demand: Shifting to t...</td>\n",
              "      <td>/content/dam/tcs/pdf/perspectiveapp/Immense-Di...</td>\n",
              "      <td>2019-03-13 19:36:19.723923</td>\n",
              "      <td>1.9</td>\n",
              "      <td>59,56,57</td>\n",
              "      <td>\\n\\n\\n\\n\\n\\n\\n\\n\\n\\n\\nTo\\n thrive in a world o...</td>\n",
              "    </tr>\n",
              "    <tr>\n",
              "      <th>59</th>\n",
              "      <td>61</td>\n",
              "      <td>Operating in an Insight-Driven World: Masterin...</td>\n",
              "      <td>/content/dam/tcs/pdf/perspectiveapp/Operating-...</td>\n",
              "      <td>2019-03-13 19:44:41.067299</td>\n",
              "      <td>4.3</td>\n",
              "      <td>59,60,57</td>\n",
              "      <td>\\n\\n\\n\\n\\n\\n\\n\\n\\n\\n\\nEvery large company\\n to...</td>\n",
              "    </tr>\n",
              "    <tr>\n",
              "      <th>60</th>\n",
              "      <td>62</td>\n",
              "      <td>M&amp;A in the era of Business 4.0</td>\n",
              "      <td>/content/dam/tcs/pdf/perspectiveapp/m&amp;a-in-the...</td>\n",
              "      <td>2019-03-20 19:17:32.267364</td>\n",
              "      <td>4.7</td>\n",
              "      <td>26,59,55</td>\n",
              "      <td>\\n\\n\\n.row {\\n\\twidth: 100%;\\n\\tfloat: left;\\n...</td>\n",
              "    </tr>\n",
              "    <tr>\n",
              "      <th>61</th>\n",
              "      <td>63</td>\n",
              "      <td>Back from the Future: How Finance Leaders Can ...</td>\n",
              "      <td>/content/dam/tcs/pdf/perspectiveapp/back-from-...</td>\n",
              "      <td>2019-03-27 17:16:17.018294</td>\n",
              "      <td>4.3</td>\n",
              "      <td>60,61,62</td>\n",
              "      <td>\\n\\n\\n\\n\\n\\n\\n\\n\\nIntroduction&amp;nbsp;\\nFor fina...</td>\n",
              "    </tr>\n",
              "    <tr>\n",
              "      <th>62</th>\n",
              "      <td>65</td>\n",
              "      <td>An Agile Manifesto for the Board</td>\n",
              "      <td>/content/dam/tcs/pdf/perspectiveapp/an-agile-m...</td>\n",
              "      <td>2019-04-03 15:28:17.114618</td>\n",
              "      <td>7.0</td>\n",
              "      <td>53,2,30</td>\n",
              "      <td>\\n\\n\\n\\n\\n\\n\\nIt's hard to avoid the term &amp;quo...</td>\n",
              "    </tr>\n",
              "    <tr>\n",
              "      <th>63</th>\n",
              "      <td>66</td>\n",
              "      <td>Creating Game-Changing Insights from an Abunda...</td>\n",
              "      <td>/content/dam/tcs/pdf/perspectiveapp/Creating-G...</td>\n",
              "      <td>2019-04-10 12:41:55.800412</td>\n",
              "      <td>5.3</td>\n",
              "      <td>55,56,57</td>\n",
              "      <td>\\n\\n\\n\\n\\n\\n\\n\\n\\n\\n\\nAs digital transformatio...</td>\n",
              "    </tr>\n",
              "    <tr>\n",
              "      <th>64</th>\n",
              "      <td>67</td>\n",
              "      <td>Unleashing Business Value in a Business 4.0 World</td>\n",
              "      <td>/content/dam/tcs/pdf/perspectiveapp/Unleashing...</td>\n",
              "      <td>2019-04-17 13:32:33.711804</td>\n",
              "      <td>13.1</td>\n",
              "      <td>55,56,57</td>\n",
              "      <td>\\n\\n\\n\\n\\n\\n\\n\\n\\n\\n\\nIn an era we call Busine...</td>\n",
              "    </tr>\n",
              "    <tr>\n",
              "      <th>65</th>\n",
              "      <td>68</td>\n",
              "      <td>Digital Transformation and the New Breed of En...</td>\n",
              "      <td>/content/dam/tcs/pdf/perspectiveapp/Digital-Tr...</td>\n",
              "      <td>2019-04-24 15:35:19.458021</td>\n",
              "      <td>6.3</td>\n",
              "      <td>56,63,57</td>\n",
              "      <td>\\n\\n\\n\\n\\n\\n\\n\\n\\n\\n\\nAround the world, compan...</td>\n",
              "    </tr>\n",
              "    <tr>\n",
              "      <th>66</th>\n",
              "      <td>69</td>\n",
              "      <td>How Intelligent Automation is Rewriting the Ru...</td>\n",
              "      <td>/content/dam/tcs/pdf/perspectiveapp/How-Intell...</td>\n",
              "      <td>2019-05-02 17:04:58.266493</td>\n",
              "      <td>12.3</td>\n",
              "      <td>59,61,67</td>\n",
              "      <td>\\n\\n\\n\\n\\n\\n\\n\\n\\n\\n\\nCustomer support has bec...</td>\n",
              "    </tr>\n",
              "    <tr>\n",
              "      <th>67</th>\n",
              "      <td>70</td>\n",
              "      <td>Design Thinking + Technology = Superior Custom...</td>\n",
              "      <td>/content/dam/tcs/pdf/perspectiveapp/Design-Thi...</td>\n",
              "      <td>2019-05-08 15:18:03.431386</td>\n",
              "      <td>32.3</td>\n",
              "      <td>57,67,69</td>\n",
              "      <td>\\n\\n\\n\\n\\n\\n\\n\\n\\n\\n\\nAccustomed to seamless i...</td>\n",
              "    </tr>\n",
              "    <tr>\n",
              "      <th>68</th>\n",
              "      <td>71</td>\n",
              "      <td>How Blockchain is Poised to Revolutionize Digi...</td>\n",
              "      <td>/content/dam/tcs/pdf/perspectiveapp/How-Blockc...</td>\n",
              "      <td>2019-05-15 16:31:02.331442</td>\n",
              "      <td>17.8</td>\n",
              "      <td>70,57,69</td>\n",
              "      <td>\\n\\n\\n\\n\\n\\n\\n\\n\\n\\n\\nBlockchain technology, w...</td>\n",
              "    </tr>\n",
              "    <tr>\n",
              "      <th>69</th>\n",
              "      <td>72</td>\n",
              "      <td>For Companies Today, the Question Is Not Wheth...</td>\n",
              "      <td>/content/dam/tcs/pdf/perspectiveapp/For-Compan...</td>\n",
              "      <td>2019-05-22 12:30:32.854458</td>\n",
              "      <td>27.9</td>\n",
              "      <td>60,56,67</td>\n",
              "      <td>\\n\\n\\n\\n\\n\\n\\n\\n\\n\\n\\nLarge companies worldwid...</td>\n",
              "    </tr>\n",
              "    <tr>\n",
              "      <th>70</th>\n",
              "      <td>73</td>\n",
              "      <td>How the Cloud Empowers Digital Transformation</td>\n",
              "      <td>/content/dam/tcs/pdf/perspectiveapp/How-the-Cl...</td>\n",
              "      <td>2019-05-29 15:23:11.025343</td>\n",
              "      <td>24.9</td>\n",
              "      <td>65,60,67</td>\n",
              "      <td>\\n\\n\\n\\n\\n\\n\\n\\n\\n\\n\\nDigital transformations ...</td>\n",
              "    </tr>\n",
              "    <tr>\n",
              "      <th>71</th>\n",
              "      <td>74</td>\n",
              "      <td>Proactive Protection How Companies Can Secure ...</td>\n",
              "      <td>/content/dam/tcs/pdf/perspectiveapp/Proactive-...</td>\n",
              "      <td>2019-06-05 15:09:01.407652</td>\n",
              "      <td>17.3</td>\n",
              "      <td>70,71,57</td>\n",
              "      <td>\\n\\n\\n\\n\\n\\n\\n\\n\\n\\n\\nToday, digital customer ...</td>\n",
              "    </tr>\n",
              "    <tr>\n",
              "      <th>72</th>\n",
              "      <td>75</td>\n",
              "      <td>Translating Ideas for IoT Initiatives into Dol...</td>\n",
              "      <td>/content/dam/tcs/pdf/perspectiveapp/Translatin...</td>\n",
              "      <td>2019-06-12 14:54:07.34547</td>\n",
              "      <td>21.3</td>\n",
              "      <td>69,5,42</td>\n",
              "      <td>\\n\\n\\n\\n\\n\\n\\n\\n\\n\\n\\nInternet of Things (IoT)...</td>\n",
              "    </tr>\n",
              "    <tr>\n",
              "      <th>73</th>\n",
              "      <td>76</td>\n",
              "      <td>How Quality Engineering Enables Customer Exper...</td>\n",
              "      <td>/content/dam/tcs/pdf/perspectiveapp/How-Qualit...</td>\n",
              "      <td>2019-06-19 17:02:51.347796</td>\n",
              "      <td>21.3</td>\n",
              "      <td>70,69,57</td>\n",
              "      <td>\\n\\n\\n\\n\\n\\n\\n\\n\\n\\n\\nThe launch was supposed ...</td>\n",
              "    </tr>\n",
              "    <tr>\n",
              "      <th>74</th>\n",
              "      <td>77</td>\n",
              "      <td>TCS 2019 CMO Study: Executive Summary</td>\n",
              "      <td>/content/dam/tcs/pdf/perspectiveapp/TCS-2019-C...</td>\n",
              "      <td>2019-07-03 14:55:02.784529</td>\n",
              "      <td>20.5</td>\n",
              "      <td>NaN</td>\n",
              "      <td>\\n\\n\\n\\n\\n\\n\\n\\n\\n\\n\\nHow Leading CMOs are Usi...</td>\n",
              "    </tr>\n",
              "    <tr>\n",
              "      <th>75</th>\n",
              "      <td>78</td>\n",
              "      <td>The TCS 2019 CMO Study: Initial Findings</td>\n",
              "      <td>/content/dam/tcs/pdf/perspectiveapp/CMO-Study-...</td>\n",
              "      <td>2019-07-10 15:29:47.031693</td>\n",
              "      <td>18.4</td>\n",
              "      <td>NaN</td>\n",
              "      <td>\\n\\n\\n\\n\\n\\n\\n\\n\\n\\n\\n\\nObjective\\nThe TCS 201...</td>\n",
              "    </tr>\n",
              "    <tr>\n",
              "      <th>76</th>\n",
              "      <td>79</td>\n",
              "      <td>TCS 2019 CMO Study: Stage 1, Awareness - Attra...</td>\n",
              "      <td>/content/dam/tcs/pdf/perspectives/cmo-study-st...</td>\n",
              "      <td>2019-07-17 13:39:45.530011</td>\n",
              "      <td>12.1</td>\n",
              "      <td>NaN</td>\n",
              "      <td>\\n\\n\\n\\n\\n\\n\\n\\n\\n\\n\\n\\nInnovating the Brand E...</td>\n",
              "    </tr>\n",
              "    <tr>\n",
              "      <th>77</th>\n",
              "      <td>80</td>\n",
              "      <td>TCS 2019 CMO Study: How Retailers Are Digitall...</td>\n",
              "      <td>/content/dam/tcs/pdf/perspectiveapp/TCS-2019-C...</td>\n",
              "      <td>2019-07-25 14:04:15.361002</td>\n",
              "      <td>15.0</td>\n",
              "      <td>NaN</td>\n",
              "      <td>\\n\\n\\n\\n\\n\\n\\n\\n\\n\\n\\n\\n\\n\\n\\n \\n \\tThis repor...</td>\n",
              "    </tr>\n",
              "    <tr>\n",
              "      <th>78</th>\n",
              "      <td>81</td>\n",
              "      <td>TCS 2019 CMO Study: How Travel, Transportation...</td>\n",
              "      <td>/content/dam/tcs/pdf/perspectiveapp/TCS-2019-C...</td>\n",
              "      <td>2019-07-31 15:01:29.289996</td>\n",
              "      <td>10.2</td>\n",
              "      <td>NaN</td>\n",
              "      <td>\\n\\n\\n\\n\\n\\n\\n\\n\\n\\n\\n\\n\\n\\n\\n\\n\\n \\n \\tThis r...</td>\n",
              "    </tr>\n",
              "    <tr>\n",
              "      <th>79</th>\n",
              "      <td>83</td>\n",
              "      <td>TCS 2019 CMO Study: Stage 2, Conversion - Pers...</td>\n",
              "      <td>/content/dam/tcs/pdf/perspectiveapp/TCS-CMO-St...</td>\n",
              "      <td>2019-08-07 17:17:50.54632</td>\n",
              "      <td>NaN</td>\n",
              "      <td>NaN</td>\n",
              "      <td>\\n\\n\\n\\n\\n\\n\\n\\n\\n\\n\\n\\n\\n\\n\\n\\n\\n \\n \\tChief ...</td>\n",
              "    </tr>\n",
              "  </tbody>\n",
              "</table>\n",
              "<p>80 rows × 7 columns</p>\n",
              "</div>"
            ],
            "text/plain": [
              "    asset_id  ...                                  asset_description\n",
              "0          1  ...  Peter Drucker, the legendary management schola...\n",
              "1          2  ...  The software development community has been us...\n",
              "2          3  ...  Many exciting new digital technologies have ev...\n",
              "3          4  ...  We have all seen some eye-bulging numbers in r...\n",
              "4          5  ...  You probably need little evidence to believe t...\n",
              "5          6  ...  Today’s companies do not struggle to collect a...\n",
              "6          7  ...  Anyone who has followed the travails of the U....\n",
              "7          8  ...  1. Why is a strong analytics effort key to com...\n",
              "8          9  ...  What is the shelf life of the journeys you hav...\n",
              "9         10  ...  The transition of enterprise apps to the cloud...\n",
              "10        11  ...  The competitive digital business landscape is ...\n",
              "11        12  ...  For some time, many senior executives have foc...\n",
              "12        13  ...  For better or for worse, depending on your vie...\n",
              "13        14  ...  Today’s most over-used corporate cliché is ‘di...\n",
              "14        15  ...  1. How has the retail industry’s idea of super...\n",
              "15        16  ...  Companies around the world have spent a ton of...\n",
              "16        17  ...  Digital technology lets companies tailor their...\n",
              "17        18  ...  The relentless spread of mobile apps now offer...\n",
              "18        19  ...  The next battle in the customer experience war...\n",
              "19        20  ...  It&nbsp;costs $600 billion per year to field t...\n",
              "20        21  ...  1. Do you expect the pace of M&amp;A activity ...\n",
              "21        22  ...  Digital ecosystems increasingly are coalescing...\n",
              "22        23  ...  Thirty years ago, large global companies began...\n",
              "23        24  ...  Even for companies that can afford billions of...\n",
              "24        25  ...  Whether it’s a series of tweaks or a wholesale...\n",
              "25        26  ...  A few years ago, two airlines announced a merg...\n",
              "26        27  ...  Mike Olson abhors the term artificial intellig...\n",
              "27        28  ...  TCS: What are the key ways in which manufactur...\n",
              "28        29  ...  Companies today must get smarter, faster, and ...\n",
              "29        30  ...  The push for agility in software development s...\n",
              "..       ...  ...                                                ...\n",
              "50        51  ...  Jeanne Ross serves as research director and pr...\n",
              "51        52  ...  Michael A. Cusumano1 is a professor at the Mas...\n",
              "52        53  ...  Steve Blank has been at the epicenter of the ‘...\n",
              "53        54  ...  For 30 years, Tom Davenport has been one of th...\n",
              "54        55  ...  \\r\\n\\r\\n\\r\\na {word-wrap:break-word}\\r\\nli {wi...\n",
              "55        56  ...  \\n\\n\\n\\n\\n\\n  Numerous studies show that the m...\n",
              "56        57  ...  \\n\\n\\n\\n\\n\\n  Business guru Peter Drucker famo...\n",
              "57        59  ...  \\n\\n\\n\\n\\n\\n\\n\\nMany companies believe they ca...\n",
              "58        60  ...  \\n\\n\\n\\n\\n\\n\\n\\n\\n\\n\\nTo\\n thrive in a world o...\n",
              "59        61  ...  \\n\\n\\n\\n\\n\\n\\n\\n\\n\\n\\nEvery large company\\n to...\n",
              "60        62  ...  \\n\\n\\n.row {\\n\\twidth: 100%;\\n\\tfloat: left;\\n...\n",
              "61        63  ...  \\n\\n\\n\\n\\n\\n\\n\\n\\nIntroduction&nbsp;\\nFor fina...\n",
              "62        65  ...  \\n\\n\\n\\n\\n\\n\\nIt's hard to avoid the term &quo...\n",
              "63        66  ...  \\n\\n\\n\\n\\n\\n\\n\\n\\n\\n\\nAs digital transformatio...\n",
              "64        67  ...  \\n\\n\\n\\n\\n\\n\\n\\n\\n\\n\\nIn an era we call Busine...\n",
              "65        68  ...  \\n\\n\\n\\n\\n\\n\\n\\n\\n\\n\\nAround the world, compan...\n",
              "66        69  ...  \\n\\n\\n\\n\\n\\n\\n\\n\\n\\n\\nCustomer support has bec...\n",
              "67        70  ...  \\n\\n\\n\\n\\n\\n\\n\\n\\n\\n\\nAccustomed to seamless i...\n",
              "68        71  ...  \\n\\n\\n\\n\\n\\n\\n\\n\\n\\n\\nBlockchain technology, w...\n",
              "69        72  ...  \\n\\n\\n\\n\\n\\n\\n\\n\\n\\n\\nLarge companies worldwid...\n",
              "70        73  ...  \\n\\n\\n\\n\\n\\n\\n\\n\\n\\n\\nDigital transformations ...\n",
              "71        74  ...  \\n\\n\\n\\n\\n\\n\\n\\n\\n\\n\\nToday, digital customer ...\n",
              "72        75  ...  \\n\\n\\n\\n\\n\\n\\n\\n\\n\\n\\nInternet of Things (IoT)...\n",
              "73        76  ...  \\n\\n\\n\\n\\n\\n\\n\\n\\n\\n\\nThe launch was supposed ...\n",
              "74        77  ...  \\n\\n\\n\\n\\n\\n\\n\\n\\n\\n\\nHow Leading CMOs are Usi...\n",
              "75        78  ...  \\n\\n\\n\\n\\n\\n\\n\\n\\n\\n\\n\\nObjective\\nThe TCS 201...\n",
              "76        79  ...  \\n\\n\\n\\n\\n\\n\\n\\n\\n\\n\\n\\nInnovating the Brand E...\n",
              "77        80  ...  \\n\\n\\n\\n\\n\\n\\n\\n\\n\\n\\n\\n\\n\\n\\n \\n \\tThis repor...\n",
              "78        81  ...  \\n\\n\\n\\n\\n\\n\\n\\n\\n\\n\\n\\n\\n\\n\\n\\n\\n \\n \\tThis r...\n",
              "79        83  ...  \\n\\n\\n\\n\\n\\n\\n\\n\\n\\n\\n\\n\\n\\n\\n\\n\\n \\n \\tChief ...\n",
              "\n",
              "[80 rows x 7 columns]"
            ]
          },
          "metadata": {
            "tags": []
          },
          "execution_count": 68
        }
      ]
    },
    {
      "cell_type": "code",
      "metadata": {
        "id": "r5-xT0Xj-D0z",
        "colab": {
          "base_uri": "https://localhost:8080/",
          "height": 68
        },
        "outputId": "f719c37a-6224-4659-a28a-e534d540afc4"
      },
      "source": [
        "asset_details_final.columns"
      ],
      "execution_count": null,
      "outputs": [
        {
          "output_type": "execute_result",
          "data": {
            "text/plain": [
              "Index(['asset_id', 'asset_title', 'asset_download_url', 'published_on',\n",
              "       'popularity_rank', 'related_asset_ids', 'asset_description'],\n",
              "      dtype='object')"
            ]
          },
          "metadata": {
            "tags": []
          },
          "execution_count": 69
        }
      ]
    },
    {
      "cell_type": "code",
      "metadata": {
        "id": "kc7xH2i5_JHE",
        "colab": {
          "base_uri": "https://localhost:8080/",
          "height": 51
        },
        "outputId": "897d9e7b-fab9-43ca-93db-06c61f5be622"
      },
      "source": [
        "asset_details_final[asset_details_final[\"asset_id\"]==56].asset_description"
      ],
      "execution_count": null,
      "outputs": [
        {
          "output_type": "execute_result",
          "data": {
            "text/plain": [
              "55    \\n\\n\\n\\n\\n\\n  Numerous studies show that the m...\n",
              "Name: asset_description, dtype: object"
            ]
          },
          "metadata": {
            "tags": []
          },
          "execution_count": 70
        }
      ]
    },
    {
      "cell_type": "code",
      "metadata": {
        "id": "Sg9CJ34F_jW5"
      },
      "source": [
        "asset_details_final.to_csv('/content/drive/My Drive/Colab Notebooks/ASSET-DETAILS-FINAL.csv',index=False)"
      ],
      "execution_count": null,
      "outputs": []
    },
    {
      "cell_type": "code",
      "metadata": {
        "id": "5_NpZQZZC7I5"
      },
      "source": [
        "s = str(asset_details_final.asset_description[asset_details_final['asset_id'] == 56])"
      ],
      "execution_count": null,
      "outputs": []
    },
    {
      "cell_type": "code",
      "metadata": {
        "id": "Pin1VwZ2_91Z",
        "colab": {
          "base_uri": "https://localhost:8080/",
          "height": 34
        },
        "outputId": "6ed7a6de-e0f3-4746-9b10-2701b1187ab3"
      },
      "source": [
        "type(s)"
      ],
      "execution_count": null,
      "outputs": [
        {
          "output_type": "execute_result",
          "data": {
            "text/plain": [
              "str"
            ]
          },
          "metadata": {
            "tags": []
          },
          "execution_count": 56
        }
      ]
    },
    {
      "cell_type": "code",
      "metadata": {
        "id": "JXCSvWrIDO0J",
        "colab": {
          "base_uri": "https://localhost:8080/",
          "height": 34
        },
        "outputId": "e0240599-aa7c-4ed3-f497-fb12bee76270"
      },
      "source": [
        "s"
      ],
      "execution_count": null,
      "outputs": [
        {
          "output_type": "execute_result",
          "data": {
            "text/plain": [
              "'55    \\\\n\\\\n\\\\n\\\\n\\\\n\\\\n  Numerous studies show that the m...\\nName: asset_description, dtype: object'"
            ]
          },
          "metadata": {
            "tags": []
          },
          "execution_count": 57
        }
      ]
    },
    {
      "cell_type": "code",
      "metadata": {
        "id": "zPo1fR1xDW-b"
      },
      "source": [
        ""
      ],
      "execution_count": null,
      "outputs": []
    }
  ]
}