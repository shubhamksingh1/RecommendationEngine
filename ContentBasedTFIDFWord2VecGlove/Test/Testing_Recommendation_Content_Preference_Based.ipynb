{
  "nbformat": 4,
  "nbformat_minor": 0,
  "metadata": {
    "colab": {
      "name": "Testing_Recommendation_Content_Preference_Based.ipynb",
      "provenance": [],
      "collapsed_sections": [
        "dkat6RGGJ3YK",
        "GhRFTbJ4JiBw",
        "xIGJRrq3JwD7",
        "Ib1JjYOwKRPP",
        "MkQaYeYNLMxX",
        "LEarz87yLfqY",
        "3rDU8fF0MVLW",
        "_NOyOzTXLvDm",
        "JM3vpdIbMwdq",
        "Cmz5uIzENY2S"
      ],
      "toc_visible": true,
      "mount_file_id": "1yxf5-Uz5VSrTXQIhtjLHfGhZmXcMArPv",
      "authorship_tag": "ABX9TyOFXi/bhv/7lfFz1+JAiXRG",
      "include_colab_link": true
    },
    "kernelspec": {
      "name": "python3",
      "display_name": "Python 3"
    }
  },
  "cells": [
    {
      "cell_type": "markdown",
      "metadata": {
        "id": "view-in-github",
        "colab_type": "text"
      },
      "source": [
        "<a href=\"https://colab.research.google.com/github/shubhamksingh1/RecommendationEngine/blob/main/ContentBasedTFIDFWord2VecGlove/Test/Testing_Recommendation_Content_Preference_Based.ipynb\" target=\"_parent\"><img src=\"https://colab.research.google.com/assets/colab-badge.svg\" alt=\"Open In Colab\"/></a>"
      ]
    },
    {
      "cell_type": "markdown",
      "metadata": {
        "id": "dkat6RGGJ3YK"
      },
      "source": [
        "# Last Content Based"
      ]
    },
    {
      "cell_type": "markdown",
      "metadata": {
        "id": "0MmVbhPaJSvg"
      },
      "source": [
        "## Imports"
      ]
    },
    {
      "cell_type": "code",
      "metadata": {
        "id": "yAdFpNUXHiGc"
      },
      "source": [
        "import pandas as pd\n",
        "import pickle"
      ],
      "execution_count": null,
      "outputs": []
    },
    {
      "cell_type": "markdown",
      "metadata": {
        "id": "GhRFTbJ4JiBw"
      },
      "source": [
        "## TFIDF"
      ]
    },
    {
      "cell_type": "code",
      "metadata": {
        "id": "ZZdiIAeYJd-B"
      },
      "source": [
        "# Function that takes in asset title as input and outputs most similar asset\n",
        "def get_recommendations_test(title,n,d=1,t=0):\n",
        "    \n",
        "    title = title.lower()\n",
        "    \n",
        "    ##READING ASSET CSV DATAFRAME PICKLE FILE\n",
        "    asset = pd.read_pickle(\"/content/drive/MyDrive/Content_Recommendation/recommendation_v3.pkl\")\n",
        "    \n",
        "    input_asset_id = asset[\"asset_id\"][asset['asset_title'] == title]\n",
        "    \n",
        "    # Reset index of main DataFrame and construct reverse mapping as before\n",
        "    asset = asset.reset_index(drop=True)\n",
        "    indices = pd.Series(asset.index, index=asset['asset_title'])\n",
        "\n",
        "    # Reading Similarity Matrix\n",
        "    \n",
        "    sim_desc = pickle.load(open(\"/content/drive/MyDrive/Content_Recommendation/cosine_sim_desc.pkl\", \"rb\" ) )\n",
        "    sim_title = pickle.load(open(\"/content/drive/MyDrive/Content_Recommendation/cosine_sim_title.pkl\", \"rb\" ) )\n",
        "\n",
        "    # Implementing weightage calculation\n",
        "    print(\"desc weight factor\",d)\n",
        "    print(\"title weight factor \",t)\n",
        "    \n",
        "    cosine_sim = ((d * sim_desc) + (t * sim_title))/(d+t) \n",
        "\n",
        "    # Get the index of the article that matches the title\n",
        "    idx = indices[title]\n",
        "\n",
        "    # Get the pairwise similarity scores of all articles with that article\n",
        "    sim_scores = list(enumerate(cosine_sim[idx]))\n",
        "\n",
        "    # Sort the article based on the similarity scores\n",
        "    sim_scores = sorted(sim_scores, key=lambda x: x[1], reverse=True)\n",
        "\n",
        "    # Get the scores of the n most similar article\n",
        "    sim_scores = sim_scores[1:n+1]\n",
        "\n",
        "    # Get the article indices\n",
        "    article_indices = [i[0] for i in sim_scores]\n",
        "    sim_percentage = [\"{:.2f}\".format(i[1]*100) for i in sim_scores]\n",
        "    \n",
        "    recommendation  = {}\n",
        "    for i in range(len(article_indices)):\n",
        "        recommendation[str(i+1)+\" recommendation\"] =  \"Asset_ID:\"+str(asset['asset_id'][article_indices[i]]) + \" Recommending Percentage:\"+str(sim_percentage[i])+\"  Asset Title:\" + str(asset['asset_title'][article_indices[i]])\n",
        "        print(str(i+1) + \"th recommendation \" + \" asset_id \" + str(asset['asset_id'][article_indices[i]]) + \" Recommending Percentage : \"+str(sim_percentage[i])+ \"% asset_title \" + str(asset['asset_title'][article_indices[i]])+\"\\n\")\n",
        "    return recommendation"
      ],
      "execution_count": null,
      "outputs": []
    },
    {
      "cell_type": "markdown",
      "metadata": {
        "id": "xIGJRrq3JwD7"
      },
      "source": [
        "## Word2Vec"
      ]
    },
    {
      "cell_type": "code",
      "metadata": {
        "id": "NRtqGVLXJvCB"
      },
      "source": [
        "# Function that takes in asset title as input and outputs most similar asset\n",
        "def get_recommendations_test_w2v(title,n,d=1,t=0):\n",
        "    \n",
        "    title = title.lower()\n",
        "    \n",
        "    ##READING ASSET CSV DATAFRAME PICKLE FILE\n",
        "    asset = pd.read_pickle(\"/content/drive/MyDrive/Content_Recommendation/recommendation_v3.pkl\")\n",
        "    \n",
        "    input_asset_id = asset[\"asset_id\"][asset['asset_title'] == title]\n",
        "    \n",
        "    # Reset index of main DataFrame and construct reverse mapping as before\n",
        "    asset = asset.reset_index(drop=True)\n",
        "    indices = pd.Series(asset.index, index=asset['asset_title'])\n",
        "\n",
        "    # Reading Similarity Matrix\n",
        "    \n",
        "    sim_desc = pickle.load(open(\"/content/drive/MyDrive/Content_Recommendation/cosine_sim_desc_w2v.pkl\", \"rb\" ) )\n",
        "    sim_title = pickle.load(open(\"/content/drive/MyDrive/Content_Recommendation/cosine_sim_title_w2v.pkl\", \"rb\" ) )\n",
        "\n",
        "    # Implementing weightage calculation\n",
        "    print(\"desc weight factor\",d)\n",
        "    print(\"title weight factor \",t)\n",
        "    \n",
        "    cosine_sim = ((d * sim_desc) + (t * sim_title))/(d+t) \n",
        "\n",
        "    # Get the index of the article that matches the title\n",
        "    idx = indices[title]\n",
        "\n",
        "    # Get the pairwise similarity scores of all articles with that article\n",
        "    sim_scores = list(enumerate(cosine_sim[idx]))\n",
        "\n",
        "    # Sort the article based on the similarity scores\n",
        "    sim_scores = sorted(sim_scores, key=lambda x: x[1], reverse=True)\n",
        "\n",
        "    # Get the scores of the n most similar article\n",
        "    sim_scores = sim_scores[1:n+1]\n",
        "\n",
        "    # Get the article indices\n",
        "    article_indices = [i[0] for i in sim_scores]\n",
        "    sim_percentage = [\"{:.2f}\".format(i[1]*100) for i in sim_scores]\n",
        "    \n",
        "    recommendation  = {}\n",
        "    for i in range(len(article_indices)):\n",
        "        recommendation[str(i+1)+\" recommendation\"] =  \"Asset_ID:\"+str(asset['asset_id'][article_indices[i]]) + \" Recommending Percentage:\"+str(sim_percentage[i])+\"  Asset Title:\" + str(asset['asset_title'][article_indices[i]])\n",
        "        print(str(i+1) + \"th recommendation \" + \" asset_id \" + str(asset['asset_id'][article_indices[i]]) + \" Recommending Percentage : \"+str(sim_percentage[i])+ \"% asset_title \" + str(asset['asset_title'][article_indices[i]])+\"\\n\")\n",
        "    return recommendation"
      ],
      "execution_count": null,
      "outputs": []
    },
    {
      "cell_type": "markdown",
      "metadata": {
        "id": "Ib1JjYOwKRPP"
      },
      "source": [
        "## Glove"
      ]
    },
    {
      "cell_type": "code",
      "metadata": {
        "id": "Hh1ynHFYKPEM"
      },
      "source": [
        "# Function that takes in asset title as input and outputs most similar asset\n",
        "def get_recommendations_test_glove(title,n,d=1,t=0):\n",
        "    \n",
        "    title = title.lower()\n",
        "    \n",
        "    ##READING ASSET CSV DATAFRAME PICKLE FILE\n",
        "    asset = pd.read_pickle(\"/content/drive/MyDrive/Content_Recommendation/recommendation_v3.pkl\")\n",
        "    \n",
        "    input_asset_id = asset[\"asset_id\"][asset['asset_title'] == title]\n",
        "    \n",
        "    # Reset index of main DataFrame and construct reverse mapping as before\n",
        "    asset = asset.reset_index(drop=True)\n",
        "    indices = pd.Series(asset.index, index=asset['asset_title'])\n",
        "\n",
        "    # Reading Similarity Matrix\n",
        "    \n",
        "    sim_desc = pickle.load(open(\"/content/drive/MyDrive/Content_Recommendation/cosine_sim_desc_g.pkl\", \"rb\" ) )\n",
        "    sim_title = pickle.load(open(\"/content/drive/MyDrive/Content_Recommendation/cosine_sim_title_g.pkl\", \"rb\" ) )\n",
        "\n",
        "    # Implementing weightage calculation\n",
        "    print(\"desc weight factor\",d)\n",
        "    print(\"title weight factor \",t)\n",
        "    \n",
        "    cosine_sim = ((d * sim_desc) + (t * sim_title))/(d+t) \n",
        "\n",
        "    # Get the index of the article that matches the title\n",
        "    idx = indices[title]\n",
        "\n",
        "    # Get the pairwise similarity scores of all articles with that article\n",
        "    sim_scores = list(enumerate(cosine_sim[idx]))\n",
        "\n",
        "    # Sort the article based on the similarity scores\n",
        "    sim_scores = sorted(sim_scores, key=lambda x: x[1], reverse=True)\n",
        "\n",
        "    # Get the scores of the n most similar article\n",
        "    sim_scores = sim_scores[1:n+1]\n",
        "\n",
        "    # Get the article indices\n",
        "    article_indices = [i[0] for i in sim_scores]\n",
        "    sim_percentage = [\"{:.2f}\".format(i[1]*100) for i in sim_scores]\n",
        "    \n",
        "    recommendation  = {}\n",
        "    for i in range(len(article_indices)):\n",
        "        recommendation[str(i+1)+\" recommendation\"] =  \"Asset_ID:\"+str(asset['asset_id'][article_indices[i]]) + \" Recommending Percentage:\"+str(sim_percentage[i])+\"  Asset Title:\" + str(asset['asset_title'][article_indices[i]])\n",
        "        print(str(i+1) + \"th recommendation \" + \" asset_id \" + str(asset['asset_id'][article_indices[i]]) + \" Recommending Percentage : \"+str(sim_percentage[i])+ \"% asset_title \" + str(asset['asset_title'][article_indices[i]])+\"\\n\")\n",
        "    return recommendation"
      ],
      "execution_count": null,
      "outputs": []
    },
    {
      "cell_type": "markdown",
      "metadata": {
        "id": "y-wA1CgUKlkK"
      },
      "source": [
        "## Recommendation"
      ]
    },
    {
      "cell_type": "markdown",
      "metadata": {
        "id": "9kHaLa8EK-YM"
      },
      "source": [
        "### Dataframe and Title List"
      ]
    },
    {
      "cell_type": "code",
      "metadata": {
        "id": "NG52CGyEKua7"
      },
      "source": [
        "df = pd.read_csv(\"/content/drive/MyDrive/Content_Recommendation/recommendation_v3.csv\")"
      ],
      "execution_count": null,
      "outputs": []
    },
    {
      "cell_type": "code",
      "metadata": {
        "colab": {
          "base_uri": "https://localhost:8080/",
          "height": 487
        },
        "id": "Ztv87UUgKoP4",
        "outputId": "99b0b969-698f-460c-b39a-84e754c0d64a"
      },
      "source": [
        "df.head()"
      ],
      "execution_count": null,
      "outputs": [
        {
          "output_type": "execute_result",
          "data": {
            "text/html": [
              "<div>\n",
              "<style scoped>\n",
              "    .dataframe tbody tr th:only-of-type {\n",
              "        vertical-align: middle;\n",
              "    }\n",
              "\n",
              "    .dataframe tbody tr th {\n",
              "        vertical-align: top;\n",
              "    }\n",
              "\n",
              "    .dataframe thead th {\n",
              "        text-align: right;\n",
              "    }\n",
              "</style>\n",
              "<table border=\"1\" class=\"dataframe\">\n",
              "  <thead>\n",
              "    <tr style=\"text-align: right;\">\n",
              "      <th></th>\n",
              "      <th>asset_id</th>\n",
              "      <th>asset_description</th>\n",
              "      <th>asset_title</th>\n",
              "      <th>custom_stop_desc</th>\n",
              "      <th>custom_stop_title</th>\n",
              "      <th>asset_description_cleaned</th>\n",
              "      <th>asset_title_cleaned</th>\n",
              "    </tr>\n",
              "  </thead>\n",
              "  <tbody>\n",
              "    <tr>\n",
              "      <th>0</th>\n",
              "      <td>1</td>\n",
              "      <td>peter drucker the legendary management scholar...</td>\n",
              "      <td>the ascent of the smarter faster lighter enter...</td>\n",
              "      <td>['3a', 'a', 'an', 'on', 'at', 'is', 's', 'do',...</td>\n",
              "      <td>['of']</td>\n",
              "      <td>peter drucker legendary management scholar con...</td>\n",
              "      <td>ascent smarter faster lighter enterprise</td>\n",
              "    </tr>\n",
              "    <tr>\n",
              "      <th>1</th>\n",
              "      <td>2</td>\n",
              "      <td>the software development community has been us...</td>\n",
              "      <td>agile s day has truly arrived</td>\n",
              "      <td>['a', 'u', 'we', 'k', 'i', 'on', 'at', 'is', '...</td>\n",
              "      <td>['s']</td>\n",
              "      <td>software development community using term agil...</td>\n",
              "      <td>agile day truly arrived</td>\n",
              "    </tr>\n",
              "    <tr>\n",
              "      <th>2</th>\n",
              "      <td>3</td>\n",
              "      <td>many exciting new digital technologies have ev...</td>\n",
              "      <td>riding the cognitive wave</td>\n",
              "      <td>['a', 'we', 'e', 'an', 'on', 'at', 'is', 'do',...</td>\n",
              "      <td>[]</td>\n",
              "      <td>many exciting new digital technology evolved r...</td>\n",
              "      <td>riding cognitive wave</td>\n",
              "    </tr>\n",
              "    <tr>\n",
              "      <th>3</th>\n",
              "      <td>4</td>\n",
              "      <td>we have all seen some eye bulging numbers in r...</td>\n",
              "      <td>using iot data to understand how your products...</td>\n",
              "      <td>['hp', 'a', 'we', 'an', 'on', 'at', 'is', 's',...</td>\n",
              "      <td>['to']</td>\n",
              "      <td>seen eye bulging number recent year internet t...</td>\n",
              "      <td>using iot data understand product perform</td>\n",
              "    </tr>\n",
              "    <tr>\n",
              "      <th>4</th>\n",
              "      <td>5</td>\n",
              "      <td>you probably need little evidence to believe t...</td>\n",
              "      <td>the view inside our take on the customer exper...</td>\n",
              "      <td>['a', 'we', 'e', 'an', 'i', 'on', 'at', 'is', ...</td>\n",
              "      <td>['on']</td>\n",
              "      <td>probably need little evidence believe experien...</td>\n",
              "      <td>view inside take customer experience revolution</td>\n",
              "    </tr>\n",
              "  </tbody>\n",
              "</table>\n",
              "</div>"
            ],
            "text/plain": [
              "   asset_id  ...                              asset_title_cleaned\n",
              "0         1  ...         ascent smarter faster lighter enterprise\n",
              "1         2  ...                          agile day truly arrived\n",
              "2         3  ...                            riding cognitive wave\n",
              "3         4  ...        using iot data understand product perform\n",
              "4         5  ...  view inside take customer experience revolution\n",
              "\n",
              "[5 rows x 7 columns]"
            ]
          },
          "metadata": {
            "tags": []
          },
          "execution_count": 6
        }
      ]
    },
    {
      "cell_type": "code",
      "metadata": {
        "colab": {
          "base_uri": "https://localhost:8080/",
          "height": 539
        },
        "id": "4GH9BJyqR3hS",
        "outputId": "f79b3aad-69a6-4bfa-a821-dddf7580be38"
      },
      "source": [
        "df.tail()"
      ],
      "execution_count": null,
      "outputs": [
        {
          "output_type": "execute_result",
          "data": {
            "text/html": [
              "<div>\n",
              "<style scoped>\n",
              "    .dataframe tbody tr th:only-of-type {\n",
              "        vertical-align: middle;\n",
              "    }\n",
              "\n",
              "    .dataframe tbody tr th {\n",
              "        vertical-align: top;\n",
              "    }\n",
              "\n",
              "    .dataframe thead th {\n",
              "        text-align: right;\n",
              "    }\n",
              "</style>\n",
              "<table border=\"1\" class=\"dataframe\">\n",
              "  <thead>\n",
              "    <tr style=\"text-align: right;\">\n",
              "      <th></th>\n",
              "      <th>asset_id</th>\n",
              "      <th>asset_description</th>\n",
              "      <th>asset_title</th>\n",
              "      <th>custom_stop_desc</th>\n",
              "      <th>custom_stop_title</th>\n",
              "      <th>asset_description_cleaned</th>\n",
              "      <th>asset_title_cleaned</th>\n",
              "    </tr>\n",
              "  </thead>\n",
              "  <tbody>\n",
              "    <tr>\n",
              "      <th>77</th>\n",
              "      <td>80</td>\n",
              "      <td>this report is based on tcs larger study on di...</td>\n",
              "      <td>tcs cmo study how retailers are digitally pers...</td>\n",
              "      <td>['3a', 'a', 'we', 'on', 'at', 'is', 's', 'do',...</td>\n",
              "      <td>['to']</td>\n",
              "      <td>report based tc larger study digital marketing...</td>\n",
              "      <td>tc cmo study retailer digitally personalizing ...</td>\n",
              "    </tr>\n",
              "    <tr>\n",
              "      <th>78</th>\n",
              "      <td>81</td>\n",
              "      <td>this report on marketers in the travel transpo...</td>\n",
              "      <td>tcs cmo study how travel transportation and ho...</td>\n",
              "      <td>['a', 'we', 'e', 'on', 'is', 's', 'do', 'go', ...</td>\n",
              "      <td>['to']</td>\n",
              "      <td>report marketer travel transportation hospital...</td>\n",
              "      <td>tc cmo study travel transportation hospitality...</td>\n",
              "    </tr>\n",
              "    <tr>\n",
              "      <th>79</th>\n",
              "      <td>83</td>\n",
              "      <td>chief marketing officers have one of the riski...</td>\n",
              "      <td>tcs cmo study stage conversion personalizing c...</td>\n",
              "      <td>['a', 'on', 'at', 'is', 's', 'do', '■', 'vs', ...</td>\n",
              "      <td>['to']</td>\n",
              "      <td>chief marketing officer one riskiest role suit...</td>\n",
              "      <td>tc cmo study stage conversion personalizing co...</td>\n",
              "    </tr>\n",
              "    <tr>\n",
              "      <th>80</th>\n",
              "      <td>84</td>\n",
              "      <td>the rise of the chief medical officer typicall...</td>\n",
              "      <td>employee wellness analysis creating data drive...</td>\n",
              "      <td>['a', 'an', 'on', 'at', 'is', 's', 'up', 'by',...</td>\n",
              "      <td>[]</td>\n",
              "      <td>rise chief medical officer typically business ...</td>\n",
              "      <td>employee wellness analysis creating data drive...</td>\n",
              "    </tr>\n",
              "    <tr>\n",
              "      <th>81</th>\n",
              "      <td>85</td>\n",
              "      <td>abstract as nations around the world deal with...</td>\n",
              "      <td>why the emotional wellbeing of your employees ...</td>\n",
              "      <td>['a', 'we', 'an', 'on', 'is', 's', 'up', 'by',...</td>\n",
              "      <td>['a', 'of', 'be']</td>\n",
              "      <td>abstract nation around world deal managing cov...</td>\n",
              "      <td>emotional wellbeing employee top priority covid</td>\n",
              "    </tr>\n",
              "  </tbody>\n",
              "</table>\n",
              "</div>"
            ],
            "text/plain": [
              "    asset_id  ...                                asset_title_cleaned\n",
              "77        80  ...  tc cmo study retailer digitally personalizing ...\n",
              "78        81  ...  tc cmo study travel transportation hospitality...\n",
              "79        83  ...  tc cmo study stage conversion personalizing co...\n",
              "80        84  ...  employee wellness analysis creating data drive...\n",
              "81        85  ...    emotional wellbeing employee top priority covid\n",
              "\n",
              "[5 rows x 7 columns]"
            ]
          },
          "metadata": {
            "tags": []
          },
          "execution_count": 7
        }
      ]
    },
    {
      "cell_type": "code",
      "metadata": {
        "id": "2Fhi8SUaK61j"
      },
      "source": [
        "title_list = df['asset_title'].tolist()"
      ],
      "execution_count": null,
      "outputs": []
    },
    {
      "cell_type": "code",
      "metadata": {
        "colab": {
          "base_uri": "https://localhost:8080/"
        },
        "id": "zcms_KoGLKvR",
        "outputId": "4efb0ec6-7eab-485a-b110-ecdb1a46c3d1"
      },
      "source": [
        "len(title_list)"
      ],
      "execution_count": null,
      "outputs": [
        {
          "output_type": "execute_result",
          "data": {
            "text/plain": [
              "82"
            ]
          },
          "metadata": {
            "tags": []
          },
          "execution_count": 9
        }
      ]
    },
    {
      "cell_type": "markdown",
      "metadata": {
        "id": "MkQaYeYNLMxX"
      },
      "source": [
        "### Prediction"
      ]
    },
    {
      "cell_type": "code",
      "metadata": {
        "colab": {
          "base_uri": "https://localhost:8080/"
        },
        "id": "8TEptMF8RlY9",
        "outputId": "2d1ef91e-87f9-4803-c8df-7ab184067311"
      },
      "source": [
        "title = title_list[81]\n",
        "print(title)"
      ],
      "execution_count": null,
      "outputs": [
        {
          "output_type": "stream",
          "text": [
            "why the emotional wellbeing of your employees should be a top priority during covid\n"
          ],
          "name": "stdout"
        }
      ]
    },
    {
      "cell_type": "code",
      "metadata": {
        "colab": {
          "base_uri": "https://localhost:8080/"
        },
        "id": "vm7I27Vpsts4",
        "outputId": "11ec38aa-7473-48a2-cf42-bfdadd1f6658"
      },
      "source": [
        "print(title_list)"
      ],
      "execution_count": null,
      "outputs": [
        {
          "output_type": "stream",
          "text": [
            "['the ascent of the smarter faster lighter enterprise', 'agile s day has truly arrived', 'riding the cognitive wave', 'using iot data to understand how your products perform', 'the view inside our take on the customer experience revolution', 'smarter decisions how smart companies get more value from analytics', 'case study why artificial intelligence is a big part of ap s future', 'banking and financial services analytics for competitive advantage', 'how to keep your customer journey from passing its sell by date', 'accelerated change getting faster at implementing enterprise systems', 'winning today s talent race how to identify develop and retain talent better than your rivals', 'forget everything you know about bricks and clicks', 'how microsoft uses machine learning to handle workloads that humans cannot', 'when cx should begin with tweaks not disruption', 'retail understanding your customer performance faster', 'the seven deadly myths of today s b2b sell', 'personalization boundaries tuning in to customers without turning them off', 'designing for the small silver screen', 'how iot technologies are revamping the post sale experience', 'reimagining the contact center with digital technologies', 'life sciences strategy for faster acquisition and integration', 'why your cx must soon plug and play into a digital ecosystem', 'what comes after cxm helping customers help other customers', 'the sure but winding road to the cloud', 'how the ceo can propel a cx initiative', 'training for the m a marathon', 'cloudera the mind of the new machine', 'manufacturing how to lighten up business models', 'students for life why executives must continually update their wisdom', 'embracing agility means agility by the business for the business', 'how to make location independent agile work', 'the view inside technologies collide and industries transform', 'enterprise agility pushing innovation to the edge of the organization', 'effective leadership of agile organizations building a culture of servant leadership', 'how retail ceos can drive agile to grow their business', 'fending off the fintechs how agile financial services firms are transforming their businesses', 'why your agile team is better off dispersed the case for location independent agile', 'where to turn ai and automation loose in your company', 'why your products must be smart and connected', 'now you can simulate nearly anything', 'the magic that happens when manufacturers digitally attach themselves to their products', 'what happens when you turn your products into services', 'why agile software development requires radical changes in budgeting and scoping', 'raising your iot security game', 'executive traits for recognizing the bountiful opportunities ahead', 'changing culture in a time of accelerating market change interview with vijay govindarajan', 'analytics a still emerging business frontier interview with prabhudev konana', 'attacking uncertainty interview with ram charan', 'the four core competencies of cx', 'using iot technologies to completely rethink the customer experience interview with ric merrifield', 'increasing speed in the digital era interview with jeanne ross', 'from making autos to making software the evolution of lean and agile interview with dr michael cusumano', 'the tall task of getting big companies and government to innovate like lean startups interview with steve blank', 'the big opportunities at the junction of ai and analytics interview with tom davenport', 'digital data s greatest opportunities', 'how the digital renovators are racing ahead', 'digital transformation should start with the customer experience', 'taking a machine first approach to digital transformation', 'immense digital power on demand shifting to the brave new world of cloud computing', 'operating in an insight driven world mastering the new game of analytics', 'm a in the era of business', 'back from the future how finance leaders can drive transformation', 'an agile manifesto for the board', 'creating game changing insights from an abundance of data', 'unleashing business value in a business world', 'digital transformation and the new breed of enterprise systems', 'how intelligent automation is rewriting the rules of customer service', 'design thinking + technology = superior customer experiences', 'how blockchain is poised to revolutionize digital customer experience', 'for companies today the question is not whether to move to the cloud but how', 'how the cloud empowers digital transformation', 'proactive protection how companies can secure customer data in a hyper connected world', 'translating ideas for iot initiatives into dollars and cents', 'how quality engineering enables customer experience transformations', 'tcs cmo study executive summary', 'the tcs cmo study initial findings', 'tcs cmo study stage awareness attracting the digitally distracted prospect', 'tcs cmo study how retailers are digitally personalizing content to create market awareness', 'tcs cmo study how travel transportation and hospitality companies are digitally personalizing content to create market awareness', 'tcs cmo study stage conversion personalizing content to turn prospects into customers', 'employee wellness analysis creating data driven hr policies that help save lives', 'why the emotional wellbeing of your employees should be a top priority during covid']\n"
          ],
          "name": "stdout"
        }
      ]
    },
    {
      "cell_type": "code",
      "metadata": {
        "colab": {
          "base_uri": "https://localhost:8080/"
        },
        "id": "NreE1qh2LPPt",
        "outputId": "14bd2051-1f03-4de5-94c2-4edd46780cee"
      },
      "source": [
        "print(\"Recommendation Using TFIDF\")\n",
        "get_recommendations_test(title,3)"
      ],
      "execution_count": null,
      "outputs": [
        {
          "output_type": "stream",
          "text": [
            "Recommendation Using TFIDF\n",
            "desc weight factor 1\n",
            "title weight factor  0\n",
            "1th recommendation  asset_id 84 Recommending Percentage : 35.24% asset_title employee wellness analysis creating data driven hr policies that help save lives\n",
            "\n",
            "2th recommendation  asset_id 11 Recommending Percentage : 21.05% asset_title winning today s talent race how to identify develop and retain talent better than your rivals\n",
            "\n",
            "3th recommendation  asset_id 59 Recommending Percentage : 17.44% asset_title taking a machine first approach to digital transformation\n",
            "\n"
          ],
          "name": "stdout"
        },
        {
          "output_type": "execute_result",
          "data": {
            "text/plain": [
              "{'1 recommendation': 'Asset_ID:84 Recommending Percentage:35.24  Asset Title:employee wellness analysis creating data driven hr policies that help save lives',\n",
              " '2 recommendation': 'Asset_ID:11 Recommending Percentage:21.05  Asset Title:winning today s talent race how to identify develop and retain talent better than your rivals',\n",
              " '3 recommendation': 'Asset_ID:59 Recommending Percentage:17.44  Asset Title:taking a machine first approach to digital transformation'}"
            ]
          },
          "metadata": {
            "tags": []
          },
          "execution_count": 11
        }
      ]
    },
    {
      "cell_type": "code",
      "metadata": {
        "colab": {
          "base_uri": "https://localhost:8080/"
        },
        "id": "SJFDOJwlLTff",
        "outputId": "e9036ca3-3588-41c1-bc09-7c921e70bb21"
      },
      "source": [
        "print(\"Recommendation Using Word2Vec\")\n",
        "get_recommendations_test_w2v(title,3)"
      ],
      "execution_count": null,
      "outputs": [
        {
          "output_type": "stream",
          "text": [
            "Recommendation Using Word2Vec\n",
            "desc weight factor 1\n",
            "title weight factor  0\n",
            "1th recommendation  asset_id 84 Recommending Percentage : 86.54% asset_title employee wellness analysis creating data driven hr policies that help save lives\n",
            "\n",
            "2th recommendation  asset_id 11 Recommending Percentage : 82.84% asset_title winning today s talent race how to identify develop and retain talent better than your rivals\n",
            "\n",
            "3th recommendation  asset_id 49 Recommending Percentage : 75.02% asset_title the four core competencies of cx\n",
            "\n"
          ],
          "name": "stdout"
        },
        {
          "output_type": "execute_result",
          "data": {
            "text/plain": [
              "{'1 recommendation': 'Asset_ID:84 Recommending Percentage:86.54  Asset Title:employee wellness analysis creating data driven hr policies that help save lives',\n",
              " '2 recommendation': 'Asset_ID:11 Recommending Percentage:82.84  Asset Title:winning today s talent race how to identify develop and retain talent better than your rivals',\n",
              " '3 recommendation': 'Asset_ID:49 Recommending Percentage:75.02  Asset Title:the four core competencies of cx'}"
            ]
          },
          "metadata": {
            "tags": []
          },
          "execution_count": 12
        }
      ]
    },
    {
      "cell_type": "code",
      "metadata": {
        "colab": {
          "base_uri": "https://localhost:8080/"
        },
        "id": "fFgCiWFqLXmB",
        "outputId": "b28710ef-edca-4d48-d79a-8392c2dc586c"
      },
      "source": [
        "print(\"Recommendation Using Glove\")\n",
        "get_recommendations_test_glove(title,3)"
      ],
      "execution_count": null,
      "outputs": [
        {
          "output_type": "stream",
          "text": [
            "Recommendation Using Glove\n",
            "desc weight factor 1\n",
            "title weight factor  0\n",
            "1th recommendation  asset_id 71 Recommending Percentage : 98.29% asset_title how blockchain is poised to revolutionize digital customer experience\n",
            "\n",
            "2th recommendation  asset_id 33 Recommending Percentage : 97.89% asset_title enterprise agility pushing innovation to the edge of the organization\n",
            "\n",
            "3th recommendation  asset_id 11 Recommending Percentage : 97.79% asset_title winning today s talent race how to identify develop and retain talent better than your rivals\n",
            "\n"
          ],
          "name": "stdout"
        },
        {
          "output_type": "execute_result",
          "data": {
            "text/plain": [
              "{'1 recommendation': 'Asset_ID:71 Recommending Percentage:98.29  Asset Title:how blockchain is poised to revolutionize digital customer experience',\n",
              " '2 recommendation': 'Asset_ID:33 Recommending Percentage:97.89  Asset Title:enterprise agility pushing innovation to the edge of the organization',\n",
              " '3 recommendation': 'Asset_ID:11 Recommending Percentage:97.79  Asset Title:winning today s talent race how to identify develop and retain talent better than your rivals'}"
            ]
          },
          "metadata": {
            "tags": []
          },
          "execution_count": 13
        }
      ]
    },
    {
      "cell_type": "code",
      "metadata": {
        "id": "zAZSQz9nLa4X"
      },
      "source": [
        ""
      ],
      "execution_count": null,
      "outputs": []
    },
    {
      "cell_type": "markdown",
      "metadata": {
        "id": "LEarz87yLfqY"
      },
      "source": [
        "# User Preference/Search Based"
      ]
    },
    {
      "cell_type": "markdown",
      "metadata": {
        "id": "3rDU8fF0MVLW"
      },
      "source": [
        "## Imports"
      ]
    },
    {
      "cell_type": "code",
      "metadata": {
        "colab": {
          "base_uri": "https://localhost:8080/"
        },
        "id": "zTFwU2AAMX_b",
        "outputId": "2f3f019a-a622-4f71-c8d5-d67ef8d25a2a"
      },
      "source": [
        "import nltk\n",
        "nltk.download('wordnet') \n",
        "from nltk.stem.wordnet import WordNetLemmatizer\n",
        "from sklearn.metrics.pairwise import cosine_similarity"
      ],
      "execution_count": null,
      "outputs": [
        {
          "output_type": "stream",
          "text": [
            "[nltk_data] Downloading package wordnet to /root/nltk_data...\n",
            "[nltk_data]   Unzipping corpora/wordnet.zip.\n"
          ],
          "name": "stdout"
        }
      ]
    },
    {
      "cell_type": "markdown",
      "metadata": {
        "id": "_NOyOzTXLvDm"
      },
      "source": [
        "## Query Input And Processing"
      ]
    },
    {
      "cell_type": "code",
      "metadata": {
        "id": "Zba4ROD2Lmaf"
      },
      "source": [
        "preference  = [\n",
        " ['Machine Learning','Classification','Regression','ML','Artificial Intelligence','Deep Learning'],\n",
        " ['Neural Models' , 'Neural Network','CNN', 'Classification','Artificial Intelligence','Deep Learning','Convolution','AI','NLP'],\n",
        " ['Clustering & Word/Sentence Embeddings','Embeddings','Glove','Pretrained Embeddings','Clustering','Clusters'],\n",
        " ['Topic Models','Topic','Clusters','Keywords'],\n",
        " ['Language Modelling','Language Modeling','Natural Language','Language','Generation','NLP','Processing'],\n",
        " ['Segmentation','Detection','Partition','Tagging','Tags','Parsing','Parser','Object'],\n",
        " ['Sequential Labeling & Information Extraction','Labeling','Sequence','Label'],\n",
        " ['Machine Translation & Transliteration, Sequence-to-Sequence Models','Translation','Sequence','RNN','Recurrent','Neural', 'Network'],\n",
        " ['Automatic Text Summarization','Text','Summary'],\n",
        " ['Question Answering and Machine Comprehension','Question','Answering','Sequence','Model'],\n",
        " ['Generation, Reinforcement Learning','Machine Learning','Unsupervised']\n",
        "\n",
        "]"
      ],
      "execution_count": null,
      "outputs": []
    },
    {
      "cell_type": "code",
      "metadata": {
        "id": "uplHjM47LmRN"
      },
      "source": [
        "for i in range(len(preference)):\n",
        "    for j in range(len(preference[i])):\n",
        "        preference[i][j]= preference[i][j].lower()\n"
      ],
      "execution_count": null,
      "outputs": []
    },
    {
      "cell_type": "code",
      "metadata": {
        "colab": {
          "base_uri": "https://localhost:8080/"
        },
        "id": "Rrx7BB5rLmGX",
        "outputId": "03eb3b6b-683e-482e-e143-a2132c3754ab"
      },
      "source": [
        "query = input(\"Enter the query: \\n\")"
      ],
      "execution_count": null,
      "outputs": [
        {
          "output_type": "stream",
          "text": [
            "Enter the query: \n",
            "employee wellness analysis creating data driven hr policies that help save lives\n"
          ],
          "name": "stdout"
        }
      ]
    },
    {
      "cell_type": "code",
      "metadata": {
        "colab": {
          "base_uri": "https://localhost:8080/"
        },
        "id": "VcubcgdhLk4Z",
        "outputId": "5c33ffd7-0e26-43d0-b2f8-3c4ce17acc89"
      },
      "source": [
        "n = input(\"Enter number of recommendations you want: \\n\")"
      ],
      "execution_count": null,
      "outputs": [
        {
          "output_type": "stream",
          "text": [
            "Enter number of recommendations you want: \n",
            "5\n"
          ],
          "name": "stdout"
        }
      ]
    },
    {
      "cell_type": "code",
      "metadata": {
        "id": "fJhbrYwqMF6r"
      },
      "source": [
        "def process_query_test(query,flag,backend_list=preference):\n",
        "    # flag 1 to backend append else 0\n",
        "    query = query.lower()\n",
        "    if flag == 0:\n",
        "        return query\n",
        "    elif flag == 1:\n",
        "        out_query = [query]\n",
        "        for i in range(len(backend_list)):\n",
        "            if query in backend_list[i]:\n",
        "                for j in range(len(backend_list[i])):\n",
        "                    out_query.append(backend_list[i][j])\n",
        "        user_preference_list = list(set(out_query))\n",
        "        #Lemmatisation\n",
        "        text = []\n",
        "        lem = WordNetLemmatizer()\n",
        "        for word in user_preference_list:\n",
        "            for w in word.split(\" \"):\n",
        "                text.append(lem.lemmatize(w)) \n",
        "        ui_query = ' '.join(text)\n",
        "        return ui_query\n",
        "\n"
      ],
      "execution_count": null,
      "outputs": []
    },
    {
      "cell_type": "code",
      "metadata": {
        "id": "Vt3_QJ_7MKYn"
      },
      "source": [
        "result_query = process_query_test(query,1)"
      ],
      "execution_count": null,
      "outputs": []
    },
    {
      "cell_type": "code",
      "metadata": {
        "colab": {
          "base_uri": "https://localhost:8080/"
        },
        "id": "px_UhiuiMNMx",
        "outputId": "ff609a09-7ddd-491d-84cf-f41fa4a7562d"
      },
      "source": [
        "print(result_query)"
      ],
      "execution_count": null,
      "outputs": [
        {
          "output_type": "stream",
          "text": [
            "employee wellness analysis creating data driven hr policy that help save life\n"
          ],
          "name": "stdout"
        }
      ]
    },
    {
      "cell_type": "markdown",
      "metadata": {
        "id": "JM3vpdIbMwdq"
      },
      "source": [
        "## Recommendation"
      ]
    },
    {
      "cell_type": "code",
      "metadata": {
        "id": "5psCU3OaMiTA"
      },
      "source": [
        "# # Function that takes in asset title as input and outputs most similar asset\n",
        "def get_query_recommendations_test(result_query,n,d=1,t=0):\n",
        "    \n",
        "    \n",
        "    #READING ASSET CSV DATAFRAME PICKLE FILE\n",
        "    asset = pd.read_pickle(\"/content/drive/MyDrive/Content_Recommendation/recommendation_v3.pkl\")\n",
        "    \n",
        "    \n",
        "    #MODEL\n",
        "    test_set = []\n",
        "    test_set.append(result_query)       \n",
        "\n",
        "    \n",
        "    #load the content\n",
        "    tfidf_desc_loaded = pickle.load(open(\"/content/drive/MyDrive/Content_Recommendation/tfidf_desc.pkl\", \"rb\" ) )\n",
        "    tfidf_title_loaded = pickle.load(open(\"/content/drive/MyDrive/Content_Recommendation/tfidf_title.pkl\", \"rb\" ) )\n",
        "\n",
        "    tfidf_matrix_desc_loaded = pickle.load(open(\"/content/drive/MyDrive/Content_Recommendation/tfidf_matrix_desc.pkl\", \"rb\" ) )\n",
        "    tfidf_matrix_title_loaded = pickle.load(open(\"/content/drive/MyDrive/Content_Recommendation/tfidf_matrix_title.pkl\", \"rb\" ) )\n",
        "    \n",
        "    # Transform Test Query to Vectorizer\n",
        "\n",
        "    tfidf_matrix_ui_desc = tfidf_desc_loaded.transform(test_set)\n",
        "    tfidf_matrix_ui_title = tfidf_title_loaded.transform(test_set)\n",
        "\n",
        "    # Compute the cosine similarity matrix\n",
        "    cosine_sim_ui_desc = cosine_similarity(tfidf_matrix_ui_desc, tfidf_matrix_desc_loaded).flatten()\n",
        "    cosine_sim_ui_title = cosine_similarity(tfidf_matrix_ui_title, tfidf_matrix_title_loaded).flatten()\n",
        "\n",
        "    # Implementing weightage calculation\n",
        "    print(\"desc weight factor\",d)\n",
        "    print(\"title weight factor \",t)\n",
        "\n",
        "    cosine_sim_ui =  ((t * cosine_sim_ui_title) + (d * cosine_sim_ui_desc))/(d+t)\n",
        "    \n",
        "    #find the top 3 related articles, we can use argsort and some negative array slicing (most related articles have highest cosine similarity values, hence at the end of the sorted indices array)\n",
        " \n",
        "    related_docs_indices = cosine_sim_ui.argsort()[:-n-1:-1]\n",
        "    \n",
        "    index_in_asset = list(related_docs_indices[0:])\n",
        "    sim_percentage = [\"{:.2f}\".format(cosine_sim_ui[i]*100) for i in index_in_asset]\n",
        "    print(index_in_asset)\n",
        "    recommendation  = {}\n",
        "    for i in range(len(index_in_asset)):\n",
        "        recommendation[i+1] =  \"Asset_ID:\"+str(asset['asset_id'][index_in_asset[i]]) + \" Recommending Percentage:\"+str(sim_percentage[i])+ \" %  Asset Title:\" + str(asset['asset_title'][index_in_asset[i]])\n",
        "        print(str(i+1) + \"th recommendation \" + \" asset_id \" + str(asset['asset_id'][index_in_asset[i]]) + \" Recommending Percentage:\"+str(sim_percentage[i]) + \" asset_title \" + str(asset['asset_title'][index_in_asset[i]])+\"\\n\")\n",
        "    return recommendation\n",
        "    "
      ],
      "execution_count": null,
      "outputs": []
    },
    {
      "cell_type": "code",
      "metadata": {
        "colab": {
          "base_uri": "https://localhost:8080/"
        },
        "id": "NPbBHFdIM5OB",
        "outputId": "ed94ec8b-e6f0-4d5b-ee7e-bca925408ddd"
      },
      "source": [
        "get_query_recommendations_test(result_query,int(n),t=0.2)"
      ],
      "execution_count": null,
      "outputs": [
        {
          "output_type": "stream",
          "text": [
            "desc weight factor 1\n",
            "title weight factor  0.2\n",
            "[80, 10, 63, 54, 59]\n",
            "1th recommendation  asset_id 84 Recommending Percentage:43.01 asset_title employee wellness analysis creating data driven hr policies that help save lives\n",
            "\n",
            "2th recommendation  asset_id 11 Recommending Percentage:14.63 asset_title winning today s talent race how to identify develop and retain talent better than your rivals\n",
            "\n",
            "3th recommendation  asset_id 66 Recommending Percentage:13.61 asset_title creating game changing insights from an abundance of data\n",
            "\n",
            "4th recommendation  asset_id 55 Recommending Percentage:11.81 asset_title digital data s greatest opportunities\n",
            "\n",
            "5th recommendation  asset_id 61 Recommending Percentage:11.40 asset_title operating in an insight driven world mastering the new game of analytics\n",
            "\n"
          ],
          "name": "stdout"
        },
        {
          "output_type": "execute_result",
          "data": {
            "text/plain": [
              "{1: 'Asset_ID:84 Recommending Percentage:43.01 %  Asset Title:employee wellness analysis creating data driven hr policies that help save lives',\n",
              " 2: 'Asset_ID:11 Recommending Percentage:14.63 %  Asset Title:winning today s talent race how to identify develop and retain talent better than your rivals',\n",
              " 3: 'Asset_ID:66 Recommending Percentage:13.61 %  Asset Title:creating game changing insights from an abundance of data',\n",
              " 4: 'Asset_ID:55 Recommending Percentage:11.81 %  Asset Title:digital data s greatest opportunities',\n",
              " 5: 'Asset_ID:61 Recommending Percentage:11.40 %  Asset Title:operating in an insight driven world mastering the new game of analytics'}"
            ]
          },
          "metadata": {
            "tags": []
          },
          "execution_count": 45
        }
      ]
    },
    {
      "cell_type": "code",
      "metadata": {
        "id": "v_9vD44RM8XY"
      },
      "source": [
        ""
      ],
      "execution_count": null,
      "outputs": []
    },
    {
      "cell_type": "markdown",
      "metadata": {
        "id": "Cmz5uIzENY2S"
      },
      "source": [
        "# Similarity Matrices Dataframe"
      ]
    },
    {
      "cell_type": "code",
      "metadata": {
        "id": "4AGqe95JNfsi"
      },
      "source": [
        "# TFIDF\n",
        "sim_desc_tf = pickle.load(open(\"/content/drive/MyDrive/Content_Recommendation/cosine_sim_desc.pkl\", \"rb\" ) )\n",
        "sim_title_tf = pickle.load(open(\"/content/drive/MyDrive/Content_Recommendation/cosine_sim_title.pkl\", \"rb\" ) )\n"
      ],
      "execution_count": null,
      "outputs": []
    },
    {
      "cell_type": "code",
      "metadata": {
        "id": "DanrObmUNyk7"
      },
      "source": [
        "# Word2Vec\n",
        "sim_desc_w2v = pickle.load(open(\"/content/drive/MyDrive/Content_Recommendation/cosine_sim_desc_w2v.pkl\", \"rb\" ) )\n",
        "sim_title_w2v = pickle.load(open(\"/content/drive/MyDrive/Content_Recommendation/cosine_sim_title_w2v.pkl\", \"rb\" ) )\n"
      ],
      "execution_count": null,
      "outputs": []
    },
    {
      "cell_type": "code",
      "metadata": {
        "id": "NHz1mvWvN0oy"
      },
      "source": [
        "# Glove\n",
        "sim_desc_g = pickle.load(open(\"/content/drive/MyDrive/Content_Recommendation/cosine_sim_desc_g.pkl\", \"rb\" ) )\n",
        "sim_title_g = pickle.load(open(\"/content/drive/MyDrive/Content_Recommendation/cosine_sim_title_g.pkl\", \"rb\" ) )\n",
        "\n"
      ],
      "execution_count": null,
      "outputs": []
    },
    {
      "cell_type": "code",
      "metadata": {
        "colab": {
          "base_uri": "https://localhost:8080/",
          "height": 143
        },
        "id": "Hr42SsG4OG05",
        "outputId": "de9ca0e7-1bfd-4669-ff8f-766dc2e282b3"
      },
      "source": [
        "# import pandas as pd \n",
        "import pandas as pd \n",
        "\t\n",
        "# List1 \n",
        "lst = [['TFIDF', sim_desc_tf ,sim_title_tf], \n",
        "       ['Word2Vec', sim_desc_w2v ,sim_title_w2v ], \n",
        "\t   ['Glove', sim_desc_g , sim_title_g]] \n",
        "\t\n",
        "model = pd.DataFrame(lst, columns =['Model Name', 'DescSimMat','TitleSimMat']) \n",
        "model \n"
      ],
      "execution_count": null,
      "outputs": [
        {
          "output_type": "execute_result",
          "data": {
            "text/html": [
              "<div>\n",
              "<style scoped>\n",
              "    .dataframe tbody tr th:only-of-type {\n",
              "        vertical-align: middle;\n",
              "    }\n",
              "\n",
              "    .dataframe tbody tr th {\n",
              "        vertical-align: top;\n",
              "    }\n",
              "\n",
              "    .dataframe thead th {\n",
              "        text-align: right;\n",
              "    }\n",
              "</style>\n",
              "<table border=\"1\" class=\"dataframe\">\n",
              "  <thead>\n",
              "    <tr style=\"text-align: right;\">\n",
              "      <th></th>\n",
              "      <th>Model Name</th>\n",
              "      <th>DescSimMat</th>\n",
              "      <th>TitleSimMat</th>\n",
              "    </tr>\n",
              "  </thead>\n",
              "  <tbody>\n",
              "    <tr>\n",
              "      <th>0</th>\n",
              "      <td>TFIDF</td>\n",
              "      <td>[[0.9999999999999991, 0.24888037733891133, 0.2...</td>\n",
              "      <td>[[1.0, 0.0, 0.0, 0.0, 0.0, 0.1731098895605775,...</td>\n",
              "    </tr>\n",
              "    <tr>\n",
              "      <th>1</th>\n",
              "      <td>Word2Vec</td>\n",
              "      <td>[[1.0000000000000007, 0.6573022239799645, 0.77...</td>\n",
              "      <td>[[1.0, 0.23631858853676294, 0.7253725635694204...</td>\n",
              "    </tr>\n",
              "    <tr>\n",
              "      <th>2</th>\n",
              "      <td>Glove</td>\n",
              "      <td>[[1.0, 0.9867302500273822, 0.983062224536781, ...</td>\n",
              "      <td>[[1.0000000000000004, 0.5924918771221529, 0.43...</td>\n",
              "    </tr>\n",
              "  </tbody>\n",
              "</table>\n",
              "</div>"
            ],
            "text/plain": [
              "  Model Name  ...                                        TitleSimMat\n",
              "0      TFIDF  ...  [[1.0, 0.0, 0.0, 0.0, 0.0, 0.1731098895605775,...\n",
              "1   Word2Vec  ...  [[1.0, 0.23631858853676294, 0.7253725635694204...\n",
              "2      Glove  ...  [[1.0000000000000004, 0.5924918771221529, 0.43...\n",
              "\n",
              "[3 rows x 3 columns]"
            ]
          },
          "metadata": {
            "tags": []
          },
          "execution_count": 31
        }
      ]
    },
    {
      "cell_type": "code",
      "metadata": {
        "id": "nNr5t19GP5XV"
      },
      "source": [
        "model.to_csv(\"/content/drive/MyDrive/Content_Recommendation/LastContentSimilarityMatrix.csv\",index=False)"
      ],
      "execution_count": null,
      "outputs": []
    },
    {
      "cell_type": "code",
      "metadata": {
        "id": "SThYemFVQOcf"
      },
      "source": [
        ""
      ],
      "execution_count": null,
      "outputs": []
    }
  ]
}