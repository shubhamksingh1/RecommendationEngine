{
  "nbformat": 4,
  "nbformat_minor": 0,
  "metadata": {
    "colab": {
      "name": "Test_Collaborative_Recommendation_Perspective.ipynb",
      "provenance": [],
      "collapsed_sections": [
        "Rg4nFIYwNDZk",
        "DqzsCFpCNhic",
        "noIr2gYFPC1B"
      ],
      "toc_visible": true,
      "mount_file_id": "1e0ruYCMFyiTxsVFre2tWc6gNn5apFM8o",
      "authorship_tag": "ABX9TyOtb8Z+lgvFIZa1BFvsCPgw",
      "include_colab_link": true
    },
    "kernelspec": {
      "name": "python3",
      "display_name": "Python 3"
    }
  },
  "cells": [
    {
      "cell_type": "markdown",
      "metadata": {
        "id": "view-in-github",
        "colab_type": "text"
      },
      "source": [
        "<a href=\"https://colab.research.google.com/github/shubhamksingh1/RecommendationEngine/blob/main/CollaborativeFiltering/Perspective/Test_Collaborative_Recommendation_Perspective_Keras_KNN.ipynb\" target=\"_parent\"><img src=\"https://colab.research.google.com/assets/colab-badge.svg\" alt=\"Open In Colab\"/></a>"
      ]
    },
    {
      "cell_type": "markdown",
      "metadata": {
        "id": "Rg4nFIYwNDZk"
      },
      "source": [
        "# Import"
      ]
    },
    {
      "cell_type": "code",
      "metadata": {
        "id": "tYRaXfjuM9cR"
      },
      "source": [
        "import pickle\n",
        "import pandas as pd\n",
        "from keras.models import load_model \n",
        "import numpy as np"
      ],
      "execution_count": null,
      "outputs": []
    },
    {
      "cell_type": "markdown",
      "metadata": {
        "id": "DqzsCFpCNhic"
      },
      "source": [
        "# KNN MATRIX FACTORIZATION"
      ]
    },
    {
      "cell_type": "markdown",
      "metadata": {
        "id": "zd9VR2NiNyD9"
      },
      "source": [
        "## Read Files"
      ]
    },
    {
      "cell_type": "code",
      "metadata": {
        "id": "r1z5aPJeMvVt"
      },
      "source": [
        "df = pd.read_pickle(\"/content/drive/MyDrive/Collaborative_Recommendation/MatrixFactorization/rating_without_zero_v1.pkl\")\n",
        "\n",
        "model_knn = pickle.load(open(\"/content/drive/MyDrive/Collaborative_Recommendation/MatrixFactorization/model_knn.pkl\", \"rb\" ) )\n",
        "\n",
        "df_matrix = pickle.load(open(\"/content/drive/MyDrive/Collaborative_Recommendation/MatrixFactorization/uid_asset_mat.pkl\", \"rb\" ) )\n",
        "df2 = pd.read_pickle(\"/content/drive/MyDrive/Collaborative_Recommendation/MatrixFactorization/user_mean_rating.pkl\")\n",
        "\n",
        "inddict = pickle.load(open(\"/content/drive/MyDrive/Collaborative_Recommendation/MatrixFactorization/inddict.pkl\", \"rb\" ) )\n",
        "\n",
        "ds = pd.read_pickle(\"/content/drive/MyDrive/Collaborative_Recommendation/MatrixFactorization/recommendation_v4.pkl\")"
      ],
      "execution_count": null,
      "outputs": []
    },
    {
      "cell_type": "markdown",
      "metadata": {
        "id": "hrgpQ0ioN15u"
      },
      "source": [
        "## Function Definition"
      ]
    },
    {
      "cell_type": "code",
      "metadata": {
        "id": "-aMX5WvWN0xq"
      },
      "source": [
        "def find_similar_users(index):\n",
        "    distances, indices = model_knn.kneighbors(df_matrix.iloc[index, :].values.reshape(1, -1), n_neighbors = 21)\n",
        "    similarities = 1 - distances.flatten() #Converting to 1-Dimention and increasing score for nearer users\n",
        "    \n",
        "    return similarities, indices"
      ],
      "execution_count": null,
      "outputs": []
    },
    {
      "cell_type": "code",
      "metadata": {
        "id": "8-NWl8ybOAFm"
      },
      "source": [
        "def predict_rating(user_id, asset_id):\n",
        "    unique_users = list(set(df['uid'].values))\n",
        "    user_index = unique_users.index(user_id)\n",
        "    unique_assets = list(set(df['asset_id'].values))\n",
        "    asset_index = unique_assets.index(asset_id)\n",
        "    similarities, indices = find_similar_users(user_index)\n",
        "    mean_rating = df2['Mean_Rating'][user_index]\n",
        "    #mean_rating = df_matrix.iloc[user_index,:].mean()\n",
        "    sum_wt = np.sum(similarities) - 1\n",
        "    weighted_sum = 0\n",
        "    prediction = 0\n",
        "    for i in range(0, len(indices.flatten())):\n",
        "        if indices.flatten()[i] == user_index:\n",
        "            continue;\n",
        "        elif (df_matrix.iloc[indices.flatten()[i],asset_index]) != 0:\n",
        "            j = indices.flatten()[i] \n",
        "            ratings_diff = df_matrix.iloc[j, asset_index] - df2['Mean_Rating'][j]#np.mean(df_matrix.iloc[indices.flatten()[i],:])\n",
        "            product = ratings_diff * (similarities[i])\n",
        "            weighted_sum = weighted_sum + product\n",
        "    prediction = mean_rating + (weighted_sum/sum_wt)\n",
        "    \n",
        "    return prediction"
      ],
      "execution_count": null,
      "outputs": []
    },
    {
      "cell_type": "code",
      "metadata": {
        "id": "_IIsyWqyOEBE"
      },
      "source": [
        "def get_recommendations(user_id, n):\n",
        "    n = n + 1\n",
        "    assets = []\n",
        "    ratings = []\n",
        "    unique_assets = list(set(df['asset_id'].values))\n",
        "    asset_rated_by_user = df.loc[df['uid'] == user_id, 'asset_id'] # Assets of which user 'user_id' already rated\n",
        "    if len(asset_rated_by_user) >= 3:\n",
        "        assets_to_pred = np.setdiff1d(unique_assets, asset_rated_by_user) # Remove assets that 'user_id' has rated from list of all assets\n",
        "        for i in assets_to_pred:\n",
        "            asset_rating = predict_rating(user_id, i) \n",
        "            ratings.append(asset_rating)\n",
        "        pred_ratings = np.array(ratings)\n",
        "        indices = pred_ratings.argsort()[:-n:-1]\n",
        "        for i in indices:\n",
        "            assets.append(assets_to_pred[i])\n",
        "        iids = [inddict[asset_id] for asset_id in assets]\n",
        "        ds2 = ds.loc[:, ['asset_id', 'asset_title', 'asset_description', 'Domain']]\n",
        "        return ds2.iloc[iids]\n",
        "    else:\n",
        "        return 'User has rated less than 3 articles'\n",
        "    "
      ],
      "execution_count": null,
      "outputs": []
    },
    {
      "cell_type": "markdown",
      "metadata": {
        "id": "4NRiHePXOJ2q"
      },
      "source": [
        "## Get Recommendations"
      ]
    },
    {
      "cell_type": "markdown",
      "metadata": {
        "id": "vCbrvkwkORbc"
      },
      "source": [
        "Users      Domain\n",
        "*   1 - 12 :CX\n",
        "*   13 - 24 : Agile\n",
        "*   25 - 36 : AI\n",
        "*   37 - 48 : IOT\n",
        "*   49 - 60 : BigData\n",
        "*   61 - 72 : Cloud\n",
        "*   73 - 84 : HR\n",
        "*   85 - 100 : Industry"
      ]
    },
    {
      "cell_type": "code",
      "metadata": {
        "colab": {
          "base_uri": "https://localhost:8080/"
        },
        "id": "FzPM5w6tOI4i",
        "outputId": "1dadec3a-88d2-4a66-ec47-1800bda38bf2"
      },
      "source": [
        "ds.Domain.value_counts()"
      ],
      "execution_count": null,
      "outputs": [
        {
          "output_type": "execute_result",
          "data": {
            "text/plain": [
              "Industry    21\n",
              "CX          19\n",
              "Agile       10\n",
              "AI           8\n",
              "Cloud        7\n",
              "BigData      6\n",
              "IOT          6\n",
              "HR           5\n",
              "Name: Domain, dtype: int64"
            ]
          },
          "metadata": {
            "tags": []
          },
          "execution_count": 6
        }
      ]
    },
    {
      "cell_type": "code",
      "metadata": {
        "colab": {
          "base_uri": "https://localhost:8080/",
          "height": 206
        },
        "id": "E0gfR74DOVqy",
        "outputId": "c2c57006-78d2-4bd7-b146-639a4552d741"
      },
      "source": [
        "get_recommendations(1, 5)"
      ],
      "execution_count": null,
      "outputs": [
        {
          "output_type": "execute_result",
          "data": {
            "text/html": [
              "<div>\n",
              "<style scoped>\n",
              "    .dataframe tbody tr th:only-of-type {\n",
              "        vertical-align: middle;\n",
              "    }\n",
              "\n",
              "    .dataframe tbody tr th {\n",
              "        vertical-align: top;\n",
              "    }\n",
              "\n",
              "    .dataframe thead th {\n",
              "        text-align: right;\n",
              "    }\n",
              "</style>\n",
              "<table border=\"1\" class=\"dataframe\">\n",
              "  <thead>\n",
              "    <tr style=\"text-align: right;\">\n",
              "      <th></th>\n",
              "      <th>asset_id</th>\n",
              "      <th>asset_title</th>\n",
              "      <th>asset_description</th>\n",
              "      <th>Domain</th>\n",
              "    </tr>\n",
              "  </thead>\n",
              "  <tbody>\n",
              "    <tr>\n",
              "      <th>0</th>\n",
              "      <td>1</td>\n",
              "      <td>the ascent of the smarter faster lighter enter...</td>\n",
              "      <td>peter drucker the legendary management scholar...</td>\n",
              "      <td>CX</td>\n",
              "    </tr>\n",
              "    <tr>\n",
              "      <th>13</th>\n",
              "      <td>14</td>\n",
              "      <td>when cx should begin with tweaks not disruption</td>\n",
              "      <td>today s most over used corporate cliché is dis...</td>\n",
              "      <td>CX</td>\n",
              "    </tr>\n",
              "    <tr>\n",
              "      <th>71</th>\n",
              "      <td>74</td>\n",
              "      <td>proactive protection how companies can secure ...</td>\n",
              "      <td>today digital customer experience transformati...</td>\n",
              "      <td>CX</td>\n",
              "    </tr>\n",
              "    <tr>\n",
              "      <th>40</th>\n",
              "      <td>41</td>\n",
              "      <td>the magic that happens when manufacturers digi...</td>\n",
              "      <td>a growing number of manufacturers are digitall...</td>\n",
              "      <td>IOT</td>\n",
              "    </tr>\n",
              "    <tr>\n",
              "      <th>39</th>\n",
              "      <td>40</td>\n",
              "      <td>now you can simulate nearly anything</td>\n",
              "      <td>organizations have long performed what if simu...</td>\n",
              "      <td>Cloud</td>\n",
              "    </tr>\n",
              "  </tbody>\n",
              "</table>\n",
              "</div>"
            ],
            "text/plain": [
              "    asset_id  ... Domain\n",
              "0          1  ...     CX\n",
              "13        14  ...     CX\n",
              "71        74  ...     CX\n",
              "40        41  ...    IOT\n",
              "39        40  ...  Cloud\n",
              "\n",
              "[5 rows x 4 columns]"
            ]
          },
          "metadata": {
            "tags": []
          },
          "execution_count": 7
        }
      ]
    },
    {
      "cell_type": "code",
      "metadata": {
        "colab": {
          "base_uri": "https://localhost:8080/",
          "height": 206
        },
        "id": "KfNUBGr8OYtu",
        "outputId": "b0e8b6f1-fa33-47a1-802f-901f6ff3011a"
      },
      "source": [
        "get_recommendations(14, 5)"
      ],
      "execution_count": null,
      "outputs": [
        {
          "output_type": "execute_result",
          "data": {
            "text/html": [
              "<div>\n",
              "<style scoped>\n",
              "    .dataframe tbody tr th:only-of-type {\n",
              "        vertical-align: middle;\n",
              "    }\n",
              "\n",
              "    .dataframe tbody tr th {\n",
              "        vertical-align: top;\n",
              "    }\n",
              "\n",
              "    .dataframe thead th {\n",
              "        text-align: right;\n",
              "    }\n",
              "</style>\n",
              "<table border=\"1\" class=\"dataframe\">\n",
              "  <thead>\n",
              "    <tr style=\"text-align: right;\">\n",
              "      <th></th>\n",
              "      <th>asset_id</th>\n",
              "      <th>asset_title</th>\n",
              "      <th>asset_description</th>\n",
              "      <th>Domain</th>\n",
              "    </tr>\n",
              "  </thead>\n",
              "  <tbody>\n",
              "    <tr>\n",
              "      <th>62</th>\n",
              "      <td>65</td>\n",
              "      <td>an agile manifesto for the board</td>\n",
              "      <td>it s hard to avoid the term agile these days t...</td>\n",
              "      <td>Agile</td>\n",
              "    </tr>\n",
              "    <tr>\n",
              "      <th>1</th>\n",
              "      <td>2</td>\n",
              "      <td>agile s day has truly arrived</td>\n",
              "      <td>the software development community has been us...</td>\n",
              "      <td>Agile</td>\n",
              "    </tr>\n",
              "    <tr>\n",
              "      <th>81</th>\n",
              "      <td>85</td>\n",
              "      <td>why the emotional wellbeing of your employees ...</td>\n",
              "      <td>abstract as nations around the world deal with...</td>\n",
              "      <td>HR</td>\n",
              "    </tr>\n",
              "    <tr>\n",
              "      <th>25</th>\n",
              "      <td>26</td>\n",
              "      <td>training for the m a marathon</td>\n",
              "      <td>a few years ago two airlines announced a merge...</td>\n",
              "      <td>Industry</td>\n",
              "    </tr>\n",
              "    <tr>\n",
              "      <th>19</th>\n",
              "      <td>20</td>\n",
              "      <td>reimagining the contact center with digital te...</td>\n",
              "      <td>it costs billion per year to field the billion...</td>\n",
              "      <td>CX</td>\n",
              "    </tr>\n",
              "  </tbody>\n",
              "</table>\n",
              "</div>"
            ],
            "text/plain": [
              "    asset_id  ...    Domain\n",
              "62        65  ...     Agile\n",
              "1          2  ...     Agile\n",
              "81        85  ...        HR\n",
              "25        26  ...  Industry\n",
              "19        20  ...        CX\n",
              "\n",
              "[5 rows x 4 columns]"
            ]
          },
          "metadata": {
            "tags": []
          },
          "execution_count": 8
        }
      ]
    },
    {
      "cell_type": "code",
      "metadata": {
        "colab": {
          "base_uri": "https://localhost:8080/",
          "height": 206
        },
        "id": "_JAsrvyPOaZb",
        "outputId": "fd0deba5-9122-4681-f814-deee46f5d482"
      },
      "source": [
        "get_recommendations(28, 5)"
      ],
      "execution_count": null,
      "outputs": [
        {
          "output_type": "execute_result",
          "data": {
            "text/html": [
              "<div>\n",
              "<style scoped>\n",
              "    .dataframe tbody tr th:only-of-type {\n",
              "        vertical-align: middle;\n",
              "    }\n",
              "\n",
              "    .dataframe tbody tr th {\n",
              "        vertical-align: top;\n",
              "    }\n",
              "\n",
              "    .dataframe thead th {\n",
              "        text-align: right;\n",
              "    }\n",
              "</style>\n",
              "<table border=\"1\" class=\"dataframe\">\n",
              "  <thead>\n",
              "    <tr style=\"text-align: right;\">\n",
              "      <th></th>\n",
              "      <th>asset_id</th>\n",
              "      <th>asset_title</th>\n",
              "      <th>asset_description</th>\n",
              "      <th>Domain</th>\n",
              "    </tr>\n",
              "  </thead>\n",
              "  <tbody>\n",
              "    <tr>\n",
              "      <th>57</th>\n",
              "      <td>59</td>\n",
              "      <td>taking a machine first approach to digital tra...</td>\n",
              "      <td>many companies believe they can compete in the...</td>\n",
              "      <td>AI</td>\n",
              "    </tr>\n",
              "    <tr>\n",
              "      <th>66</th>\n",
              "      <td>69</td>\n",
              "      <td>how intelligent automation is rewriting the ru...</td>\n",
              "      <td>customer support has become a key differentiat...</td>\n",
              "      <td>AI</td>\n",
              "    </tr>\n",
              "    <tr>\n",
              "      <th>81</th>\n",
              "      <td>85</td>\n",
              "      <td>why the emotional wellbeing of your employees ...</td>\n",
              "      <td>abstract as nations around the world deal with...</td>\n",
              "      <td>HR</td>\n",
              "    </tr>\n",
              "    <tr>\n",
              "      <th>21</th>\n",
              "      <td>22</td>\n",
              "      <td>why your cx must soon plug and play into a dig...</td>\n",
              "      <td>digital ecosystems increasingly are coalescing...</td>\n",
              "      <td>CX</td>\n",
              "    </tr>\n",
              "    <tr>\n",
              "      <th>23</th>\n",
              "      <td>24</td>\n",
              "      <td>the sure but winding road to the cloud</td>\n",
              "      <td>even for companies that can afford billions of...</td>\n",
              "      <td>Cloud</td>\n",
              "    </tr>\n",
              "  </tbody>\n",
              "</table>\n",
              "</div>"
            ],
            "text/plain": [
              "    asset_id  ... Domain\n",
              "57        59  ...     AI\n",
              "66        69  ...     AI\n",
              "81        85  ...     HR\n",
              "21        22  ...     CX\n",
              "23        24  ...  Cloud\n",
              "\n",
              "[5 rows x 4 columns]"
            ]
          },
          "metadata": {
            "tags": []
          },
          "execution_count": 9
        }
      ]
    },
    {
      "cell_type": "code",
      "metadata": {
        "colab": {
          "base_uri": "https://localhost:8080/",
          "height": 206
        },
        "id": "CIHSo7-zOaEy",
        "outputId": "5533d64c-2e05-41fe-edc7-e3088fdd94d2"
      },
      "source": [
        "get_recommendations(47,5)"
      ],
      "execution_count": null,
      "outputs": [
        {
          "output_type": "execute_result",
          "data": {
            "text/html": [
              "<div>\n",
              "<style scoped>\n",
              "    .dataframe tbody tr th:only-of-type {\n",
              "        vertical-align: middle;\n",
              "    }\n",
              "\n",
              "    .dataframe tbody tr th {\n",
              "        vertical-align: top;\n",
              "    }\n",
              "\n",
              "    .dataframe thead th {\n",
              "        text-align: right;\n",
              "    }\n",
              "</style>\n",
              "<table border=\"1\" class=\"dataframe\">\n",
              "  <thead>\n",
              "    <tr style=\"text-align: right;\">\n",
              "      <th></th>\n",
              "      <th>asset_id</th>\n",
              "      <th>asset_title</th>\n",
              "      <th>asset_description</th>\n",
              "      <th>Domain</th>\n",
              "    </tr>\n",
              "  </thead>\n",
              "  <tbody>\n",
              "    <tr>\n",
              "      <th>3</th>\n",
              "      <td>4</td>\n",
              "      <td>using iot data to understand how your products...</td>\n",
              "      <td>we have all seen some eye bulging numbers in r...</td>\n",
              "      <td>IOT</td>\n",
              "    </tr>\n",
              "    <tr>\n",
              "      <th>81</th>\n",
              "      <td>85</td>\n",
              "      <td>why the emotional wellbeing of your employees ...</td>\n",
              "      <td>abstract as nations around the world deal with...</td>\n",
              "      <td>HR</td>\n",
              "    </tr>\n",
              "    <tr>\n",
              "      <th>29</th>\n",
              "      <td>30</td>\n",
              "      <td>embracing agility means agility by the busines...</td>\n",
              "      <td>the push for agility in software development s...</td>\n",
              "      <td>Agile</td>\n",
              "    </tr>\n",
              "    <tr>\n",
              "      <th>22</th>\n",
              "      <td>23</td>\n",
              "      <td>what comes after cxm helping customers help ot...</td>\n",
              "      <td>thirty years ago large global companies began ...</td>\n",
              "      <td>CX</td>\n",
              "    </tr>\n",
              "    <tr>\n",
              "      <th>23</th>\n",
              "      <td>24</td>\n",
              "      <td>the sure but winding road to the cloud</td>\n",
              "      <td>even for companies that can afford billions of...</td>\n",
              "      <td>Cloud</td>\n",
              "    </tr>\n",
              "  </tbody>\n",
              "</table>\n",
              "</div>"
            ],
            "text/plain": [
              "    asset_id  ... Domain\n",
              "3          4  ...    IOT\n",
              "81        85  ...     HR\n",
              "29        30  ...  Agile\n",
              "22        23  ...     CX\n",
              "23        24  ...  Cloud\n",
              "\n",
              "[5 rows x 4 columns]"
            ]
          },
          "metadata": {
            "tags": []
          },
          "execution_count": 10
        }
      ]
    },
    {
      "cell_type": "code",
      "metadata": {
        "colab": {
          "base_uri": "https://localhost:8080/",
          "height": 206
        },
        "id": "8tApmjlPOZzk",
        "outputId": "fbedb564-f180-4c3e-d867-a222502555a6"
      },
      "source": [
        "get_recommendations(55,5)"
      ],
      "execution_count": null,
      "outputs": [
        {
          "output_type": "execute_result",
          "data": {
            "text/html": [
              "<div>\n",
              "<style scoped>\n",
              "    .dataframe tbody tr th:only-of-type {\n",
              "        vertical-align: middle;\n",
              "    }\n",
              "\n",
              "    .dataframe tbody tr th {\n",
              "        vertical-align: top;\n",
              "    }\n",
              "\n",
              "    .dataframe thead th {\n",
              "        text-align: right;\n",
              "    }\n",
              "</style>\n",
              "<table border=\"1\" class=\"dataframe\">\n",
              "  <thead>\n",
              "    <tr style=\"text-align: right;\">\n",
              "      <th></th>\n",
              "      <th>asset_id</th>\n",
              "      <th>asset_title</th>\n",
              "      <th>asset_description</th>\n",
              "      <th>Domain</th>\n",
              "    </tr>\n",
              "  </thead>\n",
              "  <tbody>\n",
              "    <tr>\n",
              "      <th>54</th>\n",
              "      <td>55</td>\n",
              "      <td>digital data s greatest opportunities</td>\n",
              "      <td>every company today must digitally transform i...</td>\n",
              "      <td>BigData</td>\n",
              "    </tr>\n",
              "    <tr>\n",
              "      <th>81</th>\n",
              "      <td>85</td>\n",
              "      <td>why the emotional wellbeing of your employees ...</td>\n",
              "      <td>abstract as nations around the world deal with...</td>\n",
              "      <td>HR</td>\n",
              "    </tr>\n",
              "    <tr>\n",
              "      <th>29</th>\n",
              "      <td>30</td>\n",
              "      <td>embracing agility means agility by the busines...</td>\n",
              "      <td>the push for agility in software development s...</td>\n",
              "      <td>Agile</td>\n",
              "    </tr>\n",
              "    <tr>\n",
              "      <th>23</th>\n",
              "      <td>24</td>\n",
              "      <td>the sure but winding road to the cloud</td>\n",
              "      <td>even for companies that can afford billions of...</td>\n",
              "      <td>Cloud</td>\n",
              "    </tr>\n",
              "    <tr>\n",
              "      <th>24</th>\n",
              "      <td>25</td>\n",
              "      <td>how the ceo can propel a cx initiative</td>\n",
              "      <td>whether it s a series of tweaks or a wholesale...</td>\n",
              "      <td>CX</td>\n",
              "    </tr>\n",
              "  </tbody>\n",
              "</table>\n",
              "</div>"
            ],
            "text/plain": [
              "    asset_id  ...   Domain\n",
              "54        55  ...  BigData\n",
              "81        85  ...       HR\n",
              "29        30  ...    Agile\n",
              "23        24  ...    Cloud\n",
              "24        25  ...       CX\n",
              "\n",
              "[5 rows x 4 columns]"
            ]
          },
          "metadata": {
            "tags": []
          },
          "execution_count": 11
        }
      ]
    },
    {
      "cell_type": "code",
      "metadata": {
        "colab": {
          "base_uri": "https://localhost:8080/",
          "height": 206
        },
        "id": "TRUKvK0SOZkn",
        "outputId": "9b0fad87-3eb8-4877-f059-70fbf1bf1cb2"
      },
      "source": [
        "get_recommendations(63,5)"
      ],
      "execution_count": null,
      "outputs": [
        {
          "output_type": "execute_result",
          "data": {
            "text/html": [
              "<div>\n",
              "<style scoped>\n",
              "    .dataframe tbody tr th:only-of-type {\n",
              "        vertical-align: middle;\n",
              "    }\n",
              "\n",
              "    .dataframe tbody tr th {\n",
              "        vertical-align: top;\n",
              "    }\n",
              "\n",
              "    .dataframe thead th {\n",
              "        text-align: right;\n",
              "    }\n",
              "</style>\n",
              "<table border=\"1\" class=\"dataframe\">\n",
              "  <thead>\n",
              "    <tr style=\"text-align: right;\">\n",
              "      <th></th>\n",
              "      <th>asset_id</th>\n",
              "      <th>asset_title</th>\n",
              "      <th>asset_description</th>\n",
              "      <th>Domain</th>\n",
              "    </tr>\n",
              "  </thead>\n",
              "  <tbody>\n",
              "    <tr>\n",
              "      <th>23</th>\n",
              "      <td>24</td>\n",
              "      <td>the sure but winding road to the cloud</td>\n",
              "      <td>even for companies that can afford billions of...</td>\n",
              "      <td>Cloud</td>\n",
              "    </tr>\n",
              "    <tr>\n",
              "      <th>81</th>\n",
              "      <td>85</td>\n",
              "      <td>why the emotional wellbeing of your employees ...</td>\n",
              "      <td>abstract as nations around the world deal with...</td>\n",
              "      <td>HR</td>\n",
              "    </tr>\n",
              "    <tr>\n",
              "      <th>29</th>\n",
              "      <td>30</td>\n",
              "      <td>embracing agility means agility by the busines...</td>\n",
              "      <td>the push for agility in software development s...</td>\n",
              "      <td>Agile</td>\n",
              "    </tr>\n",
              "    <tr>\n",
              "      <th>21</th>\n",
              "      <td>22</td>\n",
              "      <td>why your cx must soon plug and play into a dig...</td>\n",
              "      <td>digital ecosystems increasingly are coalescing...</td>\n",
              "      <td>CX</td>\n",
              "    </tr>\n",
              "    <tr>\n",
              "      <th>22</th>\n",
              "      <td>23</td>\n",
              "      <td>what comes after cxm helping customers help ot...</td>\n",
              "      <td>thirty years ago large global companies began ...</td>\n",
              "      <td>CX</td>\n",
              "    </tr>\n",
              "  </tbody>\n",
              "</table>\n",
              "</div>"
            ],
            "text/plain": [
              "    asset_id  ... Domain\n",
              "23        24  ...  Cloud\n",
              "81        85  ...     HR\n",
              "29        30  ...  Agile\n",
              "21        22  ...     CX\n",
              "22        23  ...     CX\n",
              "\n",
              "[5 rows x 4 columns]"
            ]
          },
          "metadata": {
            "tags": []
          },
          "execution_count": 12
        }
      ]
    },
    {
      "cell_type": "code",
      "metadata": {
        "colab": {
          "base_uri": "https://localhost:8080/",
          "height": 206
        },
        "id": "9y82rTZ4Oqco",
        "outputId": "8d7a28d2-4925-460d-e3da-7a680f49594c"
      },
      "source": [
        "get_recommendations(74,5)"
      ],
      "execution_count": null,
      "outputs": [
        {
          "output_type": "execute_result",
          "data": {
            "text/html": [
              "<div>\n",
              "<style scoped>\n",
              "    .dataframe tbody tr th:only-of-type {\n",
              "        vertical-align: middle;\n",
              "    }\n",
              "\n",
              "    .dataframe tbody tr th {\n",
              "        vertical-align: top;\n",
              "    }\n",
              "\n",
              "    .dataframe thead th {\n",
              "        text-align: right;\n",
              "    }\n",
              "</style>\n",
              "<table border=\"1\" class=\"dataframe\">\n",
              "  <thead>\n",
              "    <tr style=\"text-align: right;\">\n",
              "      <th></th>\n",
              "      <th>asset_id</th>\n",
              "      <th>asset_title</th>\n",
              "      <th>asset_description</th>\n",
              "      <th>Domain</th>\n",
              "    </tr>\n",
              "  </thead>\n",
              "  <tbody>\n",
              "    <tr>\n",
              "      <th>81</th>\n",
              "      <td>85</td>\n",
              "      <td>why the emotional wellbeing of your employees ...</td>\n",
              "      <td>abstract as nations around the world deal with...</td>\n",
              "      <td>HR</td>\n",
              "    </tr>\n",
              "    <tr>\n",
              "      <th>30</th>\n",
              "      <td>31</td>\n",
              "      <td>how to make location independent agile work</td>\n",
              "      <td>while it is very beneficial to have all the te...</td>\n",
              "      <td>Agile</td>\n",
              "    </tr>\n",
              "    <tr>\n",
              "      <th>22</th>\n",
              "      <td>23</td>\n",
              "      <td>what comes after cxm helping customers help ot...</td>\n",
              "      <td>thirty years ago large global companies began ...</td>\n",
              "      <td>CX</td>\n",
              "    </tr>\n",
              "    <tr>\n",
              "      <th>23</th>\n",
              "      <td>24</td>\n",
              "      <td>the sure but winding road to the cloud</td>\n",
              "      <td>even for companies that can afford billions of...</td>\n",
              "      <td>Cloud</td>\n",
              "    </tr>\n",
              "    <tr>\n",
              "      <th>24</th>\n",
              "      <td>25</td>\n",
              "      <td>how the ceo can propel a cx initiative</td>\n",
              "      <td>whether it s a series of tweaks or a wholesale...</td>\n",
              "      <td>CX</td>\n",
              "    </tr>\n",
              "  </tbody>\n",
              "</table>\n",
              "</div>"
            ],
            "text/plain": [
              "    asset_id  ... Domain\n",
              "81        85  ...     HR\n",
              "30        31  ...  Agile\n",
              "22        23  ...     CX\n",
              "23        24  ...  Cloud\n",
              "24        25  ...     CX\n",
              "\n",
              "[5 rows x 4 columns]"
            ]
          },
          "metadata": {
            "tags": []
          },
          "execution_count": 13
        }
      ]
    },
    {
      "cell_type": "code",
      "metadata": {
        "colab": {
          "base_uri": "https://localhost:8080/",
          "height": 206
        },
        "id": "gKPRq_tVOqCo",
        "outputId": "da36acab-b38b-4694-d4cf-064a12673471"
      },
      "source": [
        "get_recommendations(80,5)"
      ],
      "execution_count": null,
      "outputs": [
        {
          "output_type": "execute_result",
          "data": {
            "text/html": [
              "<div>\n",
              "<style scoped>\n",
              "    .dataframe tbody tr th:only-of-type {\n",
              "        vertical-align: middle;\n",
              "    }\n",
              "\n",
              "    .dataframe tbody tr th {\n",
              "        vertical-align: top;\n",
              "    }\n",
              "\n",
              "    .dataframe thead th {\n",
              "        text-align: right;\n",
              "    }\n",
              "</style>\n",
              "<table border=\"1\" class=\"dataframe\">\n",
              "  <thead>\n",
              "    <tr style=\"text-align: right;\">\n",
              "      <th></th>\n",
              "      <th>asset_id</th>\n",
              "      <th>asset_title</th>\n",
              "      <th>asset_description</th>\n",
              "      <th>Domain</th>\n",
              "    </tr>\n",
              "  </thead>\n",
              "  <tbody>\n",
              "    <tr>\n",
              "      <th>81</th>\n",
              "      <td>85</td>\n",
              "      <td>why the emotional wellbeing of your employees ...</td>\n",
              "      <td>abstract as nations around the world deal with...</td>\n",
              "      <td>HR</td>\n",
              "    </tr>\n",
              "    <tr>\n",
              "      <th>28</th>\n",
              "      <td>29</td>\n",
              "      <td>students for life why executives must continua...</td>\n",
              "      <td>companies today must get smarter faster and li...</td>\n",
              "      <td>HR</td>\n",
              "    </tr>\n",
              "    <tr>\n",
              "      <th>29</th>\n",
              "      <td>30</td>\n",
              "      <td>embracing agility means agility by the busines...</td>\n",
              "      <td>the push for agility in software development s...</td>\n",
              "      <td>Agile</td>\n",
              "    </tr>\n",
              "    <tr>\n",
              "      <th>22</th>\n",
              "      <td>23</td>\n",
              "      <td>what comes after cxm helping customers help ot...</td>\n",
              "      <td>thirty years ago large global companies began ...</td>\n",
              "      <td>CX</td>\n",
              "    </tr>\n",
              "    <tr>\n",
              "      <th>23</th>\n",
              "      <td>24</td>\n",
              "      <td>the sure but winding road to the cloud</td>\n",
              "      <td>even for companies that can afford billions of...</td>\n",
              "      <td>Cloud</td>\n",
              "    </tr>\n",
              "  </tbody>\n",
              "</table>\n",
              "</div>"
            ],
            "text/plain": [
              "    asset_id  ... Domain\n",
              "81        85  ...     HR\n",
              "28        29  ...     HR\n",
              "29        30  ...  Agile\n",
              "22        23  ...     CX\n",
              "23        24  ...  Cloud\n",
              "\n",
              "[5 rows x 4 columns]"
            ]
          },
          "metadata": {
            "tags": []
          },
          "execution_count": 14
        }
      ]
    },
    {
      "cell_type": "code",
      "metadata": {
        "colab": {
          "base_uri": "https://localhost:8080/",
          "height": 36
        },
        "id": "88vN476YOp3J",
        "outputId": "83f0ff28-624c-4f03-8154-c3b13d818b9f"
      },
      "source": [
        "get_recommendations(83,5)"
      ],
      "execution_count": null,
      "outputs": [
        {
          "output_type": "execute_result",
          "data": {
            "application/vnd.google.colaboratory.intrinsic+json": {
              "type": "string"
            },
            "text/plain": [
              "'User has rated less than 3 articles'"
            ]
          },
          "metadata": {
            "tags": []
          },
          "execution_count": 15
        }
      ]
    },
    {
      "cell_type": "code",
      "metadata": {
        "colab": {
          "base_uri": "https://localhost:8080/",
          "height": 206
        },
        "id": "QKV5VIxcO4YC",
        "outputId": "6dc0ad59-97b9-4701-bdd1-fc7afd1d36d6"
      },
      "source": [
        "get_recommendations(95,5)"
      ],
      "execution_count": null,
      "outputs": [
        {
          "output_type": "execute_result",
          "data": {
            "text/html": [
              "<div>\n",
              "<style scoped>\n",
              "    .dataframe tbody tr th:only-of-type {\n",
              "        vertical-align: middle;\n",
              "    }\n",
              "\n",
              "    .dataframe tbody tr th {\n",
              "        vertical-align: top;\n",
              "    }\n",
              "\n",
              "    .dataframe thead th {\n",
              "        text-align: right;\n",
              "    }\n",
              "</style>\n",
              "<table border=\"1\" class=\"dataframe\">\n",
              "  <thead>\n",
              "    <tr style=\"text-align: right;\">\n",
              "      <th></th>\n",
              "      <th>asset_id</th>\n",
              "      <th>asset_title</th>\n",
              "      <th>asset_description</th>\n",
              "      <th>Domain</th>\n",
              "    </tr>\n",
              "  </thead>\n",
              "  <tbody>\n",
              "    <tr>\n",
              "      <th>64</th>\n",
              "      <td>67</td>\n",
              "      <td>unleashing business value in a business world</td>\n",
              "      <td>in an era we call business digital technologie...</td>\n",
              "      <td>Industry</td>\n",
              "    </tr>\n",
              "    <tr>\n",
              "      <th>55</th>\n",
              "      <td>56</td>\n",
              "      <td>how the digital renovators are racing ahead</td>\n",
              "      <td>numerous studies show that the majority of lar...</td>\n",
              "      <td>Industry</td>\n",
              "    </tr>\n",
              "    <tr>\n",
              "      <th>79</th>\n",
              "      <td>83</td>\n",
              "      <td>tcs cmo study stage conversion personalizing c...</td>\n",
              "      <td>chief marketing officers have one of the riski...</td>\n",
              "      <td>Industry</td>\n",
              "    </tr>\n",
              "    <tr>\n",
              "      <th>38</th>\n",
              "      <td>39</td>\n",
              "      <td>why your products must be smart and connected</td>\n",
              "      <td>it s become increasingly conceivable and cost ...</td>\n",
              "      <td>Industry</td>\n",
              "    </tr>\n",
              "    <tr>\n",
              "      <th>51</th>\n",
              "      <td>52</td>\n",
              "      <td>from making autos to making software the evolu...</td>\n",
              "      <td>michael a cusumano1 is a professor at the mass...</td>\n",
              "      <td>Industry</td>\n",
              "    </tr>\n",
              "  </tbody>\n",
              "</table>\n",
              "</div>"
            ],
            "text/plain": [
              "    asset_id  ...    Domain\n",
              "64        67  ...  Industry\n",
              "55        56  ...  Industry\n",
              "79        83  ...  Industry\n",
              "38        39  ...  Industry\n",
              "51        52  ...  Industry\n",
              "\n",
              "[5 rows x 4 columns]"
            ]
          },
          "metadata": {
            "tags": []
          },
          "execution_count": 16
        }
      ]
    },
    {
      "cell_type": "markdown",
      "metadata": {
        "id": "noIr2gYFPC1B"
      },
      "source": [
        "# Keras Model"
      ]
    },
    {
      "cell_type": "markdown",
      "metadata": {
        "id": "4rSDHVBMPIGx"
      },
      "source": [
        "## Read Saved Files and Model"
      ]
    },
    {
      "cell_type": "code",
      "metadata": {
        "id": "ft08tKWFO-mp"
      },
      "source": [
        "model = load_model('/content/drive/MyDrive/Collaborative_Recommendation/Keras/Model/modelv1')\n",
        "asset_df = pd.read_pickle(\"/content/drive/MyDrive/Collaborative_Recommendation/MatrixFactorization/recommendation_v4.pkl\")\n",
        "df_keras_ratings = pd.read_pickle(\"/content/drive/MyDrive/Collaborative_Recommendation/Keras/ratingsv1keras.pkl\")\n"
      ],
      "execution_count": null,
      "outputs": []
    },
    {
      "cell_type": "code",
      "metadata": {
        "id": "0wagGR_OPdqk"
      },
      "source": [
        "asset2asset_encoded = pickle.load(open(\"/content/drive/MyDrive/Collaborative_Recommendation/Keras/asset2asset_encoded.pkl\", \"rb\" )) \n",
        "user2user_encoded = pickle.load(open(\"/content/drive/MyDrive/Collaborative_Recommendation/Keras/user2user_encoded.pkl\", \"rb\" ) )    \n",
        "asset_encoded2asset= pickle.load(open(\"/content/drive/MyDrive/Collaborative_Recommendation/Keras/asset_encode2asset.pkl\",\"rb\"))"
      ],
      "execution_count": null,
      "outputs": []
    },
    {
      "cell_type": "markdown",
      "metadata": {
        "id": "AzXsTniYPkFf"
      },
      "source": [
        "## Function Definition"
      ]
    },
    {
      "cell_type": "code",
      "metadata": {
        "id": "EzxkXvbMPi05"
      },
      "source": [
        "def get_recommendation(user_id,n):\n",
        "            \n",
        "    asset_read_by_user = df_keras_ratings[df_keras_ratings.uid == user_id]\n",
        "\n",
        "    asset_not_read = asset_df[\n",
        "        ~asset_df[\"asset_id\"].isin(asset_read_by_user.asset_id.values)\n",
        "    ][\"asset_id\"]\n",
        "\n",
        "    asset_not_read = list(\n",
        "        set(asset_not_read).intersection(set(asset2asset_encoded.keys()))\n",
        "    )\n",
        "\n",
        "    asset_not_read = [[asset2asset_encoded.get(x)] for x in asset_not_read]\n",
        "\n",
        "    user_encoder = user2user_encoded.get(user_id)\n",
        "\n",
        "    user_asset_array = np.hstack(\n",
        "        ([[user_encoder]] * len(asset_not_read), asset_not_read)\n",
        "    )\n",
        "\n",
        "\n",
        "    ratings = model.predict(user_asset_array).flatten()\n",
        "\n",
        "    top_ratings_indices = ratings.argsort()[-n:][::-1]\n",
        "\n",
        "    recommended_asset_ids = [\n",
        "        asset_encoded2asset.get(asset_not_read[x][0]) for x in top_ratings_indices\n",
        "    ]\n",
        "\n",
        "    print(\"Showing recommendations for user: {}\".format(user_id))\n",
        "    print(\"====\" * 9)\n",
        "    print(\"Assets with high ratings from user\")\n",
        "    print(\"----\" * 8)\n",
        "    top_assets_user = (\n",
        "        asset_read_by_user.sort_values(by=\"rating\", ascending=False)\n",
        "        .head()\n",
        "        .asset_id.values\n",
        "    )\n",
        "    asset_df_rows = asset_df[asset_df[\"asset_id\"].isin(top_assets_user)]\n",
        "    for row in asset_df_rows.itertuples():\n",
        "        print(row.asset_id, \":\", row.asset_title, \":\",row.Domain)\n",
        "\n",
        "    print(\"----\" * 8)\n",
        "    print(\"Top 5 article recommendations\")\n",
        "    print(\"----\" * 8)\n",
        "\n",
        "    for id in recommended_asset_ids:\n",
        "        recommended_assets = asset_df[asset_df[\"asset_id\"].isin([id])]\n",
        "        for row in recommended_assets.itertuples():\n",
        "            print(row.asset_id, \":\", row.asset_title, \":\",row.Domain)\n"
      ],
      "execution_count": null,
      "outputs": []
    },
    {
      "cell_type": "markdown",
      "metadata": {
        "id": "J6AEnDsnQkLo"
      },
      "source": [
        "## Get Recommendation"
      ]
    },
    {
      "cell_type": "markdown",
      "metadata": {
        "id": "qTX6i-xdQxqE"
      },
      "source": [
        "Users      Domain\n",
        "*   1 - 12 :CX\n",
        "*   13 - 24 : Agile\n",
        "*   25 - 36 : AI\n",
        "*   37 - 48 : IOT\n",
        "*   49 - 60 : BigData\n",
        "*   61 - 72 : Cloud\n",
        "*   73 - 84 : HR\n",
        "*   85 - 100 : Industry"
      ]
    },
    {
      "cell_type": "code",
      "metadata": {
        "colab": {
          "base_uri": "https://localhost:8080/"
        },
        "id": "Vf2WHuHaQcUx",
        "outputId": "3d7b7aa6-cee2-4220-98ba-87a3b51fc8bc"
      },
      "source": [
        "get_recommendation(1,5)"
      ],
      "execution_count": null,
      "outputs": [
        {
          "output_type": "stream",
          "text": [
            "Showing recommendations for user: 1\n",
            "====================================\n",
            "Assets with high ratings from user\n",
            "--------------------------------\n",
            "17 : personalization boundaries tuning in to customers without turning them off : CX\n",
            "18 : designing for the small silver screen : CX\n",
            "20 : reimagining the contact center with digital technologies : CX\n",
            "71 : how blockchain is poised to revolutionize digital customer experience : CX\n",
            "76 : how quality engineering enables customer experience transformations : CX\n",
            "--------------------------------\n",
            "Top 5 article recommendations\n",
            "--------------------------------\n",
            "84 : employee wellness analysis creating data driven hr policies that help save lives : HR\n",
            "83 : tcs cmo study stage conversion personalizing content to turn prospects into customers : Industry\n",
            "79 : tcs cmo study stage awareness attracting the digitally distracted prospect : Industry\n",
            "85 : why the emotional wellbeing of your employees should be a top priority during covid : HR\n",
            "74 : proactive protection how companies can secure customer data in a hyper connected world : CX\n"
          ],
          "name": "stdout"
        }
      ]
    },
    {
      "cell_type": "code",
      "metadata": {
        "colab": {
          "base_uri": "https://localhost:8080/"
        },
        "id": "ncURp4ENQ3qh",
        "outputId": "434f1dd1-e2b6-4ba8-c1ea-008662d7c23c"
      },
      "source": [
        "get_recommendation(14, 5)"
      ],
      "execution_count": null,
      "outputs": [
        {
          "output_type": "stream",
          "text": [
            "Showing recommendations for user: 14\n",
            "====================================\n",
            "Assets with high ratings from user\n",
            "--------------------------------\n",
            "31 : how to make location independent agile work : Agile\n",
            "33 : enterprise agility pushing innovation to the edge of the organization : Agile\n",
            "35 : how retail ceos can drive agile to grow their business : Agile\n",
            "36 : fending off the fintechs how agile financial services firms are transforming their businesses : Agile\n",
            "43 : why agile software development requires radical changes in budgeting and scoping : Agile\n",
            "--------------------------------\n",
            "Top 5 article recommendations\n",
            "--------------------------------\n",
            "18 : designing for the small silver screen : CX\n",
            "11 : winning today s talent race how to identify develop and retain talent better than your rivals : HR\n",
            "13 : how microsoft uses machine learning to handle workloads that humans cannot : AI\n",
            "7 : case study why artificial intelligence is a big part of ap s future : AI\n",
            "8 : banking and financial services analytics for competitive advantage : BigData\n"
          ],
          "name": "stdout"
        }
      ]
    },
    {
      "cell_type": "code",
      "metadata": {
        "colab": {
          "base_uri": "https://localhost:8080/"
        },
        "id": "6gSs5m8cQ3gd",
        "outputId": "4ce5b89b-9202-4fc3-ab62-fcae9231dea4"
      },
      "source": [
        "get_recommendation(28, 5)"
      ],
      "execution_count": null,
      "outputs": [
        {
          "output_type": "stream",
          "text": [
            "Showing recommendations for user: 28\n",
            "====================================\n",
            "Assets with high ratings from user\n",
            "--------------------------------\n",
            "3 : riding the cognitive wave : AI\n",
            "7 : case study why artificial intelligence is a big part of ap s future : AI\n",
            "13 : how microsoft uses machine learning to handle workloads that humans cannot : AI\n",
            "38 : where to turn ai and automation loose in your company : AI\n",
            "42 : what happens when you turn your products into services : AI\n",
            "--------------------------------\n",
            "Top 5 article recommendations\n",
            "--------------------------------\n",
            "18 : designing for the small silver screen : CX\n",
            "11 : winning today s talent race how to identify develop and retain talent better than your rivals : HR\n",
            "8 : banking and financial services analytics for competitive advantage : BigData\n",
            "1 : the ascent of the smarter faster lighter enterprise : CX\n",
            "20 : reimagining the contact center with digital technologies : CX\n"
          ],
          "name": "stdout"
        }
      ]
    },
    {
      "cell_type": "code",
      "metadata": {
        "colab": {
          "base_uri": "https://localhost:8080/"
        },
        "id": "DuNJx6EcQ3U5",
        "outputId": "496496e6-335f-4635-cdf8-508d9ffe48b5"
      },
      "source": [
        "get_recommendation(47,5)"
      ],
      "execution_count": null,
      "outputs": [
        {
          "output_type": "stream",
          "text": [
            "Showing recommendations for user: 47\n",
            "====================================\n",
            "Assets with high ratings from user\n",
            "--------------------------------\n",
            "19 : how iot technologies are revamping the post sale experience : IOT\n",
            "41 : the magic that happens when manufacturers digitally attach themselves to their products : IOT\n",
            "44 : raising your iot security game : IOT\n",
            "50 : using iot technologies to completely rethink the customer experience interview with ric merrifield : IOT\n",
            "--------------------------------\n",
            "Top 5 article recommendations\n",
            "--------------------------------\n",
            "18 : designing for the small silver screen : CX\n",
            "11 : winning today s talent race how to identify develop and retain talent better than your rivals : HR\n",
            "13 : how microsoft uses machine learning to handle workloads that humans cannot : AI\n",
            "7 : case study why artificial intelligence is a big part of ap s future : AI\n",
            "8 : banking and financial services analytics for competitive advantage : BigData\n"
          ],
          "name": "stdout"
        }
      ]
    },
    {
      "cell_type": "code",
      "metadata": {
        "colab": {
          "base_uri": "https://localhost:8080/"
        },
        "id": "Lgi7PqykQ3IL",
        "outputId": "03bb8ab9-a2a5-4c7a-fb70-411df4577f57"
      },
      "source": [
        "get_recommendation(55,5)"
      ],
      "execution_count": null,
      "outputs": [
        {
          "output_type": "stream",
          "text": [
            "Showing recommendations for user: 55\n",
            "====================================\n",
            "Assets with high ratings from user\n",
            "--------------------------------\n",
            "8 : banking and financial services analytics for competitive advantage : BigData\n",
            "47 : analytics a still emerging business frontier interview with prabhudev konana : BigData\n",
            "61 : operating in an insight driven world mastering the new game of analytics : BigData\n",
            "--------------------------------\n",
            "Top 5 article recommendations\n",
            "--------------------------------\n",
            "71 : how blockchain is poised to revolutionize digital customer experience : CX\n",
            "55 : digital data s greatest opportunities : BigData\n",
            "41 : the magic that happens when manufacturers digitally attach themselves to their products : IOT\n",
            "59 : taking a machine first approach to digital transformation : AI\n",
            "67 : unleashing business value in a business world : Industry\n"
          ],
          "name": "stdout"
        }
      ]
    },
    {
      "cell_type": "code",
      "metadata": {
        "colab": {
          "base_uri": "https://localhost:8080/"
        },
        "id": "I-_foSriQ29k",
        "outputId": "c3dc803d-ca20-441e-fa83-9e3f0c93ba88"
      },
      "source": [
        "get_recommendation(63,5)"
      ],
      "execution_count": null,
      "outputs": [
        {
          "output_type": "stream",
          "text": [
            "Showing recommendations for user: 63\n",
            "====================================\n",
            "Assets with high ratings from user\n",
            "--------------------------------\n",
            "27 : cloudera the mind of the new machine : Cloud\n",
            "40 : now you can simulate nearly anything : Cloud\n",
            "60 : immense digital power on demand shifting to the brave new world of cloud computing : Cloud\n",
            "72 : for companies today the question is not whether to move to the cloud but how : Cloud\n",
            "73 : how the cloud empowers digital transformation : Cloud\n",
            "--------------------------------\n",
            "Top 5 article recommendations\n",
            "--------------------------------\n",
            "55 : digital data s greatest opportunities : BigData\n",
            "41 : the magic that happens when manufacturers digitally attach themselves to their products : IOT\n",
            "59 : taking a machine first approach to digital transformation : AI\n",
            "67 : unleashing business value in a business world : Industry\n",
            "56 : how the digital renovators are racing ahead : Industry\n"
          ],
          "name": "stdout"
        }
      ]
    },
    {
      "cell_type": "code",
      "metadata": {
        "colab": {
          "base_uri": "https://localhost:8080/"
        },
        "id": "XoY9KMxrQ2vE",
        "outputId": "81e3a92b-d040-4d68-f910-eac347e51a58"
      },
      "source": [
        "get_recommendation(77,5)"
      ],
      "execution_count": null,
      "outputs": [
        {
          "output_type": "stream",
          "text": [
            "Showing recommendations for user: 77\n",
            "====================================\n",
            "Assets with high ratings from user\n",
            "--------------------------------\n",
            "11 : winning today s talent race how to identify develop and retain talent better than your rivals : HR\n",
            "29 : students for life why executives must continually update their wisdom : HR\n",
            "45 : executive traits for recognizing the bountiful opportunities ahead : HR\n",
            "85 : why the emotional wellbeing of your employees should be a top priority during covid : HR\n",
            "--------------------------------\n",
            "Top 5 article recommendations\n",
            "--------------------------------\n",
            "55 : digital data s greatest opportunities : BigData\n",
            "41 : the magic that happens when manufacturers digitally attach themselves to their products : IOT\n",
            "59 : taking a machine first approach to digital transformation : AI\n",
            "67 : unleashing business value in a business world : Industry\n",
            "56 : how the digital renovators are racing ahead : Industry\n"
          ],
          "name": "stdout"
        }
      ]
    },
    {
      "cell_type": "code",
      "metadata": {
        "colab": {
          "base_uri": "https://localhost:8080/"
        },
        "id": "sE1RH548Q2dz",
        "outputId": "38fd7379-2f26-4b9e-e118-c2a85b95af56"
      },
      "source": [
        "get_recommendation(80,5)"
      ],
      "execution_count": null,
      "outputs": [
        {
          "output_type": "stream",
          "text": [
            "Showing recommendations for user: 80\n",
            "====================================\n",
            "Assets with high ratings from user\n",
            "--------------------------------\n",
            "11 : winning today s talent race how to identify develop and retain talent better than your rivals : HR\n",
            "45 : executive traits for recognizing the bountiful opportunities ahead : HR\n",
            "84 : employee wellness analysis creating data driven hr policies that help save lives : HR\n",
            "--------------------------------\n",
            "Top 5 article recommendations\n",
            "--------------------------------\n",
            "18 : designing for the small silver screen : CX\n",
            "13 : how microsoft uses machine learning to handle workloads that humans cannot : AI\n",
            "7 : case study why artificial intelligence is a big part of ap s future : AI\n",
            "8 : banking and financial services analytics for competitive advantage : BigData\n",
            "1 : the ascent of the smarter faster lighter enterprise : CX\n"
          ],
          "name": "stdout"
        }
      ]
    },
    {
      "cell_type": "code",
      "metadata": {
        "colab": {
          "base_uri": "https://localhost:8080/"
        },
        "id": "xYQMhvNiQ2P8",
        "outputId": "043653c7-111e-4c30-a11d-90e96ee1cfd2"
      },
      "source": [
        "get_recommendation(95,5)"
      ],
      "execution_count": null,
      "outputs": [
        {
          "output_type": "stream",
          "text": [
            "Showing recommendations for user: 95\n",
            "====================================\n",
            "Assets with high ratings from user\n",
            "--------------------------------\n",
            "28 : manufacturing how to lighten up business models : Industry\n",
            "32 : the view inside technologies collide and industries transform : Industry\n",
            "46 : changing culture in a time of accelerating market change interview with vijay govindarajan : Industry\n",
            "51 : increasing speed in the digital era interview with jeanne ross : Industry\n",
            "81 : tcs cmo study how travel transportation and hospitality companies are digitally personalizing content to create market awareness : Industry\n",
            "--------------------------------\n",
            "Top 5 article recommendations\n",
            "--------------------------------\n",
            "84 : employee wellness analysis creating data driven hr policies that help save lives : HR\n",
            "83 : tcs cmo study stage conversion personalizing content to turn prospects into customers : Industry\n",
            "85 : why the emotional wellbeing of your employees should be a top priority during covid : HR\n",
            "76 : how quality engineering enables customer experience transformations : CX\n",
            "74 : proactive protection how companies can secure customer data in a hyper connected world : CX\n"
          ],
          "name": "stdout"
        }
      ]
    },
    {
      "cell_type": "code",
      "metadata": {
        "id": "jUyo634IRXXA"
      },
      "source": [
        ""
      ],
      "execution_count": null,
      "outputs": []
    }
  ]
}