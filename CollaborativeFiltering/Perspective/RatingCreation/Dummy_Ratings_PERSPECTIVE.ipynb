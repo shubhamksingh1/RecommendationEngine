{
  "nbformat": 4,
  "nbformat_minor": 0,
  "metadata": {
    "colab": {
      "name": "Dummy_Ratings_PERSPECTIVE.ipynb",
      "provenance": [],
      "collapsed_sections": [],
      "toc_visible": true,
      "mount_file_id": "1SI2FSsLq7hluvKIINhGMI00wewvoyA2c",
      "authorship_tag": "ABX9TyOlh+9K80q0zrAQLL55YODp",
      "include_colab_link": true
    },
    "kernelspec": {
      "name": "python3",
      "display_name": "Python 3"
    }
  },
  "cells": [
    {
      "cell_type": "markdown",
      "metadata": {
        "id": "view-in-github",
        "colab_type": "text"
      },
      "source": [
        "<a href=\"https://colab.research.google.com/github/shubhamksingh1/RecommendationEngine/blob/main/CollaborativeFiltering/Perspective/RatingCreation/Dummy_Ratings_PERSPECTIVE.ipynb\" target=\"_parent\"><img src=\"https://colab.research.google.com/assets/colab-badge.svg\" alt=\"Open In Colab\"/></a>"
      ]
    },
    {
      "cell_type": "markdown",
      "metadata": {
        "id": "rarS5jZU05kv"
      },
      "source": [
        "## Import"
      ]
    },
    {
      "cell_type": "code",
      "metadata": {
        "id": "OHZPnT2Z0VfO"
      },
      "source": [
        "import pandas as pd\n",
        "import numpy as np"
      ],
      "execution_count": null,
      "outputs": []
    },
    {
      "cell_type": "code",
      "metadata": {
        "id": "hPMRVSxR04lX"
      },
      "source": [
        "df_reco = pd.read_csv(\"/content/drive/MyDrive/Content_Recommendation/recommendation_v3.csv\")"
      ],
      "execution_count": null,
      "outputs": []
    },
    {
      "cell_type": "code",
      "metadata": {
        "colab": {
          "base_uri": "https://localhost:8080/"
        },
        "id": "6P24UZbz1L9g",
        "outputId": "96a6e2f8-8b09-4bb1-ed3d-271b0b37e872"
      },
      "source": [
        "df_reco.shape"
      ],
      "execution_count": null,
      "outputs": [
        {
          "output_type": "execute_result",
          "data": {
            "text/plain": [
              "(82, 7)"
            ]
          },
          "metadata": {
            "tags": []
          },
          "execution_count": 4
        }
      ]
    },
    {
      "cell_type": "code",
      "metadata": {
        "colab": {
          "base_uri": "https://localhost:8080/",
          "height": 345
        },
        "id": "e13i28gj1Nhv",
        "outputId": "774b6d9e-7955-4eb5-f210-876d0c43c5a1"
      },
      "source": [
        "df_reco.head()"
      ],
      "execution_count": null,
      "outputs": [
        {
          "output_type": "execute_result",
          "data": {
            "text/html": [
              "<div>\n",
              "<style scoped>\n",
              "    .dataframe tbody tr th:only-of-type {\n",
              "        vertical-align: middle;\n",
              "    }\n",
              "\n",
              "    .dataframe tbody tr th {\n",
              "        vertical-align: top;\n",
              "    }\n",
              "\n",
              "    .dataframe thead th {\n",
              "        text-align: right;\n",
              "    }\n",
              "</style>\n",
              "<table border=\"1\" class=\"dataframe\">\n",
              "  <thead>\n",
              "    <tr style=\"text-align: right;\">\n",
              "      <th></th>\n",
              "      <th>asset_id</th>\n",
              "      <th>asset_description</th>\n",
              "      <th>asset_title</th>\n",
              "      <th>custom_stop_desc</th>\n",
              "      <th>custom_stop_title</th>\n",
              "      <th>asset_description_cleaned</th>\n",
              "      <th>asset_title_cleaned</th>\n",
              "    </tr>\n",
              "  </thead>\n",
              "  <tbody>\n",
              "    <tr>\n",
              "      <th>0</th>\n",
              "      <td>1</td>\n",
              "      <td>peter drucker the legendary management scholar...</td>\n",
              "      <td>the ascent of the smarter faster lighter enter...</td>\n",
              "      <td>['3a', 'a', 'an', 'on', 'at', 'is', 's', 'do',...</td>\n",
              "      <td>['of']</td>\n",
              "      <td>peter drucker legendary management scholar con...</td>\n",
              "      <td>ascent smarter faster lighter enterprise</td>\n",
              "    </tr>\n",
              "    <tr>\n",
              "      <th>1</th>\n",
              "      <td>2</td>\n",
              "      <td>the software development community has been us...</td>\n",
              "      <td>agile s day has truly arrived</td>\n",
              "      <td>['a', 'u', 'we', 'k', 'i', 'on', 'at', 'is', '...</td>\n",
              "      <td>['s']</td>\n",
              "      <td>software development community using term agil...</td>\n",
              "      <td>agile day truly arrived</td>\n",
              "    </tr>\n",
              "    <tr>\n",
              "      <th>2</th>\n",
              "      <td>3</td>\n",
              "      <td>many exciting new digital technologies have ev...</td>\n",
              "      <td>riding the cognitive wave</td>\n",
              "      <td>['a', 'we', 'e', 'an', 'on', 'at', 'is', 'do',...</td>\n",
              "      <td>[]</td>\n",
              "      <td>many exciting new digital technology evolved r...</td>\n",
              "      <td>riding cognitive wave</td>\n",
              "    </tr>\n",
              "    <tr>\n",
              "      <th>3</th>\n",
              "      <td>4</td>\n",
              "      <td>we have all seen some eye bulging numbers in r...</td>\n",
              "      <td>using iot data to understand how your products...</td>\n",
              "      <td>['hp', 'a', 'we', 'an', 'on', 'at', 'is', 's',...</td>\n",
              "      <td>['to']</td>\n",
              "      <td>seen eye bulging number recent year internet t...</td>\n",
              "      <td>using iot data understand product perform</td>\n",
              "    </tr>\n",
              "    <tr>\n",
              "      <th>4</th>\n",
              "      <td>5</td>\n",
              "      <td>you probably need little evidence to believe t...</td>\n",
              "      <td>the view inside our take on the customer exper...</td>\n",
              "      <td>['a', 'we', 'e', 'an', 'i', 'on', 'at', 'is', ...</td>\n",
              "      <td>['on']</td>\n",
              "      <td>probably need little evidence believe experien...</td>\n",
              "      <td>view inside take customer experience revolution</td>\n",
              "    </tr>\n",
              "  </tbody>\n",
              "</table>\n",
              "</div>"
            ],
            "text/plain": [
              "   asset_id  ...                              asset_title_cleaned\n",
              "0         1  ...         ascent smarter faster lighter enterprise\n",
              "1         2  ...                          agile day truly arrived\n",
              "2         3  ...                            riding cognitive wave\n",
              "3         4  ...        using iot data understand product perform\n",
              "4         5  ...  view inside take customer experience revolution\n",
              "\n",
              "[5 rows x 7 columns]"
            ]
          },
          "metadata": {
            "tags": []
          },
          "execution_count": 5
        }
      ]
    },
    {
      "cell_type": "code",
      "metadata": {
        "colab": {
          "base_uri": "https://localhost:8080/",
          "height": 380
        },
        "id": "13uKEsJ_1Qho",
        "outputId": "70e418e9-e91b-408e-e1fb-1856cf277aa4"
      },
      "source": [
        "df_reco.tail()"
      ],
      "execution_count": null,
      "outputs": [
        {
          "output_type": "execute_result",
          "data": {
            "text/html": [
              "<div>\n",
              "<style scoped>\n",
              "    .dataframe tbody tr th:only-of-type {\n",
              "        vertical-align: middle;\n",
              "    }\n",
              "\n",
              "    .dataframe tbody tr th {\n",
              "        vertical-align: top;\n",
              "    }\n",
              "\n",
              "    .dataframe thead th {\n",
              "        text-align: right;\n",
              "    }\n",
              "</style>\n",
              "<table border=\"1\" class=\"dataframe\">\n",
              "  <thead>\n",
              "    <tr style=\"text-align: right;\">\n",
              "      <th></th>\n",
              "      <th>asset_id</th>\n",
              "      <th>asset_description</th>\n",
              "      <th>asset_title</th>\n",
              "      <th>custom_stop_desc</th>\n",
              "      <th>custom_stop_title</th>\n",
              "      <th>asset_description_cleaned</th>\n",
              "      <th>asset_title_cleaned</th>\n",
              "    </tr>\n",
              "  </thead>\n",
              "  <tbody>\n",
              "    <tr>\n",
              "      <th>77</th>\n",
              "      <td>80</td>\n",
              "      <td>this report is based on tcs larger study on di...</td>\n",
              "      <td>tcs cmo study how retailers are digitally pers...</td>\n",
              "      <td>['3a', 'a', 'we', 'on', 'at', 'is', 's', 'do',...</td>\n",
              "      <td>['to']</td>\n",
              "      <td>report based tc larger study digital marketing...</td>\n",
              "      <td>tc cmo study retailer digitally personalizing ...</td>\n",
              "    </tr>\n",
              "    <tr>\n",
              "      <th>78</th>\n",
              "      <td>81</td>\n",
              "      <td>this report on marketers in the travel transpo...</td>\n",
              "      <td>tcs cmo study how travel transportation and ho...</td>\n",
              "      <td>['a', 'we', 'e', 'on', 'is', 's', 'do', 'go', ...</td>\n",
              "      <td>['to']</td>\n",
              "      <td>report marketer travel transportation hospital...</td>\n",
              "      <td>tc cmo study travel transportation hospitality...</td>\n",
              "    </tr>\n",
              "    <tr>\n",
              "      <th>79</th>\n",
              "      <td>83</td>\n",
              "      <td>chief marketing officers have one of the riski...</td>\n",
              "      <td>tcs cmo study stage conversion personalizing c...</td>\n",
              "      <td>['a', 'on', 'at', 'is', 's', 'do', '■', 'vs', ...</td>\n",
              "      <td>['to']</td>\n",
              "      <td>chief marketing officer one riskiest role suit...</td>\n",
              "      <td>tc cmo study stage conversion personalizing co...</td>\n",
              "    </tr>\n",
              "    <tr>\n",
              "      <th>80</th>\n",
              "      <td>84</td>\n",
              "      <td>the rise of the chief medical officer typicall...</td>\n",
              "      <td>employee wellness analysis creating data drive...</td>\n",
              "      <td>['a', 'an', 'on', 'at', 'is', 's', 'up', 'by',...</td>\n",
              "      <td>[]</td>\n",
              "      <td>rise chief medical officer typically business ...</td>\n",
              "      <td>employee wellness analysis creating data drive...</td>\n",
              "    </tr>\n",
              "    <tr>\n",
              "      <th>81</th>\n",
              "      <td>85</td>\n",
              "      <td>abstract as nations around the world deal with...</td>\n",
              "      <td>why the emotional wellbeing of your employees ...</td>\n",
              "      <td>['a', 'we', 'an', 'on', 'is', 's', 'up', 'by',...</td>\n",
              "      <td>['a', 'of', 'be']</td>\n",
              "      <td>abstract nation around world deal managing cov...</td>\n",
              "      <td>emotional wellbeing employee top priority covid</td>\n",
              "    </tr>\n",
              "  </tbody>\n",
              "</table>\n",
              "</div>"
            ],
            "text/plain": [
              "    asset_id  ...                                asset_title_cleaned\n",
              "77        80  ...  tc cmo study retailer digitally personalizing ...\n",
              "78        81  ...  tc cmo study travel transportation hospitality...\n",
              "79        83  ...  tc cmo study stage conversion personalizing co...\n",
              "80        84  ...  employee wellness analysis creating data drive...\n",
              "81        85  ...    emotional wellbeing employee top priority covid\n",
              "\n",
              "[5 rows x 7 columns]"
            ]
          },
          "metadata": {
            "tags": []
          },
          "execution_count": 6
        }
      ]
    },
    {
      "cell_type": "code",
      "metadata": {
        "colab": {
          "base_uri": "https://localhost:8080/"
        },
        "id": "YI6aYkZ0kvcb",
        "outputId": "3da64f13-1190-4afe-df05-83f8856a31b3"
      },
      "source": [
        "df_reco.asset_id.unique(),len(df_reco.asset_id.unique())"
      ],
      "execution_count": null,
      "outputs": [
        {
          "output_type": "execute_result",
          "data": {
            "text/plain": [
              "(array([ 1,  2,  3,  4,  5,  6,  7,  8,  9, 10, 11, 12, 13, 14, 15, 16, 17,\n",
              "        18, 19, 20, 21, 22, 23, 24, 25, 26, 27, 28, 29, 30, 31, 32, 33, 34,\n",
              "        35, 36, 37, 38, 39, 40, 41, 42, 43, 44, 45, 46, 47, 48, 49, 50, 51,\n",
              "        52, 53, 54, 55, 56, 57, 59, 60, 61, 62, 63, 65, 66, 67, 68, 69, 70,\n",
              "        71, 72, 73, 74, 75, 76, 77, 78, 79, 80, 81, 83, 84, 85]), 82)"
            ]
          },
          "metadata": {
            "tags": []
          },
          "execution_count": 9
        }
      ]
    },
    {
      "cell_type": "code",
      "metadata": {
        "id": "JxU6iUWM37rN"
      },
      "source": [
        "# Distinct domain :\n",
        "# 1.HR\n",
        "# 2.CX\n",
        "# 3.Agile\n",
        "# 4.AI\n",
        "# 5.IOT\n",
        "# 6.BigData\n",
        "# 7.Cloud\n",
        "# 8.Industry"
      ],
      "execution_count": null,
      "outputs": []
    },
    {
      "cell_type": "code",
      "metadata": {
        "id": "f1m5WNfQ2PkF"
      },
      "source": [
        "domain= ['CX','Agile','AI','IOT','CX','BigData','AI','BigData','CX','Cloud',\n",
        "         'HR','CX','AI','CX','CX','CX','CX','CX','IOT','CX',\n",
        "         'Industry','CX','CX','Cloud','CX','Industry','Cloud','Industry','HR','Agile',\n",
        "         'Agile','Industry','Agile','Agile','Agile','Agile','Agile','AI','Industry','Cloud',\n",
        "         'IOT','AI','Agile','IOT','HR','Industry','BigData','Industry','CX','IOT',\n",
        "         'Industry','Industry','Industry','AI','BigData','Industry','CX','AI','Cloud','BigData',\n",
        "         'Industry','Industry','Agile','BigData','Industry','Industry','AI','CX','CX','Cloud',\n",
        "         'Cloud','CX','IOT','CX','Industry','Industry','Industry','Industry','Industry','Industry',\n",
        "         'HR','HR']"
      ],
      "execution_count": null,
      "outputs": []
    },
    {
      "cell_type": "code",
      "metadata": {
        "colab": {
          "base_uri": "https://localhost:8080/"
        },
        "id": "wxKB4wIYM87r",
        "outputId": "e9aab97c-35aa-4560-f99b-03b2a14e90b3"
      },
      "source": [
        "len(domain)"
      ],
      "execution_count": null,
      "outputs": [
        {
          "output_type": "execute_result",
          "data": {
            "text/plain": [
              "82"
            ]
          },
          "metadata": {
            "tags": []
          },
          "execution_count": 12
        }
      ]
    },
    {
      "cell_type": "code",
      "metadata": {
        "colab": {
          "base_uri": "https://localhost:8080/"
        },
        "id": "wuW6Rw_HNGC7",
        "outputId": "86dd78b4-3183-4b89-ea2d-b41268db904a"
      },
      "source": [
        "set(domain)"
      ],
      "execution_count": null,
      "outputs": [
        {
          "output_type": "execute_result",
          "data": {
            "text/plain": [
              "{'AI', 'Agile', 'BigData', 'CX', 'Cloud', 'HR', 'IOT', 'Industry'}"
            ]
          },
          "metadata": {
            "tags": []
          },
          "execution_count": 13
        }
      ]
    },
    {
      "cell_type": "code",
      "metadata": {
        "colab": {
          "base_uri": "https://localhost:8080/",
          "height": 736
        },
        "id": "8PCu78-52-5c",
        "outputId": "f2568c80-0890-4d24-c944-87dfc5193dfb"
      },
      "source": [
        "df_reco"
      ],
      "execution_count": null,
      "outputs": [
        {
          "output_type": "execute_result",
          "data": {
            "text/html": [
              "<div>\n",
              "<style scoped>\n",
              "    .dataframe tbody tr th:only-of-type {\n",
              "        vertical-align: middle;\n",
              "    }\n",
              "\n",
              "    .dataframe tbody tr th {\n",
              "        vertical-align: top;\n",
              "    }\n",
              "\n",
              "    .dataframe thead th {\n",
              "        text-align: right;\n",
              "    }\n",
              "</style>\n",
              "<table border=\"1\" class=\"dataframe\">\n",
              "  <thead>\n",
              "    <tr style=\"text-align: right;\">\n",
              "      <th></th>\n",
              "      <th>asset_id</th>\n",
              "      <th>asset_description</th>\n",
              "      <th>asset_title</th>\n",
              "      <th>custom_stop_desc</th>\n",
              "      <th>custom_stop_title</th>\n",
              "      <th>asset_description_cleaned</th>\n",
              "      <th>asset_title_cleaned</th>\n",
              "    </tr>\n",
              "  </thead>\n",
              "  <tbody>\n",
              "    <tr>\n",
              "      <th>0</th>\n",
              "      <td>1</td>\n",
              "      <td>peter drucker the legendary management scholar...</td>\n",
              "      <td>the ascent of the smarter faster lighter enter...</td>\n",
              "      <td>['3a', 'a', 'an', 'on', 'at', 'is', 's', 'do',...</td>\n",
              "      <td>['of']</td>\n",
              "      <td>peter drucker legendary management scholar con...</td>\n",
              "      <td>ascent smarter faster lighter enterprise</td>\n",
              "    </tr>\n",
              "    <tr>\n",
              "      <th>1</th>\n",
              "      <td>2</td>\n",
              "      <td>the software development community has been us...</td>\n",
              "      <td>agile s day has truly arrived</td>\n",
              "      <td>['a', 'u', 'we', 'k', 'i', 'on', 'at', 'is', '...</td>\n",
              "      <td>['s']</td>\n",
              "      <td>software development community using term agil...</td>\n",
              "      <td>agile day truly arrived</td>\n",
              "    </tr>\n",
              "    <tr>\n",
              "      <th>2</th>\n",
              "      <td>3</td>\n",
              "      <td>many exciting new digital technologies have ev...</td>\n",
              "      <td>riding the cognitive wave</td>\n",
              "      <td>['a', 'we', 'e', 'an', 'on', 'at', 'is', 'do',...</td>\n",
              "      <td>[]</td>\n",
              "      <td>many exciting new digital technology evolved r...</td>\n",
              "      <td>riding cognitive wave</td>\n",
              "    </tr>\n",
              "    <tr>\n",
              "      <th>3</th>\n",
              "      <td>4</td>\n",
              "      <td>we have all seen some eye bulging numbers in r...</td>\n",
              "      <td>using iot data to understand how your products...</td>\n",
              "      <td>['hp', 'a', 'we', 'an', 'on', 'at', 'is', 's',...</td>\n",
              "      <td>['to']</td>\n",
              "      <td>seen eye bulging number recent year internet t...</td>\n",
              "      <td>using iot data understand product perform</td>\n",
              "    </tr>\n",
              "    <tr>\n",
              "      <th>4</th>\n",
              "      <td>5</td>\n",
              "      <td>you probably need little evidence to believe t...</td>\n",
              "      <td>the view inside our take on the customer exper...</td>\n",
              "      <td>['a', 'we', 'e', 'an', 'i', 'on', 'at', 'is', ...</td>\n",
              "      <td>['on']</td>\n",
              "      <td>probably need little evidence believe experien...</td>\n",
              "      <td>view inside take customer experience revolution</td>\n",
              "    </tr>\n",
              "    <tr>\n",
              "      <th>...</th>\n",
              "      <td>...</td>\n",
              "      <td>...</td>\n",
              "      <td>...</td>\n",
              "      <td>...</td>\n",
              "      <td>...</td>\n",
              "      <td>...</td>\n",
              "      <td>...</td>\n",
              "    </tr>\n",
              "    <tr>\n",
              "      <th>77</th>\n",
              "      <td>80</td>\n",
              "      <td>this report is based on tcs larger study on di...</td>\n",
              "      <td>tcs cmo study how retailers are digitally pers...</td>\n",
              "      <td>['3a', 'a', 'we', 'on', 'at', 'is', 's', 'do',...</td>\n",
              "      <td>['to']</td>\n",
              "      <td>report based tc larger study digital marketing...</td>\n",
              "      <td>tc cmo study retailer digitally personalizing ...</td>\n",
              "    </tr>\n",
              "    <tr>\n",
              "      <th>78</th>\n",
              "      <td>81</td>\n",
              "      <td>this report on marketers in the travel transpo...</td>\n",
              "      <td>tcs cmo study how travel transportation and ho...</td>\n",
              "      <td>['a', 'we', 'e', 'on', 'is', 's', 'do', 'go', ...</td>\n",
              "      <td>['to']</td>\n",
              "      <td>report marketer travel transportation hospital...</td>\n",
              "      <td>tc cmo study travel transportation hospitality...</td>\n",
              "    </tr>\n",
              "    <tr>\n",
              "      <th>79</th>\n",
              "      <td>83</td>\n",
              "      <td>chief marketing officers have one of the riski...</td>\n",
              "      <td>tcs cmo study stage conversion personalizing c...</td>\n",
              "      <td>['a', 'on', 'at', 'is', 's', 'do', '■', 'vs', ...</td>\n",
              "      <td>['to']</td>\n",
              "      <td>chief marketing officer one riskiest role suit...</td>\n",
              "      <td>tc cmo study stage conversion personalizing co...</td>\n",
              "    </tr>\n",
              "    <tr>\n",
              "      <th>80</th>\n",
              "      <td>84</td>\n",
              "      <td>the rise of the chief medical officer typicall...</td>\n",
              "      <td>employee wellness analysis creating data drive...</td>\n",
              "      <td>['a', 'an', 'on', 'at', 'is', 's', 'up', 'by',...</td>\n",
              "      <td>[]</td>\n",
              "      <td>rise chief medical officer typically business ...</td>\n",
              "      <td>employee wellness analysis creating data drive...</td>\n",
              "    </tr>\n",
              "    <tr>\n",
              "      <th>81</th>\n",
              "      <td>85</td>\n",
              "      <td>abstract as nations around the world deal with...</td>\n",
              "      <td>why the emotional wellbeing of your employees ...</td>\n",
              "      <td>['a', 'we', 'an', 'on', 'is', 's', 'up', 'by',...</td>\n",
              "      <td>['a', 'of', 'be']</td>\n",
              "      <td>abstract nation around world deal managing cov...</td>\n",
              "      <td>emotional wellbeing employee top priority covid</td>\n",
              "    </tr>\n",
              "  </tbody>\n",
              "</table>\n",
              "<p>82 rows × 7 columns</p>\n",
              "</div>"
            ],
            "text/plain": [
              "    asset_id  ...                                asset_title_cleaned\n",
              "0          1  ...           ascent smarter faster lighter enterprise\n",
              "1          2  ...                            agile day truly arrived\n",
              "2          3  ...                              riding cognitive wave\n",
              "3          4  ...          using iot data understand product perform\n",
              "4          5  ...    view inside take customer experience revolution\n",
              "..       ...  ...                                                ...\n",
              "77        80  ...  tc cmo study retailer digitally personalizing ...\n",
              "78        81  ...  tc cmo study travel transportation hospitality...\n",
              "79        83  ...  tc cmo study stage conversion personalizing co...\n",
              "80        84  ...  employee wellness analysis creating data drive...\n",
              "81        85  ...    emotional wellbeing employee top priority covid\n",
              "\n",
              "[82 rows x 7 columns]"
            ]
          },
          "metadata": {
            "tags": []
          },
          "execution_count": 14
        }
      ]
    },
    {
      "cell_type": "code",
      "metadata": {
        "id": "8HQlSQcKNZd8"
      },
      "source": [
        "df_reco['Domain']= domain"
      ],
      "execution_count": null,
      "outputs": []
    },
    {
      "cell_type": "code",
      "metadata": {
        "colab": {
          "base_uri": "https://localhost:8080/",
          "height": 424
        },
        "id": "-wpA-EKFNif6",
        "outputId": "9eda1b28-7393-49ae-a9ee-f759d8e52426"
      },
      "source": [
        "df_reco[['asset_id','asset_title','Domain']]"
      ],
      "execution_count": null,
      "outputs": [
        {
          "output_type": "execute_result",
          "data": {
            "text/html": [
              "<div>\n",
              "<style scoped>\n",
              "    .dataframe tbody tr th:only-of-type {\n",
              "        vertical-align: middle;\n",
              "    }\n",
              "\n",
              "    .dataframe tbody tr th {\n",
              "        vertical-align: top;\n",
              "    }\n",
              "\n",
              "    .dataframe thead th {\n",
              "        text-align: right;\n",
              "    }\n",
              "</style>\n",
              "<table border=\"1\" class=\"dataframe\">\n",
              "  <thead>\n",
              "    <tr style=\"text-align: right;\">\n",
              "      <th></th>\n",
              "      <th>asset_id</th>\n",
              "      <th>asset_title</th>\n",
              "      <th>Domain</th>\n",
              "    </tr>\n",
              "  </thead>\n",
              "  <tbody>\n",
              "    <tr>\n",
              "      <th>0</th>\n",
              "      <td>1</td>\n",
              "      <td>the ascent of the smarter faster lighter enter...</td>\n",
              "      <td>CX</td>\n",
              "    </tr>\n",
              "    <tr>\n",
              "      <th>1</th>\n",
              "      <td>2</td>\n",
              "      <td>agile s day has truly arrived</td>\n",
              "      <td>Agile</td>\n",
              "    </tr>\n",
              "    <tr>\n",
              "      <th>2</th>\n",
              "      <td>3</td>\n",
              "      <td>riding the cognitive wave</td>\n",
              "      <td>AI</td>\n",
              "    </tr>\n",
              "    <tr>\n",
              "      <th>3</th>\n",
              "      <td>4</td>\n",
              "      <td>using iot data to understand how your products...</td>\n",
              "      <td>IOT</td>\n",
              "    </tr>\n",
              "    <tr>\n",
              "      <th>4</th>\n",
              "      <td>5</td>\n",
              "      <td>the view inside our take on the customer exper...</td>\n",
              "      <td>CX</td>\n",
              "    </tr>\n",
              "    <tr>\n",
              "      <th>...</th>\n",
              "      <td>...</td>\n",
              "      <td>...</td>\n",
              "      <td>...</td>\n",
              "    </tr>\n",
              "    <tr>\n",
              "      <th>77</th>\n",
              "      <td>80</td>\n",
              "      <td>tcs cmo study how retailers are digitally pers...</td>\n",
              "      <td>Industry</td>\n",
              "    </tr>\n",
              "    <tr>\n",
              "      <th>78</th>\n",
              "      <td>81</td>\n",
              "      <td>tcs cmo study how travel transportation and ho...</td>\n",
              "      <td>Industry</td>\n",
              "    </tr>\n",
              "    <tr>\n",
              "      <th>79</th>\n",
              "      <td>83</td>\n",
              "      <td>tcs cmo study stage conversion personalizing c...</td>\n",
              "      <td>Industry</td>\n",
              "    </tr>\n",
              "    <tr>\n",
              "      <th>80</th>\n",
              "      <td>84</td>\n",
              "      <td>employee wellness analysis creating data drive...</td>\n",
              "      <td>HR</td>\n",
              "    </tr>\n",
              "    <tr>\n",
              "      <th>81</th>\n",
              "      <td>85</td>\n",
              "      <td>why the emotional wellbeing of your employees ...</td>\n",
              "      <td>HR</td>\n",
              "    </tr>\n",
              "  </tbody>\n",
              "</table>\n",
              "<p>82 rows × 3 columns</p>\n",
              "</div>"
            ],
            "text/plain": [
              "    asset_id                                        asset_title    Domain\n",
              "0          1  the ascent of the smarter faster lighter enter...        CX\n",
              "1          2                      agile s day has truly arrived     Agile\n",
              "2          3                          riding the cognitive wave        AI\n",
              "3          4  using iot data to understand how your products...       IOT\n",
              "4          5  the view inside our take on the customer exper...        CX\n",
              "..       ...                                                ...       ...\n",
              "77        80  tcs cmo study how retailers are digitally pers...  Industry\n",
              "78        81  tcs cmo study how travel transportation and ho...  Industry\n",
              "79        83  tcs cmo study stage conversion personalizing c...  Industry\n",
              "80        84  employee wellness analysis creating data drive...        HR\n",
              "81        85  why the emotional wellbeing of your employees ...        HR\n",
              "\n",
              "[82 rows x 3 columns]"
            ]
          },
          "metadata": {
            "tags": []
          },
          "execution_count": 16
        }
      ]
    },
    {
      "cell_type": "code",
      "metadata": {
        "id": "-09sI50NNsQr"
      },
      "source": [
        "df_reco.to_csv(\"/content/drive/MyDrive/Collaborative_Recommendation/recommendation_v4.csv\",index=False)"
      ],
      "execution_count": null,
      "outputs": []
    },
    {
      "cell_type": "code",
      "metadata": {
        "colab": {
          "base_uri": "https://localhost:8080/",
          "height": 736
        },
        "id": "XZGmScNCOHpo",
        "outputId": "aeae6aca-9cca-41ed-cbae-864698577a61"
      },
      "source": [
        "df_reco"
      ],
      "execution_count": null,
      "outputs": [
        {
          "output_type": "execute_result",
          "data": {
            "text/html": [
              "<div>\n",
              "<style scoped>\n",
              "    .dataframe tbody tr th:only-of-type {\n",
              "        vertical-align: middle;\n",
              "    }\n",
              "\n",
              "    .dataframe tbody tr th {\n",
              "        vertical-align: top;\n",
              "    }\n",
              "\n",
              "    .dataframe thead th {\n",
              "        text-align: right;\n",
              "    }\n",
              "</style>\n",
              "<table border=\"1\" class=\"dataframe\">\n",
              "  <thead>\n",
              "    <tr style=\"text-align: right;\">\n",
              "      <th></th>\n",
              "      <th>asset_id</th>\n",
              "      <th>asset_description</th>\n",
              "      <th>asset_title</th>\n",
              "      <th>custom_stop_desc</th>\n",
              "      <th>custom_stop_title</th>\n",
              "      <th>asset_description_cleaned</th>\n",
              "      <th>asset_title_cleaned</th>\n",
              "      <th>Domain</th>\n",
              "    </tr>\n",
              "  </thead>\n",
              "  <tbody>\n",
              "    <tr>\n",
              "      <th>0</th>\n",
              "      <td>1</td>\n",
              "      <td>peter drucker the legendary management scholar...</td>\n",
              "      <td>the ascent of the smarter faster lighter enter...</td>\n",
              "      <td>['3a', 'a', 'an', 'on', 'at', 'is', 's', 'do',...</td>\n",
              "      <td>['of']</td>\n",
              "      <td>peter drucker legendary management scholar con...</td>\n",
              "      <td>ascent smarter faster lighter enterprise</td>\n",
              "      <td>CX</td>\n",
              "    </tr>\n",
              "    <tr>\n",
              "      <th>1</th>\n",
              "      <td>2</td>\n",
              "      <td>the software development community has been us...</td>\n",
              "      <td>agile s day has truly arrived</td>\n",
              "      <td>['a', 'u', 'we', 'k', 'i', 'on', 'at', 'is', '...</td>\n",
              "      <td>['s']</td>\n",
              "      <td>software development community using term agil...</td>\n",
              "      <td>agile day truly arrived</td>\n",
              "      <td>Agile</td>\n",
              "    </tr>\n",
              "    <tr>\n",
              "      <th>2</th>\n",
              "      <td>3</td>\n",
              "      <td>many exciting new digital technologies have ev...</td>\n",
              "      <td>riding the cognitive wave</td>\n",
              "      <td>['a', 'we', 'e', 'an', 'on', 'at', 'is', 'do',...</td>\n",
              "      <td>[]</td>\n",
              "      <td>many exciting new digital technology evolved r...</td>\n",
              "      <td>riding cognitive wave</td>\n",
              "      <td>AI</td>\n",
              "    </tr>\n",
              "    <tr>\n",
              "      <th>3</th>\n",
              "      <td>4</td>\n",
              "      <td>we have all seen some eye bulging numbers in r...</td>\n",
              "      <td>using iot data to understand how your products...</td>\n",
              "      <td>['hp', 'a', 'we', 'an', 'on', 'at', 'is', 's',...</td>\n",
              "      <td>['to']</td>\n",
              "      <td>seen eye bulging number recent year internet t...</td>\n",
              "      <td>using iot data understand product perform</td>\n",
              "      <td>IOT</td>\n",
              "    </tr>\n",
              "    <tr>\n",
              "      <th>4</th>\n",
              "      <td>5</td>\n",
              "      <td>you probably need little evidence to believe t...</td>\n",
              "      <td>the view inside our take on the customer exper...</td>\n",
              "      <td>['a', 'we', 'e', 'an', 'i', 'on', 'at', 'is', ...</td>\n",
              "      <td>['on']</td>\n",
              "      <td>probably need little evidence believe experien...</td>\n",
              "      <td>view inside take customer experience revolution</td>\n",
              "      <td>CX</td>\n",
              "    </tr>\n",
              "    <tr>\n",
              "      <th>...</th>\n",
              "      <td>...</td>\n",
              "      <td>...</td>\n",
              "      <td>...</td>\n",
              "      <td>...</td>\n",
              "      <td>...</td>\n",
              "      <td>...</td>\n",
              "      <td>...</td>\n",
              "      <td>...</td>\n",
              "    </tr>\n",
              "    <tr>\n",
              "      <th>77</th>\n",
              "      <td>80</td>\n",
              "      <td>this report is based on tcs larger study on di...</td>\n",
              "      <td>tcs cmo study how retailers are digitally pers...</td>\n",
              "      <td>['3a', 'a', 'we', 'on', 'at', 'is', 's', 'do',...</td>\n",
              "      <td>['to']</td>\n",
              "      <td>report based tc larger study digital marketing...</td>\n",
              "      <td>tc cmo study retailer digitally personalizing ...</td>\n",
              "      <td>Industry</td>\n",
              "    </tr>\n",
              "    <tr>\n",
              "      <th>78</th>\n",
              "      <td>81</td>\n",
              "      <td>this report on marketers in the travel transpo...</td>\n",
              "      <td>tcs cmo study how travel transportation and ho...</td>\n",
              "      <td>['a', 'we', 'e', 'on', 'is', 's', 'do', 'go', ...</td>\n",
              "      <td>['to']</td>\n",
              "      <td>report marketer travel transportation hospital...</td>\n",
              "      <td>tc cmo study travel transportation hospitality...</td>\n",
              "      <td>Industry</td>\n",
              "    </tr>\n",
              "    <tr>\n",
              "      <th>79</th>\n",
              "      <td>83</td>\n",
              "      <td>chief marketing officers have one of the riski...</td>\n",
              "      <td>tcs cmo study stage conversion personalizing c...</td>\n",
              "      <td>['a', 'on', 'at', 'is', 's', 'do', '■', 'vs', ...</td>\n",
              "      <td>['to']</td>\n",
              "      <td>chief marketing officer one riskiest role suit...</td>\n",
              "      <td>tc cmo study stage conversion personalizing co...</td>\n",
              "      <td>Industry</td>\n",
              "    </tr>\n",
              "    <tr>\n",
              "      <th>80</th>\n",
              "      <td>84</td>\n",
              "      <td>the rise of the chief medical officer typicall...</td>\n",
              "      <td>employee wellness analysis creating data drive...</td>\n",
              "      <td>['a', 'an', 'on', 'at', 'is', 's', 'up', 'by',...</td>\n",
              "      <td>[]</td>\n",
              "      <td>rise chief medical officer typically business ...</td>\n",
              "      <td>employee wellness analysis creating data drive...</td>\n",
              "      <td>HR</td>\n",
              "    </tr>\n",
              "    <tr>\n",
              "      <th>81</th>\n",
              "      <td>85</td>\n",
              "      <td>abstract as nations around the world deal with...</td>\n",
              "      <td>why the emotional wellbeing of your employees ...</td>\n",
              "      <td>['a', 'we', 'an', 'on', 'is', 's', 'up', 'by',...</td>\n",
              "      <td>['a', 'of', 'be']</td>\n",
              "      <td>abstract nation around world deal managing cov...</td>\n",
              "      <td>emotional wellbeing employee top priority covid</td>\n",
              "      <td>HR</td>\n",
              "    </tr>\n",
              "  </tbody>\n",
              "</table>\n",
              "<p>82 rows × 8 columns</p>\n",
              "</div>"
            ],
            "text/plain": [
              "    asset_id  ...    Domain\n",
              "0          1  ...        CX\n",
              "1          2  ...     Agile\n",
              "2          3  ...        AI\n",
              "3          4  ...       IOT\n",
              "4          5  ...        CX\n",
              "..       ...  ...       ...\n",
              "77        80  ...  Industry\n",
              "78        81  ...  Industry\n",
              "79        83  ...  Industry\n",
              "80        84  ...        HR\n",
              "81        85  ...        HR\n",
              "\n",
              "[82 rows x 8 columns]"
            ]
          },
          "metadata": {
            "tags": []
          },
          "execution_count": 18
        }
      ]
    },
    {
      "cell_type": "markdown",
      "metadata": {
        "id": "G7g1MIJYPh5I"
      },
      "source": [
        "## Let Total User Be 100 \n",
        "We will divide these into 8 Categories as per domain derived\n",
        "User Domain\n",
        "\n",
        "\n",
        "*   1 - 12 :CX\n",
        "*   13 - 24 : Agile\n",
        "*   25 - 36 : AI\n",
        "*   37 - 48 : IOT\n",
        "*   49 - 60 : BigData\n",
        "*   61 - 72 : Cloud\n",
        "*   73 - 84 : HR\n",
        "*   85 - 100 : Industry\n"
      ]
    },
    {
      "cell_type": "code",
      "metadata": {
        "colab": {
          "base_uri": "https://localhost:8080/"
        },
        "id": "2CBMBakbPDWY",
        "outputId": "16156760-a2c9-4bf6-c572-fff5903f7309"
      },
      "source": [
        "df_reco['Domain'].unique()"
      ],
      "execution_count": null,
      "outputs": [
        {
          "output_type": "execute_result",
          "data": {
            "text/plain": [
              "array(['CX', 'Agile', 'AI', 'IOT', 'BigData', 'Cloud', 'HR', 'Industry'],\n",
              "      dtype=object)"
            ]
          },
          "metadata": {
            "tags": []
          },
          "execution_count": 19
        }
      ]
    },
    {
      "cell_type": "code",
      "metadata": {
        "id": "KhvasJSDyCJ4"
      },
      "source": [
        "def make_full_user_list(l_user,l_asset):\n",
        "    test_list = []\n",
        "\n",
        "    for i in l_user:\n",
        "        for j in range(len(l_asset)):\n",
        "            test_list.append(i)\n",
        "    return test_list        \n"
      ],
      "execution_count": null,
      "outputs": []
    },
    {
      "cell_type": "markdown",
      "metadata": {
        "id": "CA5-TjiPSEbK"
      },
      "source": [
        "### CX"
      ]
    },
    {
      "cell_type": "code",
      "metadata": {
        "id": "uFEBggsoOmTM"
      },
      "source": [
        "cx_asset = list(df_reco.asset_id[df_reco.Domain=='CX'])"
      ],
      "execution_count": null,
      "outputs": []
    },
    {
      "cell_type": "code",
      "metadata": {
        "colab": {
          "base_uri": "https://localhost:8080/"
        },
        "id": "CQn1I7XoPTaO",
        "outputId": "440bdec4-a5a2-4505-bce9-4226171852e0"
      },
      "source": [
        "print(cx_asset)"
      ],
      "execution_count": null,
      "outputs": [
        {
          "output_type": "stream",
          "text": [
            "[1, 5, 9, 12, 14, 15, 16, 17, 18, 20, 22, 23, 25, 49, 57, 70, 71, 74, 76]\n"
          ],
          "name": "stdout"
        }
      ]
    },
    {
      "cell_type": "code",
      "metadata": {
        "colab": {
          "base_uri": "https://localhost:8080/"
        },
        "id": "_LqKLCWPRteJ",
        "outputId": "3a9e0483-10a3-4023-e8a8-cb5c6cf10079"
      },
      "source": [
        "len(cx_asset)"
      ],
      "execution_count": null,
      "outputs": [
        {
          "output_type": "execute_result",
          "data": {
            "text/plain": [
              "19"
            ]
          },
          "metadata": {
            "tags": []
          },
          "execution_count": 131
        }
      ]
    },
    {
      "cell_type": "code",
      "metadata": {
        "id": "a_Hl_75RRUQu"
      },
      "source": [
        "cx_user = [1,2,3,4,5,6,7,8,9,10,11,12]"
      ],
      "execution_count": null,
      "outputs": []
    },
    {
      "cell_type": "code",
      "metadata": {
        "id": "Bzn2IVUbRRNi"
      },
      "source": [
        "full_cxuser_list = make_full_user_list(cx_user,cx_asset)"
      ],
      "execution_count": null,
      "outputs": []
    },
    {
      "cell_type": "code",
      "metadata": {
        "colab": {
          "base_uri": "https://localhost:8080/"
        },
        "id": "5k_VfkLGTNsJ",
        "outputId": "9ea4e198-703b-47d2-9713-877bd821aa94"
      },
      "source": [
        "19*12"
      ],
      "execution_count": null,
      "outputs": [
        {
          "output_type": "execute_result",
          "data": {
            "text/plain": [
              "228"
            ]
          },
          "metadata": {
            "tags": []
          },
          "execution_count": 134
        }
      ]
    },
    {
      "cell_type": "code",
      "metadata": {
        "colab": {
          "base_uri": "https://localhost:8080/"
        },
        "id": "6NfOYtDISaaf",
        "outputId": "f085c8b1-bb45-4c74-de0c-023b2cb2628a"
      },
      "source": [
        "len(full_cxuser_list)"
      ],
      "execution_count": null,
      "outputs": [
        {
          "output_type": "execute_result",
          "data": {
            "text/plain": [
              "228"
            ]
          },
          "metadata": {
            "tags": []
          },
          "execution_count": 135
        }
      ]
    },
    {
      "cell_type": "code",
      "metadata": {
        "colab": {
          "base_uri": "https://localhost:8080/"
        },
        "id": "BBIp2AwdR8aa",
        "outputId": "1ee28eb0-db21-42a2-8c63-6a8867a256dc"
      },
      "source": [
        "print(full_cxuser_list)"
      ],
      "execution_count": null,
      "outputs": [
        {
          "output_type": "stream",
          "text": [
            "[1, 1, 1, 1, 1, 1, 1, 1, 1, 1, 1, 1, 1, 1, 1, 1, 1, 1, 1, 2, 2, 2, 2, 2, 2, 2, 2, 2, 2, 2, 2, 2, 2, 2, 2, 2, 2, 2, 3, 3, 3, 3, 3, 3, 3, 3, 3, 3, 3, 3, 3, 3, 3, 3, 3, 3, 3, 4, 4, 4, 4, 4, 4, 4, 4, 4, 4, 4, 4, 4, 4, 4, 4, 4, 4, 4, 5, 5, 5, 5, 5, 5, 5, 5, 5, 5, 5, 5, 5, 5, 5, 5, 5, 5, 5, 6, 6, 6, 6, 6, 6, 6, 6, 6, 6, 6, 6, 6, 6, 6, 6, 6, 6, 6, 7, 7, 7, 7, 7, 7, 7, 7, 7, 7, 7, 7, 7, 7, 7, 7, 7, 7, 7, 8, 8, 8, 8, 8, 8, 8, 8, 8, 8, 8, 8, 8, 8, 8, 8, 8, 8, 8, 9, 9, 9, 9, 9, 9, 9, 9, 9, 9, 9, 9, 9, 9, 9, 9, 9, 9, 9, 10, 10, 10, 10, 10, 10, 10, 10, 10, 10, 10, 10, 10, 10, 10, 10, 10, 10, 10, 11, 11, 11, 11, 11, 11, 11, 11, 11, 11, 11, 11, 11, 11, 11, 11, 11, 11, 11, 12, 12, 12, 12, 12, 12, 12, 12, 12, 12, 12, 12, 12, 12, 12, 12, 12, 12, 12]\n"
          ],
          "name": "stdout"
        }
      ]
    },
    {
      "cell_type": "code",
      "metadata": {
        "id": "1JkrO-jXR-Cm"
      },
      "source": [
        "full_cxrating_list = list(np.random.randint(6,size=len(full_cxuser_list)))"
      ],
      "execution_count": null,
      "outputs": []
    },
    {
      "cell_type": "code",
      "metadata": {
        "colab": {
          "base_uri": "https://localhost:8080/"
        },
        "id": "7VfEVEVDSfX1",
        "outputId": "63ffc600-35d3-4acd-8e08-85d711f23b61"
      },
      "source": [
        "print(full_cxrating_list)"
      ],
      "execution_count": null,
      "outputs": [
        {
          "output_type": "stream",
          "text": [
            "[0, 0, 0, 3, 0, 4, 1, 4, 5, 4, 0, 0, 1, 1, 0, 3, 4, 1, 4, 4, 1, 2, 4, 2, 4, 2, 4, 0, 3, 4, 5, 0, 4, 4, 1, 0, 5, 2, 0, 3, 3, 1, 2, 5, 2, 0, 5, 5, 3, 4, 3, 3, 4, 0, 3, 3, 1, 3, 4, 5, 3, 0, 4, 1, 3, 0, 3, 2, 1, 3, 1, 0, 3, 5, 3, 0, 0, 4, 3, 0, 1, 1, 4, 1, 5, 5, 3, 1, 3, 0, 4, 2, 5, 0, 2, 4, 2, 2, 0, 5, 2, 2, 3, 0, 5, 0, 0, 2, 4, 3, 2, 5, 2, 3, 1, 2, 5, 0, 2, 4, 2, 5, 3, 0, 4, 1, 3, 2, 2, 4, 5, 3, 4, 0, 5, 2, 0, 5, 2, 3, 0, 0, 4, 2, 1, 2, 1, 0, 4, 4, 4, 4, 5, 0, 4, 5, 1, 1, 1, 2, 3, 0, 2, 2, 2, 3, 5, 4, 1, 2, 4, 1, 3, 2, 3, 5, 1, 0, 0, 5, 5, 3, 2, 1, 0, 2, 0, 4, 0, 2, 4, 5, 4, 5, 1, 1, 5, 2, 0, 2, 0, 0, 2, 1, 2, 5, 1, 5, 0, 0, 3, 4, 0, 3, 2, 3, 5, 1, 3, 0, 0, 1, 2, 2, 3, 0, 5, 0]\n"
          ],
          "name": "stdout"
        }
      ]
    },
    {
      "cell_type": "code",
      "metadata": {
        "colab": {
          "base_uri": "https://localhost:8080/"
        },
        "id": "4dXlIcFDSiUn",
        "outputId": "314a1f2f-4a29-4d1c-f88e-931e9f4dfaf7"
      },
      "source": [
        "len(full_cxrating_list)"
      ],
      "execution_count": null,
      "outputs": [
        {
          "output_type": "execute_result",
          "data": {
            "text/plain": [
              "228"
            ]
          },
          "metadata": {
            "tags": []
          },
          "execution_count": 139
        }
      ]
    },
    {
      "cell_type": "code",
      "metadata": {
        "id": "0_YIsDeDSmJh"
      },
      "source": [
        "full_cxasset_list  = cx_asset *len(cx_user)"
      ],
      "execution_count": null,
      "outputs": []
    },
    {
      "cell_type": "code",
      "metadata": {
        "colab": {
          "base_uri": "https://localhost:8080/"
        },
        "id": "q8gTdxX0S4VD",
        "outputId": "5f345610-27dc-4daa-f823-1e37522c7035"
      },
      "source": [
        "print(full_cxasset_list)"
      ],
      "execution_count": null,
      "outputs": [
        {
          "output_type": "stream",
          "text": [
            "[1, 5, 9, 12, 14, 15, 16, 17, 18, 20, 22, 23, 25, 49, 57, 70, 71, 74, 76, 1, 5, 9, 12, 14, 15, 16, 17, 18, 20, 22, 23, 25, 49, 57, 70, 71, 74, 76, 1, 5, 9, 12, 14, 15, 16, 17, 18, 20, 22, 23, 25, 49, 57, 70, 71, 74, 76, 1, 5, 9, 12, 14, 15, 16, 17, 18, 20, 22, 23, 25, 49, 57, 70, 71, 74, 76, 1, 5, 9, 12, 14, 15, 16, 17, 18, 20, 22, 23, 25, 49, 57, 70, 71, 74, 76, 1, 5, 9, 12, 14, 15, 16, 17, 18, 20, 22, 23, 25, 49, 57, 70, 71, 74, 76, 1, 5, 9, 12, 14, 15, 16, 17, 18, 20, 22, 23, 25, 49, 57, 70, 71, 74, 76, 1, 5, 9, 12, 14, 15, 16, 17, 18, 20, 22, 23, 25, 49, 57, 70, 71, 74, 76, 1, 5, 9, 12, 14, 15, 16, 17, 18, 20, 22, 23, 25, 49, 57, 70, 71, 74, 76, 1, 5, 9, 12, 14, 15, 16, 17, 18, 20, 22, 23, 25, 49, 57, 70, 71, 74, 76, 1, 5, 9, 12, 14, 15, 16, 17, 18, 20, 22, 23, 25, 49, 57, 70, 71, 74, 76, 1, 5, 9, 12, 14, 15, 16, 17, 18, 20, 22, 23, 25, 49, 57, 70, 71, 74, 76]\n"
          ],
          "name": "stdout"
        }
      ]
    },
    {
      "cell_type": "code",
      "metadata": {
        "colab": {
          "base_uri": "https://localhost:8080/"
        },
        "id": "SK_Q5zuoS6yD",
        "outputId": "0ff3af10-edc0-499e-ea5a-7426dfe02af4"
      },
      "source": [
        "len(full_cxasset_list)"
      ],
      "execution_count": null,
      "outputs": [
        {
          "output_type": "execute_result",
          "data": {
            "text/plain": [
              "228"
            ]
          },
          "metadata": {
            "tags": []
          },
          "execution_count": 142
        }
      ]
    },
    {
      "cell_type": "code",
      "metadata": {
        "id": "QfT--_GWS8Hl"
      },
      "source": [
        "user_cx_asset_ratings =  pd.DataFrame()"
      ],
      "execution_count": null,
      "outputs": []
    },
    {
      "cell_type": "code",
      "metadata": {
        "id": "XbE_rBx1Tqy2"
      },
      "source": [
        "user_cx_asset_ratings['uid'] = full_cxuser_list\n",
        "user_cx_asset_ratings['asset_id'] = full_cxasset_list\n",
        "user_cx_asset_ratings['Ratings'] =  full_cxrating_list"
      ],
      "execution_count": null,
      "outputs": []
    },
    {
      "cell_type": "code",
      "metadata": {
        "colab": {
          "base_uri": "https://localhost:8080/",
          "height": 424
        },
        "id": "-opNi8lcT6oF",
        "outputId": "2a887c47-1ca6-4ffd-c30b-af2a6aa6960e"
      },
      "source": [
        "user_cx_asset_ratings"
      ],
      "execution_count": null,
      "outputs": [
        {
          "output_type": "execute_result",
          "data": {
            "text/html": [
              "<div>\n",
              "<style scoped>\n",
              "    .dataframe tbody tr th:only-of-type {\n",
              "        vertical-align: middle;\n",
              "    }\n",
              "\n",
              "    .dataframe tbody tr th {\n",
              "        vertical-align: top;\n",
              "    }\n",
              "\n",
              "    .dataframe thead th {\n",
              "        text-align: right;\n",
              "    }\n",
              "</style>\n",
              "<table border=\"1\" class=\"dataframe\">\n",
              "  <thead>\n",
              "    <tr style=\"text-align: right;\">\n",
              "      <th></th>\n",
              "      <th>uid</th>\n",
              "      <th>asset_id</th>\n",
              "      <th>Ratings</th>\n",
              "    </tr>\n",
              "  </thead>\n",
              "  <tbody>\n",
              "    <tr>\n",
              "      <th>0</th>\n",
              "      <td>1</td>\n",
              "      <td>1</td>\n",
              "      <td>0</td>\n",
              "    </tr>\n",
              "    <tr>\n",
              "      <th>1</th>\n",
              "      <td>1</td>\n",
              "      <td>5</td>\n",
              "      <td>0</td>\n",
              "    </tr>\n",
              "    <tr>\n",
              "      <th>2</th>\n",
              "      <td>1</td>\n",
              "      <td>9</td>\n",
              "      <td>0</td>\n",
              "    </tr>\n",
              "    <tr>\n",
              "      <th>3</th>\n",
              "      <td>1</td>\n",
              "      <td>12</td>\n",
              "      <td>3</td>\n",
              "    </tr>\n",
              "    <tr>\n",
              "      <th>4</th>\n",
              "      <td>1</td>\n",
              "      <td>14</td>\n",
              "      <td>0</td>\n",
              "    </tr>\n",
              "    <tr>\n",
              "      <th>...</th>\n",
              "      <td>...</td>\n",
              "      <td>...</td>\n",
              "      <td>...</td>\n",
              "    </tr>\n",
              "    <tr>\n",
              "      <th>223</th>\n",
              "      <td>12</td>\n",
              "      <td>57</td>\n",
              "      <td>2</td>\n",
              "    </tr>\n",
              "    <tr>\n",
              "      <th>224</th>\n",
              "      <td>12</td>\n",
              "      <td>70</td>\n",
              "      <td>3</td>\n",
              "    </tr>\n",
              "    <tr>\n",
              "      <th>225</th>\n",
              "      <td>12</td>\n",
              "      <td>71</td>\n",
              "      <td>0</td>\n",
              "    </tr>\n",
              "    <tr>\n",
              "      <th>226</th>\n",
              "      <td>12</td>\n",
              "      <td>74</td>\n",
              "      <td>5</td>\n",
              "    </tr>\n",
              "    <tr>\n",
              "      <th>227</th>\n",
              "      <td>12</td>\n",
              "      <td>76</td>\n",
              "      <td>0</td>\n",
              "    </tr>\n",
              "  </tbody>\n",
              "</table>\n",
              "<p>228 rows × 3 columns</p>\n",
              "</div>"
            ],
            "text/plain": [
              "     uid  asset_id  Ratings\n",
              "0      1         1        0\n",
              "1      1         5        0\n",
              "2      1         9        0\n",
              "3      1        12        3\n",
              "4      1        14        0\n",
              "..   ...       ...      ...\n",
              "223   12        57        2\n",
              "224   12        70        3\n",
              "225   12        71        0\n",
              "226   12        74        5\n",
              "227   12        76        0\n",
              "\n",
              "[228 rows x 3 columns]"
            ]
          },
          "metadata": {
            "tags": []
          },
          "execution_count": 145
        }
      ]
    },
    {
      "cell_type": "code",
      "metadata": {
        "colab": {
          "base_uri": "https://localhost:8080/"
        },
        "id": "bJa29su8lnN6",
        "outputId": "875f9da7-309c-4619-c522-efe8ee6ddbc5"
      },
      "source": [
        "(user_cx_asset_ratings[user_cx_asset_ratings.uid==1]).shape"
      ],
      "execution_count": null,
      "outputs": [
        {
          "output_type": "execute_result",
          "data": {
            "text/plain": [
              "(19, 3)"
            ]
          },
          "metadata": {
            "tags": []
          },
          "execution_count": 146
        }
      ]
    },
    {
      "cell_type": "code",
      "metadata": {
        "colab": {
          "base_uri": "https://localhost:8080/"
        },
        "id": "P9kP4CFyT80P",
        "outputId": "f2c4397a-a16b-4fa2-9366-11b1ba9bb151"
      },
      "source": [
        "print((user_cx_asset_ratings['Ratings']==0).sum())"
      ],
      "execution_count": null,
      "outputs": [
        {
          "output_type": "stream",
          "text": [
            "49\n"
          ],
          "name": "stdout"
        }
      ]
    },
    {
      "cell_type": "code",
      "metadata": {
        "colab": {
          "base_uri": "https://localhost:8080/"
        },
        "id": "Ibx7G6_pUWrK",
        "outputId": "1d4f39c2-8492-45bd-e210-5c90ca843ca8"
      },
      "source": [
        "print((user_cx_asset_ratings['Ratings']==1).sum())"
      ],
      "execution_count": null,
      "outputs": [
        {
          "output_type": "stream",
          "text": [
            "32\n"
          ],
          "name": "stdout"
        }
      ]
    },
    {
      "cell_type": "code",
      "metadata": {
        "colab": {
          "base_uri": "https://localhost:8080/"
        },
        "id": "qb5dFnP8U0hu",
        "outputId": "e9fb852f-f706-431b-b8a3-2b66dfa42a12"
      },
      "source": [
        "print((user_cx_asset_ratings['Ratings']==2).sum())"
      ],
      "execution_count": null,
      "outputs": [
        {
          "output_type": "stream",
          "text": [
            "41\n"
          ],
          "name": "stdout"
        }
      ]
    },
    {
      "cell_type": "code",
      "metadata": {
        "id": "iib2_QVAU3K9"
      },
      "source": [
        "user_cx_asset_ratings.Ratings[user_cx_asset_ratings['Ratings'] == 1] = 0"
      ],
      "execution_count": null,
      "outputs": []
    },
    {
      "cell_type": "code",
      "metadata": {
        "colab": {
          "base_uri": "https://localhost:8080/"
        },
        "id": "oj8fU8cIVLfQ",
        "outputId": "ac71e831-88bb-4d6b-8e3e-648de2b7b6d0"
      },
      "source": [
        "print((user_cx_asset_ratings['Ratings']==0).sum())"
      ],
      "execution_count": null,
      "outputs": [
        {
          "output_type": "stream",
          "text": [
            "81\n"
          ],
          "name": "stdout"
        }
      ]
    },
    {
      "cell_type": "code",
      "metadata": {
        "colab": {
          "base_uri": "https://localhost:8080/",
          "height": 424
        },
        "id": "6SrJFSKPVOVP",
        "outputId": "334be31b-327e-48da-8213-223084c9ad07"
      },
      "source": [
        "user_cx_asset_ratings"
      ],
      "execution_count": null,
      "outputs": [
        {
          "output_type": "execute_result",
          "data": {
            "text/html": [
              "<div>\n",
              "<style scoped>\n",
              "    .dataframe tbody tr th:only-of-type {\n",
              "        vertical-align: middle;\n",
              "    }\n",
              "\n",
              "    .dataframe tbody tr th {\n",
              "        vertical-align: top;\n",
              "    }\n",
              "\n",
              "    .dataframe thead th {\n",
              "        text-align: right;\n",
              "    }\n",
              "</style>\n",
              "<table border=\"1\" class=\"dataframe\">\n",
              "  <thead>\n",
              "    <tr style=\"text-align: right;\">\n",
              "      <th></th>\n",
              "      <th>uid</th>\n",
              "      <th>asset_id</th>\n",
              "      <th>Ratings</th>\n",
              "    </tr>\n",
              "  </thead>\n",
              "  <tbody>\n",
              "    <tr>\n",
              "      <th>0</th>\n",
              "      <td>1</td>\n",
              "      <td>1</td>\n",
              "      <td>0</td>\n",
              "    </tr>\n",
              "    <tr>\n",
              "      <th>1</th>\n",
              "      <td>1</td>\n",
              "      <td>5</td>\n",
              "      <td>0</td>\n",
              "    </tr>\n",
              "    <tr>\n",
              "      <th>2</th>\n",
              "      <td>1</td>\n",
              "      <td>9</td>\n",
              "      <td>0</td>\n",
              "    </tr>\n",
              "    <tr>\n",
              "      <th>3</th>\n",
              "      <td>1</td>\n",
              "      <td>12</td>\n",
              "      <td>3</td>\n",
              "    </tr>\n",
              "    <tr>\n",
              "      <th>4</th>\n",
              "      <td>1</td>\n",
              "      <td>14</td>\n",
              "      <td>0</td>\n",
              "    </tr>\n",
              "    <tr>\n",
              "      <th>...</th>\n",
              "      <td>...</td>\n",
              "      <td>...</td>\n",
              "      <td>...</td>\n",
              "    </tr>\n",
              "    <tr>\n",
              "      <th>223</th>\n",
              "      <td>12</td>\n",
              "      <td>57</td>\n",
              "      <td>2</td>\n",
              "    </tr>\n",
              "    <tr>\n",
              "      <th>224</th>\n",
              "      <td>12</td>\n",
              "      <td>70</td>\n",
              "      <td>3</td>\n",
              "    </tr>\n",
              "    <tr>\n",
              "      <th>225</th>\n",
              "      <td>12</td>\n",
              "      <td>71</td>\n",
              "      <td>0</td>\n",
              "    </tr>\n",
              "    <tr>\n",
              "      <th>226</th>\n",
              "      <td>12</td>\n",
              "      <td>74</td>\n",
              "      <td>5</td>\n",
              "    </tr>\n",
              "    <tr>\n",
              "      <th>227</th>\n",
              "      <td>12</td>\n",
              "      <td>76</td>\n",
              "      <td>0</td>\n",
              "    </tr>\n",
              "  </tbody>\n",
              "</table>\n",
              "<p>228 rows × 3 columns</p>\n",
              "</div>"
            ],
            "text/plain": [
              "     uid  asset_id  Ratings\n",
              "0      1         1        0\n",
              "1      1         5        0\n",
              "2      1         9        0\n",
              "3      1        12        3\n",
              "4      1        14        0\n",
              "..   ...       ...      ...\n",
              "223   12        57        2\n",
              "224   12        70        3\n",
              "225   12        71        0\n",
              "226   12        74        5\n",
              "227   12        76        0\n",
              "\n",
              "[228 rows x 3 columns]"
            ]
          },
          "metadata": {
            "tags": []
          },
          "execution_count": 152
        }
      ]
    },
    {
      "cell_type": "code",
      "metadata": {
        "colab": {
          "base_uri": "https://localhost:8080/"
        },
        "id": "ThEeksF4mH9b",
        "outputId": "4b534060-e920-457d-ab79-302b39acca01"
      },
      "source": [
        "occ = []\n",
        "for i in cx_user:\n",
        "    occ.append((user_cx_asset_ratings[user_cx_asset_ratings.uid==i]).shape[0])\n",
        "print(set(occ))\n"
      ],
      "execution_count": null,
      "outputs": [
        {
          "output_type": "stream",
          "text": [
            "{19}\n"
          ],
          "name": "stdout"
        }
      ]
    },
    {
      "cell_type": "code",
      "metadata": {
        "colab": {
          "base_uri": "https://localhost:8080/",
          "height": 645
        },
        "id": "xFDFXn9Nyqmj",
        "outputId": "bdbddac7-8bbf-43fe-b6c4-8bf43a979afe"
      },
      "source": [
        "user_cx_asset_ratings[user_cx_asset_ratings.uid==11]"
      ],
      "execution_count": null,
      "outputs": [
        {
          "output_type": "execute_result",
          "data": {
            "text/html": [
              "<div>\n",
              "<style scoped>\n",
              "    .dataframe tbody tr th:only-of-type {\n",
              "        vertical-align: middle;\n",
              "    }\n",
              "\n",
              "    .dataframe tbody tr th {\n",
              "        vertical-align: top;\n",
              "    }\n",
              "\n",
              "    .dataframe thead th {\n",
              "        text-align: right;\n",
              "    }\n",
              "</style>\n",
              "<table border=\"1\" class=\"dataframe\">\n",
              "  <thead>\n",
              "    <tr style=\"text-align: right;\">\n",
              "      <th></th>\n",
              "      <th>uid</th>\n",
              "      <th>asset_id</th>\n",
              "      <th>Ratings</th>\n",
              "    </tr>\n",
              "  </thead>\n",
              "  <tbody>\n",
              "    <tr>\n",
              "      <th>190</th>\n",
              "      <td>11</td>\n",
              "      <td>1</td>\n",
              "      <td>4</td>\n",
              "    </tr>\n",
              "    <tr>\n",
              "      <th>191</th>\n",
              "      <td>11</td>\n",
              "      <td>5</td>\n",
              "      <td>5</td>\n",
              "    </tr>\n",
              "    <tr>\n",
              "      <th>192</th>\n",
              "      <td>11</td>\n",
              "      <td>9</td>\n",
              "      <td>4</td>\n",
              "    </tr>\n",
              "    <tr>\n",
              "      <th>193</th>\n",
              "      <td>11</td>\n",
              "      <td>12</td>\n",
              "      <td>5</td>\n",
              "    </tr>\n",
              "    <tr>\n",
              "      <th>194</th>\n",
              "      <td>11</td>\n",
              "      <td>14</td>\n",
              "      <td>0</td>\n",
              "    </tr>\n",
              "    <tr>\n",
              "      <th>195</th>\n",
              "      <td>11</td>\n",
              "      <td>15</td>\n",
              "      <td>0</td>\n",
              "    </tr>\n",
              "    <tr>\n",
              "      <th>196</th>\n",
              "      <td>11</td>\n",
              "      <td>16</td>\n",
              "      <td>5</td>\n",
              "    </tr>\n",
              "    <tr>\n",
              "      <th>197</th>\n",
              "      <td>11</td>\n",
              "      <td>17</td>\n",
              "      <td>2</td>\n",
              "    </tr>\n",
              "    <tr>\n",
              "      <th>198</th>\n",
              "      <td>11</td>\n",
              "      <td>18</td>\n",
              "      <td>0</td>\n",
              "    </tr>\n",
              "    <tr>\n",
              "      <th>199</th>\n",
              "      <td>11</td>\n",
              "      <td>20</td>\n",
              "      <td>2</td>\n",
              "    </tr>\n",
              "    <tr>\n",
              "      <th>200</th>\n",
              "      <td>11</td>\n",
              "      <td>22</td>\n",
              "      <td>0</td>\n",
              "    </tr>\n",
              "    <tr>\n",
              "      <th>201</th>\n",
              "      <td>11</td>\n",
              "      <td>23</td>\n",
              "      <td>0</td>\n",
              "    </tr>\n",
              "    <tr>\n",
              "      <th>202</th>\n",
              "      <td>11</td>\n",
              "      <td>25</td>\n",
              "      <td>2</td>\n",
              "    </tr>\n",
              "    <tr>\n",
              "      <th>203</th>\n",
              "      <td>11</td>\n",
              "      <td>49</td>\n",
              "      <td>0</td>\n",
              "    </tr>\n",
              "    <tr>\n",
              "      <th>204</th>\n",
              "      <td>11</td>\n",
              "      <td>57</td>\n",
              "      <td>2</td>\n",
              "    </tr>\n",
              "    <tr>\n",
              "      <th>205</th>\n",
              "      <td>11</td>\n",
              "      <td>70</td>\n",
              "      <td>5</td>\n",
              "    </tr>\n",
              "    <tr>\n",
              "      <th>206</th>\n",
              "      <td>11</td>\n",
              "      <td>71</td>\n",
              "      <td>0</td>\n",
              "    </tr>\n",
              "    <tr>\n",
              "      <th>207</th>\n",
              "      <td>11</td>\n",
              "      <td>74</td>\n",
              "      <td>5</td>\n",
              "    </tr>\n",
              "    <tr>\n",
              "      <th>208</th>\n",
              "      <td>11</td>\n",
              "      <td>76</td>\n",
              "      <td>0</td>\n",
              "    </tr>\n",
              "  </tbody>\n",
              "</table>\n",
              "</div>"
            ],
            "text/plain": [
              "     uid  asset_id  Ratings\n",
              "190   11         1        4\n",
              "191   11         5        5\n",
              "192   11         9        4\n",
              "193   11        12        5\n",
              "194   11        14        0\n",
              "195   11        15        0\n",
              "196   11        16        5\n",
              "197   11        17        2\n",
              "198   11        18        0\n",
              "199   11        20        2\n",
              "200   11        22        0\n",
              "201   11        23        0\n",
              "202   11        25        2\n",
              "203   11        49        0\n",
              "204   11        57        2\n",
              "205   11        70        5\n",
              "206   11        71        0\n",
              "207   11        74        5\n",
              "208   11        76        0"
            ]
          },
          "metadata": {
            "tags": []
          },
          "execution_count": 156
        }
      ]
    },
    {
      "cell_type": "markdown",
      "metadata": {
        "id": "r3iK79CdVihD"
      },
      "source": [
        "### AGILE"
      ]
    },
    {
      "cell_type": "code",
      "metadata": {
        "id": "Ort6nVQPVRHn"
      },
      "source": [
        "ag_asset = list(df_reco.asset_id[df_reco.Domain=='Agile'])\n",
        "ag_user = [n for n in range(13,25)]\n",
        "full_aguser_list =  make_full_user_list(ag_user,ag_asset)\n",
        "full_agrating_list = list(np.random.randint(6,size=len(full_aguser_list)))\n",
        "full_agasset_list  = ag_asset *len(ag_user)"
      ],
      "execution_count": null,
      "outputs": []
    },
    {
      "cell_type": "code",
      "metadata": {
        "colab": {
          "base_uri": "https://localhost:8080/"
        },
        "id": "9Op9NuOsXdzB",
        "outputId": "2a6b8afc-839a-478a-91af-eacc899cc51a"
      },
      "source": [
        "len(ag_asset),ag_asset,len(ag_user),ag_user"
      ],
      "execution_count": null,
      "outputs": [
        {
          "output_type": "execute_result",
          "data": {
            "text/plain": [
              "(10,\n",
              " [2, 30, 31, 33, 34, 35, 36, 37, 43, 65],\n",
              " 12,\n",
              " [13, 14, 15, 16, 17, 18, 19, 20, 21, 22, 23, 24])"
            ]
          },
          "metadata": {
            "tags": []
          },
          "execution_count": 158
        }
      ]
    },
    {
      "cell_type": "code",
      "metadata": {
        "id": "4-AUV1HuVhrs"
      },
      "source": [
        "user_ag_asset_ratings =  pd.DataFrame()\n",
        "user_ag_asset_ratings['uid'] = full_aguser_list\n",
        "user_ag_asset_ratings['asset_id'] = full_agasset_list\n",
        "user_ag_asset_ratings['Ratings'] =  full_agrating_list"
      ],
      "execution_count": null,
      "outputs": []
    },
    {
      "cell_type": "code",
      "metadata": {
        "colab": {
          "base_uri": "https://localhost:8080/"
        },
        "id": "Vw8vgf26XV7X",
        "outputId": "e8c5f8ac-cc22-4838-cf44-0d6cd109070e"
      },
      "source": [
        "print((user_ag_asset_ratings['Ratings']==0).sum())"
      ],
      "execution_count": null,
      "outputs": [
        {
          "output_type": "stream",
          "text": [
            "15\n"
          ],
          "name": "stdout"
        }
      ]
    },
    {
      "cell_type": "code",
      "metadata": {
        "colab": {
          "base_uri": "https://localhost:8080/"
        },
        "id": "QY-6yRNLl1dZ",
        "outputId": "67c95413-129a-4256-bf99-927f2b749ee7"
      },
      "source": [
        "print((user_ag_asset_ratings['Ratings']==1).sum())"
      ],
      "execution_count": null,
      "outputs": [
        {
          "output_type": "stream",
          "text": [
            "19\n"
          ],
          "name": "stdout"
        }
      ]
    },
    {
      "cell_type": "code",
      "metadata": {
        "colab": {
          "base_uri": "https://localhost:8080/"
        },
        "id": "6ZjbJCNXl2Y7",
        "outputId": "791fc6b0-49e3-4bbb-e093-bb6f8eade16a"
      },
      "source": [
        "print((user_ag_asset_ratings['Ratings']==2).sum())"
      ],
      "execution_count": null,
      "outputs": [
        {
          "output_type": "stream",
          "text": [
            "19\n"
          ],
          "name": "stdout"
        }
      ]
    },
    {
      "cell_type": "code",
      "metadata": {
        "id": "uQJOKkY_Wqhx"
      },
      "source": [
        "user_ag_asset_ratings.Ratings[user_ag_asset_ratings['Ratings'] == 2] = 0"
      ],
      "execution_count": null,
      "outputs": []
    },
    {
      "cell_type": "code",
      "metadata": {
        "colab": {
          "base_uri": "https://localhost:8080/",
          "height": 424
        },
        "id": "UTodxoguWtiN",
        "outputId": "f92e97fa-35ba-4b66-9a60-8c78d31a54f7"
      },
      "source": [
        "user_ag_asset_ratings"
      ],
      "execution_count": null,
      "outputs": [
        {
          "output_type": "execute_result",
          "data": {
            "text/html": [
              "<div>\n",
              "<style scoped>\n",
              "    .dataframe tbody tr th:only-of-type {\n",
              "        vertical-align: middle;\n",
              "    }\n",
              "\n",
              "    .dataframe tbody tr th {\n",
              "        vertical-align: top;\n",
              "    }\n",
              "\n",
              "    .dataframe thead th {\n",
              "        text-align: right;\n",
              "    }\n",
              "</style>\n",
              "<table border=\"1\" class=\"dataframe\">\n",
              "  <thead>\n",
              "    <tr style=\"text-align: right;\">\n",
              "      <th></th>\n",
              "      <th>uid</th>\n",
              "      <th>asset_id</th>\n",
              "      <th>Ratings</th>\n",
              "    </tr>\n",
              "  </thead>\n",
              "  <tbody>\n",
              "    <tr>\n",
              "      <th>0</th>\n",
              "      <td>13</td>\n",
              "      <td>2</td>\n",
              "      <td>0</td>\n",
              "    </tr>\n",
              "    <tr>\n",
              "      <th>1</th>\n",
              "      <td>13</td>\n",
              "      <td>30</td>\n",
              "      <td>3</td>\n",
              "    </tr>\n",
              "    <tr>\n",
              "      <th>2</th>\n",
              "      <td>13</td>\n",
              "      <td>31</td>\n",
              "      <td>1</td>\n",
              "    </tr>\n",
              "    <tr>\n",
              "      <th>3</th>\n",
              "      <td>13</td>\n",
              "      <td>33</td>\n",
              "      <td>0</td>\n",
              "    </tr>\n",
              "    <tr>\n",
              "      <th>4</th>\n",
              "      <td>13</td>\n",
              "      <td>34</td>\n",
              "      <td>3</td>\n",
              "    </tr>\n",
              "    <tr>\n",
              "      <th>...</th>\n",
              "      <td>...</td>\n",
              "      <td>...</td>\n",
              "      <td>...</td>\n",
              "    </tr>\n",
              "    <tr>\n",
              "      <th>115</th>\n",
              "      <td>24</td>\n",
              "      <td>35</td>\n",
              "      <td>4</td>\n",
              "    </tr>\n",
              "    <tr>\n",
              "      <th>116</th>\n",
              "      <td>24</td>\n",
              "      <td>36</td>\n",
              "      <td>4</td>\n",
              "    </tr>\n",
              "    <tr>\n",
              "      <th>117</th>\n",
              "      <td>24</td>\n",
              "      <td>37</td>\n",
              "      <td>1</td>\n",
              "    </tr>\n",
              "    <tr>\n",
              "      <th>118</th>\n",
              "      <td>24</td>\n",
              "      <td>43</td>\n",
              "      <td>3</td>\n",
              "    </tr>\n",
              "    <tr>\n",
              "      <th>119</th>\n",
              "      <td>24</td>\n",
              "      <td>65</td>\n",
              "      <td>5</td>\n",
              "    </tr>\n",
              "  </tbody>\n",
              "</table>\n",
              "<p>120 rows × 3 columns</p>\n",
              "</div>"
            ],
            "text/plain": [
              "     uid  asset_id  Ratings\n",
              "0     13         2        0\n",
              "1     13        30        3\n",
              "2     13        31        1\n",
              "3     13        33        0\n",
              "4     13        34        3\n",
              "..   ...       ...      ...\n",
              "115   24        35        4\n",
              "116   24        36        4\n",
              "117   24        37        1\n",
              "118   24        43        3\n",
              "119   24        65        5\n",
              "\n",
              "[120 rows x 3 columns]"
            ]
          },
          "metadata": {
            "tags": []
          },
          "execution_count": 164
        }
      ]
    },
    {
      "cell_type": "code",
      "metadata": {
        "colab": {
          "base_uri": "https://localhost:8080/"
        },
        "id": "Q2G-Dh2mWv0C",
        "outputId": "446773ce-0f16-4ff2-ac4f-c5b9c79b7c4f"
      },
      "source": [
        "print((user_ag_asset_ratings['Ratings']==0).sum())"
      ],
      "execution_count": null,
      "outputs": [
        {
          "output_type": "stream",
          "text": [
            "34\n"
          ],
          "name": "stdout"
        }
      ]
    },
    {
      "cell_type": "code",
      "metadata": {
        "colab": {
          "base_uri": "https://localhost:8080/"
        },
        "id": "pgF-5s5mnQFe",
        "outputId": "7df35aeb-d8e8-4236-d9c6-136942dfb742"
      },
      "source": [
        "occ = []\n",
        "for i in ag_user:\n",
        "    occ.append((user_ag_asset_ratings[user_ag_asset_ratings.uid==i]).shape[0])\n",
        "print(set(occ))\n"
      ],
      "execution_count": null,
      "outputs": [
        {
          "output_type": "stream",
          "text": [
            "{10}\n"
          ],
          "name": "stdout"
        }
      ]
    },
    {
      "cell_type": "code",
      "metadata": {
        "colab": {
          "base_uri": "https://localhost:8080/",
          "height": 363
        },
        "id": "8xVDZ17NzlY_",
        "outputId": "873fa418-cb68-4d25-bc67-a59830e7cf32"
      },
      "source": [
        "user_ag_asset_ratings[user_ag_asset_ratings.uid==17]"
      ],
      "execution_count": null,
      "outputs": [
        {
          "output_type": "execute_result",
          "data": {
            "text/html": [
              "<div>\n",
              "<style scoped>\n",
              "    .dataframe tbody tr th:only-of-type {\n",
              "        vertical-align: middle;\n",
              "    }\n",
              "\n",
              "    .dataframe tbody tr th {\n",
              "        vertical-align: top;\n",
              "    }\n",
              "\n",
              "    .dataframe thead th {\n",
              "        text-align: right;\n",
              "    }\n",
              "</style>\n",
              "<table border=\"1\" class=\"dataframe\">\n",
              "  <thead>\n",
              "    <tr style=\"text-align: right;\">\n",
              "      <th></th>\n",
              "      <th>uid</th>\n",
              "      <th>asset_id</th>\n",
              "      <th>Ratings</th>\n",
              "    </tr>\n",
              "  </thead>\n",
              "  <tbody>\n",
              "    <tr>\n",
              "      <th>40</th>\n",
              "      <td>17</td>\n",
              "      <td>2</td>\n",
              "      <td>3</td>\n",
              "    </tr>\n",
              "    <tr>\n",
              "      <th>41</th>\n",
              "      <td>17</td>\n",
              "      <td>30</td>\n",
              "      <td>1</td>\n",
              "    </tr>\n",
              "    <tr>\n",
              "      <th>42</th>\n",
              "      <td>17</td>\n",
              "      <td>31</td>\n",
              "      <td>4</td>\n",
              "    </tr>\n",
              "    <tr>\n",
              "      <th>43</th>\n",
              "      <td>17</td>\n",
              "      <td>33</td>\n",
              "      <td>5</td>\n",
              "    </tr>\n",
              "    <tr>\n",
              "      <th>44</th>\n",
              "      <td>17</td>\n",
              "      <td>34</td>\n",
              "      <td>3</td>\n",
              "    </tr>\n",
              "    <tr>\n",
              "      <th>45</th>\n",
              "      <td>17</td>\n",
              "      <td>35</td>\n",
              "      <td>0</td>\n",
              "    </tr>\n",
              "    <tr>\n",
              "      <th>46</th>\n",
              "      <td>17</td>\n",
              "      <td>36</td>\n",
              "      <td>1</td>\n",
              "    </tr>\n",
              "    <tr>\n",
              "      <th>47</th>\n",
              "      <td>17</td>\n",
              "      <td>37</td>\n",
              "      <td>5</td>\n",
              "    </tr>\n",
              "    <tr>\n",
              "      <th>48</th>\n",
              "      <td>17</td>\n",
              "      <td>43</td>\n",
              "      <td>0</td>\n",
              "    </tr>\n",
              "    <tr>\n",
              "      <th>49</th>\n",
              "      <td>17</td>\n",
              "      <td>65</td>\n",
              "      <td>1</td>\n",
              "    </tr>\n",
              "  </tbody>\n",
              "</table>\n",
              "</div>"
            ],
            "text/plain": [
              "    uid  asset_id  Ratings\n",
              "40   17         2        3\n",
              "41   17        30        1\n",
              "42   17        31        4\n",
              "43   17        33        5\n",
              "44   17        34        3\n",
              "45   17        35        0\n",
              "46   17        36        1\n",
              "47   17        37        5\n",
              "48   17        43        0\n",
              "49   17        65        1"
            ]
          },
          "metadata": {
            "tags": []
          },
          "execution_count": 167
        }
      ]
    },
    {
      "cell_type": "markdown",
      "metadata": {
        "id": "OwbA6-xaXpOI"
      },
      "source": [
        "### AI"
      ]
    },
    {
      "cell_type": "code",
      "metadata": {
        "id": "kqUKXTrpXaDn"
      },
      "source": [
        "ai_asset = list(df_reco.asset_id[df_reco.Domain=='AI'])\n",
        "ai_user = [n for n in range(25,37)]\n",
        "full_aiuser_list =  make_full_user_list(ai_user,ai_asset)\n",
        "full_airating_list = list(np.random.randint(6,size=len(full_aiuser_list)))\n",
        "full_aiasset_list  = ai_asset *len(ai_user)"
      ],
      "execution_count": null,
      "outputs": []
    },
    {
      "cell_type": "code",
      "metadata": {
        "colab": {
          "base_uri": "https://localhost:8080/"
        },
        "id": "U_9eUYrxYMAP",
        "outputId": "221b8063-1986-4d9d-d75d-bcaddeda4212"
      },
      "source": [
        "len(ai_asset),ai_asset,len(ai_user),ai_user"
      ],
      "execution_count": null,
      "outputs": [
        {
          "output_type": "execute_result",
          "data": {
            "text/plain": [
              "(8,\n",
              " [3, 7, 13, 38, 42, 54, 59, 69],\n",
              " 12,\n",
              " [25, 26, 27, 28, 29, 30, 31, 32, 33, 34, 35, 36])"
            ]
          },
          "metadata": {
            "tags": []
          },
          "execution_count": 169
        }
      ]
    },
    {
      "cell_type": "code",
      "metadata": {
        "id": "AfdVHsUaYOtC"
      },
      "source": [
        "user_ai_asset_ratings =  pd.DataFrame()\n",
        "user_ai_asset_ratings['uid'] = full_aiuser_list\n",
        "user_ai_asset_ratings['asset_id'] = full_aiasset_list\n",
        "user_ai_asset_ratings['Ratings'] =  full_airating_list"
      ],
      "execution_count": null,
      "outputs": []
    },
    {
      "cell_type": "code",
      "metadata": {
        "colab": {
          "base_uri": "https://localhost:8080/"
        },
        "id": "Dr8GolL2YRr_",
        "outputId": "58dca6b7-ad73-4f08-a874-577846586efc"
      },
      "source": [
        "print((user_ai_asset_ratings['Ratings']==0).sum())"
      ],
      "execution_count": null,
      "outputs": [
        {
          "output_type": "stream",
          "text": [
            "11\n"
          ],
          "name": "stdout"
        }
      ]
    },
    {
      "cell_type": "code",
      "metadata": {
        "colab": {
          "base_uri": "https://localhost:8080/"
        },
        "id": "8TOmivs_ZF4D",
        "outputId": "2546cefe-f80a-4741-8a50-4e0a1b10c966"
      },
      "source": [
        "print((user_ai_asset_ratings['Ratings']==1).sum())"
      ],
      "execution_count": null,
      "outputs": [
        {
          "output_type": "stream",
          "text": [
            "22\n"
          ],
          "name": "stdout"
        }
      ]
    },
    {
      "cell_type": "code",
      "metadata": {
        "colab": {
          "base_uri": "https://localhost:8080/"
        },
        "id": "39fCRfWrmhWm",
        "outputId": "b0420092-1c7e-42eb-f3e6-9bc98b5214aa"
      },
      "source": [
        "print((user_ai_asset_ratings['Ratings']==2).sum())"
      ],
      "execution_count": null,
      "outputs": [
        {
          "output_type": "stream",
          "text": [
            "8\n"
          ],
          "name": "stdout"
        }
      ]
    },
    {
      "cell_type": "code",
      "metadata": {
        "id": "ri1zL0fPYYLY"
      },
      "source": [
        "user_ai_asset_ratings.Ratings[user_ai_asset_ratings['Ratings'] == 1] = 0"
      ],
      "execution_count": null,
      "outputs": []
    },
    {
      "cell_type": "code",
      "metadata": {
        "colab": {
          "base_uri": "https://localhost:8080/",
          "height": 424
        },
        "id": "WszZL0ypYotY",
        "outputId": "1b4df194-3115-4de1-a1fd-0361843606b8"
      },
      "source": [
        "user_ai_asset_ratings"
      ],
      "execution_count": null,
      "outputs": [
        {
          "output_type": "execute_result",
          "data": {
            "text/html": [
              "<div>\n",
              "<style scoped>\n",
              "    .dataframe tbody tr th:only-of-type {\n",
              "        vertical-align: middle;\n",
              "    }\n",
              "\n",
              "    .dataframe tbody tr th {\n",
              "        vertical-align: top;\n",
              "    }\n",
              "\n",
              "    .dataframe thead th {\n",
              "        text-align: right;\n",
              "    }\n",
              "</style>\n",
              "<table border=\"1\" class=\"dataframe\">\n",
              "  <thead>\n",
              "    <tr style=\"text-align: right;\">\n",
              "      <th></th>\n",
              "      <th>uid</th>\n",
              "      <th>asset_id</th>\n",
              "      <th>Ratings</th>\n",
              "    </tr>\n",
              "  </thead>\n",
              "  <tbody>\n",
              "    <tr>\n",
              "      <th>0</th>\n",
              "      <td>25</td>\n",
              "      <td>3</td>\n",
              "      <td>0</td>\n",
              "    </tr>\n",
              "    <tr>\n",
              "      <th>1</th>\n",
              "      <td>25</td>\n",
              "      <td>7</td>\n",
              "      <td>3</td>\n",
              "    </tr>\n",
              "    <tr>\n",
              "      <th>2</th>\n",
              "      <td>25</td>\n",
              "      <td>13</td>\n",
              "      <td>5</td>\n",
              "    </tr>\n",
              "    <tr>\n",
              "      <th>3</th>\n",
              "      <td>25</td>\n",
              "      <td>38</td>\n",
              "      <td>0</td>\n",
              "    </tr>\n",
              "    <tr>\n",
              "      <th>4</th>\n",
              "      <td>25</td>\n",
              "      <td>42</td>\n",
              "      <td>0</td>\n",
              "    </tr>\n",
              "    <tr>\n",
              "      <th>...</th>\n",
              "      <td>...</td>\n",
              "      <td>...</td>\n",
              "      <td>...</td>\n",
              "    </tr>\n",
              "    <tr>\n",
              "      <th>91</th>\n",
              "      <td>36</td>\n",
              "      <td>38</td>\n",
              "      <td>0</td>\n",
              "    </tr>\n",
              "    <tr>\n",
              "      <th>92</th>\n",
              "      <td>36</td>\n",
              "      <td>42</td>\n",
              "      <td>3</td>\n",
              "    </tr>\n",
              "    <tr>\n",
              "      <th>93</th>\n",
              "      <td>36</td>\n",
              "      <td>54</td>\n",
              "      <td>0</td>\n",
              "    </tr>\n",
              "    <tr>\n",
              "      <th>94</th>\n",
              "      <td>36</td>\n",
              "      <td>59</td>\n",
              "      <td>0</td>\n",
              "    </tr>\n",
              "    <tr>\n",
              "      <th>95</th>\n",
              "      <td>36</td>\n",
              "      <td>69</td>\n",
              "      <td>4</td>\n",
              "    </tr>\n",
              "  </tbody>\n",
              "</table>\n",
              "<p>96 rows × 3 columns</p>\n",
              "</div>"
            ],
            "text/plain": [
              "    uid  asset_id  Ratings\n",
              "0    25         3        0\n",
              "1    25         7        3\n",
              "2    25        13        5\n",
              "3    25        38        0\n",
              "4    25        42        0\n",
              "..  ...       ...      ...\n",
              "91   36        38        0\n",
              "92   36        42        3\n",
              "93   36        54        0\n",
              "94   36        59        0\n",
              "95   36        69        4\n",
              "\n",
              "[96 rows x 3 columns]"
            ]
          },
          "metadata": {
            "tags": []
          },
          "execution_count": 175
        }
      ]
    },
    {
      "cell_type": "code",
      "metadata": {
        "colab": {
          "base_uri": "https://localhost:8080/"
        },
        "id": "rXueZyIXYpNi",
        "outputId": "f6aa66ee-4f1f-41f2-9d1c-d4de781f9c40"
      },
      "source": [
        "print((user_ai_asset_ratings['Ratings']==0).sum())"
      ],
      "execution_count": null,
      "outputs": [
        {
          "output_type": "stream",
          "text": [
            "33\n"
          ],
          "name": "stdout"
        }
      ]
    },
    {
      "cell_type": "code",
      "metadata": {
        "colab": {
          "base_uri": "https://localhost:8080/"
        },
        "id": "7L1Z06vOobBm",
        "outputId": "6147e778-2cb8-4087-86da-217ebd2598ab"
      },
      "source": [
        "occ = []\n",
        "for i in ai_user:\n",
        "    occ.append((user_ai_asset_ratings[user_ai_asset_ratings.uid==i]).shape[0])\n",
        "print(set(occ))\n"
      ],
      "execution_count": null,
      "outputs": [
        {
          "output_type": "stream",
          "text": [
            "{8}\n"
          ],
          "name": "stdout"
        }
      ]
    },
    {
      "cell_type": "code",
      "metadata": {
        "colab": {
          "base_uri": "https://localhost:8080/",
          "height": 426
        },
        "id": "b8nK92euu3b7",
        "outputId": "026a74dd-7845-42da-e157-1e678db1ef5c"
      },
      "source": [
        "user_ai_asset_ratings[:12]"
      ],
      "execution_count": null,
      "outputs": [
        {
          "output_type": "execute_result",
          "data": {
            "text/html": [
              "<div>\n",
              "<style scoped>\n",
              "    .dataframe tbody tr th:only-of-type {\n",
              "        vertical-align: middle;\n",
              "    }\n",
              "\n",
              "    .dataframe tbody tr th {\n",
              "        vertical-align: top;\n",
              "    }\n",
              "\n",
              "    .dataframe thead th {\n",
              "        text-align: right;\n",
              "    }\n",
              "</style>\n",
              "<table border=\"1\" class=\"dataframe\">\n",
              "  <thead>\n",
              "    <tr style=\"text-align: right;\">\n",
              "      <th></th>\n",
              "      <th>uid</th>\n",
              "      <th>asset_id</th>\n",
              "      <th>Ratings</th>\n",
              "    </tr>\n",
              "  </thead>\n",
              "  <tbody>\n",
              "    <tr>\n",
              "      <th>0</th>\n",
              "      <td>25</td>\n",
              "      <td>3</td>\n",
              "      <td>0</td>\n",
              "    </tr>\n",
              "    <tr>\n",
              "      <th>1</th>\n",
              "      <td>25</td>\n",
              "      <td>7</td>\n",
              "      <td>3</td>\n",
              "    </tr>\n",
              "    <tr>\n",
              "      <th>2</th>\n",
              "      <td>25</td>\n",
              "      <td>13</td>\n",
              "      <td>5</td>\n",
              "    </tr>\n",
              "    <tr>\n",
              "      <th>3</th>\n",
              "      <td>25</td>\n",
              "      <td>38</td>\n",
              "      <td>0</td>\n",
              "    </tr>\n",
              "    <tr>\n",
              "      <th>4</th>\n",
              "      <td>25</td>\n",
              "      <td>42</td>\n",
              "      <td>0</td>\n",
              "    </tr>\n",
              "    <tr>\n",
              "      <th>5</th>\n",
              "      <td>25</td>\n",
              "      <td>54</td>\n",
              "      <td>0</td>\n",
              "    </tr>\n",
              "    <tr>\n",
              "      <th>6</th>\n",
              "      <td>25</td>\n",
              "      <td>59</td>\n",
              "      <td>3</td>\n",
              "    </tr>\n",
              "    <tr>\n",
              "      <th>7</th>\n",
              "      <td>25</td>\n",
              "      <td>69</td>\n",
              "      <td>0</td>\n",
              "    </tr>\n",
              "    <tr>\n",
              "      <th>8</th>\n",
              "      <td>26</td>\n",
              "      <td>3</td>\n",
              "      <td>5</td>\n",
              "    </tr>\n",
              "    <tr>\n",
              "      <th>9</th>\n",
              "      <td>26</td>\n",
              "      <td>7</td>\n",
              "      <td>0</td>\n",
              "    </tr>\n",
              "    <tr>\n",
              "      <th>10</th>\n",
              "      <td>26</td>\n",
              "      <td>13</td>\n",
              "      <td>5</td>\n",
              "    </tr>\n",
              "    <tr>\n",
              "      <th>11</th>\n",
              "      <td>26</td>\n",
              "      <td>38</td>\n",
              "      <td>4</td>\n",
              "    </tr>\n",
              "  </tbody>\n",
              "</table>\n",
              "</div>"
            ],
            "text/plain": [
              "    uid  asset_id  Ratings\n",
              "0    25         3        0\n",
              "1    25         7        3\n",
              "2    25        13        5\n",
              "3    25        38        0\n",
              "4    25        42        0\n",
              "5    25        54        0\n",
              "6    25        59        3\n",
              "7    25        69        0\n",
              "8    26         3        5\n",
              "9    26         7        0\n",
              "10   26        13        5\n",
              "11   26        38        4"
            ]
          },
          "metadata": {
            "tags": []
          },
          "execution_count": 180
        }
      ]
    },
    {
      "cell_type": "code",
      "metadata": {
        "colab": {
          "base_uri": "https://localhost:8080/",
          "height": 300
        },
        "id": "8s-epWCptsnL",
        "outputId": "0324e008-af9e-4a57-9f63-6d63cebbf5e5"
      },
      "source": [
        "user_ai_asset_ratings[user_ai_asset_ratings.uid==27]"
      ],
      "execution_count": null,
      "outputs": [
        {
          "output_type": "execute_result",
          "data": {
            "text/html": [
              "<div>\n",
              "<style scoped>\n",
              "    .dataframe tbody tr th:only-of-type {\n",
              "        vertical-align: middle;\n",
              "    }\n",
              "\n",
              "    .dataframe tbody tr th {\n",
              "        vertical-align: top;\n",
              "    }\n",
              "\n",
              "    .dataframe thead th {\n",
              "        text-align: right;\n",
              "    }\n",
              "</style>\n",
              "<table border=\"1\" class=\"dataframe\">\n",
              "  <thead>\n",
              "    <tr style=\"text-align: right;\">\n",
              "      <th></th>\n",
              "      <th>uid</th>\n",
              "      <th>asset_id</th>\n",
              "      <th>Ratings</th>\n",
              "    </tr>\n",
              "  </thead>\n",
              "  <tbody>\n",
              "    <tr>\n",
              "      <th>16</th>\n",
              "      <td>27</td>\n",
              "      <td>3</td>\n",
              "      <td>0</td>\n",
              "    </tr>\n",
              "    <tr>\n",
              "      <th>17</th>\n",
              "      <td>27</td>\n",
              "      <td>7</td>\n",
              "      <td>5</td>\n",
              "    </tr>\n",
              "    <tr>\n",
              "      <th>18</th>\n",
              "      <td>27</td>\n",
              "      <td>13</td>\n",
              "      <td>4</td>\n",
              "    </tr>\n",
              "    <tr>\n",
              "      <th>19</th>\n",
              "      <td>27</td>\n",
              "      <td>38</td>\n",
              "      <td>4</td>\n",
              "    </tr>\n",
              "    <tr>\n",
              "      <th>20</th>\n",
              "      <td>27</td>\n",
              "      <td>42</td>\n",
              "      <td>3</td>\n",
              "    </tr>\n",
              "    <tr>\n",
              "      <th>21</th>\n",
              "      <td>27</td>\n",
              "      <td>54</td>\n",
              "      <td>4</td>\n",
              "    </tr>\n",
              "    <tr>\n",
              "      <th>22</th>\n",
              "      <td>27</td>\n",
              "      <td>59</td>\n",
              "      <td>0</td>\n",
              "    </tr>\n",
              "    <tr>\n",
              "      <th>23</th>\n",
              "      <td>27</td>\n",
              "      <td>69</td>\n",
              "      <td>4</td>\n",
              "    </tr>\n",
              "  </tbody>\n",
              "</table>\n",
              "</div>"
            ],
            "text/plain": [
              "    uid  asset_id  Ratings\n",
              "16   27         3        0\n",
              "17   27         7        5\n",
              "18   27        13        4\n",
              "19   27        38        4\n",
              "20   27        42        3\n",
              "21   27        54        4\n",
              "22   27        59        0\n",
              "23   27        69        4"
            ]
          },
          "metadata": {
            "tags": []
          },
          "execution_count": 181
        }
      ]
    },
    {
      "cell_type": "markdown",
      "metadata": {
        "id": "9diw5l-gnX62"
      },
      "source": [
        "### IOT"
      ]
    },
    {
      "cell_type": "code",
      "metadata": {
        "id": "xQTDJUNzZSnG"
      },
      "source": [
        "iot_asset = list(df_reco.asset_id[df_reco.Domain=='IOT'])\n",
        "iot_user = [n for n in range(37,49)]\n",
        "full_iotuser_list =  make_full_user_list(iot_user,iot_asset)\n",
        "full_iotrating_list = list(np.random.randint(6,size=len(full_iotuser_list)))\n",
        "full_iotasset_list  = iot_asset *len(iot_user)"
      ],
      "execution_count": null,
      "outputs": []
    },
    {
      "cell_type": "code",
      "metadata": {
        "colab": {
          "base_uri": "https://localhost:8080/"
        },
        "id": "8XwkbTqVoreW",
        "outputId": "89381cdf-5080-4ad1-b721-3b2854d820f0"
      },
      "source": [
        "len(iot_asset),iot_asset,len(iot_user),iot_user"
      ],
      "execution_count": null,
      "outputs": [
        {
          "output_type": "execute_result",
          "data": {
            "text/plain": [
              "(6,\n",
              " [4, 19, 41, 44, 50, 75],\n",
              " 12,\n",
              " [37, 38, 39, 40, 41, 42, 43, 44, 45, 46, 47, 48])"
            ]
          },
          "metadata": {
            "tags": []
          },
          "execution_count": 183
        }
      ]
    },
    {
      "cell_type": "code",
      "metadata": {
        "id": "hS5RjU6wow3O"
      },
      "source": [
        "user_iot_asset_ratings =  pd.DataFrame()\n",
        "user_iot_asset_ratings['uid'] = full_iotuser_list\n",
        "user_iot_asset_ratings['asset_id'] = full_iotasset_list\n",
        "user_iot_asset_ratings['Ratings'] =  full_iotrating_list"
      ],
      "execution_count": null,
      "outputs": []
    },
    {
      "cell_type": "code",
      "metadata": {
        "colab": {
          "base_uri": "https://localhost:8080/"
        },
        "id": "0GD3Udl4pB66",
        "outputId": "c7954df3-5265-4963-f6a4-4b11b743e193"
      },
      "source": [
        "print((user_iot_asset_ratings['Ratings']==0).sum())"
      ],
      "execution_count": null,
      "outputs": [
        {
          "output_type": "stream",
          "text": [
            "13\n"
          ],
          "name": "stdout"
        }
      ]
    },
    {
      "cell_type": "code",
      "metadata": {
        "colab": {
          "base_uri": "https://localhost:8080/"
        },
        "id": "hPhYxHgUpE2C",
        "outputId": "a3951c7c-0329-4c24-9a85-32464dad74ce"
      },
      "source": [
        "print((user_iot_asset_ratings['Ratings']==1).sum())"
      ],
      "execution_count": null,
      "outputs": [
        {
          "output_type": "stream",
          "text": [
            "8\n"
          ],
          "name": "stdout"
        }
      ]
    },
    {
      "cell_type": "code",
      "metadata": {
        "colab": {
          "base_uri": "https://localhost:8080/"
        },
        "id": "J6NZIg8ZpINF",
        "outputId": "c55c1eea-5903-452b-8a1f-01856c321518"
      },
      "source": [
        "print((user_iot_asset_ratings['Ratings']==2).sum())"
      ],
      "execution_count": null,
      "outputs": [
        {
          "output_type": "stream",
          "text": [
            "17\n"
          ],
          "name": "stdout"
        }
      ]
    },
    {
      "cell_type": "code",
      "metadata": {
        "colab": {
          "base_uri": "https://localhost:8080/"
        },
        "id": "ZxcmAYrkpVIX",
        "outputId": "f26613a5-525d-44a4-c416-2acfc02ef6d6"
      },
      "source": [
        "user_iot_asset_ratings.Ratings.value_counts()"
      ],
      "execution_count": null,
      "outputs": [
        {
          "output_type": "execute_result",
          "data": {
            "text/plain": [
              "2    17\n",
              "4    15\n",
              "0    13\n",
              "3    11\n",
              "5     8\n",
              "1     8\n",
              "Name: Ratings, dtype: int64"
            ]
          },
          "metadata": {
            "tags": []
          },
          "execution_count": 188
        }
      ]
    },
    {
      "cell_type": "code",
      "metadata": {
        "id": "gzoHDslgppoC"
      },
      "source": [
        "user_iot_asset_ratings.Ratings[user_iot_asset_ratings['Ratings'] == 2] = 0"
      ],
      "execution_count": null,
      "outputs": []
    },
    {
      "cell_type": "code",
      "metadata": {
        "colab": {
          "base_uri": "https://localhost:8080/"
        },
        "id": "kx3HRkMNp2Sc",
        "outputId": "f0b95cfa-43dd-4c71-fe0d-e078f8d667ad"
      },
      "source": [
        "print((user_iot_asset_ratings['Ratings']==0).sum())"
      ],
      "execution_count": null,
      "outputs": [
        {
          "output_type": "stream",
          "text": [
            "30\n"
          ],
          "name": "stdout"
        }
      ]
    },
    {
      "cell_type": "code",
      "metadata": {
        "colab": {
          "base_uri": "https://localhost:8080/",
          "height": 424
        },
        "id": "-eEGIXdspKfO",
        "outputId": "47486ebe-2477-4922-d47c-9b857bdd3817"
      },
      "source": [
        "user_iot_asset_ratings"
      ],
      "execution_count": null,
      "outputs": [
        {
          "output_type": "execute_result",
          "data": {
            "text/html": [
              "<div>\n",
              "<style scoped>\n",
              "    .dataframe tbody tr th:only-of-type {\n",
              "        vertical-align: middle;\n",
              "    }\n",
              "\n",
              "    .dataframe tbody tr th {\n",
              "        vertical-align: top;\n",
              "    }\n",
              "\n",
              "    .dataframe thead th {\n",
              "        text-align: right;\n",
              "    }\n",
              "</style>\n",
              "<table border=\"1\" class=\"dataframe\">\n",
              "  <thead>\n",
              "    <tr style=\"text-align: right;\">\n",
              "      <th></th>\n",
              "      <th>uid</th>\n",
              "      <th>asset_id</th>\n",
              "      <th>Ratings</th>\n",
              "    </tr>\n",
              "  </thead>\n",
              "  <tbody>\n",
              "    <tr>\n",
              "      <th>0</th>\n",
              "      <td>37</td>\n",
              "      <td>4</td>\n",
              "      <td>4</td>\n",
              "    </tr>\n",
              "    <tr>\n",
              "      <th>1</th>\n",
              "      <td>37</td>\n",
              "      <td>19</td>\n",
              "      <td>0</td>\n",
              "    </tr>\n",
              "    <tr>\n",
              "      <th>2</th>\n",
              "      <td>37</td>\n",
              "      <td>41</td>\n",
              "      <td>5</td>\n",
              "    </tr>\n",
              "    <tr>\n",
              "      <th>3</th>\n",
              "      <td>37</td>\n",
              "      <td>44</td>\n",
              "      <td>3</td>\n",
              "    </tr>\n",
              "    <tr>\n",
              "      <th>4</th>\n",
              "      <td>37</td>\n",
              "      <td>50</td>\n",
              "      <td>0</td>\n",
              "    </tr>\n",
              "    <tr>\n",
              "      <th>...</th>\n",
              "      <td>...</td>\n",
              "      <td>...</td>\n",
              "      <td>...</td>\n",
              "    </tr>\n",
              "    <tr>\n",
              "      <th>67</th>\n",
              "      <td>48</td>\n",
              "      <td>19</td>\n",
              "      <td>3</td>\n",
              "    </tr>\n",
              "    <tr>\n",
              "      <th>68</th>\n",
              "      <td>48</td>\n",
              "      <td>41</td>\n",
              "      <td>0</td>\n",
              "    </tr>\n",
              "    <tr>\n",
              "      <th>69</th>\n",
              "      <td>48</td>\n",
              "      <td>44</td>\n",
              "      <td>4</td>\n",
              "    </tr>\n",
              "    <tr>\n",
              "      <th>70</th>\n",
              "      <td>48</td>\n",
              "      <td>50</td>\n",
              "      <td>5</td>\n",
              "    </tr>\n",
              "    <tr>\n",
              "      <th>71</th>\n",
              "      <td>48</td>\n",
              "      <td>75</td>\n",
              "      <td>0</td>\n",
              "    </tr>\n",
              "  </tbody>\n",
              "</table>\n",
              "<p>72 rows × 3 columns</p>\n",
              "</div>"
            ],
            "text/plain": [
              "    uid  asset_id  Ratings\n",
              "0    37         4        4\n",
              "1    37        19        0\n",
              "2    37        41        5\n",
              "3    37        44        3\n",
              "4    37        50        0\n",
              "..  ...       ...      ...\n",
              "67   48        19        3\n",
              "68   48        41        0\n",
              "69   48        44        4\n",
              "70   48        50        5\n",
              "71   48        75        0\n",
              "\n",
              "[72 rows x 3 columns]"
            ]
          },
          "metadata": {
            "tags": []
          },
          "execution_count": 191
        }
      ]
    },
    {
      "cell_type": "code",
      "metadata": {
        "colab": {
          "base_uri": "https://localhost:8080/"
        },
        "id": "AsoedsYfpCW3",
        "outputId": "bdf103e7-939e-4c9c-ce0a-3e0251729ad2"
      },
      "source": [
        "occ = []\n",
        "for i in iot_user:\n",
        "    occ.append((user_iot_asset_ratings[user_iot_asset_ratings.uid==i]).shape[0])\n",
        "print(set(occ))\n"
      ],
      "execution_count": null,
      "outputs": [
        {
          "output_type": "stream",
          "text": [
            "{6}\n"
          ],
          "name": "stdout"
        }
      ]
    },
    {
      "cell_type": "code",
      "metadata": {
        "colab": {
          "base_uri": "https://localhost:8080/",
          "height": 238
        },
        "id": "c8jsjcQv040O",
        "outputId": "4d17ecea-6700-4a99-d41c-7e9955460e4b"
      },
      "source": [
        "user_iot_asset_ratings[user_iot_asset_ratings.uid==47]"
      ],
      "execution_count": null,
      "outputs": [
        {
          "output_type": "execute_result",
          "data": {
            "text/html": [
              "<div>\n",
              "<style scoped>\n",
              "    .dataframe tbody tr th:only-of-type {\n",
              "        vertical-align: middle;\n",
              "    }\n",
              "\n",
              "    .dataframe tbody tr th {\n",
              "        vertical-align: top;\n",
              "    }\n",
              "\n",
              "    .dataframe thead th {\n",
              "        text-align: right;\n",
              "    }\n",
              "</style>\n",
              "<table border=\"1\" class=\"dataframe\">\n",
              "  <thead>\n",
              "    <tr style=\"text-align: right;\">\n",
              "      <th></th>\n",
              "      <th>uid</th>\n",
              "      <th>asset_id</th>\n",
              "      <th>Ratings</th>\n",
              "    </tr>\n",
              "  </thead>\n",
              "  <tbody>\n",
              "    <tr>\n",
              "      <th>60</th>\n",
              "      <td>47</td>\n",
              "      <td>4</td>\n",
              "      <td>0</td>\n",
              "    </tr>\n",
              "    <tr>\n",
              "      <th>61</th>\n",
              "      <td>47</td>\n",
              "      <td>19</td>\n",
              "      <td>4</td>\n",
              "    </tr>\n",
              "    <tr>\n",
              "      <th>62</th>\n",
              "      <td>47</td>\n",
              "      <td>41</td>\n",
              "      <td>4</td>\n",
              "    </tr>\n",
              "    <tr>\n",
              "      <th>63</th>\n",
              "      <td>47</td>\n",
              "      <td>44</td>\n",
              "      <td>4</td>\n",
              "    </tr>\n",
              "    <tr>\n",
              "      <th>64</th>\n",
              "      <td>47</td>\n",
              "      <td>50</td>\n",
              "      <td>1</td>\n",
              "    </tr>\n",
              "    <tr>\n",
              "      <th>65</th>\n",
              "      <td>47</td>\n",
              "      <td>75</td>\n",
              "      <td>0</td>\n",
              "    </tr>\n",
              "  </tbody>\n",
              "</table>\n",
              "</div>"
            ],
            "text/plain": [
              "    uid  asset_id  Ratings\n",
              "60   47         4        0\n",
              "61   47        19        4\n",
              "62   47        41        4\n",
              "63   47        44        4\n",
              "64   47        50        1\n",
              "65   47        75        0"
            ]
          },
          "metadata": {
            "tags": []
          },
          "execution_count": 193
        }
      ]
    },
    {
      "cell_type": "markdown",
      "metadata": {
        "id": "JrjcD6Fsp8bO"
      },
      "source": [
        "### BigData"
      ]
    },
    {
      "cell_type": "code",
      "metadata": {
        "id": "VmYs91a4pT24"
      },
      "source": [
        "bd_asset = list(df_reco.asset_id[df_reco.Domain=='BigData'])\n",
        "bd_user = [n for n in range(49,61)]\n",
        "full_bduser_list =  make_full_user_list(bd_user,bd_asset)\n",
        "full_bdrating_list = list(np.random.randint(6,size=len(full_bduser_list)))\n",
        "full_bdasset_list  = bd_asset *len(bd_user)"
      ],
      "execution_count": null,
      "outputs": []
    },
    {
      "cell_type": "code",
      "metadata": {
        "colab": {
          "base_uri": "https://localhost:8080/"
        },
        "id": "57S4EIhVqcMH",
        "outputId": "a735d648-5ac3-44e3-ccf8-f3830dac17db"
      },
      "source": [
        "len(bd_asset),bd_asset,len(bd_user),bd_user"
      ],
      "execution_count": null,
      "outputs": [
        {
          "output_type": "execute_result",
          "data": {
            "text/plain": [
              "(6,\n",
              " [6, 8, 47, 55, 61, 66],\n",
              " 12,\n",
              " [49, 50, 51, 52, 53, 54, 55, 56, 57, 58, 59, 60])"
            ]
          },
          "metadata": {
            "tags": []
          },
          "execution_count": 195
        }
      ]
    },
    {
      "cell_type": "code",
      "metadata": {
        "colab": {
          "base_uri": "https://localhost:8080/"
        },
        "id": "IKFlsiCXqpQH",
        "outputId": "c0076d6a-3d1d-4162-bd4d-cbd153ae4186"
      },
      "source": [
        "user_bd_asset_ratings =  pd.DataFrame()\n",
        "user_bd_asset_ratings['uid'] = full_bduser_list\n",
        "user_bd_asset_ratings['asset_id'] = full_bdasset_list\n",
        "user_bd_asset_ratings['Ratings'] =  full_bdrating_list\n",
        "user_bd_asset_ratings.shape"
      ],
      "execution_count": null,
      "outputs": [
        {
          "output_type": "execute_result",
          "data": {
            "text/plain": [
              "(72, 3)"
            ]
          },
          "metadata": {
            "tags": []
          },
          "execution_count": 196
        }
      ]
    },
    {
      "cell_type": "code",
      "metadata": {
        "colab": {
          "base_uri": "https://localhost:8080/"
        },
        "id": "AlkIJKgAq2v-",
        "outputId": "7eccce60-74e5-4bf9-f413-86878d051575"
      },
      "source": [
        "user_bd_asset_ratings.Ratings.value_counts()"
      ],
      "execution_count": null,
      "outputs": [
        {
          "output_type": "execute_result",
          "data": {
            "text/plain": [
              "0    15\n",
              "4    14\n",
              "1    13\n",
              "3    11\n",
              "2    10\n",
              "5     9\n",
              "Name: Ratings, dtype: int64"
            ]
          },
          "metadata": {
            "tags": []
          },
          "execution_count": 197
        }
      ]
    },
    {
      "cell_type": "code",
      "metadata": {
        "id": "KZ4zXeH_rBOk"
      },
      "source": [
        "user_bd_asset_ratings.Ratings[user_bd_asset_ratings['Ratings'] == 1] = 0"
      ],
      "execution_count": null,
      "outputs": []
    },
    {
      "cell_type": "code",
      "metadata": {
        "colab": {
          "base_uri": "https://localhost:8080/"
        },
        "id": "P8UdYks6rNwg",
        "outputId": "d5233a33-62cb-4cde-bd75-edcc97be43f3"
      },
      "source": [
        "print((user_bd_asset_ratings['Ratings']==0).sum())"
      ],
      "execution_count": null,
      "outputs": [
        {
          "output_type": "stream",
          "text": [
            "28\n"
          ],
          "name": "stdout"
        }
      ]
    },
    {
      "cell_type": "code",
      "metadata": {
        "colab": {
          "base_uri": "https://localhost:8080/",
          "height": 424
        },
        "id": "ktsRZ7NHrS44",
        "outputId": "083fd765-d601-4a1c-e3f5-beb1a6ebca38"
      },
      "source": [
        "user_bd_asset_ratings"
      ],
      "execution_count": null,
      "outputs": [
        {
          "output_type": "execute_result",
          "data": {
            "text/html": [
              "<div>\n",
              "<style scoped>\n",
              "    .dataframe tbody tr th:only-of-type {\n",
              "        vertical-align: middle;\n",
              "    }\n",
              "\n",
              "    .dataframe tbody tr th {\n",
              "        vertical-align: top;\n",
              "    }\n",
              "\n",
              "    .dataframe thead th {\n",
              "        text-align: right;\n",
              "    }\n",
              "</style>\n",
              "<table border=\"1\" class=\"dataframe\">\n",
              "  <thead>\n",
              "    <tr style=\"text-align: right;\">\n",
              "      <th></th>\n",
              "      <th>uid</th>\n",
              "      <th>asset_id</th>\n",
              "      <th>Ratings</th>\n",
              "    </tr>\n",
              "  </thead>\n",
              "  <tbody>\n",
              "    <tr>\n",
              "      <th>0</th>\n",
              "      <td>49</td>\n",
              "      <td>6</td>\n",
              "      <td>2</td>\n",
              "    </tr>\n",
              "    <tr>\n",
              "      <th>1</th>\n",
              "      <td>49</td>\n",
              "      <td>8</td>\n",
              "      <td>0</td>\n",
              "    </tr>\n",
              "    <tr>\n",
              "      <th>2</th>\n",
              "      <td>49</td>\n",
              "      <td>47</td>\n",
              "      <td>0</td>\n",
              "    </tr>\n",
              "    <tr>\n",
              "      <th>3</th>\n",
              "      <td>49</td>\n",
              "      <td>55</td>\n",
              "      <td>4</td>\n",
              "    </tr>\n",
              "    <tr>\n",
              "      <th>4</th>\n",
              "      <td>49</td>\n",
              "      <td>61</td>\n",
              "      <td>3</td>\n",
              "    </tr>\n",
              "    <tr>\n",
              "      <th>...</th>\n",
              "      <td>...</td>\n",
              "      <td>...</td>\n",
              "      <td>...</td>\n",
              "    </tr>\n",
              "    <tr>\n",
              "      <th>67</th>\n",
              "      <td>60</td>\n",
              "      <td>8</td>\n",
              "      <td>0</td>\n",
              "    </tr>\n",
              "    <tr>\n",
              "      <th>68</th>\n",
              "      <td>60</td>\n",
              "      <td>47</td>\n",
              "      <td>0</td>\n",
              "    </tr>\n",
              "    <tr>\n",
              "      <th>69</th>\n",
              "      <td>60</td>\n",
              "      <td>55</td>\n",
              "      <td>4</td>\n",
              "    </tr>\n",
              "    <tr>\n",
              "      <th>70</th>\n",
              "      <td>60</td>\n",
              "      <td>61</td>\n",
              "      <td>4</td>\n",
              "    </tr>\n",
              "    <tr>\n",
              "      <th>71</th>\n",
              "      <td>60</td>\n",
              "      <td>66</td>\n",
              "      <td>2</td>\n",
              "    </tr>\n",
              "  </tbody>\n",
              "</table>\n",
              "<p>72 rows × 3 columns</p>\n",
              "</div>"
            ],
            "text/plain": [
              "    uid  asset_id  Ratings\n",
              "0    49         6        2\n",
              "1    49         8        0\n",
              "2    49        47        0\n",
              "3    49        55        4\n",
              "4    49        61        3\n",
              "..  ...       ...      ...\n",
              "67   60         8        0\n",
              "68   60        47        0\n",
              "69   60        55        4\n",
              "70   60        61        4\n",
              "71   60        66        2\n",
              "\n",
              "[72 rows x 3 columns]"
            ]
          },
          "metadata": {
            "tags": []
          },
          "execution_count": 200
        }
      ]
    },
    {
      "cell_type": "code",
      "metadata": {
        "colab": {
          "base_uri": "https://localhost:8080/"
        },
        "id": "n94djDfpqEWZ",
        "outputId": "6c091bd0-5daf-4f5a-ac45-863cca9e5d99"
      },
      "source": [
        "occ = []\n",
        "for i in bd_user:\n",
        "    occ.append((user_bd_asset_ratings[user_bd_asset_ratings.uid==i]).shape[0])\n",
        "print(set(occ))\n"
      ],
      "execution_count": null,
      "outputs": [
        {
          "output_type": "stream",
          "text": [
            "{6}\n"
          ],
          "name": "stdout"
        }
      ]
    },
    {
      "cell_type": "code",
      "metadata": {
        "colab": {
          "base_uri": "https://localhost:8080/",
          "height": 238
        },
        "id": "wPztnpRT1OKH",
        "outputId": "4fa23587-20ec-4eb2-a50c-7e46a358fa8e"
      },
      "source": [
        "user_bd_asset_ratings[user_bd_asset_ratings.uid==58]"
      ],
      "execution_count": null,
      "outputs": [
        {
          "output_type": "execute_result",
          "data": {
            "text/html": [
              "<div>\n",
              "<style scoped>\n",
              "    .dataframe tbody tr th:only-of-type {\n",
              "        vertical-align: middle;\n",
              "    }\n",
              "\n",
              "    .dataframe tbody tr th {\n",
              "        vertical-align: top;\n",
              "    }\n",
              "\n",
              "    .dataframe thead th {\n",
              "        text-align: right;\n",
              "    }\n",
              "</style>\n",
              "<table border=\"1\" class=\"dataframe\">\n",
              "  <thead>\n",
              "    <tr style=\"text-align: right;\">\n",
              "      <th></th>\n",
              "      <th>uid</th>\n",
              "      <th>asset_id</th>\n",
              "      <th>Ratings</th>\n",
              "    </tr>\n",
              "  </thead>\n",
              "  <tbody>\n",
              "    <tr>\n",
              "      <th>54</th>\n",
              "      <td>58</td>\n",
              "      <td>6</td>\n",
              "      <td>0</td>\n",
              "    </tr>\n",
              "    <tr>\n",
              "      <th>55</th>\n",
              "      <td>58</td>\n",
              "      <td>8</td>\n",
              "      <td>3</td>\n",
              "    </tr>\n",
              "    <tr>\n",
              "      <th>56</th>\n",
              "      <td>58</td>\n",
              "      <td>47</td>\n",
              "      <td>0</td>\n",
              "    </tr>\n",
              "    <tr>\n",
              "      <th>57</th>\n",
              "      <td>58</td>\n",
              "      <td>55</td>\n",
              "      <td>5</td>\n",
              "    </tr>\n",
              "    <tr>\n",
              "      <th>58</th>\n",
              "      <td>58</td>\n",
              "      <td>61</td>\n",
              "      <td>5</td>\n",
              "    </tr>\n",
              "    <tr>\n",
              "      <th>59</th>\n",
              "      <td>58</td>\n",
              "      <td>66</td>\n",
              "      <td>4</td>\n",
              "    </tr>\n",
              "  </tbody>\n",
              "</table>\n",
              "</div>"
            ],
            "text/plain": [
              "    uid  asset_id  Ratings\n",
              "54   58         6        0\n",
              "55   58         8        3\n",
              "56   58        47        0\n",
              "57   58        55        5\n",
              "58   58        61        5\n",
              "59   58        66        4"
            ]
          },
          "metadata": {
            "tags": []
          },
          "execution_count": 202
        }
      ]
    },
    {
      "cell_type": "code",
      "metadata": {
        "id": "_rR644GP1Ncj"
      },
      "source": [
        ""
      ],
      "execution_count": null,
      "outputs": []
    },
    {
      "cell_type": "markdown",
      "metadata": {
        "id": "jkvsdFDPrb8e"
      },
      "source": [
        "### Cloud"
      ]
    },
    {
      "cell_type": "code",
      "metadata": {
        "id": "7-zFo19ArTe6"
      },
      "source": [
        "cd_asset = list(df_reco.asset_id[df_reco.Domain=='Cloud'])\n",
        "cd_user = [n for n in range(61,73)]\n",
        "full_cduser_list =  make_full_user_list(cd_user,cd_asset)\n",
        "full_cdrating_list = list(np.random.randint(6,size=len(full_cduser_list)))\n",
        "full_cdasset_list  = cd_asset *len(cd_user)"
      ],
      "execution_count": null,
      "outputs": []
    },
    {
      "cell_type": "code",
      "metadata": {
        "colab": {
          "base_uri": "https://localhost:8080/"
        },
        "id": "MtyvKLI7tHVh",
        "outputId": "0fc33f60-7d5c-41a2-b8c3-8cf97a8bbf16"
      },
      "source": [
        "len(cd_asset),cd_asset,len(cd_user),cd_user"
      ],
      "execution_count": null,
      "outputs": [
        {
          "output_type": "execute_result",
          "data": {
            "text/plain": [
              "(7,\n",
              " [10, 24, 27, 40, 60, 72, 73],\n",
              " 12,\n",
              " [61, 62, 63, 64, 65, 66, 67, 68, 69, 70, 71, 72])"
            ]
          },
          "metadata": {
            "tags": []
          },
          "execution_count": 204
        }
      ]
    },
    {
      "cell_type": "code",
      "metadata": {
        "colab": {
          "base_uri": "https://localhost:8080/"
        },
        "id": "b5zoC6mStLES",
        "outputId": "f220f075-2de6-46c2-e150-a0ef6a7eda2d"
      },
      "source": [
        "user_cd_asset_ratings =  pd.DataFrame()\n",
        "user_cd_asset_ratings['uid'] = full_cduser_list\n",
        "user_cd_asset_ratings['asset_id'] = full_cdasset_list\n",
        "user_cd_asset_ratings['Ratings'] =  full_cdrating_list\n",
        "user_cd_asset_ratings.shape"
      ],
      "execution_count": null,
      "outputs": [
        {
          "output_type": "execute_result",
          "data": {
            "text/plain": [
              "(84, 3)"
            ]
          },
          "metadata": {
            "tags": []
          },
          "execution_count": 205
        }
      ]
    },
    {
      "cell_type": "code",
      "metadata": {
        "colab": {
          "base_uri": "https://localhost:8080/"
        },
        "id": "kpaU1mTjtayW",
        "outputId": "f700381e-af5d-4211-f1cc-4a6f1e88bba4"
      },
      "source": [
        "user_cd_asset_ratings.Ratings.value_counts()"
      ],
      "execution_count": null,
      "outputs": [
        {
          "output_type": "execute_result",
          "data": {
            "text/plain": [
              "1    17\n",
              "3    16\n",
              "0    15\n",
              "5    13\n",
              "4    12\n",
              "2    11\n",
              "Name: Ratings, dtype: int64"
            ]
          },
          "metadata": {
            "tags": []
          },
          "execution_count": 206
        }
      ]
    },
    {
      "cell_type": "code",
      "metadata": {
        "id": "bMau5-Aqtghh"
      },
      "source": [
        "user_cd_asset_ratings.Ratings[user_cd_asset_ratings['Ratings'] == 2] = 0"
      ],
      "execution_count": null,
      "outputs": []
    },
    {
      "cell_type": "code",
      "metadata": {
        "colab": {
          "base_uri": "https://localhost:8080/"
        },
        "id": "A-gTyer-ttta",
        "outputId": "fef998dc-b928-4e4e-f161-fb8a15311705"
      },
      "source": [
        "print((user_cd_asset_ratings['Ratings']==0).sum())"
      ],
      "execution_count": null,
      "outputs": [
        {
          "output_type": "stream",
          "text": [
            "26\n"
          ],
          "name": "stdout"
        }
      ]
    },
    {
      "cell_type": "code",
      "metadata": {
        "colab": {
          "base_uri": "https://localhost:8080/",
          "height": 424
        },
        "id": "XaV60AcDtxtb",
        "outputId": "37009417-7782-4724-e453-44dad156839f"
      },
      "source": [
        "user_cd_asset_ratings"
      ],
      "execution_count": null,
      "outputs": [
        {
          "output_type": "execute_result",
          "data": {
            "text/html": [
              "<div>\n",
              "<style scoped>\n",
              "    .dataframe tbody tr th:only-of-type {\n",
              "        vertical-align: middle;\n",
              "    }\n",
              "\n",
              "    .dataframe tbody tr th {\n",
              "        vertical-align: top;\n",
              "    }\n",
              "\n",
              "    .dataframe thead th {\n",
              "        text-align: right;\n",
              "    }\n",
              "</style>\n",
              "<table border=\"1\" class=\"dataframe\">\n",
              "  <thead>\n",
              "    <tr style=\"text-align: right;\">\n",
              "      <th></th>\n",
              "      <th>uid</th>\n",
              "      <th>asset_id</th>\n",
              "      <th>Ratings</th>\n",
              "    </tr>\n",
              "  </thead>\n",
              "  <tbody>\n",
              "    <tr>\n",
              "      <th>0</th>\n",
              "      <td>61</td>\n",
              "      <td>10</td>\n",
              "      <td>1</td>\n",
              "    </tr>\n",
              "    <tr>\n",
              "      <th>1</th>\n",
              "      <td>61</td>\n",
              "      <td>24</td>\n",
              "      <td>1</td>\n",
              "    </tr>\n",
              "    <tr>\n",
              "      <th>2</th>\n",
              "      <td>61</td>\n",
              "      <td>27</td>\n",
              "      <td>5</td>\n",
              "    </tr>\n",
              "    <tr>\n",
              "      <th>3</th>\n",
              "      <td>61</td>\n",
              "      <td>40</td>\n",
              "      <td>1</td>\n",
              "    </tr>\n",
              "    <tr>\n",
              "      <th>4</th>\n",
              "      <td>61</td>\n",
              "      <td>60</td>\n",
              "      <td>1</td>\n",
              "    </tr>\n",
              "    <tr>\n",
              "      <th>...</th>\n",
              "      <td>...</td>\n",
              "      <td>...</td>\n",
              "      <td>...</td>\n",
              "    </tr>\n",
              "    <tr>\n",
              "      <th>79</th>\n",
              "      <td>72</td>\n",
              "      <td>27</td>\n",
              "      <td>5</td>\n",
              "    </tr>\n",
              "    <tr>\n",
              "      <th>80</th>\n",
              "      <td>72</td>\n",
              "      <td>40</td>\n",
              "      <td>1</td>\n",
              "    </tr>\n",
              "    <tr>\n",
              "      <th>81</th>\n",
              "      <td>72</td>\n",
              "      <td>60</td>\n",
              "      <td>0</td>\n",
              "    </tr>\n",
              "    <tr>\n",
              "      <th>82</th>\n",
              "      <td>72</td>\n",
              "      <td>72</td>\n",
              "      <td>1</td>\n",
              "    </tr>\n",
              "    <tr>\n",
              "      <th>83</th>\n",
              "      <td>72</td>\n",
              "      <td>73</td>\n",
              "      <td>4</td>\n",
              "    </tr>\n",
              "  </tbody>\n",
              "</table>\n",
              "<p>84 rows × 3 columns</p>\n",
              "</div>"
            ],
            "text/plain": [
              "    uid  asset_id  Ratings\n",
              "0    61        10        1\n",
              "1    61        24        1\n",
              "2    61        27        5\n",
              "3    61        40        1\n",
              "4    61        60        1\n",
              "..  ...       ...      ...\n",
              "79   72        27        5\n",
              "80   72        40        1\n",
              "81   72        60        0\n",
              "82   72        72        1\n",
              "83   72        73        4\n",
              "\n",
              "[84 rows x 3 columns]"
            ]
          },
          "metadata": {
            "tags": []
          },
          "execution_count": 209
        }
      ]
    },
    {
      "cell_type": "code",
      "metadata": {
        "colab": {
          "base_uri": "https://localhost:8080/"
        },
        "id": "m2u3i7YJqsX2",
        "outputId": "cee8b675-5ad2-4c01-e2e9-27cd5faeb786"
      },
      "source": [
        "occ = []\n",
        "for i in cd_user:\n",
        "    occ.append((user_cd_asset_ratings[user_cd_asset_ratings.uid==i]).shape[0])\n",
        "print(set(occ))\n"
      ],
      "execution_count": null,
      "outputs": [
        {
          "output_type": "stream",
          "text": [
            "{7}\n"
          ],
          "name": "stdout"
        }
      ]
    },
    {
      "cell_type": "code",
      "metadata": {
        "colab": {
          "base_uri": "https://localhost:8080/",
          "height": 269
        },
        "id": "XCQdZ0Q-1jDH",
        "outputId": "bdc6c5df-7111-421a-c823-d09194281408"
      },
      "source": [
        "user_cd_asset_ratings[user_cd_asset_ratings.uid==72]"
      ],
      "execution_count": null,
      "outputs": [
        {
          "output_type": "execute_result",
          "data": {
            "text/html": [
              "<div>\n",
              "<style scoped>\n",
              "    .dataframe tbody tr th:only-of-type {\n",
              "        vertical-align: middle;\n",
              "    }\n",
              "\n",
              "    .dataframe tbody tr th {\n",
              "        vertical-align: top;\n",
              "    }\n",
              "\n",
              "    .dataframe thead th {\n",
              "        text-align: right;\n",
              "    }\n",
              "</style>\n",
              "<table border=\"1\" class=\"dataframe\">\n",
              "  <thead>\n",
              "    <tr style=\"text-align: right;\">\n",
              "      <th></th>\n",
              "      <th>uid</th>\n",
              "      <th>asset_id</th>\n",
              "      <th>Ratings</th>\n",
              "    </tr>\n",
              "  </thead>\n",
              "  <tbody>\n",
              "    <tr>\n",
              "      <th>77</th>\n",
              "      <td>72</td>\n",
              "      <td>10</td>\n",
              "      <td>4</td>\n",
              "    </tr>\n",
              "    <tr>\n",
              "      <th>78</th>\n",
              "      <td>72</td>\n",
              "      <td>24</td>\n",
              "      <td>5</td>\n",
              "    </tr>\n",
              "    <tr>\n",
              "      <th>79</th>\n",
              "      <td>72</td>\n",
              "      <td>27</td>\n",
              "      <td>5</td>\n",
              "    </tr>\n",
              "    <tr>\n",
              "      <th>80</th>\n",
              "      <td>72</td>\n",
              "      <td>40</td>\n",
              "      <td>1</td>\n",
              "    </tr>\n",
              "    <tr>\n",
              "      <th>81</th>\n",
              "      <td>72</td>\n",
              "      <td>60</td>\n",
              "      <td>0</td>\n",
              "    </tr>\n",
              "    <tr>\n",
              "      <th>82</th>\n",
              "      <td>72</td>\n",
              "      <td>72</td>\n",
              "      <td>1</td>\n",
              "    </tr>\n",
              "    <tr>\n",
              "      <th>83</th>\n",
              "      <td>72</td>\n",
              "      <td>73</td>\n",
              "      <td>4</td>\n",
              "    </tr>\n",
              "  </tbody>\n",
              "</table>\n",
              "</div>"
            ],
            "text/plain": [
              "    uid  asset_id  Ratings\n",
              "77   72        10        4\n",
              "78   72        24        5\n",
              "79   72        27        5\n",
              "80   72        40        1\n",
              "81   72        60        0\n",
              "82   72        72        1\n",
              "83   72        73        4"
            ]
          },
          "metadata": {
            "tags": []
          },
          "execution_count": 211
        }
      ]
    },
    {
      "cell_type": "markdown",
      "metadata": {
        "id": "XSJ-tagpuQ2W"
      },
      "source": [
        "### HR"
      ]
    },
    {
      "cell_type": "code",
      "metadata": {
        "id": "qXckVTxpt41e"
      },
      "source": [
        "hr_asset = list(df_reco.asset_id[df_reco.Domain=='HR'])\n",
        "hr_user = [n for n in range(73,85)]\n",
        "full_hruser_list =  make_full_user_list(hr_user,hr_asset)\n",
        "full_hrrating_list = list(np.random.randint(6,size=len(full_hruser_list)))\n",
        "full_hrasset_list  = hr_asset *len(hr_user)"
      ],
      "execution_count": null,
      "outputs": []
    },
    {
      "cell_type": "code",
      "metadata": {
        "colab": {
          "base_uri": "https://localhost:8080/"
        },
        "id": "M0DD_8JvutuQ",
        "outputId": "70293573-de91-483c-acc0-32e1a433e77d"
      },
      "source": [
        "len(hr_asset),hr_asset,len(hr_user),hr_user"
      ],
      "execution_count": null,
      "outputs": [
        {
          "output_type": "execute_result",
          "data": {
            "text/plain": [
              "(5, [11, 29, 45, 84, 85], 12, [73, 74, 75, 76, 77, 78, 79, 80, 81, 82, 83, 84])"
            ]
          },
          "metadata": {
            "tags": []
          },
          "execution_count": 251
        }
      ]
    },
    {
      "cell_type": "code",
      "metadata": {
        "colab": {
          "base_uri": "https://localhost:8080/"
        },
        "id": "eB5tS9Gdu1LW",
        "outputId": "567e7a9d-ca26-4891-e811-2ae5ae0f356c"
      },
      "source": [
        "user_hr_asset_ratings =  pd.DataFrame()\n",
        "user_hr_asset_ratings['uid'] = full_hruser_list\n",
        "user_hr_asset_ratings['asset_id'] = full_hrasset_list\n",
        "user_hr_asset_ratings['Ratings'] =  full_hrrating_list\n",
        "user_hr_asset_ratings.shape"
      ],
      "execution_count": null,
      "outputs": [
        {
          "output_type": "execute_result",
          "data": {
            "text/plain": [
              "(60, 3)"
            ]
          },
          "metadata": {
            "tags": []
          },
          "execution_count": 252
        }
      ]
    },
    {
      "cell_type": "code",
      "metadata": {
        "colab": {
          "base_uri": "https://localhost:8080/"
        },
        "id": "nPy7Dl9bvP_A",
        "outputId": "28e8dc88-9662-4f6d-c477-c50c8d3e7196"
      },
      "source": [
        "user_hr_asset_ratings.Ratings.value_counts()"
      ],
      "execution_count": null,
      "outputs": [
        {
          "output_type": "execute_result",
          "data": {
            "text/plain": [
              "5    16\n",
              "4    14\n",
              "0    12\n",
              "3     9\n",
              "1     6\n",
              "2     3\n",
              "Name: Ratings, dtype: int64"
            ]
          },
          "metadata": {
            "tags": []
          },
          "execution_count": 253
        }
      ]
    },
    {
      "cell_type": "code",
      "metadata": {
        "id": "UXvr8KoavUra"
      },
      "source": [
        "user_hr_asset_ratings.Ratings[user_hr_asset_ratings['Ratings'] == 1] = 0"
      ],
      "execution_count": null,
      "outputs": []
    },
    {
      "cell_type": "code",
      "metadata": {
        "colab": {
          "base_uri": "https://localhost:8080/"
        },
        "id": "rNf0Iy8HvhS3",
        "outputId": "81c0b2f4-985d-4c3f-9582-87915c59d7e2"
      },
      "source": [
        "print((user_hr_asset_ratings['Ratings']==0).sum())"
      ],
      "execution_count": null,
      "outputs": [
        {
          "output_type": "stream",
          "text": [
            "18\n"
          ],
          "name": "stdout"
        }
      ]
    },
    {
      "cell_type": "code",
      "metadata": {
        "colab": {
          "base_uri": "https://localhost:8080/",
          "height": 1000
        },
        "id": "sSdWovVPvpXZ",
        "outputId": "03c7c8c0-1559-4ec1-99de-77cb960c1ae1"
      },
      "source": [
        "user_hr_asset_ratings"
      ],
      "execution_count": null,
      "outputs": [
        {
          "output_type": "execute_result",
          "data": {
            "text/html": [
              "<div>\n",
              "<style scoped>\n",
              "    .dataframe tbody tr th:only-of-type {\n",
              "        vertical-align: middle;\n",
              "    }\n",
              "\n",
              "    .dataframe tbody tr th {\n",
              "        vertical-align: top;\n",
              "    }\n",
              "\n",
              "    .dataframe thead th {\n",
              "        text-align: right;\n",
              "    }\n",
              "</style>\n",
              "<table border=\"1\" class=\"dataframe\">\n",
              "  <thead>\n",
              "    <tr style=\"text-align: right;\">\n",
              "      <th></th>\n",
              "      <th>uid</th>\n",
              "      <th>asset_id</th>\n",
              "      <th>Ratings</th>\n",
              "    </tr>\n",
              "  </thead>\n",
              "  <tbody>\n",
              "    <tr>\n",
              "      <th>0</th>\n",
              "      <td>73</td>\n",
              "      <td>11</td>\n",
              "      <td>5</td>\n",
              "    </tr>\n",
              "    <tr>\n",
              "      <th>1</th>\n",
              "      <td>73</td>\n",
              "      <td>29</td>\n",
              "      <td>0</td>\n",
              "    </tr>\n",
              "    <tr>\n",
              "      <th>2</th>\n",
              "      <td>73</td>\n",
              "      <td>45</td>\n",
              "      <td>3</td>\n",
              "    </tr>\n",
              "    <tr>\n",
              "      <th>3</th>\n",
              "      <td>73</td>\n",
              "      <td>84</td>\n",
              "      <td>3</td>\n",
              "    </tr>\n",
              "    <tr>\n",
              "      <th>4</th>\n",
              "      <td>73</td>\n",
              "      <td>85</td>\n",
              "      <td>4</td>\n",
              "    </tr>\n",
              "    <tr>\n",
              "      <th>5</th>\n",
              "      <td>74</td>\n",
              "      <td>11</td>\n",
              "      <td>5</td>\n",
              "    </tr>\n",
              "    <tr>\n",
              "      <th>6</th>\n",
              "      <td>74</td>\n",
              "      <td>29</td>\n",
              "      <td>5</td>\n",
              "    </tr>\n",
              "    <tr>\n",
              "      <th>7</th>\n",
              "      <td>74</td>\n",
              "      <td>45</td>\n",
              "      <td>4</td>\n",
              "    </tr>\n",
              "    <tr>\n",
              "      <th>8</th>\n",
              "      <td>74</td>\n",
              "      <td>84</td>\n",
              "      <td>4</td>\n",
              "    </tr>\n",
              "    <tr>\n",
              "      <th>9</th>\n",
              "      <td>74</td>\n",
              "      <td>85</td>\n",
              "      <td>0</td>\n",
              "    </tr>\n",
              "    <tr>\n",
              "      <th>10</th>\n",
              "      <td>75</td>\n",
              "      <td>11</td>\n",
              "      <td>0</td>\n",
              "    </tr>\n",
              "    <tr>\n",
              "      <th>11</th>\n",
              "      <td>75</td>\n",
              "      <td>29</td>\n",
              "      <td>4</td>\n",
              "    </tr>\n",
              "    <tr>\n",
              "      <th>12</th>\n",
              "      <td>75</td>\n",
              "      <td>45</td>\n",
              "      <td>0</td>\n",
              "    </tr>\n",
              "    <tr>\n",
              "      <th>13</th>\n",
              "      <td>75</td>\n",
              "      <td>84</td>\n",
              "      <td>5</td>\n",
              "    </tr>\n",
              "    <tr>\n",
              "      <th>14</th>\n",
              "      <td>75</td>\n",
              "      <td>85</td>\n",
              "      <td>2</td>\n",
              "    </tr>\n",
              "    <tr>\n",
              "      <th>15</th>\n",
              "      <td>76</td>\n",
              "      <td>11</td>\n",
              "      <td>5</td>\n",
              "    </tr>\n",
              "    <tr>\n",
              "      <th>16</th>\n",
              "      <td>76</td>\n",
              "      <td>29</td>\n",
              "      <td>0</td>\n",
              "    </tr>\n",
              "    <tr>\n",
              "      <th>17</th>\n",
              "      <td>76</td>\n",
              "      <td>45</td>\n",
              "      <td>3</td>\n",
              "    </tr>\n",
              "    <tr>\n",
              "      <th>18</th>\n",
              "      <td>76</td>\n",
              "      <td>84</td>\n",
              "      <td>5</td>\n",
              "    </tr>\n",
              "    <tr>\n",
              "      <th>19</th>\n",
              "      <td>76</td>\n",
              "      <td>85</td>\n",
              "      <td>0</td>\n",
              "    </tr>\n",
              "    <tr>\n",
              "      <th>20</th>\n",
              "      <td>77</td>\n",
              "      <td>11</td>\n",
              "      <td>4</td>\n",
              "    </tr>\n",
              "    <tr>\n",
              "      <th>21</th>\n",
              "      <td>77</td>\n",
              "      <td>29</td>\n",
              "      <td>4</td>\n",
              "    </tr>\n",
              "    <tr>\n",
              "      <th>22</th>\n",
              "      <td>77</td>\n",
              "      <td>45</td>\n",
              "      <td>4</td>\n",
              "    </tr>\n",
              "    <tr>\n",
              "      <th>23</th>\n",
              "      <td>77</td>\n",
              "      <td>84</td>\n",
              "      <td>0</td>\n",
              "    </tr>\n",
              "    <tr>\n",
              "      <th>24</th>\n",
              "      <td>77</td>\n",
              "      <td>85</td>\n",
              "      <td>4</td>\n",
              "    </tr>\n",
              "    <tr>\n",
              "      <th>25</th>\n",
              "      <td>78</td>\n",
              "      <td>11</td>\n",
              "      <td>0</td>\n",
              "    </tr>\n",
              "    <tr>\n",
              "      <th>26</th>\n",
              "      <td>78</td>\n",
              "      <td>29</td>\n",
              "      <td>5</td>\n",
              "    </tr>\n",
              "    <tr>\n",
              "      <th>27</th>\n",
              "      <td>78</td>\n",
              "      <td>45</td>\n",
              "      <td>0</td>\n",
              "    </tr>\n",
              "    <tr>\n",
              "      <th>28</th>\n",
              "      <td>78</td>\n",
              "      <td>84</td>\n",
              "      <td>3</td>\n",
              "    </tr>\n",
              "    <tr>\n",
              "      <th>29</th>\n",
              "      <td>78</td>\n",
              "      <td>85</td>\n",
              "      <td>2</td>\n",
              "    </tr>\n",
              "    <tr>\n",
              "      <th>30</th>\n",
              "      <td>79</td>\n",
              "      <td>11</td>\n",
              "      <td>5</td>\n",
              "    </tr>\n",
              "    <tr>\n",
              "      <th>31</th>\n",
              "      <td>79</td>\n",
              "      <td>29</td>\n",
              "      <td>0</td>\n",
              "    </tr>\n",
              "    <tr>\n",
              "      <th>32</th>\n",
              "      <td>79</td>\n",
              "      <td>45</td>\n",
              "      <td>3</td>\n",
              "    </tr>\n",
              "    <tr>\n",
              "      <th>33</th>\n",
              "      <td>79</td>\n",
              "      <td>84</td>\n",
              "      <td>3</td>\n",
              "    </tr>\n",
              "    <tr>\n",
              "      <th>34</th>\n",
              "      <td>79</td>\n",
              "      <td>85</td>\n",
              "      <td>0</td>\n",
              "    </tr>\n",
              "    <tr>\n",
              "      <th>35</th>\n",
              "      <td>80</td>\n",
              "      <td>11</td>\n",
              "      <td>3</td>\n",
              "    </tr>\n",
              "    <tr>\n",
              "      <th>36</th>\n",
              "      <td>80</td>\n",
              "      <td>29</td>\n",
              "      <td>0</td>\n",
              "    </tr>\n",
              "    <tr>\n",
              "      <th>37</th>\n",
              "      <td>80</td>\n",
              "      <td>45</td>\n",
              "      <td>4</td>\n",
              "    </tr>\n",
              "    <tr>\n",
              "      <th>38</th>\n",
              "      <td>80</td>\n",
              "      <td>84</td>\n",
              "      <td>4</td>\n",
              "    </tr>\n",
              "    <tr>\n",
              "      <th>39</th>\n",
              "      <td>80</td>\n",
              "      <td>85</td>\n",
              "      <td>0</td>\n",
              "    </tr>\n",
              "    <tr>\n",
              "      <th>40</th>\n",
              "      <td>81</td>\n",
              "      <td>11</td>\n",
              "      <td>5</td>\n",
              "    </tr>\n",
              "    <tr>\n",
              "      <th>41</th>\n",
              "      <td>81</td>\n",
              "      <td>29</td>\n",
              "      <td>5</td>\n",
              "    </tr>\n",
              "    <tr>\n",
              "      <th>42</th>\n",
              "      <td>81</td>\n",
              "      <td>45</td>\n",
              "      <td>3</td>\n",
              "    </tr>\n",
              "    <tr>\n",
              "      <th>43</th>\n",
              "      <td>81</td>\n",
              "      <td>84</td>\n",
              "      <td>4</td>\n",
              "    </tr>\n",
              "    <tr>\n",
              "      <th>44</th>\n",
              "      <td>81</td>\n",
              "      <td>85</td>\n",
              "      <td>5</td>\n",
              "    </tr>\n",
              "    <tr>\n",
              "      <th>45</th>\n",
              "      <td>82</td>\n",
              "      <td>11</td>\n",
              "      <td>0</td>\n",
              "    </tr>\n",
              "    <tr>\n",
              "      <th>46</th>\n",
              "      <td>82</td>\n",
              "      <td>29</td>\n",
              "      <td>4</td>\n",
              "    </tr>\n",
              "    <tr>\n",
              "      <th>47</th>\n",
              "      <td>82</td>\n",
              "      <td>45</td>\n",
              "      <td>3</td>\n",
              "    </tr>\n",
              "    <tr>\n",
              "      <th>48</th>\n",
              "      <td>82</td>\n",
              "      <td>84</td>\n",
              "      <td>5</td>\n",
              "    </tr>\n",
              "    <tr>\n",
              "      <th>49</th>\n",
              "      <td>82</td>\n",
              "      <td>85</td>\n",
              "      <td>5</td>\n",
              "    </tr>\n",
              "    <tr>\n",
              "      <th>50</th>\n",
              "      <td>83</td>\n",
              "      <td>11</td>\n",
              "      <td>0</td>\n",
              "    </tr>\n",
              "    <tr>\n",
              "      <th>51</th>\n",
              "      <td>83</td>\n",
              "      <td>29</td>\n",
              "      <td>5</td>\n",
              "    </tr>\n",
              "    <tr>\n",
              "      <th>52</th>\n",
              "      <td>83</td>\n",
              "      <td>45</td>\n",
              "      <td>5</td>\n",
              "    </tr>\n",
              "    <tr>\n",
              "      <th>53</th>\n",
              "      <td>83</td>\n",
              "      <td>84</td>\n",
              "      <td>0</td>\n",
              "    </tr>\n",
              "    <tr>\n",
              "      <th>54</th>\n",
              "      <td>83</td>\n",
              "      <td>85</td>\n",
              "      <td>0</td>\n",
              "    </tr>\n",
              "    <tr>\n",
              "      <th>55</th>\n",
              "      <td>84</td>\n",
              "      <td>11</td>\n",
              "      <td>4</td>\n",
              "    </tr>\n",
              "    <tr>\n",
              "      <th>56</th>\n",
              "      <td>84</td>\n",
              "      <td>29</td>\n",
              "      <td>2</td>\n",
              "    </tr>\n",
              "    <tr>\n",
              "      <th>57</th>\n",
              "      <td>84</td>\n",
              "      <td>45</td>\n",
              "      <td>4</td>\n",
              "    </tr>\n",
              "    <tr>\n",
              "      <th>58</th>\n",
              "      <td>84</td>\n",
              "      <td>84</td>\n",
              "      <td>0</td>\n",
              "    </tr>\n",
              "    <tr>\n",
              "      <th>59</th>\n",
              "      <td>84</td>\n",
              "      <td>85</td>\n",
              "      <td>5</td>\n",
              "    </tr>\n",
              "  </tbody>\n",
              "</table>\n",
              "</div>"
            ],
            "text/plain": [
              "    uid  asset_id  Ratings\n",
              "0    73        11        5\n",
              "1    73        29        0\n",
              "2    73        45        3\n",
              "3    73        84        3\n",
              "4    73        85        4\n",
              "5    74        11        5\n",
              "6    74        29        5\n",
              "7    74        45        4\n",
              "8    74        84        4\n",
              "9    74        85        0\n",
              "10   75        11        0\n",
              "11   75        29        4\n",
              "12   75        45        0\n",
              "13   75        84        5\n",
              "14   75        85        2\n",
              "15   76        11        5\n",
              "16   76        29        0\n",
              "17   76        45        3\n",
              "18   76        84        5\n",
              "19   76        85        0\n",
              "20   77        11        4\n",
              "21   77        29        4\n",
              "22   77        45        4\n",
              "23   77        84        0\n",
              "24   77        85        4\n",
              "25   78        11        0\n",
              "26   78        29        5\n",
              "27   78        45        0\n",
              "28   78        84        3\n",
              "29   78        85        2\n",
              "30   79        11        5\n",
              "31   79        29        0\n",
              "32   79        45        3\n",
              "33   79        84        3\n",
              "34   79        85        0\n",
              "35   80        11        3\n",
              "36   80        29        0\n",
              "37   80        45        4\n",
              "38   80        84        4\n",
              "39   80        85        0\n",
              "40   81        11        5\n",
              "41   81        29        5\n",
              "42   81        45        3\n",
              "43   81        84        4\n",
              "44   81        85        5\n",
              "45   82        11        0\n",
              "46   82        29        4\n",
              "47   82        45        3\n",
              "48   82        84        5\n",
              "49   82        85        5\n",
              "50   83        11        0\n",
              "51   83        29        5\n",
              "52   83        45        5\n",
              "53   83        84        0\n",
              "54   83        85        0\n",
              "55   84        11        4\n",
              "56   84        29        2\n",
              "57   84        45        4\n",
              "58   84        84        0\n",
              "59   84        85        5"
            ]
          },
          "metadata": {
            "tags": []
          },
          "execution_count": 256
        }
      ]
    },
    {
      "cell_type": "code",
      "metadata": {
        "colab": {
          "base_uri": "https://localhost:8080/"
        },
        "id": "p5xjzATKrP-b",
        "outputId": "6368002d-67f5-4775-f24b-2b1bfadba12a"
      },
      "source": [
        "occ = []\n",
        "for i in hr_user:\n",
        "    occ.append((user_hr_asset_ratings[user_hr_asset_ratings.uid==i]).shape[0])\n",
        "print(set(occ))\n"
      ],
      "execution_count": null,
      "outputs": [
        {
          "output_type": "stream",
          "text": [
            "{5}\n"
          ],
          "name": "stdout"
        }
      ]
    },
    {
      "cell_type": "code",
      "metadata": {
        "colab": {
          "base_uri": "https://localhost:8080/",
          "height": 206
        },
        "id": "CbT-JJQl2AZ4",
        "outputId": "32ea207c-dd16-49aa-d1f9-2ef69e7b6952"
      },
      "source": [
        "user_hr_asset_ratings[user_hr_asset_ratings.uid==77]"
      ],
      "execution_count": null,
      "outputs": [
        {
          "output_type": "execute_result",
          "data": {
            "text/html": [
              "<div>\n",
              "<style scoped>\n",
              "    .dataframe tbody tr th:only-of-type {\n",
              "        vertical-align: middle;\n",
              "    }\n",
              "\n",
              "    .dataframe tbody tr th {\n",
              "        vertical-align: top;\n",
              "    }\n",
              "\n",
              "    .dataframe thead th {\n",
              "        text-align: right;\n",
              "    }\n",
              "</style>\n",
              "<table border=\"1\" class=\"dataframe\">\n",
              "  <thead>\n",
              "    <tr style=\"text-align: right;\">\n",
              "      <th></th>\n",
              "      <th>uid</th>\n",
              "      <th>asset_id</th>\n",
              "      <th>Ratings</th>\n",
              "    </tr>\n",
              "  </thead>\n",
              "  <tbody>\n",
              "    <tr>\n",
              "      <th>20</th>\n",
              "      <td>77</td>\n",
              "      <td>11</td>\n",
              "      <td>4</td>\n",
              "    </tr>\n",
              "    <tr>\n",
              "      <th>21</th>\n",
              "      <td>77</td>\n",
              "      <td>29</td>\n",
              "      <td>4</td>\n",
              "    </tr>\n",
              "    <tr>\n",
              "      <th>22</th>\n",
              "      <td>77</td>\n",
              "      <td>45</td>\n",
              "      <td>4</td>\n",
              "    </tr>\n",
              "    <tr>\n",
              "      <th>23</th>\n",
              "      <td>77</td>\n",
              "      <td>84</td>\n",
              "      <td>0</td>\n",
              "    </tr>\n",
              "    <tr>\n",
              "      <th>24</th>\n",
              "      <td>77</td>\n",
              "      <td>85</td>\n",
              "      <td>4</td>\n",
              "    </tr>\n",
              "  </tbody>\n",
              "</table>\n",
              "</div>"
            ],
            "text/plain": [
              "    uid  asset_id  Ratings\n",
              "20   77        11        4\n",
              "21   77        29        4\n",
              "22   77        45        4\n",
              "23   77        84        0\n",
              "24   77        85        4"
            ]
          },
          "metadata": {
            "tags": []
          },
          "execution_count": 259
        }
      ]
    },
    {
      "cell_type": "markdown",
      "metadata": {
        "id": "fLra4NyqwEsf"
      },
      "source": [
        "### Industry"
      ]
    },
    {
      "cell_type": "code",
      "metadata": {
        "id": "wiR7AKtdvtsZ"
      },
      "source": [
        "id_asset = list(df_reco.asset_id[df_reco.Domain=='Industry'])\n",
        "id_user = [n for n in range(85,101)]\n",
        "full_iduser_list =  make_full_user_list(id_user,id_asset)\n",
        "full_idrating_list = list(np.random.randint(6,size=len(full_iduser_list)))\n",
        "full_idasset_list  = id_asset *len(id_user)"
      ],
      "execution_count": null,
      "outputs": []
    },
    {
      "cell_type": "code",
      "metadata": {
        "colab": {
          "base_uri": "https://localhost:8080/"
        },
        "id": "8pyTKLlHwgy9",
        "outputId": "2017e508-b556-4c7e-e3ce-9a1c8b16438e"
      },
      "source": [
        "len(id_asset),id_asset,len(id_user),id_user"
      ],
      "execution_count": null,
      "outputs": [
        {
          "output_type": "execute_result",
          "data": {
            "text/plain": [
              "(21,\n",
              " [21,\n",
              "  26,\n",
              "  28,\n",
              "  32,\n",
              "  39,\n",
              "  46,\n",
              "  48,\n",
              "  51,\n",
              "  52,\n",
              "  53,\n",
              "  56,\n",
              "  62,\n",
              "  63,\n",
              "  67,\n",
              "  68,\n",
              "  77,\n",
              "  78,\n",
              "  79,\n",
              "  80,\n",
              "  81,\n",
              "  83],\n",
              " 16,\n",
              " [85, 86, 87, 88, 89, 90, 91, 92, 93, 94, 95, 96, 97, 98, 99, 100])"
            ]
          },
          "metadata": {
            "tags": []
          },
          "execution_count": 261
        }
      ]
    },
    {
      "cell_type": "code",
      "metadata": {
        "colab": {
          "base_uri": "https://localhost:8080/"
        },
        "id": "4xPnDROZwmR0",
        "outputId": "743a346d-d705-4437-e365-e8337303cf6f"
      },
      "source": [
        "user_id_asset_ratings =  pd.DataFrame()\n",
        "user_id_asset_ratings['uid'] = full_iduser_list\n",
        "user_id_asset_ratings['asset_id'] = full_idasset_list\n",
        "user_id_asset_ratings['Ratings'] =  full_idrating_list\n",
        "user_id_asset_ratings.shape"
      ],
      "execution_count": null,
      "outputs": [
        {
          "output_type": "execute_result",
          "data": {
            "text/plain": [
              "(336, 3)"
            ]
          },
          "metadata": {
            "tags": []
          },
          "execution_count": 262
        }
      ]
    },
    {
      "cell_type": "code",
      "metadata": {
        "colab": {
          "base_uri": "https://localhost:8080/"
        },
        "id": "q3guuNzdw0P7",
        "outputId": "002f388b-449a-4c86-e0f9-c5060c3ed8ca"
      },
      "source": [
        "user_id_asset_ratings.Ratings.value_counts()"
      ],
      "execution_count": null,
      "outputs": [
        {
          "output_type": "execute_result",
          "data": {
            "text/plain": [
              "0    67\n",
              "2    60\n",
              "3    58\n",
              "4    56\n",
              "5    48\n",
              "1    47\n",
              "Name: Ratings, dtype: int64"
            ]
          },
          "metadata": {
            "tags": []
          },
          "execution_count": 263
        }
      ]
    },
    {
      "cell_type": "code",
      "metadata": {
        "id": "HH-NLZvWw5Oq"
      },
      "source": [
        "user_id_asset_ratings.Ratings[user_id_asset_ratings['Ratings'] == 1] = 0"
      ],
      "execution_count": null,
      "outputs": []
    },
    {
      "cell_type": "code",
      "metadata": {
        "colab": {
          "base_uri": "https://localhost:8080/"
        },
        "id": "7LfK4fZ7xIIL",
        "outputId": "0fcf92de-2d5a-48b9-9dc5-14e228b60e53"
      },
      "source": [
        "user_id_asset_ratings.Ratings.value_counts()"
      ],
      "execution_count": null,
      "outputs": [
        {
          "output_type": "execute_result",
          "data": {
            "text/plain": [
              "0    114\n",
              "2     60\n",
              "3     58\n",
              "4     56\n",
              "5     48\n",
              "Name: Ratings, dtype: int64"
            ]
          },
          "metadata": {
            "tags": []
          },
          "execution_count": 265
        }
      ]
    },
    {
      "cell_type": "code",
      "metadata": {
        "colab": {
          "base_uri": "https://localhost:8080/",
          "height": 424
        },
        "id": "acuX6OzexJ4c",
        "outputId": "f2ce8dfd-6ab1-46e8-c97a-2e0bdab20cfb"
      },
      "source": [
        "user_id_asset_ratings"
      ],
      "execution_count": null,
      "outputs": [
        {
          "output_type": "execute_result",
          "data": {
            "text/html": [
              "<div>\n",
              "<style scoped>\n",
              "    .dataframe tbody tr th:only-of-type {\n",
              "        vertical-align: middle;\n",
              "    }\n",
              "\n",
              "    .dataframe tbody tr th {\n",
              "        vertical-align: top;\n",
              "    }\n",
              "\n",
              "    .dataframe thead th {\n",
              "        text-align: right;\n",
              "    }\n",
              "</style>\n",
              "<table border=\"1\" class=\"dataframe\">\n",
              "  <thead>\n",
              "    <tr style=\"text-align: right;\">\n",
              "      <th></th>\n",
              "      <th>uid</th>\n",
              "      <th>asset_id</th>\n",
              "      <th>Ratings</th>\n",
              "    </tr>\n",
              "  </thead>\n",
              "  <tbody>\n",
              "    <tr>\n",
              "      <th>0</th>\n",
              "      <td>85</td>\n",
              "      <td>21</td>\n",
              "      <td>2</td>\n",
              "    </tr>\n",
              "    <tr>\n",
              "      <th>1</th>\n",
              "      <td>85</td>\n",
              "      <td>26</td>\n",
              "      <td>3</td>\n",
              "    </tr>\n",
              "    <tr>\n",
              "      <th>2</th>\n",
              "      <td>85</td>\n",
              "      <td>28</td>\n",
              "      <td>3</td>\n",
              "    </tr>\n",
              "    <tr>\n",
              "      <th>3</th>\n",
              "      <td>85</td>\n",
              "      <td>32</td>\n",
              "      <td>5</td>\n",
              "    </tr>\n",
              "    <tr>\n",
              "      <th>4</th>\n",
              "      <td>85</td>\n",
              "      <td>39</td>\n",
              "      <td>4</td>\n",
              "    </tr>\n",
              "    <tr>\n",
              "      <th>...</th>\n",
              "      <td>...</td>\n",
              "      <td>...</td>\n",
              "      <td>...</td>\n",
              "    </tr>\n",
              "    <tr>\n",
              "      <th>331</th>\n",
              "      <td>100</td>\n",
              "      <td>78</td>\n",
              "      <td>2</td>\n",
              "    </tr>\n",
              "    <tr>\n",
              "      <th>332</th>\n",
              "      <td>100</td>\n",
              "      <td>79</td>\n",
              "      <td>0</td>\n",
              "    </tr>\n",
              "    <tr>\n",
              "      <th>333</th>\n",
              "      <td>100</td>\n",
              "      <td>80</td>\n",
              "      <td>0</td>\n",
              "    </tr>\n",
              "    <tr>\n",
              "      <th>334</th>\n",
              "      <td>100</td>\n",
              "      <td>81</td>\n",
              "      <td>5</td>\n",
              "    </tr>\n",
              "    <tr>\n",
              "      <th>335</th>\n",
              "      <td>100</td>\n",
              "      <td>83</td>\n",
              "      <td>0</td>\n",
              "    </tr>\n",
              "  </tbody>\n",
              "</table>\n",
              "<p>336 rows × 3 columns</p>\n",
              "</div>"
            ],
            "text/plain": [
              "     uid  asset_id  Ratings\n",
              "0     85        21        2\n",
              "1     85        26        3\n",
              "2     85        28        3\n",
              "3     85        32        5\n",
              "4     85        39        4\n",
              "..   ...       ...      ...\n",
              "331  100        78        2\n",
              "332  100        79        0\n",
              "333  100        80        0\n",
              "334  100        81        5\n",
              "335  100        83        0\n",
              "\n",
              "[336 rows x 3 columns]"
            ]
          },
          "metadata": {
            "tags": []
          },
          "execution_count": 266
        }
      ]
    },
    {
      "cell_type": "code",
      "metadata": {
        "id": "hkPMbZt3xOFw",
        "colab": {
          "base_uri": "https://localhost:8080/"
        },
        "outputId": "edbe78bd-0869-4751-a8a3-f252fd0da6d4"
      },
      "source": [
        "occ = []\n",
        "for i in id_user:\n",
        "    occ.append((user_id_asset_ratings[user_id_asset_ratings.uid==i]).shape[0])\n",
        "print(set(occ))\n"
      ],
      "execution_count": null,
      "outputs": [
        {
          "output_type": "stream",
          "text": [
            "{21}\n"
          ],
          "name": "stdout"
        }
      ]
    },
    {
      "cell_type": "code",
      "metadata": {
        "colab": {
          "base_uri": "https://localhost:8080/",
          "height": 708
        },
        "id": "cC0aXZxG2VNG",
        "outputId": "f6bd7b44-fdbc-468d-dfc9-0065270ddc52"
      },
      "source": [
        "user_id_asset_ratings[user_id_asset_ratings.uid==95]"
      ],
      "execution_count": null,
      "outputs": [
        {
          "output_type": "execute_result",
          "data": {
            "text/html": [
              "<div>\n",
              "<style scoped>\n",
              "    .dataframe tbody tr th:only-of-type {\n",
              "        vertical-align: middle;\n",
              "    }\n",
              "\n",
              "    .dataframe tbody tr th {\n",
              "        vertical-align: top;\n",
              "    }\n",
              "\n",
              "    .dataframe thead th {\n",
              "        text-align: right;\n",
              "    }\n",
              "</style>\n",
              "<table border=\"1\" class=\"dataframe\">\n",
              "  <thead>\n",
              "    <tr style=\"text-align: right;\">\n",
              "      <th></th>\n",
              "      <th>uid</th>\n",
              "      <th>asset_id</th>\n",
              "      <th>Ratings</th>\n",
              "    </tr>\n",
              "  </thead>\n",
              "  <tbody>\n",
              "    <tr>\n",
              "      <th>210</th>\n",
              "      <td>95</td>\n",
              "      <td>21</td>\n",
              "      <td>0</td>\n",
              "    </tr>\n",
              "    <tr>\n",
              "      <th>211</th>\n",
              "      <td>95</td>\n",
              "      <td>26</td>\n",
              "      <td>0</td>\n",
              "    </tr>\n",
              "    <tr>\n",
              "      <th>212</th>\n",
              "      <td>95</td>\n",
              "      <td>28</td>\n",
              "      <td>3</td>\n",
              "    </tr>\n",
              "    <tr>\n",
              "      <th>213</th>\n",
              "      <td>95</td>\n",
              "      <td>32</td>\n",
              "      <td>4</td>\n",
              "    </tr>\n",
              "    <tr>\n",
              "      <th>214</th>\n",
              "      <td>95</td>\n",
              "      <td>39</td>\n",
              "      <td>0</td>\n",
              "    </tr>\n",
              "    <tr>\n",
              "      <th>215</th>\n",
              "      <td>95</td>\n",
              "      <td>46</td>\n",
              "      <td>3</td>\n",
              "    </tr>\n",
              "    <tr>\n",
              "      <th>216</th>\n",
              "      <td>95</td>\n",
              "      <td>48</td>\n",
              "      <td>2</td>\n",
              "    </tr>\n",
              "    <tr>\n",
              "      <th>217</th>\n",
              "      <td>95</td>\n",
              "      <td>51</td>\n",
              "      <td>5</td>\n",
              "    </tr>\n",
              "    <tr>\n",
              "      <th>218</th>\n",
              "      <td>95</td>\n",
              "      <td>52</td>\n",
              "      <td>0</td>\n",
              "    </tr>\n",
              "    <tr>\n",
              "      <th>219</th>\n",
              "      <td>95</td>\n",
              "      <td>53</td>\n",
              "      <td>2</td>\n",
              "    </tr>\n",
              "    <tr>\n",
              "      <th>220</th>\n",
              "      <td>95</td>\n",
              "      <td>56</td>\n",
              "      <td>0</td>\n",
              "    </tr>\n",
              "    <tr>\n",
              "      <th>221</th>\n",
              "      <td>95</td>\n",
              "      <td>62</td>\n",
              "      <td>0</td>\n",
              "    </tr>\n",
              "    <tr>\n",
              "      <th>222</th>\n",
              "      <td>95</td>\n",
              "      <td>63</td>\n",
              "      <td>0</td>\n",
              "    </tr>\n",
              "    <tr>\n",
              "      <th>223</th>\n",
              "      <td>95</td>\n",
              "      <td>67</td>\n",
              "      <td>0</td>\n",
              "    </tr>\n",
              "    <tr>\n",
              "      <th>224</th>\n",
              "      <td>95</td>\n",
              "      <td>68</td>\n",
              "      <td>3</td>\n",
              "    </tr>\n",
              "    <tr>\n",
              "      <th>225</th>\n",
              "      <td>95</td>\n",
              "      <td>77</td>\n",
              "      <td>0</td>\n",
              "    </tr>\n",
              "    <tr>\n",
              "      <th>226</th>\n",
              "      <td>95</td>\n",
              "      <td>78</td>\n",
              "      <td>0</td>\n",
              "    </tr>\n",
              "    <tr>\n",
              "      <th>227</th>\n",
              "      <td>95</td>\n",
              "      <td>79</td>\n",
              "      <td>3</td>\n",
              "    </tr>\n",
              "    <tr>\n",
              "      <th>228</th>\n",
              "      <td>95</td>\n",
              "      <td>80</td>\n",
              "      <td>0</td>\n",
              "    </tr>\n",
              "    <tr>\n",
              "      <th>229</th>\n",
              "      <td>95</td>\n",
              "      <td>81</td>\n",
              "      <td>3</td>\n",
              "    </tr>\n",
              "    <tr>\n",
              "      <th>230</th>\n",
              "      <td>95</td>\n",
              "      <td>83</td>\n",
              "      <td>0</td>\n",
              "    </tr>\n",
              "  </tbody>\n",
              "</table>\n",
              "</div>"
            ],
            "text/plain": [
              "     uid  asset_id  Ratings\n",
              "210   95        21        0\n",
              "211   95        26        0\n",
              "212   95        28        3\n",
              "213   95        32        4\n",
              "214   95        39        0\n",
              "215   95        46        3\n",
              "216   95        48        2\n",
              "217   95        51        5\n",
              "218   95        52        0\n",
              "219   95        53        2\n",
              "220   95        56        0\n",
              "221   95        62        0\n",
              "222   95        63        0\n",
              "223   95        67        0\n",
              "224   95        68        3\n",
              "225   95        77        0\n",
              "226   95        78        0\n",
              "227   95        79        3\n",
              "228   95        80        0\n",
              "229   95        81        3\n",
              "230   95        83        0"
            ]
          },
          "metadata": {
            "tags": []
          },
          "execution_count": 268
        }
      ]
    },
    {
      "cell_type": "markdown",
      "metadata": {
        "id": "qlDAyPizxSGs"
      },
      "source": [
        "### User-Asset-Rating-Dataframe"
      ]
    },
    {
      "cell_type": "code",
      "metadata": {
        "colab": {
          "base_uri": "https://localhost:8080/"
        },
        "id": "cDoTh0oOxWjg",
        "outputId": "410e27e8-35b0-4365-ee63-d83406431fda"
      },
      "source": [
        "print(user_cx_asset_ratings.shape[0])\n",
        "print(user_ag_asset_ratings.shape[0])\n",
        "print(user_ai_asset_ratings.shape[0])\n",
        "print(user_iot_asset_ratings.shape[0])\n",
        "print(user_bd_asset_ratings.shape[0])\n",
        "print(user_cd_asset_ratings.shape[0])\n",
        "print(user_hr_asset_ratings.shape[0])\n",
        "print(user_id_asset_ratings.shape[0])\n",
        "\n",
        "total_rows = user_cx_asset_ratings.shape[0]+user_ag_asset_ratings.shape[0]+user_ai_asset_ratings.shape[0]+user_iot_asset_ratings.shape[0] + user_bd_asset_ratings.shape[0] + user_cd_asset_ratings.shape[0]+ user_hr_asset_ratings.shape[0] + user_id_asset_ratings.shape[0]\n",
        "\n",
        "print(\"total_rows\",total_rows)"
      ],
      "execution_count": null,
      "outputs": [
        {
          "output_type": "stream",
          "text": [
            "228\n",
            "120\n",
            "96\n",
            "72\n",
            "72\n",
            "84\n",
            "60\n",
            "336\n",
            "total_rows 1068\n"
          ],
          "name": "stdout"
        }
      ]
    },
    {
      "cell_type": "code",
      "metadata": {
        "id": "UVtb9dHFywOO"
      },
      "source": [
        "rating = pd.concat([user_cx_asset_ratings, user_ag_asset_ratings, user_ai_asset_ratings, user_iot_asset_ratings, user_bd_asset_ratings,user_cd_asset_ratings,user_hr_asset_ratings,user_id_asset_ratings], ignore_index=True)"
      ],
      "execution_count": null,
      "outputs": []
    },
    {
      "cell_type": "code",
      "metadata": {
        "colab": {
          "base_uri": "https://localhost:8080/",
          "height": 424
        },
        "id": "HkXICkc7zOa5",
        "outputId": "2ddac4f4-dfee-49f1-9f6b-671caf0017be"
      },
      "source": [
        "rating"
      ],
      "execution_count": null,
      "outputs": [
        {
          "output_type": "execute_result",
          "data": {
            "text/html": [
              "<div>\n",
              "<style scoped>\n",
              "    .dataframe tbody tr th:only-of-type {\n",
              "        vertical-align: middle;\n",
              "    }\n",
              "\n",
              "    .dataframe tbody tr th {\n",
              "        vertical-align: top;\n",
              "    }\n",
              "\n",
              "    .dataframe thead th {\n",
              "        text-align: right;\n",
              "    }\n",
              "</style>\n",
              "<table border=\"1\" class=\"dataframe\">\n",
              "  <thead>\n",
              "    <tr style=\"text-align: right;\">\n",
              "      <th></th>\n",
              "      <th>uid</th>\n",
              "      <th>asset_id</th>\n",
              "      <th>Ratings</th>\n",
              "    </tr>\n",
              "  </thead>\n",
              "  <tbody>\n",
              "    <tr>\n",
              "      <th>0</th>\n",
              "      <td>1</td>\n",
              "      <td>1</td>\n",
              "      <td>0</td>\n",
              "    </tr>\n",
              "    <tr>\n",
              "      <th>1</th>\n",
              "      <td>1</td>\n",
              "      <td>5</td>\n",
              "      <td>0</td>\n",
              "    </tr>\n",
              "    <tr>\n",
              "      <th>2</th>\n",
              "      <td>1</td>\n",
              "      <td>9</td>\n",
              "      <td>0</td>\n",
              "    </tr>\n",
              "    <tr>\n",
              "      <th>3</th>\n",
              "      <td>1</td>\n",
              "      <td>12</td>\n",
              "      <td>3</td>\n",
              "    </tr>\n",
              "    <tr>\n",
              "      <th>4</th>\n",
              "      <td>1</td>\n",
              "      <td>14</td>\n",
              "      <td>0</td>\n",
              "    </tr>\n",
              "    <tr>\n",
              "      <th>...</th>\n",
              "      <td>...</td>\n",
              "      <td>...</td>\n",
              "      <td>...</td>\n",
              "    </tr>\n",
              "    <tr>\n",
              "      <th>1063</th>\n",
              "      <td>100</td>\n",
              "      <td>78</td>\n",
              "      <td>2</td>\n",
              "    </tr>\n",
              "    <tr>\n",
              "      <th>1064</th>\n",
              "      <td>100</td>\n",
              "      <td>79</td>\n",
              "      <td>0</td>\n",
              "    </tr>\n",
              "    <tr>\n",
              "      <th>1065</th>\n",
              "      <td>100</td>\n",
              "      <td>80</td>\n",
              "      <td>0</td>\n",
              "    </tr>\n",
              "    <tr>\n",
              "      <th>1066</th>\n",
              "      <td>100</td>\n",
              "      <td>81</td>\n",
              "      <td>5</td>\n",
              "    </tr>\n",
              "    <tr>\n",
              "      <th>1067</th>\n",
              "      <td>100</td>\n",
              "      <td>83</td>\n",
              "      <td>0</td>\n",
              "    </tr>\n",
              "  </tbody>\n",
              "</table>\n",
              "<p>1068 rows × 3 columns</p>\n",
              "</div>"
            ],
            "text/plain": [
              "      uid  asset_id  Ratings\n",
              "0       1         1        0\n",
              "1       1         5        0\n",
              "2       1         9        0\n",
              "3       1        12        3\n",
              "4       1        14        0\n",
              "...   ...       ...      ...\n",
              "1063  100        78        2\n",
              "1064  100        79        0\n",
              "1065  100        80        0\n",
              "1066  100        81        5\n",
              "1067  100        83        0\n",
              "\n",
              "[1068 rows x 3 columns]"
            ]
          },
          "metadata": {
            "tags": []
          },
          "execution_count": 271
        }
      ]
    },
    {
      "cell_type": "code",
      "metadata": {
        "colab": {
          "base_uri": "https://localhost:8080/",
          "height": 206
        },
        "id": "zcen1TkwtO6A",
        "outputId": "48fdc743-df10-4869-e463-07739a37d0d0"
      },
      "source": [
        "rating[rating.uid==77]"
      ],
      "execution_count": null,
      "outputs": [
        {
          "output_type": "execute_result",
          "data": {
            "text/html": [
              "<div>\n",
              "<style scoped>\n",
              "    .dataframe tbody tr th:only-of-type {\n",
              "        vertical-align: middle;\n",
              "    }\n",
              "\n",
              "    .dataframe tbody tr th {\n",
              "        vertical-align: top;\n",
              "    }\n",
              "\n",
              "    .dataframe thead th {\n",
              "        text-align: right;\n",
              "    }\n",
              "</style>\n",
              "<table border=\"1\" class=\"dataframe\">\n",
              "  <thead>\n",
              "    <tr style=\"text-align: right;\">\n",
              "      <th></th>\n",
              "      <th>uid</th>\n",
              "      <th>asset_id</th>\n",
              "      <th>Ratings</th>\n",
              "    </tr>\n",
              "  </thead>\n",
              "  <tbody>\n",
              "    <tr>\n",
              "      <th>692</th>\n",
              "      <td>77</td>\n",
              "      <td>11</td>\n",
              "      <td>4</td>\n",
              "    </tr>\n",
              "    <tr>\n",
              "      <th>693</th>\n",
              "      <td>77</td>\n",
              "      <td>29</td>\n",
              "      <td>4</td>\n",
              "    </tr>\n",
              "    <tr>\n",
              "      <th>694</th>\n",
              "      <td>77</td>\n",
              "      <td>45</td>\n",
              "      <td>4</td>\n",
              "    </tr>\n",
              "    <tr>\n",
              "      <th>695</th>\n",
              "      <td>77</td>\n",
              "      <td>84</td>\n",
              "      <td>0</td>\n",
              "    </tr>\n",
              "    <tr>\n",
              "      <th>696</th>\n",
              "      <td>77</td>\n",
              "      <td>85</td>\n",
              "      <td>4</td>\n",
              "    </tr>\n",
              "  </tbody>\n",
              "</table>\n",
              "</div>"
            ],
            "text/plain": [
              "     uid  asset_id  Ratings\n",
              "692   77        11        4\n",
              "693   77        29        4\n",
              "694   77        45        4\n",
              "695   77        84        0\n",
              "696   77        85        4"
            ]
          },
          "metadata": {
            "tags": []
          },
          "execution_count": 272
        }
      ]
    },
    {
      "cell_type": "code",
      "metadata": {
        "colab": {
          "base_uri": "https://localhost:8080/",
          "height": 300
        },
        "id": "FS77TXIU2l5H",
        "outputId": "22a61888-7171-41f9-c3e6-56240f4ad48a"
      },
      "source": [
        "rating[rating.uid==27]"
      ],
      "execution_count": null,
      "outputs": [
        {
          "output_type": "execute_result",
          "data": {
            "text/html": [
              "<div>\n",
              "<style scoped>\n",
              "    .dataframe tbody tr th:only-of-type {\n",
              "        vertical-align: middle;\n",
              "    }\n",
              "\n",
              "    .dataframe tbody tr th {\n",
              "        vertical-align: top;\n",
              "    }\n",
              "\n",
              "    .dataframe thead th {\n",
              "        text-align: right;\n",
              "    }\n",
              "</style>\n",
              "<table border=\"1\" class=\"dataframe\">\n",
              "  <thead>\n",
              "    <tr style=\"text-align: right;\">\n",
              "      <th></th>\n",
              "      <th>uid</th>\n",
              "      <th>asset_id</th>\n",
              "      <th>Ratings</th>\n",
              "    </tr>\n",
              "  </thead>\n",
              "  <tbody>\n",
              "    <tr>\n",
              "      <th>364</th>\n",
              "      <td>27</td>\n",
              "      <td>3</td>\n",
              "      <td>0</td>\n",
              "    </tr>\n",
              "    <tr>\n",
              "      <th>365</th>\n",
              "      <td>27</td>\n",
              "      <td>7</td>\n",
              "      <td>5</td>\n",
              "    </tr>\n",
              "    <tr>\n",
              "      <th>366</th>\n",
              "      <td>27</td>\n",
              "      <td>13</td>\n",
              "      <td>4</td>\n",
              "    </tr>\n",
              "    <tr>\n",
              "      <th>367</th>\n",
              "      <td>27</td>\n",
              "      <td>38</td>\n",
              "      <td>4</td>\n",
              "    </tr>\n",
              "    <tr>\n",
              "      <th>368</th>\n",
              "      <td>27</td>\n",
              "      <td>42</td>\n",
              "      <td>3</td>\n",
              "    </tr>\n",
              "    <tr>\n",
              "      <th>369</th>\n",
              "      <td>27</td>\n",
              "      <td>54</td>\n",
              "      <td>4</td>\n",
              "    </tr>\n",
              "    <tr>\n",
              "      <th>370</th>\n",
              "      <td>27</td>\n",
              "      <td>59</td>\n",
              "      <td>0</td>\n",
              "    </tr>\n",
              "    <tr>\n",
              "      <th>371</th>\n",
              "      <td>27</td>\n",
              "      <td>69</td>\n",
              "      <td>4</td>\n",
              "    </tr>\n",
              "  </tbody>\n",
              "</table>\n",
              "</div>"
            ],
            "text/plain": [
              "     uid  asset_id  Ratings\n",
              "364   27         3        0\n",
              "365   27         7        5\n",
              "366   27        13        4\n",
              "367   27        38        4\n",
              "368   27        42        3\n",
              "369   27        54        4\n",
              "370   27        59        0\n",
              "371   27        69        4"
            ]
          },
          "metadata": {
            "tags": []
          },
          "execution_count": 273
        }
      ]
    },
    {
      "cell_type": "code",
      "metadata": {
        "id": "kAqDRMVCzQFJ"
      },
      "source": [
        "rating.to_csv(\"/content/drive/MyDrive/Collaborative_Recommendation/rating_with_zero_v1.csv\",index=False)"
      ],
      "execution_count": null,
      "outputs": []
    },
    {
      "cell_type": "code",
      "metadata": {
        "id": "_LldJE0gzpCr"
      },
      "source": [
        "rating.drop(rating[rating['Ratings']==0].index, inplace = True) "
      ],
      "execution_count": null,
      "outputs": []
    },
    {
      "cell_type": "code",
      "metadata": {
        "id": "t9VpVvWYzzlI"
      },
      "source": [
        "rating.reset_index(drop=True,inplace=True)"
      ],
      "execution_count": null,
      "outputs": []
    },
    {
      "cell_type": "code",
      "metadata": {
        "colab": {
          "base_uri": "https://localhost:8080/",
          "height": 424
        },
        "id": "KtI6CBNRz3gr",
        "outputId": "471f9ea9-7521-482e-c2a9-50a23b374681"
      },
      "source": [
        "rating"
      ],
      "execution_count": null,
      "outputs": [
        {
          "output_type": "execute_result",
          "data": {
            "text/html": [
              "<div>\n",
              "<style scoped>\n",
              "    .dataframe tbody tr th:only-of-type {\n",
              "        vertical-align: middle;\n",
              "    }\n",
              "\n",
              "    .dataframe tbody tr th {\n",
              "        vertical-align: top;\n",
              "    }\n",
              "\n",
              "    .dataframe thead th {\n",
              "        text-align: right;\n",
              "    }\n",
              "</style>\n",
              "<table border=\"1\" class=\"dataframe\">\n",
              "  <thead>\n",
              "    <tr style=\"text-align: right;\">\n",
              "      <th></th>\n",
              "      <th>uid</th>\n",
              "      <th>asset_id</th>\n",
              "      <th>Ratings</th>\n",
              "    </tr>\n",
              "  </thead>\n",
              "  <tbody>\n",
              "    <tr>\n",
              "      <th>0</th>\n",
              "      <td>1</td>\n",
              "      <td>12</td>\n",
              "      <td>3</td>\n",
              "    </tr>\n",
              "    <tr>\n",
              "      <th>1</th>\n",
              "      <td>1</td>\n",
              "      <td>15</td>\n",
              "      <td>4</td>\n",
              "    </tr>\n",
              "    <tr>\n",
              "      <th>2</th>\n",
              "      <td>1</td>\n",
              "      <td>17</td>\n",
              "      <td>4</td>\n",
              "    </tr>\n",
              "    <tr>\n",
              "      <th>3</th>\n",
              "      <td>1</td>\n",
              "      <td>18</td>\n",
              "      <td>5</td>\n",
              "    </tr>\n",
              "    <tr>\n",
              "      <th>4</th>\n",
              "      <td>1</td>\n",
              "      <td>20</td>\n",
              "      <td>4</td>\n",
              "    </tr>\n",
              "    <tr>\n",
              "      <th>...</th>\n",
              "      <td>...</td>\n",
              "      <td>...</td>\n",
              "      <td>...</td>\n",
              "    </tr>\n",
              "    <tr>\n",
              "      <th>699</th>\n",
              "      <td>100</td>\n",
              "      <td>53</td>\n",
              "      <td>5</td>\n",
              "    </tr>\n",
              "    <tr>\n",
              "      <th>700</th>\n",
              "      <td>100</td>\n",
              "      <td>63</td>\n",
              "      <td>3</td>\n",
              "    </tr>\n",
              "    <tr>\n",
              "      <th>701</th>\n",
              "      <td>100</td>\n",
              "      <td>67</td>\n",
              "      <td>5</td>\n",
              "    </tr>\n",
              "    <tr>\n",
              "      <th>702</th>\n",
              "      <td>100</td>\n",
              "      <td>78</td>\n",
              "      <td>2</td>\n",
              "    </tr>\n",
              "    <tr>\n",
              "      <th>703</th>\n",
              "      <td>100</td>\n",
              "      <td>81</td>\n",
              "      <td>5</td>\n",
              "    </tr>\n",
              "  </tbody>\n",
              "</table>\n",
              "<p>704 rows × 3 columns</p>\n",
              "</div>"
            ],
            "text/plain": [
              "     uid  asset_id  Ratings\n",
              "0      1        12        3\n",
              "1      1        15        4\n",
              "2      1        17        4\n",
              "3      1        18        5\n",
              "4      1        20        4\n",
              "..   ...       ...      ...\n",
              "699  100        53        5\n",
              "700  100        63        3\n",
              "701  100        67        5\n",
              "702  100        78        2\n",
              "703  100        81        5\n",
              "\n",
              "[704 rows x 3 columns]"
            ]
          },
          "metadata": {
            "tags": []
          },
          "execution_count": 277
        }
      ]
    },
    {
      "cell_type": "code",
      "metadata": {
        "id": "Eu1ZnXlp0Ckl"
      },
      "source": [
        "rating.to_csv(\"/content/drive/MyDrive/Collaborative_Recommendation/rating_without_zero_v1.csv\",index=False)"
      ],
      "execution_count": null,
      "outputs": []
    },
    {
      "cell_type": "code",
      "metadata": {
        "id": "X9nrE-PR0P8o",
        "colab": {
          "base_uri": "https://localhost:8080/",
          "height": 175
        },
        "outputId": "13fb2d41-72f6-4e90-f5fd-99f92537cec6"
      },
      "source": [
        "rating[rating.uid==77]"
      ],
      "execution_count": null,
      "outputs": [
        {
          "output_type": "execute_result",
          "data": {
            "text/html": [
              "<div>\n",
              "<style scoped>\n",
              "    .dataframe tbody tr th:only-of-type {\n",
              "        vertical-align: middle;\n",
              "    }\n",
              "\n",
              "    .dataframe tbody tr th {\n",
              "        vertical-align: top;\n",
              "    }\n",
              "\n",
              "    .dataframe thead th {\n",
              "        text-align: right;\n",
              "    }\n",
              "</style>\n",
              "<table border=\"1\" class=\"dataframe\">\n",
              "  <thead>\n",
              "    <tr style=\"text-align: right;\">\n",
              "      <th></th>\n",
              "      <th>uid</th>\n",
              "      <th>asset_id</th>\n",
              "      <th>Ratings</th>\n",
              "    </tr>\n",
              "  </thead>\n",
              "  <tbody>\n",
              "    <tr>\n",
              "      <th>454</th>\n",
              "      <td>77</td>\n",
              "      <td>11</td>\n",
              "      <td>4</td>\n",
              "    </tr>\n",
              "    <tr>\n",
              "      <th>455</th>\n",
              "      <td>77</td>\n",
              "      <td>29</td>\n",
              "      <td>4</td>\n",
              "    </tr>\n",
              "    <tr>\n",
              "      <th>456</th>\n",
              "      <td>77</td>\n",
              "      <td>45</td>\n",
              "      <td>4</td>\n",
              "    </tr>\n",
              "    <tr>\n",
              "      <th>457</th>\n",
              "      <td>77</td>\n",
              "      <td>85</td>\n",
              "      <td>4</td>\n",
              "    </tr>\n",
              "  </tbody>\n",
              "</table>\n",
              "</div>"
            ],
            "text/plain": [
              "     uid  asset_id  Ratings\n",
              "454   77        11        4\n",
              "455   77        29        4\n",
              "456   77        45        4\n",
              "457   77        85        4"
            ]
          },
          "metadata": {
            "tags": []
          },
          "execution_count": 279
        }
      ]
    },
    {
      "cell_type": "markdown",
      "metadata": {
        "id": "4CuiQWTE0pBO"
      },
      "source": [
        "## Reading The Ratings"
      ]
    },
    {
      "cell_type": "code",
      "metadata": {
        "id": "7L7jTkkL0wJ9"
      },
      "source": [
        "rating_with_zero = pd.read_csv(\"/content/drive/MyDrive/Collaborative_Recommendation/rating_with_zero_v1.csv\")\n",
        "rating_without_zero = pd.read_csv(\"/content/drive/MyDrive/Collaborative_Recommendation/rating_without_zero_v1.csv\")\n",
        "\n"
      ],
      "execution_count": null,
      "outputs": []
    },
    {
      "cell_type": "code",
      "metadata": {
        "colab": {
          "base_uri": "https://localhost:8080/"
        },
        "id": "lXubfJJ708Zc",
        "outputId": "ba56ff9a-d3c7-4c32-bb3c-edbd006007a6"
      },
      "source": [
        "rating_with_zero.Ratings.value_counts()"
      ],
      "execution_count": null,
      "outputs": [
        {
          "output_type": "execute_result",
          "data": {
            "text/plain": [
              "0    364\n",
              "3    193\n",
              "4    180\n",
              "5    165\n",
              "2    122\n",
              "1     44\n",
              "Name: Ratings, dtype: int64"
            ]
          },
          "metadata": {
            "tags": []
          },
          "execution_count": 281
        }
      ]
    },
    {
      "cell_type": "code",
      "metadata": {
        "colab": {
          "base_uri": "https://localhost:8080/"
        },
        "id": "wnyoSs351ANV",
        "outputId": "13c77fc5-6e67-47ed-c188-53c47871e113"
      },
      "source": [
        "rating_without_zero.Ratings.value_counts()"
      ],
      "execution_count": null,
      "outputs": [
        {
          "output_type": "execute_result",
          "data": {
            "text/plain": [
              "3    193\n",
              "4    180\n",
              "5    165\n",
              "2    122\n",
              "1     44\n",
              "Name: Ratings, dtype: int64"
            ]
          },
          "metadata": {
            "tags": []
          },
          "execution_count": 282
        }
      ]
    },
    {
      "cell_type": "code",
      "metadata": {
        "colab": {
          "base_uri": "https://localhost:8080/"
        },
        "id": "rYMkVPBh1DEf",
        "outputId": "19b23741-f283-4850-e31f-11fa74038e05"
      },
      "source": [
        "rating_without_zero.uid.unique()"
      ],
      "execution_count": null,
      "outputs": [
        {
          "output_type": "execute_result",
          "data": {
            "text/plain": [
              "array([  1,   2,   3,   4,   5,   6,   7,   8,   9,  10,  11,  12,  13,\n",
              "        14,  15,  16,  17,  18,  19,  20,  21,  22,  23,  24,  25,  26,\n",
              "        27,  28,  29,  30,  31,  32,  33,  34,  35,  36,  37,  38,  39,\n",
              "        40,  41,  42,  43,  44,  45,  46,  47,  48,  49,  50,  51,  52,\n",
              "        53,  54,  55,  56,  57,  58,  59,  60,  61,  62,  63,  64,  65,\n",
              "        66,  67,  68,  69,  70,  71,  72,  73,  74,  75,  76,  77,  78,\n",
              "        79,  80,  81,  82,  83,  84,  85,  86,  87,  88,  89,  90,  91,\n",
              "        92,  93,  94,  95,  96,  97,  98,  99, 100])"
            ]
          },
          "metadata": {
            "tags": []
          },
          "execution_count": 283
        }
      ]
    },
    {
      "cell_type": "code",
      "metadata": {
        "id": "3zFSDS963Fc7"
      },
      "source": [
        ""
      ],
      "execution_count": null,
      "outputs": []
    },
    {
      "cell_type": "code",
      "metadata": {
        "colab": {
          "base_uri": "https://localhost:8080/"
        },
        "id": "K1w03D_02Aps",
        "outputId": "ab4df0f3-64e2-4687-eaff-22b1621f7c69"
      },
      "source": [
        "print(sorted(list(rating_without_zero.uid.unique())))"
      ],
      "execution_count": null,
      "outputs": [
        {
          "output_type": "stream",
          "text": [
            "[1, 2, 3, 4, 5, 6, 7, 8, 9, 10, 11, 12, 13, 14, 15, 16, 17, 18, 19, 20, 21, 22, 23, 24, 25, 26, 27, 28, 29, 30, 31, 32, 33, 34, 35, 36, 37, 38, 39, 40, 41, 42, 43, 44, 45, 46, 47, 48, 49, 50, 51, 52, 53, 54, 55, 56, 57, 58, 59, 60, 61, 62, 63, 64, 65, 66, 67, 68, 69, 70, 71, 72, 73, 74, 75, 76, 77, 78, 79, 80, 81, 82, 83, 84, 85, 86, 87, 88, 89, 90, 91, 92, 93, 94, 95, 96, 97, 98, 99, 100]\n"
          ],
          "name": "stdout"
        }
      ]
    },
    {
      "cell_type": "code",
      "metadata": {
        "colab": {
          "base_uri": "https://localhost:8080/"
        },
        "id": "hsPGJhC12OUm",
        "outputId": "05c253c6-7b5d-43cc-c5cf-c17eca396581"
      },
      "source": [
        "print(sorted(list(rating_without_zero.asset_id.unique())))"
      ],
      "execution_count": null,
      "outputs": [
        {
          "output_type": "stream",
          "text": [
            "[1, 2, 3, 4, 5, 6, 7, 8, 9, 10, 11, 12, 13, 14, 15, 16, 17, 18, 19, 20, 21, 22, 23, 24, 25, 26, 27, 28, 29, 30, 31, 32, 33, 34, 35, 36, 37, 38, 39, 40, 41, 42, 43, 44, 45, 46, 47, 48, 49, 50, 51, 52, 53, 54, 55, 56, 57, 59, 60, 61, 62, 63, 65, 66, 67, 68, 69, 70, 71, 72, 73, 74, 75, 76, 77, 78, 79, 80, 81, 83, 84, 85]\n"
          ],
          "name": "stdout"
        }
      ]
    },
    {
      "cell_type": "code",
      "metadata": {
        "colab": {
          "base_uri": "https://localhost:8080/"
        },
        "id": "lQjaptc14v_v",
        "outputId": "cb4abd93-51bf-492a-c7b4-e151e5a66efc"
      },
      "source": [
        "print(len(sorted(list(rating_without_zero.asset_id.unique()))))"
      ],
      "execution_count": null,
      "outputs": [
        {
          "output_type": "stream",
          "text": [
            "82\n"
          ],
          "name": "stdout"
        }
      ]
    },
    {
      "cell_type": "code",
      "metadata": {
        "colab": {
          "base_uri": "https://localhost:8080/"
        },
        "id": "S_Eg5mVT9e61",
        "outputId": "fc76e658-d045-4357-b5b5-579e4a143c59"
      },
      "source": [
        "print(sorted(list(df_reco.asset_id.unique())))"
      ],
      "execution_count": null,
      "outputs": [
        {
          "output_type": "stream",
          "text": [
            "[1, 2, 3, 4, 5, 6, 7, 8, 9, 10, 11, 12, 13, 14, 15, 16, 17, 18, 19, 20, 21, 22, 23, 24, 25, 26, 27, 28, 29, 30, 31, 32, 33, 34, 35, 36, 37, 38, 39, 40, 41, 42, 43, 44, 45, 46, 47, 48, 49, 50, 51, 52, 53, 54, 55, 56, 57, 59, 60, 61, 62, 63, 65, 66, 67, 68, 69, 70, 71, 72, 73, 74, 75, 76, 77, 78, 79, 80, 81, 83, 84, 85]\n"
          ],
          "name": "stdout"
        }
      ]
    },
    {
      "cell_type": "code",
      "metadata": {
        "colab": {
          "base_uri": "https://localhost:8080/"
        },
        "id": "LK9P0rHx5DeH",
        "outputId": "855ca8f0-3b77-46a5-f0e6-c91be9bd9ec2"
      },
      "source": [
        "rating_without_zero.uid.value_counts()"
      ],
      "execution_count": null,
      "outputs": [
        {
          "output_type": "execute_result",
          "data": {
            "text/plain": [
              "91    16\n",
              "88    16\n",
              "98    15\n",
              "7     15\n",
              "94    15\n",
              "      ..\n",
              "46     2\n",
              "59     2\n",
              "66     2\n",
              "83     2\n",
              "52     2\n",
              "Name: uid, Length: 100, dtype: int64"
            ]
          },
          "metadata": {
            "tags": []
          },
          "execution_count": 290
        }
      ]
    },
    {
      "cell_type": "code",
      "metadata": {
        "colab": {
          "base_uri": "https://localhost:8080/"
        },
        "id": "6Dtfn2Zv-U82",
        "outputId": "c2875b00-cf4e-4fd6-e49f-90146df8ab55"
      },
      "source": [
        "rating_without_zero.uid.value_counts()[-10:]"
      ],
      "execution_count": null,
      "outputs": [
        {
          "output_type": "execute_result",
          "data": {
            "text/plain": [
              "25    3\n",
              "49    3\n",
              "41    3\n",
              "55    3\n",
              "54    3\n",
              "46    2\n",
              "59    2\n",
              "66    2\n",
              "83    2\n",
              "52    2\n",
              "Name: uid, dtype: int64"
            ]
          },
          "metadata": {
            "tags": []
          },
          "execution_count": 289
        }
      ]
    },
    {
      "cell_type": "code",
      "metadata": {
        "id": "pAxzPABmBB0c"
      },
      "source": [
        ""
      ],
      "execution_count": null,
      "outputs": []
    }
  ]
}