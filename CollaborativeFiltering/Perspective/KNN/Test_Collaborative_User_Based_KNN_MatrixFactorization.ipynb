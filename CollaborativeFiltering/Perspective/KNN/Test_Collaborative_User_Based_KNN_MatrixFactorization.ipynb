{
  "nbformat": 4,
  "nbformat_minor": 0,
  "metadata": {
    "colab": {
      "name": "Test_Collaborative_User_Based_KNN_MatrixFactorization.ipynb",
      "provenance": [],
      "collapsed_sections": [],
      "toc_visible": true,
      "mount_file_id": "1mIS8TvcxUsJ4G5DZrHXmxPSogpHS-DTV",
      "authorship_tag": "ABX9TyMSUXFfycpJdjX8N1hQOoyp",
      "include_colab_link": true
    },
    "kernelspec": {
      "name": "python3",
      "display_name": "Python 3"
    }
  },
  "cells": [
    {
      "cell_type": "markdown",
      "metadata": {
        "id": "view-in-github",
        "colab_type": "text"
      },
      "source": [
        "<a href=\"https://colab.research.google.com/github/shubhamksingh1/RecommendationEngine/blob/main/CollaborativeFiltering/Perspective/KNN/Test_Collaborative_User_Based_KNN_MatrixFactorization.ipynb\" target=\"_parent\"><img src=\"https://colab.research.google.com/assets/colab-badge.svg\" alt=\"Open In Colab\"/></a>"
      ]
    },
    {
      "cell_type": "markdown",
      "metadata": {
        "id": "7jUdHknJddNY"
      },
      "source": [
        "# Import Libraries"
      ]
    },
    {
      "cell_type": "code",
      "metadata": {
        "id": "QL4iLk9MdT_d"
      },
      "source": [
        "import pandas as pd\n",
        "import numpy as np\n",
        "import pickle"
      ],
      "execution_count": null,
      "outputs": []
    },
    {
      "cell_type": "markdown",
      "metadata": {
        "id": "TlBCu4jrdlhC"
      },
      "source": [
        "# Reading Files"
      ]
    },
    {
      "cell_type": "code",
      "metadata": {
        "id": "1frxFUPpdk7W"
      },
      "source": [
        "df = pd.read_pickle(\"/content/drive/MyDrive/Collaborative_Recommendation/MatrixFactorization/rating_without_zero_v1.pkl\")\n",
        "\n",
        "model_knn = pickle.load(open(\"/content/drive/MyDrive/Collaborative_Recommendation/MatrixFactorization/model_knn.pkl\", \"rb\" ) )\n",
        "\n",
        "df_matrix = pickle.load(open(\"/content/drive/MyDrive/Collaborative_Recommendation/MatrixFactorization/uid_asset_mat.pkl\", \"rb\" ) )\n",
        "df2 = pd.read_pickle(\"/content/drive/MyDrive/Collaborative_Recommendation/MatrixFactorization/user_mean_rating.pkl\")\n",
        "\n",
        "inddict = pickle.load(open(\"/content/drive/MyDrive/Collaborative_Recommendation/MatrixFactorization/inddict.pkl\", \"rb\" ) )\n",
        "\n",
        "ds = pd.read_pickle(\"/content/drive/MyDrive/Collaborative_Recommendation/MatrixFactorization/recommendation_v4.pkl\")"
      ],
      "execution_count": null,
      "outputs": []
    },
    {
      "cell_type": "markdown",
      "metadata": {
        "id": "cNJ-NB7neq3J"
      },
      "source": [
        "# Function Definition"
      ]
    },
    {
      "cell_type": "code",
      "metadata": {
        "id": "pyKyx2xheoii"
      },
      "source": [
        "def find_similar_users(index):\n",
        "    distances, indices = model_knn.kneighbors(df_matrix.iloc[index, :].values.reshape(1, -1), n_neighbors = 21)\n",
        "    similarities = 1 - distances.flatten() #Converting to 1-Dimention and increasing score for nearer users\n",
        "    \n",
        "    return similarities, indices"
      ],
      "execution_count": null,
      "outputs": []
    },
    {
      "cell_type": "code",
      "metadata": {
        "id": "x-zW3Go2ewix"
      },
      "source": [
        "def predict_rating(user_id, asset_id):\n",
        "    unique_users = list(set(df['uid'].values))\n",
        "    user_index = unique_users.index(user_id)\n",
        "    unique_assets = list(set(df['asset_id'].values))\n",
        "    asset_index = unique_assets.index(asset_id)\n",
        "    similarities, indices = find_similar_users(user_index)\n",
        "    mean_rating = df2['Mean_Rating'][user_index]\n",
        "    #mean_rating = df_matrix.iloc[user_index,:].mean()\n",
        "    sum_wt = np.sum(similarities) - 1\n",
        "    weighted_sum = 0\n",
        "    prediction = 0\n",
        "    for i in range(0, len(indices.flatten())):\n",
        "        if indices.flatten()[i] == user_index:\n",
        "            continue;\n",
        "        elif (df_matrix.iloc[indices.flatten()[i],asset_index]) != 0:\n",
        "            j = indices.flatten()[i] \n",
        "            ratings_diff = df_matrix.iloc[j, asset_index] - df2['Mean_Rating'][j]#np.mean(df_matrix.iloc[indices.flatten()[i],:])\n",
        "            product = ratings_diff * (similarities[i])\n",
        "            weighted_sum = weighted_sum + product\n",
        "    prediction = mean_rating + (weighted_sum/sum_wt)\n",
        "    \n",
        "    return prediction"
      ],
      "execution_count": null,
      "outputs": []
    },
    {
      "cell_type": "code",
      "metadata": {
        "id": "Z9tXgoSCey92"
      },
      "source": [
        "def get_recommendations(user_id, n):\n",
        "    n = n + 1\n",
        "    assets = []\n",
        "    ratings = []\n",
        "    unique_assets = list(set(df['asset_id'].values))\n",
        "    asset_rated_by_user = df.loc[df['uid'] == user_id, 'asset_id'] # Assets of which user 'user_id' already rated\n",
        "    if len(asset_rated_by_user) >= 3:\n",
        "        assets_to_pred = np.setdiff1d(unique_assets, asset_rated_by_user) # Remove assets that 'user_id' has rated from list of all assets\n",
        "        for i in assets_to_pred:\n",
        "            asset_rating = predict_rating(user_id, i) \n",
        "            ratings.append(asset_rating)\n",
        "        pred_ratings = np.array(ratings)\n",
        "        indices = pred_ratings.argsort()[:-n:-1]\n",
        "        for i in indices:\n",
        "            assets.append(assets_to_pred[i])\n",
        "        iids = [inddict[asset_id] for asset_id in assets]\n",
        "        ds2 = ds.loc[:, ['asset_id', 'asset_title', 'asset_description', 'Domain']]\n",
        "        return ds2.iloc[iids]\n",
        "    else:\n",
        "        return 'User has rated less than 3 articles'\n",
        "    "
      ],
      "execution_count": null,
      "outputs": []
    },
    {
      "cell_type": "markdown",
      "metadata": {
        "id": "rPttixo_e4LH"
      },
      "source": [
        "# Get Recommendation"
      ]
    },
    {
      "cell_type": "markdown",
      "metadata": {
        "id": "Dawvk7nZfMFp"
      },
      "source": [
        "Users      Domain\n",
        "*   1 - 12 :CX\n",
        "*   13 - 24 : Agile\n",
        "*   25 - 36 : AI\n",
        "*   37 - 48 : IOT\n",
        "*   49 - 60 : BigData\n",
        "*   61 - 72 : Cloud\n",
        "*   73 - 84 : HR\n",
        "*   85 - 100 : Industry"
      ]
    },
    {
      "cell_type": "code",
      "metadata": {
        "colab": {
          "base_uri": "https://localhost:8080/"
        },
        "id": "RhSwZfaFe1_q",
        "outputId": "161fc9a2-f9c1-48a7-cb0c-ea03f47a2bba"
      },
      "source": [
        "ds.Domain.value_counts()"
      ],
      "execution_count": null,
      "outputs": [
        {
          "output_type": "execute_result",
          "data": {
            "text/plain": [
              "Industry    21\n",
              "CX          19\n",
              "Agile       10\n",
              "AI           8\n",
              "Cloud        7\n",
              "IOT          6\n",
              "BigData      6\n",
              "HR           5\n",
              "Name: Domain, dtype: int64"
            ]
          },
          "metadata": {
            "tags": []
          },
          "execution_count": 6
        }
      ]
    },
    {
      "cell_type": "code",
      "metadata": {
        "colab": {
          "base_uri": "https://localhost:8080/",
          "height": 206
        },
        "id": "pl8L-EgnfO84",
        "outputId": "3ff55c6e-d512-4437-dfa9-0d5867b0cf9b"
      },
      "source": [
        "get_recommendations(1, 5)"
      ],
      "execution_count": null,
      "outputs": [
        {
          "output_type": "execute_result",
          "data": {
            "text/html": [
              "<div>\n",
              "<style scoped>\n",
              "    .dataframe tbody tr th:only-of-type {\n",
              "        vertical-align: middle;\n",
              "    }\n",
              "\n",
              "    .dataframe tbody tr th {\n",
              "        vertical-align: top;\n",
              "    }\n",
              "\n",
              "    .dataframe thead th {\n",
              "        text-align: right;\n",
              "    }\n",
              "</style>\n",
              "<table border=\"1\" class=\"dataframe\">\n",
              "  <thead>\n",
              "    <tr style=\"text-align: right;\">\n",
              "      <th></th>\n",
              "      <th>asset_id</th>\n",
              "      <th>asset_title</th>\n",
              "      <th>asset_description</th>\n",
              "      <th>Domain</th>\n",
              "    </tr>\n",
              "  </thead>\n",
              "  <tbody>\n",
              "    <tr>\n",
              "      <th>0</th>\n",
              "      <td>1</td>\n",
              "      <td>the ascent of the smarter faster lighter enter...</td>\n",
              "      <td>peter drucker the legendary management scholar...</td>\n",
              "      <td>CX</td>\n",
              "    </tr>\n",
              "    <tr>\n",
              "      <th>13</th>\n",
              "      <td>14</td>\n",
              "      <td>when cx should begin with tweaks not disruption</td>\n",
              "      <td>today s most over used corporate cliché is dis...</td>\n",
              "      <td>CX</td>\n",
              "    </tr>\n",
              "    <tr>\n",
              "      <th>71</th>\n",
              "      <td>74</td>\n",
              "      <td>proactive protection how companies can secure ...</td>\n",
              "      <td>today digital customer experience transformati...</td>\n",
              "      <td>CX</td>\n",
              "    </tr>\n",
              "    <tr>\n",
              "      <th>40</th>\n",
              "      <td>41</td>\n",
              "      <td>the magic that happens when manufacturers digi...</td>\n",
              "      <td>a growing number of manufacturers are digitall...</td>\n",
              "      <td>IOT</td>\n",
              "    </tr>\n",
              "    <tr>\n",
              "      <th>39</th>\n",
              "      <td>40</td>\n",
              "      <td>now you can simulate nearly anything</td>\n",
              "      <td>organizations have long performed what if simu...</td>\n",
              "      <td>Cloud</td>\n",
              "    </tr>\n",
              "  </tbody>\n",
              "</table>\n",
              "</div>"
            ],
            "text/plain": [
              "    asset_id  ... Domain\n",
              "0          1  ...     CX\n",
              "13        14  ...     CX\n",
              "71        74  ...     CX\n",
              "40        41  ...    IOT\n",
              "39        40  ...  Cloud\n",
              "\n",
              "[5 rows x 4 columns]"
            ]
          },
          "metadata": {
            "tags": []
          },
          "execution_count": 7
        }
      ]
    },
    {
      "cell_type": "code",
      "metadata": {
        "colab": {
          "base_uri": "https://localhost:8080/",
          "height": 206
        },
        "id": "E6rEkfy4fawR",
        "outputId": "acf541ee-fd93-4780-dda5-8ef58aebd767"
      },
      "source": [
        "get_recommendations(14, 5)"
      ],
      "execution_count": null,
      "outputs": [
        {
          "output_type": "execute_result",
          "data": {
            "text/html": [
              "<div>\n",
              "<style scoped>\n",
              "    .dataframe tbody tr th:only-of-type {\n",
              "        vertical-align: middle;\n",
              "    }\n",
              "\n",
              "    .dataframe tbody tr th {\n",
              "        vertical-align: top;\n",
              "    }\n",
              "\n",
              "    .dataframe thead th {\n",
              "        text-align: right;\n",
              "    }\n",
              "</style>\n",
              "<table border=\"1\" class=\"dataframe\">\n",
              "  <thead>\n",
              "    <tr style=\"text-align: right;\">\n",
              "      <th></th>\n",
              "      <th>asset_id</th>\n",
              "      <th>asset_title</th>\n",
              "      <th>asset_description</th>\n",
              "      <th>Domain</th>\n",
              "    </tr>\n",
              "  </thead>\n",
              "  <tbody>\n",
              "    <tr>\n",
              "      <th>62</th>\n",
              "      <td>65</td>\n",
              "      <td>an agile manifesto for the board</td>\n",
              "      <td>it s hard to avoid the term agile these days t...</td>\n",
              "      <td>Agile</td>\n",
              "    </tr>\n",
              "    <tr>\n",
              "      <th>1</th>\n",
              "      <td>2</td>\n",
              "      <td>agile s day has truly arrived</td>\n",
              "      <td>the software development community has been us...</td>\n",
              "      <td>Agile</td>\n",
              "    </tr>\n",
              "    <tr>\n",
              "      <th>81</th>\n",
              "      <td>85</td>\n",
              "      <td>why the emotional wellbeing of your employees ...</td>\n",
              "      <td>abstract as nations around the world deal with...</td>\n",
              "      <td>HR</td>\n",
              "    </tr>\n",
              "    <tr>\n",
              "      <th>25</th>\n",
              "      <td>26</td>\n",
              "      <td>training for the m a marathon</td>\n",
              "      <td>a few years ago two airlines announced a merge...</td>\n",
              "      <td>Industry</td>\n",
              "    </tr>\n",
              "    <tr>\n",
              "      <th>19</th>\n",
              "      <td>20</td>\n",
              "      <td>reimagining the contact center with digital te...</td>\n",
              "      <td>it costs billion per year to field the billion...</td>\n",
              "      <td>CX</td>\n",
              "    </tr>\n",
              "  </tbody>\n",
              "</table>\n",
              "</div>"
            ],
            "text/plain": [
              "    asset_id  ...    Domain\n",
              "62        65  ...     Agile\n",
              "1          2  ...     Agile\n",
              "81        85  ...        HR\n",
              "25        26  ...  Industry\n",
              "19        20  ...        CX\n",
              "\n",
              "[5 rows x 4 columns]"
            ]
          },
          "metadata": {
            "tags": []
          },
          "execution_count": 8
        }
      ]
    },
    {
      "cell_type": "code",
      "metadata": {
        "colab": {
          "base_uri": "https://localhost:8080/",
          "height": 206
        },
        "id": "pFHyRNKCfkC5",
        "outputId": "007319d3-7f4f-4acf-9c00-6cfe6e45fdda"
      },
      "source": [
        "get_recommendations(28, 5)"
      ],
      "execution_count": null,
      "outputs": [
        {
          "output_type": "execute_result",
          "data": {
            "text/html": [
              "<div>\n",
              "<style scoped>\n",
              "    .dataframe tbody tr th:only-of-type {\n",
              "        vertical-align: middle;\n",
              "    }\n",
              "\n",
              "    .dataframe tbody tr th {\n",
              "        vertical-align: top;\n",
              "    }\n",
              "\n",
              "    .dataframe thead th {\n",
              "        text-align: right;\n",
              "    }\n",
              "</style>\n",
              "<table border=\"1\" class=\"dataframe\">\n",
              "  <thead>\n",
              "    <tr style=\"text-align: right;\">\n",
              "      <th></th>\n",
              "      <th>asset_id</th>\n",
              "      <th>asset_title</th>\n",
              "      <th>asset_description</th>\n",
              "      <th>Domain</th>\n",
              "    </tr>\n",
              "  </thead>\n",
              "  <tbody>\n",
              "    <tr>\n",
              "      <th>57</th>\n",
              "      <td>59</td>\n",
              "      <td>taking a machine first approach to digital tra...</td>\n",
              "      <td>many companies believe they can compete in the...</td>\n",
              "      <td>AI</td>\n",
              "    </tr>\n",
              "    <tr>\n",
              "      <th>66</th>\n",
              "      <td>69</td>\n",
              "      <td>how intelligent automation is rewriting the ru...</td>\n",
              "      <td>customer support has become a key differentiat...</td>\n",
              "      <td>AI</td>\n",
              "    </tr>\n",
              "    <tr>\n",
              "      <th>81</th>\n",
              "      <td>85</td>\n",
              "      <td>why the emotional wellbeing of your employees ...</td>\n",
              "      <td>abstract as nations around the world deal with...</td>\n",
              "      <td>HR</td>\n",
              "    </tr>\n",
              "    <tr>\n",
              "      <th>21</th>\n",
              "      <td>22</td>\n",
              "      <td>why your cx must soon plug and play into a dig...</td>\n",
              "      <td>digital ecosystems increasingly are coalescing...</td>\n",
              "      <td>CX</td>\n",
              "    </tr>\n",
              "    <tr>\n",
              "      <th>23</th>\n",
              "      <td>24</td>\n",
              "      <td>the sure but winding road to the cloud</td>\n",
              "      <td>even for companies that can afford billions of...</td>\n",
              "      <td>Cloud</td>\n",
              "    </tr>\n",
              "  </tbody>\n",
              "</table>\n",
              "</div>"
            ],
            "text/plain": [
              "    asset_id  ... Domain\n",
              "57        59  ...     AI\n",
              "66        69  ...     AI\n",
              "81        85  ...     HR\n",
              "21        22  ...     CX\n",
              "23        24  ...  Cloud\n",
              "\n",
              "[5 rows x 4 columns]"
            ]
          },
          "metadata": {
            "tags": []
          },
          "execution_count": 9
        }
      ]
    },
    {
      "cell_type": "code",
      "metadata": {
        "colab": {
          "base_uri": "https://localhost:8080/",
          "height": 206
        },
        "id": "hD9LKxZwfmZI",
        "outputId": "98a0e514-cdc3-4505-8051-0781385e2ed8"
      },
      "source": [
        "get_recommendations(47,5)"
      ],
      "execution_count": null,
      "outputs": [
        {
          "output_type": "execute_result",
          "data": {
            "text/html": [
              "<div>\n",
              "<style scoped>\n",
              "    .dataframe tbody tr th:only-of-type {\n",
              "        vertical-align: middle;\n",
              "    }\n",
              "\n",
              "    .dataframe tbody tr th {\n",
              "        vertical-align: top;\n",
              "    }\n",
              "\n",
              "    .dataframe thead th {\n",
              "        text-align: right;\n",
              "    }\n",
              "</style>\n",
              "<table border=\"1\" class=\"dataframe\">\n",
              "  <thead>\n",
              "    <tr style=\"text-align: right;\">\n",
              "      <th></th>\n",
              "      <th>asset_id</th>\n",
              "      <th>asset_title</th>\n",
              "      <th>asset_description</th>\n",
              "      <th>Domain</th>\n",
              "    </tr>\n",
              "  </thead>\n",
              "  <tbody>\n",
              "    <tr>\n",
              "      <th>3</th>\n",
              "      <td>4</td>\n",
              "      <td>using iot data to understand how your products...</td>\n",
              "      <td>we have all seen some eye bulging numbers in r...</td>\n",
              "      <td>IOT</td>\n",
              "    </tr>\n",
              "    <tr>\n",
              "      <th>81</th>\n",
              "      <td>85</td>\n",
              "      <td>why the emotional wellbeing of your employees ...</td>\n",
              "      <td>abstract as nations around the world deal with...</td>\n",
              "      <td>HR</td>\n",
              "    </tr>\n",
              "    <tr>\n",
              "      <th>29</th>\n",
              "      <td>30</td>\n",
              "      <td>embracing agility means agility by the busines...</td>\n",
              "      <td>the push for agility in software development s...</td>\n",
              "      <td>Agile</td>\n",
              "    </tr>\n",
              "    <tr>\n",
              "      <th>22</th>\n",
              "      <td>23</td>\n",
              "      <td>what comes after cxm helping customers help ot...</td>\n",
              "      <td>thirty years ago large global companies began ...</td>\n",
              "      <td>CX</td>\n",
              "    </tr>\n",
              "    <tr>\n",
              "      <th>23</th>\n",
              "      <td>24</td>\n",
              "      <td>the sure but winding road to the cloud</td>\n",
              "      <td>even for companies that can afford billions of...</td>\n",
              "      <td>Cloud</td>\n",
              "    </tr>\n",
              "  </tbody>\n",
              "</table>\n",
              "</div>"
            ],
            "text/plain": [
              "    asset_id  ... Domain\n",
              "3          4  ...    IOT\n",
              "81        85  ...     HR\n",
              "29        30  ...  Agile\n",
              "22        23  ...     CX\n",
              "23        24  ...  Cloud\n",
              "\n",
              "[5 rows x 4 columns]"
            ]
          },
          "metadata": {
            "tags": []
          },
          "execution_count": 10
        }
      ]
    },
    {
      "cell_type": "code",
      "metadata": {
        "colab": {
          "base_uri": "https://localhost:8080/",
          "height": 206
        },
        "id": "P2pQrODsfon7",
        "outputId": "0005a9b1-fddb-40e1-edae-d95eda1951c2"
      },
      "source": [
        "get_recommendations(55,5)"
      ],
      "execution_count": null,
      "outputs": [
        {
          "output_type": "execute_result",
          "data": {
            "text/html": [
              "<div>\n",
              "<style scoped>\n",
              "    .dataframe tbody tr th:only-of-type {\n",
              "        vertical-align: middle;\n",
              "    }\n",
              "\n",
              "    .dataframe tbody tr th {\n",
              "        vertical-align: top;\n",
              "    }\n",
              "\n",
              "    .dataframe thead th {\n",
              "        text-align: right;\n",
              "    }\n",
              "</style>\n",
              "<table border=\"1\" class=\"dataframe\">\n",
              "  <thead>\n",
              "    <tr style=\"text-align: right;\">\n",
              "      <th></th>\n",
              "      <th>asset_id</th>\n",
              "      <th>asset_title</th>\n",
              "      <th>asset_description</th>\n",
              "      <th>Domain</th>\n",
              "    </tr>\n",
              "  </thead>\n",
              "  <tbody>\n",
              "    <tr>\n",
              "      <th>54</th>\n",
              "      <td>55</td>\n",
              "      <td>digital data s greatest opportunities</td>\n",
              "      <td>every company today must digitally transform i...</td>\n",
              "      <td>BigData</td>\n",
              "    </tr>\n",
              "    <tr>\n",
              "      <th>81</th>\n",
              "      <td>85</td>\n",
              "      <td>why the emotional wellbeing of your employees ...</td>\n",
              "      <td>abstract as nations around the world deal with...</td>\n",
              "      <td>HR</td>\n",
              "    </tr>\n",
              "    <tr>\n",
              "      <th>29</th>\n",
              "      <td>30</td>\n",
              "      <td>embracing agility means agility by the busines...</td>\n",
              "      <td>the push for agility in software development s...</td>\n",
              "      <td>Agile</td>\n",
              "    </tr>\n",
              "    <tr>\n",
              "      <th>23</th>\n",
              "      <td>24</td>\n",
              "      <td>the sure but winding road to the cloud</td>\n",
              "      <td>even for companies that can afford billions of...</td>\n",
              "      <td>Cloud</td>\n",
              "    </tr>\n",
              "    <tr>\n",
              "      <th>24</th>\n",
              "      <td>25</td>\n",
              "      <td>how the ceo can propel a cx initiative</td>\n",
              "      <td>whether it s a series of tweaks or a wholesale...</td>\n",
              "      <td>CX</td>\n",
              "    </tr>\n",
              "  </tbody>\n",
              "</table>\n",
              "</div>"
            ],
            "text/plain": [
              "    asset_id  ...   Domain\n",
              "54        55  ...  BigData\n",
              "81        85  ...       HR\n",
              "29        30  ...    Agile\n",
              "23        24  ...    Cloud\n",
              "24        25  ...       CX\n",
              "\n",
              "[5 rows x 4 columns]"
            ]
          },
          "metadata": {
            "tags": []
          },
          "execution_count": 11
        }
      ]
    },
    {
      "cell_type": "code",
      "metadata": {
        "colab": {
          "base_uri": "https://localhost:8080/",
          "height": 206
        },
        "id": "buawedhqfq_Q",
        "outputId": "283c13a2-ae7a-40d8-9c34-8a629ab51c8b"
      },
      "source": [
        "get_recommendations(63,5)"
      ],
      "execution_count": null,
      "outputs": [
        {
          "output_type": "execute_result",
          "data": {
            "text/html": [
              "<div>\n",
              "<style scoped>\n",
              "    .dataframe tbody tr th:only-of-type {\n",
              "        vertical-align: middle;\n",
              "    }\n",
              "\n",
              "    .dataframe tbody tr th {\n",
              "        vertical-align: top;\n",
              "    }\n",
              "\n",
              "    .dataframe thead th {\n",
              "        text-align: right;\n",
              "    }\n",
              "</style>\n",
              "<table border=\"1\" class=\"dataframe\">\n",
              "  <thead>\n",
              "    <tr style=\"text-align: right;\">\n",
              "      <th></th>\n",
              "      <th>asset_id</th>\n",
              "      <th>asset_title</th>\n",
              "      <th>asset_description</th>\n",
              "      <th>Domain</th>\n",
              "    </tr>\n",
              "  </thead>\n",
              "  <tbody>\n",
              "    <tr>\n",
              "      <th>23</th>\n",
              "      <td>24</td>\n",
              "      <td>the sure but winding road to the cloud</td>\n",
              "      <td>even for companies that can afford billions of...</td>\n",
              "      <td>Cloud</td>\n",
              "    </tr>\n",
              "    <tr>\n",
              "      <th>81</th>\n",
              "      <td>85</td>\n",
              "      <td>why the emotional wellbeing of your employees ...</td>\n",
              "      <td>abstract as nations around the world deal with...</td>\n",
              "      <td>HR</td>\n",
              "    </tr>\n",
              "    <tr>\n",
              "      <th>29</th>\n",
              "      <td>30</td>\n",
              "      <td>embracing agility means agility by the busines...</td>\n",
              "      <td>the push for agility in software development s...</td>\n",
              "      <td>Agile</td>\n",
              "    </tr>\n",
              "    <tr>\n",
              "      <th>21</th>\n",
              "      <td>22</td>\n",
              "      <td>why your cx must soon plug and play into a dig...</td>\n",
              "      <td>digital ecosystems increasingly are coalescing...</td>\n",
              "      <td>CX</td>\n",
              "    </tr>\n",
              "    <tr>\n",
              "      <th>22</th>\n",
              "      <td>23</td>\n",
              "      <td>what comes after cxm helping customers help ot...</td>\n",
              "      <td>thirty years ago large global companies began ...</td>\n",
              "      <td>CX</td>\n",
              "    </tr>\n",
              "  </tbody>\n",
              "</table>\n",
              "</div>"
            ],
            "text/plain": [
              "    asset_id  ... Domain\n",
              "23        24  ...  Cloud\n",
              "81        85  ...     HR\n",
              "29        30  ...  Agile\n",
              "21        22  ...     CX\n",
              "22        23  ...     CX\n",
              "\n",
              "[5 rows x 4 columns]"
            ]
          },
          "metadata": {
            "tags": []
          },
          "execution_count": 12
        }
      ]
    },
    {
      "cell_type": "code",
      "metadata": {
        "colab": {
          "base_uri": "https://localhost:8080/",
          "height": 206
        },
        "id": "qJS_g7fFftSv",
        "outputId": "3ac9d05e-6360-40f4-cd83-8db8b2644185"
      },
      "source": [
        "get_recommendations(74,5)"
      ],
      "execution_count": null,
      "outputs": [
        {
          "output_type": "execute_result",
          "data": {
            "text/html": [
              "<div>\n",
              "<style scoped>\n",
              "    .dataframe tbody tr th:only-of-type {\n",
              "        vertical-align: middle;\n",
              "    }\n",
              "\n",
              "    .dataframe tbody tr th {\n",
              "        vertical-align: top;\n",
              "    }\n",
              "\n",
              "    .dataframe thead th {\n",
              "        text-align: right;\n",
              "    }\n",
              "</style>\n",
              "<table border=\"1\" class=\"dataframe\">\n",
              "  <thead>\n",
              "    <tr style=\"text-align: right;\">\n",
              "      <th></th>\n",
              "      <th>asset_id</th>\n",
              "      <th>asset_title</th>\n",
              "      <th>asset_description</th>\n",
              "      <th>Domain</th>\n",
              "    </tr>\n",
              "  </thead>\n",
              "  <tbody>\n",
              "    <tr>\n",
              "      <th>81</th>\n",
              "      <td>85</td>\n",
              "      <td>why the emotional wellbeing of your employees ...</td>\n",
              "      <td>abstract as nations around the world deal with...</td>\n",
              "      <td>HR</td>\n",
              "    </tr>\n",
              "    <tr>\n",
              "      <th>30</th>\n",
              "      <td>31</td>\n",
              "      <td>how to make location independent agile work</td>\n",
              "      <td>while it is very beneficial to have all the te...</td>\n",
              "      <td>Agile</td>\n",
              "    </tr>\n",
              "    <tr>\n",
              "      <th>22</th>\n",
              "      <td>23</td>\n",
              "      <td>what comes after cxm helping customers help ot...</td>\n",
              "      <td>thirty years ago large global companies began ...</td>\n",
              "      <td>CX</td>\n",
              "    </tr>\n",
              "    <tr>\n",
              "      <th>23</th>\n",
              "      <td>24</td>\n",
              "      <td>the sure but winding road to the cloud</td>\n",
              "      <td>even for companies that can afford billions of...</td>\n",
              "      <td>Cloud</td>\n",
              "    </tr>\n",
              "    <tr>\n",
              "      <th>24</th>\n",
              "      <td>25</td>\n",
              "      <td>how the ceo can propel a cx initiative</td>\n",
              "      <td>whether it s a series of tweaks or a wholesale...</td>\n",
              "      <td>CX</td>\n",
              "    </tr>\n",
              "  </tbody>\n",
              "</table>\n",
              "</div>"
            ],
            "text/plain": [
              "    asset_id  ... Domain\n",
              "81        85  ...     HR\n",
              "30        31  ...  Agile\n",
              "22        23  ...     CX\n",
              "23        24  ...  Cloud\n",
              "24        25  ...     CX\n",
              "\n",
              "[5 rows x 4 columns]"
            ]
          },
          "metadata": {
            "tags": []
          },
          "execution_count": 17
        }
      ]
    },
    {
      "cell_type": "code",
      "metadata": {
        "colab": {
          "base_uri": "https://localhost:8080/",
          "height": 206
        },
        "id": "WkRTYc6YfvZT",
        "outputId": "72cdacbf-459f-4432-ee3e-7e3ab30b94a4"
      },
      "source": [
        "get_recommendations(80,5)"
      ],
      "execution_count": null,
      "outputs": [
        {
          "output_type": "execute_result",
          "data": {
            "text/html": [
              "<div>\n",
              "<style scoped>\n",
              "    .dataframe tbody tr th:only-of-type {\n",
              "        vertical-align: middle;\n",
              "    }\n",
              "\n",
              "    .dataframe tbody tr th {\n",
              "        vertical-align: top;\n",
              "    }\n",
              "\n",
              "    .dataframe thead th {\n",
              "        text-align: right;\n",
              "    }\n",
              "</style>\n",
              "<table border=\"1\" class=\"dataframe\">\n",
              "  <thead>\n",
              "    <tr style=\"text-align: right;\">\n",
              "      <th></th>\n",
              "      <th>asset_id</th>\n",
              "      <th>asset_title</th>\n",
              "      <th>asset_description</th>\n",
              "      <th>Domain</th>\n",
              "    </tr>\n",
              "  </thead>\n",
              "  <tbody>\n",
              "    <tr>\n",
              "      <th>81</th>\n",
              "      <td>85</td>\n",
              "      <td>why the emotional wellbeing of your employees ...</td>\n",
              "      <td>abstract as nations around the world deal with...</td>\n",
              "      <td>HR</td>\n",
              "    </tr>\n",
              "    <tr>\n",
              "      <th>28</th>\n",
              "      <td>29</td>\n",
              "      <td>students for life why executives must continua...</td>\n",
              "      <td>companies today must get smarter faster and li...</td>\n",
              "      <td>HR</td>\n",
              "    </tr>\n",
              "    <tr>\n",
              "      <th>29</th>\n",
              "      <td>30</td>\n",
              "      <td>embracing agility means agility by the busines...</td>\n",
              "      <td>the push for agility in software development s...</td>\n",
              "      <td>Agile</td>\n",
              "    </tr>\n",
              "    <tr>\n",
              "      <th>22</th>\n",
              "      <td>23</td>\n",
              "      <td>what comes after cxm helping customers help ot...</td>\n",
              "      <td>thirty years ago large global companies began ...</td>\n",
              "      <td>CX</td>\n",
              "    </tr>\n",
              "    <tr>\n",
              "      <th>23</th>\n",
              "      <td>24</td>\n",
              "      <td>the sure but winding road to the cloud</td>\n",
              "      <td>even for companies that can afford billions of...</td>\n",
              "      <td>Cloud</td>\n",
              "    </tr>\n",
              "  </tbody>\n",
              "</table>\n",
              "</div>"
            ],
            "text/plain": [
              "    asset_id  ... Domain\n",
              "81        85  ...     HR\n",
              "28        29  ...     HR\n",
              "29        30  ...  Agile\n",
              "22        23  ...     CX\n",
              "23        24  ...  Cloud\n",
              "\n",
              "[5 rows x 4 columns]"
            ]
          },
          "metadata": {
            "tags": []
          },
          "execution_count": 19
        }
      ]
    },
    {
      "cell_type": "code",
      "metadata": {
        "colab": {
          "base_uri": "https://localhost:8080/",
          "height": 36
        },
        "id": "1ZfnUBtl9rr3",
        "outputId": "6c27e15b-4e04-4686-d259-ce134ff6a5e3"
      },
      "source": [
        "get_recommendations(83,5)"
      ],
      "execution_count": null,
      "outputs": [
        {
          "output_type": "execute_result",
          "data": {
            "application/vnd.google.colaboratory.intrinsic+json": {
              "type": "string"
            },
            "text/plain": [
              "'User has rated less than 3 articles'"
            ]
          },
          "metadata": {
            "tags": []
          },
          "execution_count": 20
        }
      ]
    },
    {
      "cell_type": "code",
      "metadata": {
        "colab": {
          "base_uri": "https://localhost:8080/",
          "height": 206
        },
        "id": "FpoyPExQfxmL",
        "outputId": "940c2ee5-985c-4bb1-9d5a-f29345ddcaf4"
      },
      "source": [
        "get_recommendations(95,5)"
      ],
      "execution_count": null,
      "outputs": [
        {
          "output_type": "execute_result",
          "data": {
            "text/html": [
              "<div>\n",
              "<style scoped>\n",
              "    .dataframe tbody tr th:only-of-type {\n",
              "        vertical-align: middle;\n",
              "    }\n",
              "\n",
              "    .dataframe tbody tr th {\n",
              "        vertical-align: top;\n",
              "    }\n",
              "\n",
              "    .dataframe thead th {\n",
              "        text-align: right;\n",
              "    }\n",
              "</style>\n",
              "<table border=\"1\" class=\"dataframe\">\n",
              "  <thead>\n",
              "    <tr style=\"text-align: right;\">\n",
              "      <th></th>\n",
              "      <th>asset_id</th>\n",
              "      <th>asset_title</th>\n",
              "      <th>asset_description</th>\n",
              "      <th>Domain</th>\n",
              "    </tr>\n",
              "  </thead>\n",
              "  <tbody>\n",
              "    <tr>\n",
              "      <th>64</th>\n",
              "      <td>67</td>\n",
              "      <td>unleashing business value in a business world</td>\n",
              "      <td>in an era we call business digital technologie...</td>\n",
              "      <td>Industry</td>\n",
              "    </tr>\n",
              "    <tr>\n",
              "      <th>55</th>\n",
              "      <td>56</td>\n",
              "      <td>how the digital renovators are racing ahead</td>\n",
              "      <td>numerous studies show that the majority of lar...</td>\n",
              "      <td>Industry</td>\n",
              "    </tr>\n",
              "    <tr>\n",
              "      <th>79</th>\n",
              "      <td>83</td>\n",
              "      <td>tcs cmo study stage conversion personalizing c...</td>\n",
              "      <td>chief marketing officers have one of the riski...</td>\n",
              "      <td>Industry</td>\n",
              "    </tr>\n",
              "    <tr>\n",
              "      <th>38</th>\n",
              "      <td>39</td>\n",
              "      <td>why your products must be smart and connected</td>\n",
              "      <td>it s become increasingly conceivable and cost ...</td>\n",
              "      <td>Industry</td>\n",
              "    </tr>\n",
              "    <tr>\n",
              "      <th>51</th>\n",
              "      <td>52</td>\n",
              "      <td>from making autos to making software the evolu...</td>\n",
              "      <td>michael a cusumano1 is a professor at the mass...</td>\n",
              "      <td>Industry</td>\n",
              "    </tr>\n",
              "  </tbody>\n",
              "</table>\n",
              "</div>"
            ],
            "text/plain": [
              "    asset_id  ...    Domain\n",
              "64        67  ...  Industry\n",
              "55        56  ...  Industry\n",
              "79        83  ...  Industry\n",
              "38        39  ...  Industry\n",
              "51        52  ...  Industry\n",
              "\n",
              "[5 rows x 4 columns]"
            ]
          },
          "metadata": {
            "tags": []
          },
          "execution_count": 21
        }
      ]
    },
    {
      "cell_type": "code",
      "metadata": {
        "id": "xfXJ2OwWfzzh"
      },
      "source": [
        ""
      ],
      "execution_count": null,
      "outputs": []
    }
  ]
}