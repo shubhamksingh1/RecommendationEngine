{
  "nbformat": 4,
  "nbformat_minor": 0,
  "metadata": {
    "colab": {
      "name": "Test_Collaborative_User_Based_Keras.ipynb",
      "provenance": [],
      "collapsed_sections": [],
      "toc_visible": true,
      "mount_file_id": "1YzHRZQ1_zcbLnS75yTYyM6E-0IwI5yeQ",
      "authorship_tag": "ABX9TyM50UheYUgtx6JyL/SNqM/Z",
      "include_colab_link": true
    },
    "kernelspec": {
      "name": "python3",
      "display_name": "Python 3"
    }
  },
  "cells": [
    {
      "cell_type": "markdown",
      "metadata": {
        "id": "view-in-github",
        "colab_type": "text"
      },
      "source": [
        "<a href=\"https://colab.research.google.com/github/shubhamksingh1/RecommendationEngine/blob/main/CollaborativeFiltering/Perspective/Keras/Test_Collaborative_User_Based_Keras.ipynb\" target=\"_parent\"><img src=\"https://colab.research.google.com/assets/colab-badge.svg\" alt=\"Open In Colab\"/></a>"
      ]
    },
    {
      "cell_type": "code",
      "metadata": {
        "id": "7YF_DJ-LWf2v"
      },
      "source": [
        ""
      ],
      "execution_count": null,
      "outputs": []
    },
    {
      "cell_type": "markdown",
      "metadata": {
        "id": "WiQARjZSW1vc"
      },
      "source": [
        "# Import"
      ]
    },
    {
      "cell_type": "code",
      "metadata": {
        "id": "qeJtrDaYW3Wi"
      },
      "source": [
        "import pickle\n",
        "import pandas as pd\n",
        "from keras.models import load_model \n",
        "import numpy as np"
      ],
      "execution_count": null,
      "outputs": []
    },
    {
      "cell_type": "markdown",
      "metadata": {
        "id": "9caeLivCW8L_"
      },
      "source": [
        "# Read Model Data and pickles"
      ]
    },
    {
      "cell_type": "code",
      "metadata": {
        "id": "f1ge1qaHYTt6"
      },
      "source": [
        "model = load_model('/content/drive/MyDrive/Collaborative_Recommendation/Keras/Model/modelv1')"
      ],
      "execution_count": null,
      "outputs": []
    },
    {
      "cell_type": "code",
      "metadata": {
        "id": "k5R85oH8W5bj"
      },
      "source": [
        "asset_df = pd.read_pickle(\"/content/drive/MyDrive/Collaborative_Recommendation/MatrixFactorization/recommendation_v4.pkl\")\n",
        "df = pd.read_pickle(\"/content/drive/MyDrive/Collaborative_Recommendation/Keras/ratingsv1keras.pkl\")\n"
      ],
      "execution_count": null,
      "outputs": []
    },
    {
      "cell_type": "code",
      "metadata": {
        "colab": {
          "base_uri": "https://localhost:8080/",
          "height": 1000
        },
        "id": "jhLxpO4PYHUX",
        "outputId": "f1d5d721-fbf5-4c50-a216-edb4251c379a"
      },
      "source": [
        "asset_df"
      ],
      "execution_count": null,
      "outputs": [
        {
          "output_type": "execute_result",
          "data": {
            "text/html": [
              "<div>\n",
              "<style scoped>\n",
              "    .dataframe tbody tr th:only-of-type {\n",
              "        vertical-align: middle;\n",
              "    }\n",
              "\n",
              "    .dataframe tbody tr th {\n",
              "        vertical-align: top;\n",
              "    }\n",
              "\n",
              "    .dataframe thead th {\n",
              "        text-align: right;\n",
              "    }\n",
              "</style>\n",
              "<table border=\"1\" class=\"dataframe\">\n",
              "  <thead>\n",
              "    <tr style=\"text-align: right;\">\n",
              "      <th></th>\n",
              "      <th>asset_id</th>\n",
              "      <th>asset_description</th>\n",
              "      <th>asset_title</th>\n",
              "      <th>custom_stop_desc</th>\n",
              "      <th>custom_stop_title</th>\n",
              "      <th>asset_description_cleaned</th>\n",
              "      <th>asset_title_cleaned</th>\n",
              "      <th>Domain</th>\n",
              "    </tr>\n",
              "  </thead>\n",
              "  <tbody>\n",
              "    <tr>\n",
              "      <th>0</th>\n",
              "      <td>1</td>\n",
              "      <td>peter drucker the legendary management scholar...</td>\n",
              "      <td>the ascent of the smarter faster lighter enter...</td>\n",
              "      <td>['3a', 'a', 'an', 'on', 'at', 'is', 's', 'do',...</td>\n",
              "      <td>['of']</td>\n",
              "      <td>peter drucker legendary management scholar con...</td>\n",
              "      <td>ascent smarter faster lighter enterprise</td>\n",
              "      <td>CX</td>\n",
              "    </tr>\n",
              "    <tr>\n",
              "      <th>1</th>\n",
              "      <td>2</td>\n",
              "      <td>the software development community has been us...</td>\n",
              "      <td>agile s day has truly arrived</td>\n",
              "      <td>['a', 'u', 'we', 'k', 'i', 'on', 'at', 'is', '...</td>\n",
              "      <td>['s']</td>\n",
              "      <td>software development community using term agil...</td>\n",
              "      <td>agile day truly arrived</td>\n",
              "      <td>Agile</td>\n",
              "    </tr>\n",
              "    <tr>\n",
              "      <th>2</th>\n",
              "      <td>3</td>\n",
              "      <td>many exciting new digital technologies have ev...</td>\n",
              "      <td>riding the cognitive wave</td>\n",
              "      <td>['a', 'we', 'e', 'an', 'on', 'at', 'is', 'do',...</td>\n",
              "      <td>[]</td>\n",
              "      <td>many exciting new digital technology evolved r...</td>\n",
              "      <td>riding cognitive wave</td>\n",
              "      <td>AI</td>\n",
              "    </tr>\n",
              "    <tr>\n",
              "      <th>3</th>\n",
              "      <td>4</td>\n",
              "      <td>we have all seen some eye bulging numbers in r...</td>\n",
              "      <td>using iot data to understand how your products...</td>\n",
              "      <td>['hp', 'a', 'we', 'an', 'on', 'at', 'is', 's',...</td>\n",
              "      <td>['to']</td>\n",
              "      <td>seen eye bulging number recent year internet t...</td>\n",
              "      <td>using iot data understand product perform</td>\n",
              "      <td>IOT</td>\n",
              "    </tr>\n",
              "    <tr>\n",
              "      <th>4</th>\n",
              "      <td>5</td>\n",
              "      <td>you probably need little evidence to believe t...</td>\n",
              "      <td>the view inside our take on the customer exper...</td>\n",
              "      <td>['a', 'we', 'e', 'an', 'i', 'on', 'at', 'is', ...</td>\n",
              "      <td>['on']</td>\n",
              "      <td>probably need little evidence believe experien...</td>\n",
              "      <td>view inside take customer experience revolution</td>\n",
              "      <td>CX</td>\n",
              "    </tr>\n",
              "    <tr>\n",
              "      <th>...</th>\n",
              "      <td>...</td>\n",
              "      <td>...</td>\n",
              "      <td>...</td>\n",
              "      <td>...</td>\n",
              "      <td>...</td>\n",
              "      <td>...</td>\n",
              "      <td>...</td>\n",
              "      <td>...</td>\n",
              "    </tr>\n",
              "    <tr>\n",
              "      <th>77</th>\n",
              "      <td>80</td>\n",
              "      <td>this report is based on tcs larger study on di...</td>\n",
              "      <td>tcs cmo study how retailers are digitally pers...</td>\n",
              "      <td>['3a', 'a', 'we', 'on', 'at', 'is', 's', 'do',...</td>\n",
              "      <td>['to']</td>\n",
              "      <td>report based tc larger study digital marketing...</td>\n",
              "      <td>tc cmo study retailer digitally personalizing ...</td>\n",
              "      <td>Industry</td>\n",
              "    </tr>\n",
              "    <tr>\n",
              "      <th>78</th>\n",
              "      <td>81</td>\n",
              "      <td>this report on marketers in the travel transpo...</td>\n",
              "      <td>tcs cmo study how travel transportation and ho...</td>\n",
              "      <td>['a', 'we', 'e', 'on', 'is', 's', 'do', 'go', ...</td>\n",
              "      <td>['to']</td>\n",
              "      <td>report marketer travel transportation hospital...</td>\n",
              "      <td>tc cmo study travel transportation hospitality...</td>\n",
              "      <td>Industry</td>\n",
              "    </tr>\n",
              "    <tr>\n",
              "      <th>79</th>\n",
              "      <td>83</td>\n",
              "      <td>chief marketing officers have one of the riski...</td>\n",
              "      <td>tcs cmo study stage conversion personalizing c...</td>\n",
              "      <td>['a', 'on', 'at', 'is', 's', 'do', '■', 'vs', ...</td>\n",
              "      <td>['to']</td>\n",
              "      <td>chief marketing officer one riskiest role suit...</td>\n",
              "      <td>tc cmo study stage conversion personalizing co...</td>\n",
              "      <td>Industry</td>\n",
              "    </tr>\n",
              "    <tr>\n",
              "      <th>80</th>\n",
              "      <td>84</td>\n",
              "      <td>the rise of the chief medical officer typicall...</td>\n",
              "      <td>employee wellness analysis creating data drive...</td>\n",
              "      <td>['a', 'an', 'on', 'at', 'is', 's', 'up', 'by',...</td>\n",
              "      <td>[]</td>\n",
              "      <td>rise chief medical officer typically business ...</td>\n",
              "      <td>employee wellness analysis creating data drive...</td>\n",
              "      <td>HR</td>\n",
              "    </tr>\n",
              "    <tr>\n",
              "      <th>81</th>\n",
              "      <td>85</td>\n",
              "      <td>abstract as nations around the world deal with...</td>\n",
              "      <td>why the emotional wellbeing of your employees ...</td>\n",
              "      <td>['a', 'we', 'an', 'on', 'is', 's', 'up', 'by',...</td>\n",
              "      <td>['a', 'of', 'be']</td>\n",
              "      <td>abstract nation around world deal managing cov...</td>\n",
              "      <td>emotional wellbeing employee top priority covid</td>\n",
              "      <td>HR</td>\n",
              "    </tr>\n",
              "  </tbody>\n",
              "</table>\n",
              "<p>82 rows × 8 columns</p>\n",
              "</div>"
            ],
            "text/plain": [
              "    asset_id  ...    Domain\n",
              "0          1  ...        CX\n",
              "1          2  ...     Agile\n",
              "2          3  ...        AI\n",
              "3          4  ...       IOT\n",
              "4          5  ...        CX\n",
              "..       ...  ...       ...\n",
              "77        80  ...  Industry\n",
              "78        81  ...  Industry\n",
              "79        83  ...  Industry\n",
              "80        84  ...        HR\n",
              "81        85  ...        HR\n",
              "\n",
              "[82 rows x 8 columns]"
            ]
          },
          "metadata": {
            "tags": []
          },
          "execution_count": 4
        }
      ]
    },
    {
      "cell_type": "code",
      "metadata": {
        "colab": {
          "base_uri": "https://localhost:8080/",
          "height": 424
        },
        "id": "jieAPyDyZGMY",
        "outputId": "5af575a8-113f-42c2-9ce9-86b63d5d2d0b"
      },
      "source": [
        "df"
      ],
      "execution_count": null,
      "outputs": [
        {
          "output_type": "execute_result",
          "data": {
            "text/html": [
              "<div>\n",
              "<style scoped>\n",
              "    .dataframe tbody tr th:only-of-type {\n",
              "        vertical-align: middle;\n",
              "    }\n",
              "\n",
              "    .dataframe tbody tr th {\n",
              "        vertical-align: top;\n",
              "    }\n",
              "\n",
              "    .dataframe thead th {\n",
              "        text-align: right;\n",
              "    }\n",
              "</style>\n",
              "<table border=\"1\" class=\"dataframe\">\n",
              "  <thead>\n",
              "    <tr style=\"text-align: right;\">\n",
              "      <th></th>\n",
              "      <th>uid</th>\n",
              "      <th>asset_id</th>\n",
              "      <th>Ratings</th>\n",
              "      <th>user</th>\n",
              "      <th>asset</th>\n",
              "      <th>rating</th>\n",
              "    </tr>\n",
              "  </thead>\n",
              "  <tbody>\n",
              "    <tr>\n",
              "      <th>296</th>\n",
              "      <td>37</td>\n",
              "      <td>4</td>\n",
              "      <td>4</td>\n",
              "      <td>36</td>\n",
              "      <td>3</td>\n",
              "      <td>4.0</td>\n",
              "    </tr>\n",
              "    <tr>\n",
              "      <th>81</th>\n",
              "      <td>7</td>\n",
              "      <td>22</td>\n",
              "      <td>4</td>\n",
              "      <td>6</td>\n",
              "      <td>21</td>\n",
              "      <td>4.0</td>\n",
              "    </tr>\n",
              "    <tr>\n",
              "      <th>77</th>\n",
              "      <td>7</td>\n",
              "      <td>15</td>\n",
              "      <td>4</td>\n",
              "      <td>6</td>\n",
              "      <td>14</td>\n",
              "      <td>4.0</td>\n",
              "    </tr>\n",
              "    <tr>\n",
              "      <th>208</th>\n",
              "      <td>21</td>\n",
              "      <td>36</td>\n",
              "      <td>3</td>\n",
              "      <td>20</td>\n",
              "      <td>35</td>\n",
              "      <td>3.0</td>\n",
              "    </tr>\n",
              "    <tr>\n",
              "      <th>318</th>\n",
              "      <td>43</td>\n",
              "      <td>19</td>\n",
              "      <td>5</td>\n",
              "      <td>42</td>\n",
              "      <td>18</td>\n",
              "      <td>5.0</td>\n",
              "    </tr>\n",
              "    <tr>\n",
              "      <th>...</th>\n",
              "      <td>...</td>\n",
              "      <td>...</td>\n",
              "      <td>...</td>\n",
              "      <td>...</td>\n",
              "      <td>...</td>\n",
              "      <td>...</td>\n",
              "    </tr>\n",
              "    <tr>\n",
              "      <th>71</th>\n",
              "      <td>6</td>\n",
              "      <td>71</td>\n",
              "      <td>5</td>\n",
              "      <td>5</td>\n",
              "      <td>68</td>\n",
              "      <td>5.0</td>\n",
              "    </tr>\n",
              "    <tr>\n",
              "      <th>106</th>\n",
              "      <td>9</td>\n",
              "      <td>22</td>\n",
              "      <td>2</td>\n",
              "      <td>8</td>\n",
              "      <td>21</td>\n",
              "      <td>2.0</td>\n",
              "    </tr>\n",
              "    <tr>\n",
              "      <th>270</th>\n",
              "      <td>32</td>\n",
              "      <td>3</td>\n",
              "      <td>5</td>\n",
              "      <td>31</td>\n",
              "      <td>2</td>\n",
              "      <td>5.0</td>\n",
              "    </tr>\n",
              "    <tr>\n",
              "      <th>435</th>\n",
              "      <td>72</td>\n",
              "      <td>24</td>\n",
              "      <td>5</td>\n",
              "      <td>71</td>\n",
              "      <td>23</td>\n",
              "      <td>5.0</td>\n",
              "    </tr>\n",
              "    <tr>\n",
              "      <th>102</th>\n",
              "      <td>9</td>\n",
              "      <td>9</td>\n",
              "      <td>4</td>\n",
              "      <td>8</td>\n",
              "      <td>8</td>\n",
              "      <td>4.0</td>\n",
              "    </tr>\n",
              "  </tbody>\n",
              "</table>\n",
              "<p>704 rows × 6 columns</p>\n",
              "</div>"
            ],
            "text/plain": [
              "     uid  asset_id  Ratings  user  asset  rating\n",
              "296   37         4        4    36      3     4.0\n",
              "81     7        22        4     6     21     4.0\n",
              "77     7        15        4     6     14     4.0\n",
              "208   21        36        3    20     35     3.0\n",
              "318   43        19        5    42     18     5.0\n",
              "..   ...       ...      ...   ...    ...     ...\n",
              "71     6        71        5     5     68     5.0\n",
              "106    9        22        2     8     21     2.0\n",
              "270   32         3        5    31      2     5.0\n",
              "435   72        24        5    71     23     5.0\n",
              "102    9         9        4     8      8     4.0\n",
              "\n",
              "[704 rows x 6 columns]"
            ]
          },
          "metadata": {
            "tags": []
          },
          "execution_count": 5
        }
      ]
    },
    {
      "cell_type": "code",
      "metadata": {
        "id": "kwxrkULOZGyy"
      },
      "source": [
        "asset2asset_encoded = pickle.load(open(\"/content/drive/MyDrive/Collaborative_Recommendation/Keras/asset2asset_encoded.pkl\", \"rb\" )) \n",
        "user2user_encoded = pickle.load(open(\"/content/drive/MyDrive/Collaborative_Recommendation/Keras/user2user_encoded.pkl\", \"rb\" ) )    \n",
        "asset_encoded2asset= pickle.load(open(\"/content/drive/MyDrive/Collaborative_Recommendation/Keras/asset_encode2asset.pkl\",\"rb\"))"
      ],
      "execution_count": null,
      "outputs": []
    },
    {
      "cell_type": "code",
      "metadata": {
        "colab": {
          "base_uri": "https://localhost:8080/"
        },
        "id": "8FOfLng7aO6F",
        "outputId": "f5a8a30a-5eb2-4214-e736-92b96697a3a4"
      },
      "source": [
        "print(asset2asset_encoded)\n",
        "print(user2user_encoded)\n",
        "print(asset_encoded2asset)"
      ],
      "execution_count": null,
      "outputs": [
        {
          "output_type": "stream",
          "text": [
            "{1: 0, 2: 1, 3: 2, 4: 3, 5: 4, 6: 5, 7: 6, 8: 7, 9: 8, 10: 9, 11: 10, 12: 11, 13: 12, 14: 13, 15: 14, 16: 15, 17: 16, 18: 17, 19: 18, 20: 19, 21: 20, 22: 21, 23: 22, 24: 23, 25: 24, 26: 25, 27: 26, 28: 27, 29: 28, 30: 29, 31: 30, 32: 31, 33: 32, 34: 33, 35: 34, 36: 35, 37: 36, 38: 37, 39: 38, 40: 39, 41: 40, 42: 41, 43: 42, 44: 43, 45: 44, 46: 45, 47: 46, 48: 47, 49: 48, 50: 49, 51: 50, 52: 51, 53: 52, 54: 53, 55: 54, 56: 55, 57: 56, 59: 57, 60: 58, 61: 59, 62: 60, 63: 61, 65: 62, 66: 63, 67: 64, 68: 65, 69: 66, 70: 67, 71: 68, 72: 69, 73: 70, 74: 71, 75: 72, 76: 73, 77: 74, 78: 75, 79: 76, 80: 77, 81: 78, 83: 79, 84: 80, 85: 81}\n",
            "{1: 0, 2: 1, 3: 2, 4: 3, 5: 4, 6: 5, 7: 6, 8: 7, 9: 8, 10: 9, 11: 10, 12: 11, 13: 12, 14: 13, 15: 14, 16: 15, 17: 16, 18: 17, 19: 18, 20: 19, 21: 20, 22: 21, 23: 22, 24: 23, 25: 24, 26: 25, 27: 26, 28: 27, 29: 28, 30: 29, 31: 30, 32: 31, 33: 32, 34: 33, 35: 34, 36: 35, 37: 36, 38: 37, 39: 38, 40: 39, 41: 40, 42: 41, 43: 42, 44: 43, 45: 44, 46: 45, 47: 46, 48: 47, 49: 48, 50: 49, 51: 50, 52: 51, 53: 52, 54: 53, 55: 54, 56: 55, 57: 56, 58: 57, 59: 58, 60: 59, 61: 60, 62: 61, 63: 62, 64: 63, 65: 64, 66: 65, 67: 66, 68: 67, 69: 68, 70: 69, 71: 70, 72: 71, 73: 72, 74: 73, 75: 74, 76: 75, 77: 76, 78: 77, 79: 78, 80: 79, 81: 80, 82: 81, 83: 82, 84: 83, 85: 84, 86: 85, 87: 86, 88: 87, 89: 88, 90: 89, 91: 90, 92: 91, 93: 92, 94: 93, 95: 94, 96: 95, 97: 96, 98: 97, 99: 98, 100: 99}\n",
            "{0: 1, 1: 2, 2: 3, 3: 4, 4: 5, 5: 6, 6: 7, 7: 8, 8: 9, 9: 10, 10: 11, 11: 12, 12: 13, 13: 14, 14: 15, 15: 16, 16: 17, 17: 18, 18: 19, 19: 20, 20: 21, 21: 22, 22: 23, 23: 24, 24: 25, 25: 26, 26: 27, 27: 28, 28: 29, 29: 30, 30: 31, 31: 32, 32: 33, 33: 34, 34: 35, 35: 36, 36: 37, 37: 38, 38: 39, 39: 40, 40: 41, 41: 42, 42: 43, 43: 44, 44: 45, 45: 46, 46: 47, 47: 48, 48: 49, 49: 50, 50: 51, 51: 52, 52: 53, 53: 54, 54: 55, 55: 56, 56: 57, 57: 59, 58: 60, 59: 61, 60: 62, 61: 63, 62: 65, 63: 66, 64: 67, 65: 68, 66: 69, 67: 70, 68: 71, 69: 72, 70: 73, 71: 74, 72: 75, 73: 76, 74: 77, 75: 78, 76: 79, 77: 80, 78: 81, 79: 83, 80: 84, 81: 85}\n"
          ],
          "name": "stdout"
        }
      ]
    },
    {
      "cell_type": "markdown",
      "metadata": {
        "id": "cg9VWF_idiv8"
      },
      "source": [
        "# Function Definition"
      ]
    },
    {
      "cell_type": "code",
      "metadata": {
        "id": "ghvMm_kWawEA"
      },
      "source": [
        "def get_recommendation(user_id,n):\n",
        "            \n",
        "    asset_read_by_user = df[df.uid == user_id]\n",
        "\n",
        "    asset_not_read = asset_df[\n",
        "        ~asset_df[\"asset_id\"].isin(asset_read_by_user.asset_id.values)\n",
        "    ][\"asset_id\"]\n",
        "\n",
        "    asset_not_read = list(\n",
        "        set(asset_not_read).intersection(set(asset2asset_encoded.keys()))\n",
        "    )\n",
        "\n",
        "    asset_not_read = [[asset2asset_encoded.get(x)] for x in asset_not_read]\n",
        "\n",
        "    user_encoder = user2user_encoded.get(user_id)\n",
        "\n",
        "    user_asset_array = np.hstack(\n",
        "        ([[user_encoder]] * len(asset_not_read), asset_not_read)\n",
        "    )\n",
        "\n",
        "\n",
        "    ratings = model.predict(user_asset_array).flatten()\n",
        "\n",
        "    top_ratings_indices = ratings.argsort()[-n:][::-1]\n",
        "\n",
        "    recommended_asset_ids = [\n",
        "        asset_encoded2asset.get(asset_not_read[x][0]) for x in top_ratings_indices\n",
        "    ]\n",
        "\n",
        "    print(\"Showing recommendations for user: {}\".format(user_id))\n",
        "    print(\"====\" * 9)\n",
        "    print(\"Assets with high ratings from user\")\n",
        "    print(\"----\" * 8)\n",
        "    top_assets_user = (\n",
        "        asset_read_by_user.sort_values(by=\"rating\", ascending=False)\n",
        "        .head()\n",
        "        .asset_id.values\n",
        "    )\n",
        "    asset_df_rows = asset_df[asset_df[\"asset_id\"].isin(top_assets_user)]\n",
        "    for row in asset_df_rows.itertuples():\n",
        "        print(row.asset_id, \":\", row.asset_title, \":\",row.Domain)\n",
        "\n",
        "    print(\"----\" * 8)\n",
        "    print(\"Top 5 article recommendations\")\n",
        "    print(\"----\" * 8)\n",
        "\n",
        "    for id in recommended_asset_ids:\n",
        "        recommended_assets = asset_df[asset_df[\"asset_id\"].isin([id])]\n",
        "        for row in recommended_assets.itertuples():\n",
        "            print(row.asset_id, \":\", row.asset_title, \":\",row.Domain)\n"
      ],
      "execution_count": null,
      "outputs": []
    },
    {
      "cell_type": "markdown",
      "metadata": {
        "id": "a3yXzMhPdmbJ"
      },
      "source": [
        "# Get Recommendation"
      ]
    },
    {
      "cell_type": "markdown",
      "metadata": {
        "id": "sPnWBKuJdr7P"
      },
      "source": [
        "Users      Domain\n",
        "*   1 - 12 :CX\n",
        "*   13 - 24 : Agile\n",
        "*   25 - 36 : AI\n",
        "*   37 - 48 : IOT\n",
        "*   49 - 60 : BigData\n",
        "*   61 - 72 : Cloud\n",
        "*   73 - 84 : HR\n",
        "*   85 - 100 : Industry"
      ]
    },
    {
      "cell_type": "code",
      "metadata": {
        "colab": {
          "base_uri": "https://localhost:8080/"
        },
        "id": "_nA1FTDPc3_O",
        "outputId": "efd7aa4e-5695-45ad-9fe7-d7aa018ddcb7"
      },
      "source": [
        "get_recommendation(1,5)"
      ],
      "execution_count": null,
      "outputs": [
        {
          "output_type": "stream",
          "text": [
            "Showing recommendations for user: 1\n",
            "====================================\n",
            "Assets with high ratings from user\n",
            "--------------------------------\n",
            "17 : personalization boundaries tuning in to customers without turning them off : CX\n",
            "18 : designing for the small silver screen : CX\n",
            "20 : reimagining the contact center with digital technologies : CX\n",
            "71 : how blockchain is poised to revolutionize digital customer experience : CX\n",
            "76 : how quality engineering enables customer experience transformations : CX\n",
            "--------------------------------\n",
            "Top 5 article recommendations\n",
            "--------------------------------\n",
            "84 : employee wellness analysis creating data driven hr policies that help save lives : HR\n",
            "83 : tcs cmo study stage conversion personalizing content to turn prospects into customers : Industry\n",
            "79 : tcs cmo study stage awareness attracting the digitally distracted prospect : Industry\n",
            "85 : why the emotional wellbeing of your employees should be a top priority during covid : HR\n",
            "74 : proactive protection how companies can secure customer data in a hyper connected world : CX\n"
          ],
          "name": "stdout"
        }
      ]
    },
    {
      "cell_type": "code",
      "metadata": {
        "colab": {
          "base_uri": "https://localhost:8080/"
        },
        "id": "Rf3280xDdGdh",
        "outputId": "97e1b136-4836-467a-d252-81a27a47f39e"
      },
      "source": [
        "get_recommendation(14, 5)"
      ],
      "execution_count": null,
      "outputs": [
        {
          "output_type": "stream",
          "text": [
            "Showing recommendations for user: 14\n",
            "====================================\n",
            "Assets with high ratings from user\n",
            "--------------------------------\n",
            "31 : how to make location independent agile work : Agile\n",
            "33 : enterprise agility pushing innovation to the edge of the organization : Agile\n",
            "35 : how retail ceos can drive agile to grow their business : Agile\n",
            "36 : fending off the fintechs how agile financial services firms are transforming their businesses : Agile\n",
            "43 : why agile software development requires radical changes in budgeting and scoping : Agile\n",
            "--------------------------------\n",
            "Top 5 article recommendations\n",
            "--------------------------------\n",
            "18 : designing for the small silver screen : CX\n",
            "11 : winning today s talent race how to identify develop and retain talent better than your rivals : HR\n",
            "13 : how microsoft uses machine learning to handle workloads that humans cannot : AI\n",
            "7 : case study why artificial intelligence is a big part of ap s future : AI\n",
            "8 : banking and financial services analytics for competitive advantage : BigData\n"
          ],
          "name": "stdout"
        }
      ]
    },
    {
      "cell_type": "code",
      "metadata": {
        "colab": {
          "base_uri": "https://localhost:8080/"
        },
        "id": "NUWyrOaXd-_a",
        "outputId": "747f9cc9-2450-440e-9afc-c30c0ee9fa19"
      },
      "source": [
        "get_recommendation(28, 5)"
      ],
      "execution_count": null,
      "outputs": [
        {
          "output_type": "stream",
          "text": [
            "Showing recommendations for user: 28\n",
            "====================================\n",
            "Assets with high ratings from user\n",
            "--------------------------------\n",
            "3 : riding the cognitive wave : AI\n",
            "7 : case study why artificial intelligence is a big part of ap s future : AI\n",
            "13 : how microsoft uses machine learning to handle workloads that humans cannot : AI\n",
            "38 : where to turn ai and automation loose in your company : AI\n",
            "42 : what happens when you turn your products into services : AI\n",
            "--------------------------------\n",
            "Top 5 article recommendations\n",
            "--------------------------------\n",
            "18 : designing for the small silver screen : CX\n",
            "11 : winning today s talent race how to identify develop and retain talent better than your rivals : HR\n",
            "8 : banking and financial services analytics for competitive advantage : BigData\n",
            "1 : the ascent of the smarter faster lighter enterprise : CX\n",
            "20 : reimagining the contact center with digital technologies : CX\n"
          ],
          "name": "stdout"
        }
      ]
    },
    {
      "cell_type": "code",
      "metadata": {
        "colab": {
          "base_uri": "https://localhost:8080/"
        },
        "id": "wD3fvug0eR_D",
        "outputId": "e1393f88-ab2a-4577-8e97-e007544cb976"
      },
      "source": [
        "get_recommendation(47,5)"
      ],
      "execution_count": null,
      "outputs": [
        {
          "output_type": "stream",
          "text": [
            "Showing recommendations for user: 47\n",
            "====================================\n",
            "Assets with high ratings from user\n",
            "--------------------------------\n",
            "19 : how iot technologies are revamping the post sale experience : IOT\n",
            "41 : the magic that happens when manufacturers digitally attach themselves to their products : IOT\n",
            "44 : raising your iot security game : IOT\n",
            "50 : using iot technologies to completely rethink the customer experience interview with ric merrifield : IOT\n",
            "--------------------------------\n",
            "Top 5 article recommendations\n",
            "--------------------------------\n",
            "18 : designing for the small silver screen : CX\n",
            "11 : winning today s talent race how to identify develop and retain talent better than your rivals : HR\n",
            "13 : how microsoft uses machine learning to handle workloads that humans cannot : AI\n",
            "7 : case study why artificial intelligence is a big part of ap s future : AI\n",
            "8 : banking and financial services analytics for competitive advantage : BigData\n"
          ],
          "name": "stdout"
        }
      ]
    },
    {
      "cell_type": "code",
      "metadata": {
        "colab": {
          "base_uri": "https://localhost:8080/"
        },
        "id": "qRUAg5FFhE89",
        "outputId": "1cc1fd97-9395-422e-f39b-a40cb41972d7"
      },
      "source": [
        "get_recommendation(55,5)"
      ],
      "execution_count": null,
      "outputs": [
        {
          "output_type": "stream",
          "text": [
            "Showing recommendations for user: 55\n",
            "====================================\n",
            "Assets with high ratings from user\n",
            "--------------------------------\n",
            "8 : banking and financial services analytics for competitive advantage : BigData\n",
            "47 : analytics a still emerging business frontier interview with prabhudev konana : BigData\n",
            "61 : operating in an insight driven world mastering the new game of analytics : BigData\n",
            "--------------------------------\n",
            "Top 5 article recommendations\n",
            "--------------------------------\n",
            "71 : how blockchain is poised to revolutionize digital customer experience : CX\n",
            "55 : digital data s greatest opportunities : BigData\n",
            "41 : the magic that happens when manufacturers digitally attach themselves to their products : IOT\n",
            "59 : taking a machine first approach to digital transformation : AI\n",
            "67 : unleashing business value in a business world : Industry\n"
          ],
          "name": "stdout"
        }
      ]
    },
    {
      "cell_type": "code",
      "metadata": {
        "colab": {
          "base_uri": "https://localhost:8080/"
        },
        "id": "_NNE3L2uhTIJ",
        "outputId": "7e58c827-dd4d-4a88-fae2-63dced586aed"
      },
      "source": [
        "get_recommendation(63,5)"
      ],
      "execution_count": null,
      "outputs": [
        {
          "output_type": "stream",
          "text": [
            "Showing recommendations for user: 63\n",
            "====================================\n",
            "Assets with high ratings from user\n",
            "--------------------------------\n",
            "27 : cloudera the mind of the new machine : Cloud\n",
            "40 : now you can simulate nearly anything : Cloud\n",
            "60 : immense digital power on demand shifting to the brave new world of cloud computing : Cloud\n",
            "72 : for companies today the question is not whether to move to the cloud but how : Cloud\n",
            "73 : how the cloud empowers digital transformation : Cloud\n",
            "--------------------------------\n",
            "Top 5 article recommendations\n",
            "--------------------------------\n",
            "55 : digital data s greatest opportunities : BigData\n",
            "41 : the magic that happens when manufacturers digitally attach themselves to their products : IOT\n",
            "59 : taking a machine first approach to digital transformation : AI\n",
            "67 : unleashing business value in a business world : Industry\n",
            "56 : how the digital renovators are racing ahead : Industry\n"
          ],
          "name": "stdout"
        }
      ]
    },
    {
      "cell_type": "code",
      "metadata": {
        "colab": {
          "base_uri": "https://localhost:8080/"
        },
        "id": "x1u8OlbJhdpu",
        "outputId": "55774c15-73e1-4e27-ed63-e1e43ae94475"
      },
      "source": [
        "get_recommendation(77,5)"
      ],
      "execution_count": null,
      "outputs": [
        {
          "output_type": "stream",
          "text": [
            "Showing recommendations for user: 77\n",
            "====================================\n",
            "Assets with high ratings from user\n",
            "--------------------------------\n",
            "11 : winning today s talent race how to identify develop and retain talent better than your rivals : HR\n",
            "29 : students for life why executives must continually update their wisdom : HR\n",
            "45 : executive traits for recognizing the bountiful opportunities ahead : HR\n",
            "85 : why the emotional wellbeing of your employees should be a top priority during covid : HR\n",
            "--------------------------------\n",
            "Top 5 article recommendations\n",
            "--------------------------------\n",
            "55 : digital data s greatest opportunities : BigData\n",
            "41 : the magic that happens when manufacturers digitally attach themselves to their products : IOT\n",
            "59 : taking a machine first approach to digital transformation : AI\n",
            "67 : unleashing business value in a business world : Industry\n",
            "56 : how the digital renovators are racing ahead : Industry\n"
          ],
          "name": "stdout"
        }
      ]
    },
    {
      "cell_type": "code",
      "metadata": {
        "colab": {
          "base_uri": "https://localhost:8080/"
        },
        "id": "WNr1sMsehjb8",
        "outputId": "c0f114c2-5443-415f-ccf7-a9442e2e39b1"
      },
      "source": [
        "get_recommendation(80,5)"
      ],
      "execution_count": null,
      "outputs": [
        {
          "output_type": "stream",
          "text": [
            "Showing recommendations for user: 80\n",
            "====================================\n",
            "Assets with high ratings from user\n",
            "--------------------------------\n",
            "11 : winning today s talent race how to identify develop and retain talent better than your rivals : HR\n",
            "45 : executive traits for recognizing the bountiful opportunities ahead : HR\n",
            "84 : employee wellness analysis creating data driven hr policies that help save lives : HR\n",
            "--------------------------------\n",
            "Top 5 article recommendations\n",
            "--------------------------------\n",
            "18 : designing for the small silver screen : CX\n",
            "13 : how microsoft uses machine learning to handle workloads that humans cannot : AI\n",
            "7 : case study why artificial intelligence is a big part of ap s future : AI\n",
            "8 : banking and financial services analytics for competitive advantage : BigData\n",
            "1 : the ascent of the smarter faster lighter enterprise : CX\n"
          ],
          "name": "stdout"
        }
      ]
    },
    {
      "cell_type": "code",
      "metadata": {
        "colab": {
          "base_uri": "https://localhost:8080/"
        },
        "id": "cwZ1IFUbhuKr",
        "outputId": "1b35c873-da1d-403e-965b-3b4b0e758cc7"
      },
      "source": [
        "get_recommendation(95,5)"
      ],
      "execution_count": null,
      "outputs": [
        {
          "output_type": "stream",
          "text": [
            "Showing recommendations for user: 95\n",
            "====================================\n",
            "Assets with high ratings from user\n",
            "--------------------------------\n",
            "28 : manufacturing how to lighten up business models : Industry\n",
            "32 : the view inside technologies collide and industries transform : Industry\n",
            "46 : changing culture in a time of accelerating market change interview with vijay govindarajan : Industry\n",
            "51 : increasing speed in the digital era interview with jeanne ross : Industry\n",
            "81 : tcs cmo study how travel transportation and hospitality companies are digitally personalizing content to create market awareness : Industry\n",
            "--------------------------------\n",
            "Top 5 article recommendations\n",
            "--------------------------------\n",
            "84 : employee wellness analysis creating data driven hr policies that help save lives : HR\n",
            "83 : tcs cmo study stage conversion personalizing content to turn prospects into customers : Industry\n",
            "85 : why the emotional wellbeing of your employees should be a top priority during covid : HR\n",
            "76 : how quality engineering enables customer experience transformations : CX\n",
            "74 : proactive protection how companies can secure customer data in a hyper connected world : CX\n"
          ],
          "name": "stdout"
        }
      ]
    },
    {
      "cell_type": "code",
      "metadata": {
        "id": "bzOb5jxah3hL"
      },
      "source": [
        ""
      ],
      "execution_count": null,
      "outputs": []
    }
  ]
}