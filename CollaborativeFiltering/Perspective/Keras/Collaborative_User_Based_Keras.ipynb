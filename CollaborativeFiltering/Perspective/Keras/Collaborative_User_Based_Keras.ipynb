{
  "nbformat": 4,
  "nbformat_minor": 0,
  "metadata": {
    "colab": {
      "name": "Collaborative_User_Based_Keras.ipynb",
      "provenance": [],
      "collapsed_sections": [],
      "toc_visible": true,
      "mount_file_id": "1KL9ybHe2c9e6soeSSu8ArZLnYKHUbCeJ",
      "authorship_tag": "ABX9TyMHDKCoO1cCFU0yZ+ZbnFlq",
      "include_colab_link": true
    },
    "kernelspec": {
      "name": "python3",
      "display_name": "Python 3"
    },
    "accelerator": "GPU"
  },
  "cells": [
    {
      "cell_type": "markdown",
      "metadata": {
        "id": "view-in-github",
        "colab_type": "text"
      },
      "source": [
        "<a href=\"https://colab.research.google.com/github/shubhamksingh1/RecommendationEngine/blob/main/CollaborativeFiltering/Perspective/Keras/Collaborative_User_Based_Keras.ipynb\" target=\"_parent\"><img src=\"https://colab.research.google.com/assets/colab-badge.svg\" alt=\"Open In Colab\"/></a>"
      ]
    },
    {
      "cell_type": "markdown",
      "metadata": {
        "id": "McCtUPVymCDL"
      },
      "source": [
        "# Import Library"
      ]
    },
    {
      "cell_type": "code",
      "metadata": {
        "id": "6ghnlARglNmc"
      },
      "source": [
        "import pandas as pd\n",
        "import numpy as np\n",
        "import tensorflow as tf\n",
        "from tensorflow import keras\n",
        "from tensorflow.keras import layers\n",
        "import pickle\n",
        "import matplotlib.pyplot as plt\n"
      ],
      "execution_count": null,
      "outputs": []
    },
    {
      "cell_type": "markdown",
      "metadata": {
        "id": "oqiStGIYn5eI"
      },
      "source": [
        "# Read Files"
      ]
    },
    {
      "cell_type": "code",
      "metadata": {
        "id": "AxLaTQD-n4uB"
      },
      "source": [
        "df = pd.read_csv('/content/drive/MyDrive/Collaborative_Recommendation/rating_without_zero_v1.csv')"
      ],
      "execution_count": null,
      "outputs": []
    },
    {
      "cell_type": "markdown",
      "metadata": {
        "id": "euauou5UpQHp"
      },
      "source": [
        "## Preprocessing"
      ]
    },
    {
      "cell_type": "code",
      "metadata": {
        "colab": {
          "base_uri": "https://localhost:8080/"
        },
        "id": "2KB2dMHeoIkW",
        "outputId": "f31ae7f2-6029-40a2-cd4e-394d9a3a9f00"
      },
      "source": [
        "df.shape"
      ],
      "execution_count": null,
      "outputs": [
        {
          "output_type": "execute_result",
          "data": {
            "text/plain": [
              "(704, 3)"
            ]
          },
          "metadata": {
            "tags": []
          },
          "execution_count": 3
        }
      ]
    },
    {
      "cell_type": "code",
      "metadata": {
        "colab": {
          "base_uri": "https://localhost:8080/",
          "height": 206
        },
        "id": "g_EiAQ2yoEhf",
        "outputId": "64b6bb46-c4ab-42b1-ecb8-b61a749ec7ab"
      },
      "source": [
        "df.head()"
      ],
      "execution_count": null,
      "outputs": [
        {
          "output_type": "execute_result",
          "data": {
            "text/html": [
              "<div>\n",
              "<style scoped>\n",
              "    .dataframe tbody tr th:only-of-type {\n",
              "        vertical-align: middle;\n",
              "    }\n",
              "\n",
              "    .dataframe tbody tr th {\n",
              "        vertical-align: top;\n",
              "    }\n",
              "\n",
              "    .dataframe thead th {\n",
              "        text-align: right;\n",
              "    }\n",
              "</style>\n",
              "<table border=\"1\" class=\"dataframe\">\n",
              "  <thead>\n",
              "    <tr style=\"text-align: right;\">\n",
              "      <th></th>\n",
              "      <th>uid</th>\n",
              "      <th>asset_id</th>\n",
              "      <th>Ratings</th>\n",
              "    </tr>\n",
              "  </thead>\n",
              "  <tbody>\n",
              "    <tr>\n",
              "      <th>0</th>\n",
              "      <td>1</td>\n",
              "      <td>12</td>\n",
              "      <td>3</td>\n",
              "    </tr>\n",
              "    <tr>\n",
              "      <th>1</th>\n",
              "      <td>1</td>\n",
              "      <td>15</td>\n",
              "      <td>4</td>\n",
              "    </tr>\n",
              "    <tr>\n",
              "      <th>2</th>\n",
              "      <td>1</td>\n",
              "      <td>17</td>\n",
              "      <td>4</td>\n",
              "    </tr>\n",
              "    <tr>\n",
              "      <th>3</th>\n",
              "      <td>1</td>\n",
              "      <td>18</td>\n",
              "      <td>5</td>\n",
              "    </tr>\n",
              "    <tr>\n",
              "      <th>4</th>\n",
              "      <td>1</td>\n",
              "      <td>20</td>\n",
              "      <td>4</td>\n",
              "    </tr>\n",
              "  </tbody>\n",
              "</table>\n",
              "</div>"
            ],
            "text/plain": [
              "   uid  asset_id  Ratings\n",
              "0    1        12        3\n",
              "1    1        15        4\n",
              "2    1        17        4\n",
              "3    1        18        5\n",
              "4    1        20        4"
            ]
          },
          "metadata": {
            "tags": []
          },
          "execution_count": 4
        }
      ]
    },
    {
      "cell_type": "code",
      "metadata": {
        "colab": {
          "base_uri": "https://localhost:8080/",
          "height": 206
        },
        "id": "FrROWlroomcV",
        "outputId": "b4222026-c070-462c-d70b-a9958eb72981"
      },
      "source": [
        "df.tail()"
      ],
      "execution_count": null,
      "outputs": [
        {
          "output_type": "execute_result",
          "data": {
            "text/html": [
              "<div>\n",
              "<style scoped>\n",
              "    .dataframe tbody tr th:only-of-type {\n",
              "        vertical-align: middle;\n",
              "    }\n",
              "\n",
              "    .dataframe tbody tr th {\n",
              "        vertical-align: top;\n",
              "    }\n",
              "\n",
              "    .dataframe thead th {\n",
              "        text-align: right;\n",
              "    }\n",
              "</style>\n",
              "<table border=\"1\" class=\"dataframe\">\n",
              "  <thead>\n",
              "    <tr style=\"text-align: right;\">\n",
              "      <th></th>\n",
              "      <th>uid</th>\n",
              "      <th>asset_id</th>\n",
              "      <th>Ratings</th>\n",
              "    </tr>\n",
              "  </thead>\n",
              "  <tbody>\n",
              "    <tr>\n",
              "      <th>699</th>\n",
              "      <td>100</td>\n",
              "      <td>53</td>\n",
              "      <td>5</td>\n",
              "    </tr>\n",
              "    <tr>\n",
              "      <th>700</th>\n",
              "      <td>100</td>\n",
              "      <td>63</td>\n",
              "      <td>3</td>\n",
              "    </tr>\n",
              "    <tr>\n",
              "      <th>701</th>\n",
              "      <td>100</td>\n",
              "      <td>67</td>\n",
              "      <td>5</td>\n",
              "    </tr>\n",
              "    <tr>\n",
              "      <th>702</th>\n",
              "      <td>100</td>\n",
              "      <td>78</td>\n",
              "      <td>2</td>\n",
              "    </tr>\n",
              "    <tr>\n",
              "      <th>703</th>\n",
              "      <td>100</td>\n",
              "      <td>81</td>\n",
              "      <td>5</td>\n",
              "    </tr>\n",
              "  </tbody>\n",
              "</table>\n",
              "</div>"
            ],
            "text/plain": [
              "     uid  asset_id  Ratings\n",
              "699  100        53        5\n",
              "700  100        63        3\n",
              "701  100        67        5\n",
              "702  100        78        2\n",
              "703  100        81        5"
            ]
          },
          "metadata": {
            "tags": []
          },
          "execution_count": 5
        }
      ]
    },
    {
      "cell_type": "code",
      "metadata": {
        "colab": {
          "base_uri": "https://localhost:8080/"
        },
        "id": "Mzydny6Ron7S",
        "outputId": "a5201086-c080-4544-d753-ac1fad2ca7a3"
      },
      "source": [
        "print(sorted(df.uid.unique()))"
      ],
      "execution_count": null,
      "outputs": [
        {
          "output_type": "stream",
          "text": [
            "[1, 2, 3, 4, 5, 6, 7, 8, 9, 10, 11, 12, 13, 14, 15, 16, 17, 18, 19, 20, 21, 22, 23, 24, 25, 26, 27, 28, 29, 30, 31, 32, 33, 34, 35, 36, 37, 38, 39, 40, 41, 42, 43, 44, 45, 46, 47, 48, 49, 50, 51, 52, 53, 54, 55, 56, 57, 58, 59, 60, 61, 62, 63, 64, 65, 66, 67, 68, 69, 70, 71, 72, 73, 74, 75, 76, 77, 78, 79, 80, 81, 82, 83, 84, 85, 86, 87, 88, 89, 90, 91, 92, 93, 94, 95, 96, 97, 98, 99, 100]\n"
          ],
          "name": "stdout"
        }
      ]
    },
    {
      "cell_type": "code",
      "metadata": {
        "colab": {
          "base_uri": "https://localhost:8080/"
        },
        "id": "-x2hw2fmo0qC",
        "outputId": "6c282a63-b6ae-4717-cecf-97060c66b750"
      },
      "source": [
        "df.uid.value_counts()[-20:]"
      ],
      "execution_count": null,
      "outputs": [
        {
          "output_type": "execute_result",
          "data": {
            "text/plain": [
              "45    3\n",
              "75    3\n",
              "38    3\n",
              "80    3\n",
              "79    3\n",
              "78    3\n",
              "37    3\n",
              "76    3\n",
              "42    3\n",
              "44    3\n",
              "25    3\n",
              "49    3\n",
              "41    3\n",
              "55    3\n",
              "54    3\n",
              "46    2\n",
              "59    2\n",
              "66    2\n",
              "83    2\n",
              "52    2\n",
              "Name: uid, dtype: int64"
            ]
          },
          "metadata": {
            "tags": []
          },
          "execution_count": 7
        }
      ]
    },
    {
      "cell_type": "code",
      "metadata": {
        "colab": {
          "base_uri": "https://localhost:8080/"
        },
        "id": "wx5AU81vorlS",
        "outputId": "ec7184d5-3fa3-4c57-962f-c87d5ef9fb2b"
      },
      "source": [
        "df.uid.value_counts()[-20:]"
      ],
      "execution_count": null,
      "outputs": [
        {
          "output_type": "execute_result",
          "data": {
            "text/plain": [
              "45    3\n",
              "75    3\n",
              "38    3\n",
              "80    3\n",
              "79    3\n",
              "78    3\n",
              "37    3\n",
              "76    3\n",
              "42    3\n",
              "44    3\n",
              "25    3\n",
              "49    3\n",
              "41    3\n",
              "55    3\n",
              "54    3\n",
              "46    2\n",
              "59    2\n",
              "66    2\n",
              "83    2\n",
              "52    2\n",
              "Name: uid, dtype: int64"
            ]
          },
          "metadata": {
            "tags": []
          },
          "execution_count": 10
        }
      ]
    },
    {
      "cell_type": "markdown",
      "metadata": {
        "id": "aOSY22FtrPiY"
      },
      "source": [
        "### First, need to perform some preprocessing to encode users and assets as integer indices.\n"
      ]
    },
    {
      "cell_type": "code",
      "metadata": {
        "id": "N_XzONVFpu35"
      },
      "source": [
        "user_ids = sorted(df[\"uid\"].unique().tolist())\n",
        "user2user_encoded = {x: i for i, x in enumerate(user_ids)}\n",
        "userencoded2user = {i: x for i, x in enumerate(user_ids)}\n"
      ],
      "execution_count": null,
      "outputs": []
    },
    {
      "cell_type": "code",
      "metadata": {
        "colab": {
          "base_uri": "https://localhost:8080/"
        },
        "id": "qUWXkupgqiJx",
        "outputId": "cb51d5c0-143e-4af8-aac7-4f81be74e97f"
      },
      "source": [
        "print(user_ids)\n",
        "print(user2user_encoded)\n",
        "print(userencoded2user)\n"
      ],
      "execution_count": null,
      "outputs": [
        {
          "output_type": "stream",
          "text": [
            "[1, 2, 3, 4, 5, 6, 7, 8, 9, 10, 11, 12, 13, 14, 15, 16, 17, 18, 19, 20, 21, 22, 23, 24, 25, 26, 27, 28, 29, 30, 31, 32, 33, 34, 35, 36, 37, 38, 39, 40, 41, 42, 43, 44, 45, 46, 47, 48, 49, 50, 51, 52, 53, 54, 55, 56, 57, 58, 59, 60, 61, 62, 63, 64, 65, 66, 67, 68, 69, 70, 71, 72, 73, 74, 75, 76, 77, 78, 79, 80, 81, 82, 83, 84, 85, 86, 87, 88, 89, 90, 91, 92, 93, 94, 95, 96, 97, 98, 99, 100]\n",
            "{1: 0, 2: 1, 3: 2, 4: 3, 5: 4, 6: 5, 7: 6, 8: 7, 9: 8, 10: 9, 11: 10, 12: 11, 13: 12, 14: 13, 15: 14, 16: 15, 17: 16, 18: 17, 19: 18, 20: 19, 21: 20, 22: 21, 23: 22, 24: 23, 25: 24, 26: 25, 27: 26, 28: 27, 29: 28, 30: 29, 31: 30, 32: 31, 33: 32, 34: 33, 35: 34, 36: 35, 37: 36, 38: 37, 39: 38, 40: 39, 41: 40, 42: 41, 43: 42, 44: 43, 45: 44, 46: 45, 47: 46, 48: 47, 49: 48, 50: 49, 51: 50, 52: 51, 53: 52, 54: 53, 55: 54, 56: 55, 57: 56, 58: 57, 59: 58, 60: 59, 61: 60, 62: 61, 63: 62, 64: 63, 65: 64, 66: 65, 67: 66, 68: 67, 69: 68, 70: 69, 71: 70, 72: 71, 73: 72, 74: 73, 75: 74, 76: 75, 77: 76, 78: 77, 79: 78, 80: 79, 81: 80, 82: 81, 83: 82, 84: 83, 85: 84, 86: 85, 87: 86, 88: 87, 89: 88, 90: 89, 91: 90, 92: 91, 93: 92, 94: 93, 95: 94, 96: 95, 97: 96, 98: 97, 99: 98, 100: 99}\n",
            "{0: 1, 1: 2, 2: 3, 3: 4, 4: 5, 5: 6, 6: 7, 7: 8, 8: 9, 9: 10, 10: 11, 11: 12, 12: 13, 13: 14, 14: 15, 15: 16, 16: 17, 17: 18, 18: 19, 19: 20, 20: 21, 21: 22, 22: 23, 23: 24, 24: 25, 25: 26, 26: 27, 27: 28, 28: 29, 29: 30, 30: 31, 31: 32, 32: 33, 33: 34, 34: 35, 35: 36, 36: 37, 37: 38, 38: 39, 39: 40, 40: 41, 41: 42, 42: 43, 43: 44, 44: 45, 45: 46, 46: 47, 47: 48, 48: 49, 49: 50, 50: 51, 51: 52, 52: 53, 53: 54, 54: 55, 55: 56, 56: 57, 57: 58, 58: 59, 59: 60, 60: 61, 61: 62, 62: 63, 63: 64, 64: 65, 65: 66, 66: 67, 67: 68, 68: 69, 69: 70, 70: 71, 71: 72, 72: 73, 73: 74, 74: 75, 75: 76, 76: 77, 77: 78, 78: 79, 79: 80, 80: 81, 81: 82, 82: 83, 83: 84, 84: 85, 85: 86, 86: 87, 87: 88, 88: 89, 89: 90, 90: 91, 91: 92, 92: 93, 93: 94, 94: 95, 95: 96, 96: 97, 97: 98, 98: 99, 99: 100}\n"
          ],
          "name": "stdout"
        }
      ]
    },
    {
      "cell_type": "code",
      "metadata": {
        "id": "2otYea8lqlg1"
      },
      "source": [
        "asset_ids = sorted(df[\"asset_id\"].unique().tolist())\n",
        "asset2asset_encoded = {x: i for i, x in enumerate(asset_ids)}\n",
        "asset_encoded2asset = {i: x for i, x in enumerate(asset_ids)}"
      ],
      "execution_count": null,
      "outputs": []
    },
    {
      "cell_type": "code",
      "metadata": {
        "colab": {
          "base_uri": "https://localhost:8080/"
        },
        "id": "VAxS8SCCtGW1",
        "outputId": "c29157e0-0ea6-40a6-b0a1-67d268c85a00"
      },
      "source": [
        "print(asset_ids)\n",
        "print(asset2asset_encoded)\n",
        "print(asset_encoded2asset)"
      ],
      "execution_count": null,
      "outputs": [
        {
          "output_type": "stream",
          "text": [
            "[1, 2, 3, 4, 5, 6, 7, 8, 9, 10, 11, 12, 13, 14, 15, 16, 17, 18, 19, 20, 21, 22, 23, 24, 25, 26, 27, 28, 29, 30, 31, 32, 33, 34, 35, 36, 37, 38, 39, 40, 41, 42, 43, 44, 45, 46, 47, 48, 49, 50, 51, 52, 53, 54, 55, 56, 57, 59, 60, 61, 62, 63, 65, 66, 67, 68, 69, 70, 71, 72, 73, 74, 75, 76, 77, 78, 79, 80, 81, 83, 84, 85]\n",
            "{1: 0, 2: 1, 3: 2, 4: 3, 5: 4, 6: 5, 7: 6, 8: 7, 9: 8, 10: 9, 11: 10, 12: 11, 13: 12, 14: 13, 15: 14, 16: 15, 17: 16, 18: 17, 19: 18, 20: 19, 21: 20, 22: 21, 23: 22, 24: 23, 25: 24, 26: 25, 27: 26, 28: 27, 29: 28, 30: 29, 31: 30, 32: 31, 33: 32, 34: 33, 35: 34, 36: 35, 37: 36, 38: 37, 39: 38, 40: 39, 41: 40, 42: 41, 43: 42, 44: 43, 45: 44, 46: 45, 47: 46, 48: 47, 49: 48, 50: 49, 51: 50, 52: 51, 53: 52, 54: 53, 55: 54, 56: 55, 57: 56, 59: 57, 60: 58, 61: 59, 62: 60, 63: 61, 65: 62, 66: 63, 67: 64, 68: 65, 69: 66, 70: 67, 71: 68, 72: 69, 73: 70, 74: 71, 75: 72, 76: 73, 77: 74, 78: 75, 79: 76, 80: 77, 81: 78, 83: 79, 84: 80, 85: 81}\n",
            "{0: 1, 1: 2, 2: 3, 3: 4, 4: 5, 5: 6, 6: 7, 7: 8, 8: 9, 9: 10, 10: 11, 11: 12, 12: 13, 13: 14, 14: 15, 15: 16, 16: 17, 17: 18, 18: 19, 19: 20, 20: 21, 21: 22, 22: 23, 23: 24, 24: 25, 25: 26, 26: 27, 27: 28, 28: 29, 29: 30, 30: 31, 31: 32, 32: 33, 33: 34, 34: 35, 35: 36, 36: 37, 37: 38, 38: 39, 39: 40, 40: 41, 41: 42, 42: 43, 43: 44, 44: 45, 45: 46, 46: 47, 47: 48, 48: 49, 49: 50, 50: 51, 51: 52, 52: 53, 53: 54, 54: 55, 55: 56, 56: 57, 57: 59, 58: 60, 59: 61, 60: 62, 61: 63, 62: 65, 63: 66, 64: 67, 65: 68, 66: 69, 67: 70, 68: 71, 69: 72, 70: 73, 71: 74, 72: 75, 73: 76, 74: 77, 75: 78, 76: 79, 77: 80, 78: 81, 79: 83, 80: 84, 81: 85}\n"
          ],
          "name": "stdout"
        }
      ]
    },
    {
      "cell_type": "code",
      "metadata": {
        "colab": {
          "base_uri": "https://localhost:8080/",
          "height": 424
        },
        "id": "Sh9-PsccufPt",
        "outputId": "ddb5c302-ddb2-4a58-b1fd-3e4670c3a1ff"
      },
      "source": [
        "df"
      ],
      "execution_count": null,
      "outputs": [
        {
          "output_type": "execute_result",
          "data": {
            "text/html": [
              "<div>\n",
              "<style scoped>\n",
              "    .dataframe tbody tr th:only-of-type {\n",
              "        vertical-align: middle;\n",
              "    }\n",
              "\n",
              "    .dataframe tbody tr th {\n",
              "        vertical-align: top;\n",
              "    }\n",
              "\n",
              "    .dataframe thead th {\n",
              "        text-align: right;\n",
              "    }\n",
              "</style>\n",
              "<table border=\"1\" class=\"dataframe\">\n",
              "  <thead>\n",
              "    <tr style=\"text-align: right;\">\n",
              "      <th></th>\n",
              "      <th>uid</th>\n",
              "      <th>asset_id</th>\n",
              "      <th>Ratings</th>\n",
              "    </tr>\n",
              "  </thead>\n",
              "  <tbody>\n",
              "    <tr>\n",
              "      <th>0</th>\n",
              "      <td>1</td>\n",
              "      <td>12</td>\n",
              "      <td>3</td>\n",
              "    </tr>\n",
              "    <tr>\n",
              "      <th>1</th>\n",
              "      <td>1</td>\n",
              "      <td>15</td>\n",
              "      <td>4</td>\n",
              "    </tr>\n",
              "    <tr>\n",
              "      <th>2</th>\n",
              "      <td>1</td>\n",
              "      <td>17</td>\n",
              "      <td>4</td>\n",
              "    </tr>\n",
              "    <tr>\n",
              "      <th>3</th>\n",
              "      <td>1</td>\n",
              "      <td>18</td>\n",
              "      <td>5</td>\n",
              "    </tr>\n",
              "    <tr>\n",
              "      <th>4</th>\n",
              "      <td>1</td>\n",
              "      <td>20</td>\n",
              "      <td>4</td>\n",
              "    </tr>\n",
              "    <tr>\n",
              "      <th>...</th>\n",
              "      <td>...</td>\n",
              "      <td>...</td>\n",
              "      <td>...</td>\n",
              "    </tr>\n",
              "    <tr>\n",
              "      <th>699</th>\n",
              "      <td>100</td>\n",
              "      <td>53</td>\n",
              "      <td>5</td>\n",
              "    </tr>\n",
              "    <tr>\n",
              "      <th>700</th>\n",
              "      <td>100</td>\n",
              "      <td>63</td>\n",
              "      <td>3</td>\n",
              "    </tr>\n",
              "    <tr>\n",
              "      <th>701</th>\n",
              "      <td>100</td>\n",
              "      <td>67</td>\n",
              "      <td>5</td>\n",
              "    </tr>\n",
              "    <tr>\n",
              "      <th>702</th>\n",
              "      <td>100</td>\n",
              "      <td>78</td>\n",
              "      <td>2</td>\n",
              "    </tr>\n",
              "    <tr>\n",
              "      <th>703</th>\n",
              "      <td>100</td>\n",
              "      <td>81</td>\n",
              "      <td>5</td>\n",
              "    </tr>\n",
              "  </tbody>\n",
              "</table>\n",
              "<p>704 rows × 3 columns</p>\n",
              "</div>"
            ],
            "text/plain": [
              "     uid  asset_id  Ratings\n",
              "0      1        12        3\n",
              "1      1        15        4\n",
              "2      1        17        4\n",
              "3      1        18        5\n",
              "4      1        20        4\n",
              "..   ...       ...      ...\n",
              "699  100        53        5\n",
              "700  100        63        3\n",
              "701  100        67        5\n",
              "702  100        78        2\n",
              "703  100        81        5\n",
              "\n",
              "[704 rows x 3 columns]"
            ]
          },
          "metadata": {
            "tags": []
          },
          "execution_count": 15
        }
      ]
    },
    {
      "cell_type": "code",
      "metadata": {
        "id": "PMj9s3vDtJ-L"
      },
      "source": [
        "\n",
        "df[\"user\"] = df[\"uid\"].map(user2user_encoded)\n",
        "df[\"asset\"] = df[\"asset_id\"].map(asset2asset_encoded)"
      ],
      "execution_count": null,
      "outputs": []
    },
    {
      "cell_type": "code",
      "metadata": {
        "colab": {
          "base_uri": "https://localhost:8080/",
          "height": 424
        },
        "id": "N7GxAWCvuh-M",
        "outputId": "d01f8668-4d3a-40fc-d2c2-eec88081e5a0"
      },
      "source": [
        "df"
      ],
      "execution_count": null,
      "outputs": [
        {
          "output_type": "execute_result",
          "data": {
            "text/html": [
              "<div>\n",
              "<style scoped>\n",
              "    .dataframe tbody tr th:only-of-type {\n",
              "        vertical-align: middle;\n",
              "    }\n",
              "\n",
              "    .dataframe tbody tr th {\n",
              "        vertical-align: top;\n",
              "    }\n",
              "\n",
              "    .dataframe thead th {\n",
              "        text-align: right;\n",
              "    }\n",
              "</style>\n",
              "<table border=\"1\" class=\"dataframe\">\n",
              "  <thead>\n",
              "    <tr style=\"text-align: right;\">\n",
              "      <th></th>\n",
              "      <th>uid</th>\n",
              "      <th>asset_id</th>\n",
              "      <th>Ratings</th>\n",
              "      <th>user</th>\n",
              "      <th>asset</th>\n",
              "    </tr>\n",
              "  </thead>\n",
              "  <tbody>\n",
              "    <tr>\n",
              "      <th>0</th>\n",
              "      <td>1</td>\n",
              "      <td>12</td>\n",
              "      <td>3</td>\n",
              "      <td>0</td>\n",
              "      <td>11</td>\n",
              "    </tr>\n",
              "    <tr>\n",
              "      <th>1</th>\n",
              "      <td>1</td>\n",
              "      <td>15</td>\n",
              "      <td>4</td>\n",
              "      <td>0</td>\n",
              "      <td>14</td>\n",
              "    </tr>\n",
              "    <tr>\n",
              "      <th>2</th>\n",
              "      <td>1</td>\n",
              "      <td>17</td>\n",
              "      <td>4</td>\n",
              "      <td>0</td>\n",
              "      <td>16</td>\n",
              "    </tr>\n",
              "    <tr>\n",
              "      <th>3</th>\n",
              "      <td>1</td>\n",
              "      <td>18</td>\n",
              "      <td>5</td>\n",
              "      <td>0</td>\n",
              "      <td>17</td>\n",
              "    </tr>\n",
              "    <tr>\n",
              "      <th>4</th>\n",
              "      <td>1</td>\n",
              "      <td>20</td>\n",
              "      <td>4</td>\n",
              "      <td>0</td>\n",
              "      <td>19</td>\n",
              "    </tr>\n",
              "    <tr>\n",
              "      <th>...</th>\n",
              "      <td>...</td>\n",
              "      <td>...</td>\n",
              "      <td>...</td>\n",
              "      <td>...</td>\n",
              "      <td>...</td>\n",
              "    </tr>\n",
              "    <tr>\n",
              "      <th>699</th>\n",
              "      <td>100</td>\n",
              "      <td>53</td>\n",
              "      <td>5</td>\n",
              "      <td>99</td>\n",
              "      <td>52</td>\n",
              "    </tr>\n",
              "    <tr>\n",
              "      <th>700</th>\n",
              "      <td>100</td>\n",
              "      <td>63</td>\n",
              "      <td>3</td>\n",
              "      <td>99</td>\n",
              "      <td>61</td>\n",
              "    </tr>\n",
              "    <tr>\n",
              "      <th>701</th>\n",
              "      <td>100</td>\n",
              "      <td>67</td>\n",
              "      <td>5</td>\n",
              "      <td>99</td>\n",
              "      <td>64</td>\n",
              "    </tr>\n",
              "    <tr>\n",
              "      <th>702</th>\n",
              "      <td>100</td>\n",
              "      <td>78</td>\n",
              "      <td>2</td>\n",
              "      <td>99</td>\n",
              "      <td>75</td>\n",
              "    </tr>\n",
              "    <tr>\n",
              "      <th>703</th>\n",
              "      <td>100</td>\n",
              "      <td>81</td>\n",
              "      <td>5</td>\n",
              "      <td>99</td>\n",
              "      <td>78</td>\n",
              "    </tr>\n",
              "  </tbody>\n",
              "</table>\n",
              "<p>704 rows × 5 columns</p>\n",
              "</div>"
            ],
            "text/plain": [
              "     uid  asset_id  Ratings  user  asset\n",
              "0      1        12        3     0     11\n",
              "1      1        15        4     0     14\n",
              "2      1        17        4     0     16\n",
              "3      1        18        5     0     17\n",
              "4      1        20        4     0     19\n",
              "..   ...       ...      ...   ...    ...\n",
              "699  100        53        5    99     52\n",
              "700  100        63        3    99     61\n",
              "701  100        67        5    99     64\n",
              "702  100        78        2    99     75\n",
              "703  100        81        5    99     78\n",
              "\n",
              "[704 rows x 5 columns]"
            ]
          },
          "metadata": {
            "tags": []
          },
          "execution_count": 17
        }
      ]
    },
    {
      "cell_type": "code",
      "metadata": {
        "colab": {
          "base_uri": "https://localhost:8080/"
        },
        "id": "X1X3uVfuuojd",
        "outputId": "95734d0c-2b43-4e43-ee2b-4be2345a2f60"
      },
      "source": [
        "num_users = len(user2user_encoded)\n",
        "num_assets = len(asset_encoded2asset)\n",
        "print(\"num_users\",num_users)\n",
        "print(\"num_assets\",num_assets)"
      ],
      "execution_count": null,
      "outputs": [
        {
          "output_type": "stream",
          "text": [
            "num_users 100\n",
            "num_assets 82\n"
          ],
          "name": "stdout"
        }
      ]
    },
    {
      "cell_type": "code",
      "metadata": {
        "id": "3yU1zJMXu74u"
      },
      "source": [
        "\n",
        "df[\"rating\"] = df[\"Ratings\"].values.astype(np.float32)"
      ],
      "execution_count": null,
      "outputs": []
    },
    {
      "cell_type": "code",
      "metadata": {
        "colab": {
          "base_uri": "https://localhost:8080/",
          "height": 424
        },
        "id": "v-_TXqVDvR80",
        "outputId": "de2e5aa6-e279-455d-d71c-3f46daf80aac"
      },
      "source": [
        "df"
      ],
      "execution_count": null,
      "outputs": [
        {
          "output_type": "execute_result",
          "data": {
            "text/html": [
              "<div>\n",
              "<style scoped>\n",
              "    .dataframe tbody tr th:only-of-type {\n",
              "        vertical-align: middle;\n",
              "    }\n",
              "\n",
              "    .dataframe tbody tr th {\n",
              "        vertical-align: top;\n",
              "    }\n",
              "\n",
              "    .dataframe thead th {\n",
              "        text-align: right;\n",
              "    }\n",
              "</style>\n",
              "<table border=\"1\" class=\"dataframe\">\n",
              "  <thead>\n",
              "    <tr style=\"text-align: right;\">\n",
              "      <th></th>\n",
              "      <th>uid</th>\n",
              "      <th>asset_id</th>\n",
              "      <th>Ratings</th>\n",
              "      <th>user</th>\n",
              "      <th>asset</th>\n",
              "      <th>rating</th>\n",
              "    </tr>\n",
              "  </thead>\n",
              "  <tbody>\n",
              "    <tr>\n",
              "      <th>0</th>\n",
              "      <td>1</td>\n",
              "      <td>12</td>\n",
              "      <td>3</td>\n",
              "      <td>0</td>\n",
              "      <td>11</td>\n",
              "      <td>3.0</td>\n",
              "    </tr>\n",
              "    <tr>\n",
              "      <th>1</th>\n",
              "      <td>1</td>\n",
              "      <td>15</td>\n",
              "      <td>4</td>\n",
              "      <td>0</td>\n",
              "      <td>14</td>\n",
              "      <td>4.0</td>\n",
              "    </tr>\n",
              "    <tr>\n",
              "      <th>2</th>\n",
              "      <td>1</td>\n",
              "      <td>17</td>\n",
              "      <td>4</td>\n",
              "      <td>0</td>\n",
              "      <td>16</td>\n",
              "      <td>4.0</td>\n",
              "    </tr>\n",
              "    <tr>\n",
              "      <th>3</th>\n",
              "      <td>1</td>\n",
              "      <td>18</td>\n",
              "      <td>5</td>\n",
              "      <td>0</td>\n",
              "      <td>17</td>\n",
              "      <td>5.0</td>\n",
              "    </tr>\n",
              "    <tr>\n",
              "      <th>4</th>\n",
              "      <td>1</td>\n",
              "      <td>20</td>\n",
              "      <td>4</td>\n",
              "      <td>0</td>\n",
              "      <td>19</td>\n",
              "      <td>4.0</td>\n",
              "    </tr>\n",
              "    <tr>\n",
              "      <th>...</th>\n",
              "      <td>...</td>\n",
              "      <td>...</td>\n",
              "      <td>...</td>\n",
              "      <td>...</td>\n",
              "      <td>...</td>\n",
              "      <td>...</td>\n",
              "    </tr>\n",
              "    <tr>\n",
              "      <th>699</th>\n",
              "      <td>100</td>\n",
              "      <td>53</td>\n",
              "      <td>5</td>\n",
              "      <td>99</td>\n",
              "      <td>52</td>\n",
              "      <td>5.0</td>\n",
              "    </tr>\n",
              "    <tr>\n",
              "      <th>700</th>\n",
              "      <td>100</td>\n",
              "      <td>63</td>\n",
              "      <td>3</td>\n",
              "      <td>99</td>\n",
              "      <td>61</td>\n",
              "      <td>3.0</td>\n",
              "    </tr>\n",
              "    <tr>\n",
              "      <th>701</th>\n",
              "      <td>100</td>\n",
              "      <td>67</td>\n",
              "      <td>5</td>\n",
              "      <td>99</td>\n",
              "      <td>64</td>\n",
              "      <td>5.0</td>\n",
              "    </tr>\n",
              "    <tr>\n",
              "      <th>702</th>\n",
              "      <td>100</td>\n",
              "      <td>78</td>\n",
              "      <td>2</td>\n",
              "      <td>99</td>\n",
              "      <td>75</td>\n",
              "      <td>2.0</td>\n",
              "    </tr>\n",
              "    <tr>\n",
              "      <th>703</th>\n",
              "      <td>100</td>\n",
              "      <td>81</td>\n",
              "      <td>5</td>\n",
              "      <td>99</td>\n",
              "      <td>78</td>\n",
              "      <td>5.0</td>\n",
              "    </tr>\n",
              "  </tbody>\n",
              "</table>\n",
              "<p>704 rows × 6 columns</p>\n",
              "</div>"
            ],
            "text/plain": [
              "     uid  asset_id  Ratings  user  asset  rating\n",
              "0      1        12        3     0     11     3.0\n",
              "1      1        15        4     0     14     4.0\n",
              "2      1        17        4     0     16     4.0\n",
              "3      1        18        5     0     17     5.0\n",
              "4      1        20        4     0     19     4.0\n",
              "..   ...       ...      ...   ...    ...     ...\n",
              "699  100        53        5    99     52     5.0\n",
              "700  100        63        3    99     61     3.0\n",
              "701  100        67        5    99     64     5.0\n",
              "702  100        78        2    99     75     2.0\n",
              "703  100        81        5    99     78     5.0\n",
              "\n",
              "[704 rows x 6 columns]"
            ]
          },
          "metadata": {
            "tags": []
          },
          "execution_count": 20
        }
      ]
    },
    {
      "cell_type": "code",
      "metadata": {
        "id": "3Etc8DGQvYFO"
      },
      "source": [
        "\n",
        "# min and max ratings will be used to normalize the ratings later\n",
        "min_rating = min(df[\"rating\"])\n",
        "max_rating = max(df[\"rating\"])"
      ],
      "execution_count": null,
      "outputs": []
    },
    {
      "cell_type": "code",
      "metadata": {
        "colab": {
          "base_uri": "https://localhost:8080/"
        },
        "id": "xvM9j3mVv2X0",
        "outputId": "40401fb5-7dac-4b19-d06c-64fd5419d6df"
      },
      "source": [
        "\n",
        "\n",
        "print(\n",
        "    \"Number of users: {}, Number of Assets: {}, Min rating: {}, Max rating: {}\".format(\n",
        "        num_users, num_assets, min_rating, max_rating\n",
        "    )\n",
        ")\n"
      ],
      "execution_count": null,
      "outputs": [
        {
          "output_type": "stream",
          "text": [
            "Number of users: 100, Number of Assets: 82, Min rating: 1.0, Max rating: 5.0\n"
          ],
          "name": "stdout"
        }
      ]
    },
    {
      "cell_type": "markdown",
      "metadata": {
        "id": "YjxelsUtwXQ3"
      },
      "source": [
        "### Preparing Training And Validation Data"
      ]
    },
    {
      "cell_type": "code",
      "metadata": {
        "colab": {
          "base_uri": "https://localhost:8080/",
          "height": 424
        },
        "id": "8P1sPIWHv5oF",
        "outputId": "c20211a9-e0c3-488a-aa4c-b94fbb70f53f"
      },
      "source": [
        "df"
      ],
      "execution_count": null,
      "outputs": [
        {
          "output_type": "execute_result",
          "data": {
            "text/html": [
              "<div>\n",
              "<style scoped>\n",
              "    .dataframe tbody tr th:only-of-type {\n",
              "        vertical-align: middle;\n",
              "    }\n",
              "\n",
              "    .dataframe tbody tr th {\n",
              "        vertical-align: top;\n",
              "    }\n",
              "\n",
              "    .dataframe thead th {\n",
              "        text-align: right;\n",
              "    }\n",
              "</style>\n",
              "<table border=\"1\" class=\"dataframe\">\n",
              "  <thead>\n",
              "    <tr style=\"text-align: right;\">\n",
              "      <th></th>\n",
              "      <th>uid</th>\n",
              "      <th>asset_id</th>\n",
              "      <th>Ratings</th>\n",
              "      <th>user</th>\n",
              "      <th>asset</th>\n",
              "      <th>rating</th>\n",
              "    </tr>\n",
              "  </thead>\n",
              "  <tbody>\n",
              "    <tr>\n",
              "      <th>0</th>\n",
              "      <td>1</td>\n",
              "      <td>12</td>\n",
              "      <td>3</td>\n",
              "      <td>0</td>\n",
              "      <td>11</td>\n",
              "      <td>3.0</td>\n",
              "    </tr>\n",
              "    <tr>\n",
              "      <th>1</th>\n",
              "      <td>1</td>\n",
              "      <td>15</td>\n",
              "      <td>4</td>\n",
              "      <td>0</td>\n",
              "      <td>14</td>\n",
              "      <td>4.0</td>\n",
              "    </tr>\n",
              "    <tr>\n",
              "      <th>2</th>\n",
              "      <td>1</td>\n",
              "      <td>17</td>\n",
              "      <td>4</td>\n",
              "      <td>0</td>\n",
              "      <td>16</td>\n",
              "      <td>4.0</td>\n",
              "    </tr>\n",
              "    <tr>\n",
              "      <th>3</th>\n",
              "      <td>1</td>\n",
              "      <td>18</td>\n",
              "      <td>5</td>\n",
              "      <td>0</td>\n",
              "      <td>17</td>\n",
              "      <td>5.0</td>\n",
              "    </tr>\n",
              "    <tr>\n",
              "      <th>4</th>\n",
              "      <td>1</td>\n",
              "      <td>20</td>\n",
              "      <td>4</td>\n",
              "      <td>0</td>\n",
              "      <td>19</td>\n",
              "      <td>4.0</td>\n",
              "    </tr>\n",
              "    <tr>\n",
              "      <th>...</th>\n",
              "      <td>...</td>\n",
              "      <td>...</td>\n",
              "      <td>...</td>\n",
              "      <td>...</td>\n",
              "      <td>...</td>\n",
              "      <td>...</td>\n",
              "    </tr>\n",
              "    <tr>\n",
              "      <th>699</th>\n",
              "      <td>100</td>\n",
              "      <td>53</td>\n",
              "      <td>5</td>\n",
              "      <td>99</td>\n",
              "      <td>52</td>\n",
              "      <td>5.0</td>\n",
              "    </tr>\n",
              "    <tr>\n",
              "      <th>700</th>\n",
              "      <td>100</td>\n",
              "      <td>63</td>\n",
              "      <td>3</td>\n",
              "      <td>99</td>\n",
              "      <td>61</td>\n",
              "      <td>3.0</td>\n",
              "    </tr>\n",
              "    <tr>\n",
              "      <th>701</th>\n",
              "      <td>100</td>\n",
              "      <td>67</td>\n",
              "      <td>5</td>\n",
              "      <td>99</td>\n",
              "      <td>64</td>\n",
              "      <td>5.0</td>\n",
              "    </tr>\n",
              "    <tr>\n",
              "      <th>702</th>\n",
              "      <td>100</td>\n",
              "      <td>78</td>\n",
              "      <td>2</td>\n",
              "      <td>99</td>\n",
              "      <td>75</td>\n",
              "      <td>2.0</td>\n",
              "    </tr>\n",
              "    <tr>\n",
              "      <th>703</th>\n",
              "      <td>100</td>\n",
              "      <td>81</td>\n",
              "      <td>5</td>\n",
              "      <td>99</td>\n",
              "      <td>78</td>\n",
              "      <td>5.0</td>\n",
              "    </tr>\n",
              "  </tbody>\n",
              "</table>\n",
              "<p>704 rows × 6 columns</p>\n",
              "</div>"
            ],
            "text/plain": [
              "     uid  asset_id  Ratings  user  asset  rating\n",
              "0      1        12        3     0     11     3.0\n",
              "1      1        15        4     0     14     4.0\n",
              "2      1        17        4     0     16     4.0\n",
              "3      1        18        5     0     17     5.0\n",
              "4      1        20        4     0     19     4.0\n",
              "..   ...       ...      ...   ...    ...     ...\n",
              "699  100        53        5    99     52     5.0\n",
              "700  100        63        3    99     61     3.0\n",
              "701  100        67        5    99     64     5.0\n",
              "702  100        78        2    99     75     2.0\n",
              "703  100        81        5    99     78     5.0\n",
              "\n",
              "[704 rows x 6 columns]"
            ]
          },
          "metadata": {
            "tags": []
          },
          "execution_count": 23
        }
      ]
    },
    {
      "cell_type": "code",
      "metadata": {
        "id": "hzqHODI-weZ1"
      },
      "source": [
        "df = df.sample(frac=1, random_state=42)"
      ],
      "execution_count": null,
      "outputs": []
    },
    {
      "cell_type": "code",
      "metadata": {
        "colab": {
          "base_uri": "https://localhost:8080/",
          "height": 424
        },
        "id": "T7W0UWJMwh5b",
        "outputId": "43ff31f8-9317-4a2f-c751-ce1f6e7d4efb"
      },
      "source": [
        "df"
      ],
      "execution_count": null,
      "outputs": [
        {
          "output_type": "execute_result",
          "data": {
            "text/html": [
              "<div>\n",
              "<style scoped>\n",
              "    .dataframe tbody tr th:only-of-type {\n",
              "        vertical-align: middle;\n",
              "    }\n",
              "\n",
              "    .dataframe tbody tr th {\n",
              "        vertical-align: top;\n",
              "    }\n",
              "\n",
              "    .dataframe thead th {\n",
              "        text-align: right;\n",
              "    }\n",
              "</style>\n",
              "<table border=\"1\" class=\"dataframe\">\n",
              "  <thead>\n",
              "    <tr style=\"text-align: right;\">\n",
              "      <th></th>\n",
              "      <th>uid</th>\n",
              "      <th>asset_id</th>\n",
              "      <th>Ratings</th>\n",
              "      <th>user</th>\n",
              "      <th>asset</th>\n",
              "      <th>rating</th>\n",
              "    </tr>\n",
              "  </thead>\n",
              "  <tbody>\n",
              "    <tr>\n",
              "      <th>296</th>\n",
              "      <td>37</td>\n",
              "      <td>4</td>\n",
              "      <td>4</td>\n",
              "      <td>36</td>\n",
              "      <td>3</td>\n",
              "      <td>4.0</td>\n",
              "    </tr>\n",
              "    <tr>\n",
              "      <th>81</th>\n",
              "      <td>7</td>\n",
              "      <td>22</td>\n",
              "      <td>4</td>\n",
              "      <td>6</td>\n",
              "      <td>21</td>\n",
              "      <td>4.0</td>\n",
              "    </tr>\n",
              "    <tr>\n",
              "      <th>77</th>\n",
              "      <td>7</td>\n",
              "      <td>15</td>\n",
              "      <td>4</td>\n",
              "      <td>6</td>\n",
              "      <td>14</td>\n",
              "      <td>4.0</td>\n",
              "    </tr>\n",
              "    <tr>\n",
              "      <th>208</th>\n",
              "      <td>21</td>\n",
              "      <td>36</td>\n",
              "      <td>3</td>\n",
              "      <td>20</td>\n",
              "      <td>35</td>\n",
              "      <td>3.0</td>\n",
              "    </tr>\n",
              "    <tr>\n",
              "      <th>318</th>\n",
              "      <td>43</td>\n",
              "      <td>19</td>\n",
              "      <td>5</td>\n",
              "      <td>42</td>\n",
              "      <td>18</td>\n",
              "      <td>5.0</td>\n",
              "    </tr>\n",
              "    <tr>\n",
              "      <th>...</th>\n",
              "      <td>...</td>\n",
              "      <td>...</td>\n",
              "      <td>...</td>\n",
              "      <td>...</td>\n",
              "      <td>...</td>\n",
              "      <td>...</td>\n",
              "    </tr>\n",
              "    <tr>\n",
              "      <th>71</th>\n",
              "      <td>6</td>\n",
              "      <td>71</td>\n",
              "      <td>5</td>\n",
              "      <td>5</td>\n",
              "      <td>68</td>\n",
              "      <td>5.0</td>\n",
              "    </tr>\n",
              "    <tr>\n",
              "      <th>106</th>\n",
              "      <td>9</td>\n",
              "      <td>22</td>\n",
              "      <td>2</td>\n",
              "      <td>8</td>\n",
              "      <td>21</td>\n",
              "      <td>2.0</td>\n",
              "    </tr>\n",
              "    <tr>\n",
              "      <th>270</th>\n",
              "      <td>32</td>\n",
              "      <td>3</td>\n",
              "      <td>5</td>\n",
              "      <td>31</td>\n",
              "      <td>2</td>\n",
              "      <td>5.0</td>\n",
              "    </tr>\n",
              "    <tr>\n",
              "      <th>435</th>\n",
              "      <td>72</td>\n",
              "      <td>24</td>\n",
              "      <td>5</td>\n",
              "      <td>71</td>\n",
              "      <td>23</td>\n",
              "      <td>5.0</td>\n",
              "    </tr>\n",
              "    <tr>\n",
              "      <th>102</th>\n",
              "      <td>9</td>\n",
              "      <td>9</td>\n",
              "      <td>4</td>\n",
              "      <td>8</td>\n",
              "      <td>8</td>\n",
              "      <td>4.0</td>\n",
              "    </tr>\n",
              "  </tbody>\n",
              "</table>\n",
              "<p>704 rows × 6 columns</p>\n",
              "</div>"
            ],
            "text/plain": [
              "     uid  asset_id  Ratings  user  asset  rating\n",
              "296   37         4        4    36      3     4.0\n",
              "81     7        22        4     6     21     4.0\n",
              "77     7        15        4     6     14     4.0\n",
              "208   21        36        3    20     35     3.0\n",
              "318   43        19        5    42     18     5.0\n",
              "..   ...       ...      ...   ...    ...     ...\n",
              "71     6        71        5     5     68     5.0\n",
              "106    9        22        2     8     21     2.0\n",
              "270   32         3        5    31      2     5.0\n",
              "435   72        24        5    71     23     5.0\n",
              "102    9         9        4     8      8     4.0\n",
              "\n",
              "[704 rows x 6 columns]"
            ]
          },
          "metadata": {
            "tags": []
          },
          "execution_count": 25
        }
      ]
    },
    {
      "cell_type": "code",
      "metadata": {
        "id": "HaQHIcYwwjst"
      },
      "source": [
        "\n",
        "x = df[[\"user\", \"asset\"]].values"
      ],
      "execution_count": null,
      "outputs": []
    },
    {
      "cell_type": "code",
      "metadata": {
        "colab": {
          "base_uri": "https://localhost:8080/"
        },
        "id": "peN3eAS_xcYV",
        "outputId": "a07fa8a1-56e0-4d9a-e23c-8eef0d4a25ce"
      },
      "source": [
        "x"
      ],
      "execution_count": null,
      "outputs": [
        {
          "output_type": "execute_result",
          "data": {
            "text/plain": [
              "array([[36,  3],\n",
              "       [ 6, 21],\n",
              "       [ 6, 14],\n",
              "       ...,\n",
              "       [31,  2],\n",
              "       [71, 23],\n",
              "       [ 8,  8]])"
            ]
          },
          "metadata": {
            "tags": []
          },
          "execution_count": 27
        }
      ]
    },
    {
      "cell_type": "code",
      "metadata": {
        "id": "n-zphZcgxer7"
      },
      "source": [
        "\n",
        "# Normalize the targets between 0 and 1. Makes it easy to train.\n",
        "y = df[\"rating\"].apply(lambda x: (x - min_rating) / (max_rating - min_rating)).values"
      ],
      "execution_count": null,
      "outputs": []
    },
    {
      "cell_type": "code",
      "metadata": {
        "colab": {
          "base_uri": "https://localhost:8080/"
        },
        "id": "B6Uh8FjxyUWs",
        "outputId": "43a33999-f1ac-4aad-f27c-70e4360fda7e"
      },
      "source": [
        "y"
      ],
      "execution_count": null,
      "outputs": [
        {
          "output_type": "execute_result",
          "data": {
            "text/plain": [
              "array([0.75, 0.75, 0.75, 0.5 , 1.  , 1.  , 0.75, 0.75, 0.75, 0.5 , 0.75,\n",
              "       0.  , 1.  , 0.75, 0.5 , 1.  , 0.25, 0.5 , 0.5 , 0.25, 0.5 , 0.75,\n",
              "       0.25, 1.  , 0.75, 0.5 , 0.5 , 0.25, 0.  , 0.5 , 0.25, 1.  , 0.5 ,\n",
              "       0.25, 1.  , 1.  , 0.25, 0.  , 0.75, 0.  , 1.  , 1.  , 1.  , 0.5 ,\n",
              "       1.  , 0.5 , 0.25, 0.25, 1.  , 0.75, 0.  , 1.  , 0.  , 0.75, 0.  ,\n",
              "       0.25, 0.5 , 1.  , 0.75, 0.25, 0.25, 1.  , 0.5 , 0.25, 0.25, 0.25,\n",
              "       0.5 , 0.25, 0.5 , 1.  , 0.25, 0.5 , 1.  , 1.  , 0.25, 0.5 , 0.5 ,\n",
              "       1.  , 0.75, 0.5 , 0.75, 0.25, 0.25, 0.75, 1.  , 1.  , 0.75, 1.  ,\n",
              "       0.75, 0.75, 1.  , 0.5 , 0.5 , 0.5 , 1.  , 0.25, 0.75, 0.25, 0.75,\n",
              "       0.5 , 0.25, 0.5 , 0.75, 0.5 , 1.  , 0.5 , 0.5 , 0.5 , 0.25, 0.5 ,\n",
              "       1.  , 0.5 , 0.5 , 1.  , 0.75, 0.  , 0.5 , 0.  , 0.5 , 1.  , 0.5 ,\n",
              "       0.  , 0.5 , 0.5 , 1.  , 0.5 , 0.5 , 0.5 , 0.75, 0.5 , 0.75, 0.  ,\n",
              "       0.75, 0.25, 0.25, 0.5 , 0.25, 1.  , 0.25, 0.5 , 0.75, 0.25, 0.  ,\n",
              "       0.5 , 0.75, 0.25, 1.  , 1.  , 0.5 , 1.  , 0.75, 0.5 , 0.25, 0.25,\n",
              "       0.5 , 0.25, 0.75, 0.75, 1.  , 0.25, 0.75, 0.75, 0.25, 1.  , 0.75,\n",
              "       0.5 , 0.75, 0.75, 0.75, 0.75, 1.  , 0.5 , 1.  , 1.  , 1.  , 0.25,\n",
              "       0.75, 0.5 , 0.  , 1.  , 1.  , 1.  , 0.5 , 0.75, 0.75, 0.5 , 1.  ,\n",
              "       0.75, 0.75, 0.5 , 0.25, 0.25, 0.5 , 0.5 , 0.25, 0.5 , 0.25, 0.75,\n",
              "       1.  , 0.75, 0.5 , 1.  , 0.25, 0.5 , 0.  , 0.5 , 1.  , 0.25, 0.5 ,\n",
              "       0.5 , 0.5 , 0.25, 0.75, 1.  , 0.25, 0.25, 0.25, 0.  , 1.  , 0.  ,\n",
              "       0.25, 0.75, 1.  , 1.  , 0.5 , 0.75, 0.25, 1.  , 1.  , 0.5 , 0.25,\n",
              "       1.  , 1.  , 0.5 , 0.5 , 0.5 , 0.5 , 0.75, 0.25, 0.5 , 0.5 , 0.75,\n",
              "       0.75, 0.25, 0.75, 1.  , 0.5 , 0.5 , 0.25, 1.  , 0.5 , 0.5 , 0.  ,\n",
              "       0.5 , 0.5 , 1.  , 0.5 , 0.25, 1.  , 0.75, 0.5 , 0.5 , 0.5 , 0.5 ,\n",
              "       0.75, 0.5 , 0.5 , 0.  , 1.  , 0.5 , 0.75, 0.5 , 0.5 , 0.5 , 1.  ,\n",
              "       0.75, 0.5 , 1.  , 0.75, 0.5 , 0.75, 0.5 , 0.75, 1.  , 0.75, 1.  ,\n",
              "       0.75, 0.5 , 0.75, 0.75, 0.75, 0.75, 0.25, 0.25, 0.75, 0.  , 0.5 ,\n",
              "       0.75, 1.  , 0.5 , 1.  , 0.75, 0.5 , 1.  , 0.5 , 0.25, 0.75, 1.  ,\n",
              "       0.75, 0.75, 0.75, 0.5 , 0.25, 1.  , 0.5 , 1.  , 0.75, 0.5 , 0.25,\n",
              "       0.5 , 0.5 , 0.5 , 1.  , 0.5 , 0.75, 0.75, 0.  , 0.75, 0.5 , 1.  ,\n",
              "       0.75, 0.5 , 0.75, 0.  , 0.5 , 1.  , 0.75, 0.75, 0.  , 1.  , 0.75,\n",
              "       1.  , 0.75, 0.  , 0.5 , 0.5 , 0.25, 0.25, 1.  , 1.  , 0.75, 0.25,\n",
              "       0.25, 0.75, 0.75, 0.75, 0.75, 1.  , 1.  , 0.  , 0.5 , 1.  , 0.25,\n",
              "       0.75, 0.75, 1.  , 1.  , 0.5 , 0.75, 0.75, 0.5 , 0.75, 0.5 , 0.75,\n",
              "       0.25, 0.75, 0.5 , 0.5 , 0.  , 0.5 , 0.75, 0.5 , 0.75, 0.75, 0.5 ,\n",
              "       0.75, 0.75, 0.25, 0.5 , 1.  , 0.75, 0.75, 0.75, 1.  , 1.  , 0.25,\n",
              "       1.  , 0.75, 0.5 , 0.25, 0.5 , 1.  , 0.75, 0.25, 0.75, 0.75, 0.75,\n",
              "       1.  , 1.  , 1.  , 0.5 , 0.5 , 0.5 , 1.  , 1.  , 0.75, 0.25, 0.5 ,\n",
              "       1.  , 1.  , 0.75, 0.25, 0.75, 0.75, 0.25, 1.  , 0.  , 1.  , 0.5 ,\n",
              "       1.  , 0.5 , 0.25, 1.  , 0.  , 1.  , 1.  , 0.  , 0.5 , 0.75, 0.5 ,\n",
              "       0.75, 0.75, 1.  , 0.  , 1.  , 1.  , 0.25, 0.25, 0.5 , 1.  , 1.  ,\n",
              "       0.5 , 0.5 , 0.5 , 0.5 , 0.5 , 0.25, 0.75, 0.25, 0.5 , 0.75, 0.75,\n",
              "       0.5 , 0.5 , 0.25, 0.25, 0.  , 1.  , 1.  , 0.75, 0.75, 0.75, 0.75,\n",
              "       1.  , 0.5 , 0.25, 0.75, 1.  , 1.  , 1.  , 0.5 , 0.  , 0.75, 1.  ,\n",
              "       0.25, 0.75, 0.25, 0.5 , 0.25, 1.  , 0.75, 0.5 , 0.75, 0.75, 0.  ,\n",
              "       0.  , 0.25, 1.  , 1.  , 0.25, 0.5 , 0.25, 1.  , 0.5 , 0.25, 0.5 ,\n",
              "       0.5 , 1.  , 0.5 , 0.75, 0.  , 0.75, 1.  , 0.25, 1.  , 0.  , 0.5 ,\n",
              "       0.5 , 0.75, 0.25, 0.5 , 0.  , 0.  , 0.75, 1.  , 0.75, 1.  , 0.75,\n",
              "       0.25, 0.75, 1.  , 0.25, 0.75, 0.25, 0.25, 0.  , 0.25, 0.75, 1.  ,\n",
              "       0.5 , 0.25, 0.25, 1.  , 0.25, 1.  , 0.5 , 0.75, 0.75, 1.  , 0.25,\n",
              "       0.75, 1.  , 0.75, 0.25, 1.  , 0.5 , 0.5 , 0.75, 0.75, 1.  , 1.  ,\n",
              "       1.  , 1.  , 0.25, 0.75, 0.25, 0.75, 1.  , 1.  , 0.75, 0.5 , 0.5 ,\n",
              "       0.75, 0.75, 0.5 , 0.25, 0.25, 0.5 , 0.5 , 1.  , 0.25, 1.  , 0.25,\n",
              "       1.  , 0.  , 0.75, 0.25, 0.75, 0.75, 0.25, 0.25, 0.75, 0.25, 0.5 ,\n",
              "       0.25, 0.5 , 0.5 , 1.  , 1.  , 1.  , 0.5 , 0.  , 0.75, 0.5 , 1.  ,\n",
              "       0.5 , 0.5 , 1.  , 0.5 , 0.5 , 1.  , 1.  , 1.  , 1.  , 0.75, 0.25,\n",
              "       0.75, 0.5 , 0.75, 0.5 , 0.75, 0.5 , 0.75, 1.  , 1.  , 0.75, 0.75,\n",
              "       1.  , 0.75, 1.  , 0.5 , 0.5 , 0.5 , 0.5 , 0.5 , 1.  , 0.5 , 0.75,\n",
              "       0.  , 0.75, 0.5 , 0.75, 0.5 , 0.75, 0.5 , 0.5 , 0.75, 0.75, 0.75,\n",
              "       1.  , 0.75, 1.  , 0.25, 1.  , 0.25, 0.5 , 0.25, 0.  , 0.25, 0.5 ,\n",
              "       1.  , 0.25, 0.5 , 0.5 , 0.75, 0.75, 0.25, 0.5 , 0.5 , 1.  , 0.25,\n",
              "       0.25, 1.  , 0.5 , 0.5 , 0.25, 1.  , 0.5 , 0.5 , 1.  , 0.  , 0.  ,\n",
              "       0.5 , 0.75, 0.75, 0.75, 0.75, 0.25, 1.  , 0.75, 0.5 , 0.5 , 1.  ,\n",
              "       0.75, 0.75, 0.75, 0.25, 0.5 , 1.  , 1.  , 0.25, 1.  , 1.  , 0.75])"
            ]
          },
          "metadata": {
            "tags": []
          },
          "execution_count": 29
        }
      ]
    },
    {
      "cell_type": "code",
      "metadata": {
        "id": "b8pQ1GD5yVWn"
      },
      "source": [
        "\n",
        "# Assuming training on 90% of the data and validating on 10%.\n",
        "train_indices = int(0.9 * df.shape[0])"
      ],
      "execution_count": null,
      "outputs": []
    },
    {
      "cell_type": "code",
      "metadata": {
        "id": "D0SDZ-ggygRO"
      },
      "source": [
        "\n",
        "x_train, x_val, y_train, y_val = (\n",
        "    x[:train_indices],\n",
        "    x[train_indices:],\n",
        "    y[:train_indices],\n",
        "    y[train_indices:],\n",
        ")\n"
      ],
      "execution_count": null,
      "outputs": []
    },
    {
      "cell_type": "code",
      "metadata": {
        "colab": {
          "base_uri": "https://localhost:8080/"
        },
        "id": "KpjRyF2Vy_DK",
        "outputId": "60b4d04a-ea2f-451d-9346-b6be365cc06f"
      },
      "source": [
        "print(x_train,y_train)"
      ],
      "execution_count": null,
      "outputs": [
        {
          "output_type": "stream",
          "text": [
            "[[36  3]\n",
            " [ 6 21]\n",
            " [ 6 14]\n",
            " ...\n",
            " [30 66]\n",
            " [19 36]\n",
            " [14 32]] [0.75 0.75 0.75 0.5  1.   1.   0.75 0.75 0.75 0.5  0.75 0.   1.   0.75\n",
            " 0.5  1.   0.25 0.5  0.5  0.25 0.5  0.75 0.25 1.   0.75 0.5  0.5  0.25\n",
            " 0.   0.5  0.25 1.   0.5  0.25 1.   1.   0.25 0.   0.75 0.   1.   1.\n",
            " 1.   0.5  1.   0.5  0.25 0.25 1.   0.75 0.   1.   0.   0.75 0.   0.25\n",
            " 0.5  1.   0.75 0.25 0.25 1.   0.5  0.25 0.25 0.25 0.5  0.25 0.5  1.\n",
            " 0.25 0.5  1.   1.   0.25 0.5  0.5  1.   0.75 0.5  0.75 0.25 0.25 0.75\n",
            " 1.   1.   0.75 1.   0.75 0.75 1.   0.5  0.5  0.5  1.   0.25 0.75 0.25\n",
            " 0.75 0.5  0.25 0.5  0.75 0.5  1.   0.5  0.5  0.5  0.25 0.5  1.   0.5\n",
            " 0.5  1.   0.75 0.   0.5  0.   0.5  1.   0.5  0.   0.5  0.5  1.   0.5\n",
            " 0.5  0.5  0.75 0.5  0.75 0.   0.75 0.25 0.25 0.5  0.25 1.   0.25 0.5\n",
            " 0.75 0.25 0.   0.5  0.75 0.25 1.   1.   0.5  1.   0.75 0.5  0.25 0.25\n",
            " 0.5  0.25 0.75 0.75 1.   0.25 0.75 0.75 0.25 1.   0.75 0.5  0.75 0.75\n",
            " 0.75 0.75 1.   0.5  1.   1.   1.   0.25 0.75 0.5  0.   1.   1.   1.\n",
            " 0.5  0.75 0.75 0.5  1.   0.75 0.75 0.5  0.25 0.25 0.5  0.5  0.25 0.5\n",
            " 0.25 0.75 1.   0.75 0.5  1.   0.25 0.5  0.   0.5  1.   0.25 0.5  0.5\n",
            " 0.5  0.25 0.75 1.   0.25 0.25 0.25 0.   1.   0.   0.25 0.75 1.   1.\n",
            " 0.5  0.75 0.25 1.   1.   0.5  0.25 1.   1.   0.5  0.5  0.5  0.5  0.75\n",
            " 0.25 0.5  0.5  0.75 0.75 0.25 0.75 1.   0.5  0.5  0.25 1.   0.5  0.5\n",
            " 0.   0.5  0.5  1.   0.5  0.25 1.   0.75 0.5  0.5  0.5  0.5  0.75 0.5\n",
            " 0.5  0.   1.   0.5  0.75 0.5  0.5  0.5  1.   0.75 0.5  1.   0.75 0.5\n",
            " 0.75 0.5  0.75 1.   0.75 1.   0.75 0.5  0.75 0.75 0.75 0.75 0.25 0.25\n",
            " 0.75 0.   0.5  0.75 1.   0.5  1.   0.75 0.5  1.   0.5  0.25 0.75 1.\n",
            " 0.75 0.75 0.75 0.5  0.25 1.   0.5  1.   0.75 0.5  0.25 0.5  0.5  0.5\n",
            " 1.   0.5  0.75 0.75 0.   0.75 0.5  1.   0.75 0.5  0.75 0.   0.5  1.\n",
            " 0.75 0.75 0.   1.   0.75 1.   0.75 0.   0.5  0.5  0.25 0.25 1.   1.\n",
            " 0.75 0.25 0.25 0.75 0.75 0.75 0.75 1.   1.   0.   0.5  1.   0.25 0.75\n",
            " 0.75 1.   1.   0.5  0.75 0.75 0.5  0.75 0.5  0.75 0.25 0.75 0.5  0.5\n",
            " 0.   0.5  0.75 0.5  0.75 0.75 0.5  0.75 0.75 0.25 0.5  1.   0.75 0.75\n",
            " 0.75 1.   1.   0.25 1.   0.75 0.5  0.25 0.5  1.   0.75 0.25 0.75 0.75\n",
            " 0.75 1.   1.   1.   0.5  0.5  0.5  1.   1.   0.75 0.25 0.5  1.   1.\n",
            " 0.75 0.25 0.75 0.75 0.25 1.   0.   1.   0.5  1.   0.5  0.25 1.   0.\n",
            " 1.   1.   0.   0.5  0.75 0.5  0.75 0.75 1.   0.   1.   1.   0.25 0.25\n",
            " 0.5  1.   1.   0.5  0.5  0.5  0.5  0.5  0.25 0.75 0.25 0.5  0.75 0.75\n",
            " 0.5  0.5  0.25 0.25 0.   1.   1.   0.75 0.75 0.75 0.75 1.   0.5  0.25\n",
            " 0.75 1.   1.   1.   0.5  0.   0.75 1.   0.25 0.75 0.25 0.5  0.25 1.\n",
            " 0.75 0.5  0.75 0.75 0.   0.   0.25 1.   1.   0.25 0.5  0.25 1.   0.5\n",
            " 0.25 0.5  0.5  1.   0.5  0.75 0.   0.75 1.   0.25 1.   0.   0.5  0.5\n",
            " 0.75 0.25 0.5  0.   0.   0.75 1.   0.75 1.   0.75 0.25 0.75 1.   0.25\n",
            " 0.75 0.25 0.25 0.   0.25 0.75 1.   0.5  0.25 0.25 1.   0.25 1.   0.5\n",
            " 0.75 0.75 1.   0.25 0.75 1.   0.75 0.25 1.   0.5  0.5  0.75 0.75 1.\n",
            " 1.   1.   1.   0.25 0.75 0.25 0.75 1.   1.   0.75 0.5  0.5  0.75 0.75\n",
            " 0.5  0.25 0.25 0.5  0.5  1.   0.25 1.   0.25 1.   0.   0.75 0.25 0.75\n",
            " 0.75 0.25 0.25 0.75 0.25 0.5  0.25 0.5  0.5  1.   1.   1.   0.5  0.\n",
            " 0.75 0.5  1.   0.5  0.5  1.   0.5  0.5  1.   1.   1.   1.   0.75 0.25\n",
            " 0.75 0.5  0.75 0.5  0.75 0.5  0.75 1.   1.   0.75 0.75 1.   0.75 1.\n",
            " 0.5  0.5  0.5 ]\n"
          ],
          "name": "stdout"
        }
      ]
    },
    {
      "cell_type": "code",
      "metadata": {
        "colab": {
          "base_uri": "https://localhost:8080/"
        },
        "id": "HdVL3F5yzqh-",
        "outputId": "2cdfb162-82eb-4564-e8eb-37d5be3fe0df"
      },
      "source": [
        "y_train.shape,x_train.shape"
      ],
      "execution_count": null,
      "outputs": [
        {
          "output_type": "execute_result",
          "data": {
            "text/plain": [
              "((633,), (633, 2))"
            ]
          },
          "metadata": {
            "tags": []
          },
          "execution_count": 33
        }
      ]
    },
    {
      "cell_type": "code",
      "metadata": {
        "colab": {
          "base_uri": "https://localhost:8080/"
        },
        "id": "i3TzyMtUzvHJ",
        "outputId": "1b4ab7a8-8aa0-47e9-dab3-667b1cc7a043"
      },
      "source": [
        "y_val.shape,x_val.shape"
      ],
      "execution_count": null,
      "outputs": [
        {
          "output_type": "execute_result",
          "data": {
            "text/plain": [
              "((71,), (71, 2))"
            ]
          },
          "metadata": {
            "tags": []
          },
          "execution_count": 34
        }
      ]
    },
    {
      "cell_type": "code",
      "metadata": {
        "id": "JYFUPlxp0rdO"
      },
      "source": [
        ""
      ],
      "execution_count": null,
      "outputs": []
    },
    {
      "cell_type": "markdown",
      "metadata": {
        "id": "YO1NAe8k1Jvn"
      },
      "source": [
        "# Model Create\n",
        "We embed both users and assets in to 50-dimensional vectors.\n",
        "\n",
        "The model computes a match score between user and asset embeddings via a dot product,\n",
        "and adds a per-asset and per-user bias. The match score is scaled to the `[0, 1]`\n",
        "interval via a sigmoid (since our ratings are normalized to this range)."
      ]
    },
    {
      "cell_type": "code",
      "metadata": {
        "id": "ywR757Np1MSQ"
      },
      "source": [
        "EMBEDDING_SIZE = 50\n",
        "\n",
        "\n",
        "class RecommenderNet(keras.Model):\n",
        "    def __init__(self, num_users, num_assets, embedding_size, **kwargs):\n",
        "        super(RecommenderNet, self).__init__(**kwargs)\n",
        "        self.num_users = num_users\n",
        "        self.num_assets = num_assets\n",
        "        self.embedding_size = embedding_size\n",
        "        self.user_embedding = layers.Embedding(\n",
        "            num_users,\n",
        "            embedding_size,\n",
        "            embeddings_initializer=\"he_normal\",\n",
        "            embeddings_regularizer=keras.regularizers.l2(1e-6),\n",
        "        )\n",
        "        self.user_bias = layers.Embedding(num_users, 1)\n",
        "        self.asset_embedding = layers.Embedding(\n",
        "            num_assets,\n",
        "            embedding_size,\n",
        "            embeddings_initializer=\"he_normal\",\n",
        "            embeddings_regularizer=keras.regularizers.l2(1e-6),\n",
        "        )\n",
        "        self.asset_bias = layers.Embedding(num_assets, 1)\n",
        "\n",
        "    def call(self, inputs):\n",
        "        user_vector = self.user_embedding(inputs[:, 0])\n",
        "        user_bias = self.user_bias(inputs[:, 0])\n",
        "        asset_vector = self.asset_embedding(inputs[:, 1])\n",
        "        asset_bias = self.asset_bias(inputs[:, 1])\n",
        "        dot_user_asset = tf.tensordot(user_vector, asset_vector, 2)\n",
        "        # Add all the components (including bias)\n",
        "        x = dot_user_asset + user_bias + asset_bias\n",
        "        # The sigmoid activation forces the rating to between 0 and 1\n",
        "        return tf.nn.sigmoid(x)\n",
        "\n"
      ],
      "execution_count": null,
      "outputs": []
    },
    {
      "cell_type": "markdown",
      "metadata": {
        "id": "0HZn_AEk6Re8"
      },
      "source": [
        "# Model Train"
      ]
    },
    {
      "cell_type": "markdown",
      "metadata": {
        "id": "We5erDjA6a3A"
      },
      "source": [
        "## Train the model based on the data split\n"
      ]
    },
    {
      "cell_type": "code",
      "metadata": {
        "id": "zwduzZha_MlT"
      },
      "source": [
        "callback  = tf.keras.callbacks.EarlyStopping(\n",
        "    monitor='val_loss',  patience=20, restore_best_weights=True\n",
        ")\n"
      ],
      "execution_count": null,
      "outputs": []
    },
    {
      "cell_type": "code",
      "metadata": {
        "id": "Z03mY4yl_7R4"
      },
      "source": [
        "\n",
        "model = RecommenderNet(num_users, num_assets, EMBEDDING_SIZE)\n",
        "model.compile(\n",
        "    loss=tf.keras.losses.BinaryCrossentropy(), optimizer=keras.optimizers.Adam(lr=0.001)\n",
        ")\n"
      ],
      "execution_count": null,
      "outputs": []
    },
    {
      "cell_type": "code",
      "metadata": {
        "colab": {
          "base_uri": "https://localhost:8080/"
        },
        "id": "YobcFIP514Up",
        "outputId": "f3858317-1e85-4634-fcd3-e7303e1b083c"
      },
      "source": [
        "history = model.fit(\n",
        "    x=x_train,\n",
        "    y=y_train,\n",
        "    batch_size=64,\n",
        "    epochs=5000,\n",
        "    callbacks=[callback],\n",
        "    verbose=1,\n",
        "    validation_data=(x_val, y_val),\n",
        ")\n"
      ],
      "execution_count": null,
      "outputs": [
        {
          "output_type": "stream",
          "text": [
            "Epoch 1/5000\n",
            "10/10 [==============================] - 0s 13ms/step - loss: 0.6488 - val_loss: 1.0741\n",
            "Epoch 2/5000\n",
            "10/10 [==============================] - 0s 8ms/step - loss: 0.6930 - val_loss: 1.0727\n",
            "Epoch 3/5000\n",
            "10/10 [==============================] - 0s 8ms/step - loss: 0.6663 - val_loss: 1.0679\n",
            "Epoch 4/5000\n",
            "10/10 [==============================] - 0s 8ms/step - loss: 0.6603 - val_loss: 1.0685\n",
            "Epoch 5/5000\n",
            "10/10 [==============================] - 0s 8ms/step - loss: 0.6879 - val_loss: 1.0694\n",
            "Epoch 6/5000\n",
            "10/10 [==============================] - 0s 9ms/step - loss: 0.6489 - val_loss: 1.0658\n",
            "Epoch 7/5000\n",
            "10/10 [==============================] - 0s 8ms/step - loss: 0.6867 - val_loss: 1.0594\n",
            "Epoch 8/5000\n",
            "10/10 [==============================] - 0s 8ms/step - loss: 0.6538 - val_loss: 1.0623\n",
            "Epoch 9/5000\n",
            "10/10 [==============================] - 0s 8ms/step - loss: 0.6626 - val_loss: 1.0640\n",
            "Epoch 10/5000\n",
            "10/10 [==============================] - 0s 8ms/step - loss: 0.6402 - val_loss: 1.0656\n",
            "Epoch 11/5000\n",
            "10/10 [==============================] - 0s 8ms/step - loss: 0.6575 - val_loss: 1.0644\n",
            "Epoch 12/5000\n",
            "10/10 [==============================] - 0s 8ms/step - loss: 0.6621 - val_loss: 1.0674\n",
            "Epoch 13/5000\n",
            "10/10 [==============================] - 0s 8ms/step - loss: 0.6404 - val_loss: 1.0659\n",
            "Epoch 14/5000\n",
            "10/10 [==============================] - 0s 8ms/step - loss: 0.6863 - val_loss: 1.0624\n",
            "Epoch 15/5000\n",
            "10/10 [==============================] - 0s 8ms/step - loss: 0.6541 - val_loss: 1.0561\n",
            "Epoch 16/5000\n",
            "10/10 [==============================] - 0s 8ms/step - loss: 0.6691 - val_loss: 1.0537\n",
            "Epoch 17/5000\n",
            "10/10 [==============================] - 0s 9ms/step - loss: 0.6446 - val_loss: 1.0548\n",
            "Epoch 18/5000\n",
            "10/10 [==============================] - 0s 9ms/step - loss: 0.6433 - val_loss: 1.0631\n",
            "Epoch 19/5000\n",
            "10/10 [==============================] - 0s 8ms/step - loss: 0.6551 - val_loss: 1.0715\n",
            "Epoch 20/5000\n",
            "10/10 [==============================] - 0s 9ms/step - loss: 0.6335 - val_loss: 1.0763\n",
            "Epoch 21/5000\n",
            "10/10 [==============================] - 0s 8ms/step - loss: 0.6514 - val_loss: 1.0777\n",
            "Epoch 22/5000\n",
            "10/10 [==============================] - 0s 8ms/step - loss: 0.6382 - val_loss: 1.0801\n",
            "Epoch 23/5000\n",
            "10/10 [==============================] - 0s 8ms/step - loss: 0.6451 - val_loss: 1.0802\n",
            "Epoch 24/5000\n",
            "10/10 [==============================] - 0s 8ms/step - loss: 0.6496 - val_loss: 1.0817\n",
            "Epoch 25/5000\n",
            "10/10 [==============================] - 0s 8ms/step - loss: 0.6461 - val_loss: 1.0865\n",
            "Epoch 26/5000\n",
            "10/10 [==============================] - 0s 8ms/step - loss: 0.6408 - val_loss: 1.0865\n",
            "Epoch 27/5000\n",
            "10/10 [==============================] - 0s 9ms/step - loss: 0.6436 - val_loss: 1.0928\n",
            "Epoch 28/5000\n",
            "10/10 [==============================] - 0s 8ms/step - loss: 0.6355 - val_loss: 1.0992\n",
            "Epoch 29/5000\n",
            "10/10 [==============================] - 0s 8ms/step - loss: 0.6406 - val_loss: 1.1056\n",
            "Epoch 30/5000\n",
            "10/10 [==============================] - 0s 9ms/step - loss: 0.6336 - val_loss: 1.1147\n",
            "Epoch 31/5000\n",
            "10/10 [==============================] - 0s 8ms/step - loss: 0.6432 - val_loss: 1.1232\n",
            "Epoch 32/5000\n",
            "10/10 [==============================] - 0s 8ms/step - loss: 0.6517 - val_loss: 1.1216\n",
            "Epoch 33/5000\n",
            "10/10 [==============================] - 0s 9ms/step - loss: 0.6428 - val_loss: 1.1200\n",
            "Epoch 34/5000\n",
            "10/10 [==============================] - 0s 8ms/step - loss: 0.6383 - val_loss: 1.1162\n",
            "Epoch 35/5000\n",
            "10/10 [==============================] - 0s 9ms/step - loss: 0.6393 - val_loss: 1.1079\n",
            "Epoch 36/5000\n",
            "10/10 [==============================] - 0s 8ms/step - loss: 0.6642 - val_loss: 1.1056\n"
          ],
          "name": "stdout"
        }
      ]
    },
    {
      "cell_type": "code",
      "metadata": {
        "colab": {
          "base_uri": "https://localhost:8080/"
        },
        "id": "w9gbq5ea86VI",
        "outputId": "3f6eee23-0299-4a9b-fc97-89d7660226a2"
      },
      "source": [
        "model.summary()"
      ],
      "execution_count": null,
      "outputs": [
        {
          "output_type": "stream",
          "text": [
            "Model: \"recommender_net_2\"\n",
            "_________________________________________________________________\n",
            "Layer (type)                 Output Shape              Param #   \n",
            "=================================================================\n",
            "embedding_8 (Embedding)      multiple                  5000      \n",
            "_________________________________________________________________\n",
            "embedding_9 (Embedding)      multiple                  100       \n",
            "_________________________________________________________________\n",
            "embedding_10 (Embedding)     multiple                  4100      \n",
            "_________________________________________________________________\n",
            "embedding_11 (Embedding)     multiple                  82        \n",
            "=================================================================\n",
            "Total params: 9,282\n",
            "Trainable params: 9,282\n",
            "Non-trainable params: 0\n",
            "_________________________________________________________________\n"
          ],
          "name": "stdout"
        }
      ]
    },
    {
      "cell_type": "markdown",
      "metadata": {
        "id": "CIVjGB3xCtJt"
      },
      "source": [
        "## Plot training and validation loss\n"
      ]
    },
    {
      "cell_type": "code",
      "metadata": {
        "colab": {
          "base_uri": "https://localhost:8080/",
          "height": 295
        },
        "id": "DY6IsOvxCkwo",
        "outputId": "269915ea-995d-4481-c763-362fdaf74b36"
      },
      "source": [
        "plt.plot(history.history[\"loss\"])\n",
        "plt.plot(history.history[\"val_loss\"])\n",
        "plt.title(\"model loss\")\n",
        "plt.ylabel(\"loss\")\n",
        "plt.xlabel(\"epoch\")\n",
        "plt.legend([\"train\", \"test\"], loc=\"upper left\")\n",
        "plt.show()\n"
      ],
      "execution_count": null,
      "outputs": [
        {
          "output_type": "display_data",
          "data": {
            "image/png": "[encoded data removed]",
            "text/plain": [
              "<Figure size 432x288 with 1 Axes>"
            ]
          },
          "metadata": {
            "tags": [],
            "needs_background": "light"
          }
        }
      ]
    },
    {
      "cell_type": "markdown",
      "metadata": {
        "id": "SmX_wdB2D4zn"
      },
      "source": [
        "# Show top 5 asset recommendations to a user\n"
      ]
    },
    {
      "cell_type": "code",
      "metadata": {
        "id": "VJ0FRRD0Dm65"
      },
      "source": [
        "asset_df = pd.read_pickle(\"/content/drive/MyDrive/Collaborative_Recommendation/MatrixFactorization/recommendation_v4.pkl\")"
      ],
      "execution_count": null,
      "outputs": []
    },
    {
      "cell_type": "code",
      "metadata": {
        "colab": {
          "base_uri": "https://localhost:8080/",
          "height": 1000
        },
        "id": "UvJxmrQ4Eo_6",
        "outputId": "f8a1798a-4a12-4611-ce02-aaddfcae14f8"
      },
      "source": [
        "asset_df"
      ],
      "execution_count": null,
      "outputs": [
        {
          "output_type": "execute_result",
          "data": {
            "text/html": [
              "<div>\n",
              "<style scoped>\n",
              "    .dataframe tbody tr th:only-of-type {\n",
              "        vertical-align: middle;\n",
              "    }\n",
              "\n",
              "    .dataframe tbody tr th {\n",
              "        vertical-align: top;\n",
              "    }\n",
              "\n",
              "    .dataframe thead th {\n",
              "        text-align: right;\n",
              "    }\n",
              "</style>\n",
              "<table border=\"1\" class=\"dataframe\">\n",
              "  <thead>\n",
              "    <tr style=\"text-align: right;\">\n",
              "      <th></th>\n",
              "      <th>asset_id</th>\n",
              "      <th>asset_description</th>\n",
              "      <th>asset_title</th>\n",
              "      <th>custom_stop_desc</th>\n",
              "      <th>custom_stop_title</th>\n",
              "      <th>asset_description_cleaned</th>\n",
              "      <th>asset_title_cleaned</th>\n",
              "      <th>Domain</th>\n",
              "    </tr>\n",
              "  </thead>\n",
              "  <tbody>\n",
              "    <tr>\n",
              "      <th>0</th>\n",
              "      <td>1</td>\n",
              "      <td>peter drucker the legendary management scholar...</td>\n",
              "      <td>the ascent of the smarter faster lighter enter...</td>\n",
              "      <td>['3a', 'a', 'an', 'on', 'at', 'is', 's', 'do',...</td>\n",
              "      <td>['of']</td>\n",
              "      <td>peter drucker legendary management scholar con...</td>\n",
              "      <td>ascent smarter faster lighter enterprise</td>\n",
              "      <td>CX</td>\n",
              "    </tr>\n",
              "    <tr>\n",
              "      <th>1</th>\n",
              "      <td>2</td>\n",
              "      <td>the software development community has been us...</td>\n",
              "      <td>agile s day has truly arrived</td>\n",
              "      <td>['a', 'u', 'we', 'k', 'i', 'on', 'at', 'is', '...</td>\n",
              "      <td>['s']</td>\n",
              "      <td>software development community using term agil...</td>\n",
              "      <td>agile day truly arrived</td>\n",
              "      <td>Agile</td>\n",
              "    </tr>\n",
              "    <tr>\n",
              "      <th>2</th>\n",
              "      <td>3</td>\n",
              "      <td>many exciting new digital technologies have ev...</td>\n",
              "      <td>riding the cognitive wave</td>\n",
              "      <td>['a', 'we', 'e', 'an', 'on', 'at', 'is', 'do',...</td>\n",
              "      <td>[]</td>\n",
              "      <td>many exciting new digital technology evolved r...</td>\n",
              "      <td>riding cognitive wave</td>\n",
              "      <td>AI</td>\n",
              "    </tr>\n",
              "    <tr>\n",
              "      <th>3</th>\n",
              "      <td>4</td>\n",
              "      <td>we have all seen some eye bulging numbers in r...</td>\n",
              "      <td>using iot data to understand how your products...</td>\n",
              "      <td>['hp', 'a', 'we', 'an', 'on', 'at', 'is', 's',...</td>\n",
              "      <td>['to']</td>\n",
              "      <td>seen eye bulging number recent year internet t...</td>\n",
              "      <td>using iot data understand product perform</td>\n",
              "      <td>IOT</td>\n",
              "    </tr>\n",
              "    <tr>\n",
              "      <th>4</th>\n",
              "      <td>5</td>\n",
              "      <td>you probably need little evidence to believe t...</td>\n",
              "      <td>the view inside our take on the customer exper...</td>\n",
              "      <td>['a', 'we', 'e', 'an', 'i', 'on', 'at', 'is', ...</td>\n",
              "      <td>['on']</td>\n",
              "      <td>probably need little evidence believe experien...</td>\n",
              "      <td>view inside take customer experience revolution</td>\n",
              "      <td>CX</td>\n",
              "    </tr>\n",
              "    <tr>\n",
              "      <th>...</th>\n",
              "      <td>...</td>\n",
              "      <td>...</td>\n",
              "      <td>...</td>\n",
              "      <td>...</td>\n",
              "      <td>...</td>\n",
              "      <td>...</td>\n",
              "      <td>...</td>\n",
              "      <td>...</td>\n",
              "    </tr>\n",
              "    <tr>\n",
              "      <th>77</th>\n",
              "      <td>80</td>\n",
              "      <td>this report is based on tcs larger study on di...</td>\n",
              "      <td>tcs cmo study how retailers are digitally pers...</td>\n",
              "      <td>['3a', 'a', 'we', 'on', 'at', 'is', 's', 'do',...</td>\n",
              "      <td>['to']</td>\n",
              "      <td>report based tc larger study digital marketing...</td>\n",
              "      <td>tc cmo study retailer digitally personalizing ...</td>\n",
              "      <td>Industry</td>\n",
              "    </tr>\n",
              "    <tr>\n",
              "      <th>78</th>\n",
              "      <td>81</td>\n",
              "      <td>this report on marketers in the travel transpo...</td>\n",
              "      <td>tcs cmo study how travel transportation and ho...</td>\n",
              "      <td>['a', 'we', 'e', 'on', 'is', 's', 'do', 'go', ...</td>\n",
              "      <td>['to']</td>\n",
              "      <td>report marketer travel transportation hospital...</td>\n",
              "      <td>tc cmo study travel transportation hospitality...</td>\n",
              "      <td>Industry</td>\n",
              "    </tr>\n",
              "    <tr>\n",
              "      <th>79</th>\n",
              "      <td>83</td>\n",
              "      <td>chief marketing officers have one of the riski...</td>\n",
              "      <td>tcs cmo study stage conversion personalizing c...</td>\n",
              "      <td>['a', 'on', 'at', 'is', 's', 'do', '■', 'vs', ...</td>\n",
              "      <td>['to']</td>\n",
              "      <td>chief marketing officer one riskiest role suit...</td>\n",
              "      <td>tc cmo study stage conversion personalizing co...</td>\n",
              "      <td>Industry</td>\n",
              "    </tr>\n",
              "    <tr>\n",
              "      <th>80</th>\n",
              "      <td>84</td>\n",
              "      <td>the rise of the chief medical officer typicall...</td>\n",
              "      <td>employee wellness analysis creating data drive...</td>\n",
              "      <td>['a', 'an', 'on', 'at', 'is', 's', 'up', 'by',...</td>\n",
              "      <td>[]</td>\n",
              "      <td>rise chief medical officer typically business ...</td>\n",
              "      <td>employee wellness analysis creating data drive...</td>\n",
              "      <td>HR</td>\n",
              "    </tr>\n",
              "    <tr>\n",
              "      <th>81</th>\n",
              "      <td>85</td>\n",
              "      <td>abstract as nations around the world deal with...</td>\n",
              "      <td>why the emotional wellbeing of your employees ...</td>\n",
              "      <td>['a', 'we', 'an', 'on', 'is', 's', 'up', 'by',...</td>\n",
              "      <td>['a', 'of', 'be']</td>\n",
              "      <td>abstract nation around world deal managing cov...</td>\n",
              "      <td>emotional wellbeing employee top priority covid</td>\n",
              "      <td>HR</td>\n",
              "    </tr>\n",
              "  </tbody>\n",
              "</table>\n",
              "<p>82 rows × 8 columns</p>\n",
              "</div>"
            ],
            "text/plain": [
              "    asset_id  ...    Domain\n",
              "0          1  ...        CX\n",
              "1          2  ...     Agile\n",
              "2          3  ...        AI\n",
              "3          4  ...       IOT\n",
              "4          5  ...        CX\n",
              "..       ...  ...       ...\n",
              "77        80  ...  Industry\n",
              "78        81  ...  Industry\n",
              "79        83  ...  Industry\n",
              "80        84  ...        HR\n",
              "81        85  ...        HR\n",
              "\n",
              "[82 rows x 8 columns]"
            ]
          },
          "metadata": {
            "tags": []
          },
          "execution_count": 52
        }
      ]
    },
    {
      "cell_type": "markdown",
      "metadata": {
        "id": "GXvwmR6EFuwX"
      },
      "source": [
        "## Let us get a user and see the top recommendations."
      ]
    },
    {
      "cell_type": "code",
      "metadata": {
        "id": "BKuMvmk5Eqap"
      },
      "source": [
        "\n",
        "user_id = df.uid.sample(1).iloc[0]"
      ],
      "execution_count": null,
      "outputs": []
    },
    {
      "cell_type": "code",
      "metadata": {
        "colab": {
          "base_uri": "https://localhost:8080/"
        },
        "id": "bM9cujLtGHxS",
        "outputId": "598c4d4b-1945-4928-a1aa-2025c5193914"
      },
      "source": [
        "user_id"
      ],
      "execution_count": null,
      "outputs": [
        {
          "output_type": "execute_result",
          "data": {
            "text/plain": [
              "39"
            ]
          },
          "metadata": {
            "tags": []
          },
          "execution_count": 54
        }
      ]
    },
    {
      "cell_type": "code",
      "metadata": {
        "id": "hjSGC3n1GMqG"
      },
      "source": [
        "\n",
        "asset_read_by_user = df[df.uid == user_id]"
      ],
      "execution_count": null,
      "outputs": []
    },
    {
      "cell_type": "code",
      "metadata": {
        "colab": {
          "base_uri": "https://localhost:8080/",
          "height": 175
        },
        "id": "93UlA0-AGU6s",
        "outputId": "c635dd3e-05b2-4bd8-d45f-7f9867772c30"
      },
      "source": [
        "asset_read_by_user"
      ],
      "execution_count": null,
      "outputs": [
        {
          "output_type": "execute_result",
          "data": {
            "text/html": [
              "<div>\n",
              "<style scoped>\n",
              "    .dataframe tbody tr th:only-of-type {\n",
              "        vertical-align: middle;\n",
              "    }\n",
              "\n",
              "    .dataframe tbody tr th {\n",
              "        vertical-align: top;\n",
              "    }\n",
              "\n",
              "    .dataframe thead th {\n",
              "        text-align: right;\n",
              "    }\n",
              "</style>\n",
              "<table border=\"1\" class=\"dataframe\">\n",
              "  <thead>\n",
              "    <tr style=\"text-align: right;\">\n",
              "      <th></th>\n",
              "      <th>uid</th>\n",
              "      <th>asset_id</th>\n",
              "      <th>Ratings</th>\n",
              "      <th>user</th>\n",
              "      <th>asset</th>\n",
              "      <th>rating</th>\n",
              "    </tr>\n",
              "  </thead>\n",
              "  <tbody>\n",
              "    <tr>\n",
              "      <th>302</th>\n",
              "      <td>39</td>\n",
              "      <td>4</td>\n",
              "      <td>1</td>\n",
              "      <td>38</td>\n",
              "      <td>3</td>\n",
              "      <td>1.0</td>\n",
              "    </tr>\n",
              "    <tr>\n",
              "      <th>304</th>\n",
              "      <td>39</td>\n",
              "      <td>50</td>\n",
              "      <td>3</td>\n",
              "      <td>38</td>\n",
              "      <td>49</td>\n",
              "      <td>3.0</td>\n",
              "    </tr>\n",
              "    <tr>\n",
              "      <th>305</th>\n",
              "      <td>39</td>\n",
              "      <td>75</td>\n",
              "      <td>1</td>\n",
              "      <td>38</td>\n",
              "      <td>72</td>\n",
              "      <td>1.0</td>\n",
              "    </tr>\n",
              "    <tr>\n",
              "      <th>303</th>\n",
              "      <td>39</td>\n",
              "      <td>44</td>\n",
              "      <td>1</td>\n",
              "      <td>38</td>\n",
              "      <td>43</td>\n",
              "      <td>1.0</td>\n",
              "    </tr>\n",
              "  </tbody>\n",
              "</table>\n",
              "</div>"
            ],
            "text/plain": [
              "     uid  asset_id  Ratings  user  asset  rating\n",
              "302   39         4        1    38      3     1.0\n",
              "304   39        50        3    38     49     3.0\n",
              "305   39        75        1    38     72     1.0\n",
              "303   39        44        1    38     43     1.0"
            ]
          },
          "metadata": {
            "tags": []
          },
          "execution_count": 56
        }
      ]
    },
    {
      "cell_type": "code",
      "metadata": {
        "id": "1rEXYeseGXdM"
      },
      "source": [
        "asset_not_read = asset_df[\n",
        "    ~asset_df[\"asset_id\"].isin(asset_read_by_user.asset_id.values)\n",
        "][\"asset_id\"]"
      ],
      "execution_count": null,
      "outputs": []
    },
    {
      "cell_type": "code",
      "metadata": {
        "colab": {
          "base_uri": "https://localhost:8080/"
        },
        "id": "Wt6cl-NTHAHb",
        "outputId": "70f3c252-3eeb-41e6-b343-d99d71303803"
      },
      "source": [
        "asset_not_read"
      ],
      "execution_count": null,
      "outputs": [
        {
          "output_type": "execute_result",
          "data": {
            "text/plain": [
              "0      1\n",
              "1      2\n",
              "2      3\n",
              "4      5\n",
              "5      6\n",
              "      ..\n",
              "77    80\n",
              "78    81\n",
              "79    83\n",
              "80    84\n",
              "81    85\n",
              "Name: asset_id, Length: 78, dtype: int64"
            ]
          },
          "metadata": {
            "tags": []
          },
          "execution_count": 58
        }
      ]
    },
    {
      "cell_type": "code",
      "metadata": {
        "id": "u29C-2I9HCdI"
      },
      "source": [
        "asset_not_read = list(\n",
        "    set(asset_not_read).intersection(set(asset2asset_encoded.keys()))\n",
        ")"
      ],
      "execution_count": null,
      "outputs": []
    },
    {
      "cell_type": "code",
      "metadata": {
        "colab": {
          "base_uri": "https://localhost:8080/"
        },
        "id": "LoC-fN2xHYJN",
        "outputId": "fbeaeb36-7960-49e2-ac87-82d032ee3204"
      },
      "source": [
        "print(asset_not_read)"
      ],
      "execution_count": null,
      "outputs": [
        {
          "output_type": "stream",
          "text": [
            "[1, 2, 3, 5, 6, 7, 8, 9, 10, 11, 12, 13, 14, 15, 16, 17, 18, 19, 20, 21, 22, 23, 24, 25, 26, 27, 28, 29, 30, 31, 32, 33, 34, 35, 36, 37, 38, 39, 40, 41, 42, 43, 45, 46, 47, 48, 49, 51, 52, 53, 54, 55, 56, 57, 59, 60, 61, 62, 63, 65, 66, 67, 68, 69, 70, 71, 72, 73, 74, 76, 77, 78, 79, 80, 81, 83, 84, 85]\n"
          ],
          "name": "stdout"
        }
      ]
    },
    {
      "cell_type": "code",
      "metadata": {
        "id": "LzugYxSyHaqU"
      },
      "source": [
        "asset_not_read = [[asset2asset_encoded.get(x)] for x in asset_not_read]"
      ],
      "execution_count": null,
      "outputs": []
    },
    {
      "cell_type": "code",
      "metadata": {
        "colab": {
          "base_uri": "https://localhost:8080/"
        },
        "id": "lrcr2ANIH8eV",
        "outputId": "cea235d4-82db-460a-aa95-e5154a2f6d32"
      },
      "source": [
        "print(asset_not_read)"
      ],
      "execution_count": null,
      "outputs": [
        {
          "output_type": "stream",
          "text": [
            "[[0], [1], [2], [4], [5], [6], [7], [8], [9], [10], [11], [12], [13], [14], [15], [16], [17], [18], [19], [20], [21], [22], [23], [24], [25], [26], [27], [28], [29], [30], [31], [32], [33], [34], [35], [36], [37], [38], [39], [40], [41], [42], [44], [45], [46], [47], [48], [50], [51], [52], [53], [54], [55], [56], [57], [58], [59], [60], [61], [62], [63], [64], [65], [66], [67], [68], [69], [70], [71], [73], [74], [75], [76], [77], [78], [79], [80], [81]]\n"
          ],
          "name": "stdout"
        }
      ]
    },
    {
      "cell_type": "code",
      "metadata": {
        "id": "8ALGWuaWH_Wq"
      },
      "source": [
        "\n",
        "user_encoder = user2user_encoded.get(user_id)"
      ],
      "execution_count": null,
      "outputs": []
    },
    {
      "cell_type": "code",
      "metadata": {
        "colab": {
          "base_uri": "https://localhost:8080/"
        },
        "id": "3M1bupmwIJEO",
        "outputId": "acaa2a70-6208-491b-c03c-599ebbb22f58"
      },
      "source": [
        "user_encoder"
      ],
      "execution_count": null,
      "outputs": [
        {
          "output_type": "execute_result",
          "data": {
            "text/plain": [
              "38"
            ]
          },
          "metadata": {
            "tags": []
          },
          "execution_count": 64
        }
      ]
    },
    {
      "cell_type": "code",
      "metadata": {
        "id": "QjVEJJ3sIKoR"
      },
      "source": [
        "user_asset_array = np.hstack(\n",
        "    ([[user_encoder]] * len(asset_not_read), asset_not_read)\n",
        ")"
      ],
      "execution_count": null,
      "outputs": []
    },
    {
      "cell_type": "code",
      "metadata": {
        "colab": {
          "base_uri": "https://localhost:8080/"
        },
        "id": "3OV92i6SIVLk",
        "outputId": "9dbd048a-b2b5-48be-9198-5e5cc69bd540"
      },
      "source": [
        "print(user_asset_array)"
      ],
      "execution_count": null,
      "outputs": [
        {
          "output_type": "stream",
          "text": [
            "[[38  0]\n",
            " [38  1]\n",
            " [38  2]\n",
            " [38  4]\n",
            " [38  5]\n",
            " [38  6]\n",
            " [38  7]\n",
            " [38  8]\n",
            " [38  9]\n",
            " [38 10]\n",
            " [38 11]\n",
            " [38 12]\n",
            " [38 13]\n",
            " [38 14]\n",
            " [38 15]\n",
            " [38 16]\n",
            " [38 17]\n",
            " [38 18]\n",
            " [38 19]\n",
            " [38 20]\n",
            " [38 21]\n",
            " [38 22]\n",
            " [38 23]\n",
            " [38 24]\n",
            " [38 25]\n",
            " [38 26]\n",
            " [38 27]\n",
            " [38 28]\n",
            " [38 29]\n",
            " [38 30]\n",
            " [38 31]\n",
            " [38 32]\n",
            " [38 33]\n",
            " [38 34]\n",
            " [38 35]\n",
            " [38 36]\n",
            " [38 37]\n",
            " [38 38]\n",
            " [38 39]\n",
            " [38 40]\n",
            " [38 41]\n",
            " [38 42]\n",
            " [38 44]\n",
            " [38 45]\n",
            " [38 46]\n",
            " [38 47]\n",
            " [38 48]\n",
            " [38 50]\n",
            " [38 51]\n",
            " [38 52]\n",
            " [38 53]\n",
            " [38 54]\n",
            " [38 55]\n",
            " [38 56]\n",
            " [38 57]\n",
            " [38 58]\n",
            " [38 59]\n",
            " [38 60]\n",
            " [38 61]\n",
            " [38 62]\n",
            " [38 63]\n",
            " [38 64]\n",
            " [38 65]\n",
            " [38 66]\n",
            " [38 67]\n",
            " [38 68]\n",
            " [38 69]\n",
            " [38 70]\n",
            " [38 71]\n",
            " [38 73]\n",
            " [38 74]\n",
            " [38 75]\n",
            " [38 76]\n",
            " [38 77]\n",
            " [38 78]\n",
            " [38 79]\n",
            " [38 80]\n",
            " [38 81]]\n"
          ],
          "name": "stdout"
        }
      ]
    },
    {
      "cell_type": "code",
      "metadata": {
        "id": "bOdIsdEFIYze"
      },
      "source": [
        "\n",
        "ratings = model.predict(user_asset_array).flatten()"
      ],
      "execution_count": null,
      "outputs": []
    },
    {
      "cell_type": "code",
      "metadata": {
        "colab": {
          "base_uri": "https://localhost:8080/"
        },
        "id": "Xmg46-jNI1lK",
        "outputId": "a2c027f8-e0b1-415e-83be-7521df40005c"
      },
      "source": [
        "ratings"
      ],
      "execution_count": null,
      "outputs": [
        {
          "output_type": "execute_result",
          "data": {
            "text/plain": [
              "array([0.4370028 , 0.37786347, 0.37163818, 0.3624782 , 0.2659419 ,\n",
              "       0.44798598, 0.44062883, 0.31932232, 0.32725307, 0.5005755 ,\n",
              "       0.410723  , 0.47469717, 0.33772746, 0.35536113, 0.30787465,\n",
              "       0.409173  , 0.51407224, 0.38214672, 0.43350732, 0.2811485 ,\n",
              "       0.30768794, 0.3781656 , 0.35474294, 0.24734078, 0.3048864 ,\n",
              "       0.3365564 , 0.37453067, 0.429996  , 0.29735538, 0.29084003,\n",
              "       0.30058283, 0.3979339 , 0.22703148, 0.21916544, 0.23172428,\n",
              "       0.23623967, 0.23634891, 0.29096034, 0.16608997, 0.36396092,\n",
              "       0.29598305, 0.23321582, 0.27538812, 0.2941299 , 0.20364141,\n",
              "       0.25055313, 0.22055925, 0.3083623 , 0.2597093 , 0.31457093,\n",
              "       0.27898243, 0.39624223, 0.34221476, 0.22737555, 0.36024147,\n",
              "       0.24816506, 0.27005666, 0.2629543 , 0.23611939, 0.29690024,\n",
              "       0.2845745 , 0.35624266, 0.29336748, 0.34002173, 0.13906068,\n",
              "       0.23108897, 0.11977509, 0.18488602, 0.14277956, 0.15490957,\n",
              "       0.1178858 , 0.11273611, 0.17276013, 0.13972309, 0.12214167,\n",
              "       0.18370342, 0.18388574, 0.16504931], dtype=float32)"
            ]
          },
          "metadata": {
            "tags": []
          },
          "execution_count": 68
        }
      ]
    },
    {
      "cell_type": "code",
      "metadata": {
        "id": "tHly3Y_rATel"
      },
      "source": [
        "ratings_unnorm = [((i * (max_rating - min_rating))+ min_rating) for i in ratings]\n"
      ],
      "execution_count": null,
      "outputs": []
    },
    {
      "cell_type": "code",
      "metadata": {
        "colab": {
          "base_uri": "https://localhost:8080/"
        },
        "id": "17tg9F3JAp4l",
        "outputId": "7ce32448-f284-4685-b5ce-27c304778c8a"
      },
      "source": [
        "print(ratings_unnorm)"
      ],
      "execution_count": null,
      "outputs": [
        {
          "output_type": "stream",
          "text": [
            "[2.7480112314224243, 2.511453866958618, 2.4865527153015137, 2.4499127864837646, 2.0637675523757935, 2.791943907737732, 2.7625153064727783, 2.2772892713546753, 2.309012293815613, 3.0023019313812256, 2.642892003059387, 2.8987886905670166, 2.3509098291397095, 2.421444535255432, 2.231498599052429, 2.6366920471191406, 3.056288957595825, 2.5285868644714355, 2.7340292930603027, 2.12459397315979, 2.2307517528533936, 2.512662410736084, 2.4189717769622803, 1.9893631339073181, 2.219545602798462, 2.346225619316101, 2.4981226921081543, 2.7199840545654297, 2.189421534538269, 2.163360118865967, 2.202331304550171, 2.591735601425171, 1.9081259369850159, 1.876661777496338, 1.92689710855484, 1.9449586868286133, 1.9453956484794617, 2.1638413667678833, 1.6643598675727844, 2.455843687057495, 2.1839321851730347, 1.9328632950782776, 2.1015524864196777, 2.1765196323394775, 1.814565658569336, 2.0022125244140625, 1.8822370171546936, 2.2334492206573486, 2.038837194442749, 2.2582837343215942, 2.1159297227859497, 2.5849689245224, 2.368859052658081, 1.9095022082328796, 2.4409658908843994, 1.9926602244377136, 2.0802266597747803, 2.0518171787261963, 1.9444775581359863, 2.1876009702682495, 2.1382980346679688, 2.4249706268310547, 2.1734699010849, 2.3600869178771973, 1.5562427043914795, 1.9243558645248413, 1.4791003465652466, 1.7395440936088562, 1.5711182355880737, 1.6196382641792297, 1.4715431928634644, 1.450944423675537, 1.6910405158996582, 1.5588923692703247, 1.4885666966438293, 1.7348136901855469, 1.7355429530143738, 1.6601972579956055]\n"
          ],
          "name": "stdout"
        }
      ]
    },
    {
      "cell_type": "code",
      "metadata": {
        "id": "35EZlusrI4po"
      },
      "source": [
        "\n",
        "top_ratings_indices = ratings.argsort()[-5:][::-1]"
      ],
      "execution_count": null,
      "outputs": []
    },
    {
      "cell_type": "code",
      "metadata": {
        "colab": {
          "base_uri": "https://localhost:8080/"
        },
        "id": "UMZaOBfJI-fd",
        "outputId": "65e0712a-1289-4e9a-c0fc-430730c846b3"
      },
      "source": [
        "top_ratings_indices"
      ],
      "execution_count": null,
      "outputs": [
        {
          "output_type": "execute_result",
          "data": {
            "text/plain": [
              "array([16,  9, 11,  5,  6])"
            ]
          },
          "metadata": {
            "tags": []
          },
          "execution_count": 79
        }
      ]
    },
    {
      "cell_type": "code",
      "metadata": {
        "colab": {
          "base_uri": "https://localhost:8080/"
        },
        "id": "WmonZ_zvJAdn",
        "outputId": "6e6cb61f-3e3f-46b2-eae9-207f4c16ba91"
      },
      "source": [
        "print(asset_not_read)"
      ],
      "execution_count": null,
      "outputs": [
        {
          "output_type": "stream",
          "text": [
            "[[0], [1], [2], [4], [5], [6], [7], [8], [9], [10], [11], [12], [13], [14], [15], [16], [17], [18], [19], [20], [21], [22], [23], [24], [25], [26], [27], [28], [29], [30], [31], [32], [33], [34], [35], [36], [37], [38], [39], [40], [41], [42], [44], [45], [46], [47], [48], [50], [51], [52], [53], [54], [55], [56], [57], [58], [59], [60], [61], [62], [63], [64], [65], [66], [67], [68], [69], [70], [71], [73], [74], [75], [76], [77], [78], [79], [80], [81]]\n"
          ],
          "name": "stdout"
        }
      ]
    },
    {
      "cell_type": "code",
      "metadata": {
        "colab": {
          "base_uri": "https://localhost:8080/"
        },
        "id": "puMOYlIYJJM3",
        "outputId": "b21389f5-15bb-4347-8e18-7cee4319a9e0"
      },
      "source": [
        "print(asset_not_read[16][0])\n",
        "print(asset_encoded2asset.get(17)) #assetid"
      ],
      "execution_count": null,
      "outputs": [
        {
          "output_type": "stream",
          "text": [
            "17\n",
            "18\n"
          ],
          "name": "stdout"
        }
      ]
    },
    {
      "cell_type": "code",
      "metadata": {
        "id": "-U1LuEyyJlMG"
      },
      "source": [
        "\n",
        "recommended_asset_ids = [\n",
        "    asset_encoded2asset.get(asset_not_read[x][0]) for x in top_ratings_indices\n",
        "]\n"
      ],
      "execution_count": null,
      "outputs": []
    },
    {
      "cell_type": "code",
      "metadata": {
        "colab": {
          "base_uri": "https://localhost:8080/"
        },
        "id": "7vbqnZpTKi5D",
        "outputId": "6c91d9f6-991d-4b04-bcc6-574f00ca7884"
      },
      "source": [
        "recommended_asset_ids"
      ],
      "execution_count": null,
      "outputs": [
        {
          "output_type": "execute_result",
          "data": {
            "text/plain": [
              "[18, 11, 13, 7, 8]"
            ]
          },
          "metadata": {
            "tags": []
          },
          "execution_count": 83
        }
      ]
    },
    {
      "cell_type": "code",
      "metadata": {
        "colab": {
          "base_uri": "https://localhost:8080/",
          "height": 135
        },
        "id": "0tD_8Kt6M7e8",
        "outputId": "9c88a956-5a8c-4ef4-b151-baa361f3cfa7"
      },
      "source": [
        "asset_df[asset_df.asset_id==18]"
      ],
      "execution_count": null,
      "outputs": [
        {
          "output_type": "execute_result",
          "data": {
            "text/html": [
              "<div>\n",
              "<style scoped>\n",
              "    .dataframe tbody tr th:only-of-type {\n",
              "        vertical-align: middle;\n",
              "    }\n",
              "\n",
              "    .dataframe tbody tr th {\n",
              "        vertical-align: top;\n",
              "    }\n",
              "\n",
              "    .dataframe thead th {\n",
              "        text-align: right;\n",
              "    }\n",
              "</style>\n",
              "<table border=\"1\" class=\"dataframe\">\n",
              "  <thead>\n",
              "    <tr style=\"text-align: right;\">\n",
              "      <th></th>\n",
              "      <th>asset_id</th>\n",
              "      <th>asset_description</th>\n",
              "      <th>asset_title</th>\n",
              "      <th>custom_stop_desc</th>\n",
              "      <th>custom_stop_title</th>\n",
              "      <th>asset_description_cleaned</th>\n",
              "      <th>asset_title_cleaned</th>\n",
              "      <th>Domain</th>\n",
              "    </tr>\n",
              "  </thead>\n",
              "  <tbody>\n",
              "    <tr>\n",
              "      <th>17</th>\n",
              "      <td>18</td>\n",
              "      <td>the relentless spread of mobile apps now offer...</td>\n",
              "      <td>designing for the small silver screen</td>\n",
              "      <td>['a', 'us', '7a', 'an', 'on', 'at', 'is', 's',...</td>\n",
              "      <td>[]</td>\n",
              "      <td>relentless spread mobile apps offer company un...</td>\n",
              "      <td>designing small silver screen</td>\n",
              "      <td>CX</td>\n",
              "    </tr>\n",
              "  </tbody>\n",
              "</table>\n",
              "</div>"
            ],
            "text/plain": [
              "    asset_id  ... Domain\n",
              "17        18  ...     CX\n",
              "\n",
              "[1 rows x 8 columns]"
            ]
          },
          "metadata": {
            "tags": []
          },
          "execution_count": 89
        }
      ]
    },
    {
      "cell_type": "code",
      "metadata": {
        "colab": {
          "base_uri": "https://localhost:8080/"
        },
        "id": "uT5MLE9VNXxj",
        "outputId": "27cc74fd-a6f7-4bfc-aa9c-f403b789e52d"
      },
      "source": [
        "\n",
        "recommended_assets = asset_df[asset_df[\"asset_id\"].isin(recommended_asset_ids)]\n",
        "print(recommended_assets)"
      ],
      "execution_count": null,
      "outputs": [
        {
          "output_type": "stream",
          "text": [
            "    asset_id  ...   Domain\n",
            "6          7  ...       AI\n",
            "7          8  ...  BigData\n",
            "10        11  ...       HR\n",
            "12        13  ...       AI\n",
            "17        18  ...       CX\n",
            "\n",
            "[5 rows x 8 columns]\n"
          ],
          "name": "stdout"
        }
      ]
    },
    {
      "cell_type": "code",
      "metadata": {
        "colab": {
          "base_uri": "https://localhost:8080/"
        },
        "id": "c53vIscUKlxH",
        "outputId": "b571fb98-f0fd-4b2b-8671-fd14107d0020"
      },
      "source": [
        "\n",
        "print(\"Showing recommendations for user: {}\".format(user_id))\n",
        "print(\"====\" * 9)\n",
        "print(\"Assets with high ratings from user\")\n",
        "print(\"----\" * 8)\n",
        "top_assets_user = (\n",
        "    asset_read_by_user.sort_values(by=\"rating\", ascending=False)\n",
        "    .head()\n",
        "    .asset_id.values\n",
        ")\n",
        "asset_df_rows = asset_df[asset_df[\"asset_id\"].isin(top_assets_user)]\n",
        "for row in asset_df_rows.itertuples():\n",
        "    print(row.asset_id, \":\", row.asset_title, \":\",row.Domain)\n",
        "\n",
        "print(\"----\" * 8)\n",
        "print(\"Top 5 movie recommendations\")\n",
        "print(\"----\" * 8)\n",
        "\n",
        "for id in recommended_asset_ids:\n",
        "    recommended_assets = asset_df[asset_df[\"asset_id\"].isin([id])]\n",
        "    for row in recommended_assets.itertuples():\n",
        "        print(row.asset_id, \":\", row.asset_title, \":\",row.Domain)\n"
      ],
      "execution_count": null,
      "outputs": [
        {
          "output_type": "stream",
          "text": [
            "Showing recommendations for user: 39\n",
            "====================================\n",
            "Assets with high ratings from user\n",
            "--------------------------------\n",
            "4 : using iot data to understand how your products perform : IOT\n",
            "44 : raising your iot security game : IOT\n",
            "50 : using iot technologies to completely rethink the customer experience interview with ric merrifield : IOT\n",
            "75 : translating ideas for iot initiatives into dollars and cents : IOT\n",
            "--------------------------------\n",
            "Top 5 movie recommendations\n",
            "--------------------------------\n",
            "18 : designing for the small silver screen : CX\n",
            "11 : winning today s talent race how to identify develop and retain talent better than your rivals : HR\n",
            "13 : how microsoft uses machine learning to handle workloads that humans cannot : AI\n",
            "7 : case study why artificial intelligence is a big part of ap s future : AI\n",
            "8 : banking and financial services analytics for competitive advantage : BigData\n"
          ],
          "name": "stdout"
        }
      ]
    },
    {
      "cell_type": "markdown",
      "metadata": {
        "id": "7I40_KCkTno7"
      },
      "source": [
        "# Saving Files for later use in testing"
      ]
    },
    {
      "cell_type": "code",
      "metadata": {
        "colab": {
          "base_uri": "https://localhost:8080/"
        },
        "id": "9NVm-D-5TaAf",
        "outputId": "d660346f-1da9-4fdf-df7f-b22adb5108ac"
      },
      "source": [
        "model.save(\"/content/drive/MyDrive/Collaborative_Recommendation/Keras/Model/modelv1\", save_format='tf')"
      ],
      "execution_count": null,
      "outputs": [
        {
          "output_type": "stream",
          "text": [
            "INFO:tensorflow:Assets written to: /content/drive/MyDrive/Collaborative_Recommendation/Keras/Model/modelv1/assets\n"
          ],
          "name": "stdout"
        }
      ]
    },
    {
      "cell_type": "code",
      "metadata": {
        "id": "goZT_hd1UJU7"
      },
      "source": [
        "with open('/content/drive/MyDrive/Collaborative_Recommendation/Keras/asset2asset_encoded.pkl', 'wb') as a2ae:\n",
        "   pickle.dump(asset2asset_encoded, a2ae)"
      ],
      "execution_count": null,
      "outputs": []
    },
    {
      "cell_type": "code",
      "metadata": {
        "id": "MHEGdMcpU1hp"
      },
      "source": [
        "with open('/content/drive/MyDrive/Collaborative_Recommendation/Keras/user2user_encoded.pkl', 'wb') as u2ue:\n",
        "   pickle.dump(user2user_encoded, u2ue)"
      ],
      "execution_count": null,
      "outputs": []
    },
    {
      "cell_type": "code",
      "metadata": {
        "id": "UT6-IB0VVa7C"
      },
      "source": [
        "with open('/content/drive/MyDrive/Collaborative_Recommendation/Keras/asset_encode2asset.pkl', 'wb') as ae2a:\n",
        "   pickle.dump(asset_encoded2asset, ae2a)"
      ],
      "execution_count": null,
      "outputs": []
    },
    {
      "cell_type": "code",
      "metadata": {
        "colab": {
          "base_uri": "https://localhost:8080/",
          "height": 424
        },
        "id": "-dWjBc50V314",
        "outputId": "c841de3c-de82-498c-c621-e267ca7c46c9"
      },
      "source": [
        "df"
      ],
      "execution_count": null,
      "outputs": [
        {
          "output_type": "execute_result",
          "data": {
            "text/html": [
              "<div>\n",
              "<style scoped>\n",
              "    .dataframe tbody tr th:only-of-type {\n",
              "        vertical-align: middle;\n",
              "    }\n",
              "\n",
              "    .dataframe tbody tr th {\n",
              "        vertical-align: top;\n",
              "    }\n",
              "\n",
              "    .dataframe thead th {\n",
              "        text-align: right;\n",
              "    }\n",
              "</style>\n",
              "<table border=\"1\" class=\"dataframe\">\n",
              "  <thead>\n",
              "    <tr style=\"text-align: right;\">\n",
              "      <th></th>\n",
              "      <th>uid</th>\n",
              "      <th>asset_id</th>\n",
              "      <th>Ratings</th>\n",
              "      <th>user</th>\n",
              "      <th>asset</th>\n",
              "      <th>rating</th>\n",
              "    </tr>\n",
              "  </thead>\n",
              "  <tbody>\n",
              "    <tr>\n",
              "      <th>296</th>\n",
              "      <td>37</td>\n",
              "      <td>4</td>\n",
              "      <td>4</td>\n",
              "      <td>36</td>\n",
              "      <td>3</td>\n",
              "      <td>4.0</td>\n",
              "    </tr>\n",
              "    <tr>\n",
              "      <th>81</th>\n",
              "      <td>7</td>\n",
              "      <td>22</td>\n",
              "      <td>4</td>\n",
              "      <td>6</td>\n",
              "      <td>21</td>\n",
              "      <td>4.0</td>\n",
              "    </tr>\n",
              "    <tr>\n",
              "      <th>77</th>\n",
              "      <td>7</td>\n",
              "      <td>15</td>\n",
              "      <td>4</td>\n",
              "      <td>6</td>\n",
              "      <td>14</td>\n",
              "      <td>4.0</td>\n",
              "    </tr>\n",
              "    <tr>\n",
              "      <th>208</th>\n",
              "      <td>21</td>\n",
              "      <td>36</td>\n",
              "      <td>3</td>\n",
              "      <td>20</td>\n",
              "      <td>35</td>\n",
              "      <td>3.0</td>\n",
              "    </tr>\n",
              "    <tr>\n",
              "      <th>318</th>\n",
              "      <td>43</td>\n",
              "      <td>19</td>\n",
              "      <td>5</td>\n",
              "      <td>42</td>\n",
              "      <td>18</td>\n",
              "      <td>5.0</td>\n",
              "    </tr>\n",
              "    <tr>\n",
              "      <th>...</th>\n",
              "      <td>...</td>\n",
              "      <td>...</td>\n",
              "      <td>...</td>\n",
              "      <td>...</td>\n",
              "      <td>...</td>\n",
              "      <td>...</td>\n",
              "    </tr>\n",
              "    <tr>\n",
              "      <th>71</th>\n",
              "      <td>6</td>\n",
              "      <td>71</td>\n",
              "      <td>5</td>\n",
              "      <td>5</td>\n",
              "      <td>68</td>\n",
              "      <td>5.0</td>\n",
              "    </tr>\n",
              "    <tr>\n",
              "      <th>106</th>\n",
              "      <td>9</td>\n",
              "      <td>22</td>\n",
              "      <td>2</td>\n",
              "      <td>8</td>\n",
              "      <td>21</td>\n",
              "      <td>2.0</td>\n",
              "    </tr>\n",
              "    <tr>\n",
              "      <th>270</th>\n",
              "      <td>32</td>\n",
              "      <td>3</td>\n",
              "      <td>5</td>\n",
              "      <td>31</td>\n",
              "      <td>2</td>\n",
              "      <td>5.0</td>\n",
              "    </tr>\n",
              "    <tr>\n",
              "      <th>435</th>\n",
              "      <td>72</td>\n",
              "      <td>24</td>\n",
              "      <td>5</td>\n",
              "      <td>71</td>\n",
              "      <td>23</td>\n",
              "      <td>5.0</td>\n",
              "    </tr>\n",
              "    <tr>\n",
              "      <th>102</th>\n",
              "      <td>9</td>\n",
              "      <td>9</td>\n",
              "      <td>4</td>\n",
              "      <td>8</td>\n",
              "      <td>8</td>\n",
              "      <td>4.0</td>\n",
              "    </tr>\n",
              "  </tbody>\n",
              "</table>\n",
              "<p>704 rows × 6 columns</p>\n",
              "</div>"
            ],
            "text/plain": [
              "     uid  asset_id  Ratings  user  asset  rating\n",
              "296   37         4        4    36      3     4.0\n",
              "81     7        22        4     6     21     4.0\n",
              "77     7        15        4     6     14     4.0\n",
              "208   21        36        3    20     35     3.0\n",
              "318   43        19        5    42     18     5.0\n",
              "..   ...       ...      ...   ...    ...     ...\n",
              "71     6        71        5     5     68     5.0\n",
              "106    9        22        2     8     21     2.0\n",
              "270   32         3        5    31      2     5.0\n",
              "435   72        24        5    71     23     5.0\n",
              "102    9         9        4     8      8     4.0\n",
              "\n",
              "[704 rows x 6 columns]"
            ]
          },
          "metadata": {
            "tags": []
          },
          "execution_count": 96
        }
      ]
    },
    {
      "cell_type": "code",
      "metadata": {
        "id": "zDBz18y6XX0v"
      },
      "source": [
        "df.to_csv(\"/content/drive/MyDrive/Collaborative_Recommendation/Keras/ratingsv1keras.csv\",index=False)"
      ],
      "execution_count": null,
      "outputs": []
    },
    {
      "cell_type": "code",
      "metadata": {
        "id": "ZjIo23XqXjgB"
      },
      "source": [
        "df.to_pickle(\"/content/drive/MyDrive/Collaborative_Recommendation/Keras/ratingsv1keras.pkl\")"
      ],
      "execution_count": null,
      "outputs": []
    },
    {
      "cell_type": "code",
      "metadata": {
        "id": "6Q_Bq_hXX4pH"
      },
      "source": [
        ""
      ],
      "execution_count": null,
      "outputs": []
    }
  ]
}