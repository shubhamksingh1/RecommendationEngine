{
 "cells": [
  {
   "cell_type": "markdown",
   "metadata": {
    "id": "Az-y_3qxH3gA"
   },
   "source": [
    "Let's first install and import the necessary packages for this colab.\n"
   ]
  },
  {
   "cell_type": "code",
   "execution_count": 1,
   "metadata": {},
   "outputs": [
    {
     "name": "stdout",
     "output_type": "stream",
     "text": [
      "\u001b[31mERROR: pip's dependency resolver does not currently take into account all the packages that are installed. This behaviour is the source of the following dependency conflicts.\n",
      "tensorflow-recommenders 0.5.2 requires tensorflow>=2.3.0, but you have tensorflow 1.15.0 which is incompatible.\u001b[0m\n",
      "\u001b[33mWARNING: You are using pip version 21.1.2; however, version 21.2.3 is available.\n",
      "You should consider upgrading via the '/home/ec2-user/anaconda3/envs/python3/bin/python -m pip install --upgrade pip' command.\u001b[0m\n"
     ]
    }
   ],
   "source": [
    "!pip install -q tensorflow==1.15.0"
   ]
  },
  {
   "cell_type": "code",
   "execution_count": 2,
   "metadata": {
    "id": "PjfZWVEWAmxS"
   },
   "outputs": [
    {
     "name": "stdout",
     "output_type": "stream",
     "text": [
      "\u001b[33mWARNING: You are using pip version 21.1.2; however, version 21.2.3 is available.\n",
      "You should consider upgrading via the '/home/ec2-user/anaconda3/envs/python3/bin/python -m pip install --upgrade pip' command.\u001b[0m\n",
      "\u001b[33mWARNING: You are using pip version 21.1.2; however, version 21.2.3 is available.\n",
      "You should consider upgrading via the '/home/ec2-user/anaconda3/envs/python3/bin/python -m pip install --upgrade pip' command.\u001b[0m\n"
     ]
    }
   ],
   "source": [
    "!pip install -q tensorflow-recommenders\n",
    "!pip install -q --upgrade tensorflow-datasets"
   ]
  },
  {
   "cell_type": "code",
   "execution_count": 3,
   "metadata": {
    "id": "DqsyLA0UHeCl"
   },
   "outputs": [],
   "source": [
    "import pprint\n",
    "\n",
    "%matplotlib inline\n",
    "import matplotlib.pyplot as plt\n",
    "from mpl_toolkits.axes_grid1 import make_axes_locatable\n",
    "\n",
    "import numpy as np\n",
    "import tensorflow as tf\n",
    "import tensorflow_datasets as tfds\n",
    "\n",
    "import tensorflow_recommenders as tfrs"
   ]
  },
  {
   "cell_type": "code",
   "execution_count": 4,
   "metadata": {},
   "outputs": [],
   "source": [
    "import pandas as pd\n",
    "import numpy as np"
   ]
  },
  {
   "cell_type": "markdown",
   "metadata": {
    "id": "HO6d-0zoHrz8"
   },
   "source": [
    "We can generate the data for this as follows:\n"
   ]
  },
  {
   "cell_type": "markdown",
   "metadata": {
    "id": "0wU4FcpfHCZM"
   },
   "source": [
    "## Movielens latest small"
   ]
  },
  {
   "cell_type": "markdown",
   "metadata": {
    "id": "8Rvlem07wfwH"
   },
   "source": [
    "### Data processing\n",
    "\n",
    "The data processing procedure follows a similar procedure as the [basic ranking tutorial](https://www.tensorflow.org/recommenders/examples/basic_ranking)."
   ]
  },
  {
   "cell_type": "code",
   "execution_count": 6,
   "metadata": {},
   "outputs": [],
   "source": [
    "# ratings = tfds.load('movielens/1m-ratings', split=\"train\")"
   ]
  },
  {
   "cell_type": "code",
   "execution_count": 5,
   "metadata": {},
   "outputs": [],
   "source": [
    "path = 'ml-1m/'"
   ]
  },
  {
   "cell_type": "code",
   "execution_count": 6,
   "metadata": {},
   "outputs": [],
   "source": [
    "ratings = pd.read_csv(path+'ratings.csv')"
   ]
  },
  {
   "cell_type": "code",
   "execution_count": 7,
   "metadata": {},
   "outputs": [
    {
     "data": {
      "text/plain": [
       "(1000209, 4)"
      ]
     },
     "execution_count": 7,
     "metadata": {},
     "output_type": "execute_result"
    }
   ],
   "source": [
    "ratings.shape"
   ]
  },
  {
   "cell_type": "code",
   "execution_count": 8,
   "metadata": {},
   "outputs": [
    {
     "data": {
      "text/html": [
       "<div>\n",
       "<style scoped>\n",
       "    .dataframe tbody tr th:only-of-type {\n",
       "        vertical-align: middle;\n",
       "    }\n",
       "\n",
       "    .dataframe tbody tr th {\n",
       "        vertical-align: top;\n",
       "    }\n",
       "\n",
       "    .dataframe thead th {\n",
       "        text-align: right;\n",
       "    }\n",
       "</style>\n",
       "<table border=\"1\" class=\"dataframe\">\n",
       "  <thead>\n",
       "    <tr style=\"text-align: right;\">\n",
       "      <th></th>\n",
       "      <th>user_id</th>\n",
       "      <th>movie_id</th>\n",
       "      <th>rating</th>\n",
       "      <th>timestamp</th>\n",
       "    </tr>\n",
       "  </thead>\n",
       "  <tbody>\n",
       "    <tr>\n",
       "      <th>0</th>\n",
       "      <td>1</td>\n",
       "      <td>1193</td>\n",
       "      <td>5</td>\n",
       "      <td>978300760</td>\n",
       "    </tr>\n",
       "    <tr>\n",
       "      <th>1</th>\n",
       "      <td>1</td>\n",
       "      <td>661</td>\n",
       "      <td>3</td>\n",
       "      <td>978302109</td>\n",
       "    </tr>\n",
       "    <tr>\n",
       "      <th>2</th>\n",
       "      <td>1</td>\n",
       "      <td>914</td>\n",
       "      <td>3</td>\n",
       "      <td>978301968</td>\n",
       "    </tr>\n",
       "    <tr>\n",
       "      <th>3</th>\n",
       "      <td>1</td>\n",
       "      <td>3408</td>\n",
       "      <td>4</td>\n",
       "      <td>978300275</td>\n",
       "    </tr>\n",
       "    <tr>\n",
       "      <th>4</th>\n",
       "      <td>1</td>\n",
       "      <td>2355</td>\n",
       "      <td>5</td>\n",
       "      <td>978824291</td>\n",
       "    </tr>\n",
       "    <tr>\n",
       "      <th>...</th>\n",
       "      <td>...</td>\n",
       "      <td>...</td>\n",
       "      <td>...</td>\n",
       "      <td>...</td>\n",
       "    </tr>\n",
       "    <tr>\n",
       "      <th>1000204</th>\n",
       "      <td>6040</td>\n",
       "      <td>1091</td>\n",
       "      <td>1</td>\n",
       "      <td>956716541</td>\n",
       "    </tr>\n",
       "    <tr>\n",
       "      <th>1000205</th>\n",
       "      <td>6040</td>\n",
       "      <td>1094</td>\n",
       "      <td>5</td>\n",
       "      <td>956704887</td>\n",
       "    </tr>\n",
       "    <tr>\n",
       "      <th>1000206</th>\n",
       "      <td>6040</td>\n",
       "      <td>562</td>\n",
       "      <td>5</td>\n",
       "      <td>956704746</td>\n",
       "    </tr>\n",
       "    <tr>\n",
       "      <th>1000207</th>\n",
       "      <td>6040</td>\n",
       "      <td>1096</td>\n",
       "      <td>4</td>\n",
       "      <td>956715648</td>\n",
       "    </tr>\n",
       "    <tr>\n",
       "      <th>1000208</th>\n",
       "      <td>6040</td>\n",
       "      <td>1097</td>\n",
       "      <td>4</td>\n",
       "      <td>956715569</td>\n",
       "    </tr>\n",
       "  </tbody>\n",
       "</table>\n",
       "<p>1000209 rows × 4 columns</p>\n",
       "</div>"
      ],
      "text/plain": [
       "         user_id  movie_id  rating  timestamp\n",
       "0              1      1193       5  978300760\n",
       "1              1       661       3  978302109\n",
       "2              1       914       3  978301968\n",
       "3              1      3408       4  978300275\n",
       "4              1      2355       5  978824291\n",
       "...          ...       ...     ...        ...\n",
       "1000204     6040      1091       1  956716541\n",
       "1000205     6040      1094       5  956704887\n",
       "1000206     6040       562       5  956704746\n",
       "1000207     6040      1096       4  956715648\n",
       "1000208     6040      1097       4  956715569\n",
       "\n",
       "[1000209 rows x 4 columns]"
      ]
     },
     "execution_count": 8,
     "metadata": {},
     "output_type": "execute_result"
    }
   ],
   "source": [
    "ratings"
   ]
  },
  {
   "cell_type": "code",
   "execution_count": 9,
   "metadata": {},
   "outputs": [],
   "source": [
    "ratings = ratings[['user_id','movie_id','rating']]"
   ]
  },
  {
   "cell_type": "code",
   "execution_count": 12,
   "metadata": {},
   "outputs": [
    {
     "data": {
      "text/plain": [
       "6.0"
      ]
     },
     "execution_count": 12,
     "metadata": {},
     "output_type": "execute_result"
    }
   ],
   "source": [
    "np.float32(6)"
   ]
  },
  {
   "cell_type": "code",
   "execution_count": 13,
   "metadata": {},
   "outputs": [],
   "source": [
    "final_movie_id = [str(i) for i in ratings.movie_id]\n",
    "final_user_id = [str(i) for i in ratings.user_id]\n",
    "final_rating =  [np.float32(i) for i in ratings.rating ]"
   ]
  },
  {
   "cell_type": "code",
   "execution_count": 14,
   "metadata": {},
   "outputs": [
    {
     "data": {
      "text/plain": [
       "1000209"
      ]
     },
     "execution_count": 14,
     "metadata": {},
     "output_type": "execute_result"
    }
   ],
   "source": [
    "len(final_rating)"
   ]
  },
  {
   "cell_type": "code",
   "execution_count": 15,
   "metadata": {},
   "outputs": [
    {
     "data": {
      "text/plain": [
       "(1000209, 3)"
      ]
     },
     "execution_count": 15,
     "metadata": {},
     "output_type": "execute_result"
    }
   ],
   "source": [
    "ratings.shape"
   ]
  },
  {
   "cell_type": "code",
   "execution_count": 16,
   "metadata": {},
   "outputs": [
    {
     "data": {
      "text/plain": [
       "user_id     int64\n",
       "movie_id    int64\n",
       "rating      int64\n",
       "dtype: object"
      ]
     },
     "execution_count": 16,
     "metadata": {},
     "output_type": "execute_result"
    }
   ],
   "source": [
    "ratings.dtypes"
   ]
  },
  {
   "cell_type": "code",
   "execution_count": 18,
   "metadata": {},
   "outputs": [],
   "source": [
    "N = len(final_movie_id)"
   ]
  },
  {
   "cell_type": "code",
   "execution_count": 19,
   "metadata": {},
   "outputs": [],
   "source": [
    "metadata = {\n",
    "    'movie_id': final_movie_id,\n",
    "    'user_id': final_user_id,\n",
    "    'user_rating': final_rating,\n",
    "    }\n",
    "num_samples = N\n",
    "\n",
    "def meta_dict_gen():\n",
    "    for i in range(num_samples):\n",
    "        ls = {}\n",
    "        for key, val in metadata.items():\n",
    "            ls[key] = val[i]\n",
    "        yield ls\n",
    "\n",
    "dataset = tf.data.Dataset.from_generator(\n",
    "    meta_dict_gen,\n",
    "    output_types={\"movie_id\": tf.string, \"user_id\": tf.string, \"user_rating\": tf.float32},\n",
    "    output_shapes={\"movie_id\": (), \"user_id\": (), \"user_rating\": ()})"
   ]
  },
  {
   "cell_type": "code",
   "execution_count": 20,
   "metadata": {},
   "outputs": [],
   "source": [
    "# ratings['rating'] = ratings.rating.astype(np.float32)\n",
    "# # ratings['user_id'] = ratings.rating.astype(int).astype(str)\n",
    "# # ratings['movie_id'] = ratings.rating.astype(int).astype(str)"
   ]
  },
  {
   "cell_type": "code",
   "execution_count": 21,
   "metadata": {},
   "outputs": [
    {
     "data": {
      "text/plain": [
       "user_id     int64\n",
       "movie_id    int64\n",
       "rating      int64\n",
       "dtype: object"
      ]
     },
     "execution_count": 21,
     "metadata": {},
     "output_type": "execute_result"
    }
   ],
   "source": [
    "ratings.dtypes"
   ]
  },
  {
   "cell_type": "code",
   "execution_count": 24,
   "metadata": {},
   "outputs": [
    {
     "data": {
      "text/html": [
       "<div>\n",
       "<style scoped>\n",
       "    .dataframe tbody tr th:only-of-type {\n",
       "        vertical-align: middle;\n",
       "    }\n",
       "\n",
       "    .dataframe tbody tr th {\n",
       "        vertical-align: top;\n",
       "    }\n",
       "\n",
       "    .dataframe thead th {\n",
       "        text-align: right;\n",
       "    }\n",
       "</style>\n",
       "<table border=\"1\" class=\"dataframe\">\n",
       "  <thead>\n",
       "    <tr style=\"text-align: right;\">\n",
       "      <th></th>\n",
       "      <th>user_id</th>\n",
       "      <th>movie_id</th>\n",
       "      <th>rating</th>\n",
       "    </tr>\n",
       "  </thead>\n",
       "  <tbody>\n",
       "    <tr>\n",
       "      <th>0</th>\n",
       "      <td>1</td>\n",
       "      <td>1193</td>\n",
       "      <td>5.0</td>\n",
       "    </tr>\n",
       "    <tr>\n",
       "      <th>1</th>\n",
       "      <td>1</td>\n",
       "      <td>661</td>\n",
       "      <td>3.0</td>\n",
       "    </tr>\n",
       "    <tr>\n",
       "      <th>2</th>\n",
       "      <td>1</td>\n",
       "      <td>914</td>\n",
       "      <td>3.0</td>\n",
       "    </tr>\n",
       "    <tr>\n",
       "      <th>3</th>\n",
       "      <td>1</td>\n",
       "      <td>3408</td>\n",
       "      <td>4.0</td>\n",
       "    </tr>\n",
       "    <tr>\n",
       "      <th>4</th>\n",
       "      <td>1</td>\n",
       "      <td>2355</td>\n",
       "      <td>5.0</td>\n",
       "    </tr>\n",
       "  </tbody>\n",
       "</table>\n",
       "</div>"
      ],
      "text/plain": [
       "   user_id  movie_id  rating\n",
       "0        1      1193     5.0\n",
       "1        1       661     3.0\n",
       "2        1       914     3.0\n",
       "3        1      3408     4.0\n",
       "4        1      2355     5.0"
      ]
     },
     "execution_count": 24,
     "metadata": {},
     "output_type": "execute_result"
    }
   ],
   "source": [
    "ratings.head()"
   ]
  },
  {
   "cell_type": "code",
   "execution_count": 25,
   "metadata": {},
   "outputs": [
    {
     "data": {
      "text/html": [
       "<div>\n",
       "<style scoped>\n",
       "    .dataframe tbody tr th:only-of-type {\n",
       "        vertical-align: middle;\n",
       "    }\n",
       "\n",
       "    .dataframe tbody tr th {\n",
       "        vertical-align: top;\n",
       "    }\n",
       "\n",
       "    .dataframe thead th {\n",
       "        text-align: right;\n",
       "    }\n",
       "</style>\n",
       "<table border=\"1\" class=\"dataframe\">\n",
       "  <thead>\n",
       "    <tr style=\"text-align: right;\">\n",
       "      <th></th>\n",
       "      <th>user_id</th>\n",
       "      <th>movie_id</th>\n",
       "      <th>rating</th>\n",
       "    </tr>\n",
       "  </thead>\n",
       "  <tbody>\n",
       "    <tr>\n",
       "      <th>1000204</th>\n",
       "      <td>6040</td>\n",
       "      <td>1091</td>\n",
       "      <td>1.0</td>\n",
       "    </tr>\n",
       "    <tr>\n",
       "      <th>1000205</th>\n",
       "      <td>6040</td>\n",
       "      <td>1094</td>\n",
       "      <td>5.0</td>\n",
       "    </tr>\n",
       "    <tr>\n",
       "      <th>1000206</th>\n",
       "      <td>6040</td>\n",
       "      <td>562</td>\n",
       "      <td>5.0</td>\n",
       "    </tr>\n",
       "    <tr>\n",
       "      <th>1000207</th>\n",
       "      <td>6040</td>\n",
       "      <td>1096</td>\n",
       "      <td>4.0</td>\n",
       "    </tr>\n",
       "    <tr>\n",
       "      <th>1000208</th>\n",
       "      <td>6040</td>\n",
       "      <td>1097</td>\n",
       "      <td>4.0</td>\n",
       "    </tr>\n",
       "  </tbody>\n",
       "</table>\n",
       "</div>"
      ],
      "text/plain": [
       "         user_id  movie_id  rating\n",
       "1000204     6040      1091     1.0\n",
       "1000205     6040      1094     5.0\n",
       "1000206     6040       562     5.0\n",
       "1000207     6040      1096     4.0\n",
       "1000208     6040      1097     4.0"
      ]
     },
     "execution_count": 25,
     "metadata": {},
     "output_type": "execute_result"
    }
   ],
   "source": [
    "ratings.tail()"
   ]
  },
  {
   "cell_type": "code",
   "execution_count": 26,
   "metadata": {},
   "outputs": [
    {
     "data": {
      "text/plain": [
       "pandas.core.frame.DataFrame"
      ]
     },
     "execution_count": 26,
     "metadata": {},
     "output_type": "execute_result"
    }
   ],
   "source": [
    "type(ratings)"
   ]
  },
  {
   "cell_type": "code",
   "execution_count": 22,
   "metadata": {},
   "outputs": [],
   "source": [
    "# ratings = tf.data.Dataset.from_tensor_slices(ratings)"
   ]
  },
  {
   "cell_type": "code",
   "execution_count": 28,
   "metadata": {},
   "outputs": [
    {
     "data": {
      "text/plain": [
       "tensorflow.python.data.ops.dataset_ops.TensorSliceDataset"
      ]
     },
     "execution_count": 28,
     "metadata": {},
     "output_type": "execute_result"
    }
   ],
   "source": [
    "type(ratings)"
   ]
  },
  {
   "cell_type": "code",
   "execution_count": 29,
   "metadata": {},
   "outputs": [
    {
     "name": "stdout",
     "output_type": "stream",
     "text": [
      "tf.Tensor([1.000e+00 1.193e+03 5.000e+00], shape=(3,), dtype=float64)\n",
      "tf.Tensor([  1. 661.   3.], shape=(3,), dtype=float64)\n",
      "tf.Tensor([  1. 914.   3.], shape=(3,), dtype=float64)\n",
      "tf.Tensor([1.000e+00 3.408e+03 4.000e+00], shape=(3,), dtype=float64)\n",
      "tf.Tensor([1.000e+00 2.355e+03 5.000e+00], shape=(3,), dtype=float64)\n"
     ]
    }
   ],
   "source": [
    "for x in ratings.take(5):\n",
    "  print (x)"
   ]
  },
  {
   "cell_type": "code",
   "execution_count": 30,
   "metadata": {},
   "outputs": [],
   "source": [
    "# # Replace heart.csv with the filepath of your CSV file\n",
    "# filepath = path+'ratings.csv'\n",
    "# # Replace AHD with the name of the column that your labels are placed\n",
    "# label_col = \"rating\"\n",
    "# # And this dataset can be used just like the others\n",
    "# ratings = tf.data.experimental.make_csv_dataset(\n",
    "#     filepath,\n",
    "#     batch_size=1,\n",
    "    \n",
    "    \n",
    "# )"
   ]
  },
  {
   "cell_type": "code",
   "execution_count": 31,
   "metadata": {},
   "outputs": [
    {
     "data": {
      "text/plain": [
       "tensorflow.python.data.ops.dataset_ops.TensorSliceDataset"
      ]
     },
     "execution_count": 31,
     "metadata": {},
     "output_type": "execute_result"
    }
   ],
   "source": [
    "type(ratings)"
   ]
  },
  {
   "cell_type": "code",
   "execution_count": 32,
   "metadata": {
    "id": "LOHyi7jKtpZ1"
   },
   "outputs": [],
   "source": [
    "# ratings = tfds.load('movielens/latest-small-ratings', split=\"train\")\n",
    "# movies = tfds.load('movielens/latest-small-movies', split=\"train\")\n",
    "\n",
    "# # Select the basic features.\n",
    "# ratings = ratings.map(lambda x: {\n",
    "#     \"movie_id\": x[\"movie_id\"],\n",
    "#     \"user_id\": x[\"user_id\"],\n",
    "#     \"timestamp\": int(x[\"timestamp\"]),\n",
    "#     \"user_rating\": x[\"user_rating\"]\n",
    "# })\n",
    "# movies = movies.map(lambda x: {\n",
    "#     \"movie_id\": x[\"movie_id\"],\n",
    "#     \"movie_title\": x[\"movie_title\"]\n",
    "# })"
   ]
  },
  {
   "cell_type": "code",
   "execution_count": 33,
   "metadata": {
    "id": "uobbIPhi9Uw9"
   },
   "outputs": [],
   "source": [
    "# for x in movies.take(1).as_numpy_iterator():\n",
    "#   pprint.pprint(x)"
   ]
  },
  {
   "cell_type": "code",
   "execution_count": 23,
   "metadata": {},
   "outputs": [],
   "source": [
    "# for x in ratings.take(1).as_numpy_iterator():\n",
    "#   pprint.pprint(x)"
   ]
  },
  {
   "cell_type": "code",
   "execution_count": 25,
   "metadata": {
    "id": "sYmOFuM78jBq"
   },
   "outputs": [],
   "source": [
    "# for x in ratings.take(5).as_numpy_iterator():\n",
    "#   pprint.pprint(x)"
   ]
  },
  {
   "cell_type": "code",
   "execution_count": 26,
   "metadata": {},
   "outputs": [],
   "source": [
    "# ratings = ratings.map(lambda x: {\n",
    "#     \"movie_id\": x[\"movie_id\"],\n",
    "#     \"user_id\": x[\"user_id\"],\n",
    "#     \"user_rating\": x[\"user_rating\"],\n",
    "#     \"user_gender\": int(x[\"user_gender\"]),\n",
    "#     \"user_zip_code\": x[\"user_zip_code\"],\n",
    "#     \"user_occupation_text\": x[\"user_occupation_text\"],\n",
    "#     \"movie_title\": x[\"movie_title\"],\n",
    "#     \"timestamp\": int(x[\"timestamp\"]),\n",
    "#     \"bucketized_user_age\": int(x[\"bucketized_user_age\"]),\n",
    "# })\n",
    "\n",
    "# ratings = ratings.map(lambda x: {\n",
    "#     \"movie_id\": x[1],\n",
    "#     \"user_id\": x[0],\n",
    "#     \"user_rating\": x[2]\n",
    "# })\n",
    "ratings = dataset.map(lambda x: {\n",
    "    \"movie_id\": x[\"movie_id\"],\n",
    "    \"user_id\": x[\"user_id\"],\n",
    "    \"user_rating\": x[\"user_rating\"]\n",
    "})"
   ]
  },
  {
   "cell_type": "code",
   "execution_count": 27,
   "metadata": {},
   "outputs": [
    {
     "name": "stdout",
     "output_type": "stream",
     "text": [
      "{'movie_id': b'1193', 'user_id': b'1', 'user_rating': 5.0}\n",
      "{'movie_id': b'661', 'user_id': b'1', 'user_rating': 3.0}\n",
      "{'movie_id': b'914', 'user_id': b'1', 'user_rating': 3.0}\n",
      "{'movie_id': b'3408', 'user_id': b'1', 'user_rating': 4.0}\n",
      "{'movie_id': b'2355', 'user_id': b'1', 'user_rating': 5.0}\n"
     ]
    }
   ],
   "source": [
    "for x in ratings.take(5).as_numpy_iterator():\n",
    "  pprint.pprint(x)"
   ]
  },
  {
   "cell_type": "code",
   "execution_count": 37,
   "metadata": {
    "id": "7Y_n3EPosR4A"
   },
   "outputs": [],
   "source": [
    "# ratings = tfds.load(\"movie_lens/100k-ratings\", split=\"train\")\n",
    "# ratings = ratings.map(lambda x: {\n",
    "#     \"movie_id\": x[\"movie_id\"],\n",
    "#     \"user_id\": x[\"user_id\"],\n",
    "#     \"user_rating\": x[\"user_rating\"],\n",
    "#     \"user_gender\": int(x[\"user_gender\"]),\n",
    "#     \"user_zip_code\": x[\"user_zip_code\"],\n",
    "#     \"user_occupation_text\": x[\"user_occupation_text\"],\n",
    "#     \"bucketized_user_age\": int(x[\"bucketized_user_age\"]),\n",
    "# })"
   ]
  },
  {
   "cell_type": "markdown",
   "metadata": {
    "id": "2Yb3KxrgSHiF"
   },
   "source": [
    "Next, we randomly split the data into 90% for training and 10% for testing.\n"
   ]
  },
  {
   "cell_type": "code",
   "execution_count": 38,
   "metadata": {},
   "outputs": [
    {
     "data": {
      "text/plain": [
       "800167.2"
      ]
     },
     "execution_count": 38,
     "metadata": {},
     "output_type": "execute_result"
    }
   ],
   "source": [
    "1000209*80/100"
   ]
  },
  {
   "cell_type": "code",
   "execution_count": 39,
   "metadata": {},
   "outputs": [
    {
     "data": {
      "text/plain": [
       "800167.2000000001"
      ]
     },
     "execution_count": 39,
     "metadata": {},
     "output_type": "execute_result"
    }
   ],
   "source": [
    "1000209*0."
   ]
  },
  {
   "cell_type": "code",
   "execution_count": 28,
   "metadata": {},
   "outputs": [
    {
     "name": "stdout",
     "output_type": "stream",
     "text": [
      "-2\n"
     ]
    }
   ],
   "source": [
    "print(ratings.cardinality().numpy())"
   ]
  },
  {
   "cell_type": "code",
   "execution_count": 29,
   "metadata": {},
   "outputs": [
    {
     "name": "stdout",
     "output_type": "stream",
     "text": [
      "900188 100020\n"
     ]
    }
   ],
   "source": [
    "train_size = N *90//100\n",
    "test_size = N*10//100\n",
    "\n",
    "print(train_size,test_size)"
   ]
  },
  {
   "cell_type": "code",
   "execution_count": 30,
   "metadata": {},
   "outputs": [],
   "source": [
    "test_size = 100021"
   ]
  },
  {
   "cell_type": "code",
   "execution_count": 42,
   "metadata": {},
   "outputs": [
    {
     "data": {
      "text/plain": [
       "200042"
      ]
     },
     "execution_count": 42,
     "metadata": {},
     "output_type": "execute_result"
    }
   ],
   "source": [
    "1000209 - 800167"
   ]
  },
  {
   "cell_type": "code",
   "execution_count": 43,
   "metadata": {},
   "outputs": [
    {
     "data": {
      "text/plain": [
       "1000209"
      ]
     },
     "execution_count": 43,
     "metadata": {},
     "output_type": "execute_result"
    }
   ],
   "source": [
    "900188  + 100021"
   ]
  },
  {
   "cell_type": "code",
   "execution_count": 31,
   "metadata": {},
   "outputs": [],
   "source": [
    "# train_size = 900188\n",
    "# test_size = 100021"
   ]
  },
  {
   "cell_type": "code",
   "execution_count": 32,
   "metadata": {
    "id": "a5-l91jR_zEo"
   },
   "outputs": [],
   "source": [
    "tf.random.set_seed(42)\n",
    "shuffled = ratings.shuffle(10_00_209, seed=42, reshuffle_each_iteration=False)\n",
    "\n",
    "train = shuffled.take(train_size)\n",
    "test = shuffled.skip(train_size).take(test_size)"
   ]
  },
  {
   "cell_type": "markdown",
   "metadata": {
    "id": "MRHGa9mESMVz"
   },
   "source": [
    "Then, we create vocabulary for each feature."
   ]
  },
  {
   "cell_type": "code",
   "execution_count": 33,
   "metadata": {
    "id": "l9qhEcHq_VfI"
   },
   "outputs": [
    {
     "name": "stdout",
     "output_type": "stream",
     "text": [
      "CPU times: user 4 µs, sys: 1 µs, total: 5 µs\n",
      "Wall time: 7.63 µs\n"
     ]
    }
   ],
   "source": [
    "%%time\n",
    "\n",
    "# feature_names = [\"movie_id\", \"user_id\", \"user_gender\", \"user_zip_code\",\n",
    "#                  \"user_occupation_text\", \"movie_title\", \"timestamp\", \"bucketized_user_age\",]\n",
    "\n",
    "feature_names = [\"movie_id\", \"user_id\"]\n",
    "\n",
    "vocabularies = {}"
   ]
  },
  {
   "cell_type": "code",
   "execution_count": 34,
   "metadata": {},
   "outputs": [],
   "source": [
    "from tqdm import tqdm"
   ]
  },
  {
   "cell_type": "code",
   "execution_count": 35,
   "metadata": {},
   "outputs": [
    {
     "name": "stderr",
     "output_type": "stream",
     "text": [
      "  0%|          | 0/2 [00:00<?, ?it/s]"
     ]
    },
    {
     "name": "stdout",
     "output_type": "stream",
     "text": [
      "WARNING:tensorflow:AutoGraph could not transform <function <lambda> at 0x7f4de41158c8> and will run it as-is.\n",
      "Cause: could not parse the source code of <function <lambda> at 0x7f4de41158c8>: no matching AST found\n",
      "To silence this warning, decorate the function with @tf.autograph.experimental.do_not_convert\n",
      "WARNING: AutoGraph could not transform <function <lambda> at 0x7f4de41158c8> and will run it as-is.\n",
      "Cause: could not parse the source code of <function <lambda> at 0x7f4de41158c8>: no matching AST found\n",
      "To silence this warning, decorate the function with @tf.autograph.experimental.do_not_convert\n"
     ]
    },
    {
     "name": "stderr",
     "output_type": "stream",
     "text": [
      " 50%|█████     | 1/2 [02:47<02:47, 167.31s/it]"
     ]
    },
    {
     "name": "stdout",
     "output_type": "stream",
     "text": [
      "WARNING:tensorflow:AutoGraph could not transform <function <lambda> at 0x7f4de40aaf28> and will run it as-is.\n",
      "Cause: could not parse the source code of <function <lambda> at 0x7f4de40aaf28>: no matching AST found\n",
      "To silence this warning, decorate the function with @tf.autograph.experimental.do_not_convert\n",
      "WARNING: AutoGraph could not transform <function <lambda> at 0x7f4de40aaf28> and will run it as-is.\n",
      "Cause: could not parse the source code of <function <lambda> at 0x7f4de40aaf28>: no matching AST found\n",
      "To silence this warning, decorate the function with @tf.autograph.experimental.do_not_convert\n"
     ]
    },
    {
     "name": "stderr",
     "output_type": "stream",
     "text": [
      "100%|██████████| 2/2 [05:36<00:00, 168.04s/it]"
     ]
    },
    {
     "name": "stdout",
     "output_type": "stream",
     "text": [
      "CPU times: user 5min 38s, sys: 51.6 s, total: 6min 30s\n",
      "Wall time: 5min 36s\n"
     ]
    },
    {
     "name": "stderr",
     "output_type": "stream",
     "text": [
      "\n"
     ]
    }
   ],
   "source": [
    "%%time\n",
    "for feature_name in tqdm(feature_names):\n",
    "    vocab = ratings.batch(1000).map(lambda x: x[feature_name])\n",
    "    vocabularies[feature_name] = np.unique(np.concatenate(list(vocab)))\n",
    "    # current contents of your for loop"
   ]
  },
  {
   "cell_type": "code",
   "execution_count": null,
   "metadata": {},
   "outputs": [],
   "source": [
    "# for feature_name in feature_names:\n",
    "#   vocab = ratings.batch(1000).map(lambda x: x[feature_name])\n",
    "#   vocabularies[feature_name] = np.unique(np.concatenate(list(vocab)))\n",
    "# #print(vocabularies)"
   ]
  },
  {
   "cell_type": "markdown",
   "metadata": {
    "id": "Eti8kNkPSORk"
   },
   "source": [
    "### Model construction\n",
    "\n",
    "The model architecture we will be building starts with an embedding layer, which is fed into a cross network followed by a deep network. The embedding dimension is set to 32 for all the features. You could also use different embedding sizes for different features."
   ]
  },
  {
   "cell_type": "code",
   "execution_count": 36,
   "metadata": {
    "id": "6lrDcBjiwnHU"
   },
   "outputs": [],
   "source": [
    "class DCN(tfrs.Model):\n",
    "\n",
    "  def __init__(self, use_cross_layer, deep_layer_sizes, projection_dim=None):\n",
    "    super().__init__()\n",
    "\n",
    "    self.embedding_dimension = 32\n",
    "\n",
    "#     str_features = [\"movie_id\", \"user_id\", \"user_zip_code\", \"movie_title\",\n",
    "#                     \"user_occupation_text\"]\n",
    "#     int_features = [\"timestamp\",\"user_gender\", \"bucketized_user_age\"]\n",
    "    \n",
    "    str_features = [\"movie_id\", \"user_id\"]\n",
    "    int_features = []\n",
    "\n",
    "    self._all_features = str_features + int_features\n",
    "    self._embeddings = {}\n",
    "\n",
    "    # Compute embeddings for string features.\n",
    "    for feature_name in str_features:\n",
    "      vocabulary = vocabularies[feature_name]\n",
    "      self._embeddings[feature_name] = tf.keras.Sequential(\n",
    "          [tf.keras.layers.experimental.preprocessing.StringLookup(\n",
    "              vocabulary=vocabulary, mask_token=None),\n",
    "           tf.keras.layers.Embedding(len(vocabulary) + 1,\n",
    "                                     self.embedding_dimension)\n",
    "    ])\n",
    "      \n",
    "    # Compute embeddings for int features.\n",
    "    for feature_name in int_features:\n",
    "      vocabulary = vocabularies[feature_name]\n",
    "      self._embeddings[feature_name] = tf.keras.Sequential(\n",
    "          [tf.keras.layers.experimental.preprocessing.IntegerLookup(\n",
    "              vocabulary=vocabulary, mask_value=None),\n",
    "           tf.keras.layers.Embedding(len(vocabulary) + 1,\n",
    "                                     self.embedding_dimension)\n",
    "    ])\n",
    "\n",
    "    if use_cross_layer:\n",
    "      self._cross_layer = tfrs.layers.dcn.Cross(\n",
    "          projection_dim=projection_dim,\n",
    "          kernel_initializer=\"glorot_uniform\")\n",
    "    else:\n",
    "      self._cross_layer = None\n",
    "\n",
    "    self._deep_layers = [tf.keras.layers.Dense(layer_size, activation=\"relu\")\n",
    "      for layer_size in deep_layer_sizes]\n",
    "\n",
    "    self._logit_layer = tf.keras.layers.Dense(1)\n",
    "\n",
    "    self.task = tfrs.tasks.Ranking(\n",
    "      loss=tf.keras.losses.MeanSquaredError(),\n",
    "      metrics=[tf.keras.metrics.RootMeanSquaredError(\"RMSE\")]\n",
    "    )\n",
    "\n",
    "  def call(self, features):\n",
    "    # Concatenate embeddings\n",
    "    embeddings = []\n",
    "    for feature_name in self._all_features:\n",
    "      embedding_fn = self._embeddings[feature_name]\n",
    "      embeddings.append(embedding_fn(features[feature_name]))\n",
    "\n",
    "    x = tf.concat(embeddings, axis=1)\n",
    "\n",
    "    # Build Cross Network\n",
    "    if self._cross_layer is not None:\n",
    "      x = self._cross_layer(x)\n",
    "    \n",
    "    # Build Deep Network\n",
    "    for deep_layer in self._deep_layers:\n",
    "      x = deep_layer(x)\n",
    "\n",
    "    return self._logit_layer(x)\n",
    "\n",
    "  def compute_loss(self, features, training=False):\n",
    "    labels = features.pop(\"user_rating\")\n",
    "    scores = self(features)\n",
    "    return self.task(\n",
    "        labels=labels,\n",
    "        predictions=scores,\n",
    "    )"
   ]
  },
  {
   "cell_type": "markdown",
   "metadata": {
    "id": "jDiRfzwVW9LH"
   },
   "source": [
    "### Model training\n",
    "We shuffle, batch and cache the training and test data. \n"
   ]
  },
  {
   "cell_type": "code",
   "execution_count": 37,
   "metadata": {
    "id": "qeFjmfUbgzcS"
   },
   "outputs": [],
   "source": [
    "cached_train = train.shuffle(10_00_209).batch(8192).cache()\n",
    "cached_test = test.batch(4096).cache()"
   ]
  },
  {
   "cell_type": "markdown",
   "metadata": {
    "id": "5adSI3yOt2VQ"
   },
   "source": [
    "Let's define a function that runs a model multiple times and returns the model's RMSE mean and standard deviation out of multiple runs."
   ]
  },
  {
   "cell_type": "code",
   "execution_count": 39,
   "metadata": {
    "id": "gTDk3GloquHO"
   },
   "outputs": [],
   "source": [
    "def run_models(use_cross_layer, deep_layer_sizes, auto_encoder_sizes=None, projection_dim=None, num_runs=5, parallel=False, regularization=None,learning_rate=0.01):\n",
    "  models = []\n",
    "  rmses = []\n",
    "\n",
    "  for i in range(num_runs):\n",
    "    if not parallel:\n",
    "      model = DCN(use_cross_layer=use_cross_layer,\n",
    "                deep_layer_sizes=deep_layer_sizes,\n",
    "                projection_dim=projection_dim)\n",
    "    else:\n",
    "      model = DCN_parallel(deep_layer_sizes=deep_layer_sizes,auto_encoder_sizes=auto_encoder_sizes,\n",
    "                projection_dim=projection_dim, regularization=regularization)\n",
    "    model.compile(optimizer=tf.keras.optimizers.Adam(learning_rate))\n",
    "    models.append(model)\n",
    "\n",
    "    model.fit(cached_train, epochs=epochs, verbose=False)\n",
    "    metrics = model.evaluate(cached_test, return_dict=True)\n",
    "    rmses.append(metrics[\"RMSE\"])\n",
    "\n",
    "  mean, stdv = np.average(rmses), np.std(rmses)\n",
    "\n",
    "  return {\"model\": models, \"mean\": mean, \"stdv\": stdv}"
   ]
  },
  {
   "cell_type": "markdown",
   "metadata": {
    "id": "ZRHjQ8g2h2-k"
   },
   "source": [
    "We set some hyper-parameters for the models. Note that these hyper-parameters are set globally for all the models for demonstration purpose. If you want to obtain the best performance for each model, or conduct a fair comparison among models, then we'd suggest you to fine-tune the hyper-parameters. Remember that the model architecture and optimization schemes are intertwined."
   ]
  },
  {
   "cell_type": "code",
   "execution_count": 40,
   "metadata": {
    "id": "Zy3kWb5Dh0E7"
   },
   "outputs": [],
   "source": [
    "epochs = 8\n",
    "learning_rate = 0.01"
   ]
  },
  {
   "cell_type": "markdown",
   "metadata": {
    "id": "Nz3ftiQLXdC0"
   },
   "source": [
    "**DCN (stacked).** We first train a DCN model with a stacked structure, that is, the inputs are fed to a cross network followed by a deep network.\n",
    "<div>\n",
    "<center>\n",
    "<img src=\"http://drive.google.com/uc?export=view&id=1X8qoMtIYKJz4yBYifvfw4QpAwrjr70e_\" width=\"140\"/>\n",
    "</center>\n",
    "</div>\n"
   ]
  },
  {
   "cell_type": "code",
   "execution_count": 41,
   "metadata": {
    "id": "hiuYPJWhgw3J"
   },
   "outputs": [
    {
     "name": "stdout",
     "output_type": "stream",
     "text": [
      "25/25 [==============================]E: 0.9067 - loss: 0.8221 - regularization_loss: 0.0000e+00 - total_loss: 0.822 - 176s 34ms/step - RMSE: 0.9067 - loss: 0.8220 - regularization_loss: 0.0000e+00 - total_loss: 0.8220\n",
      "25/25 [==============================] - 0s 4ms/step - RMSE: 0.9053 - loss: 0.8187 - regularization_loss: 0.0000e+00 - total_loss: 0.8187\n",
      "25/25 [==============================] - 0s 4ms/step - RMSE: 0.8967 - loss: 0.8047 - regularization_loss: 0.0000e+00 - total_loss: 0.8047\n",
      "25/25 [==============================] - 0s 5ms/step - RMSE: 0.9091 - loss: 0.8275 - regularization_loss: 0.0000e+00 - total_loss: 0.8275\n",
      "25/25 [==============================] - 0s 4ms/step - RMSE: 0.9042 - loss: 0.8166 - regularization_loss: 0.0000e+00 - total_loss: 0.8166\n"
     ]
    }
   ],
   "source": [
    "dcn_result = run_models(use_cross_layer=True, deep_layer_sizes=[192, 192])"
   ]
  },
  {
   "cell_type": "markdown",
   "metadata": {
    "id": "ZwTn_UpDX_iO"
   },
   "source": [
    "**Low-rank DCN.** To reduce the training and serving cost, we leverage low-rank techniques to approximate the DCN weight matrices. The rank is passed in through argument `projection_dim`; a smaller `projection_dim` results in a lower cost. Note that `projection_dim` needs to be smaller than (input size)/2 to reduce the cost. In practice, we've observed using low-rank DCN with rank (input size)/4 consistently preserved the accuracy of a full-rank DCN.\n",
    "\n",
    "<div>\n",
    "<center>\n",
    "<img src=\"http://drive.google.com/uc?export=view&id=1ZZfUTNdxjGAaAuwNrweKkLJ1PGxMmiCm\" width=\"400\"/>\n",
    "</center>\n",
    "</div>\n"
   ]
  },
  {
   "cell_type": "code",
   "execution_count": 24,
   "metadata": {
    "id": "NYxbHI7ZNJX7"
   },
   "outputs": [
    {
     "name": "stdout",
     "output_type": "stream",
     "text": [
      "25/25 [==============================] - 0s 8ms/step - RMSE: 1.0450 - loss: 1.0931 - regularization_loss: 0.0000e+00 - total_loss: 1.0931\n",
      "25/25 [==============================] - 0s 9ms/step - RMSE: 1.0200 - loss: 1.0411 - regularization_loss: 0.0000e+00 - total_loss: 1.0411\n",
      "25/25 [==============================] - 0s 6ms/step - RMSE: 1.0395 - loss: 1.0818 - regularization_loss: 0.0000e+00 - total_loss: 1.0818\n",
      "25/25 [==============================] - 0s 8ms/step - RMSE: 1.1422 - loss: 1.3057 - regularization_loss: 0.0000e+00 - total_loss: 1.3057\n",
      "25/25 [==============================] - 0s 8ms/step - RMSE: 1.0359 - loss: 1.0743 - regularization_loss: 0.0000e+00 - total_loss: 1.0743\n"
     ]
    }
   ],
   "source": [
    "dcn_lr_result = run_models(use_cross_layer=True,\n",
    "                           projection_dim=20,\n",
    "                           deep_layer_sizes=[192, 192])"
   ]
  },
  {
   "cell_type": "markdown",
   "metadata": {
    "id": "5O5AoNOdaQ80"
   },
   "source": [
    "**DNN.** We train a same-sized DNN model as a reference."
   ]
  },
  {
   "cell_type": "code",
   "execution_count": 25,
   "metadata": {
    "id": "iBPpwD4cGtXF"
   },
   "outputs": [
    {
     "name": "stdout",
     "output_type": "stream",
     "text": [
      "25/25 [==============================] - 0s 9ms/step - RMSE: 1.0568 - loss: 1.1174 - regularization_loss: 0.0000e+00 - total_loss: 1.1174\n",
      "25/25 [==============================] - 0s 9ms/step - RMSE: 1.0622 - loss: 1.1286 - regularization_loss: 0.0000e+00 - total_loss: 1.1286\n",
      "25/25 [==============================] - 0s 10ms/step - RMSE: 1.0991 - loss: 1.2061 - regularization_loss: 0.0000e+00 - total_loss: 1.2061\n",
      "25/25 [==============================] - 0s 10ms/step - RMSE: 1.0328 - loss: 1.0665 - regularization_loss: 0.0000e+00 - total_loss: 1.0665\n",
      "25/25 [==============================] - 0s 8ms/step - RMSE: 1.0691 - loss: 1.1428 - regularization_loss: 0.0000e+00 - total_loss: 1.1428\n"
     ]
    }
   ],
   "source": [
    "dnn_result = run_models(use_cross_layer=False,\n",
    "                        deep_layer_sizes=[192, 192, 192])"
   ]
  },
  {
   "cell_type": "markdown",
   "metadata": {
    "id": "aEmLB28lqvCe"
   },
   "source": [
    "Parallel"
   ]
  },
  {
   "cell_type": "markdown",
   "metadata": {
    "id": "z5YyjGJ_VM0y"
   },
   "source": [
    "#### Parallel with encoders"
   ]
  },
  {
   "cell_type": "code",
   "execution_count": 42,
   "metadata": {},
   "outputs": [],
   "source": [
    "class DCN_parallel(tfrs.Model):\n",
    "\n",
    "  def __init__(self, deep_layer_sizes, auto_encoder_sizes, regularization=None, projection_dim=None):\n",
    "    super().__init__()\n",
    "    self.embedding_dimension = 32\n",
    "\n",
    "    # str_features = [\"movie_id\", \"user_id\", \"user_zip_code\", \"user_occupation_text\"]\n",
    "    # int_features = [\"user_gender\", \"bucketized_user_age\"]\n",
    "\n",
    "#     str_features = [\"movie_id\", \"user_id\", \"user_zip_code\", \"movie_title\",\n",
    "#                     \"user_occupation_text\"]\n",
    "#     int_features = [\"timestamp\",\"user_gender\", \"bucketized_user_age\"]\n",
    "\n",
    "    str_features = [\"movie_id\", \"user_id\"]\n",
    "    int_features = []\n",
    "\n",
    "\n",
    "    self._all_features = str_features + int_features\n",
    "    self._embeddings = {}\n",
    "\n",
    "    # Compute embeddings for string features.\n",
    "    for feature_name in str_features:\n",
    "      vocabulary = vocabularies[feature_name]\n",
    "      self._embeddings[feature_name] = tf.keras.Sequential(\n",
    "          [tf.keras.layers.experimental.preprocessing.StringLookup(\n",
    "              vocabulary=vocabulary, mask_token=None),\n",
    "           tf.keras.layers.Embedding(len(vocabulary) + 1,\n",
    "                                     self.embedding_dimension)\n",
    "    ])\n",
    "      \n",
    "    # Compute embeddings for int features.\n",
    "    for feature_name in int_features:\n",
    "      vocabulary = vocabularies[feature_name]\n",
    "      self._embeddings[feature_name] = tf.keras.Sequential(\n",
    "          [tf.keras.layers.experimental.preprocessing.IntegerLookup(\n",
    "              vocabulary=vocabulary, mask_value=None),\n",
    "           tf.keras.layers.Embedding(len(vocabulary) + 1,\n",
    "                                     self.embedding_dimension)\n",
    "    ])\n",
    "\n",
    "    self._cross_layer = tfrs.layers.dcn.Cross(\n",
    "          projection_dim=projection_dim,\n",
    "          kernel_initializer=\"glorot_uniform\",name=\"cross_layer\")\n",
    "    \n",
    "    self._deep_layers = [tf.keras.layers.Dense(layer_size, activation=\"relu\", name=\"deep_layer\")\n",
    "      for layer_size in deep_layer_sizes]\n",
    "    \n",
    "    self.auto_encoder_sizes = auto_encoder_sizes\n",
    "\n",
    "    if self.auto_encoder_sizes is not None:\n",
    "      self._autoencoders_layers = [tf.keras.layers.Dense(layer_size, activation=\"relu\", name=\"autoencoder_layer\")\n",
    "      for layer_size in self.auto_encoder_sizes]\n",
    "\n",
    "    self._concat_layers = tf.keras.layers.concatenate\n",
    "    \n",
    "    if regularization is not None:\n",
    "        self._logit_layer = tf.keras.layers.Dense(1, name=\"output_layer\",kernel_regularizer=regularization)\n",
    "    else:\n",
    "        self._logit_layer = tf.keras.layers.Dense(1, name=\"output_layer\")\n",
    "\n",
    "    self.task = tfrs.tasks.Ranking(\n",
    "      loss=tf.keras.losses.MeanSquaredError(),\n",
    "      metrics=[tf.keras.metrics.RootMeanSquaredError(\"RMSE\")]\n",
    "    )\n",
    "\n",
    "  def call(self, features):\n",
    "    # Concatenate embeddings\n",
    "    embeddings = []\n",
    "    for feature_name in self._all_features:\n",
    "      embedding_fn = self._embeddings[feature_name]\n",
    "      embeddings.append(embedding_fn(features[feature_name]))\n",
    "\n",
    "    inp = tf.concat(embeddings, axis=1)\n",
    "\n",
    "    # print(inp)\n",
    "\n",
    "    # Build Cross Network\n",
    "    x = self._cross_layer(inp)\n",
    "    \n",
    "    # Build Deep Network \n",
    "    for i,deep_layer in enumerate(self._deep_layers):\n",
    "      if i==0:\n",
    "        y = deep_layer(inp)\n",
    "      else:\n",
    "        y = deep_layer(y)\n",
    "\n",
    "\n",
    "    #auto encoder\n",
    "    if self.auto_encoder_sizes is not None:\n",
    "      for i,autoencoders_layers in enumerate(self._autoencoders_layers):\n",
    "        if i==0:\n",
    "          z = autoencoders_layers(inp)\n",
    "        else:\n",
    "          z = autoencoders_layers(z)\n",
    "\n",
    "    # Merge both network\n",
    "    if self.auto_encoder_sizes is not None:\n",
    "      out = self._concat_layers([x,y,z],name=\"concat_layer\")\n",
    "    else:\n",
    "      out = self._concat_layers([x, y],name=\"concat_layer\")\n",
    "    # print(out)\n",
    "    \n",
    "    out = self._logit_layer(out)\n",
    "    return out\n",
    "\n",
    "  def compute_loss(self, features, training=False):\n",
    "    labels = features.pop(\"user_rating\")\n",
    "    scores = self(features)\n",
    "    return self.task(\n",
    "        labels=labels,\n",
    "        predictions=scores,\n",
    "    )\n"
   ]
  },
  {
   "cell_type": "code",
   "execution_count": 44,
   "metadata": {
    "id": "dW4JvICAqy8B",
    "scrolled": true
   },
   "outputs": [
    {
     "name": "stdout",
     "output_type": "stream",
     "text": [
      "Epoch 1/8\n",
      "110/110 [==============================] - 6s 43ms/step - RMSE: 1.4392 - loss: 2.0588 - regularization_loss: 0.0134 - total_loss: 2.0722\n",
      "Epoch 2/8\n",
      "110/110 [==============================] - 5s 41ms/step - RMSE: 0.9103 - loss: 0.8286 - regularization_loss: 0.0101 - total_loss: 0.8387\n",
      "Epoch 3/8\n",
      "110/110 [==============================] - 5s 42ms/step - RMSE: 0.8964 - loss: 0.8034 - regularization_loss: 0.0081 - total_loss: 0.8115\n",
      "Epoch 4/8\n",
      "110/110 [==============================] - 4s 41ms/step - RMSE: 0.8851 - loss: 0.7831 - regularization_loss: 0.0071 - total_loss: 0.7902\n",
      "Epoch 5/8\n",
      "110/110 [==============================] - 5s 42ms/step - RMSE: 0.8738 - loss: 0.7634 - regularization_loss: 0.0063 - total_loss: 0.7697\n",
      "Epoch 6/8\n",
      "110/110 [==============================] - 5s 42ms/step - RMSE: 0.8625 - loss: 0.7437 - regularization_loss: 0.0057 - total_loss: 0.7494\n",
      "Epoch 7/8\n",
      "110/110 [==============================] - 4s 40ms/step - RMSE: 0.8539 - loss: 0.7290 - regularization_loss: 0.0052 - total_loss: 0.7342\n",
      "Epoch 8/8\n",
      "110/110 [==============================] - 5s 41ms/step - RMSE: 0.8457 - loss: 0.7149 - regularization_loss: 0.0047 - total_loss: 0.7197\n",
      "Model: \"dcn_parallel_1\"\n",
      "_________________________________________________________________\n",
      "Layer (type)                 Output Shape              Param #   \n",
      "=================================================================\n",
      "sequential_12 (Sequential)   (None, 32)                118624    \n",
      "_________________________________________________________________\n",
      "sequential_13 (Sequential)   (None, 32)                193312    \n",
      "_________________________________________________________________\n",
      "cross_layer (Cross)          multiple                  4160      \n",
      "_________________________________________________________________\n",
      "deep_layer (Dense)           multiple                  12480     \n",
      "_________________________________________________________________\n",
      "deep_layer (Dense)           multiple                  37056     \n",
      "_________________________________________________________________\n",
      "deep_layer (Dense)           multiple                  37056     \n",
      "_________________________________________________________________\n",
      "autoencoder_layer (Dense)    multiple                  8320      \n",
      "_________________________________________________________________\n",
      "autoencoder_layer (Dense)    multiple                  8256      \n",
      "_________________________________________________________________\n",
      "autoencoder_layer (Dense)    multiple                  2080      \n",
      "_________________________________________________________________\n",
      "autoencoder_layer (Dense)    multiple                  2112      \n",
      "_________________________________________________________________\n",
      "autoencoder_layer (Dense)    multiple                  8320      \n",
      "_________________________________________________________________\n",
      "output_layer (Dense)         multiple                  385       \n",
      "_________________________________________________________________\n",
      "ranking_6 (Ranking)          multiple                  0         \n",
      "=================================================================\n",
      "Total params: 432,161\n",
      "Trainable params: 432,161\n",
      "Non-trainable params: 0\n",
      "_________________________________________________________________\n"
     ]
    }
   ],
   "source": [
    "model_tmp = DCN_parallel(deep_layer_sizes=[192, 192, 192],auto_encoder_sizes=[128,64,32,64,128],regularization=\"l2\") #l1,l2\n",
    "\n",
    "model_tmp.compile(optimizer=tf.keras.optimizers.Adam(0.01))\n",
    "model_tmp.fit(cached_train, epochs=8, verbose=1)\n",
    "# model_tmp.evaluate(cached_test)\n",
    "model_tmp.summary()\n",
    "# tf.keras.utils.plot_model(model_tmp, \"multi_input_and_output_model.png\", show_shapes=False)"
   ]
  },
  {
   "cell_type": "code",
   "execution_count": 41,
   "metadata": {},
   "outputs": [
    {
     "name": "stdout",
     "output_type": "stream",
     "text": [
      "('Failed to import pydot. You must `pip install pydot` and install graphviz (https://graphviz.gitlab.io/download/), ', 'for `pydotprint` to work.')\n"
     ]
    }
   ],
   "source": [
    "tf.keras.utils.plot_model(model_tmp, \"multi_input_and_output_model.png\", show_shapes=False)"
   ]
  },
  {
   "cell_type": "code",
   "execution_count": 35,
   "metadata": {},
   "outputs": [],
   "source": [
    "# !pip install pydot\n",
    "# !pip install pydotplus\n",
    "# !pip install graphviz"
   ]
  },
  {
   "cell_type": "code",
   "execution_count": 21,
   "metadata": {
    "id": "y4X101Nht6HY"
   },
   "outputs": [],
   "source": [
    "# tf.keras.utils.plot_model(dcn_result['model'][0], \"multi_input_and_output_model.png\")"
   ]
  },
  {
   "cell_type": "code",
   "execution_count": 30,
   "metadata": {
    "id": "eHNDpkPbqzbZ"
   },
   "outputs": [
    {
     "name": "stdout",
     "output_type": "stream",
     "text": [
      "25/25 [==============================] - 0s 8ms/step - RMSE: 0.9745 - loss: 0.9489 - regularization_loss: 0.0000e+00 - total_loss: 0.9489\n",
      "25/25 [==============================] - 0s 8ms/step - RMSE: 1.0268 - loss: 1.0561 - regularization_loss: 0.0000e+00 - total_loss: 1.0561\n",
      "25/25 [==============================] - 1s 14ms/step - RMSE: 1.0166 - loss: 1.0348 - regularization_loss: 0.0000e+00 - total_loss: 1.0348\n",
      "25/25 [==============================] - 0s 8ms/step - RMSE: 0.9774 - loss: 0.9568 - regularization_loss: 0.0000e+00 - total_loss: 0.9568\n",
      "25/25 [==============================] - 0s 9ms/step - RMSE: 0.9823 - loss: 0.9675 - regularization_loss: 0.0000e+00 - total_loss: 0.9675\n"
     ]
    }
   ],
   "source": [
    "dcn_parallel_result = run_models(use_cross_layer=True,\n",
    "                        deep_layer_sizes=[192,192,192],parallel=True)"
   ]
  },
  {
   "cell_type": "code",
   "execution_count": 31,
   "metadata": {
    "id": "n5ED8z7Sq1_Q"
   },
   "outputs": [
    {
     "name": "stdout",
     "output_type": "stream",
     "text": [
      "25/25 [==============================] - 0s 7ms/step - RMSE: 1.0709 - loss: 1.1482 - regularization_loss: 0.0000e+00 - total_loss: 1.1482\n",
      "25/25 [==============================] - 0s 11ms/step - RMSE: 1.0026 - loss: 1.0054 - regularization_loss: 0.0000e+00 - total_loss: 1.0054\n",
      "25/25 [==============================] - 1s 12ms/step - RMSE: 1.0658 - loss: 1.1360 - regularization_loss: 0.0000e+00 - total_loss: 1.1360\n",
      "25/25 [==============================] - 0s 7ms/step - RMSE: 1.0997 - loss: 1.2098 - regularization_loss: 0.0000e+00 - total_loss: 1.2098\n",
      "25/25 [==============================] - 0s 11ms/step - RMSE: 1.1158 - loss: 1.2461 - regularization_loss: 0.0000e+00 - total_loss: 1.2461\n"
     ]
    }
   ],
   "source": [
    "dcn_parallel2_result = run_models(use_cross_layer=True,\n",
    "                        deep_layer_sizes=[192,192,192],parallel=True, projection_dim=20)"
   ]
  },
  {
   "cell_type": "code",
   "execution_count": 36,
   "metadata": {
    "id": "zPDFsaCDTy4W"
   },
   "outputs": [
    {
     "name": "stdout",
     "output_type": "stream",
     "text": [
      "25/25 [==============================] - 60s 42ms/step - RMSE: 1.0740 - loss: 1.1563 - regularization_loss: 0.0000e+00 - total_loss: 1.1563\n",
      "25/25 [==============================] - 0s 8ms/step - RMSE: 1.0115 - loss: 1.0252 - regularization_loss: 0.0000e+00 - total_loss: 1.0252\n",
      "25/25 [==============================] - 0s 8ms/step - RMSE: 1.0362 - loss: 1.0736 - regularization_loss: 0.0000e+00 - total_loss: 1.0736\n",
      "25/25 [==============================] - 0s 7ms/step - RMSE: 1.0162 - loss: 1.0342 - regularization_loss: 0.0000e+00 - total_loss: 1.0342\n",
      "25/25 [==============================] - 0s 8ms/step - RMSE: 1.1113 - loss: 1.2384 - regularization_loss: 0.0000e+00 - total_loss: 1.2384\n"
     ]
    }
   ],
   "source": [
    "dcn_parallel3_result = run_models(use_cross_layer=True,\n",
    "                        deep_layer_sizes=[192,192,192],auto_encoder_sizes=[64,32,16,32,64] ,parallel=True, projection_dim=20)"
   ]
  },
  {
   "cell_type": "code",
   "execution_count": 52,
   "metadata": {},
   "outputs": [
    {
     "name": "stdout",
     "output_type": "stream",
     "text": [
      "25/25 [==============================] - 0s 10ms/step - RMSE: 1.0424 - loss: 1.0893 - regularization_loss: 0.0434 - total_loss: 1.1327\n",
      "25/25 [==============================] - 0s 10ms/step - RMSE: 1.0171 - loss: 1.0377 - regularization_loss: 0.0348 - total_loss: 1.0725\n",
      "25/25 [==============================] - 0s 9ms/step - RMSE: 1.0917 - loss: 1.1954 - regularization_loss: 0.0371 - total_loss: 1.2325\n",
      "25/25 [==============================] - 0s 9ms/step - RMSE: 1.1318 - loss: 1.2856 - regularization_loss: 0.0431 - total_loss: 1.3287\n",
      "25/25 [==============================] - 0s 10ms/step - RMSE: 1.0734 - loss: 1.1568 - regularization_loss: 0.0379 - total_loss: 1.1947\n"
     ]
    }
   ],
   "source": [
    "dcn_parallel4_result = run_models(use_cross_layer=True,\n",
    "                        deep_layer_sizes=[192,192,192],\n",
    "                        auto_encoder_sizes=[192, 64,32,16,32,64,192], \n",
    "                        parallel=True, \n",
    "                        regularization=\"l1\",\n",
    "                        learning_rate=0.001)"
   ]
  },
  {
   "cell_type": "code",
   "execution_count": 50,
   "metadata": {},
   "outputs": [
    {
     "data": {
      "text/plain": [
       "{'model': [<__main__.DCN_parallel at 0x7f3ce8a97cc0>,\n",
       "  <__main__.DCN_parallel at 0x7f3ce8a97e80>,\n",
       "  <__main__.DCN_parallel at 0x7f3d0986a588>,\n",
       "  <__main__.DCN_parallel at 0x7f3d0a368e48>,\n",
       "  <__main__.DCN_parallel at 0x7f3d02a0d518>],\n",
       " 'mean': 1.064604640007019,\n",
       " 'stdv': 0.013844568971256693}"
      ]
     },
     "execution_count": 50,
     "metadata": {},
     "output_type": "execute_result"
    }
   ],
   "source": [
    "dcn_parallel4_result"
   ]
  },
  {
   "cell_type": "markdown",
   "metadata": {
    "id": "cBY0ljpl3_k5"
   },
   "source": [
    "We evaluate the model on test data and report the mean and standard deviation out of 5 runs."
   ]
  },
  {
   "cell_type": "code",
   "execution_count": 33,
   "metadata": {
    "id": "a1yj3pp0glEL"
   },
   "outputs": [
    {
     "name": "stdout",
     "output_type": "stream",
     "text": [
      "DCN             RMSE mean: 1.0287, stdv: 0.0125\n",
      "DCN (low-rank)  RMSE mean: 1.0565, stdv: 0.0437\n",
      "DNN             RMSE mean: 1.0640, stdv: 0.0214\n",
      "DNN (parallel)  RMSE mean: 0.9955, stdv: 0.0218\n",
      "DNN (parallel2) RMSE mean: 1.0710, stdv: 0.0388\n",
      "DNN (parallel3) RMSE mean: 1.0447, stdv: 0.0608\n"
     ]
    }
   ],
   "source": [
    "print(\"DCN             RMSE mean: {:.4f}, stdv: {:.4f}\".format(\n",
    "    dcn_result[\"mean\"], dcn_result[\"stdv\"]))\n",
    "print(\"DCN (low-rank)  RMSE mean: {:.4f}, stdv: {:.4f}\".format(\n",
    "    dcn_lr_result[\"mean\"], dcn_lr_result[\"stdv\"]))\n",
    "print(\"DNN             RMSE mean: {:.4f}, stdv: {:.4f}\".format(\n",
    "    dnn_result[\"mean\"], dnn_result[\"stdv\"]))\n",
    "print(\"DNN (parallel)  RMSE mean: {:.4f}, stdv: {:.4f}\".format(\n",
    "    dcn_parallel_result[\"mean\"], dcn_parallel_result[\"stdv\"]))\n",
    "print(\"DNN (parallel2) RMSE mean: {:.4f}, stdv: {:.4f}\".format(\n",
    "    dcn_parallel2_result[\"mean\"], dcn_parallel2_result[\"stdv\"]))\n",
    "\n",
    "print(\"DNN (parallel3) RMSE mean: {:.4f}, stdv: {:.4f}\".format(\n",
    "    dcn_parallel3_result[\"mean\"], dcn_parallel3_result[\"stdv\"]))\n"
   ]
  },
  {
   "cell_type": "markdown",
   "metadata": {
    "id": "K076UbT1nnq3"
   },
   "source": [
    "We see that DCN achieved better performance than a same-sized DNN with ReLU layers. Moreover, the low-rank DCN was able to reduce parameters while maintaining the accuracy."
   ]
  },
  {
   "cell_type": "markdown",
   "metadata": {
    "id": "eSF0gNLGX1Za"
   },
   "source": [
    "**More on DCN.** Besides what've been demonstrated above, there are more creative yet practically useful ways to utilize DCN [[1](https://arxiv.org/pdf/2008.13535.pdf)]. \n",
    "\n",
    "*   *DCN with a parallel structure*.  The inputs are fed in parallel to a cross network and a deep network.\n",
    "\n",
    "*   *Concatenating cross layers.* The inputs are fed in parallel to multiple cross layers to capture complementary feature crosses.\n",
    "\n",
    "<div class=\"fig figcenter fighighlight\">\n",
    "<center>\n",
    "  <img src=\"http://drive.google.com/uc?export=view&id=11RpNuj9s0OgSav9TUuGA7v7PuFLL6nVR\" hspace=40 width=\"600\" style=\"display:block;\">\n",
    "  <div class=\"figcaption\">\n",
    "  <b>Left</b>: DCN with a parallel structure; <b>Right</b>: Concatenating cross layers. \n",
    "  </div>\n",
    "  </center>\n",
    "</div>"
   ]
  },
  {
   "cell_type": "markdown",
   "metadata": {
    "id": "GEi9PtCEdyma"
   },
   "source": [
    "### Model understanding\n",
    "\n",
    "The weight matrix $W$ in DCN reveals what feature crosses the model has learned to be important. Recall that in the previous toy example, the importance of interactions between the $i$-th and $j$-th features is captured by the ($i, j$)-th element of $W$.\n",
    "\n",
    "What's a bit different here is that the feature embeddings are of size 32 instead of size 1. Hence, the importance will be characterized by the $(i, j)$-th block\n",
    "$W_{i,j}$ which is of dimension 32 by 32.\n",
    "In the following, we visualize the Frobenius norm [[4](https://en.wikipedia.org/wiki/Matrix_norm)] $||W_{i,j}||_F$ of each block, and a larger norm would suggest higher importance (assuming the features' embeddings are of similar scales).\n",
    "\n",
    "Besides block norm, we could also visualize the entire matrix, or the mean/median/max value of each block."
   ]
  },
  {
   "cell_type": "code",
   "execution_count": 34,
   "metadata": {
    "id": "47ibaEBJxOoe"
   },
   "outputs": [
    {
     "data": {
      "text/plain": [
       "<Figure size 648x648 with 0 Axes>"
      ]
     },
     "metadata": {},
     "output_type": "display_data"
    },
    {
     "data": {
      "image/png": "[encoded data removed]",
      "text/plain": [
       "<Figure size 288x288 with 2 Axes>"
      ]
     },
     "metadata": {
      "needs_background": "light"
     },
     "output_type": "display_data"
    }
   ],
   "source": [
    "model = dcn_result[\"model\"][4]\n",
    "mat = model._cross_layer._dense.kernel\n",
    "features = model._all_features\n",
    "\n",
    "block_norm = np.ones([len(features), len(features)])\n",
    "\n",
    "dim = model.embedding_dimension\n",
    "\n",
    "# Compute the norms of the blocks.\n",
    "for i in range(len(features)):\n",
    "  for j in range(len(features)):\n",
    "    block = mat[i * dim:(i + 1) * dim,\n",
    "                j * dim:(j + 1) * dim]\n",
    "    block_norm[i,j] = np.linalg.norm(block, ord=\"fro\")\n",
    "\n",
    "plt.figure(figsize=(9,9))\n",
    "im = plt.matshow(block_norm, cmap=plt.cm.Blues)\n",
    "ax = plt.gca()\n",
    "divider = make_axes_locatable(plt.gca())\n",
    "cax = divider.append_axes(\"right\", size=\"5%\", pad=0.05)\n",
    "plt.colorbar(im, cax=cax)\n",
    "cax.tick_params(labelsize=10) \n",
    "_ = ax.set_xticklabels([\"\"] + features, rotation=45, ha=\"left\", fontsize=10)\n",
    "_ = ax.set_yticklabels([\"\"] + features, fontsize=10)"
   ]
  },
  {
   "cell_type": "markdown",
   "metadata": {
    "id": "WZKyHk-L4Kg8"
   },
   "source": [
    "Test"
   ]
  },
  {
   "cell_type": "code",
   "execution_count": 35,
   "metadata": {
    "id": "r-nB7npr4KXT"
   },
   "outputs": [
    {
     "name": "stdout",
     "output_type": "stream",
     "text": [
      "25/25 [==============================] - 0s 14ms/step - RMSE: 1.0270 - loss: 1.0550 - regularization_loss: 0.0000e+00 - total_loss: 1.0550\n"
     ]
    },
    {
     "data": {
      "text/plain": [
       "[1.0269559621810913, 1.0606697797775269, 0, 1.0606697797775269]"
      ]
     },
     "execution_count": 35,
     "metadata": {},
     "output_type": "execute_result"
    }
   ],
   "source": [
    "model.evaluate(cached_test)"
   ]
  },
  {
   "cell_type": "code",
   "execution_count": 36,
   "metadata": {
    "id": "NlBVsoLl4sW9"
   },
   "outputs": [
    {
     "name": "stdout",
     "output_type": "stream",
     "text": [
      "25/25 [==============================] - 0s 16ms/step - RMSE: 1.0270 - loss: 1.0550 - regularization_loss: 0.0000e+00 - total_loss: 1.0550\n"
     ]
    },
    {
     "data": {
      "text/plain": [
       "{'RMSE': 1.0269559621810913,\n",
       " 'loss': 1.0606697797775269,\n",
       " 'regularization_loss': 0,\n",
       " 'total_loss': 1.0606697797775269}"
      ]
     },
     "execution_count": 36,
     "metadata": {},
     "output_type": "execute_result"
    }
   ],
   "source": [
    "dcn_result['model'][-1].evaluate(cached_test, return_dict=True)"
   ]
  },
  {
   "cell_type": "code",
   "execution_count": 37,
   "metadata": {
    "id": "29Uv7wqV4KQr"
   },
   "outputs": [
    {
     "name": "stdout",
     "output_type": "stream",
     "text": [
      "Testing on test data.. \n",
      "#0 DCN Base \t\t RMSE: 1.03\n",
      "#1 DCN with LR \t\t RMSE: 1.04\n",
      "#2 DNN  \t\t RMSE: 1.07\n",
      "#3 Parallel \t\t RMSE: 0.98\n",
      "#4 Parallel 2 \t\t RMSE: 1.12\n",
      "#5 Parallel 3 \t\t RMSE: 0.98\n"
     ]
    }
   ],
   "source": [
    "my_list = [dcn_result, dcn_lr_result, dnn_result, dcn_parallel_result,dcn_parallel2_result, dcn_parallel3_result]\n",
    "my_model_name = [\"DCN Base\", \"DCN with LR\", \"DNN \", \"Parallel\", \"Parallel 2\", \"Parallel 3\"]\n",
    "print('Testing on test data.. ')\n",
    "for i,name in enumerate(my_list):\n",
    "  print(\"#\"+str(i)+ \" \" +str(my_model_name[i]), end=\" \")\n",
    "  result = name['model'][-1].evaluate(cached_test,return_dict=True, verbose=False)\n",
    "  print('\\t\\t RMSE: {:.2f}'.format(result['RMSE']))\n",
    "\n",
    "  # print(\"DNN (parallel2) RMSE mean: {:.4f}, stdv: {:.4f}\".format(dcn_parallel2_result[\"mean\"]))"
   ]
  },
  {
   "cell_type": "code",
   "execution_count": 45,
   "metadata": {
    "id": "rylOs9Te-s1f"
   },
   "outputs": [
    {
     "data": {
      "text/plain": [
       "array([[4.885335 ],\n",
       "       [3.4078844],\n",
       "       [3.990633 ],\n",
       "       ...,\n",
       "       [3.7469707],\n",
       "       [3.7025757],\n",
       "       [3.5215185]], dtype=float32)"
      ]
     },
     "execution_count": 45,
     "metadata": {},
     "output_type": "execute_result"
    }
   ],
   "source": [
    "model_tmp.predict(cached_test)"
   ]
  },
  {
   "cell_type": "code",
   "execution_count": 46,
   "metadata": {},
   "outputs": [
    {
     "data": {
      "text/html": [
       "<div>\n",
       "<style scoped>\n",
       "    .dataframe tbody tr th:only-of-type {\n",
       "        vertical-align: middle;\n",
       "    }\n",
       "\n",
       "    .dataframe tbody tr th {\n",
       "        vertical-align: top;\n",
       "    }\n",
       "\n",
       "    .dataframe thead th {\n",
       "        text-align: right;\n",
       "    }\n",
       "</style>\n",
       "<table border=\"1\" class=\"dataframe\">\n",
       "  <thead>\n",
       "    <tr style=\"text-align: right;\">\n",
       "      <th></th>\n",
       "      <th>user_id</th>\n",
       "      <th>movie_id</th>\n",
       "      <th>rating</th>\n",
       "    </tr>\n",
       "  </thead>\n",
       "  <tbody>\n",
       "    <tr>\n",
       "      <th>0</th>\n",
       "      <td>1</td>\n",
       "      <td>1193</td>\n",
       "      <td>5</td>\n",
       "    </tr>\n",
       "    <tr>\n",
       "      <th>1</th>\n",
       "      <td>1</td>\n",
       "      <td>661</td>\n",
       "      <td>3</td>\n",
       "    </tr>\n",
       "    <tr>\n",
       "      <th>2</th>\n",
       "      <td>1</td>\n",
       "      <td>914</td>\n",
       "      <td>3</td>\n",
       "    </tr>\n",
       "    <tr>\n",
       "      <th>3</th>\n",
       "      <td>1</td>\n",
       "      <td>3408</td>\n",
       "      <td>4</td>\n",
       "    </tr>\n",
       "    <tr>\n",
       "      <th>4</th>\n",
       "      <td>1</td>\n",
       "      <td>2355</td>\n",
       "      <td>5</td>\n",
       "    </tr>\n",
       "  </tbody>\n",
       "</table>\n",
       "</div>"
      ],
      "text/plain": [
       "   user_id  movie_id  rating\n",
       "0        1      1193       5\n",
       "1        1       661       3\n",
       "2        1       914       3\n",
       "3        1      3408       4\n",
       "4        1      2355       5"
      ]
     },
     "execution_count": 46,
     "metadata": {},
     "output_type": "execute_result"
    }
   ],
   "source": [
    "import pandas as pd\n",
    "my_rating = pd.read_csv('ml-1m/ratings.csv', usecols=[\"user_id\",\"movie_id\",\"rating\"])\n",
    "my_rating.head()"
   ]
  },
  {
   "cell_type": "code",
   "execution_count": null,
   "metadata": {},
   "outputs": [],
   "source": []
  },
  {
   "cell_type": "code",
   "execution_count": 47,
   "metadata": {},
   "outputs": [],
   "source": [
    "my_rating.columns = [\"userId\", \"movieId\", \"rating\"]"
   ]
  },
  {
   "cell_type": "code",
   "execution_count": 48,
   "metadata": {},
   "outputs": [
    {
     "data": {
      "text/html": [
       "<div>\n",
       "<style scoped>\n",
       "    .dataframe tbody tr th:only-of-type {\n",
       "        vertical-align: middle;\n",
       "    }\n",
       "\n",
       "    .dataframe tbody tr th {\n",
       "        vertical-align: top;\n",
       "    }\n",
       "\n",
       "    .dataframe thead th {\n",
       "        text-align: right;\n",
       "    }\n",
       "</style>\n",
       "<table border=\"1\" class=\"dataframe\">\n",
       "  <thead>\n",
       "    <tr style=\"text-align: right;\">\n",
       "      <th></th>\n",
       "      <th>userId</th>\n",
       "      <th>movieId</th>\n",
       "      <th>rating</th>\n",
       "    </tr>\n",
       "  </thead>\n",
       "  <tbody>\n",
       "    <tr>\n",
       "      <th>0</th>\n",
       "      <td>1</td>\n",
       "      <td>1193</td>\n",
       "      <td>5</td>\n",
       "    </tr>\n",
       "    <tr>\n",
       "      <th>1</th>\n",
       "      <td>1</td>\n",
       "      <td>661</td>\n",
       "      <td>3</td>\n",
       "    </tr>\n",
       "    <tr>\n",
       "      <th>2</th>\n",
       "      <td>1</td>\n",
       "      <td>914</td>\n",
       "      <td>3</td>\n",
       "    </tr>\n",
       "    <tr>\n",
       "      <th>3</th>\n",
       "      <td>1</td>\n",
       "      <td>3408</td>\n",
       "      <td>4</td>\n",
       "    </tr>\n",
       "    <tr>\n",
       "      <th>4</th>\n",
       "      <td>1</td>\n",
       "      <td>2355</td>\n",
       "      <td>5</td>\n",
       "    </tr>\n",
       "  </tbody>\n",
       "</table>\n",
       "</div>"
      ],
      "text/plain": [
       "   userId  movieId  rating\n",
       "0       1     1193       5\n",
       "1       1      661       3\n",
       "2       1      914       3\n",
       "3       1     3408       4\n",
       "4       1     2355       5"
      ]
     },
     "execution_count": 48,
     "metadata": {},
     "output_type": "execute_result"
    }
   ],
   "source": [
    "my_rating.head()"
   ]
  },
  {
   "cell_type": "code",
   "execution_count": 19,
   "metadata": {},
   "outputs": [],
   "source": [
    "# print(my_rating.groupby(\"userId\").groups)"
   ]
  },
  {
   "cell_type": "code",
   "execution_count": 49,
   "metadata": {},
   "outputs": [
    {
     "data": {
      "text/html": [
       "<div>\n",
       "<style scoped>\n",
       "    .dataframe tbody tr th:only-of-type {\n",
       "        vertical-align: middle;\n",
       "    }\n",
       "\n",
       "    .dataframe tbody tr th {\n",
       "        vertical-align: top;\n",
       "    }\n",
       "\n",
       "    .dataframe thead th {\n",
       "        text-align: right;\n",
       "    }\n",
       "</style>\n",
       "<table border=\"1\" class=\"dataframe\">\n",
       "  <thead>\n",
       "    <tr style=\"text-align: right;\">\n",
       "      <th>movieId</th>\n",
       "      <th>1</th>\n",
       "      <th>2</th>\n",
       "      <th>3</th>\n",
       "      <th>4</th>\n",
       "      <th>5</th>\n",
       "      <th>6</th>\n",
       "      <th>7</th>\n",
       "      <th>8</th>\n",
       "      <th>9</th>\n",
       "      <th>10</th>\n",
       "      <th>...</th>\n",
       "      <th>3943</th>\n",
       "      <th>3944</th>\n",
       "      <th>3945</th>\n",
       "      <th>3946</th>\n",
       "      <th>3947</th>\n",
       "      <th>3948</th>\n",
       "      <th>3949</th>\n",
       "      <th>3950</th>\n",
       "      <th>3951</th>\n",
       "      <th>3952</th>\n",
       "    </tr>\n",
       "    <tr>\n",
       "      <th>userId</th>\n",
       "      <th></th>\n",
       "      <th></th>\n",
       "      <th></th>\n",
       "      <th></th>\n",
       "      <th></th>\n",
       "      <th></th>\n",
       "      <th></th>\n",
       "      <th></th>\n",
       "      <th></th>\n",
       "      <th></th>\n",
       "      <th></th>\n",
       "      <th></th>\n",
       "      <th></th>\n",
       "      <th></th>\n",
       "      <th></th>\n",
       "      <th></th>\n",
       "      <th></th>\n",
       "      <th></th>\n",
       "      <th></th>\n",
       "      <th></th>\n",
       "      <th></th>\n",
       "    </tr>\n",
       "  </thead>\n",
       "  <tbody>\n",
       "    <tr>\n",
       "      <th>1</th>\n",
       "      <td>5.0</td>\n",
       "      <td>0.0</td>\n",
       "      <td>0.0</td>\n",
       "      <td>0.0</td>\n",
       "      <td>0.0</td>\n",
       "      <td>0.0</td>\n",
       "      <td>0.0</td>\n",
       "      <td>0.0</td>\n",
       "      <td>0.0</td>\n",
       "      <td>0.0</td>\n",
       "      <td>...</td>\n",
       "      <td>0.0</td>\n",
       "      <td>0.0</td>\n",
       "      <td>0.0</td>\n",
       "      <td>0.0</td>\n",
       "      <td>0.0</td>\n",
       "      <td>0.0</td>\n",
       "      <td>0.0</td>\n",
       "      <td>0.0</td>\n",
       "      <td>0.0</td>\n",
       "      <td>0.0</td>\n",
       "    </tr>\n",
       "    <tr>\n",
       "      <th>2</th>\n",
       "      <td>0.0</td>\n",
       "      <td>0.0</td>\n",
       "      <td>0.0</td>\n",
       "      <td>0.0</td>\n",
       "      <td>0.0</td>\n",
       "      <td>0.0</td>\n",
       "      <td>0.0</td>\n",
       "      <td>0.0</td>\n",
       "      <td>0.0</td>\n",
       "      <td>0.0</td>\n",
       "      <td>...</td>\n",
       "      <td>0.0</td>\n",
       "      <td>0.0</td>\n",
       "      <td>0.0</td>\n",
       "      <td>0.0</td>\n",
       "      <td>0.0</td>\n",
       "      <td>0.0</td>\n",
       "      <td>0.0</td>\n",
       "      <td>0.0</td>\n",
       "      <td>0.0</td>\n",
       "      <td>0.0</td>\n",
       "    </tr>\n",
       "    <tr>\n",
       "      <th>3</th>\n",
       "      <td>0.0</td>\n",
       "      <td>0.0</td>\n",
       "      <td>0.0</td>\n",
       "      <td>0.0</td>\n",
       "      <td>0.0</td>\n",
       "      <td>0.0</td>\n",
       "      <td>0.0</td>\n",
       "      <td>0.0</td>\n",
       "      <td>0.0</td>\n",
       "      <td>0.0</td>\n",
       "      <td>...</td>\n",
       "      <td>0.0</td>\n",
       "      <td>0.0</td>\n",
       "      <td>0.0</td>\n",
       "      <td>0.0</td>\n",
       "      <td>0.0</td>\n",
       "      <td>0.0</td>\n",
       "      <td>0.0</td>\n",
       "      <td>0.0</td>\n",
       "      <td>0.0</td>\n",
       "      <td>0.0</td>\n",
       "    </tr>\n",
       "    <tr>\n",
       "      <th>4</th>\n",
       "      <td>0.0</td>\n",
       "      <td>0.0</td>\n",
       "      <td>0.0</td>\n",
       "      <td>0.0</td>\n",
       "      <td>0.0</td>\n",
       "      <td>0.0</td>\n",
       "      <td>0.0</td>\n",
       "      <td>0.0</td>\n",
       "      <td>0.0</td>\n",
       "      <td>0.0</td>\n",
       "      <td>...</td>\n",
       "      <td>0.0</td>\n",
       "      <td>0.0</td>\n",
       "      <td>0.0</td>\n",
       "      <td>0.0</td>\n",
       "      <td>0.0</td>\n",
       "      <td>0.0</td>\n",
       "      <td>0.0</td>\n",
       "      <td>0.0</td>\n",
       "      <td>0.0</td>\n",
       "      <td>0.0</td>\n",
       "    </tr>\n",
       "    <tr>\n",
       "      <th>5</th>\n",
       "      <td>0.0</td>\n",
       "      <td>0.0</td>\n",
       "      <td>0.0</td>\n",
       "      <td>0.0</td>\n",
       "      <td>0.0</td>\n",
       "      <td>2.0</td>\n",
       "      <td>0.0</td>\n",
       "      <td>0.0</td>\n",
       "      <td>0.0</td>\n",
       "      <td>0.0</td>\n",
       "      <td>...</td>\n",
       "      <td>0.0</td>\n",
       "      <td>0.0</td>\n",
       "      <td>0.0</td>\n",
       "      <td>0.0</td>\n",
       "      <td>0.0</td>\n",
       "      <td>0.0</td>\n",
       "      <td>0.0</td>\n",
       "      <td>0.0</td>\n",
       "      <td>0.0</td>\n",
       "      <td>0.0</td>\n",
       "    </tr>\n",
       "    <tr>\n",
       "      <th>6</th>\n",
       "      <td>4.0</td>\n",
       "      <td>0.0</td>\n",
       "      <td>0.0</td>\n",
       "      <td>0.0</td>\n",
       "      <td>0.0</td>\n",
       "      <td>0.0</td>\n",
       "      <td>0.0</td>\n",
       "      <td>0.0</td>\n",
       "      <td>0.0</td>\n",
       "      <td>0.0</td>\n",
       "      <td>...</td>\n",
       "      <td>0.0</td>\n",
       "      <td>0.0</td>\n",
       "      <td>0.0</td>\n",
       "      <td>0.0</td>\n",
       "      <td>0.0</td>\n",
       "      <td>0.0</td>\n",
       "      <td>0.0</td>\n",
       "      <td>0.0</td>\n",
       "      <td>0.0</td>\n",
       "      <td>0.0</td>\n",
       "    </tr>\n",
       "    <tr>\n",
       "      <th>7</th>\n",
       "      <td>0.0</td>\n",
       "      <td>0.0</td>\n",
       "      <td>0.0</td>\n",
       "      <td>0.0</td>\n",
       "      <td>0.0</td>\n",
       "      <td>4.0</td>\n",
       "      <td>0.0</td>\n",
       "      <td>0.0</td>\n",
       "      <td>0.0</td>\n",
       "      <td>0.0</td>\n",
       "      <td>...</td>\n",
       "      <td>0.0</td>\n",
       "      <td>0.0</td>\n",
       "      <td>0.0</td>\n",
       "      <td>0.0</td>\n",
       "      <td>0.0</td>\n",
       "      <td>0.0</td>\n",
       "      <td>0.0</td>\n",
       "      <td>0.0</td>\n",
       "      <td>0.0</td>\n",
       "      <td>0.0</td>\n",
       "    </tr>\n",
       "    <tr>\n",
       "      <th>8</th>\n",
       "      <td>4.0</td>\n",
       "      <td>0.0</td>\n",
       "      <td>0.0</td>\n",
       "      <td>3.0</td>\n",
       "      <td>0.0</td>\n",
       "      <td>0.0</td>\n",
       "      <td>0.0</td>\n",
       "      <td>0.0</td>\n",
       "      <td>0.0</td>\n",
       "      <td>0.0</td>\n",
       "      <td>...</td>\n",
       "      <td>0.0</td>\n",
       "      <td>0.0</td>\n",
       "      <td>0.0</td>\n",
       "      <td>0.0</td>\n",
       "      <td>0.0</td>\n",
       "      <td>0.0</td>\n",
       "      <td>0.0</td>\n",
       "      <td>0.0</td>\n",
       "      <td>0.0</td>\n",
       "      <td>0.0</td>\n",
       "    </tr>\n",
       "    <tr>\n",
       "      <th>9</th>\n",
       "      <td>5.0</td>\n",
       "      <td>0.0</td>\n",
       "      <td>0.0</td>\n",
       "      <td>0.0</td>\n",
       "      <td>0.0</td>\n",
       "      <td>0.0</td>\n",
       "      <td>0.0</td>\n",
       "      <td>0.0</td>\n",
       "      <td>0.0</td>\n",
       "      <td>0.0</td>\n",
       "      <td>...</td>\n",
       "      <td>0.0</td>\n",
       "      <td>0.0</td>\n",
       "      <td>0.0</td>\n",
       "      <td>0.0</td>\n",
       "      <td>0.0</td>\n",
       "      <td>3.0</td>\n",
       "      <td>0.0</td>\n",
       "      <td>0.0</td>\n",
       "      <td>0.0</td>\n",
       "      <td>0.0</td>\n",
       "    </tr>\n",
       "    <tr>\n",
       "      <th>10</th>\n",
       "      <td>5.0</td>\n",
       "      <td>5.0</td>\n",
       "      <td>0.0</td>\n",
       "      <td>0.0</td>\n",
       "      <td>0.0</td>\n",
       "      <td>0.0</td>\n",
       "      <td>4.0</td>\n",
       "      <td>0.0</td>\n",
       "      <td>0.0</td>\n",
       "      <td>0.0</td>\n",
       "      <td>...</td>\n",
       "      <td>0.0</td>\n",
       "      <td>0.0</td>\n",
       "      <td>0.0</td>\n",
       "      <td>0.0</td>\n",
       "      <td>0.0</td>\n",
       "      <td>4.0</td>\n",
       "      <td>0.0</td>\n",
       "      <td>0.0</td>\n",
       "      <td>0.0</td>\n",
       "      <td>0.0</td>\n",
       "    </tr>\n",
       "  </tbody>\n",
       "</table>\n",
       "<p>10 rows × 3706 columns</p>\n",
       "</div>"
      ],
      "text/plain": [
       "movieId  1     2     3     4     5     6     7     8     9     10    ...  \\\n",
       "userId                                                               ...   \n",
       "1         5.0   0.0   0.0   0.0   0.0   0.0   0.0   0.0   0.0   0.0  ...   \n",
       "2         0.0   0.0   0.0   0.0   0.0   0.0   0.0   0.0   0.0   0.0  ...   \n",
       "3         0.0   0.0   0.0   0.0   0.0   0.0   0.0   0.0   0.0   0.0  ...   \n",
       "4         0.0   0.0   0.0   0.0   0.0   0.0   0.0   0.0   0.0   0.0  ...   \n",
       "5         0.0   0.0   0.0   0.0   0.0   2.0   0.0   0.0   0.0   0.0  ...   \n",
       "6         4.0   0.0   0.0   0.0   0.0   0.0   0.0   0.0   0.0   0.0  ...   \n",
       "7         0.0   0.0   0.0   0.0   0.0   4.0   0.0   0.0   0.0   0.0  ...   \n",
       "8         4.0   0.0   0.0   3.0   0.0   0.0   0.0   0.0   0.0   0.0  ...   \n",
       "9         5.0   0.0   0.0   0.0   0.0   0.0   0.0   0.0   0.0   0.0  ...   \n",
       "10        5.0   5.0   0.0   0.0   0.0   0.0   4.0   0.0   0.0   0.0  ...   \n",
       "\n",
       "movieId  3943  3944  3945  3946  3947  3948  3949  3950  3951  3952  \n",
       "userId                                                               \n",
       "1         0.0   0.0   0.0   0.0   0.0   0.0   0.0   0.0   0.0   0.0  \n",
       "2         0.0   0.0   0.0   0.0   0.0   0.0   0.0   0.0   0.0   0.0  \n",
       "3         0.0   0.0   0.0   0.0   0.0   0.0   0.0   0.0   0.0   0.0  \n",
       "4         0.0   0.0   0.0   0.0   0.0   0.0   0.0   0.0   0.0   0.0  \n",
       "5         0.0   0.0   0.0   0.0   0.0   0.0   0.0   0.0   0.0   0.0  \n",
       "6         0.0   0.0   0.0   0.0   0.0   0.0   0.0   0.0   0.0   0.0  \n",
       "7         0.0   0.0   0.0   0.0   0.0   0.0   0.0   0.0   0.0   0.0  \n",
       "8         0.0   0.0   0.0   0.0   0.0   0.0   0.0   0.0   0.0   0.0  \n",
       "9         0.0   0.0   0.0   0.0   0.0   3.0   0.0   0.0   0.0   0.0  \n",
       "10        0.0   0.0   0.0   0.0   0.0   4.0   0.0   0.0   0.0   0.0  \n",
       "\n",
       "[10 rows x 3706 columns]"
      ]
     },
     "execution_count": 49,
     "metadata": {},
     "output_type": "execute_result"
    }
   ],
   "source": [
    "pref_matrix = my_rating.reset_index()[[\"userId\", \"movieId\", \"rating\"]].pivot(index=\"userId\", columns=\"movieId\", values=\"rating\")\n",
    "pref_matrix = pref_matrix.fillna(0)\n",
    "pref_matrix.head(10)"
   ]
  },
  {
   "cell_type": "code",
   "execution_count": 50,
   "metadata": {},
   "outputs": [],
   "source": [
    "my_test_dict = pref_matrix.to_dict()"
   ]
  },
  {
   "cell_type": "code",
   "execution_count": 51,
   "metadata": {},
   "outputs": [],
   "source": [
    "userId = list(pref_matrix.index)\n",
    "movieId = list(pref_matrix.columns)"
   ]
  },
  {
   "cell_type": "code",
   "execution_count": 52,
   "metadata": {},
   "outputs": [
    {
     "data": {
      "text/plain": [
       "(6040, 3706)"
      ]
     },
     "execution_count": 52,
     "metadata": {},
     "output_type": "execute_result"
    }
   ],
   "source": [
    "len(userId), len(movieId)"
   ]
  },
  {
   "cell_type": "code",
   "execution_count": 53,
   "metadata": {},
   "outputs": [],
   "source": [
    "count =0\n",
    "final_movie_id = []\n",
    "final_user_id = []\n",
    "final_rating = []\n",
    "for i in my_test_dict.items():\n",
    "    \n",
    "    tmp = [i[0] for j in range(len(userId))]\n",
    "#     print(\"movie id \"+str(tmp))\n",
    "    final_movie_id.extend(tmp)\n",
    "    \n",
    "#     print(\"user id \"+str(list(i[1].keys())))\n",
    "    final_user_id.extend(list(i[1].keys()))\n",
    "\n",
    "#     print(\"ratings id \"+str(list(i[1].values())))\n",
    "    final_rating.extend(list(i[1].values()))\n",
    "#     count+=1\n",
    "#     if count>5:\n",
    "#         break"
   ]
  },
  {
   "cell_type": "code",
   "execution_count": 54,
   "metadata": {},
   "outputs": [
    {
     "data": {
      "text/plain": [
       "(22384240, 22384240, 22384240)"
      ]
     },
     "execution_count": 54,
     "metadata": {},
     "output_type": "execute_result"
    }
   ],
   "source": [
    "len(final_movie_id), len(final_user_id), len(final_rating)"
   ]
  },
  {
   "cell_type": "code",
   "execution_count": 55,
   "metadata": {},
   "outputs": [],
   "source": [
    "final_movie_id = [str(i) for i in final_movie_id]\n",
    "final_user_id = [str(i) for i in final_user_id]"
   ]
  },
  {
   "cell_type": "code",
   "execution_count": 56,
   "metadata": {},
   "outputs": [],
   "source": [
    "N = len(final_movie_id)\n",
    "# dictionary of arrays:\n",
    "# metadata = {\n",
    "#     'bucketized_user_age': \"1\",\n",
    "#     'movie_id': '1416',\n",
    "#     'movie_title': 'Thunderball (1965)',\n",
    "#     'timestamp': \"975658116\",\n",
    "#     'user_gender': \"1\",\n",
    "#     'user_id': '1285',\n",
    "#     'user_occupation_text': 'college/grad student',\n",
    "#     'user_rating': \"4.0\",\n",
    "#     'user_zip_code': '98125'\n",
    "#     }\n",
    "\n",
    "metadata = {\n",
    "    'movie_id': final_movie_id,\n",
    "    'user_id': final_user_id,\n",
    "    'user_rating': final_rating,\n",
    "    }\n",
    "num_samples = N\n",
    "\n",
    "def meta_dict_gen():\n",
    "    for i in range(num_samples):\n",
    "        ls = {}\n",
    "        for key, val in metadata.items():\n",
    "            ls[key] = val[i]\n",
    "        yield ls\n",
    "\n",
    "dataset = tf.data.Dataset.from_generator(\n",
    "    meta_dict_gen,\n",
    "    output_types={\"movie_id\": tf.string, \"user_id\": tf.string, \"user_rating\": tf.float32},\n",
    "    output_shapes={\"movie_id\": (), \"user_id\": (), \"user_rating\": ()})"
   ]
  },
  {
   "cell_type": "code",
   "execution_count": 104,
   "metadata": {},
   "outputs": [],
   "source": [
    "# dataset = dataset.map(lambda x: {\n",
    "#     \"movie_id\": x[\"movie_id\"],\n",
    "#     \"user_id\": x[\"user_id\"],\n",
    "#     \"user_rating\": x[\"user_rating\"],\n",
    "#     \"user_gender\": int(x[\"user_gender\"]),\n",
    "#     \"user_zip_code\": x[\"user_zip_code\"],\n",
    "#     \"user_occupation_text\": x[\"user_occupation_text\"],\n",
    "#     \"movie_title\": x[\"movie_title\"],\n",
    "#     \"timestamp\": int(x[\"timestamp\"]),\n",
    "#     \"bucketized_user_age\": int(x[\"bucketized_user_age\"]),\n",
    "# })\n",
    "\n",
    "dataset = dataset.map(lambda x: {\n",
    "    \"movie_id\": x[\"movie_id\"],\n",
    "    \"user_id\": x[\"user_id\"],\n",
    "    \"user_rating\": x[\"user_rating\"]\n",
    "})"
   ]
  },
  {
   "cell_type": "code",
   "execution_count": 57,
   "metadata": {},
   "outputs": [
    {
     "name": "stdout",
     "output_type": "stream",
     "text": [
      "{'movie_id': array([b'1'], dtype=object),\n",
      " 'user_id': array([b'1'], dtype=object),\n",
      " 'user_rating': array([5.], dtype=float32)}\n",
      "{'movie_id': array([b'1'], dtype=object),\n",
      " 'user_id': array([b'2'], dtype=object),\n",
      " 'user_rating': array([0.], dtype=float32)}\n"
     ]
    }
   ],
   "source": [
    "for x in dataset.batch(1).take(2).as_numpy_iterator():\n",
    "  pprint.pprint(x)"
   ]
  },
  {
   "cell_type": "code",
   "execution_count": 58,
   "metadata": {},
   "outputs": [
    {
     "data": {
      "text/plain": [
       "5464.90234375"
      ]
     },
     "execution_count": 58,
     "metadata": {},
     "output_type": "execute_result"
    }
   ],
   "source": [
    "22384240/4096"
   ]
  },
  {
   "cell_type": "code",
   "execution_count": 59,
   "metadata": {},
   "outputs": [],
   "source": [
    "cached_test_dataset = dataset.batch(4096).cache()"
   ]
  },
  {
   "cell_type": "code",
   "execution_count": 60,
   "metadata": {},
   "outputs": [
    {
     "name": "stdout",
     "output_type": "stream",
     "text": [
      "5465/5465 [==============================] - 3929s 719ms/step\n",
      "CPU times: user 1h 6min 24s, sys: 9min 38s, total: 1h 16min 2s\n",
      "Wall time: 1h 5min 29s\n"
     ]
    }
   ],
   "source": [
    "%%time\n",
    "\n",
    "preds = model_tmp.predict(cached_test_dataset,verbose=True)\n",
    "preds = preds.flatten()"
   ]
  },
  {
   "cell_type": "code",
   "execution_count": 61,
   "metadata": {},
   "outputs": [],
   "source": [
    "final_predicted_rating = [i for i in preds.flatten()]"
   ]
  },
  {
   "cell_type": "code",
   "execution_count": 62,
   "metadata": {},
   "outputs": [
    {
     "data": {
      "text/plain": [
       "22384240"
      ]
     },
     "execution_count": 62,
     "metadata": {},
     "output_type": "execute_result"
    }
   ],
   "source": [
    "len(final_predicted_rating)"
   ]
  },
  {
   "cell_type": "code",
   "execution_count": 63,
   "metadata": {},
   "outputs": [
    {
     "data": {
      "text/plain": [
       "[4.13801, 4.1889195, 4.1356764, 4.0994115, 3.2076497]"
      ]
     },
     "execution_count": 63,
     "metadata": {},
     "output_type": "execute_result"
    }
   ],
   "source": [
    "final_predicted_rating[:5]"
   ]
  },
  {
   "cell_type": "code",
   "execution_count": 64,
   "metadata": {},
   "outputs": [],
   "source": [
    "result_df = pd.DataFrame(data = list(zip(final_user_id,final_movie_id,final_rating,final_predicted_rating)),columns=['UserId','movieId','rating','predicted_rating'])"
   ]
  },
  {
   "cell_type": "code",
   "execution_count": 65,
   "metadata": {},
   "outputs": [
    {
     "data": {
      "text/html": [
       "<div>\n",
       "<style scoped>\n",
       "    .dataframe tbody tr th:only-of-type {\n",
       "        vertical-align: middle;\n",
       "    }\n",
       "\n",
       "    .dataframe tbody tr th {\n",
       "        vertical-align: top;\n",
       "    }\n",
       "\n",
       "    .dataframe thead th {\n",
       "        text-align: right;\n",
       "    }\n",
       "</style>\n",
       "<table border=\"1\" class=\"dataframe\">\n",
       "  <thead>\n",
       "    <tr style=\"text-align: right;\">\n",
       "      <th></th>\n",
       "      <th>UserId</th>\n",
       "      <th>movieId</th>\n",
       "      <th>rating</th>\n",
       "      <th>predicted_rating</th>\n",
       "    </tr>\n",
       "  </thead>\n",
       "  <tbody>\n",
       "    <tr>\n",
       "      <th>0</th>\n",
       "      <td>1</td>\n",
       "      <td>1</td>\n",
       "      <td>5.0</td>\n",
       "      <td>4.138010</td>\n",
       "    </tr>\n",
       "    <tr>\n",
       "      <th>1</th>\n",
       "      <td>2</td>\n",
       "      <td>1</td>\n",
       "      <td>0.0</td>\n",
       "      <td>4.188920</td>\n",
       "    </tr>\n",
       "    <tr>\n",
       "      <th>2</th>\n",
       "      <td>3</td>\n",
       "      <td>1</td>\n",
       "      <td>0.0</td>\n",
       "      <td>4.135676</td>\n",
       "    </tr>\n",
       "    <tr>\n",
       "      <th>3</th>\n",
       "      <td>4</td>\n",
       "      <td>1</td>\n",
       "      <td>0.0</td>\n",
       "      <td>4.099411</td>\n",
       "    </tr>\n",
       "    <tr>\n",
       "      <th>4</th>\n",
       "      <td>5</td>\n",
       "      <td>1</td>\n",
       "      <td>0.0</td>\n",
       "      <td>3.207650</td>\n",
       "    </tr>\n",
       "  </tbody>\n",
       "</table>\n",
       "</div>"
      ],
      "text/plain": [
       "  UserId movieId  rating  predicted_rating\n",
       "0      1       1     5.0          4.138010\n",
       "1      2       1     0.0          4.188920\n",
       "2      3       1     0.0          4.135676\n",
       "3      4       1     0.0          4.099411\n",
       "4      5       1     0.0          3.207650"
      ]
     },
     "execution_count": 65,
     "metadata": {},
     "output_type": "execute_result"
    }
   ],
   "source": [
    "result_df.head()"
   ]
  },
  {
   "cell_type": "code",
   "execution_count": 66,
   "metadata": {},
   "outputs": [
    {
     "data": {
      "text/html": [
       "<div>\n",
       "<style scoped>\n",
       "    .dataframe tbody tr th:only-of-type {\n",
       "        vertical-align: middle;\n",
       "    }\n",
       "\n",
       "    .dataframe tbody tr th {\n",
       "        vertical-align: top;\n",
       "    }\n",
       "\n",
       "    .dataframe thead th {\n",
       "        text-align: right;\n",
       "    }\n",
       "</style>\n",
       "<table border=\"1\" class=\"dataframe\">\n",
       "  <thead>\n",
       "    <tr style=\"text-align: right;\">\n",
       "      <th></th>\n",
       "      <th>UserId</th>\n",
       "      <th>movieId</th>\n",
       "      <th>rating</th>\n",
       "      <th>predicted_rating</th>\n",
       "      <th>final_score</th>\n",
       "    </tr>\n",
       "  </thead>\n",
       "  <tbody>\n",
       "    <tr>\n",
       "      <th>0</th>\n",
       "      <td>1</td>\n",
       "      <td>1</td>\n",
       "      <td>5.0</td>\n",
       "      <td>4.138010</td>\n",
       "      <td>5.0</td>\n",
       "    </tr>\n",
       "    <tr>\n",
       "      <th>1</th>\n",
       "      <td>2</td>\n",
       "      <td>1</td>\n",
       "      <td>0.0</td>\n",
       "      <td>4.188920</td>\n",
       "      <td>0.0</td>\n",
       "    </tr>\n",
       "    <tr>\n",
       "      <th>2</th>\n",
       "      <td>3</td>\n",
       "      <td>1</td>\n",
       "      <td>0.0</td>\n",
       "      <td>4.135676</td>\n",
       "      <td>0.0</td>\n",
       "    </tr>\n",
       "    <tr>\n",
       "      <th>3</th>\n",
       "      <td>4</td>\n",
       "      <td>1</td>\n",
       "      <td>0.0</td>\n",
       "      <td>4.099411</td>\n",
       "      <td>0.0</td>\n",
       "    </tr>\n",
       "    <tr>\n",
       "      <th>4</th>\n",
       "      <td>5</td>\n",
       "      <td>1</td>\n",
       "      <td>0.0</td>\n",
       "      <td>3.207650</td>\n",
       "      <td>0.0</td>\n",
       "    </tr>\n",
       "  </tbody>\n",
       "</table>\n",
       "</div>"
      ],
      "text/plain": [
       "  UserId movieId  rating  predicted_rating  final_score\n",
       "0      1       1     5.0          4.138010          5.0\n",
       "1      2       1     0.0          4.188920          0.0\n",
       "2      3       1     0.0          4.135676          0.0\n",
       "3      4       1     0.0          4.099411          0.0\n",
       "4      5       1     0.0          3.207650          0.0"
      ]
     },
     "execution_count": 66,
     "metadata": {},
     "output_type": "execute_result"
    }
   ],
   "source": [
    "result_df['final_score'] = result_df['rating']\n",
    "result_df.head()"
   ]
  },
  {
   "cell_type": "code",
   "execution_count": 67,
   "metadata": {},
   "outputs": [],
   "source": [
    "final2_df = result_df[result_df[\"final_score\"]==0.0]"
   ]
  },
  {
   "cell_type": "code",
   "execution_count": 69,
   "metadata": {},
   "outputs": [
    {
     "data": {
      "text/html": [
       "<div>\n",
       "<style scoped>\n",
       "    .dataframe tbody tr th:only-of-type {\n",
       "        vertical-align: middle;\n",
       "    }\n",
       "\n",
       "    .dataframe tbody tr th {\n",
       "        vertical-align: top;\n",
       "    }\n",
       "\n",
       "    .dataframe thead th {\n",
       "        text-align: right;\n",
       "    }\n",
       "</style>\n",
       "<table border=\"1\" class=\"dataframe\">\n",
       "  <thead>\n",
       "    <tr style=\"text-align: right;\">\n",
       "      <th></th>\n",
       "      <th>UserId</th>\n",
       "      <th>movieId</th>\n",
       "      <th>rating</th>\n",
       "      <th>predicted_rating</th>\n",
       "      <th>final_score</th>\n",
       "    </tr>\n",
       "  </thead>\n",
       "  <tbody>\n",
       "    <tr>\n",
       "      <th>1</th>\n",
       "      <td>2</td>\n",
       "      <td>1</td>\n",
       "      <td>0.0</td>\n",
       "      <td>4.188920</td>\n",
       "      <td>0.0</td>\n",
       "    </tr>\n",
       "    <tr>\n",
       "      <th>2</th>\n",
       "      <td>3</td>\n",
       "      <td>1</td>\n",
       "      <td>0.0</td>\n",
       "      <td>4.135676</td>\n",
       "      <td>0.0</td>\n",
       "    </tr>\n",
       "    <tr>\n",
       "      <th>3</th>\n",
       "      <td>4</td>\n",
       "      <td>1</td>\n",
       "      <td>0.0</td>\n",
       "      <td>4.099411</td>\n",
       "      <td>0.0</td>\n",
       "    </tr>\n",
       "    <tr>\n",
       "      <th>4</th>\n",
       "      <td>5</td>\n",
       "      <td>1</td>\n",
       "      <td>0.0</td>\n",
       "      <td>3.207650</td>\n",
       "      <td>0.0</td>\n",
       "    </tr>\n",
       "    <tr>\n",
       "      <th>6</th>\n",
       "      <td>7</td>\n",
       "      <td>1</td>\n",
       "      <td>0.0</td>\n",
       "      <td>4.451700</td>\n",
       "      <td>0.0</td>\n",
       "    </tr>\n",
       "  </tbody>\n",
       "</table>\n",
       "</div>"
      ],
      "text/plain": [
       "  UserId movieId  rating  predicted_rating  final_score\n",
       "1      2       1     0.0          4.188920          0.0\n",
       "2      3       1     0.0          4.135676          0.0\n",
       "3      4       1     0.0          4.099411          0.0\n",
       "4      5       1     0.0          3.207650          0.0\n",
       "6      7       1     0.0          4.451700          0.0"
      ]
     },
     "execution_count": 69,
     "metadata": {},
     "output_type": "execute_result"
    }
   ],
   "source": [
    "final2_df.head()"
   ]
  },
  {
   "cell_type": "code",
   "execution_count": 71,
   "metadata": {},
   "outputs": [],
   "source": [
    "import os"
   ]
  },
  {
   "cell_type": "code",
   "execution_count": 72,
   "metadata": {},
   "outputs": [
    {
     "data": {
      "text/plain": [
       "['dcn v6-KT.ipynb', '.ipynb_checkpoints', 'ml-1m', 'TFDS']"
      ]
     },
     "execution_count": 72,
     "metadata": {},
     "output_type": "execute_result"
    }
   ],
   "source": [
    "os.listdir()"
   ]
  },
  {
   "cell_type": "code",
   "execution_count": 73,
   "metadata": {},
   "outputs": [],
   "source": [
    "final2_df.to_pickle(\"DCN_Result2.pickle\")"
   ]
  },
  {
   "cell_type": "code",
   "execution_count": 74,
   "metadata": {},
   "outputs": [],
   "source": [
    "result_df.to_pickle(\"DCN_Result.pickle\")"
   ]
  },
  {
   "cell_type": "code",
   "execution_count": 75,
   "metadata": {},
   "outputs": [
    {
     "data": {
      "text/html": [
       "<div>\n",
       "<style scoped>\n",
       "    .dataframe tbody tr th:only-of-type {\n",
       "        vertical-align: middle;\n",
       "    }\n",
       "\n",
       "    .dataframe tbody tr th {\n",
       "        vertical-align: top;\n",
       "    }\n",
       "\n",
       "    .dataframe thead th {\n",
       "        text-align: right;\n",
       "    }\n",
       "</style>\n",
       "<table border=\"1\" class=\"dataframe\">\n",
       "  <thead>\n",
       "    <tr style=\"text-align: right;\">\n",
       "      <th></th>\n",
       "      <th>UserId</th>\n",
       "      <th>movieId</th>\n",
       "      <th>rating</th>\n",
       "      <th>predicted_rating</th>\n",
       "      <th>final_score</th>\n",
       "    </tr>\n",
       "  </thead>\n",
       "  <tbody>\n",
       "    <tr>\n",
       "      <th>2567000</th>\n",
       "      <td>1</td>\n",
       "      <td>439</td>\n",
       "      <td>0.0</td>\n",
       "      <td>4.581730</td>\n",
       "      <td>0.0</td>\n",
       "    </tr>\n",
       "    <tr>\n",
       "      <th>12176640</th>\n",
       "      <td>1</td>\n",
       "      <td>2197</td>\n",
       "      <td>0.0</td>\n",
       "      <td>4.461979</td>\n",
       "      <td>0.0</td>\n",
       "    </tr>\n",
       "    <tr>\n",
       "      <th>19038080</th>\n",
       "      <td>1</td>\n",
       "      <td>3382</td>\n",
       "      <td>0.0</td>\n",
       "      <td>4.457921</td>\n",
       "      <td>0.0</td>\n",
       "    </tr>\n",
       "    <tr>\n",
       "      <th>20620560</th>\n",
       "      <td>1</td>\n",
       "      <td>3656</td>\n",
       "      <td>0.0</td>\n",
       "      <td>4.451767</td>\n",
       "      <td>0.0</td>\n",
       "    </tr>\n",
       "    <tr>\n",
       "      <th>3370320</th>\n",
       "      <td>1</td>\n",
       "      <td>572</td>\n",
       "      <td>0.0</td>\n",
       "      <td>4.438087</td>\n",
       "      <td>0.0</td>\n",
       "    </tr>\n",
       "  </tbody>\n",
       "</table>\n",
       "</div>"
      ],
      "text/plain": [
       "         UserId movieId  rating  predicted_rating  final_score\n",
       "2567000       1     439     0.0          4.581730          0.0\n",
       "12176640      1    2197     0.0          4.461979          0.0\n",
       "19038080      1    3382     0.0          4.457921          0.0\n",
       "20620560      1    3656     0.0          4.451767          0.0\n",
       "3370320       1     572     0.0          4.438087          0.0"
      ]
     },
     "execution_count": 75,
     "metadata": {},
     "output_type": "execute_result"
    }
   ],
   "source": [
    "temp2 = result_df[result_df['UserId']==\"1\"].sort_values(by='predicted_rating', ascending=False)[:10]\n",
    "temp2.head()"
   ]
  },
  {
   "cell_type": "code",
   "execution_count": 78,
   "metadata": {},
   "outputs": [],
   "source": [
    "temp = pd.read_csv(path+'movies.csv')\n",
    "temp = temp[['movie_id', 'movie']]\n",
    "temp.columns = [\"movieId\",\"title\"]"
   ]
  },
  {
   "cell_type": "code",
   "execution_count": 79,
   "metadata": {},
   "outputs": [
    {
     "data": {
      "text/html": [
       "<div>\n",
       "<style scoped>\n",
       "    .dataframe tbody tr th:only-of-type {\n",
       "        vertical-align: middle;\n",
       "    }\n",
       "\n",
       "    .dataframe tbody tr th {\n",
       "        vertical-align: top;\n",
       "    }\n",
       "\n",
       "    .dataframe thead th {\n",
       "        text-align: right;\n",
       "    }\n",
       "</style>\n",
       "<table border=\"1\" class=\"dataframe\">\n",
       "  <thead>\n",
       "    <tr style=\"text-align: right;\">\n",
       "      <th></th>\n",
       "      <th>movieId</th>\n",
       "      <th>title</th>\n",
       "    </tr>\n",
       "  </thead>\n",
       "  <tbody>\n",
       "    <tr>\n",
       "      <th>0</th>\n",
       "      <td>1</td>\n",
       "      <td>Toy Story (1995)</td>\n",
       "    </tr>\n",
       "    <tr>\n",
       "      <th>1</th>\n",
       "      <td>2</td>\n",
       "      <td>Jumanji (1995)</td>\n",
       "    </tr>\n",
       "    <tr>\n",
       "      <th>2</th>\n",
       "      <td>3</td>\n",
       "      <td>Grumpier Old Men (1995)</td>\n",
       "    </tr>\n",
       "    <tr>\n",
       "      <th>3</th>\n",
       "      <td>4</td>\n",
       "      <td>Waiting to Exhale (1995)</td>\n",
       "    </tr>\n",
       "    <tr>\n",
       "      <th>4</th>\n",
       "      <td>5</td>\n",
       "      <td>Father of the Bride Part II (1995)</td>\n",
       "    </tr>\n",
       "  </tbody>\n",
       "</table>\n",
       "</div>"
      ],
      "text/plain": [
       "   movieId                               title\n",
       "0        1                    Toy Story (1995)\n",
       "1        2                      Jumanji (1995)\n",
       "2        3             Grumpier Old Men (1995)\n",
       "3        4            Waiting to Exhale (1995)\n",
       "4        5  Father of the Bride Part II (1995)"
      ]
     },
     "execution_count": 79,
     "metadata": {},
     "output_type": "execute_result"
    }
   ],
   "source": [
    "temp.head()"
   ]
  },
  {
   "cell_type": "code",
   "execution_count": 80,
   "metadata": {},
   "outputs": [
    {
     "data": {
      "text/html": [
       "<div>\n",
       "<style scoped>\n",
       "    .dataframe tbody tr th:only-of-type {\n",
       "        vertical-align: middle;\n",
       "    }\n",
       "\n",
       "    .dataframe tbody tr th {\n",
       "        vertical-align: top;\n",
       "    }\n",
       "\n",
       "    .dataframe thead th {\n",
       "        text-align: right;\n",
       "    }\n",
       "</style>\n",
       "<table border=\"1\" class=\"dataframe\">\n",
       "  <thead>\n",
       "    <tr style=\"text-align: right;\">\n",
       "      <th></th>\n",
       "      <th>movieId</th>\n",
       "      <th>title</th>\n",
       "    </tr>\n",
       "  </thead>\n",
       "  <tbody>\n",
       "    <tr>\n",
       "      <th>0</th>\n",
       "      <td>1</td>\n",
       "      <td>Toy Story (1995)</td>\n",
       "    </tr>\n",
       "    <tr>\n",
       "      <th>1</th>\n",
       "      <td>2</td>\n",
       "      <td>Jumanji (1995)</td>\n",
       "    </tr>\n",
       "    <tr>\n",
       "      <th>2</th>\n",
       "      <td>3</td>\n",
       "      <td>Grumpier Old Men (1995)</td>\n",
       "    </tr>\n",
       "    <tr>\n",
       "      <th>3</th>\n",
       "      <td>4</td>\n",
       "      <td>Waiting to Exhale (1995)</td>\n",
       "    </tr>\n",
       "    <tr>\n",
       "      <th>4</th>\n",
       "      <td>5</td>\n",
       "      <td>Father of the Bride Part II (1995)</td>\n",
       "    </tr>\n",
       "  </tbody>\n",
       "</table>\n",
       "</div>"
      ],
      "text/plain": [
       "  movieId                               title\n",
       "0       1                    Toy Story (1995)\n",
       "1       2                      Jumanji (1995)\n",
       "2       3             Grumpier Old Men (1995)\n",
       "3       4            Waiting to Exhale (1995)\n",
       "4       5  Father of the Bride Part II (1995)"
      ]
     },
     "execution_count": 80,
     "metadata": {},
     "output_type": "execute_result"
    }
   ],
   "source": [
    "\n",
    "\n",
    "temp[\"movieId\"] = temp[\"movieId\"].astype(str)\n",
    "temp.head()"
   ]
  },
  {
   "cell_type": "code",
   "execution_count": 81,
   "metadata": {},
   "outputs": [],
   "source": [
    "finally_final = final2_df.merge(temp,on=\"movieId\",how=\"left\")"
   ]
  },
  {
   "cell_type": "code",
   "execution_count": 82,
   "metadata": {},
   "outputs": [
    {
     "data": {
      "text/html": [
       "<div>\n",
       "<style scoped>\n",
       "    .dataframe tbody tr th:only-of-type {\n",
       "        vertical-align: middle;\n",
       "    }\n",
       "\n",
       "    .dataframe tbody tr th {\n",
       "        vertical-align: top;\n",
       "    }\n",
       "\n",
       "    .dataframe thead th {\n",
       "        text-align: right;\n",
       "    }\n",
       "</style>\n",
       "<table border=\"1\" class=\"dataframe\">\n",
       "  <thead>\n",
       "    <tr style=\"text-align: right;\">\n",
       "      <th></th>\n",
       "      <th>UserId</th>\n",
       "      <th>movieId</th>\n",
       "      <th>rating</th>\n",
       "      <th>predicted_rating</th>\n",
       "      <th>final_score</th>\n",
       "      <th>title</th>\n",
       "    </tr>\n",
       "  </thead>\n",
       "  <tbody>\n",
       "    <tr>\n",
       "      <th>18149237</th>\n",
       "      <td>4</td>\n",
       "      <td>3382</td>\n",
       "      <td>0.0</td>\n",
       "      <td>5.828967</td>\n",
       "      <td>0.0</td>\n",
       "      <td>Song of Freedom (1936)</td>\n",
       "    </tr>\n",
       "    <tr>\n",
       "      <th>17826455</th>\n",
       "      <td>4</td>\n",
       "      <td>3323</td>\n",
       "      <td>0.0</td>\n",
       "      <td>5.655775</td>\n",
       "      <td>0.0</td>\n",
       "      <td>Chain of Fools (2000)</td>\n",
       "    </tr>\n",
       "    <tr>\n",
       "      <th>12163754</th>\n",
       "      <td>4</td>\n",
       "      <td>2309</td>\n",
       "      <td>0.0</td>\n",
       "      <td>5.565464</td>\n",
       "      <td>0.0</td>\n",
       "      <td>Inheritors, The (Die Siebtelbauern) (1998)</td>\n",
       "    </tr>\n",
       "    <tr>\n",
       "      <th>3214679</th>\n",
       "      <td>4</td>\n",
       "      <td>572</td>\n",
       "      <td>0.0</td>\n",
       "      <td>5.512751</td>\n",
       "      <td>0.0</td>\n",
       "      <td>Foreign Student (1994)</td>\n",
       "    </tr>\n",
       "    <tr>\n",
       "      <th>4637306</th>\n",
       "      <td>4</td>\n",
       "      <td>858</td>\n",
       "      <td>0.0</td>\n",
       "      <td>5.413543</td>\n",
       "      <td>0.0</td>\n",
       "      <td>Godfather, The (1972)</td>\n",
       "    </tr>\n",
       "    <tr>\n",
       "      <th>7534799</th>\n",
       "      <td>4</td>\n",
       "      <td>1420</td>\n",
       "      <td>0.0</td>\n",
       "      <td>5.400049</td>\n",
       "      <td>0.0</td>\n",
       "      <td>Message to Love: The Isle of Wight Festival (1...</td>\n",
       "    </tr>\n",
       "    <tr>\n",
       "      <th>6373878</th>\n",
       "      <td>4</td>\n",
       "      <td>1193</td>\n",
       "      <td>0.0</td>\n",
       "      <td>5.367310</td>\n",
       "      <td>0.0</td>\n",
       "      <td>One Flew Over the Cuckoo's Nest (1975)</td>\n",
       "    </tr>\n",
       "    <tr>\n",
       "      <th>3125062</th>\n",
       "      <td>4</td>\n",
       "      <td>557</td>\n",
       "      <td>0.0</td>\n",
       "      <td>5.341624</td>\n",
       "      <td>0.0</td>\n",
       "      <td>Mamma Roma (1962)</td>\n",
       "    </tr>\n",
       "    <tr>\n",
       "      <th>5351684</th>\n",
       "      <td>4</td>\n",
       "      <td>989</td>\n",
       "      <td>0.0</td>\n",
       "      <td>5.329399</td>\n",
       "      <td>0.0</td>\n",
       "      <td>Schlafes Bruder (Brother of Sleep) (1995)</td>\n",
       "    </tr>\n",
       "    <tr>\n",
       "      <th>10556511</th>\n",
       "      <td>4</td>\n",
       "      <td>2019</td>\n",
       "      <td>0.0</td>\n",
       "      <td>5.303851</td>\n",
       "      <td>0.0</td>\n",
       "      <td>Seven Samurai (The Magnificent Seven) (Shichin...</td>\n",
       "    </tr>\n",
       "  </tbody>\n",
       "</table>\n",
       "</div>"
      ],
      "text/plain": [
       "         UserId movieId  rating  predicted_rating  final_score  \\\n",
       "18149237      4    3382     0.0          5.828967          0.0   \n",
       "17826455      4    3323     0.0          5.655775          0.0   \n",
       "12163754      4    2309     0.0          5.565464          0.0   \n",
       "3214679       4     572     0.0          5.512751          0.0   \n",
       "4637306       4     858     0.0          5.413543          0.0   \n",
       "7534799       4    1420     0.0          5.400049          0.0   \n",
       "6373878       4    1193     0.0          5.367310          0.0   \n",
       "3125062       4     557     0.0          5.341624          0.0   \n",
       "5351684       4     989     0.0          5.329399          0.0   \n",
       "10556511      4    2019     0.0          5.303851          0.0   \n",
       "\n",
       "                                                      title  \n",
       "18149237                             Song of Freedom (1936)  \n",
       "17826455                              Chain of Fools (2000)  \n",
       "12163754         Inheritors, The (Die Siebtelbauern) (1998)  \n",
       "3214679                              Foreign Student (1994)  \n",
       "4637306                               Godfather, The (1972)  \n",
       "7534799   Message to Love: The Isle of Wight Festival (1...  \n",
       "6373878              One Flew Over the Cuckoo's Nest (1975)  \n",
       "3125062                                   Mamma Roma (1962)  \n",
       "5351684           Schlafes Bruder (Brother of Sleep) (1995)  \n",
       "10556511  Seven Samurai (The Magnificent Seven) (Shichin...  "
      ]
     },
     "execution_count": 82,
     "metadata": {},
     "output_type": "execute_result"
    }
   ],
   "source": [
    "finally_final[finally_final['UserId']==\"4\"].sort_values(by='predicted_rating', ascending=False)[:10]"
   ]
  },
  {
   "cell_type": "code",
   "execution_count": 83,
   "metadata": {},
   "outputs": [
    {
     "data": {
      "text/html": [
       "<div>\n",
       "<style scoped>\n",
       "    .dataframe tbody tr th:only-of-type {\n",
       "        vertical-align: middle;\n",
       "    }\n",
       "\n",
       "    .dataframe tbody tr th {\n",
       "        vertical-align: top;\n",
       "    }\n",
       "\n",
       "    .dataframe thead th {\n",
       "        text-align: right;\n",
       "    }\n",
       "</style>\n",
       "<table border=\"1\" class=\"dataframe\">\n",
       "  <thead>\n",
       "    <tr style=\"text-align: right;\">\n",
       "      <th></th>\n",
       "      <th>UserId</th>\n",
       "      <th>movieId</th>\n",
       "      <th>rating</th>\n",
       "      <th>predicted_rating</th>\n",
       "      <th>final_score</th>\n",
       "      <th>title</th>\n",
       "    </tr>\n",
       "  </thead>\n",
       "  <tbody>\n",
       "    <tr>\n",
       "      <th>0</th>\n",
       "      <td>2</td>\n",
       "      <td>1</td>\n",
       "      <td>0.0</td>\n",
       "      <td>4.188920</td>\n",
       "      <td>0.0</td>\n",
       "      <td>Toy Story (1995)</td>\n",
       "    </tr>\n",
       "    <tr>\n",
       "      <th>1</th>\n",
       "      <td>3</td>\n",
       "      <td>1</td>\n",
       "      <td>0.0</td>\n",
       "      <td>4.135676</td>\n",
       "      <td>0.0</td>\n",
       "      <td>Toy Story (1995)</td>\n",
       "    </tr>\n",
       "    <tr>\n",
       "      <th>2</th>\n",
       "      <td>4</td>\n",
       "      <td>1</td>\n",
       "      <td>0.0</td>\n",
       "      <td>4.099411</td>\n",
       "      <td>0.0</td>\n",
       "      <td>Toy Story (1995)</td>\n",
       "    </tr>\n",
       "    <tr>\n",
       "      <th>3</th>\n",
       "      <td>5</td>\n",
       "      <td>1</td>\n",
       "      <td>0.0</td>\n",
       "      <td>3.207650</td>\n",
       "      <td>0.0</td>\n",
       "      <td>Toy Story (1995)</td>\n",
       "    </tr>\n",
       "    <tr>\n",
       "      <th>4</th>\n",
       "      <td>7</td>\n",
       "      <td>1</td>\n",
       "      <td>0.0</td>\n",
       "      <td>4.451700</td>\n",
       "      <td>0.0</td>\n",
       "      <td>Toy Story (1995)</td>\n",
       "    </tr>\n",
       "  </tbody>\n",
       "</table>\n",
       "</div>"
      ],
      "text/plain": [
       "  UserId movieId  rating  predicted_rating  final_score             title\n",
       "0      2       1     0.0          4.188920          0.0  Toy Story (1995)\n",
       "1      3       1     0.0          4.135676          0.0  Toy Story (1995)\n",
       "2      4       1     0.0          4.099411          0.0  Toy Story (1995)\n",
       "3      5       1     0.0          3.207650          0.0  Toy Story (1995)\n",
       "4      7       1     0.0          4.451700          0.0  Toy Story (1995)"
      ]
     },
     "execution_count": 83,
     "metadata": {},
     "output_type": "execute_result"
    }
   ],
   "source": [
    "finally_final.head()"
   ]
  },
  {
   "cell_type": "code",
   "execution_count": 84,
   "metadata": {},
   "outputs": [],
   "source": [
    "finally_final.to_pickle(\"DCN_recommendation_final_result.pkl\")"
   ]
  },
  {
   "cell_type": "code",
   "execution_count": null,
   "metadata": {},
   "outputs": [],
   "source": []
  },
  {
   "cell_type": "code",
   "execution_count": 47,
   "metadata": {},
   "outputs": [],
   "source": [
    "### Experiment with pickle size vs load time tradeoff"
   ]
  },
  {
   "cell_type": "code",
   "execution_count": 85,
   "metadata": {},
   "outputs": [],
   "source": [
    "import pickle\n",
    "import pandas as pd"
   ]
  },
  {
   "cell_type": "code",
   "execution_count": 86,
   "metadata": {},
   "outputs": [],
   "source": [
    "df = pd.read_pickle(\"DCN_recommendation_final_result.pkl\")"
   ]
  },
  {
   "cell_type": "code",
   "execution_count": 87,
   "metadata": {},
   "outputs": [
    {
     "data": {
      "text/html": [
       "<div>\n",
       "<style scoped>\n",
       "    .dataframe tbody tr th:only-of-type {\n",
       "        vertical-align: middle;\n",
       "    }\n",
       "\n",
       "    .dataframe tbody tr th {\n",
       "        vertical-align: top;\n",
       "    }\n",
       "\n",
       "    .dataframe thead th {\n",
       "        text-align: right;\n",
       "    }\n",
       "</style>\n",
       "<table border=\"1\" class=\"dataframe\">\n",
       "  <thead>\n",
       "    <tr style=\"text-align: right;\">\n",
       "      <th></th>\n",
       "      <th>UserId</th>\n",
       "      <th>movieId</th>\n",
       "      <th>rating</th>\n",
       "      <th>predicted_rating</th>\n",
       "      <th>final_score</th>\n",
       "      <th>title</th>\n",
       "    </tr>\n",
       "  </thead>\n",
       "  <tbody>\n",
       "    <tr>\n",
       "      <th>0</th>\n",
       "      <td>2</td>\n",
       "      <td>1</td>\n",
       "      <td>0.0</td>\n",
       "      <td>4.188920</td>\n",
       "      <td>0.0</td>\n",
       "      <td>Toy Story (1995)</td>\n",
       "    </tr>\n",
       "    <tr>\n",
       "      <th>1</th>\n",
       "      <td>3</td>\n",
       "      <td>1</td>\n",
       "      <td>0.0</td>\n",
       "      <td>4.135676</td>\n",
       "      <td>0.0</td>\n",
       "      <td>Toy Story (1995)</td>\n",
       "    </tr>\n",
       "    <tr>\n",
       "      <th>2</th>\n",
       "      <td>4</td>\n",
       "      <td>1</td>\n",
       "      <td>0.0</td>\n",
       "      <td>4.099411</td>\n",
       "      <td>0.0</td>\n",
       "      <td>Toy Story (1995)</td>\n",
       "    </tr>\n",
       "    <tr>\n",
       "      <th>3</th>\n",
       "      <td>5</td>\n",
       "      <td>1</td>\n",
       "      <td>0.0</td>\n",
       "      <td>3.207650</td>\n",
       "      <td>0.0</td>\n",
       "      <td>Toy Story (1995)</td>\n",
       "    </tr>\n",
       "    <tr>\n",
       "      <th>4</th>\n",
       "      <td>7</td>\n",
       "      <td>1</td>\n",
       "      <td>0.0</td>\n",
       "      <td>4.451700</td>\n",
       "      <td>0.0</td>\n",
       "      <td>Toy Story (1995)</td>\n",
       "    </tr>\n",
       "  </tbody>\n",
       "</table>\n",
       "</div>"
      ],
      "text/plain": [
       "  UserId movieId  rating  predicted_rating  final_score             title\n",
       "0      2       1     0.0          4.188920          0.0  Toy Story (1995)\n",
       "1      3       1     0.0          4.135676          0.0  Toy Story (1995)\n",
       "2      4       1     0.0          4.099411          0.0  Toy Story (1995)\n",
       "3      5       1     0.0          3.207650          0.0  Toy Story (1995)\n",
       "4      7       1     0.0          4.451700          0.0  Toy Story (1995)"
      ]
     },
     "execution_count": 87,
     "metadata": {},
     "output_type": "execute_result"
    }
   ],
   "source": [
    "df.head()"
   ]
  },
  {
   "cell_type": "code",
   "execution_count": 88,
   "metadata": {},
   "outputs": [
    {
     "data": {
      "text/html": [
       "<div>\n",
       "<style scoped>\n",
       "    .dataframe tbody tr th:only-of-type {\n",
       "        vertical-align: middle;\n",
       "    }\n",
       "\n",
       "    .dataframe tbody tr th {\n",
       "        vertical-align: top;\n",
       "    }\n",
       "\n",
       "    .dataframe thead th {\n",
       "        text-align: right;\n",
       "    }\n",
       "</style>\n",
       "<table border=\"1\" class=\"dataframe\">\n",
       "  <thead>\n",
       "    <tr style=\"text-align: right;\">\n",
       "      <th></th>\n",
       "      <th>UserId</th>\n",
       "      <th>movieId</th>\n",
       "      <th>rating</th>\n",
       "      <th>predicted_rating</th>\n",
       "      <th>final_score</th>\n",
       "      <th>title</th>\n",
       "    </tr>\n",
       "  </thead>\n",
       "  <tbody>\n",
       "    <tr>\n",
       "      <th>21384026</th>\n",
       "      <td>6036</td>\n",
       "      <td>3952</td>\n",
       "      <td>0.0</td>\n",
       "      <td>3.557695</td>\n",
       "      <td>0.0</td>\n",
       "      <td>Contender, The (2000)</td>\n",
       "    </tr>\n",
       "    <tr>\n",
       "      <th>21384027</th>\n",
       "      <td>6037</td>\n",
       "      <td>3952</td>\n",
       "      <td>0.0</td>\n",
       "      <td>3.590288</td>\n",
       "      <td>0.0</td>\n",
       "      <td>Contender, The (2000)</td>\n",
       "    </tr>\n",
       "    <tr>\n",
       "      <th>21384028</th>\n",
       "      <td>6038</td>\n",
       "      <td>3952</td>\n",
       "      <td>0.0</td>\n",
       "      <td>3.264860</td>\n",
       "      <td>0.0</td>\n",
       "      <td>Contender, The (2000)</td>\n",
       "    </tr>\n",
       "    <tr>\n",
       "      <th>21384029</th>\n",
       "      <td>6039</td>\n",
       "      <td>3952</td>\n",
       "      <td>0.0</td>\n",
       "      <td>3.738785</td>\n",
       "      <td>0.0</td>\n",
       "      <td>Contender, The (2000)</td>\n",
       "    </tr>\n",
       "    <tr>\n",
       "      <th>21384030</th>\n",
       "      <td>6040</td>\n",
       "      <td>3952</td>\n",
       "      <td>0.0</td>\n",
       "      <td>3.186039</td>\n",
       "      <td>0.0</td>\n",
       "      <td>Contender, The (2000)</td>\n",
       "    </tr>\n",
       "  </tbody>\n",
       "</table>\n",
       "</div>"
      ],
      "text/plain": [
       "         UserId movieId  rating  predicted_rating  final_score  \\\n",
       "21384026   6036    3952     0.0          3.557695          0.0   \n",
       "21384027   6037    3952     0.0          3.590288          0.0   \n",
       "21384028   6038    3952     0.0          3.264860          0.0   \n",
       "21384029   6039    3952     0.0          3.738785          0.0   \n",
       "21384030   6040    3952     0.0          3.186039          0.0   \n",
       "\n",
       "                          title  \n",
       "21384026  Contender, The (2000)  \n",
       "21384027  Contender, The (2000)  \n",
       "21384028  Contender, The (2000)  \n",
       "21384029  Contender, The (2000)  \n",
       "21384030  Contender, The (2000)  "
      ]
     },
     "execution_count": 88,
     "metadata": {},
     "output_type": "execute_result"
    }
   ],
   "source": [
    "df.tail()"
   ]
  },
  {
   "cell_type": "code",
   "execution_count": 90,
   "metadata": {},
   "outputs": [
    {
     "data": {
      "text/plain": [
       "(21384031, 6)"
      ]
     },
     "execution_count": 90,
     "metadata": {},
     "output_type": "execute_result"
    }
   ],
   "source": [
    "df.shape"
   ]
  },
  {
   "cell_type": "code",
   "execution_count": 91,
   "metadata": {},
   "outputs": [
    {
     "data": {
      "text/plain": [
       "array([0.])"
      ]
     },
     "execution_count": 91,
     "metadata": {},
     "output_type": "execute_result"
    }
   ],
   "source": [
    "df.rating.unique()"
   ]
  },
  {
   "cell_type": "code",
   "execution_count": 92,
   "metadata": {},
   "outputs": [
    {
     "data": {
      "text/plain": [
       "array([0.])"
      ]
     },
     "execution_count": 92,
     "metadata": {},
     "output_type": "execute_result"
    }
   ],
   "source": [
    "df.final_score.unique()"
   ]
  },
  {
   "cell_type": "code",
   "execution_count": 93,
   "metadata": {},
   "outputs": [],
   "source": [
    "df_copy = df[['UserId','movieId','title','predicted_rating']]"
   ]
  },
  {
   "cell_type": "code",
   "execution_count": 94,
   "metadata": {},
   "outputs": [
    {
     "data": {
      "text/plain": [
       "(21384031, 4)"
      ]
     },
     "execution_count": 94,
     "metadata": {},
     "output_type": "execute_result"
    }
   ],
   "source": [
    "df_copy.shape"
   ]
  },
  {
   "cell_type": "code",
   "execution_count": 23,
   "metadata": {},
   "outputs": [
    {
     "data": {
      "text/html": [
       "<div>\n",
       "<style scoped>\n",
       "    .dataframe tbody tr th:only-of-type {\n",
       "        vertical-align: middle;\n",
       "    }\n",
       "\n",
       "    .dataframe tbody tr th {\n",
       "        vertical-align: top;\n",
       "    }\n",
       "\n",
       "    .dataframe thead th {\n",
       "        text-align: right;\n",
       "    }\n",
       "</style>\n",
       "<table border=\"1\" class=\"dataframe\">\n",
       "  <thead>\n",
       "    <tr style=\"text-align: right;\">\n",
       "      <th></th>\n",
       "      <th>UserId</th>\n",
       "      <th>movieId</th>\n",
       "      <th>title</th>\n",
       "      <th>predicted_rating</th>\n",
       "    </tr>\n",
       "  </thead>\n",
       "  <tbody>\n",
       "    <tr>\n",
       "      <th>0</th>\n",
       "      <td>1</td>\n",
       "      <td>1</td>\n",
       "      <td>Toy Story (1995)</td>\n",
       "      <td>3.978767</td>\n",
       "    </tr>\n",
       "    <tr>\n",
       "      <th>1</th>\n",
       "      <td>2</td>\n",
       "      <td>1</td>\n",
       "      <td>Toy Story (1995)</td>\n",
       "      <td>4.025431</td>\n",
       "    </tr>\n",
       "    <tr>\n",
       "      <th>2</th>\n",
       "      <td>3</td>\n",
       "      <td>1</td>\n",
       "      <td>Toy Story (1995)</td>\n",
       "      <td>3.802837</td>\n",
       "    </tr>\n",
       "    <tr>\n",
       "      <th>3</th>\n",
       "      <td>4</td>\n",
       "      <td>1</td>\n",
       "      <td>Toy Story (1995)</td>\n",
       "      <td>4.488400</td>\n",
       "    </tr>\n",
       "    <tr>\n",
       "      <th>4</th>\n",
       "      <td>5</td>\n",
       "      <td>1</td>\n",
       "      <td>Toy Story (1995)</td>\n",
       "      <td>3.694322</td>\n",
       "    </tr>\n",
       "  </tbody>\n",
       "</table>\n",
       "</div>"
      ],
      "text/plain": [
       "  UserId movieId             title  predicted_rating\n",
       "0      1       1  Toy Story (1995)          3.978767\n",
       "1      2       1  Toy Story (1995)          4.025431\n",
       "2      3       1  Toy Story (1995)          3.802837\n",
       "3      4       1  Toy Story (1995)          4.488400\n",
       "4      5       1  Toy Story (1995)          3.694322"
      ]
     },
     "execution_count": 23,
     "metadata": {},
     "output_type": "execute_result"
    }
   ],
   "source": [
    "df_copy.head()"
   ]
  },
  {
   "cell_type": "code",
   "execution_count": 95,
   "metadata": {},
   "outputs": [
    {
     "data": {
      "text/html": [
       "<div>\n",
       "<style scoped>\n",
       "    .dataframe tbody tr th:only-of-type {\n",
       "        vertical-align: middle;\n",
       "    }\n",
       "\n",
       "    .dataframe tbody tr th {\n",
       "        vertical-align: top;\n",
       "    }\n",
       "\n",
       "    .dataframe thead th {\n",
       "        text-align: right;\n",
       "    }\n",
       "</style>\n",
       "<table border=\"1\" class=\"dataframe\">\n",
       "  <thead>\n",
       "    <tr style=\"text-align: right;\">\n",
       "      <th></th>\n",
       "      <th>UserId</th>\n",
       "      <th>movieId</th>\n",
       "      <th>title</th>\n",
       "      <th>predicted_rating</th>\n",
       "    </tr>\n",
       "  </thead>\n",
       "  <tbody>\n",
       "    <tr>\n",
       "      <th>21384026</th>\n",
       "      <td>6036</td>\n",
       "      <td>3952</td>\n",
       "      <td>Contender, The (2000)</td>\n",
       "      <td>3.557695</td>\n",
       "    </tr>\n",
       "    <tr>\n",
       "      <th>21384027</th>\n",
       "      <td>6037</td>\n",
       "      <td>3952</td>\n",
       "      <td>Contender, The (2000)</td>\n",
       "      <td>3.590288</td>\n",
       "    </tr>\n",
       "    <tr>\n",
       "      <th>21384028</th>\n",
       "      <td>6038</td>\n",
       "      <td>3952</td>\n",
       "      <td>Contender, The (2000)</td>\n",
       "      <td>3.264860</td>\n",
       "    </tr>\n",
       "    <tr>\n",
       "      <th>21384029</th>\n",
       "      <td>6039</td>\n",
       "      <td>3952</td>\n",
       "      <td>Contender, The (2000)</td>\n",
       "      <td>3.738785</td>\n",
       "    </tr>\n",
       "    <tr>\n",
       "      <th>21384030</th>\n",
       "      <td>6040</td>\n",
       "      <td>3952</td>\n",
       "      <td>Contender, The (2000)</td>\n",
       "      <td>3.186039</td>\n",
       "    </tr>\n",
       "  </tbody>\n",
       "</table>\n",
       "</div>"
      ],
      "text/plain": [
       "         UserId movieId                  title  predicted_rating\n",
       "21384026   6036    3952  Contender, The (2000)          3.557695\n",
       "21384027   6037    3952  Contender, The (2000)          3.590288\n",
       "21384028   6038    3952  Contender, The (2000)          3.264860\n",
       "21384029   6039    3952  Contender, The (2000)          3.738785\n",
       "21384030   6040    3952  Contender, The (2000)          3.186039"
      ]
     },
     "execution_count": 95,
     "metadata": {},
     "output_type": "execute_result"
    }
   ],
   "source": [
    "df_copy.tail()"
   ]
  },
  {
   "cell_type": "code",
   "execution_count": 96,
   "metadata": {},
   "outputs": [],
   "source": [
    "df_copy.to_pickle('dcn_reco_df.pickle') "
   ]
  },
  {
   "cell_type": "code",
   "execution_count": 97,
   "metadata": {},
   "outputs": [
    {
     "name": "stdout",
     "output_type": "stream",
     "text": [
      "CPU times: user 3.48 s, sys: 2.2 s, total: 5.68 s\n",
      "Wall time: 6.08 s\n"
     ]
    }
   ],
   "source": [
    "%%time\n",
    "reco_df = pd.read_pickle(\"dcn_reco_df.pickle\")   #size 195 MB"
   ]
  },
  {
   "cell_type": "code",
   "execution_count": 98,
   "metadata": {},
   "outputs": [
    {
     "data": {
      "text/html": [
       "<div>\n",
       "<style scoped>\n",
       "    .dataframe tbody tr th:only-of-type {\n",
       "        vertical-align: middle;\n",
       "    }\n",
       "\n",
       "    .dataframe tbody tr th {\n",
       "        vertical-align: top;\n",
       "    }\n",
       "\n",
       "    .dataframe thead th {\n",
       "        text-align: right;\n",
       "    }\n",
       "</style>\n",
       "<table border=\"1\" class=\"dataframe\">\n",
       "  <thead>\n",
       "    <tr style=\"text-align: right;\">\n",
       "      <th></th>\n",
       "      <th>UserId</th>\n",
       "      <th>movieId</th>\n",
       "      <th>title</th>\n",
       "      <th>predicted_rating</th>\n",
       "    </tr>\n",
       "  </thead>\n",
       "  <tbody>\n",
       "    <tr>\n",
       "      <th>0</th>\n",
       "      <td>2</td>\n",
       "      <td>1</td>\n",
       "      <td>Toy Story (1995)</td>\n",
       "      <td>4.188920</td>\n",
       "    </tr>\n",
       "    <tr>\n",
       "      <th>1</th>\n",
       "      <td>3</td>\n",
       "      <td>1</td>\n",
       "      <td>Toy Story (1995)</td>\n",
       "      <td>4.135676</td>\n",
       "    </tr>\n",
       "    <tr>\n",
       "      <th>2</th>\n",
       "      <td>4</td>\n",
       "      <td>1</td>\n",
       "      <td>Toy Story (1995)</td>\n",
       "      <td>4.099411</td>\n",
       "    </tr>\n",
       "    <tr>\n",
       "      <th>3</th>\n",
       "      <td>5</td>\n",
       "      <td>1</td>\n",
       "      <td>Toy Story (1995)</td>\n",
       "      <td>3.207650</td>\n",
       "    </tr>\n",
       "    <tr>\n",
       "      <th>4</th>\n",
       "      <td>7</td>\n",
       "      <td>1</td>\n",
       "      <td>Toy Story (1995)</td>\n",
       "      <td>4.451700</td>\n",
       "    </tr>\n",
       "  </tbody>\n",
       "</table>\n",
       "</div>"
      ],
      "text/plain": [
       "  UserId movieId             title  predicted_rating\n",
       "0      2       1  Toy Story (1995)          4.188920\n",
       "1      3       1  Toy Story (1995)          4.135676\n",
       "2      4       1  Toy Story (1995)          4.099411\n",
       "3      5       1  Toy Story (1995)          3.207650\n",
       "4      7       1  Toy Story (1995)          4.451700"
      ]
     },
     "execution_count": 98,
     "metadata": {},
     "output_type": "execute_result"
    }
   ],
   "source": [
    "reco_df.head()"
   ]
  },
  {
   "cell_type": "code",
   "execution_count": 99,
   "metadata": {},
   "outputs": [
    {
     "data": {
      "text/html": [
       "<div>\n",
       "<style scoped>\n",
       "    .dataframe tbody tr th:only-of-type {\n",
       "        vertical-align: middle;\n",
       "    }\n",
       "\n",
       "    .dataframe tbody tr th {\n",
       "        vertical-align: top;\n",
       "    }\n",
       "\n",
       "    .dataframe thead th {\n",
       "        text-align: right;\n",
       "    }\n",
       "</style>\n",
       "<table border=\"1\" class=\"dataframe\">\n",
       "  <thead>\n",
       "    <tr style=\"text-align: right;\">\n",
       "      <th></th>\n",
       "      <th>UserId</th>\n",
       "      <th>movieId</th>\n",
       "      <th>title</th>\n",
       "      <th>predicted_rating</th>\n",
       "    </tr>\n",
       "  </thead>\n",
       "  <tbody>\n",
       "    <tr>\n",
       "      <th>21384026</th>\n",
       "      <td>6036</td>\n",
       "      <td>3952</td>\n",
       "      <td>Contender, The (2000)</td>\n",
       "      <td>3.557695</td>\n",
       "    </tr>\n",
       "    <tr>\n",
       "      <th>21384027</th>\n",
       "      <td>6037</td>\n",
       "      <td>3952</td>\n",
       "      <td>Contender, The (2000)</td>\n",
       "      <td>3.590288</td>\n",
       "    </tr>\n",
       "    <tr>\n",
       "      <th>21384028</th>\n",
       "      <td>6038</td>\n",
       "      <td>3952</td>\n",
       "      <td>Contender, The (2000)</td>\n",
       "      <td>3.264860</td>\n",
       "    </tr>\n",
       "    <tr>\n",
       "      <th>21384029</th>\n",
       "      <td>6039</td>\n",
       "      <td>3952</td>\n",
       "      <td>Contender, The (2000)</td>\n",
       "      <td>3.738785</td>\n",
       "    </tr>\n",
       "    <tr>\n",
       "      <th>21384030</th>\n",
       "      <td>6040</td>\n",
       "      <td>3952</td>\n",
       "      <td>Contender, The (2000)</td>\n",
       "      <td>3.186039</td>\n",
       "    </tr>\n",
       "  </tbody>\n",
       "</table>\n",
       "</div>"
      ],
      "text/plain": [
       "         UserId movieId                  title  predicted_rating\n",
       "21384026   6036    3952  Contender, The (2000)          3.557695\n",
       "21384027   6037    3952  Contender, The (2000)          3.590288\n",
       "21384028   6038    3952  Contender, The (2000)          3.264860\n",
       "21384029   6039    3952  Contender, The (2000)          3.738785\n",
       "21384030   6040    3952  Contender, The (2000)          3.186039"
      ]
     },
     "execution_count": 99,
     "metadata": {},
     "output_type": "execute_result"
    }
   ],
   "source": [
    "reco_df.tail()"
   ]
  },
  {
   "cell_type": "code",
   "execution_count": 100,
   "metadata": {},
   "outputs": [],
   "source": [
    "# https://betterprogramming.pub/load-fast-load-big-with-compressed-pickles-5f311584507e"
   ]
  },
  {
   "cell_type": "code",
   "execution_count": 101,
   "metadata": {},
   "outputs": [],
   "source": [
    "import bz2\n",
    "import _pickle as cPickle"
   ]
  },
  {
   "cell_type": "code",
   "execution_count": 102,
   "metadata": {},
   "outputs": [],
   "source": [
    "# Pickle a file and then compress it into a file with extension \n",
    "def compressed_pickle(title, data):\n",
    "     with bz2.BZ2File(title + '.pbz2', 'w') as f:\n",
    "            cPickle.dump(data, f)"
   ]
  },
  {
   "cell_type": "code",
   "execution_count": 103,
   "metadata": {},
   "outputs": [],
   "source": [
    "# Load any compressed pickle file\n",
    "def decompress_pickle(file):\n",
    "     data = bz2.BZ2File(file, 'rb')\n",
    "     data = cPickle.load(data)\n",
    "     return data"
   ]
  },
  {
   "cell_type": "code",
   "execution_count": 104,
   "metadata": {},
   "outputs": [],
   "source": [
    "compressed_pickle('dcn_reco_df', df_copy) "
   ]
  },
  {
   "cell_type": "code",
   "execution_count": 105,
   "metadata": {},
   "outputs": [
    {
     "name": "stdout",
     "output_type": "stream",
     "text": [
      "CPU times: user 36.8 s, sys: 1.49 s, total: 38.2 s\n",
      "Wall time: 40.5 s\n"
     ]
    }
   ],
   "source": [
    "%%time\n",
    "dcn_reco_df = decompress_pickle('dcn_reco_df.pbz2')  # Size 27.5MB "
   ]
  },
  {
   "cell_type": "code",
   "execution_count": 106,
   "metadata": {},
   "outputs": [
    {
     "data": {
      "text/html": [
       "<div>\n",
       "<style scoped>\n",
       "    .dataframe tbody tr th:only-of-type {\n",
       "        vertical-align: middle;\n",
       "    }\n",
       "\n",
       "    .dataframe tbody tr th {\n",
       "        vertical-align: top;\n",
       "    }\n",
       "\n",
       "    .dataframe thead th {\n",
       "        text-align: right;\n",
       "    }\n",
       "</style>\n",
       "<table border=\"1\" class=\"dataframe\">\n",
       "  <thead>\n",
       "    <tr style=\"text-align: right;\">\n",
       "      <th></th>\n",
       "      <th>UserId</th>\n",
       "      <th>movieId</th>\n",
       "      <th>title</th>\n",
       "      <th>predicted_rating</th>\n",
       "    </tr>\n",
       "  </thead>\n",
       "  <tbody>\n",
       "    <tr>\n",
       "      <th>0</th>\n",
       "      <td>2</td>\n",
       "      <td>1</td>\n",
       "      <td>Toy Story (1995)</td>\n",
       "      <td>4.188920</td>\n",
       "    </tr>\n",
       "    <tr>\n",
       "      <th>1</th>\n",
       "      <td>3</td>\n",
       "      <td>1</td>\n",
       "      <td>Toy Story (1995)</td>\n",
       "      <td>4.135676</td>\n",
       "    </tr>\n",
       "    <tr>\n",
       "      <th>2</th>\n",
       "      <td>4</td>\n",
       "      <td>1</td>\n",
       "      <td>Toy Story (1995)</td>\n",
       "      <td>4.099411</td>\n",
       "    </tr>\n",
       "    <tr>\n",
       "      <th>3</th>\n",
       "      <td>5</td>\n",
       "      <td>1</td>\n",
       "      <td>Toy Story (1995)</td>\n",
       "      <td>3.207650</td>\n",
       "    </tr>\n",
       "    <tr>\n",
       "      <th>4</th>\n",
       "      <td>7</td>\n",
       "      <td>1</td>\n",
       "      <td>Toy Story (1995)</td>\n",
       "      <td>4.451700</td>\n",
       "    </tr>\n",
       "  </tbody>\n",
       "</table>\n",
       "</div>"
      ],
      "text/plain": [
       "  UserId movieId             title  predicted_rating\n",
       "0      2       1  Toy Story (1995)          4.188920\n",
       "1      3       1  Toy Story (1995)          4.135676\n",
       "2      4       1  Toy Story (1995)          4.099411\n",
       "3      5       1  Toy Story (1995)          3.207650\n",
       "4      7       1  Toy Story (1995)          4.451700"
      ]
     },
     "execution_count": 106,
     "metadata": {},
     "output_type": "execute_result"
    }
   ],
   "source": [
    "dcn_reco_df.head()"
   ]
  },
  {
   "cell_type": "code",
   "execution_count": 107,
   "metadata": {},
   "outputs": [
    {
     "data": {
      "text/html": [
       "<div>\n",
       "<style scoped>\n",
       "    .dataframe tbody tr th:only-of-type {\n",
       "        vertical-align: middle;\n",
       "    }\n",
       "\n",
       "    .dataframe tbody tr th {\n",
       "        vertical-align: top;\n",
       "    }\n",
       "\n",
       "    .dataframe thead th {\n",
       "        text-align: right;\n",
       "    }\n",
       "</style>\n",
       "<table border=\"1\" class=\"dataframe\">\n",
       "  <thead>\n",
       "    <tr style=\"text-align: right;\">\n",
       "      <th></th>\n",
       "      <th>UserId</th>\n",
       "      <th>movieId</th>\n",
       "      <th>title</th>\n",
       "      <th>predicted_rating</th>\n",
       "    </tr>\n",
       "  </thead>\n",
       "  <tbody>\n",
       "    <tr>\n",
       "      <th>21384026</th>\n",
       "      <td>6036</td>\n",
       "      <td>3952</td>\n",
       "      <td>Contender, The (2000)</td>\n",
       "      <td>3.557695</td>\n",
       "    </tr>\n",
       "    <tr>\n",
       "      <th>21384027</th>\n",
       "      <td>6037</td>\n",
       "      <td>3952</td>\n",
       "      <td>Contender, The (2000)</td>\n",
       "      <td>3.590288</td>\n",
       "    </tr>\n",
       "    <tr>\n",
       "      <th>21384028</th>\n",
       "      <td>6038</td>\n",
       "      <td>3952</td>\n",
       "      <td>Contender, The (2000)</td>\n",
       "      <td>3.264860</td>\n",
       "    </tr>\n",
       "    <tr>\n",
       "      <th>21384029</th>\n",
       "      <td>6039</td>\n",
       "      <td>3952</td>\n",
       "      <td>Contender, The (2000)</td>\n",
       "      <td>3.738785</td>\n",
       "    </tr>\n",
       "    <tr>\n",
       "      <th>21384030</th>\n",
       "      <td>6040</td>\n",
       "      <td>3952</td>\n",
       "      <td>Contender, The (2000)</td>\n",
       "      <td>3.186039</td>\n",
       "    </tr>\n",
       "  </tbody>\n",
       "</table>\n",
       "</div>"
      ],
      "text/plain": [
       "         UserId movieId                  title  predicted_rating\n",
       "21384026   6036    3952  Contender, The (2000)          3.557695\n",
       "21384027   6037    3952  Contender, The (2000)          3.590288\n",
       "21384028   6038    3952  Contender, The (2000)          3.264860\n",
       "21384029   6039    3952  Contender, The (2000)          3.738785\n",
       "21384030   6040    3952  Contender, The (2000)          3.186039"
      ]
     },
     "execution_count": 107,
     "metadata": {},
     "output_type": "execute_result"
    }
   ],
   "source": [
    "dcn_reco_df.tail()"
   ]
  },
  {
   "cell_type": "code",
   "execution_count": null,
   "metadata": {},
   "outputs": [],
   "source": []
  },
  {
   "cell_type": "code",
   "execution_count": 108,
   "metadata": {},
   "outputs": [],
   "source": [
    "# Saves the \"data\" with the \"title\" and adds the .pickle\n",
    "def full_pickle(title, data):\n",
    "    pikd = open(title + '.pickle', 'wb')\n",
    "    pickle.dump(data, pikd,protocol=pickle.HIGHEST_PROTOCOL)\n",
    "    pikd.close()"
   ]
  },
  {
   "cell_type": "code",
   "execution_count": 109,
   "metadata": {},
   "outputs": [],
   "source": [
    "# loads and returns a pickled objects\n",
    "def loosen(file):\n",
    "    pikd = open(file, 'rb')\n",
    "    data = pickle.load(pikd)\n",
    "    pikd.close()\n",
    "    return data"
   ]
  },
  {
   "cell_type": "code",
   "execution_count": 54,
   "metadata": {},
   "outputs": [],
   "source": [
    "full_pickle('dcn_reco_df_v2', df_copy)"
   ]
  },
  {
   "cell_type": "code",
   "execution_count": 55,
   "metadata": {},
   "outputs": [
    {
     "name": "stdout",
     "output_type": "stream",
     "text": [
      "CPU times: user 1.64 s, sys: 532 ms, total: 2.17 s\n",
      "Wall time: 2.17 s\n"
     ]
    }
   ],
   "source": [
    "%%time\n",
    "dcn_reco_df_v2 = loosen('dcn_reco_df_v2.pickle')   # 195 MB size"
   ]
  },
  {
   "cell_type": "code",
   "execution_count": null,
   "metadata": {},
   "outputs": [],
   "source": []
  },
  {
   "cell_type": "code",
   "execution_count": 49,
   "metadata": {},
   "outputs": [
    {
     "name": "stdout",
     "output_type": "stream",
     "text": [
      "CPU times: user 41.1 s, sys: 632 ms, total: 41.7 s\n",
      "Wall time: 41.7 s\n"
     ]
    }
   ],
   "source": [
    "%%time\n",
    "df_dict = df_copy.to_dict(orient='records')"
   ]
  },
  {
   "cell_type": "code",
   "execution_count": 57,
   "metadata": {
    "scrolled": true
   },
   "outputs": [
    {
     "data": {
      "text/plain": [
       "[{'UserId': '1',\n",
       "  'movieId': '1',\n",
       "  'title': 'Toy Story (1995)',\n",
       "  'predicted_rating': 3.978767156600952},\n",
       " {'UserId': '2',\n",
       "  'movieId': '1',\n",
       "  'title': 'Toy Story (1995)',\n",
       "  'predicted_rating': 4.025431156158447},\n",
       " {'UserId': '3',\n",
       "  'movieId': '1',\n",
       "  'title': 'Toy Story (1995)',\n",
       "  'predicted_rating': 3.8028371334075928},\n",
       " {'UserId': '4',\n",
       "  'movieId': '1',\n",
       "  'title': 'Toy Story (1995)',\n",
       "  'predicted_rating': 4.488399982452393},\n",
       " {'UserId': '5',\n",
       "  'movieId': '1',\n",
       "  'title': 'Toy Story (1995)',\n",
       "  'predicted_rating': 3.694321632385254}]"
      ]
     },
     "execution_count": 57,
     "metadata": {},
     "output_type": "execute_result"
    }
   ],
   "source": [
    "df_dict[:5]"
   ]
  },
  {
   "cell_type": "code",
   "execution_count": 61,
   "metadata": {},
   "outputs": [],
   "source": [
    "full_pickle('dcn_reco_dict_list', df_dict)"
   ]
  },
  {
   "cell_type": "code",
   "execution_count": 62,
   "metadata": {},
   "outputs": [
    {
     "name": "stdout",
     "output_type": "stream",
     "text": [
      "CPU times: user 3.48 s, sys: 983 ms, total: 4.46 s\n",
      "Wall time: 4.47 s\n"
     ]
    }
   ],
   "source": [
    "%%time\n",
    "dcn_reco_dict = loosen('dcn_reco_dict_list.pickle')   # 224 MB size"
   ]
  },
  {
   "cell_type": "code",
   "execution_count": null,
   "metadata": {},
   "outputs": [],
   "source": []
  },
  {
   "cell_type": "code",
   "execution_count": 110,
   "metadata": {},
   "outputs": [],
   "source": [
    "# Prediction"
   ]
  },
  {
   "cell_type": "code",
   "execution_count": 111,
   "metadata": {},
   "outputs": [],
   "source": [
    "import pickle\n",
    "import pandas as pd"
   ]
  },
  {
   "cell_type": "code",
   "execution_count": 112,
   "metadata": {},
   "outputs": [
    {
     "name": "stdout",
     "output_type": "stream",
     "text": [
      "CPU times: user 3.5 s, sys: 2.29 s, total: 5.79 s\n",
      "Wall time: 6.35 s\n"
     ]
    }
   ],
   "source": [
    "%%time\n",
    "df_reco_df = pd.read_pickle(\"dcn_reco_df.pickle\")"
   ]
  },
  {
   "cell_type": "code",
   "execution_count": 113,
   "metadata": {},
   "outputs": [],
   "source": [
    "def recommend(userid,n):\n",
    "    reco_df = df_reco_df[df_reco_df['UserId']==str(userid)].sort_values(by='predicted_rating', ascending=False)[:n]\n",
    "    reco_df['score_normalized'] = (reco_df['predicted_rating']-min(reco_df['predicted_rating']))/(max(reco_df['predicted_rating'])-min(reco_df['predicted_rating']))\n",
    "    return_dict = {}\n",
    "    reco_list_dict = reco_df[['movieId','title']].to_dict(orient='records')\n",
    "    for i in range(n):\n",
    "        return_dict.update({i+1 : reco_list_dict[i]})\n",
    "    return return_dict"
   ]
  },
  {
   "cell_type": "code",
   "execution_count": 114,
   "metadata": {},
   "outputs": [
    {
     "name": "stdout",
     "output_type": "stream",
     "text": [
      "CPU times: user 817 ms, sys: 622 µs, total: 818 ms\n",
      "Wall time: 930 ms\n"
     ]
    }
   ],
   "source": [
    "%%time\n",
    "rec_dict = recommend(4,5)"
   ]
  },
  {
   "cell_type": "code",
   "execution_count": 115,
   "metadata": {},
   "outputs": [
    {
     "name": "stdout",
     "output_type": "stream",
     "text": [
      "{1: {'movieId': '3382', 'title': 'Song of Freedom (1936)'}, 2: {'movieId': '3323', 'title': 'Chain of Fools (2000)'}, 3: {'movieId': '2309', 'title': 'Inheritors, The (Die Siebtelbauern) (1998)'}, 4: {'movieId': '572', 'title': 'Foreign Student (1994)'}, 5: {'movieId': '858', 'title': 'Godfather, The (1972)'}}\n"
     ]
    }
   ],
   "source": [
    "print(rec_dict)"
   ]
  },
  {
   "cell_type": "code",
   "execution_count": null,
   "metadata": {},
   "outputs": [],
   "source": []
  }
 ],
 "metadata": {
  "accelerator": "TPU",
  "colab": {
   "collapsed_sections": [],
   "name": "dcn.ipynb",
   "private_outputs": true,
   "provenance": []
  },
  "kernelspec": {
   "display_name": "conda_python3",
   "language": "python",
   "name": "conda_python3"
  },
  "language_info": {
   "codemirror_mode": {
    "name": "ipython",
    "version": 3
   },
   "file_extension": ".py",
   "mimetype": "text/x-python",
   "name": "python",
   "nbconvert_exporter": "python",
   "pygments_lexer": "ipython3",
   "version": "3.6.13"
  }
 },
 "nbformat": 4,
 "nbformat_minor": 4
}
